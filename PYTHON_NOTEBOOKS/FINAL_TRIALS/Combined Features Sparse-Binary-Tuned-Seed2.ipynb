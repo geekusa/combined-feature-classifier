{
 "cells": [
  {
   "cell_type": "code",
   "execution_count": 1,
   "metadata": {},
   "outputs": [],
   "source": [
    "import os\n",
    "import email\n",
    "import re\n",
    "import mailparser\n",
    "import random\n",
    "import spacy\n",
    "import string\n",
    "import numpy as np\n",
    "import pandas as pd\n",
    "import matplotlib.pyplot as plt\n",
    "from time import time\n",
    "from bs4 import BeautifulSoup\n",
    "from tld import get_tld\n",
    "from time import strftime, strptime, time\n",
    "from sklearn.model_selection import train_test_split\n",
    "from sklearn.metrics import f1_score, confusion_matrix, roc_curve, auc, recall_score\n",
    "from itertools import product\n",
    "from sklearn.preprocessing import label_binarize\n",
    "from sklearn import preprocessing\n",
    "from sklearn.feature_extraction.text import TfidfVectorizer\n",
    "from sklearn.svm import LinearSVC \n",
    "from sklearn.neural_network import MLPClassifier\n",
    "from sklearn.ensemble import ExtraTreesClassifier, VotingClassifier"
   ]
  },
  {
   "cell_type": "markdown",
   "metadata": {},
   "source": [
    "Set constants for directories, take a random sampling of the \"ignore\" email since there are so many (under sample)"
   ]
  },
  {
   "cell_type": "code",
   "execution_count": 2,
   "metadata": {},
   "outputs": [],
   "source": [
    "IGNORE_DIR = '/Users/worshamn/Documents/emailProject/IgnoreFix'\n",
    "INVESTIGATE_DIR = '/Users/worshamn/Documents/emailProject/InvestigateFix'\n",
    "#https://stackoverflow.com/a/6482922\n",
    "random.seed(4928)\n",
    "ignore_sample_index = [ i for i in sorted(random.sample(range(len(os.listdir(IGNORE_DIR))), 400)) ]\n",
    "ignore_sample = []\n",
    "for i in ignore_sample_index:\n",
    "    ignore_sample.append(os.listdir(IGNORE_DIR)[i])\n",
    "input_dirs = {}\n",
    "input_dirs[INVESTIGATE_DIR] = os.listdir(INVESTIGATE_DIR) \n",
    "input_dirs[IGNORE_DIR] = ignore_sample"
   ]
  },
  {
   "cell_type": "code",
   "execution_count": 3,
   "metadata": {},
   "outputs": [
    {
     "data": {
      "text/plain": [
       "['[Phish Alert] FW- You appeared in 1 search this week.eml',\n",
       "...\n",
       " '[Phish Alert] FW- Jose Hernandez Sifuentes PPI.eml']"
      ]
     },
     "execution_count": 3,
     "metadata": {},
     "output_type": "execute_result"
    }
   ],
   "source": [
    "ignore_sample"
   ]
  },
  {
   "cell_type": "markdown",
   "metadata": {
    "scrolled": true
   },
   "source": [
    "len(input_dirs)"
   ]
  },
  {
   "cell_type": "code",
   "execution_count": 4,
   "metadata": {},
   "outputs": [
    {
     "data": {
      "text/plain": [
       "384"
      ]
     },
     "execution_count": 4,
     "metadata": {},
     "output_type": "execute_result"
    }
   ],
   "source": [
    "len(input_dirs[INVESTIGATE_DIR])"
   ]
  },
  {
   "cell_type": "code",
   "execution_count": 5,
   "metadata": {},
   "outputs": [
    {
     "data": {
      "text/plain": [
       "400"
      ]
     },
     "execution_count": 5,
     "metadata": {},
     "output_type": "execute_result"
    }
   ],
   "source": [
    "len(input_dirs[IGNORE_DIR])"
   ]
  },
  {
   "cell_type": "markdown",
   "metadata": {},
   "source": [
    "Build function to extract text and features"
   ]
  },
  {
   "cell_type": "code",
   "execution_count": 6,
   "metadata": {},
   "outputs": [],
   "source": [
    "def get_email_text(file):\n",
    "    d = {}\n",
    "    raw_message = email.message_from_file(file)\n",
    "    mail = mailparser.parse_from_string(raw_message.as_string())\n",
    "    d['subject'] = mail.subject\n",
    "    d['subject_len'] = len(d['subject'])\n",
    "    if raw_message.is_multipart():\n",
    "        d['is_mulitpart'] = 1\n",
    "    else:\n",
    "        d['is_multipart'] = 0\n",
    "    d['body'] = mail.text_plain\n",
    "    if len(d['body']) > 0:\n",
    "        d['mail_text'] = d['subject'] + ' ' + d['body'][0]\n",
    "        d['body_len'] = len(d['body'][0])\n",
    "        if len(d['body']) > 1:\n",
    "            soup_html = BeautifulSoup(d['body'][1],'lxml')\n",
    "            d['links'] = soup_html.find_all('a')\n",
    "            d['num_link'] = len(d['links'])\n",
    "            links = []\n",
    "            d['masq_link'] = []\n",
    "            d['masq_link_tld'] = []\n",
    "            d['num_email_link'] = 0\n",
    "            for link in d['links']:\n",
    "                link_text = link.get_text().rstrip('\\n')\n",
    "                a_link = link.get('href')\n",
    "                links.append(a_link)\n",
    "                if 'unsubscribe' in link_text.lower():\n",
    "                    d['has_unsubscribe_link'] = 1\n",
    "                if a_link:    \n",
    "                    if re.search('mailto:',a_link):\n",
    "                        d['num_email_link'] += 1\n",
    "                if a_link != link_text and \\\n",
    "                    'http' in link_text.lower() and \\\n",
    "                    not 'alt=\"http' in link_text.lower():\n",
    "                        d['masq_link'].append(link)\n",
    "                        d['masq_link_tld'].append(\n",
    "                            get_tld(\n",
    "                                a_link,\n",
    "                                fix_protocol=True, \n",
    "                                fail_silently=True\n",
    "                            )\n",
    "                        )\n",
    "            d['num_uniq_link'] = len(set(links))\n",
    "            if d['num_link'] > d['num_uniq_link']:\n",
    "                d['has_repeatlink'] = 1\n",
    "            else:\n",
    "                d['has_repeatlink'] = 0\n",
    "            if len(d['masq_link']) == 0:\n",
    "                d['masq_link'] = ''\n",
    "                d['masq_link_tld'] = ''\n",
    "                d['has_masq_link'] = 0\n",
    "            else:    \n",
    "                d['has_masq_link'] = 1\n",
    "                d['num_masq_link'] = len(d['masq_link'])\n",
    "    else:\n",
    "        d['mail_text'] = d['subject']\n",
    "        d['body_len'] = len(d['body'])\n",
    "    url_query = '((?:https?|ftp)://[^\\s/$.?#]+\\.[^\\s>]+)'\n",
    "    d['url'] = re.findall(url_query,d['mail_text'])\n",
    "    email_query = '([\\w.]+@[\\w.]+\\.[\\w.]{2,5})'\n",
    "    d['email'] = re.findall(email_query,d['mail_text'])\n",
    "    if d['url']:\n",
    "        d['has_url'] = 1\n",
    "        d['num_url'] = len(d['url'])\n",
    "        d['num_uniq_url'] = len(set(d['url']))\n",
    "        d['num_url_repeats'] = d['num_url'] - d['num_uniq_url']\n",
    "        d['url_len'] = []\n",
    "        d['url_tld'] = []\n",
    "        for i in d['url']:\n",
    "            d['url_len'].append(len(i))\n",
    "            d['url_tld'].append(\n",
    "                get_tld(i, fix_protocol=True, fail_silently=True)\n",
    "            )\n",
    "            d['uniq_url_tld'] = set(d['url_tld'])\n",
    "    else:\n",
    "        d['url'] = ''\n",
    "        d['has_url'] = 0\n",
    "        d['num_url'] = 0\n",
    "        d['num_uniq_url'] = 0\n",
    "        d['url_len'] = 0\n",
    "        d['url_tld'] = 0\n",
    "        d['uniq_url_tld'] = 0\n",
    "        d['num_url_repeats'] = 0\n",
    "    if d['email']:\n",
    "        d['has_email'] = 1\n",
    "        d['num_email_addr'] = len(d['email'])\n",
    "        d['num_uniq_email'] = len(set(d['email']))\n",
    "    else:\n",
    "        d['email'] = ''\n",
    "        d['has_email'] = 0\n",
    "        d['num_email_addr'] = 0\n",
    "        d['num_uniq_email'] = 0\n",
    "    soup = BeautifulSoup(d['mail_text'],'lxml')\n",
    "    try:\n",
    "        d['mail_text'] = soup.get_text().encode(\n",
    "            'utf-8',\n",
    "            'ignore'\n",
    "        ).decode('unicode_escape').replace('\\n',' ').replace('\\t',' ')\n",
    "    except:\n",
    "        d['mail_text'] = soup.get_text().replace('\\n',' ').replace('\\t',' ')\n",
    "    d['reply_to'] = mail.reply_to\n",
    "    for k,v in mail.headers.items():\n",
    "        d[k] = v\n",
    "    d['body'] = mail.body\n",
    "    d['text_plain'] = mail.text_plain\n",
    "    if mail.attachments:\n",
    "        d['has_attachments'] = 1\n",
    "        d['num_attachments'] = len(mail.attachments)\n",
    "        for i in mail.attachments:\n",
    "            try:\n",
    "                d['attachment_filename'].append(i['filename'])\n",
    "            except:\n",
    "                d['attachment_filename'] = []\n",
    "                d['attachment_filename'].append(i['filename'])\n",
    "            try:\n",
    "                d['attachment_content_type'].append(i['mail_content_type'])\n",
    "            except:\n",
    "                d['attachment_content_type'] = []\n",
    "                d['attachment_content_type'].append(i['mail_content_type'])\n",
    "    else:\n",
    "        d['has_attachments'] = 0\n",
    "    if re.search(tryGetKeyValue(d, 'Return-Path'),tryGetKeyValue(d, 'From')):\n",
    "        d['return_path_match_from'] = 1\n",
    "    else:\n",
    "        d['return_path_match_from'] = 0\n",
    "    tld_match = re.match(\n",
    "            '[^@]+@([^>]+)>',\n",
    "            tryGetKeyValue(d, 'From')\n",
    "        )\n",
    "    if tld_match:\n",
    "        d['from_tld'] = get_tld(\n",
    "            tld_match.group(1),\n",
    "            fix_protocol=True, \n",
    "            fail_silently=True\n",
    "        )\n",
    "    if 'content=\"text/html' in d['body'].lower():\n",
    "        d['has_html_content'] = 1\n",
    "    else:\n",
    "        d['has_html_content'] = 0\n",
    "    if 'script type=\"text/javascript' in d['body'].lower():\n",
    "        d['has_javascript'] = 1\n",
    "    else:\n",
    "        d['has_javascript'] = 0\n",
    "    if 'img src=\"cid:' in d['body'].lower():\n",
    "        d['has_inline_img'] = 1\n",
    "    else:\n",
    "        d['has_inline_img'] = 0\n",
    "    if 'Content-type' in d:\n",
    "        d['Content-type'] = re.match('([^;]+);',d['Content-type']).group(1)\n",
    "    else:\n",
    "        d['Content-type'] = None\n",
    "    if 'Date' in d:\n",
    "        #d['DOTW'] = strftime('%a',strptime(d['Date'],'%a, %d %b %Y %H:%M:%S %z'))\n",
    "        d['DOTW'] = strftime('%w',strptime(d['Date'],'%a, %d %b %Y %H:%M:%S %z'))\n",
    "        d['HOTD'] = strftime('%H',strptime(d['Date'],'%a, %d %b %Y %H:%M:%S %z'))\n",
    "    if mail.has_defects:\n",
    "        d['has_defects'] = 1\n",
    "    else:\n",
    "        d['has_defects'] = 0\n",
    "    return d"
   ]
  },
  {
   "cell_type": "markdown",
   "metadata": {},
   "source": [
    "Build function to set the target value based on the directory"
   ]
  },
  {
   "cell_type": "code",
   "execution_count": 7,
   "metadata": {},
   "outputs": [],
   "source": [
    "def get_target(d):\n",
    "    if d == IGNORE_DIR:\n",
    "        return 'ignore'\n",
    "    elif d == INVESTIGATE_DIR:\n",
    "        return 'investigate'"
   ]
  },
  {
   "cell_type": "markdown",
   "metadata": {},
   "source": [
    "Build function to extract value only if the key exists"
   ]
  },
  {
   "cell_type": "code",
   "execution_count": 8,
   "metadata": {},
   "outputs": [],
   "source": [
    "def tryGetKeyValue(d, key, return_value=''):\n",
    "  \"\"\"Attempts to return value of key from dictionary\n",
    "  \"\"\"\n",
    "  try:\n",
    "    return d[key]\n",
    "  except:\n",
    "    return return_value"
   ]
  },
  {
   "cell_type": "markdown",
   "metadata": {},
   "source": [
    "Create dataframe, iterate through directories and add email features"
   ]
  },
  {
   "cell_type": "code",
   "execution_count": 9,
   "metadata": {},
   "outputs": [
    {
     "name": "stdout",
     "output_type": "stream",
     "text": [
      "/Users/worshamn/Documents/emailProject/InvestigateFix [Phish Alert] FW- Goodchem Document.eml\n",
       "...\n",
      "/Users/worshamn/Documents/emailProject/IgnoreFix [Phish Alert] FW- Jose Hernandez Sifuentes PPI.eml\n"
     ]
    }
   ],
   "source": [
    "df = pd.DataFrame()\n",
    "for d,v in input_dirs.items():\n",
    "    for f in input_dirs[d]:\n",
    "        print(d, f)\n",
    "        with open(os.path.join(d,f),'r',encoding='utf-8', errors='ignore') as raw_mail:\n",
    "            mail_dict = get_email_text(raw_mail)\n",
    "            df = df.append(\n",
    "                {\n",
    "                    #'filename': f,\n",
    "                    'text': mail_dict['mail_text'],\n",
    "                    'target': get_target(d),\n",
    "                    'subject_len': mail_dict['subject_len'],\n",
    "                    'body_len': mail_dict['body_len'],\n",
    "                    'has_attachments': tryGetKeyValue(mail_dict, 'has_attachments',0),\n",
    "                    'num_attachments': tryGetKeyValue(mail_dict, 'num_attachments',0),\n",
    "                    #'attachment_filename': tryGetKeyValue(mail_dict, 'attachment_filename'),\n",
    "                    #'attachment_content_type': tryGetKeyValue(mail_dict, 'attachment_content_type'),\n",
    "                    'DKIM': tryGetKeyValue(mail_dict, 'X-BAEAI-DKIM'),\n",
    "                    'DMARC': tryGetKeyValue(mail_dict, 'X-BAEAI-DMARC'),\n",
    "                    'SPF': tryGetKeyValue(mail_dict, 'X-BAEAI-SPF'),\n",
    "                    'return_path_match_from': mail_dict['return_path_match_from'],\n",
    "                    'from_tld': tryGetKeyValue(mail_dict, 'from_tld'),\n",
    "                    'Content-type': mail_dict['Content-type'],\n",
    "                    'DOTW': tryGetKeyValue(mail_dict, 'DOTW'),\n",
    "                    'HOTD': tryGetKeyValue(mail_dict, 'HOTD'),\n",
    "                    #'url': mail_dict['url'],\n",
    "                    'has_url': tryGetKeyValue(mail_dict, 'has_url',0),\n",
    "                    'num_url': tryGetKeyValue(mail_dict, 'num_url',0),\n",
    "                    'num_uniq_url': tryGetKeyValue(mail_dict, 'num_uniq_url',0),\n",
    "                    #'email': tryGetKeyValue(mail_dict, 'email'),\n",
    "                    'has_email': tryGetKeyValue(mail_dict, 'has_email',0),\n",
    "                    'num_email_addr': tryGetKeyValue(mail_dict, 'num_email_addr',0),\n",
    "                    'num_uniq_email': tryGetKeyValue(mail_dict, 'num_uniq_email',0),\n",
    "                    'num_url_repeats': tryGetKeyValue(mail_dict, 'num_url_repeats',0),\n",
    "                    #'url_len': mail_dict['url_len'],\n",
    "                    #'url_tld': mail_dict['url_tld'],\n",
    "                    #'uniq_url_tld': mail_dict['uniq_url_tld'],\n",
    "                    'has_html_content': tryGetKeyValue(mail_dict, 'has_html_content',0),\n",
    "                    'has_javascript': tryGetKeyValue(mail_dict, 'has_javascript',0),\n",
    "                    'has_inline_img': tryGetKeyValue(mail_dict, 'has_inline_img',0),\n",
    "                    'TAP-Score': tryGetKeyValue(mail_dict, 'X-USANET-TAP-Score',-1),\n",
    "                    #'links': tryGetKeyValue(mail_dict, 'links'),\n",
    "                    'num_link': tryGetKeyValue(mail_dict, 'num_link',0),\n",
    "                    'num_uniq_link': tryGetKeyValue(mail_dict, 'num_uniq_link',0),\n",
    "                    'has_repeat_link': tryGetKeyValue(mail_dict, 'has_repeat_link',0),\n",
    "                    #'masq_link': tryGetKeyValue(mail_dict, 'masq_link'),\n",
    "                    'has_masq_link': tryGetKeyValue(mail_dict, 'has_masq_link',0),\n",
    "                    'num_masq_link': tryGetKeyValue(mail_dict, 'num_masq_link',0),\n",
    "                    #'masq_link_tld': tryGetKeyValue(mail_dict, 'masq_link_tld'),\n",
    "                    'is_multipart': tryGetKeyValue(mail_dict, 'is_mulitpart', 0),\n",
    "                    'has_defects': mail_dict['has_defects'],\n",
    "                    'num_email_link': tryGetKeyValue(mail_dict, 'num_email_link',0),\n",
    "                    'has_unsubscribe_link': tryGetKeyValue(mail_dict, 'has_unsubscribe_link', 0),\n",
    "                }, \n",
    "                ignore_index=True\n",
    "            )"
   ]
  },
  {
   "cell_type": "code",
   "execution_count": 10,
   "metadata": {},
   "outputs": [
    {
     "name": "stdout",
     "output_type": "stream",
     "text": [
      "<class 'pandas.core.frame.DataFrame'>\n",
      "RangeIndex: 784 entries, 0 to 783\n",
      "Data columns (total 34 columns):\n",
      "Content-type              771 non-null object\n",
      "DKIM                      784 non-null object\n",
      "DMARC                     784 non-null object\n",
      "DOTW                      784 non-null object\n",
      "HOTD                      784 non-null object\n",
      "SPF                       784 non-null object\n",
      "TAP-Score                 784 non-null object\n",
      "body_len                  784 non-null float64\n",
      "from_tld                  784 non-null object\n",
      "has_attachments           784 non-null float64\n",
      "has_defects               784 non-null float64\n",
      "has_email                 784 non-null float64\n",
      "has_html_content          784 non-null float64\n",
      "has_inline_img            784 non-null float64\n",
      "has_javascript            784 non-null float64\n",
      "has_masq_link             784 non-null float64\n",
      "has_repeat_link           784 non-null float64\n",
      "has_unsubscribe_link      784 non-null float64\n",
      "has_url                   784 non-null float64\n",
      "is_multipart              784 non-null float64\n",
      "num_attachments           784 non-null float64\n",
      "num_email_addr            784 non-null float64\n",
      "num_email_link            784 non-null float64\n",
      "num_link                  784 non-null float64\n",
      "num_masq_link             784 non-null float64\n",
      "num_uniq_email            784 non-null float64\n",
      "num_uniq_link             784 non-null float64\n",
      "num_uniq_url              784 non-null float64\n",
      "num_url                   784 non-null float64\n",
      "num_url_repeats           784 non-null float64\n",
      "return_path_match_from    784 non-null float64\n",
      "subject_len               784 non-null float64\n",
      "target                    784 non-null object\n",
      "text                      784 non-null object\n",
      "dtypes: float64(24), object(10)\n",
      "memory usage: 208.3+ KB\n"
     ]
    }
   ],
   "source": [
    "df.info()"
   ]
  },
  {
   "cell_type": "markdown",
   "metadata": {},
   "source": [
    "Create a function to clean the text"
   ]
  },
  {
   "cell_type": "code",
   "execution_count": 11,
   "metadata": {},
   "outputs": [],
   "source": [
    "def clean_text(\n",
    "    docs, \n",
    "    remove_urls=True,\n",
    "    remove_emails=True,\n",
    "    lemmatize=True,\n",
    "    remove_stopwords=True, \n",
    "    custom_stopwords=None,\n",
    "#     term_min_len=0,\n",
    "):\n",
    "    #only use parts of spaCy needed\n",
    "    nlp = spacy.load('en', disable=['parser','ner','textcat'])\n",
    "    #remove urls\n",
    "    if remove_urls:\n",
    "        print('remove URLS')\n",
    "        docs = [\n",
    "            re.sub('(?i)(?:www|https?)(?:://)?[^\\s]+','',text)\n",
    "            for text in docs\n",
    "        ]\n",
    "    #remove emails\n",
    "    if remove_emails:\n",
    "        print('remove email addresses')\n",
    "        docs = [\n",
    "            re.sub('(?i)[\\w.]+@[\\w.]+\\.[\\w.]{2,5}','',text)\n",
    "            for text in docs\n",
    "        ]\n",
    "    #remove punct and digits\n",
    "    print('removing punctuation and digits and change to lowercase')\n",
    "    table = str.maketrans({key: None for key in string.punctuation + string.digits})\n",
    "    clean_docs = [\n",
    "        str(d).lower().translate(table)\n",
    "        for d in docs\n",
    "    ]\n",
    "        \n",
    "    #tokenize in spacy\n",
    "    if lemmatize:\n",
    "        print('spacy tokenization')\n",
    "        nlp_docs = [nlp(d) for d in clean_docs]\n",
    "        #lemmatization, words like I get changed into -PRON- so leave them alone\n",
    "        if remove_stopwords:\n",
    "            print('lemmatization and remove stopwords')\n",
    "            if custom_stopwords:\n",
    "                custom_stopwords = set(custom_stopwords)\n",
    "            else:\n",
    "                custom_stopwords = []\n",
    "            lemmatized_docs = [\n",
    "                [\n",
    "                    w.lemma_ \n",
    "                    for w in d\n",
    "                    if (w.lemma_ != '-PRON-' and not w.is_stop and w.lemma_ not in custom_stopwords) \n",
    "                ]\n",
    "                for d in nlp_docs\n",
    "            ]\n",
    "        else:\n",
    "            print('lemmatization')\n",
    "            lemmatized_docs = [\n",
    "            [\n",
    "                w.lemma_\n",
    "                if w.lemma_ != '-PRON-'\n",
    "                else w.lower_\n",
    "                for w in d\n",
    "                #if (w.lemma_ != '-PRON-' and len(w.lemma_)>term_min_len)\n",
    "            ]\n",
    "            for d in nlp_docs\n",
    "        ]\n",
    "    if lemmatized_docs:\n",
    "        clean_docs = lemmatized_docs\n",
    "    \n",
    "    # join tokens back into doc\n",
    "    clean_docs = [\n",
    "        ' '.join(l) \n",
    "        for l in clean_docs\n",
    "    ]\n",
    "\n",
    "    return clean_docs"
   ]
  },
  {
   "cell_type": "markdown",
   "metadata": {},
   "source": [
    "Clean the text"
   ]
  },
  {
   "cell_type": "code",
   "execution_count": 12,
   "metadata": {},
   "outputs": [
    {
     "name": "stdout",
     "output_type": "stream",
     "text": [
      "remove URLS\n",
      "remove email addresses\n",
      "removing punctuation and digits and change to lowercase\n",
      "spacy tokenization\n",
      "lemmatization and remove stopwords\n",
      "done in 9.156s\n"
     ]
    }
   ],
   "source": [
    "t0 = time()\n",
    "corpus = clean_text(\n",
    "    df['text'], \n",
    ")\n",
    "print(\"done in %0.3fs\" % (time() - t0))"
   ]
  },
  {
   "cell_type": "code",
   "execution_count": 13,
   "metadata": {},
   "outputs": [],
   "source": [
    "df['cleaned_text'] = pd.Series(corpus).values"
   ]
  },
  {
   "cell_type": "markdown",
   "metadata": {},
   "source": [
    "Convert cells that are not recognized as a number or just to get rid of float"
   ]
  },
  {
   "cell_type": "code",
   "execution_count": 14,
   "metadata": {},
   "outputs": [],
   "source": [
    "#https://stackoverflow.com/a/28910914\n",
    "for col in [\n",
    "    'body_len',\n",
    "    'has_attachments',\n",
    "    'has_defects',\n",
    "    'has_email',\n",
    "    'has_html_content',\n",
    "    'has_inline_img',\n",
    "    'has_javascript',\n",
    "    'has_masq_link',\n",
    "    'has_repeat_link',\n",
    "    'has_unsubscribe_link',\n",
    "    'has_url',\n",
    "    'is_multipart',\n",
    "    'num_attachments',\n",
    "    'num_email_addr',\n",
    "    'num_email_link',\n",
    "    'num_link',\n",
    "    'num_masq_link',\n",
    "    'num_uniq_email',\n",
    "    'num_uniq_link',\n",
    "    'num_uniq_url',\n",
    "    'num_url',\n",
    "    'num_url_repeats',\n",
    "    'return_path_match_from',\n",
    "    'subject_len',\n",
    "    #'TAP-Score',\n",
    "]:\n",
    "    df[col] = df[col].astype(int)\n",
    "    "
   ]
  },
  {
   "cell_type": "code",
   "execution_count": 15,
   "metadata": {},
   "outputs": [
    {
     "name": "stdout",
     "output_type": "stream",
     "text": [
      "<class 'pandas.core.frame.DataFrame'>\n",
      "RangeIndex: 784 entries, 0 to 783\n",
      "Data columns (total 35 columns):\n",
      "Content-type              771 non-null object\n",
      "DKIM                      784 non-null object\n",
      "DMARC                     784 non-null object\n",
      "DOTW                      784 non-null object\n",
      "HOTD                      784 non-null object\n",
      "SPF                       784 non-null object\n",
      "TAP-Score                 784 non-null object\n",
      "body_len                  784 non-null int64\n",
      "from_tld                  784 non-null object\n",
      "has_attachments           784 non-null int64\n",
      "has_defects               784 non-null int64\n",
      "has_email                 784 non-null int64\n",
      "has_html_content          784 non-null int64\n",
      "has_inline_img            784 non-null int64\n",
      "has_javascript            784 non-null int64\n",
      "has_masq_link             784 non-null int64\n",
      "has_repeat_link           784 non-null int64\n",
      "has_unsubscribe_link      784 non-null int64\n",
      "has_url                   784 non-null int64\n",
      "is_multipart              784 non-null int64\n",
      "num_attachments           784 non-null int64\n",
      "num_email_addr            784 non-null int64\n",
      "num_email_link            784 non-null int64\n",
      "num_link                  784 non-null int64\n",
      "num_masq_link             784 non-null int64\n",
      "num_uniq_email            784 non-null int64\n",
      "num_uniq_link             784 non-null int64\n",
      "num_uniq_url              784 non-null int64\n",
      "num_url                   784 non-null int64\n",
      "num_url_repeats           784 non-null int64\n",
      "return_path_match_from    784 non-null int64\n",
      "subject_len               784 non-null int64\n",
      "target                    784 non-null object\n",
      "text                      784 non-null object\n",
      "cleaned_text              784 non-null object\n",
      "dtypes: int64(24), object(11)\n",
      "memory usage: 214.5+ KB\n"
     ]
    }
   ],
   "source": [
    "df.info()"
   ]
  },
  {
   "cell_type": "markdown",
   "metadata": {},
   "source": [
    "Break the continous data into ranges for binary conversion"
   ]
  },
  {
   "cell_type": "code",
   "execution_count": 16,
   "metadata": {},
   "outputs": [],
   "source": [
    "#https://stackoverflow.com/a/40548606\n",
    "df['body_len'] = pd.qcut(df['body_len'],20,duplicates='drop')\n",
    "df['subject_len'] = pd.qcut(df['subject_len'],10,duplicates='drop')\n",
    "df['num_attachments'] = pd.cut(df['num_attachments'],5)\n",
    "df['num_email_addr'] = pd.cut(df['num_email_addr'],5)\n",
    "df['num_email_link'] = pd.cut(df['num_email_link'],5)\n",
    "df['num_link'] = pd.qcut(df['num_link'],10,duplicates='drop')\n",
    "df['num_masq_link'] = pd.cut(df['num_masq_link'],3)\n",
    "df['num_uniq_email'] = pd.qcut(df['num_uniq_email'],10,duplicates='drop')\n",
    "df['num_uniq_url'] = pd.qcut(df['num_uniq_url'],10,duplicates='drop')\n",
    "df['num_url'] = pd.qcut(df['num_url'],10,duplicates='drop')\n",
    "df['num_url_repeats'] = pd.qcut(df['num_url_repeats'],10,duplicates='drop')"
   ]
  },
  {
   "cell_type": "markdown",
   "metadata": {},
   "source": [
    "Change the continuous and categorical data into one-hot encoding (binary data)"
   ]
  },
  {
   "cell_type": "code",
   "execution_count": 17,
   "metadata": {},
   "outputs": [],
   "source": [
    "categorical_cols = [\n",
    "    'DKIM',\n",
    "    'DMARC',\n",
    "    'SPF',\n",
    "    'from_tld',\n",
    "    'Content-type',\n",
    "    'DOTW',\n",
    "    'HOTD',\n",
    "    'TAP-Score',\n",
    "    'body_len',\n",
    "    'subject_len',\n",
    "    'num_attachments',\n",
    "    'num_email_addr',\n",
    "    'num_email_link',\n",
    "    'num_link',\n",
    "    'num_masq_link',\n",
    "    'num_uniq_email',\n",
    "    'num_uniq_url',\n",
    "    'num_url',\n",
    "    'num_url_repeats',\n",
    "]"
   ]
  },
  {
   "cell_type": "code",
   "execution_count": 18,
   "metadata": {},
   "outputs": [],
   "source": [
    "df_categorical = pd.get_dummies(df[categorical_cols])"
   ]
  },
  {
   "cell_type": "code",
   "execution_count": 19,
   "metadata": {},
   "outputs": [],
   "source": [
    "df.drop(categorical_cols, axis=1, inplace=True)"
   ]
  },
  {
   "cell_type": "code",
   "execution_count": 20,
   "metadata": {},
   "outputs": [],
   "source": [
    "df = pd.concat([df,df_categorical], axis=1)"
   ]
  },
  {
   "cell_type": "code",
   "execution_count": 21,
   "metadata": {},
   "outputs": [],
   "source": [
    "pd.set_option('display.max_colwidth', 40)"
   ]
  },
  {
   "cell_type": "code",
   "execution_count": 22,
   "metadata": {
    "scrolled": true
   },
   "outputs": [
    {
     "data": {
      "text/html": [
       "<div>\n",
       "<style scoped>\n",
       "    .dataframe tbody tr th:only-of-type {\n",
       "        vertical-align: middle;\n",
       "    }\n",
       "\n",
       "    .dataframe tbody tr th {\n",
       "        vertical-align: top;\n",
       "    }\n",
       "\n",
       "    .dataframe thead th {\n",
       "        text-align: right;\n",
       "    }\n",
       "</style>\n",
       "<table border=\"1\" class=\"dataframe\">\n",
       "  <thead>\n",
       "    <tr style=\"text-align: right;\">\n",
       "      <th></th>\n",
       "      <th>has_attachments</th>\n",
       "      <th>has_defects</th>\n",
       "      <th>has_email</th>\n",
       "      <th>has_html_content</th>\n",
       "      <th>has_inline_img</th>\n",
       "      <th>has_javascript</th>\n",
       "      <th>has_masq_link</th>\n",
       "      <th>has_repeat_link</th>\n",
       "      <th>has_unsubscribe_link</th>\n",
       "      <th>has_url</th>\n",
       "      <th>...</th>\n",
       "      <th>num_url_(1.0, 2.0]</th>\n",
       "      <th>num_url_(2.0, 4.0]</th>\n",
       "      <th>num_url_(4.0, 6.0]</th>\n",
       "      <th>num_url_(6.0, 11.0]</th>\n",
       "      <th>num_url_(11.0, 20.0]</th>\n",
       "      <th>num_url_(20.0, 248.0]</th>\n",
       "      <th>num_url_repeats_(-0.001, 0.1]</th>\n",
       "      <th>num_url_repeats_(0.1, 1.0]</th>\n",
       "      <th>num_url_repeats_(1.0, 2.0]</th>\n",
       "      <th>num_url_repeats_(2.0, 103.0]</th>\n",
       "    </tr>\n",
       "  </thead>\n",
       "  <tbody>\n",
       "    <tr>\n",
       "      <th>0</th>\n",
       "      <td>1</td>\n",
       "      <td>0</td>\n",
       "      <td>1</td>\n",
       "      <td>0</td>\n",
       "      <td>0</td>\n",
       "      <td>0</td>\n",
       "      <td>0</td>\n",
       "      <td>0</td>\n",
       "      <td>0</td>\n",
       "      <td>1</td>\n",
       "      <td>...</td>\n",
       "      <td>0</td>\n",
       "      <td>0</td>\n",
       "      <td>0</td>\n",
       "      <td>1</td>\n",
       "      <td>0</td>\n",
       "      <td>0</td>\n",
       "      <td>0</td>\n",
       "      <td>1</td>\n",
       "      <td>0</td>\n",
       "      <td>0</td>\n",
       "    </tr>\n",
       "    <tr>\n",
       "      <th>1</th>\n",
       "      <td>0</td>\n",
       "      <td>0</td>\n",
       "      <td>0</td>\n",
       "      <td>1</td>\n",
       "      <td>0</td>\n",
       "      <td>0</td>\n",
       "      <td>0</td>\n",
       "      <td>0</td>\n",
       "      <td>0</td>\n",
       "      <td>1</td>\n",
       "      <td>...</td>\n",
       "      <td>1</td>\n",
       "      <td>0</td>\n",
       "      <td>0</td>\n",
       "      <td>0</td>\n",
       "      <td>0</td>\n",
       "      <td>0</td>\n",
       "      <td>1</td>\n",
       "      <td>0</td>\n",
       "      <td>0</td>\n",
       "      <td>0</td>\n",
       "    </tr>\n",
       "    <tr>\n",
       "      <th>2</th>\n",
       "      <td>0</td>\n",
       "      <td>0</td>\n",
       "      <td>0</td>\n",
       "      <td>1</td>\n",
       "      <td>0</td>\n",
       "      <td>0</td>\n",
       "      <td>1</td>\n",
       "      <td>0</td>\n",
       "      <td>0</td>\n",
       "      <td>1</td>\n",
       "      <td>...</td>\n",
       "      <td>1</td>\n",
       "      <td>0</td>\n",
       "      <td>0</td>\n",
       "      <td>0</td>\n",
       "      <td>0</td>\n",
       "      <td>0</td>\n",
       "      <td>0</td>\n",
       "      <td>1</td>\n",
       "      <td>0</td>\n",
       "      <td>0</td>\n",
       "    </tr>\n",
       "    <tr>\n",
       "      <th>3</th>\n",
       "      <td>0</td>\n",
       "      <td>0</td>\n",
       "      <td>0</td>\n",
       "      <td>0</td>\n",
       "      <td>0</td>\n",
       "      <td>0</td>\n",
       "      <td>0</td>\n",
       "      <td>0</td>\n",
       "      <td>0</td>\n",
       "      <td>1</td>\n",
       "      <td>...</td>\n",
       "      <td>0</td>\n",
       "      <td>0</td>\n",
       "      <td>0</td>\n",
       "      <td>0</td>\n",
       "      <td>0</td>\n",
       "      <td>0</td>\n",
       "      <td>1</td>\n",
       "      <td>0</td>\n",
       "      <td>0</td>\n",
       "      <td>0</td>\n",
       "    </tr>\n",
       "    <tr>\n",
       "      <th>4</th>\n",
       "      <td>0</td>\n",
       "      <td>0</td>\n",
       "      <td>0</td>\n",
       "      <td>0</td>\n",
       "      <td>0</td>\n",
       "      <td>0</td>\n",
       "      <td>0</td>\n",
       "      <td>0</td>\n",
       "      <td>0</td>\n",
       "      <td>1</td>\n",
       "      <td>...</td>\n",
       "      <td>0</td>\n",
       "      <td>0</td>\n",
       "      <td>0</td>\n",
       "      <td>0</td>\n",
       "      <td>0</td>\n",
       "      <td>0</td>\n",
       "      <td>1</td>\n",
       "      <td>0</td>\n",
       "      <td>0</td>\n",
       "      <td>0</td>\n",
       "    </tr>\n",
       "  </tbody>\n",
       "</table>\n",
       "<p>5 rows × 208 columns</p>\n",
       "</div>"
      ],
      "text/plain": [
       "   has_attachments  has_defects  has_email  has_html_content  has_inline_img  \\\n",
       "0                1            0          1                 0               0   \n",
       "1                0            0          0                 1               0   \n",
       "2                0            0          0                 1               0   \n",
       "3                0            0          0                 0               0   \n",
       "4                0            0          0                 0               0   \n",
       "\n",
       "   has_javascript  has_masq_link  has_repeat_link  has_unsubscribe_link  \\\n",
       "0               0              0                0                     0   \n",
       "1               0              0                0                     0   \n",
       "2               0              1                0                     0   \n",
       "3               0              0                0                     0   \n",
       "4               0              0                0                     0   \n",
       "\n",
       "   has_url              ...               num_url_(1.0, 2.0]  \\\n",
       "0        1              ...                                0   \n",
       "1        1              ...                                1   \n",
       "2        1              ...                                1   \n",
       "3        1              ...                                0   \n",
       "4        1              ...                                0   \n",
       "\n",
       "   num_url_(2.0, 4.0]  num_url_(4.0, 6.0] num_url_(6.0, 11.0]  \\\n",
       "0                   0                   0                   1   \n",
       "1                   0                   0                   0   \n",
       "2                   0                   0                   0   \n",
       "3                   0                   0                   0   \n",
       "4                   0                   0                   0   \n",
       "\n",
       "  num_url_(11.0, 20.0] num_url_(20.0, 248.0]  num_url_repeats_(-0.001, 0.1]  \\\n",
       "0                    0                     0                              0   \n",
       "1                    0                     0                              1   \n",
       "2                    0                     0                              0   \n",
       "3                    0                     0                              1   \n",
       "4                    0                     0                              1   \n",
       "\n",
       "   num_url_repeats_(0.1, 1.0]  num_url_repeats_(1.0, 2.0]  \\\n",
       "0                           1                           0   \n",
       "1                           0                           0   \n",
       "2                           1                           0   \n",
       "3                           0                           0   \n",
       "4                           0                           0   \n",
       "\n",
       "   num_url_repeats_(2.0, 103.0]  \n",
       "0                             0  \n",
       "1                             0  \n",
       "2                             0  \n",
       "3                             0  \n",
       "4                             0  \n",
       "\n",
       "[5 rows x 208 columns]"
      ]
     },
     "execution_count": 22,
     "metadata": {},
     "output_type": "execute_result"
    }
   ],
   "source": [
    "df.head()"
   ]
  },
  {
   "cell_type": "code",
   "execution_count": 23,
   "metadata": {
    "scrolled": true
   },
   "outputs": [
    {
     "name": "stdout",
     "output_type": "stream",
     "text": [
      "has_attachments\n",
      "has_defects\n",
      "has_email\n",
      "has_html_content\n",
      "has_inline_img\n",
      "has_javascript\n",
      "has_masq_link\n",
      "has_repeat_link\n",
      "has_unsubscribe_link\n",
      "has_url\n",
      "is_multipart\n",
      "num_uniq_link\n",
      "return_path_match_from\n",
      "target\n",
      "text\n",
      "cleaned_text\n",
      "DKIM_\n",
      "DKIM_FAIL\n",
      "DKIM_NONE\n",
      "DKIM_PASS\n",
      "DMARC_\n",
      "DMARC_absent\n",
      "DMARC_none\n",
      "DMARC_pass\n",
      "DMARC_quarantine\n",
      "DMARC_reject\n",
      "SPF_\n",
      "SPF_ERROR\n",
      "SPF_NEUTRAL\n",
      "SPF_NONE\n",
      "SPF_PASS\n",
      "SPF_SOFTFAIL\n",
      "from_tld_\n",
      "from_tld_ai\n",
      "from_tld_bg\n",
      "from_tld_bid\n",
      "from_tld_biz\n",
      "from_tld_ca\n",
      "from_tld_ch\n",
      "from_tld_co\n",
      "from_tld_co.jp\n",
      "from_tld_co.uk\n",
      "from_tld_co.za\n",
      "from_tld_com\n",
      "from_tld_com.ar\n",
      "from_tld_com.br\n",
      "from_tld_com.do\n",
      "from_tld_com.ec\n",
      "from_tld_com.mx\n",
      "from_tld_com.my\n",
      "from_tld_com.ph\n",
      "from_tld_com.pk\n",
      "from_tld_de\n",
      "from_tld_edu\n",
      "from_tld_edu.pk\n",
      "from_tld_email\n",
      "from_tld_es\n",
      "from_tld_eu\n",
      "from_tld_fi\n",
      "from_tld_fr\n",
      "from_tld_global\n",
      "from_tld_gob.cl\n",
      "from_tld_gob.ec\n",
      "from_tld_gov\n",
      "from_tld_gr\n",
      "from_tld_hu\n",
      "from_tld_ie\n",
      "from_tld_info\n",
      "from_tld_io\n",
      "from_tld_it\n",
      "from_tld_k12.in.us\n",
      "from_tld_k12.wi.us\n",
      "from_tld_media\n",
      "from_tld_mx\n",
      "from_tld_ne.jp\n",
      "from_tld_net\n",
      "from_tld_net.pl\n",
      "from_tld_net.tw\n",
      "from_tld_nm.us\n",
      "from_tld_org\n",
      "from_tld_org.gt\n",
      "from_tld_ph\n",
      "from_tld_pl\n",
      "from_tld_ro\n",
      "from_tld_ru\n",
      "from_tld_sk\n",
      "from_tld_travel\n",
      "from_tld_tv\n",
      "from_tld_uk\n",
      "from_tld_us\n",
      "from_tld_website\n",
      "Content-type_Multipart/alternative\n",
      "Content-type_Multipart/mixed\n",
      "Content-type_Multipart/related\n",
      "Content-type_text/plain\n",
      "DOTW_\n",
      "DOTW_0\n",
      "DOTW_1\n",
      "DOTW_2\n",
      "DOTW_3\n",
      "DOTW_4\n",
      "DOTW_5\n",
      "DOTW_6\n",
      "HOTD_\n",
      "HOTD_01\n",
      "HOTD_02\n",
      "HOTD_03\n",
      "HOTD_04\n",
      "HOTD_05\n",
      "HOTD_06\n",
      "HOTD_07\n",
      "HOTD_08\n",
      "HOTD_09\n",
      "HOTD_10\n",
      "HOTD_11\n",
      "HOTD_12\n",
      "HOTD_13\n",
      "HOTD_14\n",
      "HOTD_15\n",
      "HOTD_16\n",
      "HOTD_17\n",
      "HOTD_18\n",
      "HOTD_19\n",
      "HOTD_20\n",
      "HOTD_21\n",
      "HOTD_22\n",
      "HOTD_23\n",
      "TAP-Score_-1\n",
      "TAP-Score_0\n",
      "TAP-Score_1\n",
      "TAP-Score_2\n",
      "TAP-Score_3\n",
      "body_len_(15.999, 115.3]\n",
      "body_len_(115.3, 163.3]\n",
      "body_len_(163.3, 200.45]\n",
      "body_len_(200.45, 234.8]\n",
      "body_len_(234.8, 267.75]\n",
      "body_len_(267.75, 330.0]\n",
      "body_len_(330.0, 410.15]\n",
      "body_len_(410.15, 508.0]\n",
      "body_len_(508.0, 609.2]\n",
      "body_len_(609.2, 916.0]\n",
      "body_len_(916.0, 1194.2]\n",
      "body_len_(1194.2, 1416.4]\n",
      "body_len_(1416.4, 1683.0]\n",
      "body_len_(1683.0, 2032.1]\n",
      "body_len_(2032.1, 2480.25]\n",
      "body_len_(2480.25, 3097.0]\n",
      "body_len_(3097.0, 3808.55]\n",
      "body_len_(3808.55, 5302.8]\n",
      "body_len_(5302.8, 8147.8]\n",
      "body_len_(8147.8, 52708.0]\n",
      "subject_len_(-0.001, 13.0]\n",
      "subject_len_(13.0, 19.0]\n",
      "subject_len_(19.0, 24.0]\n",
      "subject_len_(24.0, 30.2]\n",
      "subject_len_(30.2, 36.0]\n",
      "subject_len_(36.0, 41.0]\n",
      "subject_len_(41.0, 46.0]\n",
      "subject_len_(46.0, 54.0]\n",
      "subject_len_(54.0, 63.0]\n",
      "subject_len_(63.0, 246.0]\n",
      "num_attachments_(-0.01, 2.0]\n",
      "num_attachments_(2.0, 4.0]\n",
      "num_attachments_(4.0, 6.0]\n",
      "num_attachments_(6.0, 8.0]\n",
      "num_attachments_(8.0, 10.0]\n",
      "num_email_addr_(-0.193, 38.6]\n",
      "num_email_addr_(38.6, 77.2]\n",
      "num_email_addr_(77.2, 115.8]\n",
      "num_email_addr_(115.8, 154.4]\n",
      "num_email_addr_(154.4, 193.0]\n",
      "num_email_link_(-0.103, 20.6]\n",
      "num_email_link_(20.6, 41.2]\n",
      "num_email_link_(41.2, 61.8]\n",
      "num_email_link_(61.8, 82.4]\n",
      "num_email_link_(82.4, 103.0]\n",
      "num_link_(-0.001, 1.0]\n",
      "num_link_(1.0, 2.0]\n",
      "num_link_(2.0, 3.8]\n",
      "num_link_(3.8, 6.0]\n",
      "num_link_(6.0, 9.0]\n",
      "num_link_(9.0, 14.7]\n",
      "num_link_(14.7, 246.0]\n",
      "num_masq_link_(-0.009, 3.0]\n",
      "num_masq_link_(3.0, 6.0]\n",
      "num_masq_link_(6.0, 9.0]\n",
      "num_uniq_email_(-0.001, 1.0]\n",
      "num_uniq_email_(1.0, 2.0]\n",
      "num_uniq_email_(2.0, 94.0]\n",
      "num_uniq_url_(-0.001, 1.0]\n",
      "num_uniq_url_(1.0, 2.0]\n",
      "num_uniq_url_(2.0, 3.0]\n",
      "num_uniq_url_(3.0, 6.0]\n",
      "num_uniq_url_(6.0, 10.0]\n",
      "num_uniq_url_(10.0, 16.0]\n",
      "num_uniq_url_(16.0, 145.0]\n",
      "num_url_(-0.001, 1.0]\n",
      "num_url_(1.0, 2.0]\n",
      "num_url_(2.0, 4.0]\n",
      "num_url_(4.0, 6.0]\n",
      "num_url_(6.0, 11.0]\n",
      "num_url_(11.0, 20.0]\n",
      "num_url_(20.0, 248.0]\n",
      "num_url_repeats_(-0.001, 0.1]\n",
      "num_url_repeats_(0.1, 1.0]\n",
      "num_url_repeats_(1.0, 2.0]\n",
      "num_url_repeats_(2.0, 103.0]\n"
     ]
    }
   ],
   "source": [
    "for i in df.columns:\n",
    "    print(i)"
   ]
  },
  {
   "cell_type": "markdown",
   "metadata": {},
   "source": [
    "Split the sample set into test and training sets"
   ]
  },
  {
   "cell_type": "code",
   "execution_count": 24,
   "metadata": {},
   "outputs": [],
   "source": [
    "df_target = df['target']\n",
    "df_feats = df.drop(['target','text'],axis=1)\n",
    "train_feats, test_feats, train_labels, test_labels = train_test_split(\n",
    "    df_feats, \n",
    "    df_target, \n",
    "    test_size=0.20, \n",
    "    random_state=7350\n",
    ")"
   ]
  },
  {
   "cell_type": "code",
   "execution_count": 25,
   "metadata": {},
   "outputs": [
    {
     "data": {
      "text/plain": [
       "(627, 206)"
      ]
     },
     "execution_count": 25,
     "metadata": {},
     "output_type": "execute_result"
    }
   ],
   "source": [
    "train_feats.shape"
   ]
  },
  {
   "cell_type": "code",
   "execution_count": 26,
   "metadata": {},
   "outputs": [
    {
     "data": {
      "text/plain": [
       "(157, 206)"
      ]
     },
     "execution_count": 26,
     "metadata": {},
     "output_type": "execute_result"
    }
   ],
   "source": [
    "test_feats.shape"
   ]
  },
  {
   "cell_type": "code",
   "execution_count": 27,
   "metadata": {},
   "outputs": [
    {
     "data": {
      "text/plain": [
       "ignore         318\n",
       "investigate    309\n",
       "Name: target, dtype: int64"
      ]
     },
     "execution_count": 27,
     "metadata": {},
     "output_type": "execute_result"
    }
   ],
   "source": [
    "train_labels.value_counts()"
   ]
  },
  {
   "cell_type": "markdown",
   "metadata": {},
   "source": [
    "#### TFIDF Creation"
   ]
  },
  {
   "cell_type": "code",
   "execution_count": 28,
   "metadata": {},
   "outputs": [
    {
     "name": "stdout",
     "output_type": "stream",
     "text": [
      "done in 0.458s\n"
     ]
    }
   ],
   "source": [
    "t0 = time()\n",
    "vectorizer = TfidfVectorizer(\n",
    "    ngram_range=(1,3),\n",
    "    #max_df=0.9, \n",
    "    min_df=2,\n",
    "    use_idf=True\n",
    ")\n",
    "train_feats_text = vectorizer.fit_transform(train_feats['cleaned_text'].values.tolist())\n",
    "test_feats_text = vectorizer.transform(test_feats['cleaned_text'].values.tolist()) \n",
    "print(\"done in %0.3fs\" % (time() - t0))"
   ]
  },
  {
   "cell_type": "code",
   "execution_count": 29,
   "metadata": {},
   "outputs": [
    {
     "data": {
      "text/plain": [
       "(627, 8939)"
      ]
     },
     "execution_count": 29,
     "metadata": {},
     "output_type": "execute_result"
    }
   ],
   "source": [
    "train_feats_text.shape"
   ]
  },
  {
   "cell_type": "code",
   "execution_count": 30,
   "metadata": {},
   "outputs": [
    {
     "data": {
      "text/plain": [
       "(157, 8939)"
      ]
     },
     "execution_count": 30,
     "metadata": {},
     "output_type": "execute_result"
    }
   ],
   "source": [
    "test_feats_text.shape"
   ]
  },
  {
   "cell_type": "markdown",
   "metadata": {},
   "source": [
    "Change TFIDF back to dataframe so it can be concatinated with other features"
   ]
  },
  {
   "cell_type": "code",
   "execution_count": 31,
   "metadata": {},
   "outputs": [],
   "source": [
    "#https://stackoverflow.com/a/50624143\n",
    "train_feats_text_df = pd.DataFrame(train_feats_text.toarray(), columns=vectorizer.get_feature_names())"
   ]
  },
  {
   "cell_type": "code",
   "execution_count": 32,
   "metadata": {},
   "outputs": [
    {
     "data": {
      "text/html": [
       "<div>\n",
       "<style scoped>\n",
       "    .dataframe tbody tr th:only-of-type {\n",
       "        vertical-align: middle;\n",
       "    }\n",
       "\n",
       "    .dataframe tbody tr th {\n",
       "        vertical-align: top;\n",
       "    }\n",
       "\n",
       "    .dataframe thead th {\n",
       "        text-align: right;\n",
       "    }\n",
       "</style>\n",
       "<table border=\"1\" class=\"dataframe\">\n",
       "  <thead>\n",
       "    <tr style=\"text-align: right;\">\n",
       "      <th></th>\n",
       "      <th>ab</th>\n",
       "      <th>abbuchung</th>\n",
       "      <th>abend</th>\n",
       "      <th>ability</th>\n",
       "      <th>able</th>\n",
       "      <th>able access</th>\n",
       "      <th>able hold</th>\n",
       "      <th>able hold phone</th>\n",
       "      <th>able join</th>\n",
       "      <th>able link</th>\n",
       "      <th>...</th>\n",
       "      <th>youthful skin interview</th>\n",
       "      <th>youtube</th>\n",
       "      <th>youtube copyright</th>\n",
       "      <th>yt</th>\n",
       "      <th>yu</th>\n",
       "      <th>yð¾u</th>\n",
       "      <th>zero</th>\n",
       "      <th>zoom</th>\n",
       "      <th>zoom video</th>\n",
       "      <th>zoom video demo</th>\n",
       "    </tr>\n",
       "  </thead>\n",
       "  <tbody>\n",
       "    <tr>\n",
       "      <th>0</th>\n",
       "      <td>0.0</td>\n",
       "      <td>0.0</td>\n",
       "      <td>0.0</td>\n",
       "      <td>0.0</td>\n",
       "      <td>0.0</td>\n",
       "      <td>0.0</td>\n",
       "      <td>0.0</td>\n",
       "      <td>0.0</td>\n",
       "      <td>0.0</td>\n",
       "      <td>0.0</td>\n",
       "      <td>...</td>\n",
       "      <td>0.0</td>\n",
       "      <td>0.0</td>\n",
       "      <td>0.0</td>\n",
       "      <td>0.0</td>\n",
       "      <td>0.0</td>\n",
       "      <td>0.0</td>\n",
       "      <td>0.0</td>\n",
       "      <td>0.0</td>\n",
       "      <td>0.0</td>\n",
       "      <td>0.0</td>\n",
       "    </tr>\n",
       "    <tr>\n",
       "      <th>1</th>\n",
       "      <td>0.0</td>\n",
       "      <td>0.0</td>\n",
       "      <td>0.0</td>\n",
       "      <td>0.0</td>\n",
       "      <td>0.0</td>\n",
       "      <td>0.0</td>\n",
       "      <td>0.0</td>\n",
       "      <td>0.0</td>\n",
       "      <td>0.0</td>\n",
       "      <td>0.0</td>\n",
       "      <td>...</td>\n",
       "      <td>0.0</td>\n",
       "      <td>0.0</td>\n",
       "      <td>0.0</td>\n",
       "      <td>0.0</td>\n",
       "      <td>0.0</td>\n",
       "      <td>0.0</td>\n",
       "      <td>0.0</td>\n",
       "      <td>0.0</td>\n",
       "      <td>0.0</td>\n",
       "      <td>0.0</td>\n",
       "    </tr>\n",
       "    <tr>\n",
       "      <th>2</th>\n",
       "      <td>0.0</td>\n",
       "      <td>0.0</td>\n",
       "      <td>0.0</td>\n",
       "      <td>0.0</td>\n",
       "      <td>0.0</td>\n",
       "      <td>0.0</td>\n",
       "      <td>0.0</td>\n",
       "      <td>0.0</td>\n",
       "      <td>0.0</td>\n",
       "      <td>0.0</td>\n",
       "      <td>...</td>\n",
       "      <td>0.0</td>\n",
       "      <td>0.0</td>\n",
       "      <td>0.0</td>\n",
       "      <td>0.0</td>\n",
       "      <td>0.0</td>\n",
       "      <td>0.0</td>\n",
       "      <td>0.0</td>\n",
       "      <td>0.0</td>\n",
       "      <td>0.0</td>\n",
       "      <td>0.0</td>\n",
       "    </tr>\n",
       "    <tr>\n",
       "      <th>3</th>\n",
       "      <td>0.0</td>\n",
       "      <td>0.0</td>\n",
       "      <td>0.0</td>\n",
       "      <td>0.0</td>\n",
       "      <td>0.0</td>\n",
       "      <td>0.0</td>\n",
       "      <td>0.0</td>\n",
       "      <td>0.0</td>\n",
       "      <td>0.0</td>\n",
       "      <td>0.0</td>\n",
       "      <td>...</td>\n",
       "      <td>0.0</td>\n",
       "      <td>0.0</td>\n",
       "      <td>0.0</td>\n",
       "      <td>0.0</td>\n",
       "      <td>0.0</td>\n",
       "      <td>0.0</td>\n",
       "      <td>0.0</td>\n",
       "      <td>0.0</td>\n",
       "      <td>0.0</td>\n",
       "      <td>0.0</td>\n",
       "    </tr>\n",
       "    <tr>\n",
       "      <th>4</th>\n",
       "      <td>0.0</td>\n",
       "      <td>0.0</td>\n",
       "      <td>0.0</td>\n",
       "      <td>0.0</td>\n",
       "      <td>0.0</td>\n",
       "      <td>0.0</td>\n",
       "      <td>0.0</td>\n",
       "      <td>0.0</td>\n",
       "      <td>0.0</td>\n",
       "      <td>0.0</td>\n",
       "      <td>...</td>\n",
       "      <td>0.0</td>\n",
       "      <td>0.0</td>\n",
       "      <td>0.0</td>\n",
       "      <td>0.0</td>\n",
       "      <td>0.0</td>\n",
       "      <td>0.0</td>\n",
       "      <td>0.0</td>\n",
       "      <td>0.0</td>\n",
       "      <td>0.0</td>\n",
       "      <td>0.0</td>\n",
       "    </tr>\n",
       "  </tbody>\n",
       "</table>\n",
       "<p>5 rows × 8939 columns</p>\n",
       "</div>"
      ],
      "text/plain": [
       "    ab  abbuchung  abend  ability  able  able access  able hold  \\\n",
       "0  0.0        0.0    0.0      0.0   0.0          0.0        0.0   \n",
       "1  0.0        0.0    0.0      0.0   0.0          0.0        0.0   \n",
       "2  0.0        0.0    0.0      0.0   0.0          0.0        0.0   \n",
       "3  0.0        0.0    0.0      0.0   0.0          0.0        0.0   \n",
       "4  0.0        0.0    0.0      0.0   0.0          0.0        0.0   \n",
       "\n",
       "   able hold phone  able join  able link       ...         \\\n",
       "0              0.0        0.0        0.0       ...          \n",
       "1              0.0        0.0        0.0       ...          \n",
       "2              0.0        0.0        0.0       ...          \n",
       "3              0.0        0.0        0.0       ...          \n",
       "4              0.0        0.0        0.0       ...          \n",
       "\n",
       "   youthful skin interview  youtube  youtube copyright   yt   yu  yð¾u  zero  \\\n",
       "0                      0.0      0.0                0.0  0.0  0.0   0.0   0.0   \n",
       "1                      0.0      0.0                0.0  0.0  0.0   0.0   0.0   \n",
       "2                      0.0      0.0                0.0  0.0  0.0   0.0   0.0   \n",
       "3                      0.0      0.0                0.0  0.0  0.0   0.0   0.0   \n",
       "4                      0.0      0.0                0.0  0.0  0.0   0.0   0.0   \n",
       "\n",
       "   zoom  zoom video  zoom video demo  \n",
       "0   0.0         0.0              0.0  \n",
       "1   0.0         0.0              0.0  \n",
       "2   0.0         0.0              0.0  \n",
       "3   0.0         0.0              0.0  \n",
       "4   0.0         0.0              0.0  \n",
       "\n",
       "[5 rows x 8939 columns]"
      ]
     },
     "execution_count": 32,
     "metadata": {},
     "output_type": "execute_result"
    }
   ],
   "source": [
    "train_feats_text_df.head()"
   ]
  },
  {
   "cell_type": "code",
   "execution_count": 33,
   "metadata": {},
   "outputs": [
    {
     "data": {
      "text/plain": [
       "(627, 9144)"
      ]
     },
     "execution_count": 33,
     "metadata": {},
     "output_type": "execute_result"
    }
   ],
   "source": [
    "train_feats = pd.concat([\n",
    "    train_feats.reset_index(drop=True),\n",
    "    train_feats_text_df.reset_index(drop=True)\n",
    "],axis=1)\n",
    "train_feats.drop('cleaned_text',axis=1,inplace=True)\n",
    "train_feats.shape"
   ]
  },
  {
   "cell_type": "markdown",
   "metadata": {},
   "source": [
    "Do the same for the test features"
   ]
  },
  {
   "cell_type": "code",
   "execution_count": 34,
   "metadata": {},
   "outputs": [
    {
     "data": {
      "text/plain": [
       "(157, 9144)"
      ]
     },
     "execution_count": 34,
     "metadata": {},
     "output_type": "execute_result"
    }
   ],
   "source": [
    "test_feats_text_df = pd.DataFrame(test_feats_text.toarray(), columns=vectorizer.get_feature_names())\n",
    "test_feats_text_df = test_feats_text_df.add_prefix('LSA_')\n",
    "test_feats = pd.concat([\n",
    "    test_feats.reset_index(drop=True),\n",
    "    test_feats_text_df.reset_index(drop=True)\n",
    "],axis=1)\n",
    "test_feats.drop('cleaned_text',axis=1,inplace=True)\n",
    "test_feats.shape"
   ]
  },
  {
   "cell_type": "markdown",
   "metadata": {},
   "source": [
    "Function to keep track of scoring and for printing results out"
   ]
  },
  {
   "cell_type": "code",
   "execution_count": 35,
   "metadata": {},
   "outputs": [],
   "source": [
    "score_dict = {}\n",
    "def scoring(score_dict,train_feats,train_labels,test_feats,test_labels,clf):\n",
    "    if 'accuracy' not in score_dict:\n",
    "        score_dict['accuracy'] = []\n",
    "    if 'f1' not in score_dict:\n",
    "        score_dict['f1'] = []\n",
    "    if 'recall' not in score_dict:\n",
    "        score_dict['recall'] = []    \n",
    "    if 'FN' not in score_dict:\n",
    "        score_dict['FN'] = []\n",
    "    clf_name = re.findall('(^[^\\(]+)\\(',str(clf))[0]\n",
    "    already_seen = clf.score(train_feats, train_labels)\n",
    "    accuracy = clf.score(test_feats, test_labels)\n",
    "    pred = clf.predict(test_feats)\n",
    "    f1 = f1_score(test_labels, pred, pos_label='investigate')\n",
    "    recall = recall_score(test_labels, pred, pos_label='investigate')\n",
    "    cnf_matrix = confusion_matrix(test_labels, pred)\n",
    "    FN = cnf_matrix[1][0]\n",
    "    false_negative = cnf_matrix[1][0]\n",
    "    score_dict['accuracy'].append((clf_name,accuracy))\n",
    "    score_dict['f1'].append((clf_name,f1))\n",
    "    score_dict['recall'].append((clf_name,recall))\n",
    "    score_dict['FN'].append((clf_name,false_negative))\n",
    "    print(clf_name + ' Scores:\\n')\n",
    "    print('Accuracy of data already seen: %0.4f' % already_seen)\n",
    "    print('Accuracy of data not seen: %0.4f' % accuracy)\n",
    "    print('F1 score: %0.4f' % f1)\n",
    "    print('Recall score: %0f' % recall)\n",
    "    print('False Negatives: %0d' % FN)\n",
    "    return score_dict"
   ]
  },
  {
   "cell_type": "markdown",
   "metadata": {},
   "source": [
    "#### Scale the features"
   ]
  },
  {
   "cell_type": "code",
   "execution_count": 36,
   "metadata": {},
   "outputs": [],
   "source": [
    "min_max_scaler = preprocessing.MinMaxScaler()\n",
    "train_feats_scaled = min_max_scaler.fit_transform(train_feats)\n",
    "test_feats_scaled = min_max_scaler.transform(test_feats)"
   ]
  },
  {
   "cell_type": "markdown",
   "metadata": {},
   "source": [
    "#### SVM"
   ]
  },
  {
   "cell_type": "code",
   "execution_count": 37,
   "metadata": {},
   "outputs": [
    {
     "name": "stdout",
     "output_type": "stream",
     "text": [
      "done in 0.097s\n",
      "LinearSVC Scores:\n",
      "\n",
      "Accuracy of data already seen: 0.9904\n",
      "Accuracy of data not seen: 0.9045\n",
      "F1 score: 0.9068\n",
      "Recall score: 0.973333\n",
      "False Negatives: 2\n"
     ]
    }
   ],
   "source": [
    "t0 = time()\n",
    "svm_clf = LinearSVC(random_state=7350,C=0.1,loss='hinge',tol=1e-10)\n",
    "svm_clf.fit(train_feats_scaled, train_labels)\n",
    "print(\"done in %0.3fs\" % (time() - t0))\n",
    "score_dict = scoring(score_dict,train_feats_scaled,train_labels,test_feats_scaled,test_labels,svm_clf)"
   ]
  },
  {
   "cell_type": "markdown",
   "metadata": {},
   "source": [
    "#### Extra Trees Classifier"
   ]
  },
  {
   "cell_type": "code",
   "execution_count": 38,
   "metadata": {},
   "outputs": [
    {
     "name": "stdout",
     "output_type": "stream",
     "text": [
      "done in 0.512s\n",
      "ExtraTreesClassifier Scores:\n",
      "\n",
      "Accuracy of data already seen: 0.9984\n",
      "Accuracy of data not seen: 0.8981\n",
      "F1 score: 0.9012\n",
      "Recall score: 0.973333\n",
      "False Negatives: 2\n"
     ]
    }
   ],
   "source": [
    "t0 = time()\n",
    "et_clf = ExtraTreesClassifier(n_jobs=-1,n_estimators=100,random_state=7350,max_leaf_nodes=400)\n",
    "et_clf.fit(train_feats_scaled, train_labels)\n",
    "print(\"done in %0.3fs\" % (time() - t0))\n",
    "score_dict = scoring(score_dict,train_feats_scaled,train_labels,test_feats_scaled,test_labels,et_clf)"
   ]
  },
  {
   "cell_type": "markdown",
   "metadata": {},
   "source": [
    "Get Feature Importances"
   ]
  },
  {
   "cell_type": "code",
   "execution_count": 39,
   "metadata": {
    "scrolled": false
   },
   "outputs": [
    {
     "name": "stdout",
     "output_type": "stream",
     "text": [
      "Feature ranking:\n",
      "1. num_uniq_url_(-0.001, 1.0] (0.041624)\n",
      "2. num_link_(-0.001, 1.0] (0.032350)\n",
      "3. return_path_match_from (0.030065)\n",
      "4. has_unsubscribe_link (0.027776)\n",
      "5. num_url_(-0.001, 1.0] (0.024970)\n",
      "6. Content-type_Multipart/alternative (0.013214)\n",
      "7. is_multipart (0.009955)\n",
      "8. has_html_content (0.009850)\n",
      "9. SPF_PASS (0.009627)\n",
      "10. from_tld_com (0.008166)\n",
      "11. num_uniq_url_(10.0, 16.0] (0.006955)\n",
      "12. num_link_(3.8, 6.0] (0.006822)\n",
      "13. subject_len_(-0.001, 13.0] (0.006771)\n",
      "14. num_uniq_link (0.006488)\n",
      "15. num_link_(14.7, 246.0] (0.006101)\n",
      "16. SPF_NONE (0.005850)\n",
      "17. num_url_(6.0, 11.0] (0.005773)\n",
      "18. body_len_(410.15, 508.0] (0.005578)\n",
      "19. num_url_(11.0, 20.0] (0.005516)\n",
      "20. num_url_(20.0, 248.0] (0.005376)\n",
      "21. num_uniq_url_(3.0, 6.0] (0.005222)\n",
      "22. num_link_(9.0, 14.7] (0.005088)\n",
      "23. invoice (0.004793)\n",
      "24. body_len_(1194.2, 1416.4] (0.004747)\n",
      "25. Content-type_text/plain (0.004662)\n"
     ]
    }
   ],
   "source": [
    "#http://scikit-learn.org/stable/auto_examples/ensemble/plot_forest_importances.html\n",
    "#https://stackoverflow.com/a/42429989\n",
    "#https://stackoverflow.com/a/25219535\n",
    "importances = et_clf.feature_importances_\n",
    "std = np.std([tree.feature_importances_ for tree in et_clf.estimators_],\n",
    "             axis=0)\n",
    "indices = np.argsort(importances)[::-1]\n",
    "features = train_feats.columns\n",
    "print(\"Feature ranking:\")\n",
    "for f in range(25):\n",
    "    print(\"%d. %s (%f)\" % (f + 1, features[indices[f]], importances[indices[f]]))"
   ]
  },
  {
   "cell_type": "code",
   "execution_count": 40,
   "metadata": {
    "scrolled": false
   },
   "outputs": [
    {
     "data": {
      "image/png": "[encoded data removed]",
      "text/plain": [
       "<matplotlib.figure.Figure at 0x1a1792bd68>"
      ]
     },
     "metadata": {},
     "output_type": "display_data"
    }
   ],
   "source": [
    "top_indices = indices[:25]\n",
    "top_features = [features[i] for i in indices[:25]]\n",
    "plt.figure(figsize=(18, 16))\n",
    "plt.title(\"Feature importances\")\n",
    "plt.bar(range(25), importances[top_indices],color=\"orange\", yerr=std[top_indices], align=\"center\",)\n",
    "plt.xticks(range(25), top_features, rotation=75)\n",
    "plt.xlim([-1, 25])\n",
    "plt.show()"
   ]
  },
  {
   "cell_type": "markdown",
   "metadata": {},
   "source": [
    "#### Neural Net"
   ]
  },
  {
   "cell_type": "code",
   "execution_count": 41,
   "metadata": {},
   "outputs": [
    {
     "name": "stdout",
     "output_type": "stream",
     "text": [
      "done in 2.628s\n",
      "MLPClassifier Scores:\n",
      "\n",
      "Accuracy of data already seen: 0.9984\n",
      "Accuracy of data not seen: 0.9236\n",
      "F1 score: 0.9241\n",
      "Recall score: 0.973333\n",
      "False Negatives: 2\n"
     ]
    }
   ],
   "source": [
    "t0 = time()\n",
    "nn_clf = MLPClassifier(max_iter=800,hidden_layer_sizes=(50, 100, 50),learning_rate='adaptive')\n",
    "nn_clf.fit(train_feats_scaled, train_labels)\n",
    "print(\"done in %0.3fs\" % (time() - t0))\n",
    "score_dict = scoring(score_dict,train_feats_scaled,train_labels,test_feats_scaled,test_labels,nn_clf)"
   ]
  },
  {
   "cell_type": "markdown",
   "metadata": {},
   "source": [
    "#### VotingClassifier"
   ]
  },
  {
   "cell_type": "code",
   "execution_count": 42,
   "metadata": {},
   "outputs": [
    {
     "name": "stdout",
     "output_type": "stream",
     "text": [
      "done in 2.285s\n"
     ]
    }
   ],
   "source": [
    "t0 = time()\n",
    "vt_clf = VotingClassifier(estimators=[\n",
    "    #('knn',knn_clf),\n",
    "#     ('nb',nb_clf),\n",
    "    ('et',et_clf),\n",
    "#     ('rf',rf_clf),\n",
    "#     ('rd',rd_clf),\n",
    "    #('bg',bg_clf),\n",
    "#     ('cc',cc_clf),\n",
    "    ('svm',svm_clf),\n",
    "    #('gp',gp_clf),\n",
    "    #('lr',lr_clf),\n",
    "#     ('gnb',gnb_clf),\n",
    "    ('nn',nn_clf),\n",
    "],voting='hard')\n",
    "vt_clf.fit(train_feats_scaled, train_labels)\n",
    "print(\"done in %0.3fs\" % (time() - t0))"
   ]
  },
  {
   "cell_type": "code",
   "execution_count": 43,
   "metadata": {},
   "outputs": [
    {
     "name": "stderr",
     "output_type": "stream",
     "text": [
      "/usr/local/anaconda3/lib/python3.6/site-packages/sklearn/preprocessing/label.py:151: DeprecationWarning: The truth value of an empty array is ambiguous. Returning False, but in future this will result in an error. Use `array.size > 0` to check that an array is not empty.\n",
      "  if diff:\n",
      "/usr/local/anaconda3/lib/python3.6/site-packages/sklearn/preprocessing/label.py:151: DeprecationWarning: The truth value of an empty array is ambiguous. Returning False, but in future this will result in an error. Use `array.size > 0` to check that an array is not empty.\n",
      "  if diff:\n"
     ]
    },
    {
     "name": "stdout",
     "output_type": "stream",
     "text": [
      "VotingClassifier Scores:\n",
      "\n",
      "Accuracy of data already seen: 0.9984\n",
      "Accuracy of data not seen: 0.9108\n",
      "F1 score: 0.9125\n",
      "Recall score: 0.9733\n",
      "False Negatives: 2\n"
     ]
    },
    {
     "name": "stderr",
     "output_type": "stream",
     "text": [
      "/usr/local/anaconda3/lib/python3.6/site-packages/sklearn/preprocessing/label.py:151: DeprecationWarning: The truth value of an empty array is ambiguous. Returning False, but in future this will result in an error. Use `array.size > 0` to check that an array is not empty.\n",
      "  if diff:\n"
     ]
    }
   ],
   "source": [
    "already_seen = vt_clf.score(train_feats_scaled, train_labels)\n",
    "accuracy = vt_clf.score(test_feats_scaled, test_labels)\n",
    "vt_pred = vt_clf.predict(test_feats_scaled)\n",
    "f1 = f1_score(test_labels, vt_pred, pos_label='investigate')\n",
    "recall = recall_score(test_labels, vt_pred, pos_label='investigate')\n",
    "cnf_matrix = confusion_matrix(test_labels, vt_pred)\n",
    "FN = cnf_matrix[1][0]\n",
    "false_negative = cnf_matrix[1][0]\n",
    "print('VotingClassifier Scores:\\n')\n",
    "print('Accuracy of data already seen: %0.4f' % already_seen)\n",
    "print('Accuracy of data not seen: %0.4f' % accuracy)\n",
    "print('F1 score: %0.4f' % f1)\n",
    "print('Recall score: %0.4f' % recall)\n",
    "print('False Negatives: %0d' % FN)"
   ]
  },
  {
   "cell_type": "markdown",
   "metadata": {},
   "source": [
    "#### Best Classifier Scores"
   ]
  },
  {
   "cell_type": "code",
   "execution_count": 44,
   "metadata": {},
   "outputs": [
    {
     "name": "stdout",
     "output_type": "stream",
     "text": [
      "Best Accuracy:\n",
      "\n",
      "MLPClassifier: 0.9236\n",
      "LinearSVC: 0.9045\n",
      "ExtraTreesClassifier: 0.8981\n",
      "\n",
      "\n",
      "Best F1 Score:\n",
      "\n",
      "MLPClassifier: 0.9241\n",
      "LinearSVC: 0.9068\n",
      "ExtraTreesClassifier: 0.9012\n",
      "\n",
      "\n",
      "Best Recall Score:\n",
      "\n",
      "LinearSVC: 0.9733\n",
      "ExtraTreesClassifier: 0.9733\n",
      "MLPClassifier: 0.9733\n",
      "\n",
      "\n",
      "Best False Negative Classifier:\n",
      "\n",
      "LinearSVC: 2\n",
      "ExtraTreesClassifier: 2\n",
      "MLPClassifier: 2\n"
     ]
    }
   ],
   "source": [
    "print('Best Accuracy:\\n')\n",
    "for i in [\n",
    "    '%s: %0.4f' % (k,v)\n",
    "    for k,v in sorted(score_dict['accuracy'], key=lambda tup: tup[1], reverse=True)\n",
    "    ][:3]:\n",
    "    print(i)\n",
    "print('\\n\\nBest F1 Score:\\n')\n",
    "for i in [\n",
    "    '%s: %0.4f' % (k,v)\n",
    "    for k,v in sorted(score_dict['f1'], key=lambda tup: tup[1], reverse=True)\n",
    "    ][:3]:\n",
    "    print(i)\n",
    "print('\\n\\nBest Recall Score:\\n')\n",
    "for i in [\n",
    "    '%s: %0.4f' % (k,v)\n",
    "    for k,v in sorted(score_dict['recall'], key=lambda tup: tup[1], reverse=True)\n",
    "    ][:3]:\n",
    "    print(i)    \n",
    "print('\\n\\nBest False Negative Classifier:\\n')\n",
    "for i in [\n",
    "    '%s: %i' % (k,v)\n",
    "    for k,v in sorted(score_dict['FN'], key=lambda tup: tup[1])\n",
    "    ][:3]:\n",
    "    print(i)"
   ]
  },
  {
   "cell_type": "markdown",
   "metadata": {},
   "source": [
    "#### Confusion Matrix and ROC curves of Top Algos"
   ]
  },
  {
   "cell_type": "code",
   "execution_count": 45,
   "metadata": {},
   "outputs": [],
   "source": [
    "#http://scikit-learn.org/stable/auto_examples/model_selection/plot_confusion_matrix.html\n",
    "def plot_confusion_matrix(cm, classes,\n",
    "                          normalize=False,\n",
    "                          title='Confusion matrix',\n",
    "                          cmap=plt.cm.Blues):\n",
    "    \"\"\"\n",
    "    This function prints and plots the confusion matrix.\n",
    "    Normalization can be applied by setting `normalize=True`.\n",
    "    \"\"\"\n",
    "    plt.imshow(cm, interpolation='nearest', cmap=cmap)\n",
    "    plt.title(title)\n",
    "    plt.colorbar()\n",
    "    tick_marks = np.arange(len(classes))\n",
    "    plt.xticks(tick_marks, classes, rotation=45)\n",
    "    plt.yticks(tick_marks, classes)\n",
    "\n",
    "    #fmt = '.2f' if normalize else 'd'\n",
    "    thresh = cm.max() / 2.\n",
    "    for i, j in product(range(cm.shape[0]), range(cm.shape[1])):\n",
    "        plt.text(j, i, format(cm[i, j], 'd'),\n",
    "                 horizontalalignment=\"center\",\n",
    "                 color=\"white\" if cm[i, j] > thresh else \"black\")\n",
    "\n",
    "    plt.tight_layout()\n",
    "    plt.ylabel('True label')\n",
    "    plt.xlabel('Predicted label')"
   ]
  },
  {
   "cell_type": "code",
   "execution_count": 46,
   "metadata": {},
   "outputs": [],
   "source": [
    "def display_conf_mat(clf,test_feats,test_labels):\n",
    "    clf_name = re.findall('(^[^\\(]+)\\(',str(clf))[0]\n",
    "    pred = clf.predict(test_feats)\n",
    "    cnf_matrix = confusion_matrix(test_labels, pred)\n",
    "    np.set_printoptions(precision=2)\n",
    "    plt.figure(figsize=(5, 4))\n",
    "    plot_confusion_matrix(cnf_matrix, classes=['ignore','investigate'],\n",
    "                          title=clf_name + ' Confusion matrix')\n",
    "    plt.show()   "
   ]
  },
  {
   "cell_type": "code",
   "execution_count": 47,
   "metadata": {},
   "outputs": [],
   "source": [
    "#https://datamize.wordpress.com/2015/01/24/how-to-plot-a-roc-curve-in-scikit-learn/\n",
    "#https://plot.ly/scikit-learn/plot-roc/\n",
    "def plot_roc_curve(clf,test_feats,test_labels):\n",
    "    clf_name = re.findall('(^[^\\(]+)\\(',str(clf))[0]\n",
    "    # Binarize the output\n",
    "    pred = clf.predict(test_feats)\n",
    "    test_labels_bin = label_binarize(test_labels, classes=['ignore','investigate'])\n",
    "    pred_bin = label_binarize(pred, classes=['ignore','investigate'])\n",
    "    false_positive_rate, true_positive_rate, thresholds = roc_curve(test_labels_bin, pred_bin)\n",
    "    roc_auc = auc(false_positive_rate, true_positive_rate)\n",
    "    plt.title(clf_name + ' Receiver Operating Characteristic')\n",
    "    plt.plot(false_positive_rate, true_positive_rate, 'b',\n",
    "        label='AUC = %0.2f'% roc_auc)\n",
    "    plt.legend(loc='lower right')\n",
    "    plt.plot([0,1],[0,1],'r--')\n",
    "    plt.ylabel('True Positive Rate')\n",
    "    plt.xlabel('False Positive Rate')\n",
    "    plt.show()"
   ]
  },
  {
   "cell_type": "code",
   "execution_count": 48,
   "metadata": {},
   "outputs": [
    {
     "data": {
      "image/png": "[encoded data removed]",
      "text/plain": [
       "<matplotlib.figure.Figure at 0x1a17598358>"
      ]
     },
     "metadata": {},
     "output_type": "display_data"
    },
    {
     "data": {
      "image/png": "[encoded data removed]",
      "text/plain": [
       "<matplotlib.figure.Figure at 0x1a175008d0>"
      ]
     },
     "metadata": {},
     "output_type": "display_data"
    }
   ],
   "source": [
    "display_conf_mat(et_clf,test_feats_scaled,test_labels)\n",
    "plot_roc_curve(et_clf,test_feats_scaled,test_labels)"
   ]
  },
  {
   "cell_type": "code",
   "execution_count": 49,
   "metadata": {},
   "outputs": [
    {
     "data": {
      "image/png": "[encoded data removed]",
      "text/plain": [
       "<matplotlib.figure.Figure at 0x1a17e35d68>"
      ]
     },
     "metadata": {},
     "output_type": "display_data"
    },
    {
     "data": {
      "image/png": "[encoded data removed]",
      "text/plain": [
       "<matplotlib.figure.Figure at 0x1a175acc50>"
      ]
     },
     "metadata": {},
     "output_type": "display_data"
    }
   ],
   "source": [
    "display_conf_mat(nn_clf,test_feats_scaled,test_labels)\n",
    "plot_roc_curve(nn_clf,test_feats_scaled,test_labels)"
   ]
  },
  {
   "cell_type": "code",
   "execution_count": 50,
   "metadata": {
    "scrolled": false
   },
   "outputs": [
    {
     "data": {
      "image/png": "[encoded data removed]",
      "text/plain": [
       "<matplotlib.figure.Figure at 0x1a17c8d390>"
      ]
     },
     "metadata": {},
     "output_type": "display_data"
    },
    {
     "data": {
      "image/png": "[encoded data removed]",
      "text/plain": [
       "<matplotlib.figure.Figure at 0x1a175bf6a0>"
      ]
     },
     "metadata": {},
     "output_type": "display_data"
    }
   ],
   "source": [
    "display_conf_mat(svm_clf,test_feats_scaled,test_labels)\n",
    "plot_roc_curve(svm_clf,test_feats_scaled,test_labels)"
   ]
  },
  {
   "cell_type": "code",
   "execution_count": 51,
   "metadata": {},
   "outputs": [
    {
     "name": "stderr",
     "output_type": "stream",
     "text": [
      "/usr/local/anaconda3/lib/python3.6/site-packages/sklearn/preprocessing/label.py:151: DeprecationWarning: The truth value of an empty array is ambiguous. Returning False, but in future this will result in an error. Use `array.size > 0` to check that an array is not empty.\n",
      "  if diff:\n"
     ]
    },
    {
     "data": {
      "image/png": "[encoded data removed]",
      "text/plain": [
       "<matplotlib.figure.Figure at 0x1a175d7208>"
      ]
     },
     "metadata": {},
     "output_type": "display_data"
    },
    {
     "name": "stderr",
     "output_type": "stream",
     "text": [
      "/usr/local/anaconda3/lib/python3.6/site-packages/sklearn/preprocessing/label.py:151: DeprecationWarning: The truth value of an empty array is ambiguous. Returning False, but in future this will result in an error. Use `array.size > 0` to check that an array is not empty.\n",
      "  if diff:\n"
     ]
    },
    {
     "data": {
      "image/png": "[encoded data removed]",
      "text/plain": [
       "<matplotlib.figure.Figure at 0x1a1756a898>"
      ]
     },
     "metadata": {},
     "output_type": "display_data"
    }
   ],
   "source": [
    "display_conf_mat(vt_clf,test_feats_scaled,test_labels)\n",
    "plot_roc_curve(vt_clf,test_feats_scaled,test_labels)"
   ]
  }
 ],
 "metadata": {
  "kernelspec": {
   "display_name": "Python 3",
   "language": "python",
   "name": "python3"
  },
  "language_info": {
   "codemirror_mode": {
    "name": "ipython",
    "version": 3
   },
   "file_extension": ".py",
   "mimetype": "text/x-python",
   "name": "python",
   "nbconvert_exporter": "python",
   "pygments_lexer": "ipython3",
   "version": "3.6.4"
  }
 },
 "nbformat": 4,
 "nbformat_minor": 2
}
