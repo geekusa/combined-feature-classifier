{
 "cells": [
  {
   "cell_type": "code",
   "execution_count": 1,
   "metadata": {},
   "outputs": [],
   "source": [
    "import os\n",
    "import email\n",
    "import re\n",
    "import mailparser\n",
    "import random\n",
    "import spacy\n",
    "import string\n",
    "import numpy as np\n",
    "import pandas as pd\n",
    "import matplotlib.pyplot as plt\n",
    "from bs4 import BeautifulSoup\n",
    "from tld import get_tld\n",
    "from time import strftime, strptime, time\n",
    "from sklearn.model_selection import train_test_split\n",
    "from sklearn.metrics import f1_score, confusion_matrix, roc_curve, auc, recall_score\n",
    "from itertools import product\n",
    "from sklearn.preprocessing import label_binarize\n",
    "from imblearn.over_sampling import SMOTE "
   ]
  },
  {
   "cell_type": "markdown",
   "metadata": {},
   "source": [
    "Set constants for directories, take a random sampling of the \"ignore\" email since there are so many (under sample)"
   ]
  },
  {
   "cell_type": "code",
   "execution_count": 2,
   "metadata": {},
   "outputs": [],
   "source": [
    "IGNORE_DIR = '/Users/worshamn/Documents/emailProject/IgnoreFix'\n",
    "INVESTIGATE_DIR = '/Users/worshamn/Documents/emailProject/InvestigateFix'\n",
    "#https://stackoverflow.com/a/6482922\n",
    "random.seed(2842)\n",
    "ignore_sample_index = [ i for i in sorted(random.sample(range(len(os.listdir(IGNORE_DIR))), 500)) ]\n",
    "ignore_sample = []\n",
    "for i in ignore_sample_index:\n",
    "    ignore_sample.append(os.listdir(IGNORE_DIR)[i])\n",
    "input_dirs = {}\n",
    "input_dirs[INVESTIGATE_DIR] = os.listdir(INVESTIGATE_DIR) \n",
    "input_dirs[IGNORE_DIR] = ignore_sample"
   ]
  },
  {
   "cell_type": "code",
   "execution_count": 3,
   "metadata": {
    "scrolled": true
   },
   "outputs": [
    {
     "data": {
      "text/plain": [
       "2"
      ]
     },
     "execution_count": 3,
     "metadata": {},
     "output_type": "execute_result"
    }
   ],
   "source": [
    "len(input_dirs)"
   ]
  },
  {
   "cell_type": "code",
   "execution_count": 4,
   "metadata": {},
   "outputs": [
    {
     "data": {
      "text/plain": [
       "384"
      ]
     },
     "execution_count": 4,
     "metadata": {},
     "output_type": "execute_result"
    }
   ],
   "source": [
    "len(input_dirs[INVESTIGATE_DIR])"
   ]
  },
  {
   "cell_type": "code",
   "execution_count": 5,
   "metadata": {},
   "outputs": [
    {
     "data": {
      "text/plain": [
       "500"
      ]
     },
     "execution_count": 5,
     "metadata": {},
     "output_type": "execute_result"
    }
   ],
   "source": [
    "len(input_dirs[IGNORE_DIR])"
   ]
  },
  {
   "cell_type": "markdown",
   "metadata": {},
   "source": [
    "Build function to extract text and features"
   ]
  },
  {
   "cell_type": "code",
   "execution_count": 6,
   "metadata": {},
   "outputs": [],
   "source": [
    "def get_email_text(file):\n",
    "    d = {}\n",
    "    raw_message = email.message_from_file(file)\n",
    "    mail = mailparser.parse_from_string(raw_message.as_string())\n",
    "    d['subject'] = mail.subject\n",
    "    d['subject_len'] = len(d['subject'])\n",
    "    if raw_message.is_multipart():\n",
    "        d['is_mulitpart'] = 1\n",
    "    else:\n",
    "        d['is_multipart'] = 0\n",
    "    d['body'] = mail.text_plain\n",
    "    if len(d['body']) > 0:\n",
    "        d['mail_text'] = d['subject'] + ' ' + d['body'][0]\n",
    "        d['body_len'] = len(d['body'][0])\n",
    "        if len(d['body']) > 1:\n",
    "            soup_html = BeautifulSoup(d['body'][1],'lxml')\n",
    "            d['links'] = soup_html.find_all('a')\n",
    "            d['num_link'] = len(d['links'])\n",
    "            links = []\n",
    "            d['masq_link'] = []\n",
    "            d['masq_link_tld'] = []\n",
    "            d['num_email_link'] = 0\n",
    "            for link in d['links']:\n",
    "                link_text = link.get_text().rstrip('\\n')\n",
    "                a_link = link.get('href')\n",
    "                links.append(a_link)\n",
    "                if 'unsubscribe' in link_text.lower():\n",
    "                    d['has_unsubscribe_link'] = 1\n",
    "                if a_link:    \n",
    "                    if re.search('mailto:',a_link):\n",
    "                        d['num_email_link'] += 1\n",
    "                if a_link != link_text and \\\n",
    "                    'http' in link_text.lower() and \\\n",
    "                    not 'alt=\"http' in link_text.lower():\n",
    "                        d['masq_link'].append(link)\n",
    "                        d['masq_link_tld'].append(\n",
    "                            get_tld(\n",
    "                                a_link,\n",
    "                                fix_protocol=True, \n",
    "                                fail_silently=True\n",
    "                            )\n",
    "                        )\n",
    "            d['num_uniq_link'] = len(set(links))\n",
    "            if d['num_link'] > d['num_uniq_link']:\n",
    "                d['has_repeatlink'] = 1\n",
    "            else:\n",
    "                d['has_repeatlink'] = 0\n",
    "            if len(d['masq_link']) == 0:\n",
    "                d['masq_link'] = ''\n",
    "                d['masq_link_tld'] = ''\n",
    "                d['has_masq_link'] = 0\n",
    "            else:    \n",
    "                d['has_masq_link'] = 1\n",
    "                d['num_masq_link'] = len(d['masq_link'])\n",
    "    else:\n",
    "        d['mail_text'] = d['subject']\n",
    "        d['body_len'] = len(d['body'])\n",
    "    url_query = '((?:https?|ftp)://[^\\s/$.?#]+\\.[^\\s>]+)'\n",
    "    d['url'] = re.findall(url_query,d['mail_text'])\n",
    "    email_query = '([\\w.]+@[\\w.]+\\.[\\w.]{2,5})'\n",
    "    d['email'] = re.findall(email_query,d['mail_text'])\n",
    "    if d['url']:\n",
    "        d['has_url'] = 1\n",
    "        d['num_url'] = len(d['url'])\n",
    "        d['num_uniq_url'] = len(set(d['url']))\n",
    "        d['num_url_repeats'] = d['num_url'] - d['num_uniq_url']\n",
    "        d['url_len'] = []\n",
    "        d['url_tld'] = []\n",
    "        for i in d['url']:\n",
    "            d['url_len'].append(len(i))\n",
    "            d['url_tld'].append(\n",
    "                get_tld(i, fix_protocol=True, fail_silently=True)\n",
    "            )\n",
    "            d['uniq_url_tld'] = set(d['url_tld'])\n",
    "    else:\n",
    "        d['url'] = ''\n",
    "        d['has_url'] = 0\n",
    "        d['num_url'] = 0\n",
    "        d['num_uniq_url'] = 0\n",
    "        d['url_len'] = 0\n",
    "        d['url_tld'] = 0\n",
    "        d['uniq_url_tld'] = 0\n",
    "        d['num_url_repeats'] = 0\n",
    "    if d['email']:\n",
    "        d['has_email'] = 1\n",
    "        d['num_email_addr'] = len(d['email'])\n",
    "        d['num_uniq_email'] = len(set(d['email']))\n",
    "    else:\n",
    "        d['email'] = ''\n",
    "        d['has_email'] = 0\n",
    "        d['num_email_addr'] = 0\n",
    "        d['num_uniq_email'] = 0\n",
    "    soup = BeautifulSoup(d['mail_text'],'lxml')\n",
    "    try:\n",
    "        d['mail_text'] = soup.get_text().encode(\n",
    "            'utf-8',\n",
    "            'ignore'\n",
    "        ).decode('unicode_escape').replace('\\n',' ').replace('\\t',' ')\n",
    "    except:\n",
    "        d['mail_text'] = soup.get_text().replace('\\n',' ').replace('\\t',' ')\n",
    "    d['reply_to'] = mail.reply_to\n",
    "    for k,v in mail.headers.items():\n",
    "        d[k] = v\n",
    "    d['body'] = mail.body\n",
    "    d['text_plain'] = mail.text_plain\n",
    "    if mail.attachments:\n",
    "        d['has_attachments'] = 1\n",
    "        d['num_attachments'] = len(mail.attachments)\n",
    "        for i in mail.attachments:\n",
    "            try:\n",
    "                d['attachment_filename'].append(i['filename'])\n",
    "            except:\n",
    "                d['attachment_filename'] = []\n",
    "                d['attachment_filename'].append(i['filename'])\n",
    "            try:\n",
    "                d['attachment_content_type'].append(i['mail_content_type'])\n",
    "            except:\n",
    "                d['attachment_content_type'] = []\n",
    "                d['attachment_content_type'].append(i['mail_content_type'])\n",
    "    else:\n",
    "        d['has_attachments'] = 0\n",
    "    try:\n",
    "        if re.search(tryGetKeyValue(d, 'Return-Path'),tryGetKeyValue(d, 'From')):\n",
    "            d['return_path_match_from'] = 1\n",
    "        else:\n",
    "            d['return_path_match_from'] = 0\n",
    "    except:\n",
    "        d['return_path_match_from'] = 0\n",
    "    tld_match = re.match(\n",
    "            '[^@]+@([^>]+)>',\n",
    "            tryGetKeyValue(d, 'From')\n",
    "        )\n",
    "    if tld_match:\n",
    "        d['from_tld'] = get_tld(\n",
    "            tld_match.group(1),\n",
    "            fix_protocol=True, \n",
    "            fail_silently=True\n",
    "        )\n",
    "    if 'content=\"text/html' in d['body'].lower():\n",
    "        d['has_html_content'] = 1\n",
    "    else:\n",
    "        d['has_html_content'] = 0\n",
    "    if 'script type=\"text/javascript' in d['body'].lower():\n",
    "        d['has_javascript'] = 1\n",
    "    else:\n",
    "        d['has_javascript'] = 0\n",
    "    if 'img src=\"cid:' in d['body'].lower():\n",
    "        d['has_inline_img'] = 1\n",
    "    else:\n",
    "        d['has_inline_img'] = 0\n",
    "    if 'Content-type' in d:\n",
    "        d['Content-type'] = re.match('([^;]+);',d['Content-type']).group(1)\n",
    "    else:\n",
    "        d['Content-type'] = None\n",
    "    if 'Date' in d:\n",
    "        #d['DOTW'] = strftime('%a',strptime(d['Date'],'%a, %d %b %Y %H:%M:%S %z'))\n",
    "        d['DOTW'] = strftime('%w',strptime(d['Date'],'%a, %d %b %Y %H:%M:%S %z'))\n",
    "        d['HOTD'] = strftime('%H',strptime(d['Date'],'%a, %d %b %Y %H:%M:%S %z'))\n",
    "    if mail.has_defects:\n",
    "        d['has_defects'] = 1\n",
    "    else:\n",
    "        d['has_defects'] = 0\n",
    "    return d"
   ]
  },
  {
   "cell_type": "markdown",
   "metadata": {},
   "source": [
    "Build function to set the target value based on the directory"
   ]
  },
  {
   "cell_type": "code",
   "execution_count": 7,
   "metadata": {},
   "outputs": [],
   "source": [
    "def get_target(d):\n",
    "    if d == IGNORE_DIR:\n",
    "        return 'ignore'\n",
    "    elif d == INVESTIGATE_DIR:\n",
    "        return 'investigate'"
   ]
  },
  {
   "cell_type": "markdown",
   "metadata": {},
   "source": [
    "Build function to extract value only if the key exists"
   ]
  },
  {
   "cell_type": "code",
   "execution_count": 8,
   "metadata": {},
   "outputs": [],
   "source": [
    "def tryGetKeyValue(d, key, return_value=''):\n",
    "  \"\"\"Attempts to return value of key from dictionary\n",
    "  \"\"\"\n",
    "  try:\n",
    "    return d[key]\n",
    "  except:\n",
    "    return return_value"
   ]
  },
  {
   "cell_type": "markdown",
   "metadata": {},
   "source": [
    "Create dataframe, iterate through directories and add email features"
   ]
  },
  {
   "cell_type": "code",
   "execution_count": 9,
   "metadata": {},
   "outputs": [
    {
     "name": "stdout",
     "output_type": "stream",
     "text": [
      "/Users/worshamn/Documents/emailProject/InvestigateFix [Phish Alert] FW- Goodchem Document.eml\n",
      "/Users/worshamn/Documents/emailProject/InvestigateFix [Phish Alert] FW- Validate your Office 365 account.eml\n",
      "/Users/worshamn/Documents/emailProject/InvestigateFix [Phish Alert] FW- INVOICE YAX-80-97157 Tom Jensen.eml\n",
      "/Users/worshamn/Documents/emailProject/InvestigateFix [Phish Alert] FW- Invoice Problem 3.eml\n",
      "/Users/worshamn/Documents/emailProject/InvestigateFix [Phish Alert] FW- Invoice from Karen Laman.eml\n",
      "/Users/worshamn/Documents/emailProject/InvestigateFix [Phish Alert] FW- Case-637290015585-228.eml\n",
      "/Users/worshamn/Documents/emailProject/InvestigateFix [Phish Alert] FW- 7 Past Due Invoices.eml\n",
      "/Users/worshamn/Documents/emailProject/InvestigateFix [Phish Alert] FW- lmportant Message.eml\n",
      "/Users/worshamn/Documents/emailProject/InvestigateFix [Phish Alert] FW- [Spam] Erinnerung an die Rechnungszahlung.eml\n",
      "/Users/worshamn/Documents/emailProject/InvestigateFix [Phish Alert] FW- Re-[1].eml\n",
      "/Users/worshamn/Documents/emailProject/InvestigateFix [Phish Alert] FW- Invoice # 94898 Problem.eml\n",
      "/Users/worshamn/Documents/emailProject/InvestigateFix [Phish Alert] FW- See Attachment.eml\n",
      "/Users/worshamn/Documents/emailProject/InvestigateFix [Phish Alert] FW- Invoice 07.03.18.eml\n",
      "/Users/worshamn/Documents/emailProject/InvestigateFix [Phish Alert] FW- Past Due Invoices.eml\n",
      "/Users/worshamn/Documents/emailProject/InvestigateFix [Phish Alert] FW- [Spam] UPS Delivery Notification, Tracking Number 2MA48028859835621.eml\n",
      "/Users/worshamn/Documents/emailProject/InvestigateFix [Phish Alert] FW- Attached Document.eml\n",
      "/Users/worshamn/Documents/emailProject/InvestigateFix [Phish Alert] FW- [Spam] Tracking Number 8P97353188522018.eml\n",
      "/Users/worshamn/Documents/emailProject/InvestigateFix [Phish Alert] FW- Your UPS Package is Ready.eml\n",
      "/Users/worshamn/Documents/emailProject/InvestigateFix [Phish Alert] FW- Invoice #3776 Message.eml\n",
      "/Users/worshamn/Documents/emailProject/InvestigateFix [Phish Alert] FW- Lastschrift.eml\n",
      "/Users/worshamn/Documents/emailProject/InvestigateFix [Phish Alert] FW- Invoice Problem 2.eml\n",
      "/Users/worshamn/Documents/emailProject/InvestigateFix [Phish Alert] FW- This information will cost much for you.eml\n",
      "/Users/worshamn/Documents/emailProject/InvestigateFix [Phish Alert] FW- Your new Chase payment notice to Daysi Bloethner.eml\n",
      "/Users/worshamn/Documents/emailProject/InvestigateFix [Phish Alert] FW- Happy Coming Year!.eml\n",
      "/Users/worshamn/Documents/emailProject/InvestigateFix [Phish Alert] FW- REVIEW.eml\n",
      "/Users/worshamn/Documents/emailProject/InvestigateFix [Phish Alert] FW- Documeͷt Received - rεf new project. #723916.eml\n",
      "/Users/worshamn/Documents/emailProject/InvestigateFix [Phish Alert] FW- Notification de facture .eml\n",
      "/Users/worshamn/Documents/emailProject/InvestigateFix [Phish Alert] FW- gescanntes Dokument.eml\n",
      "/Users/worshamn/Documents/emailProject/InvestigateFix [Phish Alert] FW- UPS Delivery Notification, Tracking Number 0QR03268961076694.eml\n",
      "/Users/worshamn/Documents/emailProject/InvestigateFix [Phish Alert] FW- Rechnung 10-2017 1065755.eml\n",
      "/Users/worshamn/Documents/emailProject/InvestigateFix [Phish Alert] FW- Case-523537775069-585.eml\n",
      "/Users/worshamn/Documents/emailProject/InvestigateFix [Phish Alert] FW- Past due Invoice 2176478.eml\n",
      "/Users/worshamn/Documents/emailProject/InvestigateFix [Phish Alert] FW- Urgent update the Voucher , to 24-11 , Trip ID 16121868373.eml\n",
      "/Users/worshamn/Documents/emailProject/InvestigateFix [Phish Alert] FW- ACH form.eml\n",
      "/Users/worshamn/Documents/emailProject/InvestigateFix [Phish Alert] FW- Invoice due number 0         .eml\n",
      "/Users/worshamn/Documents/emailProject/InvestigateFix [Phish Alert] FW- NEW QUOTATION.eml\n",
      "/Users/worshamn/Documents/emailProject/InvestigateFix [Phish Alert] FW- Invoice 7350724 reminder.eml\n",
      "/Users/worshamn/Documents/emailProject/InvestigateFix [Phish Alert] FW- Invoice Issue[1].eml\n",
      "/Users/worshamn/Documents/emailProject/InvestigateFix [Phish Alert] FW- Question[1].eml\n",
      "/Users/worshamn/Documents/emailProject/InvestigateFix [Phish Alert] FW- Office  365 Security Upgrade (Do not Ignore).eml\n",
      "/Users/worshamn/Documents/emailProject/InvestigateFix [Phish Alert] FW- Invoice number 403426145 issue Message.eml\n",
      "/Users/worshamn/Documents/emailProject/InvestigateFix [Phish Alert] FW- Your DHL Shipment Parcel Notification.eml\n",
      "/Users/worshamn/Documents/emailProject/InvestigateFix [Phish Alert] FW- Intake Invoice & Contract - FinancialAgreement.pdf.eml\n",
      "/Users/worshamn/Documents/emailProject/InvestigateFix [Phish Alert] FW- Important Notice.eml\n",
      "/Users/worshamn/Documents/emailProject/InvestigateFix [Phish Alert] FW- Tracking Number 0QV56710814707164.eml\n",
      "/Users/worshamn/Documents/emailProject/InvestigateFix [Phish Alert] FW- Voice message from Wireless Caller (360)-474-9405.eml\n",
      "/Users/worshamn/Documents/emailProject/InvestigateFix [Phish Alert] FW- Signed Agreement From- Cindy Rubino, CPA.eml\n",
      "/Users/worshamn/Documents/emailProject/InvestigateFix [Phish Alert] FW- Incoming call from 949-795-1577.eml\n",
      "/Users/worshamn/Documents/emailProject/InvestigateFix [Phish Alert] FW- UPS Express Domestic 2.eml\n",
      "/Users/worshamn/Documents/emailProject/InvestigateFix [Phish Alert] FW- May all your wishes come true this Christmas.eml\n",
      "/Users/worshamn/Documents/emailProject/InvestigateFix [Phish Alert] FW- Your recent payment notification to Oti Herrera.eml\n",
      "/Users/worshamn/Documents/emailProject/InvestigateFix [Phish Alert] FW- Payment with a new   address.eml\n",
      "/Users/worshamn/Documents/emailProject/InvestigateFix [Phish Alert] FW- Your document Receipt 36276 for jennifer.loucks is ready for signature!.eml\n",
      "/Users/worshamn/Documents/emailProject/InvestigateFix [Phish Alert] FW- Su estado de cuenta mensual ya está disponible para su revisión.eml\n",
      "/Users/worshamn/Documents/emailProject/InvestigateFix [Phish Alert] FW- Invoice due, number 3661471-XSIW#RLXB-2017 (15 Nov 17).eml\n",
      "/Users/worshamn/Documents/emailProject/InvestigateFix [Phish Alert] FW- Past Due Invoices 2.eml\n",
      "/Users/worshamn/Documents/emailProject/InvestigateFix [Phish Alert] FW- [Spam] Email Account Closure Alert!!  2018-04-05  07-53-11.eml\n",
      "/Users/worshamn/Documents/emailProject/InvestigateFix [Phish Alert] FW- Statement from  jeff@wiainsurance.com.eml\n",
      "/Users/worshamn/Documents/emailProject/InvestigateFix [Phish Alert] FW- UPS Ship Notification, Tracking Number 6MS71996919975781.eml\n",
      "/Users/worshamn/Documents/emailProject/InvestigateFix [Phish Alert] FW- New Documents Survey For Your Review.eml\n",
      "/Users/worshamn/Documents/emailProject/InvestigateFix [Phish Alert] FW- FWD rhonda.isham.eml\n",
      "/Users/worshamn/Documents/emailProject/InvestigateFix [Phish Alert] FW- Payment email from Sighted.eml\n",
      "/Users/worshamn/Documents/emailProject/InvestigateFix [Phish Alert] FW- iPhone X pre-order.eml\n",
      "/Users/worshamn/Documents/emailProject/InvestigateFix [Phish Alert] FW- Hi,.eml\n",
      "/Users/worshamn/Documents/emailProject/InvestigateFix [Phish Alert] FW- [Spam] Agreement document for david.wilbanks@pinnacol.com.eml\n",
      "/Users/worshamn/Documents/emailProject/InvestigateFix [Phish Alert] FW- Verification Notice.eml\n",
      "/Users/worshamn/Documents/emailProject/InvestigateFix [Phish Alert] FW- Invoice notification from Sighted Invoices.eml\n",
      "/Users/worshamn/Documents/emailProject/InvestigateFix [Phish Alert] FW- #9947976789 Invoice secondary Notice.eml\n",
      "/Users/worshamn/Documents/emailProject/InvestigateFix [Phish Alert] FW- SPECIAL NOTICE.eml\n",
      "/Users/worshamn/Documents/emailProject/InvestigateFix [Phish Alert] FW- Client- 44, Oct 2017 Invoice.eml\n",
      "/Users/worshamn/Documents/emailProject/InvestigateFix [Phish Alert] FW- Re - [ Update Subscription Payment ] Your subscription payment is indicative of fraud [ Status Paid] 30 May 2018.eml\n",
      "/Users/worshamn/Documents/emailProject/InvestigateFix [Phish Alert] FW- Urgent Doc[1].eml\n",
      "/Users/worshamn/Documents/emailProject/InvestigateFix [Phish Alert] FW- Re-FYI.eml\n",
      "/Users/worshamn/Documents/emailProject/InvestigateFix [Phish Alert] FW- UPS Ship Notification, Tracking Number 9OM11956415932320.eml\n",
      "/Users/worshamn/Documents/emailProject/InvestigateFix [Phish Alert] FW- Your сolleсtion is very interesting.eml\n",
      "/Users/worshamn/Documents/emailProject/InvestigateFix [Phish Alert] FW- [Spam] Your recent Bankofamerica payment notification to Jennifer Loucks.eml\n",
      "/Users/worshamn/Documents/emailProject/InvestigateFix [Phish Alert] FW- RE-Request.eml\n",
      "/Users/worshamn/Documents/emailProject/InvestigateFix [Phish Alert] FW- Wire Transfer.eml\n",
      "/Users/worshamn/Documents/emailProject/InvestigateFix [Phish Alert] FW- Invoice for l-a 02-22-2018.eml\n",
      "/Users/worshamn/Documents/emailProject/InvestigateFix [Phish Alert] FW- Wish you a Merry Christmas!.eml\n",
      "/Users/worshamn/Documents/emailProject/InvestigateFix [Phish Alert] FW- Have a wonderful Christmas and a joyous New Year!.eml\n",
      "/Users/worshamn/Documents/emailProject/InvestigateFix [Phish Alert] FW- CUST. OBD-66-41275 Rodney Cole.eml\n",
      "/Users/worshamn/Documents/emailProject/InvestigateFix [Phish Alert] FW- Pat due invoice notification.eml\n",
      "/Users/worshamn/Documents/emailProject/InvestigateFix [Phish Alert] FW- Completed- Please DocuSign these documents.eml\n",
      "/Users/worshamn/Documents/emailProject/InvestigateFix [Phish Alert] FW- Invoice number 22028027-LFYJ#WDBB-2017 (27 Nov 17) Notification.eml\n",
      "/Users/worshamn/Documents/emailProject/InvestigateFix [Phish Alert] FW- Inbound- 5 new.eml\n",
      "/Users/worshamn/Documents/emailProject/InvestigateFix [Phish Alert] FW- Past due invoice .eml\n",
      "/Users/worshamn/Documents/emailProject/InvestigateFix [Phish Alert] FW- Invoice # 530522431 Problem.eml\n",
      "/Users/worshamn/Documents/emailProject/InvestigateFix [Phish Alert] FW- UPS Ship Notification, Tracking Number 2U51525393363758.eml\n"
     ]
    },
    {
     "name": "stdout",
     "output_type": "stream",
     "text": [
      "/Users/worshamn/Documents/emailProject/InvestigateFix [Phish Alert] FW- Newly signed Project invitation - please view proposal-.eml\n",
      "/Users/worshamn/Documents/emailProject/InvestigateFix [Phish Alert] FW- Your document is signed.eml\n",
      "/Users/worshamn/Documents/emailProject/InvestigateFix [Phish Alert] FW- Fax Received- CSID- K7V 6B3 1910 CID- 90643249844.eml\n",
      "/Users/worshamn/Documents/emailProject/InvestigateFix [Phish Alert] FW- Preview Secured Message!.eml\n",
      "/Users/worshamn/Documents/emailProject/InvestigateFix [Phish Alert] FW- Syncing Error - (4) Incoming failed mails..eml\n",
      "/Users/worshamn/Documents/emailProject/InvestigateFix [Phish Alert] FW- _INV#00044901.eml\n",
      "/Users/worshamn/Documents/emailProject/InvestigateFix [Phish Alert] FW- Delivery complete for parcel # 30726375.eml\n",
      "/Users/worshamn/Documents/emailProject/InvestigateFix [Phish Alert] FW- Hope all your Christmas dreams come true!.eml\n",
      "/Users/worshamn/Documents/emailProject/InvestigateFix [Phish Alert] FW- Payment issue 2.eml\n",
      "/Users/worshamn/Documents/emailProject/InvestigateFix [Phish Alert] FW- UPS Ship Notification, Tracking Number 0RRN19486604712021.eml\n",
      "/Users/worshamn/Documents/emailProject/InvestigateFix [Phish Alert] FW- Voice message from WIRELESS CALLER +1 718-963-4062).eml\n",
      "/Users/worshamn/Documents/emailProject/InvestigateFix [Phish Alert] FW- Ren Hart used Dropbox to share a folder with you.eml\n",
      "/Users/worshamn/Documents/emailProject/InvestigateFix [Phish Alert] FW- Paypal Receipt.eml\n",
      "/Users/worshamn/Documents/emailProject/InvestigateFix [Phish Alert] FW- kantonena@mediastrom.gr has shared a document on SharePoint Online..eml\n",
      "/Users/worshamn/Documents/emailProject/InvestigateFix [Phish Alert] FW- Proposal - Kuhn Construction .eml\n",
      "/Users/worshamn/Documents/emailProject/InvestigateFix [Phish Alert] FW- My Email.eml\n",
      "/Users/worshamn/Documents/emailProject/InvestigateFix [Phish Alert] FW- ACCOUNT#54423751-Linda Grivich.eml\n",
      "/Users/worshamn/Documents/emailProject/InvestigateFix [Phish Alert] FW- Prisicla Flores Virus at your device ID qTq6G.eml\n",
      "/Users/worshamn/Documents/emailProject/InvestigateFix [Phish Alert] FW- Invoice[3].eml\n",
      "/Users/worshamn/Documents/emailProject/InvestigateFix [Phish Alert] FW- Re-[1] 2.eml\n",
      "/Users/worshamn/Documents/emailProject/InvestigateFix [Phish Alert] FW- secure- Attached Image.eml\n",
      "/Users/worshamn/Documents/emailProject/InvestigateFix [Phish Alert] FW- Management Update.eml\n",
      "/Users/worshamn/Documents/emailProject/InvestigateFix [Phish Alert] FW- Incriminating content ID FCi2YElU....eml\n",
      "/Users/worshamn/Documents/emailProject/InvestigateFix [Phish Alert] FW- Front Range Telecom, LLC IMG_ PO 12042017.eml\n",
      "/Users/worshamn/Documents/emailProject/InvestigateFix [Phish Alert] FW- -𝐈𝐦𝐩𝐨𝐫𝐭𝐚𝐧𝐭 𝐒̇𝐞𝐜𝐮𝐫𝐢𝐭𝐲 𝐭𝐨 𝐲𝐨𝐮𝐫 𝐀̉𝐜𝐜𝐨𝐮𝐧𝐭❗.eml\n",
      "/Users/worshamn/Documents/emailProject/InvestigateFix [Phish Alert] FW- PR.eml\n",
      "/Users/worshamn/Documents/emailProject/InvestigateFix [Phish Alert] FW- C2c-443655.eml\n",
      "/Users/worshamn/Documents/emailProject/InvestigateFix [Phish Alert] FW- Invoice Number 235864.eml\n",
      "/Users/worshamn/Documents/emailProject/InvestigateFix [Phish Alert] FW- Signed Agreement From- The Leyden Group.eml\n",
      "/Users/worshamn/Documents/emailProject/InvestigateFix [Phish Alert] FW- Do you need to generate more engagement on social media.eml\n",
      "/Users/worshamn/Documents/emailProject/InvestigateFix [Phish Alert] FW- Radianlightingservices Review..eml\n",
      "/Users/worshamn/Documents/emailProject/InvestigateFix [Phish Alert] FW- Proposal.eml\n",
      "/Users/worshamn/Documents/emailProject/InvestigateFix [Phish Alert] FW- Payment and address..eml\n",
      "/Users/worshamn/Documents/emailProject/InvestigateFix [Phish Alert] FW- Invoice# 5410331.eml\n",
      "/Users/worshamn/Documents/emailProject/InvestigateFix [Phish Alert] FW- FYI.eml\n",
      "/Users/worshamn/Documents/emailProject/InvestigateFix [Phish Alert] FW- Re-[7].eml\n",
      "/Users/worshamn/Documents/emailProject/InvestigateFix [Phish Alert] FW- The document.eml\n",
      "/Users/worshamn/Documents/emailProject/InvestigateFix [Phish Alert] FW- UPS Ship Notification, Tracking Number 8L98420888229798.eml\n",
      "/Users/worshamn/Documents/emailProject/InvestigateFix [Phish Alert] FW- Fay.eml\n",
      "/Users/worshamn/Documents/emailProject/InvestigateFix [Phish Alert] FW- A New DocuSign Message From Stephanie Murphy..eml\n",
      "/Users/worshamn/Documents/emailProject/InvestigateFix [Phish Alert] FW- You have a new Encrypted Document.eml\n",
      "/Users/worshamn/Documents/emailProject/InvestigateFix [Phish Alert] FW- PAC Invoice CD99133732.eml\n",
      "/Users/worshamn/Documents/emailProject/InvestigateFix [Phish Alert] FW- invoices 66044 & 4252.eml\n",
      "/Users/worshamn/Documents/emailProject/InvestigateFix [Phish Alert] FW- New payment notification.eml\n",
      "/Users/worshamn/Documents/emailProject/InvestigateFix [Phish Alert] FW- FinWise Bank-4-06-2018.eml\n",
      "/Users/worshamn/Documents/emailProject/InvestigateFix [Phish Alert] FW- Latest invoice with a new address to update.eml\n",
      "/Users/worshamn/Documents/emailProject/InvestigateFix [Phish Alert] FW- Please send copy invoice.eml\n",
      "/Users/worshamn/Documents/emailProject/InvestigateFix [Phish Alert] FW- UPS Ship Notification, Tracking Number 8PEO80268803644920.eml\n",
      "/Users/worshamn/Documents/emailProject/InvestigateFix [Phish Alert] FW- Invoice 265720 from Don Losasso.eml\n",
      "/Users/worshamn/Documents/emailProject/InvestigateFix [Phish Alert] FW- A New DocuSign Message From David D. Robinson..eml\n",
      "/Users/worshamn/Documents/emailProject/InvestigateFix [Phish Alert] FW- new message.eml\n",
      "/Users/worshamn/Documents/emailProject/InvestigateFix [Phish Alert] FW- Hansen Construction,Inc-02-20-2018.eml\n",
      "/Users/worshamn/Documents/emailProject/InvestigateFix [Phish Alert] FW- Latest payment.eml\n",
      "/Users/worshamn/Documents/emailProject/InvestigateFix [Phish Alert] FW- You have new Google Doc message.eml\n",
      "/Users/worshamn/Documents/emailProject/InvestigateFix [Phish Alert] FW- Nanci Sweet shared Dropbox file with you.eml\n",
      "/Users/worshamn/Documents/emailProject/InvestigateFix [Phish Alert] FW- AccuSystems LLC Report.eml\n",
      "/Users/worshamn/Documents/emailProject/InvestigateFix [Phish Alert] FW- Confidential- FYI.eml\n",
      "/Users/worshamn/Documents/emailProject/InvestigateFix [Phish Alert] FW- Remittance #49170.eml\n",
      "/Users/worshamn/Documents/emailProject/InvestigateFix [Phish Alert] FW- FWD tom.peters.eml\n",
      "/Users/worshamn/Documents/emailProject/InvestigateFix [Phish Alert] FW- Acknowledgement KNF-82-02981 Linda Grivich.eml\n",
      "/Users/worshamn/Documents/emailProject/InvestigateFix [Phish Alert] FW- Payment Remittance Advice.eml\n",
      "/Users/worshamn/Documents/emailProject/InvestigateFix [Phish Alert] FW- Address Update.eml\n",
      "/Users/worshamn/Documents/emailProject/InvestigateFix [Phish Alert] FW- Re-[6].eml\n",
      "/Users/worshamn/Documents/emailProject/InvestigateFix [Phish Alert] FW- Invoice number 46824477441 second Notification.eml\n",
      "/Users/worshamn/Documents/emailProject/InvestigateFix [Phish Alert] FW- Your files were sent successfully to dgassaway@johnson.motosnap.com and 97 others.eml\n",
      "/Users/worshamn/Documents/emailProject/InvestigateFix [Phish Alert] FW- Case-079964727249-439.eml\n",
      "/Users/worshamn/Documents/emailProject/InvestigateFix [Phish Alert] FW- .eml\n",
      "/Users/worshamn/Documents/emailProject/InvestigateFix [Phish Alert] FW- Re-.eml\n",
      "/Users/worshamn/Documents/emailProject/InvestigateFix [Phish Alert] FW- IMPORTANT document [1].eml\n",
      "/Users/worshamn/Documents/emailProject/InvestigateFix [Phish Alert] FW- Payment[1].eml\n",
      "/Users/worshamn/Documents/emailProject/InvestigateFix [Phish Alert] FW- Sales Receipt from Graciela Nevarez .eml\n",
      "/Users/worshamn/Documents/emailProject/InvestigateFix [Phish Alert] FW- Kristi Hada INV #246792 FOR PO #1954738885.eml\n",
      "/Users/worshamn/Documents/emailProject/InvestigateFix [Phish Alert] FW- Transfer Done.eml\n",
      "/Users/worshamn/Documents/emailProject/InvestigateFix [Phish Alert] FW- I shared INVOICE OVERDUE.docx with you in OneDrive.eml\n",
      "/Users/worshamn/Documents/emailProject/InvestigateFix [Phish Alert] FW- [EXT] Payment status.eml\n",
      "/Users/worshamn/Documents/emailProject/InvestigateFix [Phish Alert] FW- Payment to .eml\n",
      "/Users/worshamn/Documents/emailProject/InvestigateFix [Phish Alert] FW- Invoice- 0955202-QXI#KPI-2017 (28 Nov 17).eml\n",
      "/Users/worshamn/Documents/emailProject/InvestigateFix [Phish Alert] FW- IMPORTANT - William Olberding  Invitation to view..eml\n",
      "/Users/worshamn/Documents/emailProject/InvestigateFix [Phish Alert] FW- Payment.eml\n",
      "/Users/worshamn/Documents/emailProject/InvestigateFix [Phish Alert] FW- Scanned document received from Dropbox User.eml\n"
     ]
    },
    {
     "name": "stdout",
     "output_type": "stream",
     "text": [
      "/Users/worshamn/Documents/emailProject/InvestigateFix [Phish Alert] FW- Rechnung IIS - 637-LMK2956  .eml\n",
      "/Users/worshamn/Documents/emailProject/InvestigateFix [Phish Alert] FW- Invoice[2].eml\n",
      "/Users/worshamn/Documents/emailProject/InvestigateFix [Phish Alert] FW- thy.nguyen@pinnacol.com Be careful! malicious software ID a5iQmYe1e.eml\n",
      "/Users/worshamn/Documents/emailProject/InvestigateFix [Phish Alert] FW- Your new Chase payment notice.eml\n",
      "/Users/worshamn/Documents/emailProject/InvestigateFix [Phish Alert] FW- PAYMENT EAA-90-22623  .eml\n",
      "/Users/worshamn/Documents/emailProject/InvestigateFix [Phish Alert] FW- ICBC Payment Remittance.eml\n",
      "/Users/worshamn/Documents/emailProject/InvestigateFix [Phish Alert] FW- File shared 11-21-2017 on behalf of Kim Willoughby.eml\n",
      "/Users/worshamn/Documents/emailProject/InvestigateFix [Phish Alert] FW- Wrong Invoice   Address.eml\n",
      "/Users/worshamn/Documents/emailProject/InvestigateFix [Phish Alert] FW- Scanned Document - (Past due Invoice-083821.Pdf & Contract_Agreements.PDF).eml\n",
      "/Users/worshamn/Documents/emailProject/InvestigateFix [Phish Alert] FW- [SPAM] New payment notification.eml\n",
      "/Users/worshamn/Documents/emailProject/InvestigateFix [Phish Alert] FW- UPS Shipment Notification[2].eml\n",
      "/Users/worshamn/Documents/emailProject/InvestigateFix [Phish Alert] FW- Division6.4 LLC share a document Via DOCUSIGN.eml\n",
      "/Users/worshamn/Documents/emailProject/InvestigateFix [Phish Alert] FW- Office 365 Suspension.eml\n",
      "/Users/worshamn/Documents/emailProject/InvestigateFix [Phish Alert] FW- Past due Invoice 694630161.eml\n",
      "/Users/worshamn/Documents/emailProject/InvestigateFix [Phish Alert] FW- Rechnung 11-2017 913773856.eml\n",
      "/Users/worshamn/Documents/emailProject/InvestigateFix [Phish Alert] FW- WeI have a footage of you milking your dog, you will be excited.eml\n",
      "/Users/worshamn/Documents/emailProject/InvestigateFix [Phish Alert] FW- Recognition Concepts Contract.eml\n",
      "/Users/worshamn/Documents/emailProject/InvestigateFix [Phish Alert] FW- You Have Received New Invoice Document.eml\n",
      "/Users/worshamn/Documents/emailProject/InvestigateFix [Phish Alert] FW- Office-365 Team.eml\n",
      "/Users/worshamn/Documents/emailProject/InvestigateFix [Phish Alert] FW- Invoice reminder.eml\n",
      "/Users/worshamn/Documents/emailProject/InvestigateFix [Phish Alert] FW- DHL-Delivery-Order Order Total 67868.45$ G#34769 Sub-Confirmation #February 26, 2018, .eml\n",
      "/Users/worshamn/Documents/emailProject/InvestigateFix [Phish Alert] FW- Rechnungs-Details.eml\n",
      "/Users/worshamn/Documents/emailProject/InvestigateFix [Phish Alert] FW- pinnacol.com accounting statements.eml\n",
      "/Users/worshamn/Documents/emailProject/InvestigateFix [Phish Alert] FW- Request.eml\n",
      "/Users/worshamn/Documents/emailProject/InvestigateFix [Phish Alert] FW- Urgent Review.eml\n",
      "/Users/worshamn/Documents/emailProject/InvestigateFix [Phish Alert] FW- Hada, Kristi invoice is available.eml\n",
      "/Users/worshamn/Documents/emailProject/InvestigateFix [Phish Alert] FW- HDaero - Review File For Our New Project.eml\n",
      "/Users/worshamn/Documents/emailProject/InvestigateFix [Phish Alert] FW- (Thread-1740264).eml\n",
      "/Users/worshamn/Documents/emailProject/InvestigateFix [Phish Alert] FW- UPS Ship Notification, Tracking Number 5WQ11330612397664.eml\n",
      "/Users/worshamn/Documents/emailProject/InvestigateFix [Phish Alert] FW- 28-09HSBC Confirmation slip.eml\n",
      "/Users/worshamn/Documents/emailProject/InvestigateFix [Phish Alert] FW- Andy Jessen Paypal Receipt.eml\n",
      "/Users/worshamn/Documents/emailProject/InvestigateFix [Phish Alert] FW- INVOICE STATUS.eml\n",
      "/Users/worshamn/Documents/emailProject/InvestigateFix [Phish Alert] FW- Scan 62894016185 Loni Bennett.eml\n",
      "/Users/worshamn/Documents/emailProject/InvestigateFix [Phish Alert] FW- Statement from  andy.j@pateconcreteinc.com.eml\n",
      "/Users/worshamn/Documents/emailProject/InvestigateFix [Phish Alert] FW- Please Review Listing.eml\n",
      "/Users/worshamn/Documents/emailProject/InvestigateFix [Phish Alert] FW- All the best in Coming Year!.eml\n",
      "/Users/worshamn/Documents/emailProject/InvestigateFix [Phish Alert] FW- Validate Your LinkedIn Account.eml\n",
      "/Users/worshamn/Documents/emailProject/InvestigateFix [Phish Alert] FW- Payment problem.eml\n",
      "/Users/worshamn/Documents/emailProject/InvestigateFix [Phish Alert] FW- Address and payment info.eml\n",
      "/Users/worshamn/Documents/emailProject/InvestigateFix [Phish Alert] FW- Invoice[1].eml\n",
      "/Users/worshamn/Documents/emailProject/InvestigateFix [Phish Alert] FW- Payment on Invoices CI-02-65736 .eml\n",
      "/Users/worshamn/Documents/emailProject/InvestigateFix [Phish Alert] FW- Wire transfer info.eml\n",
      "/Users/worshamn/Documents/emailProject/InvestigateFix [Phish Alert] FW- UPS Shipment Notification[1].eml\n",
      "/Users/worshamn/Documents/emailProject/InvestigateFix [Phish Alert] FW- Jim sent you an Important message.eml\n",
      "/Users/worshamn/Documents/emailProject/InvestigateFix [Phish Alert] FW- Payment issue.eml\n",
      "/Users/worshamn/Documents/emailProject/InvestigateFix [Phish Alert] FW- INVOICE # YH-0808896175601.eml\n",
      "/Users/worshamn/Documents/emailProject/InvestigateFix [Phish Alert] FW- Email.eml\n",
      "/Users/worshamn/Documents/emailProject/InvestigateFix [Phish Alert] FW- Kami Thompson Receipt.eml\n",
      "/Users/worshamn/Documents/emailProject/InvestigateFix [Phish Alert] FW- Pending Invoice.eml\n",
      "/Users/worshamn/Documents/emailProject/InvestigateFix [Phish Alert] FW- Ihre Rechnung von .eml\n",
      "/Users/worshamn/Documents/emailProject/InvestigateFix [Phish Alert] FW- FW- bill for september.eml\n",
      "/Users/worshamn/Documents/emailProject/InvestigateFix [Phish Alert] FW- ORDER. NX-20-05020 Linda Grivich.eml\n",
      "/Users/worshamn/Documents/emailProject/InvestigateFix [Phish Alert] FW- Customer Invoice NK 11156054.eml\n",
      "/Users/worshamn/Documents/emailProject/InvestigateFix [Phish Alert] FW- DHL Express Domestic. Monday, 11-00-19-00 EST..eml\n",
      "/Users/worshamn/Documents/emailProject/InvestigateFix [Phish Alert] FW- Outstanding INVOICE NZMRE-267470-146 .eml\n",
      "/Users/worshamn/Documents/emailProject/InvestigateFix [Phish Alert] FW- Silambarasan A Paypal Receipt Notification.eml\n",
      "/Users/worshamn/Documents/emailProject/InvestigateFix [Phish Alert] FW- Invoice.eml\n",
      "/Users/worshamn/Documents/emailProject/InvestigateFix [Phish Alert] FW- UPS Invoice Notification.eml\n",
      "/Users/worshamn/Documents/emailProject/InvestigateFix [Phish Alert] FW- Tracking Number 5LI41205953805527.eml\n",
      "/Users/worshamn/Documents/emailProject/InvestigateFix [Phish Alert] FW- Invoice #06887914181.eml\n",
      "/Users/worshamn/Documents/emailProject/InvestigateFix [Phish Alert] FW- Email Account Closure Alert!!  2018-04-05  07-54-25.eml\n",
      "/Users/worshamn/Documents/emailProject/InvestigateFix [Phish Alert] FW- Invoice Confirmation 8154967.eml\n",
      "/Users/worshamn/Documents/emailProject/InvestigateFix [Phish Alert] FW- Hi.eml\n",
      "/Users/worshamn/Documents/emailProject/InvestigateFix [Phish Alert] FW- Hector Vance.eml\n",
      "/Users/worshamn/Documents/emailProject/InvestigateFix [Phish Alert] FW- REMITTANCE ADVICE.eml\n",
      "/Users/worshamn/Documents/emailProject/InvestigateFix [Phish Alert] FW- Auditor of State - Notification of EFT Deposit.eml\n",
      "/Users/worshamn/Documents/emailProject/InvestigateFix [Phish Alert] FW- Re-[5].eml\n",
      "/Users/worshamn/Documents/emailProject/InvestigateFix [Phish Alert] FW- Great Holidays!.eml\n",
      "/Users/worshamn/Documents/emailProject/InvestigateFix [Phish Alert] FW- lsauer@legacyhc.com Sent you files via WeTransfer.eml\n",
      "/Users/worshamn/Documents/emailProject/InvestigateFix [Phish Alert] FW- Re amy.newton.eml\n",
      "/Users/worshamn/Documents/emailProject/InvestigateFix [Phish Alert] FW- RE- subpoena.eml\n",
      "/Users/worshamn/Documents/emailProject/InvestigateFix [Phish Alert] FW- Failed invoice notice.eml\n",
      "/Users/worshamn/Documents/emailProject/InvestigateFix [Phish Alert] FW- Outstanding INVOICE HXUSF-758522-9750.eml\n",
      "/Users/worshamn/Documents/emailProject/InvestigateFix [Phish Alert] FW- Invoice Corrections for #93-56.eml\n",
      "/Users/worshamn/Documents/emailProject/InvestigateFix [Phish Alert] FW- [Spam] UPS Delivery Notification, Tracking Number 1Z9R140W0358552191.eml\n",
      "/Users/worshamn/Documents/emailProject/InvestigateFix [Phish Alert] FW- ACTION REQUIRED.eml\n",
      "/Users/worshamn/Documents/emailProject/InvestigateFix [Phish Alert] FW- UPS Invoice Notification[1].eml\n",
      "/Users/worshamn/Documents/emailProject/InvestigateFix [Phish Alert] FW- Review Document.eml\n",
      "/Users/worshamn/Documents/emailProject/InvestigateFix [Phish Alert] FW- loni.bennett.eml\n",
      "/Users/worshamn/Documents/emailProject/InvestigateFix [Phish Alert] FW- Important document notice..eml\n",
      "/Users/worshamn/Documents/emailProject/InvestigateFix [Phish Alert] FW- Molly Lockhart shared a file with you.eml\n",
      "/Users/worshamn/Documents/emailProject/InvestigateFix [Phish Alert] FW- Invoices Overdue.eml\n",
      "/Users/worshamn/Documents/emailProject/InvestigateFix [Phish Alert] FW- Autumn Hernandez.eml\n",
      "/Users/worshamn/Documents/emailProject/InvestigateFix [Phish Alert] FW- Unable to process disbursement due to missing bank account information.eml\n",
      "/Users/worshamn/Documents/emailProject/InvestigateFix [Phish Alert] FW- Re-[4].eml\n",
      "/Users/worshamn/Documents/emailProject/InvestigateFix [Phish Alert] FW- Contract Agreement-Investment Forecast.eml\n"
     ]
    },
    {
     "name": "stdout",
     "output_type": "stream",
     "text": [
      "/Users/worshamn/Documents/emailProject/InvestigateFix [Phish Alert] FW- Information.eml\n",
      "/Users/worshamn/Documents/emailProject/InvestigateFix [Phish Alert] FW- PayPal Reminder.eml\n",
      "/Users/worshamn/Documents/emailProject/InvestigateFix [Phish Alert] FW- Tracking Number 5OX66928867835423.eml\n",
      "/Users/worshamn/Documents/emailProject/InvestigateFix [Phish Alert] FW- INVOICE STATUS[1].eml\n",
      "/Users/worshamn/Documents/emailProject/InvestigateFix [Phish Alert] FW- Explicit Content- For men over 30 ONLY!.eml\n",
      "/Users/worshamn/Documents/emailProject/InvestigateFix [Phish Alert] FW- The amount of your's fee for confirmation.eml\n",
      "/Users/worshamn/Documents/emailProject/InvestigateFix [Phish Alert] FW- Invoice Problem.eml\n",
      "/Users/worshamn/Documents/emailProject/InvestigateFix [Phish Alert] FW- Business Opportunity.eml\n",
      "/Users/worshamn/Documents/emailProject/InvestigateFix [Phish Alert] FW- Case-46199316665-157.eml\n",
      "/Users/worshamn/Documents/emailProject/InvestigateFix [Phish Alert] FW- New Document.eml\n",
      "/Users/worshamn/Documents/emailProject/InvestigateFix [Phish Alert] FW- Payment notice for invoice #1647302.eml\n",
      "/Users/worshamn/Documents/emailProject/InvestigateFix [Phish Alert] FW- Recent payment notification to Carol Rusten.eml\n",
      "/Users/worshamn/Documents/emailProject/InvestigateFix [Phish Alert] FW- UPS Express Domestic.eml\n",
      "/Users/worshamn/Documents/emailProject/InvestigateFix [Phish Alert] FW- Yоu hаvе thе tаlеnt tо роsе fоr thе саmеrа, dоn't bе nеrvоus..eml\n",
      "/Users/worshamn/Documents/emailProject/InvestigateFix [Phish Alert] FW- Coseco Invoice IR1-52583.eml\n",
      "/Users/worshamn/Documents/emailProject/InvestigateFix [Phish Alert] FW- IMPORTANT MAIL.eml\n",
      "/Users/worshamn/Documents/emailProject/InvestigateFix [Phish Alert] FW- Pay Invoice.eml\n",
      "/Users/worshamn/Documents/emailProject/InvestigateFix [Phish Alert] FW- Invoice #9066829 from Lori Whitesides.eml\n",
      "/Users/worshamn/Documents/emailProject/InvestigateFix [Phish Alert] FW- [Spam] IMPORTANT - William Olberding  Invitation to view..eml\n",
      "/Users/worshamn/Documents/emailProject/InvestigateFix [Phish Alert] FW- Ref Confidential- РDF-#Invoice-501151354-0001..eml\n",
      "/Users/worshamn/Documents/emailProject/InvestigateFix [Phish Alert] FW- Emailing2018-04-17-4dfb-4c20-8d32-cw58eb31eda6.eml\n",
      "/Users/worshamn/Documents/emailProject/InvestigateFix [Phish Alert] FW- May Service and Support Invoice.eml\n",
      "/Users/worshamn/Documents/emailProject/InvestigateFix [Phish Alert] FW- Problem with an invoice.eml\n",
      "/Users/worshamn/Documents/emailProject/InvestigateFix [Phish Alert] FW- Invoice #33283473-IJD#ALONQ-2017 (14 Nov 17).eml\n",
      "/Users/worshamn/Documents/emailProject/InvestigateFix [Phish Alert] FW- [Spam] 907-64-653485-982-907-64-653485-891.eml\n",
      "/Users/worshamn/Documents/emailProject/InvestigateFix [Phish Alert] FW- Updated Invitation 2018.eml\n",
      "/Users/worshamn/Documents/emailProject/InvestigateFix [Phish Alert] FW- Invoice #46816850.eml\n",
      "/Users/worshamn/Documents/emailProject/InvestigateFix [Phish Alert] FW- [Spam] Seperate Remittance Advice Layout - paper document A4.eml\n",
      "/Users/worshamn/Documents/emailProject/InvestigateFix [Phish Alert] FW- Direct Deposit Notice.eml\n",
      "/Users/worshamn/Documents/emailProject/InvestigateFix [Phish Alert] FW- Emailing- P657781GU 92719, Y467682AU 549856, N05928QT 926645, N44728DR 92572, R761865ER 288999.eml\n",
      "/Users/worshamn/Documents/emailProject/InvestigateFix [Phish Alert] FW- Invoice #156870-FUO#NRKCZ-2017 (DATE-21 Sep 17) Message.eml\n",
      "/Users/worshamn/Documents/emailProject/InvestigateFix [Phish Alert] FW- Your mailbox kathy.kranz@pinnacol.com.eml\n",
      "/Users/worshamn/Documents/emailProject/InvestigateFix [Phish Alert] FW- Zunge abgeschnitten hatte durch den furchtbaren Schreck den sie nie.eml\n",
      "/Users/worshamn/Documents/emailProject/InvestigateFix [Phish Alert] FW- UPS Ship Notification, Tracking Number 1TN11665379600151.eml\n",
      "/Users/worshamn/Documents/emailProject/InvestigateFix [Phish Alert] FW- Terrible.eml\n",
      "/Users/worshamn/Documents/emailProject/InvestigateFix [Phish Alert] FW- Clementine Gray.eml\n",
      "/Users/worshamn/Documents/emailProject/InvestigateFix [Phish Alert] FW- Jenny Kagarise  - Inv. 5599323445.eml\n",
      "/Users/worshamn/Documents/emailProject/InvestigateFix [Phish Alert] FW- Invoice- 998458487-DWQX#QYQ-2017 (17 Nov 17).eml\n",
      "/Users/worshamn/Documents/emailProject/InvestigateFix [Phish Alert] FW- 615835563.eml\n",
      "/Users/worshamn/Documents/emailProject/InvestigateFix [Phish Alert] FW- CMCA- Please Review.eml\n",
      "/Users/worshamn/Documents/emailProject/InvestigateFix [Phish Alert] FW- Новости магазина.eml\n",
      "/Users/worshamn/Documents/emailProject/InvestigateFix [Phish Alert] FW- Settlement Statement.eml\n",
      "/Users/worshamn/Documents/emailProject/InvestigateFix [Phish Alert] FW- Reconstructcolorado-01-19-2018.eml\n",
      "/Users/worshamn/Documents/emailProject/InvestigateFix [Phish Alert] FW- New Address.eml\n",
      "/Users/worshamn/Documents/emailProject/InvestigateFix [Phish Alert] FW- Re-[3].eml\n",
      "/Users/worshamn/Documents/emailProject/InvestigateFix [Phish Alert] FW- Invoice issue.eml\n",
      "/Users/worshamn/Documents/emailProject/InvestigateFix [Phish Alert] FW- Invoice #082304164-EO#RMZ-2017 (Mar 15) Message.eml\n",
      "/Users/worshamn/Documents/emailProject/InvestigateFix [Phish Alert] FW- Signed offer letter.eml\n",
      "/Users/worshamn/Documents/emailProject/InvestigateFix [Phish Alert] FW- UPS Ship Notification, Tracking Number 0FPN86916144456728.eml\n",
      "/Users/worshamn/Documents/emailProject/InvestigateFix [Phish Alert] FW- Problem with the invoice # 86487.eml\n",
      "/Users/worshamn/Documents/emailProject/InvestigateFix [Phish Alert] FW- Due balance paid.eml\n",
      "/Users/worshamn/Documents/emailProject/InvestigateFix [Phish Alert] FW- Payment Request.eml\n",
      "/Users/worshamn/Documents/emailProject/InvestigateFix [Phish Alert] FW- Invoice number 97987393 second Notification.eml\n",
      "/Users/worshamn/Documents/emailProject/InvestigateFix [Phish Alert] FW- INVOICE DQA-78-28985  .eml\n",
      "/Users/worshamn/Documents/emailProject/InvestigateFix [Phish Alert] FW- cschultz@ironwomancon.com sent you files via WeTransfer.eml\n",
      "/Users/worshamn/Documents/emailProject/InvestigateFix [Phish Alert] FW- Paypal Receipt Reminder.eml\n",
      "/Users/worshamn/Documents/emailProject/InvestigateFix [Phish Alert] FW- Executed Confidential Review..eml\n",
      "/Users/worshamn/Documents/emailProject/InvestigateFix [Phish Alert] FW- You have a UPS Letter scheduled for delivery from IRS.GOV.eml\n",
      "/Users/worshamn/Documents/emailProject/InvestigateFix [Phish Alert] FW- IMPORTANT.eml\n",
      "/Users/worshamn/Documents/emailProject/InvestigateFix [Phish Alert] FW- Your new payment notice.eml\n",
      "/Users/worshamn/Documents/emailProject/InvestigateFix [Phish Alert] FW- Important document[1].eml\n",
      "/Users/worshamn/Documents/emailProject/InvestigateFix [Phish Alert] FW- Payment #655198672 issue.eml\n",
      "/Users/worshamn/Documents/emailProject/InvestigateFix [Phish Alert] FW- PDF-20180326171008.PDF.eml\n",
      "/Users/worshamn/Documents/emailProject/InvestigateFix [Phish Alert] FW- Alert.eml\n",
      "/Users/worshamn/Documents/emailProject/InvestigateFix [Phish Alert] FW- Your new Chase payment notice to Joselyn R. Varghese.eml\n",
      "/Users/worshamn/Documents/emailProject/InvestigateFix [Phish Alert] FW- Invoice # 94898 Problem 2.eml\n",
      "/Users/worshamn/Documents/emailProject/InvestigateFix [Phish Alert] FW- Due Invoice - ACH payment  remittance .eml\n",
      "/Users/worshamn/Documents/emailProject/InvestigateFix [Phish Alert] FW- Invoice number 4200374741 issue.eml\n",
      "/Users/worshamn/Documents/emailProject/InvestigateFix [Phish Alert] FW- Document.eml\n",
      "/Users/worshamn/Documents/emailProject/InvestigateFix [Phish Alert] FW- [Spam] Invoices.eml\n",
      "/Users/worshamn/Documents/emailProject/InvestigateFix [Phish Alert] FW- Invoice #8844 Message.eml\n",
      "/Users/worshamn/Documents/emailProject/InvestigateFix [Phish Alert] FW- E-fax received- JPMorgan Chase 2 page(s).eml\n",
      "/Users/worshamn/Documents/emailProject/InvestigateFix [Phish Alert] FW- Please confirm your Office365 account.eml\n",
      "/Users/worshamn/Documents/emailProject/InvestigateFix [Phish Alert] FW- Your mailbox is almost full..eml\n",
      "/Users/worshamn/Documents/emailProject/InvestigateFix [Phish Alert] FW- Sales Invoice.eml\n",
      "/Users/worshamn/Documents/emailProject/InvestigateFix [Phish Alert] FW- CURRENT STOCK LIST.eml\n",
      "/Users/worshamn/Documents/emailProject/InvestigateFix [Phish Alert] FW- FWD james.mcmillen.eml\n",
      "/Users/worshamn/Documents/emailProject/InvestigateFix [Phish Alert] FW- [Spam] You have 16 new quarantined messages!.eml\n",
      "/Users/worshamn/Documents/emailProject/InvestigateFix [Phish Alert] FW- Jesse shared 24-010.pdf with you.eml\n",
      "/Users/worshamn/Documents/emailProject/InvestigateFix [Phish Alert] FW- Please pull invoice 51211.eml\n",
      "/Users/worshamn/Documents/emailProject/InvestigateFix [Phish Alert] FW- Scan data from MFP7298 HP ePrint user.eml\n",
      "/Users/worshamn/Documents/emailProject/InvestigateFix [Phish Alert] FW- Important Document   .eml\n",
      "/Users/worshamn/Documents/emailProject/InvestigateFix [Phish Alert] FW- Versandbestätigung und Rechnung - Bestellung 496632974.eml\n",
      "/Users/worshamn/Documents/emailProject/InvestigateFix [Phish Alert] FW- [Spam] UPS Invoice.eml\n",
      "/Users/worshamn/Documents/emailProject/InvestigateFix [Phish Alert] FW- Overdue payment.eml\n",
      "/Users/worshamn/Documents/emailProject/InvestigateFix [Phish Alert] FW- .eml\n",
      "/Users/worshamn/Documents/emailProject/InvestigateFix [Phish Alert] FW- Possible Spam - [EXT] Payment status.eml\n",
      "/Users/worshamn/Documents/emailProject/InvestigateFix [Phish Alert] FW- Invoice # 7338953249 Problem.eml\n",
      "/Users/worshamn/Documents/emailProject/InvestigateFix [Phish Alert] FW- C Fisher.eml\n",
      "/Users/worshamn/Documents/emailProject/InvestigateFix [Phish Alert] FW- Your Legally Binding Contract document is ready for signature!.eml\n",
      "/Users/worshamn/Documents/emailProject/InvestigateFix [Phish Alert] FW- [Spam] Invoice #00990339554.eml\n",
      "/Users/worshamn/Documents/emailProject/InvestigateFix [Phish Alert] FW- Cheryl Dyer.eml\n",
      "/Users/worshamn/Documents/emailProject/InvestigateFix [Phish Alert] FW- Incoming wireless message from +17323205192.eml\n"
     ]
    },
    {
     "name": "stdout",
     "output_type": "stream",
     "text": [
      "/Users/worshamn/Documents/emailProject/InvestigateFix [Phish Alert] FW- Coloradohandandarm ( Teusday 27, 2018).eml\n",
      "/Users/worshamn/Documents/emailProject/InvestigateFix [Phish Alert] FW- Dylan Grant.eml\n",
      "/Users/worshamn/Documents/emailProject/InvestigateFix [Phish Alert] FW- Delivery Status Notification.eml\n",
      "/Users/worshamn/Documents/emailProject/InvestigateFix [Phish Alert] FW- Invoice PUJ #73722-AUL#YSML-2017 (21 Sep 17).eml\n",
      "/Users/worshamn/Documents/emailProject/InvestigateFix [Phish Alert] FW- 66925_whitepaperfivemusthavesinacloudfinancialmanagementsystemus.eml\n",
      "/Users/worshamn/Documents/emailProject/InvestigateFix [Phish Alert] FW- Question.eml\n",
      "/Users/worshamn/Documents/emailProject/InvestigateFix [Phish Alert] FW- Important Document 2.eml\n",
      "/Users/worshamn/Documents/emailProject/InvestigateFix [Phish Alert] FW- Email Verification.eml\n",
      "/Users/worshamn/Documents/emailProject/InvestigateFix [Phish Alert] FW- Your Invoice Is Attached - 0000125794.eml\n",
      "/Users/worshamn/Documents/emailProject/InvestigateFix [Phish Alert] FW- UPS Ship Notification, Tracking Number 7M01917345053585.eml\n",
      "/Users/worshamn/Documents/emailProject/InvestigateFix [Phish Alert] FW- Elaine Tracey Software virus on your gadget ID et8zt7Zbz3.eml\n",
      "/Users/worshamn/Documents/emailProject/InvestigateFix [Phish Alert] FW- Payroll Update.eml\n",
      "/Users/worshamn/Documents/emailProject/InvestigateFix [Phish Alert] FW- Record of Account Transcript from June 13, 2018.eml\n",
      "/Users/worshamn/Documents/emailProject/InvestigateFix [Phish Alert] FW- UPS Shipment Notification.eml\n",
      "/Users/worshamn/Documents/emailProject/InvestigateFix [Phish Alert] FW- Pay Invoice[1].eml\n",
      "/Users/worshamn/Documents/emailProject/InvestigateFix [Phish Alert] FW- Awaiting for your confirmation.eml\n",
      "/Users/worshamn/Documents/emailProject/InvestigateFix [Phish Alert] FW- Please pull invoice 969295.eml\n",
      "/Users/worshamn/Documents/emailProject/InvestigateFix [Phish Alert] FW- Investment...eml\n",
      "/Users/worshamn/Documents/emailProject/InvestigateFix [Phish Alert] FW- Your Walmart Order Confirmation - Order #57707.eml\n",
      "/Users/worshamn/Documents/emailProject/InvestigateFix [Phish Alert] FW- ACTION REQUIRED- Payment Approval.eml\n",
      "/Users/worshamn/Documents/emailProject/InvestigateFix [Phish Alert] FW- Re-[2].eml\n",
      "/Users/worshamn/Documents/emailProject/InvestigateFix [Phish Alert] FW- Wells Fargo Debit Card Deactivated.eml\n",
      "/Users/worshamn/Documents/emailProject/InvestigateFix [Phish Alert] FW- Incident-021500053435-26.eml\n",
      "/Users/worshamn/Documents/emailProject/InvestigateFix [Phish Alert] FW- Invoice for you.eml\n",
      "/Users/worshamn/Documents/emailProject/InvestigateFix [Phish Alert] FW- New Document available for your Commentary.eml\n",
      "/Users/worshamn/Documents/emailProject/InvestigateFix [Phish Alert] FW- Proposal[1].eml\n",
      "/Users/worshamn/Documents/emailProject/InvestigateFix [Phish Alert] FW- Invoice number 67895848033 issue.eml\n",
      "/Users/worshamn/Documents/emailProject/InvestigateFix [Phish Alert] FW- Invoice Due.eml\n",
      "/Users/worshamn/Documents/emailProject/InvestigateFix [Phish Alert] FW- Payment issue[1].eml\n",
      "/Users/worshamn/Documents/emailProject/InvestigateFix [Phish Alert] FW- Recent money transfer details.eml\n",
      "/Users/worshamn/Documents/emailProject/InvestigateFix [Phish Alert] FW- ShareFile Message From- Scott Houge.eml\n",
      "/Users/worshamn/Documents/emailProject/InvestigateFix [Phish Alert] FW- Invoice 31003023 Invoice date 061818 Order no. 85887475845.eml\n",
      "/Users/worshamn/Documents/emailProject/InvestigateFix [Phish Alert] FW- Ians Roofing sent a document to you.eml\n",
      "/Users/worshamn/Documents/emailProject/InvestigateFix [Phish Alert] FW- Purchases 2018.eml\n",
      "/Users/worshamn/Documents/emailProject/InvestigateFix [Phish Alert] FW- HRI Monthly Invoice.eml\n",
      "/Users/worshamn/Documents/emailProject/InvestigateFix [Phish Alert] FW- Invoice 13329 from Transpro.eml\n",
      "/Users/worshamn/Documents/emailProject/IgnoreFix [Phish Alert] FW- Barbara.jones shrink your belly, 1lb day.eml\n",
      "/Users/worshamn/Documents/emailProject/IgnoreFix [Phish Alert] FW- 9 Signs You’re Successful—Even If It Doesn’t Feel Like It.eml\n",
      "/Users/worshamn/Documents/emailProject/IgnoreFix [Phish Alert] FW- How’s Your Construction Risk Management.eml\n",
      "/Users/worshamn/Documents/emailProject/IgnoreFix [Phish Alert] FW- Teree.carr it's time to unlock your Amazon Prime preloaded card.eml\n",
      "/Users/worshamn/Documents/emailProject/IgnoreFix [Phish Alert] FW- Watch us print human tissue-organs.eml\n",
      "/Users/worshamn/Documents/emailProject/IgnoreFix [Phish Alert] FW- Share your thoughts, Sara.eml\n",
      "/Users/worshamn/Documents/emailProject/IgnoreFix [Phish Alert] FW- For Project Managers at Denver, CO..eml\n",
      "/Users/worshamn/Documents/emailProject/IgnoreFix [Phish Alert] FW- [Spam] NEW! Azure This Month.eml\n",
      "/Users/worshamn/Documents/emailProject/IgnoreFix [Phish Alert] FW- 5 Reasons Companies Love Surface Pro.eml\n",
      "/Users/worshamn/Documents/emailProject/IgnoreFix [Phish Alert] FW- Wells Fargo Wants Your Input on the Custom Credit Offer! - Reminder.eml\n",
      "/Users/worshamn/Documents/emailProject/IgnoreFix [Phish Alert] FW- [Spam] RE- Couple questions go-forward.eml\n",
      "/Users/worshamn/Documents/emailProject/IgnoreFix [Phish Alert] FW- Quality Pet Food Delivered.eml\n",
      "/Users/worshamn/Documents/emailProject/IgnoreFix [Phish Alert] FW- Get the most out of your lectures.eml\n",
      "/Users/worshamn/Documents/emailProject/IgnoreFix [Phish Alert] FW- Access to All Things Technology and Social Good  bbcon 2017.eml\n",
      "/Users/worshamn/Documents/emailProject/IgnoreFix [Phish Alert] FW- Imagine Speaking a New Language in Just 30 Days - Free Trial.eml\n",
      "/Users/worshamn/Documents/emailProject/IgnoreFix [Phish Alert] FW- Now’s the Time to Act – Dedicated Servers at Excellent Prices.eml\n",
      "/Users/worshamn/Documents/emailProject/IgnoreFix [Phish Alert] FW- Fw-  to Steve Lindell.eml\n",
      "/Users/worshamn/Documents/emailProject/IgnoreFix [Phish Alert] FW- An invitation to support My Family Is In Need Of A Blessing.eml\n",
      "/Users/worshamn/Documents/emailProject/IgnoreFix [Phish Alert] FW- My dear you a romantic person.eml\n",
      "/Users/worshamn/Documents/emailProject/IgnoreFix [Phish Alert] FW- We Do More Than You Think We Do.eml\n",
      "/Users/worshamn/Documents/emailProject/IgnoreFix [Phish Alert] FW- Get a jump on savings - up to 15%.eml\n",
      "/Users/worshamn/Documents/emailProject/IgnoreFix [Phish Alert] FW- It's official! 🎉.eml\n",
      "/Users/worshamn/Documents/emailProject/IgnoreFix [Phish Alert] FW- This pill can give you real focus.eml\n",
      "/Users/worshamn/Documents/emailProject/IgnoreFix [Phish Alert] FW- Will you be joining us tomorrow for our free webinar.eml\n",
      "/Users/worshamn/Documents/emailProject/IgnoreFix [Phish Alert] FW- Confidential IT Survey from InformationWeek.eml\n",
      "/Users/worshamn/Documents/emailProject/IgnoreFix [Phish Alert] FW- How Easy is Your EDI.eml\n",
      "/Users/worshamn/Documents/emailProject/IgnoreFix [Phish Alert] FW- 💎 Cards A Cut Above 💎.eml\n",
      "/Users/worshamn/Documents/emailProject/IgnoreFix [Phish Alert] FW- [Spam] Manufacturing Transformation Insights - September 2017 Edition.eml\n",
      "/Users/worshamn/Documents/emailProject/IgnoreFix [Phish Alert] FW- Deliver custom, secure mobile apps that automate your processes.eml\n",
      "/Users/worshamn/Documents/emailProject/IgnoreFix [Phish Alert] FW- This supplement empowers your brain.eml\n",
      "/Users/worshamn/Documents/emailProject/IgnoreFix [Phish Alert] FW- Substitute for Adderall but legal.eml\n",
      "/Users/worshamn/Documents/emailProject/IgnoreFix [Phish Alert] FW- You're Invited- Lunch at Fogo de Chao, Thursday, September 14th.eml\n",
      "/Users/worshamn/Documents/emailProject/IgnoreFix [Phish Alert] FW- $50 in Amazon rewards is waiting.eml\n",
      "/Users/worshamn/Documents/emailProject/IgnoreFix [Phish Alert] FW- U Street Bid Results.eml\n",
      "/Users/worshamn/Documents/emailProject/IgnoreFix [Phish Alert] FW- CEO Mobile biometrics — a new way to sign on.eml\n",
      "/Users/worshamn/Documents/emailProject/IgnoreFix [Phish Alert] FW- Technology Adoption Killers- 5 Secrets Every Tech Team Needs to Know to Succeed.eml\n",
      "/Users/worshamn/Documents/emailProject/IgnoreFix [Phish Alert] FW- Activate your GlobalTestMarket Membership!.eml\n",
      "/Users/worshamn/Documents/emailProject/IgnoreFix [Phish Alert] FW- Pinnacol Assurance data question.eml\n",
      "/Users/worshamn/Documents/emailProject/IgnoreFix [Phish Alert] FW- Quotation-Order Enquiry.eml\n",
      "/Users/worshamn/Documents/emailProject/IgnoreFix [Phish Alert] FW- Susan Miller has sent you a personalized exercise program.eml\n"
     ]
    },
    {
     "name": "stdout",
     "output_type": "stream",
     "text": [
      "/Users/worshamn/Documents/emailProject/IgnoreFix [Phish Alert] FW- Get back the hair your missing. Even if your old or young..eml\n",
      "/Users/worshamn/Documents/emailProject/IgnoreFix [Phish Alert] FW- The science of tomorrow here today.eml\n",
      "/Users/worshamn/Documents/emailProject/IgnoreFix [Phish Alert] FW- Welcome to Starbucks.eml\n",
      "/Users/worshamn/Documents/emailProject/IgnoreFix [Phish Alert] FW- Eslor kicks off October with 60% off our favorite products!.eml\n",
      "/Users/worshamn/Documents/emailProject/IgnoreFix [Phish Alert] FW- 🍻 🍴 Oracle Users in the Greater Denver area- 2 Happy Hours, Tues & Wed, Last days to RSVP.eml\n",
      "/Users/worshamn/Documents/emailProject/IgnoreFix [Phish Alert] FW- Data Center Support Renewal - Beats Headphones.eml\n",
      "/Users/worshamn/Documents/emailProject/IgnoreFix [Phish Alert] FW- Question on new email security threat.eml\n",
      "/Users/worshamn/Documents/emailProject/IgnoreFix [Phish Alert] FW- Does Your Workplace Wellness Work An Interview with Laura Putnam.eml\n",
      "/Users/worshamn/Documents/emailProject/IgnoreFix [Phish Alert] FW- Regulation Panel in Cape Town.eml\n",
      "/Users/worshamn/Documents/emailProject/IgnoreFix [Phish Alert] FW- [Webinar] InfoTrends on what’s next in cloud tech and managed print.eml\n",
      "/Users/worshamn/Documents/emailProject/IgnoreFix [Phish Alert] FW- [Spam] Jillian, here are 5 things you need to know before retiring.eml\n",
      "/Users/worshamn/Documents/emailProject/IgnoreFix [Phish Alert] FW- Free CLE-CPE Webcast! SSAE 18 Audit Standards- Trends, Developments and Significant Updates.eml\n",
      "/Users/worshamn/Documents/emailProject/IgnoreFix [Phish Alert] FW- Support Denver Health Foundation on Colorado Gives Day.eml\n",
      "/Users/worshamn/Documents/emailProject/IgnoreFix [Phish Alert] FW- iPhone 8. Apple Watch Series 3. Pre-order now..eml\n",
      "/Users/worshamn/Documents/emailProject/IgnoreFix [Phish Alert] FW- Best Practices in Rolling Forecasts.eml\n",
      "/Users/worshamn/Documents/emailProject/IgnoreFix [Phish Alert] FW- Microsoft(R) OneNote(R) Tips, Tricks and Best Practices - Register Today.eml\n",
      "/Users/worshamn/Documents/emailProject/IgnoreFix [Phish Alert] FW- [Spam] Cyber Week Special on Christmas Wristbands.eml\n",
      "/Users/worshamn/Documents/emailProject/IgnoreFix [Phish Alert] FW- I thought this could be of interest.eml\n",
      "/Users/worshamn/Documents/emailProject/IgnoreFix [Phish Alert] FW- FOX is in panic. Here's why.eml\n",
      "/Users/worshamn/Documents/emailProject/IgnoreFix [Phish Alert] FW- Webcast Event.eml\n",
      "/Users/worshamn/Documents/emailProject/IgnoreFix [Phish Alert] FW- UFC 215 & Neil Magny's UFC official watch party on Saturday.eml\n",
      "/Users/worshamn/Documents/emailProject/IgnoreFix [Phish Alert] FW- Dairy Industry - 2017.eml\n",
      "/Users/worshamn/Documents/emailProject/IgnoreFix [Phish Alert] FW- Want to integrate machine learning models into your business process.eml\n",
      "/Users/worshamn/Documents/emailProject/IgnoreFix [Phish Alert] FW- The Top 10 Adaptive Leadership Trends for 2018 You Need to Know Now.eml\n",
      "/Users/worshamn/Documents/emailProject/IgnoreFix [Phish Alert] FW- Download Our Spring Conference Brochure NOW!.eml\n",
      "/Users/worshamn/Documents/emailProject/IgnoreFix [Phish Alert] FW- Develop Faster.eml\n",
      "/Users/worshamn/Documents/emailProject/IgnoreFix [Phish Alert] FW- This tiny pill can change your life..eml\n",
      "/Users/worshamn/Documents/emailProject/IgnoreFix [Phish Alert] FW- WebEx meeting invitation- RMW Demo.eml\n",
      "/Users/worshamn/Documents/emailProject/IgnoreFix [Phish Alert] FW- Upcoming San Diego Environmental Bootcamp.eml\n",
      "/Users/worshamn/Documents/emailProject/IgnoreFix [Phish Alert] FW- 📎 5786 S Zante Circle -- Nov. 2017 Property Review.eml\n",
      "/Users/worshamn/Documents/emailProject/IgnoreFix [Phish Alert] FW- Webinar- How to prepare for Colombia's 2019 e-Invoicing mandate.eml\n",
      "/Users/worshamn/Documents/emailProject/IgnoreFix [Phish Alert] FW- November Hyperion Cloud Webinar Series.eml\n",
      "/Users/worshamn/Documents/emailProject/IgnoreFix [Phish Alert] FW- Alert on One of BERKSHIRE HATHAWAY's Investments- BERKSHIRE HATHAWAY Participates In Pilot Flying J's UNDISCLOSED Funding Round.eml\n",
      "/Users/worshamn/Documents/emailProject/IgnoreFix [Phish Alert] FW- Presidio  March Madness Event at Dave & Buster’s  REGISTER NOW.eml\n",
      "/Users/worshamn/Documents/emailProject/IgnoreFix [Phish Alert] FW- Minnesota Legislative Update.eml\n",
      "/Users/worshamn/Documents/emailProject/IgnoreFix [Phish Alert] FW- 11 chapters that will transform your company.eml\n",
      "/Users/worshamn/Documents/emailProject/IgnoreFix [Phish Alert] FW- [Video] Is unstructured data putting your organization at risk.eml\n",
      "/Users/worshamn/Documents/emailProject/IgnoreFix [Phish Alert] FW- QuickStart Master Subscription Price Change‌​​​‎​​‌​​‌​​‎‌​‌​​​​​‌​‎‎​​‌‌‎‎‌‌‎‌‎​‎‌‎​​​‎‌‌​​‎‎​​​‌‌​​‌‌​​​‌​.eml\n",
      "/Users/worshamn/Documents/emailProject/IgnoreFix [Phish Alert] FW- Sign up today! Final HH of 2017 - Chiropractic Care with Dr. Kaiser.eml\n",
      "/Users/worshamn/Documents/emailProject/IgnoreFix [Phish Alert] FW- P&C Commercial Operations Support.eml\n",
      "/Users/worshamn/Documents/emailProject/IgnoreFix [Phish Alert] FW- Quick Question.eml\n",
      "/Users/worshamn/Documents/emailProject/IgnoreFix [Phish Alert] FW- 10 Steps to Success with Public Cloud Adoption.eml\n",
      "/Users/worshamn/Documents/emailProject/IgnoreFix [Phish Alert] FW- Technical Writers, Editors & Documentation Experts.eml\n",
      "/Users/worshamn/Documents/emailProject/IgnoreFix [Phish Alert] FW- Jim, see what Cisco HyperFlex can do for Pinnacol Assurance.eml\n",
      "/Users/worshamn/Documents/emailProject/IgnoreFix [Phish Alert] FW- Happy Holidays!.eml\n",
      "/Users/worshamn/Documents/emailProject/IgnoreFix [Phish Alert] FW- DETAILS.eml\n",
      "/Users/worshamn/Documents/emailProject/IgnoreFix [Phish Alert] FW- How Can Boards Coexist with ISS and Glass Lewis.eml\n",
      "/Users/worshamn/Documents/emailProject/IgnoreFix [Phish Alert] FW- Twinmotion Community News  January 2018  Full speed ahead!.eml\n",
      "/Users/worshamn/Documents/emailProject/IgnoreFix [Phish Alert] FW- Presale Info for Judas Priest Inside.eml\n",
      "/Users/worshamn/Documents/emailProject/IgnoreFix [Phish Alert] FW- [Spam] RE- Sales Reporting Discussion.eml\n",
      "/Users/worshamn/Documents/emailProject/IgnoreFix [Phish Alert] FW- Sean sent you an invitation on LinkedIn.eml\n",
      "/Users/worshamn/Documents/emailProject/IgnoreFix [Phish Alert] FW- Mikr, Your ScoreCard Reward is on Its Way!.eml\n",
      "/Users/worshamn/Documents/emailProject/IgnoreFix [Phish Alert] FW- [Spam] How to Defend Against DNS Threats.eml\n",
      "/Users/worshamn/Documents/emailProject/IgnoreFix [Phish Alert] FW- EARNED IT! You made the list for special offers 💸.eml\n",
      "/Users/worshamn/Documents/emailProject/IgnoreFix [Phish Alert] FW- Easy Mediterranean Recipes  Nut and Seed Butter Guide.eml\n",
      "/Users/worshamn/Documents/emailProject/IgnoreFix [Phish Alert] FW- Are You Protected Against Insider Threats❗❓.eml\n",
      "/Users/worshamn/Documents/emailProject/IgnoreFix [Phish Alert] FW- Events & Tickets in the Trash Can.eml\n",
      "/Users/worshamn/Documents/emailProject/IgnoreFix [Phish Alert] FW- [Forrester Report] Mobile Vision 2020 for IT & Security Leaders.eml\n",
      "/Users/worshamn/Documents/emailProject/IgnoreFix [Phish Alert] FW- REMINDER- Harvest Share THIS SATURDAY Sept 9 2017.eml\n",
      "/Users/worshamn/Documents/emailProject/IgnoreFix [Phish Alert] FW- Share Your Feedback – Win an Instant Pot.eml\n",
      "/Users/worshamn/Documents/emailProject/IgnoreFix [Phish Alert] FW- Your Tuesday morning update.eml\n",
      "/Users/worshamn/Documents/emailProject/IgnoreFix [Phish Alert] FW- Time to avoid the 4 most common BP meds, the truth is out.eml\n",
      "/Users/worshamn/Documents/emailProject/IgnoreFix [Phish Alert] FW- Workers' Comp, Medical Marijuana Claims and More Industry Trends.eml\n",
      "/Users/worshamn/Documents/emailProject/IgnoreFix [Phish Alert] FW- Where robotic automation has biggest impact.eml\n",
      "/Users/worshamn/Documents/emailProject/IgnoreFix [Phish Alert] FW- [Spam] Can you attend.eml\n",
      "/Users/worshamn/Documents/emailProject/IgnoreFix [Phish Alert] FW- This pill is just like Limitless.eml\n",
      "/Users/worshamn/Documents/emailProject/IgnoreFix [Phish Alert] FW- Cool technology spotlight- Mini spy camera.eml\n",
      "/Users/worshamn/Documents/emailProject/IgnoreFix [Phish Alert] FW- Special Discount for House Cleaning Services!.eml\n",
      "/Users/worshamn/Documents/emailProject/IgnoreFix [Phish Alert] FW- InfoSec-Risk Mgmt- CISOs Share Experiences- Feb. 20th.eml\n",
      "/Users/worshamn/Documents/emailProject/IgnoreFix [Phish Alert] FW- FICO World 2018 Registration Is Open!.eml\n",
      "/Users/worshamn/Documents/emailProject/IgnoreFix [Phish Alert] FW- [Spam] Moving From An Operational Manager to A Strategic Leader.eml\n",
      "/Users/worshamn/Documents/emailProject/IgnoreFix [Phish Alert] FW- [Spam] DACA.eml\n"
     ]
    },
    {
     "name": "stdout",
     "output_type": "stream",
     "text": [
      "/Users/worshamn/Documents/emailProject/IgnoreFix [Phish Alert] FW- My email was hacked yesterday.  Dont open any attachements from me.  It's fixed now..eml\n",
      "/Users/worshamn/Documents/emailProject/IgnoreFix [Phish Alert] FW- [Spam] hola.eml\n",
      "/Users/worshamn/Documents/emailProject/IgnoreFix [Phish Alert] FW- Jim - quick question.eml\n",
      "/Users/worshamn/Documents/emailProject/IgnoreFix [Phish Alert] FW- Don't let up to 3x more points pass you by.eml\n",
      "/Users/worshamn/Documents/emailProject/IgnoreFix [Phish Alert] FW- These stunning sisters have a wrinkle-reducing product.eml\n",
      "/Users/worshamn/Documents/emailProject/IgnoreFix [Phish Alert] FW- ONLY 1 WEEK LEFT- $500 Early-Bird Discount to Habit Design® Training Course Ends MONDAY .eml\n",
      "/Users/worshamn/Documents/emailProject/IgnoreFix [Phish Alert] FW- Registration is Open for the 2018 National Tornado Summit.eml\n",
      "/Users/worshamn/Documents/emailProject/IgnoreFix [Phish Alert] FW- TreePod Fully Funded on Kickstarter!.eml\n",
      "/Users/worshamn/Documents/emailProject/IgnoreFix [Phish Alert] FW- [Analyst Report] Birst Named a Leader in Enterprise Cloud BI by Independent Research Firm.eml\n",
      "/Users/worshamn/Documents/emailProject/IgnoreFix [Phish Alert] FW- Keeping up with security trends.eml\n",
      "/Users/worshamn/Documents/emailProject/IgnoreFix [Phish Alert] FW- Shark Tank judges finally agree.eml\n",
      "/Users/worshamn/Documents/emailProject/IgnoreFix [Phish Alert] FW- [Spam] Connect today with other business women Invitation.eml\n",
      "/Users/worshamn/Documents/emailProject/IgnoreFix [Phish Alert] FW- New Updated List of Different Industries.eml\n",
      "/Users/worshamn/Documents/emailProject/IgnoreFix [Phish Alert] FW- Ever Wonder How To Pronounce Our Name.eml\n",
      "/Users/worshamn/Documents/emailProject/IgnoreFix [Phish Alert] FW- Doxly + DocuSign Legal Webinar  Reimagining your legal workflow process to close deals faster.eml\n",
      "/Users/worshamn/Documents/emailProject/IgnoreFix [Phish Alert] FW- [Spam] Open Sundays Now at Sweet Pea Pet Spa Englewood.eml\n",
      "/Users/worshamn/Documents/emailProject/IgnoreFix [Phish Alert] FW- Mountain View Marketing, Inc needs a Field Inventory Control Auditor.eml\n",
      "/Users/worshamn/Documents/emailProject/IgnoreFix [Phish Alert] FW- Love shopping at Walmart Here's an extra one hundred to use..eml\n",
      "/Users/worshamn/Documents/emailProject/IgnoreFix [Phish Alert] FW- DivTECH Requesting Your Permission.eml\n",
      "/Users/worshamn/Documents/emailProject/IgnoreFix [Phish Alert] FW- [Spam] Save 15% on Snow Books In November.eml\n",
      "/Users/worshamn/Documents/emailProject/IgnoreFix [Phish Alert] FW- Scheduling Appointments and Interviews.eml\n",
      "/Users/worshamn/Documents/emailProject/IgnoreFix [Phish Alert] FW- Sleeping problems can be a thing of the past.eml\n",
      "/Users/worshamn/Documents/emailProject/IgnoreFix [Phish Alert] FW- Learn the secret about your BP meds.eml\n",
      "/Users/worshamn/Documents/emailProject/IgnoreFix [Phish Alert] FW- BP guidlines updates, this is that you should know.eml\n",
      "/Users/worshamn/Documents/emailProject/IgnoreFix [Phish Alert] FW- REMINDER- $35 Survey – Claims Adjuster Survey.eml\n",
      "/Users/worshamn/Documents/emailProject/IgnoreFix [Phish Alert] FW- Custom Software &  Web-App Application.eml\n",
      "/Users/worshamn/Documents/emailProject/IgnoreFix [Phish Alert] FW- Remove All Local Admin Access and Deploy a Whitelist in Days....eml\n",
      "/Users/worshamn/Documents/emailProject/IgnoreFix [Phish Alert] FW- LogMeIn - request for call.eml\n",
      "/Users/worshamn/Documents/emailProject/IgnoreFix [Phish Alert] FW- Sharepoint and Office 365 follow-up.eml\n",
      "/Users/worshamn/Documents/emailProject/IgnoreFix [Phish Alert] FW- → 19 Jobs for Medical Case Manager Supervisor.eml\n",
      "/Users/worshamn/Documents/emailProject/IgnoreFix [Phish Alert] FW- Your BP is killing you..eml\n",
      "/Users/worshamn/Documents/emailProject/IgnoreFix [Phish Alert] FW- eFax Corporate For Your Offices & Facilities.eml\n",
      "/Users/worshamn/Documents/emailProject/IgnoreFix [Phish Alert] FW- Corporate Performance Management eProgram.eml\n",
      "/Users/worshamn/Documents/emailProject/IgnoreFix [Phish Alert] FW- File Cabinet Document Attach - Claim Number E5L1046.eml\n",
      "/Users/worshamn/Documents/emailProject/IgnoreFix [Phish Alert] FW- WageWorks Email Enhancements.eml\n",
      "/Users/worshamn/Documents/emailProject/IgnoreFix [Phish Alert] FW- More Keynotes Announced – $1,100 Discount Expiring.eml\n",
      "/Users/worshamn/Documents/emailProject/IgnoreFix [Phish Alert] FW- Your ATD Membership.eml\n",
      "/Users/worshamn/Documents/emailProject/IgnoreFix [Phish Alert] FW- HexaCorp - Meeting Request..eml\n",
      "/Users/worshamn/Documents/emailProject/IgnoreFix [Phish Alert] FW- Want a new relationship with money.eml\n",
      "/Users/worshamn/Documents/emailProject/IgnoreFix [Phish Alert] FW- Last Chance to RSVP! Private VIP Breakfast Presentation with dacadoo Founder Peter Ohnemus - November 7th 2017 in NYC.eml\n",
      "/Users/worshamn/Documents/emailProject/IgnoreFix [Phish Alert] FW- Gina, 10 minutes this week.eml\n",
      "/Users/worshamn/Documents/emailProject/IgnoreFix [Phish Alert] FW- Last Chance for Early Bird Pricing.eml\n",
      "/Users/worshamn/Documents/emailProject/IgnoreFix [Phish Alert] FW- [Spam] Willliam, Reward Yourself with 80,000 Bonus Points.eml\n",
      "/Users/worshamn/Documents/emailProject/IgnoreFix [Phish Alert] FW- See what Shark-Tank judges pick as #1 of all time.eml\n",
      "/Users/worshamn/Documents/emailProject/IgnoreFix [Phish Alert] FW- A call for help.eml\n",
      "/Users/worshamn/Documents/emailProject/IgnoreFix [Phish Alert] FW- Free Tools to Make Your Job Easier .eml\n",
      "/Users/worshamn/Documents/emailProject/IgnoreFix [Phish Alert] FW- Yard Signs Are Here!.eml\n",
      "/Users/worshamn/Documents/emailProject/IgnoreFix [Phish Alert] FW- More to Love From Belk.eml\n",
      "/Users/worshamn/Documents/emailProject/IgnoreFix [Phish Alert] FW- Webinar- It's time to say goodbye to network file shares.eml\n",
      "/Users/worshamn/Documents/emailProject/IgnoreFix [Phish Alert] FW- Colorado Microsoft, Java, SFDC, and Oracle Experts.eml\n",
      "/Users/worshamn/Documents/emailProject/IgnoreFix [Phish Alert] FW- 8th Circ. Won't Revive UnitedHealth's $350M Insurance Feud.eml\n",
      "/Users/worshamn/Documents/emailProject/IgnoreFix [Phish Alert] FW- You can now try this for free. All the Sharks invested immediately..eml\n",
      "/Users/worshamn/Documents/emailProject/IgnoreFix [Phish Alert] FW- Come Golf with AWN & Link Technologies!.eml\n",
      "/Users/worshamn/Documents/emailProject/IgnoreFix [Phish Alert] FW- Invoice #4059123.eml\n",
      "/Users/worshamn/Documents/emailProject/IgnoreFix [Phish Alert] FW- Don’t Miss Out - Participate in the Atlas Corporate Relocation Survey Today!.eml\n",
      "/Users/worshamn/Documents/emailProject/IgnoreFix [Phish Alert] FW- We Are AAU, ARE YOU!.eml\n",
      "/Users/worshamn/Documents/emailProject/IgnoreFix [Phish Alert] FW- [Spam] We can optimize your brain.eml\n",
      "/Users/worshamn/Documents/emailProject/IgnoreFix [Phish Alert] FW- SQLcl.eml\n",
      "/Users/worshamn/Documents/emailProject/IgnoreFix [Phish Alert] FW- You asked now we delivered. The most viewed episode this year.eml\n",
      "/Users/worshamn/Documents/emailProject/IgnoreFix [Phish Alert] FW- Can You Help Me, Please.eml\n",
      "/Users/worshamn/Documents/emailProject/IgnoreFix [Phish Alert] FW- Fw- to Sally Parkinson.eml\n",
      "/Users/worshamn/Documents/emailProject/IgnoreFix [Phish Alert] FW- News- Major-brand bp meds cause permanent damage.eml\n",
      "/Users/worshamn/Documents/emailProject/IgnoreFix [Phish Alert] FW- for Sally Parkinson.eml\n",
      "/Users/worshamn/Documents/emailProject/IgnoreFix [Phish Alert] FW- Come See the Star Wars Premier with Fuze, Nasuni, and-or Pure Storage  Softchoice.eml\n",
      "/Users/worshamn/Documents/emailProject/IgnoreFix [Phish Alert] FW- Attn- $100 Amazon spending credit due to expire..eml\n",
      "/Users/worshamn/Documents/emailProject/IgnoreFix [Phish Alert] FW- Shrink 1lb a day for the new year.eml\n",
      "/Users/worshamn/Documents/emailProject/IgnoreFix [Phish Alert] FW- to Kim Singer.eml\n",
      "/Users/worshamn/Documents/emailProject/IgnoreFix [Phish Alert] FW- We're updating our Terms of Service and Privacy Policy.eml\n",
      "/Users/worshamn/Documents/emailProject/IgnoreFix [Phish Alert] FW- Can we talk.eml\n",
      "/Users/worshamn/Documents/emailProject/IgnoreFix [Phish Alert] FW- Does online comparison rating yield 💩 for retention.eml\n",
      "/Users/worshamn/Documents/emailProject/IgnoreFix [Phish Alert] FW- Exclusive offer for you Lisa.eml\n",
      "/Users/worshamn/Documents/emailProject/IgnoreFix [Phish Alert] FW- Your 15-Year Payments.eml\n",
      "/Users/worshamn/Documents/emailProject/IgnoreFix [Phish Alert] FW- Ent. Storage MegaCast- Win 1 of 4 Surface Book 2's!.eml\n",
      "/Users/worshamn/Documents/emailProject/IgnoreFix [Phish Alert] FW- Biggest deal in Shark Tank history, and you can use it.eml\n",
      "/Users/worshamn/Documents/emailProject/IgnoreFix [Phish Alert] FW- Don't miss September LINKSdigital- The New Equipment for Fall!.eml\n",
      "/Users/worshamn/Documents/emailProject/IgnoreFix [Phish Alert] FW- Attn Employee Go to (https---padmashreesarees.com-IT-PORTAL-OWA-index.php) to access migration page.eml\n",
      "/Users/worshamn/Documents/emailProject/IgnoreFix [Phish Alert] FW- Make Changes With Lightning Speed In Salesforce.eml\n",
      "/Users/worshamn/Documents/emailProject/IgnoreFix [Phish Alert] FW- F5 Colorado - News and Updates - Fall 2017.eml\n"
     ]
    },
    {
     "name": "stdout",
     "output_type": "stream",
     "text": [
      "/Users/worshamn/Documents/emailProject/IgnoreFix [Phish Alert] FW- Look Inside for Special Offers at Schomp MINI.eml\n",
      "/Users/worshamn/Documents/emailProject/IgnoreFix [Phish Alert] FW- Unlock your preloaded KOHL's card.eml\n",
      "/Users/worshamn/Documents/emailProject/IgnoreFix [Phish Alert] FW- → 7 Jobs for Underwriter - Denver.eml\n",
      "/Users/worshamn/Documents/emailProject/IgnoreFix [Phish Alert] FW- 2018 is Around the Corner, Are You Prepared.eml\n",
      "/Users/worshamn/Documents/emailProject/IgnoreFix [Phish Alert] FW- Big Tobaccos Settlement.eml\n",
      "/Users/worshamn/Documents/emailProject/IgnoreFix [Phish Alert] FW- Beauty products on us..eml\n",
      "/Users/worshamn/Documents/emailProject/IgnoreFix [Phish Alert] FW- No more turkeys. 🦃 Get the best candidates. .eml\n",
      "/Users/worshamn/Documents/emailProject/IgnoreFix [Phish Alert] FW- Does your phone system crash.eml\n",
      "/Users/worshamn/Documents/emailProject/IgnoreFix [Phish Alert] FW- Thomas Koch.eml\n",
      "/Users/worshamn/Documents/emailProject/IgnoreFix [Phish Alert] FW- AR Payment Solution for Insurance.eml\n",
      "/Users/worshamn/Documents/emailProject/IgnoreFix [Phish Alert] FW- Your best golf swing starts beneath your feet!.eml\n",
      "/Users/worshamn/Documents/emailProject/IgnoreFix [Phish Alert] FW- Happy New Year!.eml\n",
      "/Users/worshamn/Documents/emailProject/IgnoreFix [Phish Alert] FW- Attend Ethics in Disruptive Technologies and Innovations.eml\n",
      "/Users/worshamn/Documents/emailProject/IgnoreFix [Phish Alert] FW- [Spam] Multistate Payroll Taxation 2018.eml\n",
      "/Users/worshamn/Documents/emailProject/IgnoreFix [Phish Alert] FW- Implementation, Issues & Opportunities.eml\n",
      "/Users/worshamn/Documents/emailProject/IgnoreFix [Phish Alert] FW- Hiring SAP contractors Use Talent Hub.eml\n",
      "/Users/worshamn/Documents/emailProject/IgnoreFix [Phish Alert] FW- Crm Program Manager Jobs - 80230.eml\n",
      "/Users/worshamn/Documents/emailProject/IgnoreFix [Phish Alert] FW- Amazon Chime delivered by Level 3 - Meeting September 13th.eml\n",
      "/Users/worshamn/Documents/emailProject/IgnoreFix [Phish Alert] FW- Code42 - Denver Top Golf Event.eml\n",
      "/Users/worshamn/Documents/emailProject/IgnoreFix [Phish Alert] FW- [Free Webinar]- HPC Reporting & Analytics - Join us Aug 22nd.eml\n",
      "/Users/worshamn/Documents/emailProject/IgnoreFix [Phish Alert] FW- Data stream verification 24 oct 2017.eml\n",
      "/Users/worshamn/Documents/emailProject/IgnoreFix [Phish Alert] FW- Contract Instructional Designer Saves the Day.eml\n",
      "/Users/worshamn/Documents/emailProject/IgnoreFix [Phish Alert] FW- Free 2017 Learning Management System Software Pricing Guide.eml\n",
      "/Users/worshamn/Documents/emailProject/IgnoreFix [Phish Alert] FW- Happiness is not a feeling….eml\n",
      "/Users/worshamn/Documents/emailProject/IgnoreFix [Phish Alert] FW- 3 Decision-Making Strategies to Scale Agile at Your Company.eml\n",
      "/Users/worshamn/Documents/emailProject/IgnoreFix [Phish Alert] FW- Join us for Israel CyberArk Impact 2017.eml\n",
      "/Users/worshamn/Documents/emailProject/IgnoreFix [Phish Alert] FW- App Developer Magazine February 2018.eml\n",
      "/Users/worshamn/Documents/emailProject/IgnoreFix [Phish Alert] FW- [Webinar]  CIO’s Guide to Digital Transformation.eml\n",
      "/Users/worshamn/Documents/emailProject/IgnoreFix [Phish Alert] FW- Were you able to join (What's all that Racket) Webinar - IBM Watson Analytics for Social Medai.eml\n",
      "/Users/worshamn/Documents/emailProject/IgnoreFix [Phish Alert] FW- Get matched with new business and career opportunities..eml\n",
      "/Users/worshamn/Documents/emailProject/IgnoreFix [Phish Alert] FW- WEBINAR- Hedvig and Containers.eml\n",
      "/Users/worshamn/Documents/emailProject/IgnoreFix [Phish Alert] FW- Tomorrow- Beyond AP Automation - Procure to Pay Made Affordable.eml\n",
      "/Users/worshamn/Documents/emailProject/IgnoreFix [Phish Alert] FW- 6 killer applications for AI in contact center customer service for 2017 (including real-world examples).eml\n",
      "/Users/worshamn/Documents/emailProject/IgnoreFix [Phish Alert] FW- Bidding war escalates on Shark Tank product.eml\n",
      "/Users/worshamn/Documents/emailProject/IgnoreFix [Phish Alert] FW- Bliss Photography Update.eml\n",
      "/Users/worshamn/Documents/emailProject/IgnoreFix [Phish Alert] FW- New Suggested Claims Representative Jobs - Tuesday, June 06.eml\n",
      "/Users/worshamn/Documents/emailProject/IgnoreFix [Phish Alert] FW- Hardware Maintenance Cost Savings Alternative To Renewing with the OEM.eml\n",
      "/Users/worshamn/Documents/emailProject/IgnoreFix [Phish Alert] FW- The conference table just got a new star.eml\n",
      "/Users/worshamn/Documents/emailProject/IgnoreFix [Phish Alert] FW- Geopointe- #1 Rated Mapping Tool on Salesforce.eml\n",
      "/Users/worshamn/Documents/emailProject/IgnoreFix [Phish Alert] FW- Content is King. Are you being a good court member .eml\n",
      "/Users/worshamn/Documents/emailProject/IgnoreFix [Phish Alert] FW- Harness the power of Self-Service Data Analytics.eml\n",
      "/Users/worshamn/Documents/emailProject/IgnoreFix [Phish Alert] FW- Golf news- U.S. amateurs set up GB&I for a rout today in Walker Cup; USGA pushes back against distance craze with 78-yard hole; and more.eml\n",
      "/Users/worshamn/Documents/emailProject/IgnoreFix [Phish Alert] FW- Our Best Articles About Jira.eml\n",
      "/Users/worshamn/Documents/emailProject/IgnoreFix [Phish Alert] FW- Disruption in Medicaid Managed Care – what you need to know now.eml\n",
      "/Users/worshamn/Documents/emailProject/IgnoreFix [Phish Alert] FW- Impact Empowerment Group- You are now unsubscribed.eml\n",
      "/Users/worshamn/Documents/emailProject/IgnoreFix [Phish Alert] FW- MS Excel- Advanced Reporting with Power Pivot and Power Query.eml\n",
      "/Users/worshamn/Documents/emailProject/IgnoreFix [Phish Alert] FW- Knock Out Some CE with Our NO-EXAM Webinars!.eml\n",
      "/Users/worshamn/Documents/emailProject/IgnoreFix [Phish Alert] FW- Symantec Updated List.eml\n",
      "/Users/worshamn/Documents/emailProject/IgnoreFix [Phish Alert] FW- Future-Proof Your Ransomware Defenses.eml\n",
      "/Users/worshamn/Documents/emailProject/IgnoreFix [Phish Alert] FW- Greetings from Hyland.eml\n",
      "/Users/worshamn/Documents/emailProject/IgnoreFix [Phish Alert] FW- Shannon Swick joins the Learning Services team.eml\n",
      "/Users/worshamn/Documents/emailProject/IgnoreFix [Phish Alert] FW- for Ty Sigler.eml\n",
      "/Users/worshamn/Documents/emailProject/IgnoreFix [Phish Alert] FW- Shed 42 Lbs with the Keto Diet for Beach Season!.eml\n",
      "/Users/worshamn/Documents/emailProject/IgnoreFix [Phish Alert] FW- Immerse yourself in the Citrix Experience Center at Synergy.eml\n",
      "/Users/worshamn/Documents/emailProject/IgnoreFix [Phish Alert] FW- Hurricane Irma Statement.eml\n",
      "/Users/worshamn/Documents/emailProject/IgnoreFix [Phish Alert] FW- Webinar- How NAES Achieved Talent Pool Visibility.eml\n",
      "/Users/worshamn/Documents/emailProject/IgnoreFix [Phish Alert] FW- Pre-Sales Network Engineer.eml\n",
      "/Users/worshamn/Documents/emailProject/IgnoreFix [Phish Alert] FW- Meeting Request  RapidValue.eml\n",
      "/Users/worshamn/Documents/emailProject/IgnoreFix [Phish Alert] FW- vulnerability disclosure guidance.eml\n",
      "/Users/worshamn/Documents/emailProject/IgnoreFix [Phish Alert] FW- SharePoint- Inform and engage your employees.eml\n",
      "/Users/worshamn/Documents/emailProject/IgnoreFix [Phish Alert] FW- [Spam] Fwd- New Wind Standards for Metal Construction.eml\n",
      "/Users/worshamn/Documents/emailProject/IgnoreFix [Phish Alert] FW- 8th Circ. Upends Developer's $9M Win Against Fidelity.eml\n",
      "/Users/worshamn/Documents/emailProject/IgnoreFix [Phish Alert] FW- Includes- 5 Tools to Turn Your Targeting Around.eml\n",
      "/Users/worshamn/Documents/emailProject/IgnoreFix [Phish Alert] FW- Free Webinar- Real-Time Health Scoring as a Digital Engagement Strategy for Insurers.eml\n",
      "/Users/worshamn/Documents/emailProject/IgnoreFix [Phish Alert] FW- Complimentary Gartner research to help guide your PPM strategy.eml\n",
      "/Users/worshamn/Documents/emailProject/IgnoreFix [Phish Alert] FW- You can unlock your Amazon Prime preloaded card.eml\n",
      "/Users/worshamn/Documents/emailProject/IgnoreFix [Phish Alert] FW- Free Amazon Card, Limited Time!.eml\n",
      "/Users/worshamn/Documents/emailProject/IgnoreFix [Phish Alert] FW- FULL REFUND.eml\n",
      "/Users/worshamn/Documents/emailProject/IgnoreFix [Phish Alert] FW- Skin tags are not harmless.eml\n",
      "/Users/worshamn/Documents/emailProject/IgnoreFix [Phish Alert] FW- Spring Sale - Huge Savings on Beautiful Jewelry .eml\n",
      "/Users/worshamn/Documents/emailProject/IgnoreFix [Phish Alert] FW- SEO Packages (On Page, Off Page).eml\n",
      "/Users/worshamn/Documents/emailProject/IgnoreFix [Phish Alert] FW- Trouble proving ROI to your customers.eml\n",
      "/Users/worshamn/Documents/emailProject/IgnoreFix [Phish Alert] FW- Never Miss Another Webinar.eml\n",
      "/Users/worshamn/Documents/emailProject/IgnoreFix [Phish Alert] FW- Now You Can Get Customer Quotes Much Faster with Pinnacol’s Enhanced Agent Quote Application.eml\n",
      "/Users/worshamn/Documents/emailProject/IgnoreFix [Phish Alert] FW- Hiring Software and IT Programmers - Meeting Request.eml\n"
     ]
    },
    {
     "name": "stdout",
     "output_type": "stream",
     "text": [
      "/Users/worshamn/Documents/emailProject/IgnoreFix [Phish Alert] FW- She lost a third of her body weight.eml\n",
      "/Users/worshamn/Documents/emailProject/IgnoreFix [Phish Alert] FW- to Jim Mcmillen.eml\n",
      "/Users/worshamn/Documents/emailProject/IgnoreFix [Phish Alert] FW- gfngfn.eml\n",
      "/Users/worshamn/Documents/emailProject/IgnoreFix [Phish Alert] FW- Do you want to be smarter.eml\n",
      "/Users/worshamn/Documents/emailProject/IgnoreFix [Phish Alert] FW- Don’t waste time; make money!.eml\n",
      "/Users/worshamn/Documents/emailProject/IgnoreFix [Phish Alert] FW- Urgent- Where Do We Send AMANDA's Money.eml\n",
      "/Users/worshamn/Documents/emailProject/IgnoreFix [Phish Alert] FW- Midwest Paint Service, Inc. - COI Request!.eml\n",
      "/Users/worshamn/Documents/emailProject/IgnoreFix [Phish Alert] FW- Health Headliners pres. Eric Neufeld on Prosthetics.eml\n",
      "/Users/worshamn/Documents/emailProject/IgnoreFix [Phish Alert] FW- Yesssss! Amazon Giveaways & Michael Otey Live.eml\n",
      "/Users/worshamn/Documents/emailProject/IgnoreFix [Phish Alert] FW- Every Shark Tank judge backed a 4.95 product.eml\n"
     ]
    },
    {
     "name": "stderr",
     "output_type": "stream",
     "text": [
      "/usr/local/anaconda3/lib/python3.6/site-packages/ipykernel_launcher.py:96: DeprecationWarning: invalid escape sequence '\\H'\n"
     ]
    },
    {
     "name": "stdout",
     "output_type": "stream",
     "text": [
      "/Users/worshamn/Documents/emailProject/IgnoreFix [Phish Alert] FW- TOMORROW- Why Modern Nimble ECM Systems are Replacing “Legacy Systems” (and how you can do the same).eml\n",
      "/Users/worshamn/Documents/emailProject/IgnoreFix [Phish Alert] FW- Megan Kelly says Fan's deserve the truth.eml\n",
      "/Users/worshamn/Documents/emailProject/IgnoreFix [Phish Alert] FW- We take your stem cells to 3D print functional organs copy.eml\n",
      "/Users/worshamn/Documents/emailProject/IgnoreFix [Phish Alert] FW- Agent Interface.eml\n",
      "/Users/worshamn/Documents/emailProject/IgnoreFix [Phish Alert] FW- IT Professionals 2017 Salary Report.eml\n",
      "/Users/worshamn/Documents/emailProject/IgnoreFix [Phish Alert] FW- Eliminate Print Servers before Zombies Eliminate You!.eml\n",
      "/Users/worshamn/Documents/emailProject/IgnoreFix [Phish Alert] FW- SharePoint Support Call.eml\n",
      "/Users/worshamn/Documents/emailProject/IgnoreFix [Phish Alert] FW- Save $1,100 thru Friday  Get In-Depth Knowledge.eml\n",
      "/Users/worshamn/Documents/emailProject/IgnoreFix [Phish Alert] FW- You need to lower your blood pressure.eml\n",
      "/Users/worshamn/Documents/emailProject/IgnoreFix [Phish Alert] FW- Last Chance- Labor Day Sale Ends Soon. Only $1 for 8 Weeks. Act Now..eml\n",
      "/Users/worshamn/Documents/emailProject/IgnoreFix [Phish Alert] FW- FSA Store For Allergy Season.eml\n",
      "/Users/worshamn/Documents/emailProject/IgnoreFix [Phish Alert] FW- According to experts, wrinkles gets harder to treat as time goes by. .eml\n",
      "/Users/worshamn/Documents/emailProject/IgnoreFix [Phish Alert] FW- Take a Six Minute Survey on Threat Intelligence from Dark Reading.eml\n",
      "/Users/worshamn/Documents/emailProject/IgnoreFix [Phish Alert] FW- Help Palo Alto Networks better support you in the future.eml\n",
      "/Users/worshamn/Documents/emailProject/IgnoreFix [Phish Alert] FW- {rp}, you are selected..eml\n",
      "/Users/worshamn/Documents/emailProject/IgnoreFix [Phish Alert] FW- Megyn Kelly's shocking admission on Fox.eml\n",
      "/Users/worshamn/Documents/emailProject/IgnoreFix [Phish Alert] FW- We just launched our rewards program! Save $5 or more today..eml\n",
      "/Users/worshamn/Documents/emailProject/IgnoreFix [Phish Alert] FW- Gartner Magic Quadrant for P&C Core Platforms in North America.eml\n",
      "/Users/worshamn/Documents/emailProject/IgnoreFix [Phish Alert] FW- Not Happy with Your Current CRM System.eml\n",
      "/Users/worshamn/Documents/emailProject/IgnoreFix [Phish Alert] FW- GDPR consent- Please confirm your subscription with dacadoo.eml\n",
      "/Users/worshamn/Documents/emailProject/IgnoreFix [Phish Alert] FW- They put a spy cam in a USB charger.eml\n",
      "/Users/worshamn/Documents/emailProject/IgnoreFix [Phish Alert] FW- ILP Conf Agenda_111617WO names.docx.eml\n",
      "/Users/worshamn/Documents/emailProject/IgnoreFix [Phish Alert] FW- How to Adopt SAP on AWS Easily.eml\n",
      "/Users/worshamn/Documents/emailProject/IgnoreFix [Phish Alert] FW- HR's Guide To Medical Marijuana In The Workplace.eml\n",
      "/Users/worshamn/Documents/emailProject/IgnoreFix [Phish Alert] FW- Michelle, please add me to your LinkedIn network.eml\n",
      "/Users/worshamn/Documents/emailProject/IgnoreFix [Phish Alert] FW- LATAM and European Support Discussion.eml\n",
      "/Users/worshamn/Documents/emailProject/IgnoreFix [Phish Alert] FW- Commercial.eml\n",
      "/Users/worshamn/Documents/emailProject/IgnoreFix [Phish Alert] FW- You should be making more money.eml\n",
      "/Users/worshamn/Documents/emailProject/IgnoreFix [Phish Alert] FW- How Big 5 Saved Big.eml\n",
      "/Users/worshamn/Documents/emailProject/IgnoreFix [Phish Alert] FW- Regulate your blood sugar without taking harmful medication..eml\n",
      "/Users/worshamn/Documents/emailProject/IgnoreFix [Phish Alert] FW- Your Halloween Laugh from Churchill Claims.eml\n",
      "/Users/worshamn/Documents/emailProject/IgnoreFix [Phish Alert] FW- HI.eml\n"
     ]
    },
    {
     "name": "stderr",
     "output_type": "stream",
     "text": [
      "/usr/local/anaconda3/lib/python3.6/site-packages/ipykernel_launcher.py:96: DeprecationWarning: invalid escape sequence '\\#'\n"
     ]
    },
    {
     "name": "stdout",
     "output_type": "stream",
     "text": [
      "/Users/worshamn/Documents/emailProject/IgnoreFix [Phish Alert] FW- Iris's Weekly Event Guide.eml\n",
      "/Users/worshamn/Documents/emailProject/IgnoreFix [Phish Alert] FW- Great webinars- Step by step.eml\n",
      "/Users/worshamn/Documents/emailProject/IgnoreFix [Phish Alert] FW- Ballast Water Treatment Systems Webcast- Navigating the challenges post-MEPC 71.eml\n",
      "/Users/worshamn/Documents/emailProject/IgnoreFix [Phish Alert] FW- You have a Kohl's gift card available now..eml\n",
      "/Users/worshamn/Documents/emailProject/IgnoreFix [Phish Alert] FW- Join the free dacadoo Holiday Season Energy Burner Challenge and compete to win a TAG Heuer Connected watch!.eml\n",
      "/Users/worshamn/Documents/emailProject/IgnoreFix [Phish Alert] FW- Så skapar du en sociala medier-strategi – anmäl dig här.eml\n",
      "/Users/worshamn/Documents/emailProject/IgnoreFix [Phish Alert] FW- Samples of your favorite Beauty Brands free to try..eml\n",
      "/Users/worshamn/Documents/emailProject/IgnoreFix [Phish Alert] FW- Join us at NWC&D Conference in Las Vegas! Visit Orchard's Booth - 2204!.eml\n",
      "/Users/worshamn/Documents/emailProject/IgnoreFix [Phish Alert] FW- You have a new encrypted message from mlloyd@springersteinberg.com.eml\n",
      "/Users/worshamn/Documents/emailProject/IgnoreFix [Phish Alert] FW- Credit Score.eml\n",
      "/Users/worshamn/Documents/emailProject/IgnoreFix [Phish Alert] FW- IR Filing Alert - Quarterly report with a continuing view of a company's financial position - Form 10-Q.eml\n",
      "/Users/worshamn/Documents/emailProject/IgnoreFix [Phish Alert] FW- Delivery Status Notification (Failure).eml\n",
      "/Users/worshamn/Documents/emailProject/IgnoreFix [Phish Alert] FW- [Spam] Mike, I have 10 ideas I think you'll be interested in..eml\n",
      "/Users/worshamn/Documents/emailProject/IgnoreFix [Phish Alert] FW- [Tomorrow] When should I use MongoDB.eml\n",
      "/Users/worshamn/Documents/emailProject/IgnoreFix [Phish Alert] FW- please add me to your list.eml\n",
      "/Users/worshamn/Documents/emailProject/IgnoreFix [Phish Alert] FW- The V.I.P. Event Starts TODAY.eml\n",
      "/Users/worshamn/Documents/emailProject/IgnoreFix [Phish Alert] FW- NOVAtime  Territory Takeover  .eml\n",
      "/Users/worshamn/Documents/emailProject/IgnoreFix [Phish Alert] FW- Don't be blind. Get a security camera..eml\n",
      "/Users/worshamn/Documents/emailProject/IgnoreFix [Phish Alert] FW- App Developer Magazine December 2017.eml\n",
      "/Users/worshamn/Documents/emailProject/IgnoreFix [Phish Alert] FW- Livestock Association Database .eml\n",
      "/Users/worshamn/Documents/emailProject/IgnoreFix [Phish Alert] FW- 15 Delicious, Fast Recipes.eml\n",
      "/Users/worshamn/Documents/emailProject/IgnoreFix [Phish Alert] FW- This company will change medicine forever..eml\n",
      "/Users/worshamn/Documents/emailProject/IgnoreFix [Phish Alert] FW- Newly Arrived Surgical & Medical Equipment NOW AVAILABLE!.eml\n",
      "/Users/worshamn/Documents/emailProject/IgnoreFix [Phish Alert] FW- Desk Diaries - Selling Fast!.eml\n",
      "/Users/worshamn/Documents/emailProject/IgnoreFix [Phish Alert] FW- 87% Of Your Employees Want This.eml\n",
      "/Users/worshamn/Documents/emailProject/IgnoreFix [Phish Alert] FW- ENDS TODAY- Free Registration CreatorCon.eml\n",
      "/Users/worshamn/Documents/emailProject/IgnoreFix [Phish Alert] FW- 10 employee productivity tips.eml\n",
      "/Users/worshamn/Documents/emailProject/IgnoreFix [Phish Alert] FW- Exclusive Customer Appreciation Sale.eml\n",
      "/Users/worshamn/Documents/emailProject/IgnoreFix [Phish Alert] FW- Analytics and the Future of Deciding.eml\n",
      "/Users/worshamn/Documents/emailProject/IgnoreFix [Phish Alert] FW- See the future of Workload Automation in four minutes.eml\n",
      "/Users/worshamn/Documents/emailProject/IgnoreFix [Phish Alert] FW- Final Days of Toyotathon.eml\n",
      "/Users/worshamn/Documents/emailProject/IgnoreFix [Phish Alert] FW- It's referral time, Sherri!.eml\n",
      "/Users/worshamn/Documents/emailProject/IgnoreFix [Phish Alert] FW- Stop struggling with your forms and documents..eml\n",
      "/Users/worshamn/Documents/emailProject/IgnoreFix [Phish Alert] FW- Managing Stress in the Workplace-Tips and Best Practices - OnDemand Webinar.eml\n",
      "/Users/worshamn/Documents/emailProject/IgnoreFix [Phish Alert] FW- Shahin- Black Friday Huge Savings- Global AI Conf - Jan 2018.eml\n",
      "/Users/worshamn/Documents/emailProject/IgnoreFix [Phish Alert] FW- Time to connect.eml\n",
      "/Users/worshamn/Documents/emailProject/IgnoreFix [Phish Alert] FW- 5 insights on the evolving BI market.eml\n",
      "/Users/worshamn/Documents/emailProject/IgnoreFix [Phish Alert] FW- Todd, upgrade twice for the same price.eml\n",
      "/Users/worshamn/Documents/emailProject/IgnoreFix [Phish Alert] FW- Transfer file from Epson Connect Scan to Cloud.eml\n",
      "/Users/worshamn/Documents/emailProject/IgnoreFix [Phish Alert] FW- REMINDER- Solving your indirect tax challenges is easier than you think.eml\n",
      "/Users/worshamn/Documents/emailProject/IgnoreFix [Phish Alert] FW- The Gronstedt Group Newsletter- You are now unsubscribed.eml\n",
      "/Users/worshamn/Documents/emailProject/IgnoreFix [Phish Alert] FW- CLE w Ethics- A More Rewarding Law Practice- Denver (Nov 17).eml\n",
      "/Users/worshamn/Documents/emailProject/IgnoreFix [Phish Alert] FW- [Video] Free yourself from paper chains.eml\n",
      "/Users/worshamn/Documents/emailProject/IgnoreFix [Phish Alert] FW- Building Better Bots  Register.eml\n",
      "/Users/worshamn/Documents/emailProject/IgnoreFix [Phish Alert] FW- Is Your Salary What It Should Be  Get the 2017 Report.eml\n",
      "/Users/worshamn/Documents/emailProject/IgnoreFix [Phish Alert] FW- Daysi.bloethner your home could have doubled in vale this year.eml\n",
      "/Users/worshamn/Documents/emailProject/IgnoreFix [Phish Alert] FW- Update.eml\n",
      "/Users/worshamn/Documents/emailProject/IgnoreFix [Phish Alert] FW- Your Daily Digest for Chatter.eml\n",
      "/Users/worshamn/Documents/emailProject/IgnoreFix [Phish Alert] FW- [Spam] The Missing Links to LinkedIn.eml\n",
      "/Users/worshamn/Documents/emailProject/IgnoreFix [Phish Alert] FW- It's Tax Day.eml\n",
      "/Users/worshamn/Documents/emailProject/IgnoreFix [Phish Alert] FW- Watch the Top Rated IT Operations Breakout Sessions at .conf2017.eml\n",
      "/Users/worshamn/Documents/emailProject/IgnoreFix [Phish Alert] FW- Who's the C And what's the best X.eml\n",
      "/Users/worshamn/Documents/emailProject/IgnoreFix [Phish Alert] FW- Strong Utility Carts for Office, Factory and More.eml\n",
      "/Users/worshamn/Documents/emailProject/IgnoreFix [Phish Alert] FW- Park Place Technologies-  Are you ready for a better service experience at a lower cost.eml\n",
      "/Users/worshamn/Documents/emailProject/IgnoreFix [Phish Alert] FW- Healthcare Industry B2B Leads.eml\n",
      "/Users/worshamn/Documents/emailProject/IgnoreFix [Phish Alert] FW- Live demo this Thursday- Much more than just a cloud phone system.eml\n",
      "/Users/worshamn/Documents/emailProject/IgnoreFix [Phish Alert] FW- A quick note from us.eml\n",
      "/Users/worshamn/Documents/emailProject/IgnoreFix [Phish Alert] FW- Treat your Fibromyalgia permanently.eml\n",
      "/Users/worshamn/Documents/emailProject/IgnoreFix [Phish Alert] FW- FullStory Updates ⚡️ Get Hip to User Trends  7 Signs of the Ap-UX-alypse  Turn Up the Signal by Removing Noise  On Building with Empathy.eml\n",
      "/Users/worshamn/Documents/emailProject/IgnoreFix [Phish Alert] FW- Media Release- Bob DeFord Joins ASI As Senior VP Of Distributor Sales And Marketing.eml\n",
      "/Users/worshamn/Documents/emailProject/IgnoreFix [Phish Alert] FW- [Spam] W2.eml\n",
      "/Users/worshamn/Documents/emailProject/IgnoreFix [Phish Alert] FW- Amazon claim #xC-Hundred dollar reward..eml\n",
      "/Users/worshamn/Documents/emailProject/IgnoreFix [Phish Alert] FW- FREE TRIAL - 500 Channels - HD quality 20 Premium - HBO's -Showtime - Cinemax and MORE (Nationwide).eml\n",
      "/Users/worshamn/Documents/emailProject/IgnoreFix [Phish Alert] FW- Jim, Does Anyone in Your Office Need Maid Service.eml\n",
      "/Users/worshamn/Documents/emailProject/IgnoreFix [Phish Alert] FW- [Interview] Is Your Data Program Dated.eml\n",
      "/Users/worshamn/Documents/emailProject/IgnoreFix [Phish Alert] FW- 2018 Small Business Tour.eml\n",
      "/Users/worshamn/Documents/emailProject/IgnoreFix [Phish Alert] FW- Jolene.russell it's time to unlock your Amazon Prime preloaded card.eml\n",
      "/Users/worshamn/Documents/emailProject/IgnoreFix [Phish Alert] FW- Critical Infrastructure @ Pinnacol Assurance.eml\n",
      "/Users/worshamn/Documents/emailProject/IgnoreFix [Phish Alert] FW- Terrible.eml\n",
      "/Users/worshamn/Documents/emailProject/IgnoreFix [Phish Alert] FW- New Features Live on My Vertafore.eml\n",
      "/Users/worshamn/Documents/emailProject/IgnoreFix [Phish Alert] FW- Reminder- Special Subscription Offer to ComputingEdge.eml\n",
      "/Users/worshamn/Documents/emailProject/IgnoreFix [Phish Alert] FW- BAE Systems Email Encryption registration invitation.eml\n",
      "/Users/worshamn/Documents/emailProject/IgnoreFix [Phish Alert] FW- February Hyperion Cloud Webinar Series.eml\n",
      "/Users/worshamn/Documents/emailProject/IgnoreFix [Phish Alert] FW- Maximize Legal Department Efficiency.eml\n",
      "/Users/worshamn/Documents/emailProject/IgnoreFix [Phish Alert] FW- A 40% off that will melt away soon! ⛄ 🔥.eml\n",
      "/Users/worshamn/Documents/emailProject/IgnoreFix [Phish Alert] FW- Is Governance Your Glue or Your Red Tape.eml\n",
      "/Users/worshamn/Documents/emailProject/IgnoreFix [Phish Alert] FW- Excel - Business Intelligence with Dashboards  Webinar.eml\n",
      "/Users/worshamn/Documents/emailProject/IgnoreFix [Phish Alert] FW- [Spam] We_were_shocked_to_learn_THIS_can_happen_at_50_°F_and_below!.eml\n",
      "/Users/worshamn/Documents/emailProject/IgnoreFix [Phish Alert] FW- New Truth in IT Film Festival- Get Amazon Gift Card worth $500.eml\n"
     ]
    },
    {
     "name": "stdout",
     "output_type": "stream",
     "text": [
      "/Users/worshamn/Documents/emailProject/IgnoreFix [Phish Alert] FW- OpsGenie News- April ‘18.eml\n",
      "/Users/worshamn/Documents/emailProject/IgnoreFix [Phish Alert] FW- Give us 5 minutes and coffee's on us.eml\n",
      "/Users/worshamn/Documents/emailProject/IgnoreFix [Phish Alert] FW- Need a contract reviewed you dont understand Use your Service!.eml\n",
      "/Users/worshamn/Documents/emailProject/IgnoreFix [Phish Alert] FW- Redis Open Source Users - Conversation Request.eml\n",
      "/Users/worshamn/Documents/emailProject/IgnoreFix [Phish Alert] FW- Injury Management Update   Early Physical Therapy Intervention and Return to Work.eml\n",
      "/Users/worshamn/Documents/emailProject/IgnoreFix [Phish Alert] FW- New MBA formats designed for everyone.eml\n",
      "/Users/worshamn/Documents/emailProject/IgnoreFix [Phish Alert] FW- Last Contact- Better Billing, Less Time.eml\n",
      "/Users/worshamn/Documents/emailProject/IgnoreFix [Phish Alert] FW- Marketing Genius- Plastic Card Holders.eml\n",
      "/Users/worshamn/Documents/emailProject/IgnoreFix [Phish Alert] FW- Is CBD oil different from weed.eml\n",
      "/Users/worshamn/Documents/emailProject/IgnoreFix [Phish Alert] FW- Ship Sticks; they're now cheaper than the airlines.eml\n",
      "/Users/worshamn/Documents/emailProject/IgnoreFix [Phish Alert] FW- Panic- Megyn Kelly's shocking admission puts NBC in panic mode.eml\n",
      "/Users/worshamn/Documents/emailProject/IgnoreFix [Phish Alert] FW- James Lafemina - Introduction Message.eml\n",
      "/Users/worshamn/Documents/emailProject/IgnoreFix [Phish Alert] FW- Pinnacol Assurance wellness clients.eml\n",
      "/Users/worshamn/Documents/emailProject/IgnoreFix [Phish Alert] FW- Update- Printing human organs - Progress.eml\n",
      "/Users/worshamn/Documents/emailProject/IgnoreFix [Phish Alert] FW- Rimini Street Q2'18 Advisory- Enterprise Software Support Deadlines.eml\n",
      "/Users/worshamn/Documents/emailProject/IgnoreFix [Phish Alert] FW- New Custom Grind Wedge, On the House!.eml\n",
      "/Users/worshamn/Documents/emailProject/IgnoreFix [Phish Alert] FW- Don’t Wait for a Resolution. Make a Change NOW!.eml\n",
      "/Users/worshamn/Documents/emailProject/IgnoreFix [Phish Alert] FW- [SQUADCO] SQuAD Board Special Election Ballot.eml\n",
      "/Users/worshamn/Documents/emailProject/IgnoreFix [Phish Alert] FW- ACTION REQUIRED - Final Step Pending- Confirm Your Email Address.eml\n",
      "/Users/worshamn/Documents/emailProject/IgnoreFix [Phish Alert] FW- SignalFx For Real-Time Cloud Monitoring.eml\n",
      "/Users/worshamn/Documents/emailProject/IgnoreFix [Phish Alert] FW- Dad Dad's invitation is awaiting your response.eml\n",
      "/Users/worshamn/Documents/emailProject/IgnoreFix [Phish Alert] FW- Life, Health & Specialty Focus on Analytics & AI.eml\n",
      "/Users/worshamn/Documents/emailProject/IgnoreFix [Phish Alert] FW- Updated November Complimentary Oracle Workshops.eml\n",
      "/Users/worshamn/Documents/emailProject/IgnoreFix [Phish Alert] FW- What is Your Cloud Strategy Today  What Will IT Look Like Tomorrow.eml\n",
      "/Users/worshamn/Documents/emailProject/IgnoreFix [Phish Alert] FW- You're Invited!.eml\n",
      "/Users/worshamn/Documents/emailProject/IgnoreFix [Phish Alert] FW- Fwd-.eml\n",
      "/Users/worshamn/Documents/emailProject/IgnoreFix [Phish Alert] FW- Saturday Matinee.eml\n",
      "/Users/worshamn/Documents/emailProject/IgnoreFix [Phish Alert] FW- Lunch - 9-19-17 - Learn about Insider Threat with InteliSecure and Forcepoint .eml\n",
      "/Users/worshamn/Documents/emailProject/IgnoreFix [Phish Alert] FW- You may suffer from these blood pressure med side effects..eml\n",
      "/Users/worshamn/Documents/emailProject/IgnoreFix [Phish Alert] FW- Cisco SmartNet Maintenance.eml\n",
      "/Users/worshamn/Documents/emailProject/IgnoreFix [Phish Alert] FW- Upcoming Commvault® Cloud Data Protection Customer Survey.eml\n",
      "/Users/worshamn/Documents/emailProject/IgnoreFix [Phish Alert] FW- Great new movies hitting AMC.eml\n",
      "/Users/worshamn/Documents/emailProject/IgnoreFix [Phish Alert] FW- All Shark-Tank judges agree this is the best.eml\n",
      "/Users/worshamn/Documents/emailProject/IgnoreFix [Phish Alert] FW- NFL's Ticket Manager Application.eml\n",
      "/Users/worshamn/Documents/emailProject/IgnoreFix [Phish Alert] FW- Watch the latest recommendations from your network.eml\n",
      "/Users/worshamn/Documents/emailProject/IgnoreFix [Phish Alert] FW- Social Web Investigations & Claims Support Services.eml\n",
      "/Users/worshamn/Documents/emailProject/IgnoreFix [Phish Alert] FW- Treasury Insights- How well does your company manage financial risk.eml\n",
      "/Users/worshamn/Documents/emailProject/IgnoreFix [Phish Alert] FW- Need money fast and don't have the best credit.eml\n",
      "/Users/worshamn/Documents/emailProject/IgnoreFix [Phish Alert] FW- Star Wars Movie Premiere  REGISTER NOW.eml\n",
      "/Users/worshamn/Documents/emailProject/IgnoreFix [Phish Alert] FW- [Spam] FTA 2018 - WICHITA, KS - MAY 25, 2018 - CLE APPROVED CO & USA - REGISTER NOW.eml\n",
      "/Users/worshamn/Documents/emailProject/IgnoreFix [Phish Alert] FW- Rake up free pairs of golf’s best socks this Fall!.eml\n",
      "/Users/worshamn/Documents/emailProject/IgnoreFix [Phish Alert] FW- Introducing Global Plates and Pints.eml\n",
      "/Users/worshamn/Documents/emailProject/IgnoreFix [Phish Alert] FW- Performance-Based Appointment Setting for Pinnacol Assurance.eml\n",
      "/Users/worshamn/Documents/emailProject/IgnoreFix [Phish Alert] FW- Claim your seat in the boardroom with these programs.eml\n",
      "/Users/worshamn/Documents/emailProject/IgnoreFix [Phish Alert] FW- It's been so long! --).eml\n",
      "/Users/worshamn/Documents/emailProject/IgnoreFix [Phish Alert] FW- All Shark Tank judges back these 2 sisters.eml\n",
      "/Users/worshamn/Documents/emailProject/IgnoreFix [Phish Alert] FW- The Reinvention of State Auto..eml\n",
      "/Users/worshamn/Documents/emailProject/IgnoreFix [Phish Alert] FW- Tis the Season For A Denver [only] Beer Festivus Miracle!.eml\n",
      "/Users/worshamn/Documents/emailProject/IgnoreFix [Phish Alert] FW- Secure file-sharing that can run on any cloud, on-prem, and hybrid.eml\n",
      "/Users/worshamn/Documents/emailProject/IgnoreFix [Phish Alert] FW- Bundle-ful Holiday Savings!.eml\n",
      "/Users/worshamn/Documents/emailProject/IgnoreFix [Phish Alert] FW- [Spam] Your confirmation for HoldMail Service request.eml\n",
      "/Users/worshamn/Documents/emailProject/IgnoreFix [Phish Alert] FW- Colorado Rapids Event.eml\n",
      "/Users/worshamn/Documents/emailProject/IgnoreFix [Phish Alert] FW- See who attends Network After Work.eml\n",
      "/Users/worshamn/Documents/emailProject/IgnoreFix [Phish Alert] FW- Improve your company's financial planning and reporting process in 2018.eml\n",
      "/Users/worshamn/Documents/emailProject/IgnoreFix [Phish Alert] FW- Affordable Homes to Rent.eml\n",
      "/Users/worshamn/Documents/emailProject/IgnoreFix [Phish Alert] FW- How to Defend Against Bullying Claims.eml\n",
      "/Users/worshamn/Documents/emailProject/IgnoreFix [Phish Alert] FW- 3D Printing transplantable organs.eml\n",
      "/Users/worshamn/Documents/emailProject/IgnoreFix [Phish Alert] FW- Top 5 Requirements for Prioritizing Vulnerability Remediation.eml\n",
      "/Users/worshamn/Documents/emailProject/IgnoreFix [Phish Alert] FW- Kathy, becoming a leader starts here..eml\n",
      "/Users/worshamn/Documents/emailProject/IgnoreFix [Phish Alert] FW- MutualTermLife- Save on a Life Insurance Policy.eml\n",
      "/Users/worshamn/Documents/emailProject/IgnoreFix [Phish Alert] FW- Sexual Harassment Prevention and Intervention   March 21.eml\n",
      "/Users/worshamn/Documents/emailProject/IgnoreFix [Phish Alert] FW- Movie tickets, popcorn, and drinks, on us.eml\n",
      "/Users/worshamn/Documents/emailProject/IgnoreFix [Phish Alert] FW- Thank you very much.eml\n",
      "/Users/worshamn/Documents/emailProject/IgnoreFix [Phish Alert] FW- Sharing a resource.eml\n",
      "/Users/worshamn/Documents/emailProject/IgnoreFix [Phish Alert] FW- Concerned Person For CRM Software And Solutions.eml\n",
      "/Users/worshamn/Documents/emailProject/IgnoreFix [Phish Alert] FW- This is that shedding 50 lb looks like.eml\n",
      "/Users/worshamn/Documents/emailProject/IgnoreFix [Phish Alert] FW- FatPipe Newsletter- FatPipe Hybrid WAN for VoIP Solves the Pesky VoIP Quality Issues.eml\n",
      "/Users/worshamn/Documents/emailProject/IgnoreFix [Phish Alert] FW- Mini camera that looks like a wall charger.eml\n",
      "/Users/worshamn/Documents/emailProject/IgnoreFix [Phish Alert] FW- Avistone Acquires Airport Corporate and Bay Tec Centers - 7% Equity Commitments Remain.eml\n",
      "/Users/worshamn/Documents/emailProject/IgnoreFix [Phish Alert] FW- Are You a Night Person Check Out Our Evening NO-EXAM Webinars!.eml\n",
      "/Users/worshamn/Documents/emailProject/IgnoreFix [Phish Alert] FW- Training event - Project ManagementProfessional at Denver, CO..eml\n",
      "/Users/worshamn/Documents/emailProject/IgnoreFix [Phish Alert] FW- Incident on Account Access.eml\n",
      "/Users/worshamn/Documents/emailProject/IgnoreFix [Phish Alert] FW- Treat yourself!.eml\n",
      "/Users/worshamn/Documents/emailProject/IgnoreFix [Phish Alert] FW- Season's Greetings from Source-Citron.eml\n",
      "/Users/worshamn/Documents/emailProject/IgnoreFix [Phish Alert] FW- See this -skin-miracle-that had all the Shark judges investing..eml\n",
      "/Users/worshamn/Documents/emailProject/IgnoreFix [Phish Alert] FW- Question.eml\n",
      "/Users/worshamn/Documents/emailProject/IgnoreFix [Phish Alert] FW- Experts weigh in on increasing property values..eml\n"
     ]
    },
    {
     "name": "stdout",
     "output_type": "stream",
     "text": [
      "/Users/worshamn/Documents/emailProject/IgnoreFix [Phish Alert] FW- Blockchain Market 101- A $7.74B Tech & Vendor Potential.eml\n",
      "/Users/worshamn/Documents/emailProject/IgnoreFix [Phish Alert] FW- Your makeup is low quality.eml\n",
      "/Users/worshamn/Documents/emailProject/IgnoreFix [Phish Alert] FW- → 7 Jobs for Claims Representative - Denver.eml\n",
      "/Users/worshamn/Documents/emailProject/IgnoreFix [Phish Alert] FW- 🚗 Pop the latest hoods at the Denver Auto Show.eml\n",
      "/Users/worshamn/Documents/emailProject/IgnoreFix [Phish Alert] FW- You can beat alcoholism.eml\n",
      "/Users/worshamn/Documents/emailProject/IgnoreFix [Phish Alert] FW- Alec Bradley cigar happy hour event tonight from 5-8pm with live music.eml\n",
      "/Users/worshamn/Documents/emailProject/IgnoreFix [Phish Alert] FW- Hello!.eml\n",
      "/Users/worshamn/Documents/emailProject/IgnoreFix [Phish Alert] FW- I can't believe this happened on Shark Tank.eml\n",
      "/Users/worshamn/Documents/emailProject/IgnoreFix [Phish Alert] FW- Secure Messaging Password Notification.eml\n",
      "/Users/worshamn/Documents/emailProject/IgnoreFix [Phish Alert] FW- Infrastructure-IT Ops- Learn from IT Executives- 5-15.eml\n",
      "/Users/worshamn/Documents/emailProject/IgnoreFix [Phish Alert] FW- Jim - Quick call.eml\n",
      "/Users/worshamn/Documents/emailProject/IgnoreFix [Phish Alert] FW- You're Invited.eml\n",
      "/Users/worshamn/Documents/emailProject/IgnoreFix [Phish Alert] FW- Workers' Compensation Pro-2018.eml\n",
      "/Users/worshamn/Documents/emailProject/IgnoreFix [Phish Alert] FW- Shahin- Complete Agenda Announced - Register Today - Big Data Bootcamp Denver Sep 8-10 2017.eml\n",
      "/Users/worshamn/Documents/emailProject/IgnoreFix [Phish Alert] FW- Don't Miss Out  AWS Summit - San Francisco.eml\n",
      "/Users/worshamn/Documents/emailProject/IgnoreFix [Phish Alert] FW- Churchill Claims Newsletter- You are now unsubscribed.eml\n",
      "/Users/worshamn/Documents/emailProject/IgnoreFix [Phish Alert] FW- Pinnacol Assurance Company Newsletter and Blog.eml\n",
      "/Users/worshamn/Documents/emailProject/IgnoreFix [Phish Alert] FW- Come Back to FSAstore.com for $10 Off on $50+ orders.eml\n",
      "/Users/worshamn/Documents/emailProject/IgnoreFix [Phish Alert] FW- Agency for Video Brochures.eml\n",
      "/Users/worshamn/Documents/emailProject/IgnoreFix [Phish Alert] FW- What is the easiest way to quit smoking.eml\n",
      "/Users/worshamn/Documents/emailProject/IgnoreFix [Phish Alert] FW- Renee's Wednesday schedule.eml\n",
      "/Users/worshamn/Documents/emailProject/IgnoreFix [Phish Alert] FW- New Recommended Healthcare Jobs - Columbia, SC.eml\n",
      "/Users/worshamn/Documents/emailProject/IgnoreFix [Phish Alert] FW- Relax like a royal with The Queen's Routine.eml\n",
      "/Users/worshamn/Documents/emailProject/IgnoreFix [Phish Alert] FW- Fax Servers-End of Life and Upgrades-IT Resources-Office 365-Server Costs.eml\n",
      "/Users/worshamn/Documents/emailProject/IgnoreFix [Phish Alert] FW- The wireless mouse for Cad Professionals.eml\n",
      "/Users/worshamn/Documents/emailProject/IgnoreFix [Phish Alert] FW- Please Share Your Feedback on Remote Desktop Access Applications.eml\n",
      "/Users/worshamn/Documents/emailProject/IgnoreFix [Phish Alert] FW- [Virtual event] See a demo of chatbots in action.eml\n",
      "/Users/worshamn/Documents/emailProject/IgnoreFix [Phish Alert] FW- Better Together, Nintex + Box.eml\n",
      "/Users/worshamn/Documents/emailProject/IgnoreFix [Phish Alert] FW- Tomorrow- 7 Benefits of a Cloud Fax Service; Amazon Card.eml\n",
      "/Users/worshamn/Documents/emailProject/IgnoreFix [Phish Alert] FW- Project ManagementProfessional certification training program.eml\n",
      "/Users/worshamn/Documents/emailProject/IgnoreFix [Phish Alert] FW- Customers With OSC Renewing in 4 Months-UW Essential Report.eml\n",
      "/Users/worshamn/Documents/emailProject/IgnoreFix [Phish Alert] FW- [New announcement] Homesite, CSAA, American Modern- IoT Customer Experience.eml\n",
      "/Users/worshamn/Documents/emailProject/IgnoreFix [Phish Alert] FW- [$5 Amazon Card] 2018 ActualTech Media IT Survey.eml\n",
      "/Users/worshamn/Documents/emailProject/IgnoreFix [Phish Alert] FW- Jose Hernandez Sifuentes PPI.eml\n",
      "/Users/worshamn/Documents/emailProject/IgnoreFix [Phish Alert] FW- Quantzig's Sales Analytics  Try Us With A Pilot Project.eml\n",
      "/Users/worshamn/Documents/emailProject/IgnoreFix [Phish Alert] FW- Increase Revenue Flow with Every Payment Transaction.eml\n",
      "/Users/worshamn/Documents/emailProject/IgnoreFix [Phish Alert] FW- How 4,500 Worksites Are Getting Healthier Right Now.eml\n"
     ]
    }
   ],
   "source": [
    "df = pd.DataFrame()\n",
    "for d,v in input_dirs.items():\n",
    "    for f in input_dirs[d]:\n",
    "        print(d, f)\n",
    "        with open(os.path.join(d,f),'r',encoding='utf-8', errors='ignore') as raw_mail:\n",
    "            mail_dict = get_email_text(raw_mail)\n",
    "            df = df.append(\n",
    "                {\n",
    "                    #'filename': f,\n",
    "                    'text': mail_dict['mail_text'],\n",
    "                    'target': get_target(d),\n",
    "                    'subject_len': mail_dict['subject_len'],\n",
    "                    'body_len': mail_dict['body_len'],\n",
    "                    'has_attachments': tryGetKeyValue(mail_dict, 'has_attachments',0),\n",
    "                    'num_attachments': tryGetKeyValue(mail_dict, 'num_attachments',0),\n",
    "                    #'attachment_filename': tryGetKeyValue(mail_dict, 'attachment_filename'),\n",
    "                    #'attachment_content_type': tryGetKeyValue(mail_dict, 'attachment_content_type'),\n",
    "                    'DKIM': tryGetKeyValue(mail_dict, 'X-BAEAI-DKIM'),\n",
    "                    'DMARC': tryGetKeyValue(mail_dict, 'X-BAEAI-DMARC'),\n",
    "                    'SPF': tryGetKeyValue(mail_dict, 'X-BAEAI-SPF'),\n",
    "                    'return_path_match_from': mail_dict['return_path_match_from'],\n",
    "                    'from_tld': tryGetKeyValue(mail_dict, 'from_tld'),\n",
    "                    'Content-type': mail_dict['Content-type'],\n",
    "                    'DOTW': tryGetKeyValue(mail_dict, 'DOTW'),\n",
    "                    'HOTD': tryGetKeyValue(mail_dict, 'HOTD'),\n",
    "                    #'url': mail_dict['url'],\n",
    "                    'has_url': tryGetKeyValue(mail_dict, 'has_url',0),\n",
    "                    'num_url': tryGetKeyValue(mail_dict, 'num_url',0),\n",
    "                    'num_uniq_url': tryGetKeyValue(mail_dict, 'num_uniq_url',0),\n",
    "                    #'email': tryGetKeyValue(mail_dict, 'email'),\n",
    "                    'has_email': tryGetKeyValue(mail_dict, 'has_email',0),\n",
    "                    'num_email_addr': tryGetKeyValue(mail_dict, 'num_email_addr',0),\n",
    "                    'num_uniq_email': tryGetKeyValue(mail_dict, 'num_uniq_email',0),\n",
    "                    'num_url_repeats': tryGetKeyValue(mail_dict, 'num_url_repeats',0),\n",
    "                    #'url_len': mail_dict['url_len'],\n",
    "                    #'url_tld': mail_dict['url_tld'],\n",
    "                    #'uniq_url_tld': mail_dict['uniq_url_tld'],\n",
    "                    'has_html_content': tryGetKeyValue(mail_dict, 'has_html_content',0),\n",
    "                    'has_javascript': tryGetKeyValue(mail_dict, 'has_javascript',0),\n",
    "                    'has_inline_img': tryGetKeyValue(mail_dict, 'has_inline_img',0),\n",
    "                    'TAP-Score': tryGetKeyValue(mail_dict, 'X-USANET-TAP-Score',-1),\n",
    "                    #'links': tryGetKeyValue(mail_dict, 'links'),\n",
    "                    'num_link': tryGetKeyValue(mail_dict, 'num_link',0),\n",
    "                    'num_uniq_link': tryGetKeyValue(mail_dict, 'num_uniq_link',0),\n",
    "                    'has_repeat_link': tryGetKeyValue(mail_dict, 'has_repeat_link',0),\n",
    "                    #'masq_link': tryGetKeyValue(mail_dict, 'masq_link'),\n",
    "                    'has_masq_link': tryGetKeyValue(mail_dict, 'has_masq_link',0),\n",
    "                    'num_masq_link': tryGetKeyValue(mail_dict, 'num_masq_link',0),\n",
    "                    #'masq_link_tld': tryGetKeyValue(mail_dict, 'masq_link_tld'),\n",
    "                    'is_multipart': tryGetKeyValue(mail_dict, 'is_mulitpart', 0),\n",
    "                    'has_defects': mail_dict['has_defects'],\n",
    "                    'num_email_link': tryGetKeyValue(mail_dict, 'num_email_link',0),\n",
    "                    'has_unsubscribe_link': tryGetKeyValue(mail_dict, 'has_unsubscribe_link', 0),\n",
    "                }, \n",
    "                ignore_index=True\n",
    "            )"
   ]
  },
  {
   "cell_type": "code",
   "execution_count": 10,
   "metadata": {},
   "outputs": [
    {
     "name": "stdout",
     "output_type": "stream",
     "text": [
      "<class 'pandas.core.frame.DataFrame'>\n",
      "RangeIndex: 884 entries, 0 to 883\n",
      "Data columns (total 34 columns):\n",
      "Content-type              871 non-null object\n",
      "DKIM                      884 non-null object\n",
      "DMARC                     884 non-null object\n",
      "DOTW                      884 non-null object\n",
      "HOTD                      884 non-null object\n",
      "SPF                       884 non-null object\n",
      "TAP-Score                 884 non-null object\n",
      "body_len                  884 non-null float64\n",
      "from_tld                  884 non-null object\n",
      "has_attachments           884 non-null float64\n",
      "has_defects               884 non-null float64\n",
      "has_email                 884 non-null float64\n",
      "has_html_content          884 non-null float64\n",
      "has_inline_img            884 non-null float64\n",
      "has_javascript            884 non-null float64\n",
      "has_masq_link             884 non-null float64\n",
      "has_repeat_link           884 non-null float64\n",
      "has_unsubscribe_link      884 non-null float64\n",
      "has_url                   884 non-null float64\n",
      "is_multipart              884 non-null float64\n",
      "num_attachments           884 non-null float64\n",
      "num_email_addr            884 non-null float64\n",
      "num_email_link            884 non-null float64\n",
      "num_link                  884 non-null float64\n",
      "num_masq_link             884 non-null float64\n",
      "num_uniq_email            884 non-null float64\n",
      "num_uniq_link             884 non-null float64\n",
      "num_uniq_url              884 non-null float64\n",
      "num_url                   884 non-null float64\n",
      "num_url_repeats           884 non-null float64\n",
      "return_path_match_from    884 non-null float64\n",
      "subject_len               884 non-null float64\n",
      "target                    884 non-null object\n",
      "text                      884 non-null object\n",
      "dtypes: float64(24), object(10)\n",
      "memory usage: 234.9+ KB\n"
     ]
    }
   ],
   "source": [
    "df.info()"
   ]
  },
  {
   "cell_type": "markdown",
   "metadata": {},
   "source": [
    "Create a function to clean the text"
   ]
  },
  {
   "cell_type": "code",
   "execution_count": 11,
   "metadata": {},
   "outputs": [],
   "source": [
    "def clean_text(\n",
    "    docs, \n",
    "    remove_urls=True,\n",
    "    remove_emails=True,\n",
    "    lemmatize=True,\n",
    "    remove_stopwords=True, \n",
    "    custom_stopwords=None,\n",
    "#     term_min_len=0,\n",
    "):\n",
    "    #only use parts of spaCy needed\n",
    "    nlp = spacy.load('en', disable=['parser','ner','textcat'])\n",
    "    #remove urls\n",
    "    if remove_urls:\n",
    "        print('remove URLS')\n",
    "        docs = [\n",
    "            re.sub('(?i)(?:www|https?)(?:://)?[^\\s]+','',text)\n",
    "            for text in docs\n",
    "        ]\n",
    "    #remove emails\n",
    "    if remove_emails:\n",
    "        print('remove email addresses')\n",
    "        docs = [\n",
    "            re.sub('(?i)[\\w.]+@[\\w.]+\\.[\\w.]{2,5}','',text)\n",
    "            for text in docs\n",
    "        ]\n",
    "    #remove punct and digits\n",
    "    print('removing punctuation and digits and change to lowercase')\n",
    "    table = str.maketrans({key: None for key in string.punctuation + string.digits})\n",
    "    clean_docs = [\n",
    "#         str(d).lower().translate(table).replace('\\n',' ')\n",
    "        str(d).lower().translate(table)\n",
    "        for d in docs\n",
    "    ]\n",
    "        \n",
    "    #tokenize in spacy\n",
    "    if lemmatize:\n",
    "        print('spacy tokenization')\n",
    "        nlp_docs = [nlp(d) for d in clean_docs]\n",
    "        #lemmatization, words like I get changed into -PRON- so leave them alone\n",
    "        if remove_stopwords:\n",
    "            print('lemmatization and remove stopwords')\n",
    "    #         stopwords_nltk = sorted(nltk.corpus.stopwords.words('english'))\n",
    "            if custom_stopwords:\n",
    "                custom_stopwords = set(custom_stopwords)\n",
    "            else:\n",
    "                custom_stopwords = []\n",
    "            lemmatized_docs = [\n",
    "                [\n",
    "                    w.lemma_ \n",
    "                    for w in d\n",
    "                    if (w.lemma_ != '-PRON-' and not w.is_stop and w.lemma_ not in custom_stopwords) \n",
    "                ]\n",
    "                for d in nlp_docs\n",
    "            ]\n",
    "        else:\n",
    "            print('lemmatization')\n",
    "            lemmatized_docs = [\n",
    "            [\n",
    "                w.lemma_\n",
    "                if w.lemma_ != '-PRON-'\n",
    "                else w.lower_\n",
    "                for w in d\n",
    "                #if (w.lemma_ != '-PRON-' and len(w.lemma_)>term_min_len)\n",
    "            ]\n",
    "            for d in nlp_docs\n",
    "        ]\n",
    "    if lemmatized_docs:\n",
    "        clean_docs = lemmatized_docs\n",
    "    \n",
    "    # join tokens back into doc\n",
    "    clean_docs = [\n",
    "        ' '.join(l) \n",
    "        for l in clean_docs\n",
    "    ]\n",
    "\n",
    "    return clean_docs"
   ]
  },
  {
   "cell_type": "markdown",
   "metadata": {},
   "source": [
    "Clean the text and add to the dataframe"
   ]
  },
  {
   "cell_type": "code",
   "execution_count": 12,
   "metadata": {},
   "outputs": [
    {
     "name": "stdout",
     "output_type": "stream",
     "text": [
      "remove URLS\n",
      "remove email addresses\n",
      "removing punctuation and digits and change to lowercase\n",
      "spacy tokenization\n",
      "lemmatization and remove stopwords\n",
      "done in 11.569s\n"
     ]
    }
   ],
   "source": [
    "from time import time\n",
    "t0 = time()\n",
    "corpus = clean_text(\n",
    "    df['text'], \n",
    ")\n",
    "print(\"done in %0.3fs\" % (time() - t0))"
   ]
  },
  {
   "cell_type": "code",
   "execution_count": 13,
   "metadata": {},
   "outputs": [],
   "source": [
    "df['cleaned_text'] = pd.Series(corpus).values"
   ]
  },
  {
   "cell_type": "markdown",
   "metadata": {},
   "source": [
    "Convert cells that are not recognized as a number or just to get rid of float"
   ]
  },
  {
   "cell_type": "code",
   "execution_count": 14,
   "metadata": {},
   "outputs": [],
   "source": [
    "#https://stackoverflow.com/a/28910914\n",
    "for col in [\n",
    "    'body_len',\n",
    "    'has_attachments',\n",
    "    'has_defects',\n",
    "    'has_email',\n",
    "    'has_html_content',\n",
    "    'has_inline_img',\n",
    "    'has_javascript',\n",
    "    'has_masq_link',\n",
    "    'has_repeat_link',\n",
    "    'has_unsubscribe_link',\n",
    "    'has_url',\n",
    "    'is_multipart',\n",
    "    'num_attachments',\n",
    "    'num_email_addr',\n",
    "    'num_email_link',\n",
    "    'num_link',\n",
    "    'num_masq_link',\n",
    "    'num_uniq_email',\n",
    "    'num_uniq_link',\n",
    "    'num_uniq_url',\n",
    "    'num_url',\n",
    "    'num_url_repeats',\n",
    "    'return_path_match_from',\n",
    "    'subject_len',\n",
    "    #'TAP-Score',\n",
    "]:\n",
    "    df[col] = df[col].astype(int)\n",
    "    "
   ]
  },
  {
   "cell_type": "code",
   "execution_count": 15,
   "metadata": {},
   "outputs": [
    {
     "name": "stdout",
     "output_type": "stream",
     "text": [
      "<class 'pandas.core.frame.DataFrame'>\n",
      "RangeIndex: 884 entries, 0 to 883\n",
      "Data columns (total 35 columns):\n",
      "Content-type              871 non-null object\n",
      "DKIM                      884 non-null object\n",
      "DMARC                     884 non-null object\n",
      "DOTW                      884 non-null object\n",
      "HOTD                      884 non-null object\n",
      "SPF                       884 non-null object\n",
      "TAP-Score                 884 non-null object\n",
      "body_len                  884 non-null int64\n",
      "from_tld                  884 non-null object\n",
      "has_attachments           884 non-null int64\n",
      "has_defects               884 non-null int64\n",
      "has_email                 884 non-null int64\n",
      "has_html_content          884 non-null int64\n",
      "has_inline_img            884 non-null int64\n",
      "has_javascript            884 non-null int64\n",
      "has_masq_link             884 non-null int64\n",
      "has_repeat_link           884 non-null int64\n",
      "has_unsubscribe_link      884 non-null int64\n",
      "has_url                   884 non-null int64\n",
      "is_multipart              884 non-null int64\n",
      "num_attachments           884 non-null int64\n",
      "num_email_addr            884 non-null int64\n",
      "num_email_link            884 non-null int64\n",
      "num_link                  884 non-null int64\n",
      "num_masq_link             884 non-null int64\n",
      "num_uniq_email            884 non-null int64\n",
      "num_uniq_link             884 non-null int64\n",
      "num_uniq_url              884 non-null int64\n",
      "num_url                   884 non-null int64\n",
      "num_url_repeats           884 non-null int64\n",
      "return_path_match_from    884 non-null int64\n",
      "subject_len               884 non-null int64\n",
      "target                    884 non-null object\n",
      "text                      884 non-null object\n",
      "cleaned_text              884 non-null object\n",
      "dtypes: int64(24), object(11)\n",
      "memory usage: 241.8+ KB\n"
     ]
    }
   ],
   "source": [
    "df.info()"
   ]
  },
  {
   "cell_type": "markdown",
   "metadata": {},
   "source": [
    "Break the continous data into ranges for binary conversion"
   ]
  },
  {
   "cell_type": "code",
   "execution_count": 16,
   "metadata": {},
   "outputs": [],
   "source": [
    "#https://stackoverflow.com/a/40548606\n",
    "df['body_len'] = pd.qcut(df['body_len'],20,duplicates='drop')\n",
    "df['subject_len'] = pd.qcut(df['subject_len'],10,duplicates='drop')\n",
    "df['num_attachments'] = pd.cut(df['num_attachments'],5)\n",
    "df['num_email_addr'] = pd.cut(df['num_email_addr'],5)\n",
    "df['num_email_link'] = pd.cut(df['num_email_link'],5)\n",
    "df['num_link'] = pd.qcut(df['num_link'],10,duplicates='drop')\n",
    "df['num_masq_link'] = pd.cut(df['num_masq_link'],3)\n",
    "df['num_uniq_email'] = pd.qcut(df['num_uniq_email'],10,duplicates='drop')\n",
    "df['num_uniq_url'] = pd.qcut(df['num_uniq_url'],10,duplicates='drop')\n",
    "df['num_url'] = pd.qcut(df['num_url'],10,duplicates='drop')\n",
    "df['num_url_repeats'] = pd.qcut(df['num_url_repeats'],10,duplicates='drop')"
   ]
  },
  {
   "cell_type": "markdown",
   "metadata": {},
   "source": [
    "Change the continuous and categorical data into one-hot encoding (binary data)"
   ]
  },
  {
   "cell_type": "code",
   "execution_count": 17,
   "metadata": {},
   "outputs": [],
   "source": [
    "categorical_cols = [\n",
    "    'DKIM',\n",
    "    'DMARC',\n",
    "    'SPF',\n",
    "    'from_tld',\n",
    "    'Content-type',\n",
    "    'DOTW',\n",
    "    'HOTD',\n",
    "    'TAP-Score',\n",
    "    'body_len',\n",
    "    'subject_len',\n",
    "    'num_attachments',\n",
    "    'num_email_addr',\n",
    "    'num_email_link',\n",
    "    'num_link',\n",
    "    'num_masq_link',\n",
    "    'num_uniq_email',\n",
    "    'num_uniq_url',\n",
    "    'num_url',\n",
    "    'num_url_repeats',\n",
    "]"
   ]
  },
  {
   "cell_type": "code",
   "execution_count": 18,
   "metadata": {},
   "outputs": [],
   "source": [
    "df_categorical = pd.get_dummies(df[categorical_cols])"
   ]
  },
  {
   "cell_type": "code",
   "execution_count": 19,
   "metadata": {},
   "outputs": [],
   "source": [
    "df.drop(categorical_cols, axis=1, inplace=True)"
   ]
  },
  {
   "cell_type": "code",
   "execution_count": 20,
   "metadata": {},
   "outputs": [],
   "source": [
    "df = pd.concat([df,df_categorical], axis=1)"
   ]
  },
  {
   "cell_type": "code",
   "execution_count": 21,
   "metadata": {},
   "outputs": [],
   "source": [
    "pd.set_option('display.max_colwidth', 40)"
   ]
  },
  {
   "cell_type": "code",
   "execution_count": 22,
   "metadata": {
    "scrolled": true
   },
   "outputs": [
    {
     "data": {
      "text/html": [
       "<div>\n",
       "<style scoped>\n",
       "    .dataframe tbody tr th:only-of-type {\n",
       "        vertical-align: middle;\n",
       "    }\n",
       "\n",
       "    .dataframe tbody tr th {\n",
       "        vertical-align: top;\n",
       "    }\n",
       "\n",
       "    .dataframe thead th {\n",
       "        text-align: right;\n",
       "    }\n",
       "</style>\n",
       "<table border=\"1\" class=\"dataframe\">\n",
       "  <thead>\n",
       "    <tr style=\"text-align: right;\">\n",
       "      <th></th>\n",
       "      <th>has_attachments</th>\n",
       "      <th>has_defects</th>\n",
       "      <th>has_email</th>\n",
       "      <th>has_html_content</th>\n",
       "      <th>has_inline_img</th>\n",
       "      <th>has_javascript</th>\n",
       "      <th>has_masq_link</th>\n",
       "      <th>has_repeat_link</th>\n",
       "      <th>has_unsubscribe_link</th>\n",
       "      <th>has_url</th>\n",
       "      <th>...</th>\n",
       "      <th>num_url_(1.0, 2.0]</th>\n",
       "      <th>num_url_(2.0, 3.0]</th>\n",
       "      <th>num_url_(3.0, 5.0]</th>\n",
       "      <th>num_url_(5.0, 7.0]</th>\n",
       "      <th>num_url_(7.0, 11.0]</th>\n",
       "      <th>num_url_(11.0, 19.7]</th>\n",
       "      <th>num_url_(19.7, 341.0]</th>\n",
       "      <th>num_url_repeats_(-0.001, 1.0]</th>\n",
       "      <th>num_url_repeats_(1.0, 3.0]</th>\n",
       "      <th>num_url_repeats_(3.0, 172.0]</th>\n",
       "    </tr>\n",
       "  </thead>\n",
       "  <tbody>\n",
       "    <tr>\n",
       "      <th>0</th>\n",
       "      <td>1</td>\n",
       "      <td>0</td>\n",
       "      <td>1</td>\n",
       "      <td>0</td>\n",
       "      <td>0</td>\n",
       "      <td>0</td>\n",
       "      <td>0</td>\n",
       "      <td>0</td>\n",
       "      <td>0</td>\n",
       "      <td>1</td>\n",
       "      <td>...</td>\n",
       "      <td>0</td>\n",
       "      <td>0</td>\n",
       "      <td>0</td>\n",
       "      <td>0</td>\n",
       "      <td>1</td>\n",
       "      <td>0</td>\n",
       "      <td>0</td>\n",
       "      <td>1</td>\n",
       "      <td>0</td>\n",
       "      <td>0</td>\n",
       "    </tr>\n",
       "    <tr>\n",
       "      <th>1</th>\n",
       "      <td>0</td>\n",
       "      <td>0</td>\n",
       "      <td>0</td>\n",
       "      <td>1</td>\n",
       "      <td>0</td>\n",
       "      <td>0</td>\n",
       "      <td>0</td>\n",
       "      <td>0</td>\n",
       "      <td>0</td>\n",
       "      <td>1</td>\n",
       "      <td>...</td>\n",
       "      <td>1</td>\n",
       "      <td>0</td>\n",
       "      <td>0</td>\n",
       "      <td>0</td>\n",
       "      <td>0</td>\n",
       "      <td>0</td>\n",
       "      <td>0</td>\n",
       "      <td>1</td>\n",
       "      <td>0</td>\n",
       "      <td>0</td>\n",
       "    </tr>\n",
       "    <tr>\n",
       "      <th>2</th>\n",
       "      <td>0</td>\n",
       "      <td>0</td>\n",
       "      <td>0</td>\n",
       "      <td>1</td>\n",
       "      <td>0</td>\n",
       "      <td>0</td>\n",
       "      <td>1</td>\n",
       "      <td>0</td>\n",
       "      <td>0</td>\n",
       "      <td>1</td>\n",
       "      <td>...</td>\n",
       "      <td>1</td>\n",
       "      <td>0</td>\n",
       "      <td>0</td>\n",
       "      <td>0</td>\n",
       "      <td>0</td>\n",
       "      <td>0</td>\n",
       "      <td>0</td>\n",
       "      <td>1</td>\n",
       "      <td>0</td>\n",
       "      <td>0</td>\n",
       "    </tr>\n",
       "    <tr>\n",
       "      <th>3</th>\n",
       "      <td>0</td>\n",
       "      <td>0</td>\n",
       "      <td>0</td>\n",
       "      <td>0</td>\n",
       "      <td>0</td>\n",
       "      <td>0</td>\n",
       "      <td>0</td>\n",
       "      <td>0</td>\n",
       "      <td>0</td>\n",
       "      <td>1</td>\n",
       "      <td>...</td>\n",
       "      <td>0</td>\n",
       "      <td>0</td>\n",
       "      <td>0</td>\n",
       "      <td>0</td>\n",
       "      <td>0</td>\n",
       "      <td>0</td>\n",
       "      <td>0</td>\n",
       "      <td>1</td>\n",
       "      <td>0</td>\n",
       "      <td>0</td>\n",
       "    </tr>\n",
       "    <tr>\n",
       "      <th>4</th>\n",
       "      <td>0</td>\n",
       "      <td>0</td>\n",
       "      <td>0</td>\n",
       "      <td>0</td>\n",
       "      <td>0</td>\n",
       "      <td>0</td>\n",
       "      <td>0</td>\n",
       "      <td>0</td>\n",
       "      <td>0</td>\n",
       "      <td>1</td>\n",
       "      <td>...</td>\n",
       "      <td>0</td>\n",
       "      <td>0</td>\n",
       "      <td>0</td>\n",
       "      <td>0</td>\n",
       "      <td>0</td>\n",
       "      <td>0</td>\n",
       "      <td>0</td>\n",
       "      <td>1</td>\n",
       "      <td>0</td>\n",
       "      <td>0</td>\n",
       "    </tr>\n",
       "  </tbody>\n",
       "</table>\n",
       "<p>5 rows × 205 columns</p>\n",
       "</div>"
      ],
      "text/plain": [
       "   has_attachments  has_defects  has_email  has_html_content  has_inline_img  \\\n",
       "0                1            0          1                 0               0   \n",
       "1                0            0          0                 1               0   \n",
       "2                0            0          0                 1               0   \n",
       "3                0            0          0                 0               0   \n",
       "4                0            0          0                 0               0   \n",
       "\n",
       "   has_javascript  has_masq_link  has_repeat_link  has_unsubscribe_link  \\\n",
       "0               0              0                0                     0   \n",
       "1               0              0                0                     0   \n",
       "2               0              1                0                     0   \n",
       "3               0              0                0                     0   \n",
       "4               0              0                0                     0   \n",
       "\n",
       "   has_url              ...               num_url_(1.0, 2.0]  \\\n",
       "0        1              ...                                0   \n",
       "1        1              ...                                1   \n",
       "2        1              ...                                1   \n",
       "3        1              ...                                0   \n",
       "4        1              ...                                0   \n",
       "\n",
       "   num_url_(2.0, 3.0]  num_url_(3.0, 5.0] num_url_(5.0, 7.0]  \\\n",
       "0                   0                   0                  0   \n",
       "1                   0                   0                  0   \n",
       "2                   0                   0                  0   \n",
       "3                   0                   0                  0   \n",
       "4                   0                   0                  0   \n",
       "\n",
       "  num_url_(7.0, 11.0] num_url_(11.0, 19.7]  num_url_(19.7, 341.0]  \\\n",
       "0                   1                    0                      0   \n",
       "1                   0                    0                      0   \n",
       "2                   0                    0                      0   \n",
       "3                   0                    0                      0   \n",
       "4                   0                    0                      0   \n",
       "\n",
       "   num_url_repeats_(-0.001, 1.0]  num_url_repeats_(1.0, 3.0]  \\\n",
       "0                              1                           0   \n",
       "1                              1                           0   \n",
       "2                              1                           0   \n",
       "3                              1                           0   \n",
       "4                              1                           0   \n",
       "\n",
       "   num_url_repeats_(3.0, 172.0]  \n",
       "0                             0  \n",
       "1                             0  \n",
       "2                             0  \n",
       "3                             0  \n",
       "4                             0  \n",
       "\n",
       "[5 rows x 205 columns]"
      ]
     },
     "execution_count": 22,
     "metadata": {},
     "output_type": "execute_result"
    }
   ],
   "source": [
    "df.head()"
   ]
  },
  {
   "cell_type": "code",
   "execution_count": 23,
   "metadata": {
    "scrolled": true
   },
   "outputs": [
    {
     "name": "stdout",
     "output_type": "stream",
     "text": [
      "has_attachments\n",
      "has_defects\n",
      "has_email\n",
      "has_html_content\n",
      "has_inline_img\n",
      "has_javascript\n",
      "has_masq_link\n",
      "has_repeat_link\n",
      "has_unsubscribe_link\n",
      "has_url\n",
      "is_multipart\n",
      "num_uniq_link\n",
      "return_path_match_from\n",
      "target\n",
      "text\n",
      "cleaned_text\n",
      "DKIM_\n",
      "DKIM_FAIL\n",
      "DKIM_NONE\n",
      "DKIM_PASS\n",
      "DMARC_\n",
      "DMARC_absent\n",
      "DMARC_none\n",
      "DMARC_pass\n",
      "DMARC_quarantine\n",
      "DMARC_reject\n",
      "SPF_\n",
      "SPF_ERROR\n",
      "SPF_NEUTRAL\n",
      "SPF_NONE\n",
      "SPF_PASS\n",
      "SPF_SOFTFAIL\n",
      "from_tld_\n",
      "from_tld_ac.uk\n",
      "from_tld_bg\n",
      "from_tld_bid\n",
      "from_tld_biz\n",
      "from_tld_ca\n",
      "from_tld_ch\n",
      "from_tld_co\n",
      "from_tld_co.jp\n",
      "from_tld_co.uk\n",
      "from_tld_co.za\n",
      "from_tld_com\n",
      "from_tld_com.ar\n",
      "from_tld_com.br\n",
      "from_tld_com.do\n",
      "from_tld_com.ec\n",
      "from_tld_com.mx\n",
      "from_tld_com.my\n",
      "from_tld_com.pk\n",
      "from_tld_de\n",
      "from_tld_edu\n",
      "from_tld_email\n",
      "from_tld_es\n",
      "from_tld_eu\n",
      "from_tld_fi\n",
      "from_tld_fr\n",
      "from_tld_gob.cl\n",
      "from_tld_gob.ec\n",
      "from_tld_gov\n",
      "from_tld_gr\n",
      "from_tld_guru\n",
      "from_tld_hu\n",
      "from_tld_ie\n",
      "from_tld_info\n",
      "from_tld_io\n",
      "from_tld_it\n",
      "from_tld_k12.in.us\n",
      "from_tld_k12.wi.us\n",
      "from_tld_mx\n",
      "from_tld_ne.jp\n",
      "from_tld_net\n",
      "from_tld_net.pl\n",
      "from_tld_net.tw\n",
      "from_tld_org\n",
      "from_tld_org.br\n",
      "from_tld_ph\n",
      "from_tld_pl\n",
      "from_tld_ro\n",
      "from_tld_ru\n",
      "from_tld_se\n",
      "from_tld_sk\n",
      "from_tld_travel\n",
      "from_tld_tv\n",
      "from_tld_uk\n",
      "from_tld_us\n",
      "Content-type_Multipart/alternative\n",
      "Content-type_Multipart/mixed\n",
      "Content-type_Multipart/related\n",
      "Content-type_text/plain\n",
      "DOTW_\n",
      "DOTW_0\n",
      "DOTW_1\n",
      "DOTW_2\n",
      "DOTW_3\n",
      "DOTW_4\n",
      "DOTW_5\n",
      "DOTW_6\n",
      "HOTD_\n",
      "HOTD_00\n",
      "HOTD_01\n",
      "HOTD_02\n",
      "HOTD_03\n",
      "HOTD_04\n",
      "HOTD_05\n",
      "HOTD_06\n",
      "HOTD_07\n",
      "HOTD_08\n",
      "HOTD_09\n",
      "HOTD_10\n",
      "HOTD_11\n",
      "HOTD_12\n",
      "HOTD_13\n",
      "HOTD_14\n",
      "HOTD_15\n",
      "HOTD_16\n",
      "HOTD_17\n",
      "HOTD_18\n",
      "HOTD_19\n",
      "HOTD_20\n",
      "HOTD_21\n",
      "HOTD_22\n",
      "HOTD_23\n",
      "TAP-Score_-1\n",
      "TAP-Score_0\n",
      "TAP-Score_1\n",
      "TAP-Score_2\n",
      "TAP-Score_3\n",
      "body_len_(8.999, 120.15]\n",
      "body_len_(120.15, 173.3]\n",
      "body_len_(173.3, 216.0]\n",
      "body_len_(216.0, 250.6]\n",
      "body_len_(250.6, 299.0]\n",
      "body_len_(299.0, 387.8]\n",
      "body_len_(387.8, 498.0]\n",
      "body_len_(498.0, 618.6]\n",
      "body_len_(618.6, 916.0]\n",
      "body_len_(916.0, 1154.5]\n",
      "body_len_(1154.5, 1360.95]\n",
      "body_len_(1360.95, 1557.6]\n",
      "body_len_(1557.6, 1853.7]\n",
      "body_len_(1853.7, 2161.5]\n",
      "body_len_(2161.5, 2570.25]\n",
      "body_len_(2570.25, 3271.6]\n",
      "body_len_(3271.6, 4182.85]\n",
      "body_len_(4182.85, 5969.0]\n",
      "body_len_(5969.0, 8775.45]\n",
      "body_len_(8775.45, 276506.0]\n",
      "subject_len_(-0.001, 13.0]\n",
      "subject_len_(13.0, 20.0]\n",
      "subject_len_(20.0, 25.0]\n",
      "subject_len_(25.0, 31.0]\n",
      "subject_len_(31.0, 36.0]\n",
      "subject_len_(36.0, 41.0]\n",
      "subject_len_(41.0, 47.0]\n",
      "subject_len_(47.0, 55.0]\n",
      "subject_len_(55.0, 63.0]\n",
      "subject_len_(63.0, 246.0]\n",
      "num_attachments_(-0.015, 3.0]\n",
      "num_attachments_(3.0, 6.0]\n",
      "num_attachments_(6.0, 9.0]\n",
      "num_attachments_(9.0, 12.0]\n",
      "num_attachments_(12.0, 15.0]\n",
      "num_email_addr_(-0.193, 38.6]\n",
      "num_email_addr_(38.6, 77.2]\n",
      "num_email_addr_(77.2, 115.8]\n",
      "num_email_addr_(115.8, 154.4]\n",
      "num_email_addr_(154.4, 193.0]\n",
      "num_email_link_(-0.103, 20.6]\n",
      "num_email_link_(20.6, 41.2]\n",
      "num_email_link_(41.2, 61.8]\n",
      "num_email_link_(61.8, 82.4]\n",
      "num_email_link_(82.4, 103.0]\n",
      "num_link_(-0.001, 1.0]\n",
      "num_link_(1.0, 2.0]\n",
      "num_link_(2.0, 4.0]\n",
      "num_link_(4.0, 6.0]\n",
      "num_link_(6.0, 9.0]\n",
      "num_link_(9.0, 15.0]\n",
      "num_link_(15.0, 339.0]\n",
      "num_masq_link_(-0.004, 1.333]\n",
      "num_masq_link_(1.333, 2.667]\n",
      "num_masq_link_(2.667, 4.0]\n",
      "num_uniq_email_(-0.001, 1.0]\n",
      "num_uniq_email_(1.0, 2.0]\n",
      "num_uniq_email_(2.0, 94.0]\n",
      "num_uniq_url_(-0.001, 1.0]\n",
      "num_uniq_url_(1.0, 2.0]\n",
      "num_uniq_url_(2.0, 4.0]\n",
      "num_uniq_url_(4.0, 6.0]\n",
      "num_uniq_url_(6.0, 10.0]\n",
      "num_uniq_url_(10.0, 16.0]\n",
      "num_uniq_url_(16.0, 341.0]\n",
      "num_url_(-0.001, 1.0]\n",
      "num_url_(1.0, 2.0]\n",
      "num_url_(2.0, 3.0]\n",
      "num_url_(3.0, 5.0]\n",
      "num_url_(5.0, 7.0]\n",
      "num_url_(7.0, 11.0]\n",
      "num_url_(11.0, 19.7]\n",
      "num_url_(19.7, 341.0]\n",
      "num_url_repeats_(-0.001, 1.0]\n",
      "num_url_repeats_(1.0, 3.0]\n",
      "num_url_repeats_(3.0, 172.0]\n"
     ]
    }
   ],
   "source": [
    "for i in df.columns:\n",
    "    print(i)"
   ]
  },
  {
   "cell_type": "markdown",
   "metadata": {},
   "source": [
    "Split the sample set into test and training sets"
   ]
  },
  {
   "cell_type": "code",
   "execution_count": 24,
   "metadata": {},
   "outputs": [],
   "source": [
    "df_target = df['target']\n",
    "df_feats = df.drop(['target','text'],axis=1)\n",
    "train_feats, test_feats, train_labels, test_labels = train_test_split(\n",
    "    df_feats, \n",
    "    df_target, \n",
    "    test_size=0.20, \n",
    "    random_state=7350,\n",
    "    stratify=df_target\n",
    ")"
   ]
  },
  {
   "cell_type": "code",
   "execution_count": 25,
   "metadata": {},
   "outputs": [
    {
     "data": {
      "text/plain": [
       "(707, 203)"
      ]
     },
     "execution_count": 25,
     "metadata": {},
     "output_type": "execute_result"
    }
   ],
   "source": [
    "train_feats.shape"
   ]
  },
  {
   "cell_type": "code",
   "execution_count": 26,
   "metadata": {},
   "outputs": [
    {
     "data": {
      "text/plain": [
       "(177, 203)"
      ]
     },
     "execution_count": 26,
     "metadata": {},
     "output_type": "execute_result"
    }
   ],
   "source": [
    "test_feats.shape"
   ]
  },
  {
   "cell_type": "code",
   "execution_count": 27,
   "metadata": {},
   "outputs": [
    {
     "data": {
      "text/plain": [
       "ignore         400\n",
       "investigate    307\n",
       "Name: target, dtype: int64"
      ]
     },
     "execution_count": 27,
     "metadata": {},
     "output_type": "execute_result"
    }
   ],
   "source": [
    "train_labels.value_counts()"
   ]
  },
  {
   "cell_type": "code",
   "execution_count": 28,
   "metadata": {},
   "outputs": [
    {
     "data": {
      "text/plain": [
       "ignore         100\n",
       "investigate     77\n",
       "Name: target, dtype: int64"
      ]
     },
     "execution_count": 28,
     "metadata": {},
     "output_type": "execute_result"
    }
   ],
   "source": [
    "test_labels.value_counts()"
   ]
  },
  {
   "cell_type": "markdown",
   "metadata": {},
   "source": [
    "#### TFIDF Creation"
   ]
  },
  {
   "cell_type": "code",
   "execution_count": 29,
   "metadata": {},
   "outputs": [
    {
     "name": "stdout",
     "output_type": "stream",
     "text": [
      "done in 0.719s\n"
     ]
    }
   ],
   "source": [
    "from sklearn.feature_extraction.text import TfidfVectorizer\n",
    "t0 = time()\n",
    "vectorizer = TfidfVectorizer(\n",
    "    ngram_range=(1,3),\n",
    "    #max_df=0.9, \n",
    "    min_df=2,\n",
    "    use_idf=False,\n",
    "    binary=True,\n",
    ")\n",
    "train_feats_text = vectorizer.fit_transform(train_feats['cleaned_text'].values.tolist())\n",
    "test_feats_text = vectorizer.transform(test_feats['cleaned_text'].values.tolist()) \n",
    "print(\"done in %0.3fs\" % (time() - t0))"
   ]
  },
  {
   "cell_type": "code",
   "execution_count": 30,
   "metadata": {},
   "outputs": [
    {
     "data": {
      "text/plain": [
       "(707, 10648)"
      ]
     },
     "execution_count": 30,
     "metadata": {},
     "output_type": "execute_result"
    }
   ],
   "source": [
    "train_feats_text.shape"
   ]
  },
  {
   "cell_type": "code",
   "execution_count": 31,
   "metadata": {},
   "outputs": [
    {
     "data": {
      "text/plain": [
       "(177, 10648)"
      ]
     },
     "execution_count": 31,
     "metadata": {},
     "output_type": "execute_result"
    }
   ],
   "source": [
    "test_feats_text.shape"
   ]
  },
  {
   "cell_type": "markdown",
   "metadata": {},
   "source": [
    "Change TFIDF back to a dataframe so it can be combined with other features"
   ]
  },
  {
   "cell_type": "code",
   "execution_count": 32,
   "metadata": {},
   "outputs": [],
   "source": [
    "#https://stackoverflow.com/a/50624143\n",
    "train_feats_text_df = pd.DataFrame(train_feats_text.toarray(), columns=vectorizer.get_feature_names())"
   ]
  },
  {
   "cell_type": "code",
   "execution_count": 33,
   "metadata": {},
   "outputs": [
    {
     "data": {
      "text/html": [
       "<div>\n",
       "<style scoped>\n",
       "    .dataframe tbody tr th:only-of-type {\n",
       "        vertical-align: middle;\n",
       "    }\n",
       "\n",
       "    .dataframe tbody tr th {\n",
       "        vertical-align: top;\n",
       "    }\n",
       "\n",
       "    .dataframe thead th {\n",
       "        text-align: right;\n",
       "    }\n",
       "</style>\n",
       "<table border=\"1\" class=\"dataframe\">\n",
       "  <thead>\n",
       "    <tr style=\"text-align: right;\">\n",
       "      <th></th>\n",
       "      <th>aaa</th>\n",
       "      <th>ab</th>\n",
       "      <th>abbuchung</th>\n",
       "      <th>abend</th>\n",
       "      <th>ability</th>\n",
       "      <th>able</th>\n",
       "      <th>able access</th>\n",
       "      <th>able hold</th>\n",
       "      <th>able hold phone</th>\n",
       "      <th>able manufacture</th>\n",
       "      <th>...</th>\n",
       "      <th>zailab</th>\n",
       "      <th>zailab platinum</th>\n",
       "      <th>zailab platinum sponsor</th>\n",
       "      <th>zailab register</th>\n",
       "      <th>zip</th>\n",
       "      <th>zip code</th>\n",
       "      <th>zipongo</th>\n",
       "      <th>zoom</th>\n",
       "      <th>zoom discount</th>\n",
       "      <th>zoom discount base</th>\n",
       "    </tr>\n",
       "  </thead>\n",
       "  <tbody>\n",
       "    <tr>\n",
       "      <th>0</th>\n",
       "      <td>0.0</td>\n",
       "      <td>0.0</td>\n",
       "      <td>0.0</td>\n",
       "      <td>0.0</td>\n",
       "      <td>0.0</td>\n",
       "      <td>0.124035</td>\n",
       "      <td>0.0</td>\n",
       "      <td>0.000000</td>\n",
       "      <td>0.000000</td>\n",
       "      <td>0.0</td>\n",
       "      <td>...</td>\n",
       "      <td>0.0</td>\n",
       "      <td>0.0</td>\n",
       "      <td>0.0</td>\n",
       "      <td>0.0</td>\n",
       "      <td>0.0</td>\n",
       "      <td>0.0</td>\n",
       "      <td>0.0</td>\n",
       "      <td>0.0</td>\n",
       "      <td>0.0</td>\n",
       "      <td>0.0</td>\n",
       "    </tr>\n",
       "    <tr>\n",
       "      <th>1</th>\n",
       "      <td>0.0</td>\n",
       "      <td>0.0</td>\n",
       "      <td>0.0</td>\n",
       "      <td>0.0</td>\n",
       "      <td>0.0</td>\n",
       "      <td>0.164399</td>\n",
       "      <td>0.0</td>\n",
       "      <td>0.164399</td>\n",
       "      <td>0.164399</td>\n",
       "      <td>0.0</td>\n",
       "      <td>...</td>\n",
       "      <td>0.0</td>\n",
       "      <td>0.0</td>\n",
       "      <td>0.0</td>\n",
       "      <td>0.0</td>\n",
       "      <td>0.0</td>\n",
       "      <td>0.0</td>\n",
       "      <td>0.0</td>\n",
       "      <td>0.0</td>\n",
       "      <td>0.0</td>\n",
       "      <td>0.0</td>\n",
       "    </tr>\n",
       "    <tr>\n",
       "      <th>2</th>\n",
       "      <td>0.0</td>\n",
       "      <td>0.0</td>\n",
       "      <td>0.0</td>\n",
       "      <td>0.0</td>\n",
       "      <td>0.0</td>\n",
       "      <td>0.000000</td>\n",
       "      <td>0.0</td>\n",
       "      <td>0.000000</td>\n",
       "      <td>0.000000</td>\n",
       "      <td>0.0</td>\n",
       "      <td>...</td>\n",
       "      <td>0.0</td>\n",
       "      <td>0.0</td>\n",
       "      <td>0.0</td>\n",
       "      <td>0.0</td>\n",
       "      <td>0.0</td>\n",
       "      <td>0.0</td>\n",
       "      <td>0.0</td>\n",
       "      <td>0.0</td>\n",
       "      <td>0.0</td>\n",
       "      <td>0.0</td>\n",
       "    </tr>\n",
       "    <tr>\n",
       "      <th>3</th>\n",
       "      <td>0.0</td>\n",
       "      <td>0.0</td>\n",
       "      <td>0.0</td>\n",
       "      <td>0.0</td>\n",
       "      <td>0.0</td>\n",
       "      <td>0.000000</td>\n",
       "      <td>0.0</td>\n",
       "      <td>0.000000</td>\n",
       "      <td>0.000000</td>\n",
       "      <td>0.0</td>\n",
       "      <td>...</td>\n",
       "      <td>0.0</td>\n",
       "      <td>0.0</td>\n",
       "      <td>0.0</td>\n",
       "      <td>0.0</td>\n",
       "      <td>0.0</td>\n",
       "      <td>0.0</td>\n",
       "      <td>0.0</td>\n",
       "      <td>0.0</td>\n",
       "      <td>0.0</td>\n",
       "      <td>0.0</td>\n",
       "    </tr>\n",
       "    <tr>\n",
       "      <th>4</th>\n",
       "      <td>0.0</td>\n",
       "      <td>0.0</td>\n",
       "      <td>0.0</td>\n",
       "      <td>0.0</td>\n",
       "      <td>0.0</td>\n",
       "      <td>0.000000</td>\n",
       "      <td>0.0</td>\n",
       "      <td>0.000000</td>\n",
       "      <td>0.000000</td>\n",
       "      <td>0.0</td>\n",
       "      <td>...</td>\n",
       "      <td>0.0</td>\n",
       "      <td>0.0</td>\n",
       "      <td>0.0</td>\n",
       "      <td>0.0</td>\n",
       "      <td>0.0</td>\n",
       "      <td>0.0</td>\n",
       "      <td>0.0</td>\n",
       "      <td>0.0</td>\n",
       "      <td>0.0</td>\n",
       "      <td>0.0</td>\n",
       "    </tr>\n",
       "  </tbody>\n",
       "</table>\n",
       "<p>5 rows × 10648 columns</p>\n",
       "</div>"
      ],
      "text/plain": [
       "   aaa   ab  abbuchung  abend  ability      able  able access  able hold  \\\n",
       "0  0.0  0.0        0.0    0.0      0.0  0.124035          0.0   0.000000   \n",
       "1  0.0  0.0        0.0    0.0      0.0  0.164399          0.0   0.164399   \n",
       "2  0.0  0.0        0.0    0.0      0.0  0.000000          0.0   0.000000   \n",
       "3  0.0  0.0        0.0    0.0      0.0  0.000000          0.0   0.000000   \n",
       "4  0.0  0.0        0.0    0.0      0.0  0.000000          0.0   0.000000   \n",
       "\n",
       "   able hold phone  able manufacture         ...          zailab  \\\n",
       "0         0.000000               0.0         ...             0.0   \n",
       "1         0.164399               0.0         ...             0.0   \n",
       "2         0.000000               0.0         ...             0.0   \n",
       "3         0.000000               0.0         ...             0.0   \n",
       "4         0.000000               0.0         ...             0.0   \n",
       "\n",
       "   zailab platinum  zailab platinum sponsor  zailab register  zip  zip code  \\\n",
       "0              0.0                      0.0              0.0  0.0       0.0   \n",
       "1              0.0                      0.0              0.0  0.0       0.0   \n",
       "2              0.0                      0.0              0.0  0.0       0.0   \n",
       "3              0.0                      0.0              0.0  0.0       0.0   \n",
       "4              0.0                      0.0              0.0  0.0       0.0   \n",
       "\n",
       "   zipongo  zoom  zoom discount  zoom discount base  \n",
       "0      0.0   0.0            0.0                 0.0  \n",
       "1      0.0   0.0            0.0                 0.0  \n",
       "2      0.0   0.0            0.0                 0.0  \n",
       "3      0.0   0.0            0.0                 0.0  \n",
       "4      0.0   0.0            0.0                 0.0  \n",
       "\n",
       "[5 rows x 10648 columns]"
      ]
     },
     "execution_count": 33,
     "metadata": {},
     "output_type": "execute_result"
    }
   ],
   "source": [
    "train_feats_text_df.head()"
   ]
  },
  {
   "cell_type": "code",
   "execution_count": 34,
   "metadata": {},
   "outputs": [
    {
     "data": {
      "text/plain": [
       "(707, 10850)"
      ]
     },
     "execution_count": 34,
     "metadata": {},
     "output_type": "execute_result"
    }
   ],
   "source": [
    "train_feats = pd.concat([\n",
    "    train_feats.reset_index(drop=True),\n",
    "    train_feats_text_df.reset_index(drop=True)\n",
    "],axis=1)\n",
    "train_feats.drop('cleaned_text',axis=1,inplace=True)\n",
    "train_feats.shape"
   ]
  },
  {
   "cell_type": "markdown",
   "metadata": {},
   "source": [
    "Do the same for the test features"
   ]
  },
  {
   "cell_type": "code",
   "execution_count": 35,
   "metadata": {},
   "outputs": [
    {
     "data": {
      "text/plain": [
       "(177, 10850)"
      ]
     },
     "execution_count": 35,
     "metadata": {},
     "output_type": "execute_result"
    }
   ],
   "source": [
    "test_feats_text_df = pd.DataFrame(test_feats_text.toarray(), columns=vectorizer.get_feature_names())\n",
    "test_feats_text_df = test_feats_text_df.add_prefix('LSA_')\n",
    "test_feats = pd.concat([\n",
    "    test_feats.reset_index(drop=True),\n",
    "    test_feats_text_df.reset_index(drop=True)\n",
    "],axis=1)\n",
    "test_feats.drop('cleaned_text',axis=1,inplace=True)\n",
    "test_feats.shape"
   ]
  },
  {
   "cell_type": "markdown",
   "metadata": {},
   "source": [
    "#### SMOTE"
   ]
  },
  {
   "cell_type": "code",
   "execution_count": 36,
   "metadata": {},
   "outputs": [
    {
     "name": "stdout",
     "output_type": "stream",
     "text": [
      "Before SMOTE\n",
      "(707, 10850)\n",
      "(707,)\n",
      "\n",
      "After SMOTE\n",
      "(800, 10850)\n",
      "(800,)\n"
     ]
    }
   ],
   "source": [
    "print('Before SMOTE')\n",
    "print(train_feats.shape)\n",
    "print(train_labels.shape)\n",
    "sm = SMOTE(random_state=42)\n",
    "train_feats, train_labels = sm.fit_sample(train_feats, train_labels)\n",
    "print('\\nAfter SMOTE')\n",
    "print(train_feats.shape)\n",
    "print(train_labels.shape)"
   ]
  },
  {
   "cell_type": "markdown",
   "metadata": {},
   "source": [
    "Function to keep track of scoring and for printing results out"
   ]
  },
  {
   "cell_type": "code",
   "execution_count": 37,
   "metadata": {},
   "outputs": [],
   "source": [
    "score_dict = {}\n",
    "def scoring(score_dict,train_feats,train_labels,test_feats,test_labels,clf):\n",
    "    if 'accuracy' not in score_dict:\n",
    "        score_dict['accuracy'] = []\n",
    "    if 'f1' not in score_dict:\n",
    "        score_dict['f1'] = []\n",
    "    if 'recall' not in score_dict:\n",
    "        score_dict['recall'] = []    \n",
    "    if 'FN' not in score_dict:\n",
    "        score_dict['FN'] = []\n",
    "    clf_name = re.findall('(^[^\\(]+)\\(',str(clf))[0]\n",
    "    already_seen = clf.score(train_feats, train_labels)\n",
    "    accuracy = clf.score(test_feats, test_labels)\n",
    "    pred = clf.predict(test_feats)\n",
    "    f1 = f1_score(test_labels, pred, pos_label='investigate')\n",
    "    recall = recall_score(test_labels, pred, pos_label='investigate')\n",
    "    cnf_matrix = confusion_matrix(test_labels, pred)\n",
    "    FN = cnf_matrix[1][0]\n",
    "    false_negative = cnf_matrix[1][0]\n",
    "    score_dict['accuracy'].append((clf_name,accuracy))\n",
    "    score_dict['f1'].append((clf_name,f1))\n",
    "    score_dict['recall'].append((clf_name,recall))\n",
    "    score_dict['FN'].append((clf_name,false_negative))\n",
    "    print(clf_name + ' Scores:\\n')\n",
    "    print('Accuracy of data already seen: %0.4f' % already_seen)\n",
    "    print('Accuracy of data not seen: %0.4f' % accuracy)\n",
    "    print('F1 score: %0.4f' % f1)\n",
    "    print('Recall score: %0f' % recall)\n",
    "    print('False Negatives: %0d' % FN)\n",
    "    return score_dict"
   ]
  },
  {
   "cell_type": "markdown",
   "metadata": {},
   "source": [
    "#### SVM"
   ]
  },
  {
   "cell_type": "code",
   "execution_count": 38,
   "metadata": {},
   "outputs": [
    {
     "name": "stdout",
     "output_type": "stream",
     "text": [
      "done in 0.096s\n",
      "LinearSVC Scores:\n",
      "\n",
      "Accuracy of data already seen: 0.9988\n",
      "Accuracy of data not seen: 0.8814\n",
      "F1 score: 0.8609\n",
      "Recall score: 0.844156\n",
      "False Negatives: 12\n"
     ]
    }
   ],
   "source": [
    "from sklearn.svm import LinearSVC \n",
    "t0 = time()\n",
    "svm_clf = LinearSVC(random_state=7350)\n",
    "svm_clf.fit(train_feats, train_labels)\n",
    "print(\"done in %0.3fs\" % (time() - t0))\n",
    "score_dict = scoring(score_dict,train_feats,train_labels,test_feats,test_labels,svm_clf)"
   ]
  },
  {
   "cell_type": "code",
   "execution_count": 39,
   "metadata": {},
   "outputs": [
    {
     "name": "stdout",
     "output_type": "stream",
     "text": [
      "done in 7.867s\n",
      "SVC Scores:\n",
      "\n",
      "Accuracy of data already seen: 0.7475\n",
      "Accuracy of data not seen: 0.6610\n",
      "F1 score: 0.7115\n",
      "Recall score: 0.961039\n",
      "False Negatives: 3\n"
     ]
    }
   ],
   "source": [
    "from sklearn.svm import SVC \n",
    "t0 = time()\n",
    "svmr_clf = SVC(random_state=7350)\n",
    "svmr_clf.fit(train_feats, train_labels)\n",
    "print(\"done in %0.3fs\" % (time() - t0))\n",
    "score_dict = scoring(score_dict,train_feats,train_labels,test_feats,test_labels,svmr_clf)"
   ]
  },
  {
   "cell_type": "markdown",
   "metadata": {},
   "source": [
    "#### Extra Trees Classifier"
   ]
  },
  {
   "cell_type": "code",
   "execution_count": 40,
   "metadata": {},
   "outputs": [
    {
     "name": "stdout",
     "output_type": "stream",
     "text": [
      "done in 1.032s\n",
      "ExtraTreesClassifier Scores:\n",
      "\n",
      "Accuracy of data already seen: 1.0000\n",
      "Accuracy of data not seen: 0.8927\n",
      "F1 score: 0.8790\n",
      "Recall score: 0.896104\n",
      "False Negatives: 8\n"
     ]
    }
   ],
   "source": [
    "from sklearn.ensemble import ExtraTreesClassifier\n",
    "t0 = time()\n",
    "et_clf = ExtraTreesClassifier(n_jobs=-1,n_estimators=100,random_state=7350)\n",
    "et_clf.fit(train_feats, train_labels)\n",
    "print(\"done in %0.3fs\" % (time() - t0))\n",
    "score_dict = scoring(score_dict,train_feats,train_labels,test_feats,test_labels,et_clf)"
   ]
  },
  {
   "cell_type": "markdown",
   "metadata": {},
   "source": [
    "Get Feature Importances"
   ]
  },
  {
   "cell_type": "code",
   "execution_count": 41,
   "metadata": {
    "scrolled": false
   },
   "outputs": [
    {
     "name": "stdout",
     "output_type": "stream",
     "text": [
      "Feature ranking:\n",
      "1. num_uniq_url_(-0.001, 1.0] (0.033729)\n",
      "2. num_link_(-0.001, 1.0] (0.022894)\n",
      "3. return_path_match_from (0.018432)\n",
      "4. num_url_(-0.001, 1.0] (0.018353)\n",
      "5. Content-type_Multipart/alternative (0.015801)\n",
      "6. Content-type_text/plain (0.014968)\n",
      "7. LSA_unsubscribe (0.014448)\n",
      "8. has_unsubscribe_link (0.012562)\n",
      "9. num_url_repeats_(-0.001, 1.0] (0.012325)\n",
      "10. has_html_content (0.011941)\n",
      "11. LSA_invoice (0.010973)\n",
      "12. SPF_PASS (0.009169)\n",
      "13. subject_len_(13.0, 20.0] (0.008034)\n",
      "14. num_url_(11.0, 19.7] (0.006833)\n",
      "15. num_uniq_url_(10.0, 16.0] (0.006381)\n",
      "16. num_uniq_url_(16.0, 341.0] (0.006202)\n",
      "17. num_url_repeats_(3.0, 172.0] (0.005623)\n",
      "18. LSA_like (0.005622)\n",
      "19. num_url_(19.7, 341.0] (0.005534)\n",
      "20. DKIM_PASS (0.005483)\n",
      "21. num_link_(2.0, 4.0] (0.005389)\n",
      "22. from_tld_com (0.005226)\n",
      "23. num_link_(9.0, 15.0] (0.005199)\n",
      "24. LSA_learn (0.004891)\n",
      "25. SPF_NONE (0.004871)\n"
     ]
    }
   ],
   "source": [
    "#http://scikit-learn.org/stable/auto_examples/ensemble/plot_forest_importances.html\n",
    "#https://stackoverflow.com/a/42429989\n",
    "#https://stackoverflow.com/a/25219535\n",
    "importances = et_clf.feature_importances_\n",
    "std = np.std([tree.feature_importances_ for tree in et_clf.estimators_],\n",
    "             axis=0)\n",
    "indices = np.argsort(importances)[::-1]\n",
    "features = test_feats.columns\n",
    "print(\"Feature ranking:\")\n",
    "for f in range(25):\n",
    "    print(\"%d. %s (%f)\" % (f + 1, features[indices[f]], importances[indices[f]]))"
   ]
  },
  {
   "cell_type": "code",
   "execution_count": 42,
   "metadata": {
    "scrolled": false
   },
   "outputs": [
    {
     "data": {
      "image/png": "[encoded data removed]",
      "text/plain": [
       "<matplotlib.figure.Figure at 0x10f788828>"
      ]
     },
     "metadata": {},
     "output_type": "display_data"
    }
   ],
   "source": [
    "top_indices = indices[:25]\n",
    "top_features = [features[i] for i in indices[:25]]\n",
    "plt.figure(figsize=(18, 16))\n",
    "plt.title(\"Feature importances\")\n",
    "plt.bar(range(25), importances[top_indices],color=\"orange\", yerr=std[top_indices], align=\"center\",)\n",
    "plt.xticks(range(25), top_features, rotation=75)\n",
    "plt.xlim([-1, 25])\n",
    "plt.show()"
   ]
  },
  {
   "cell_type": "markdown",
   "metadata": {},
   "source": [
    "#### Gradient Boost"
   ]
  },
  {
   "cell_type": "code",
   "execution_count": 43,
   "metadata": {},
   "outputs": [
    {
     "name": "stdout",
     "output_type": "stream",
     "text": [
      "done in 37.110s\n",
      "GradientBoostingClassifier Scores:\n",
      "\n",
      "Accuracy of data already seen: 0.9988\n",
      "Accuracy of data not seen: 0.8814\n",
      "F1 score: 0.8662\n",
      "Recall score: 0.883117\n",
      "False Negatives: 9\n"
     ]
    }
   ],
   "source": [
    "from sklearn.ensemble import GradientBoostingClassifier\n",
    "t0 = time()\n",
    "gb_clf = GradientBoostingClassifier(n_estimators=100,random_state=7350)\n",
    "gb_clf.fit(train_feats, train_labels)\n",
    "print(\"done in %0.3fs\" % (time() - t0))\n",
    "score_dict = scoring(score_dict,train_feats,train_labels,test_feats,test_labels,gb_clf)"
   ]
  },
  {
   "cell_type": "markdown",
   "metadata": {},
   "source": [
    "#### XGBoost"
   ]
  },
  {
   "cell_type": "code",
   "execution_count": 44,
   "metadata": {},
   "outputs": [],
   "source": [
    "# from xgboost import XGBClassifier\n",
    "# t0 = time()\n",
    "# xgb_clf = XGBClassifier(max_depth=5,random_state=7350,n_estimators=100,n_jobs=-1)\n",
    "# xgb_clf.fit(train_feats, train_labels)\n",
    "# print(\"done in %0.3fs\" % (time() - t0))\n",
    "# score_dict = scoring(score_dict,train_feats,train_labels,test_feats,test_labels,xgb_clf)"
   ]
  },
  {
   "cell_type": "markdown",
   "metadata": {},
   "source": [
    "#### Neural Net"
   ]
  },
  {
   "cell_type": "code",
   "execution_count": 45,
   "metadata": {},
   "outputs": [
    {
     "name": "stdout",
     "output_type": "stream",
     "text": [
      "done in 18.757s\n",
      "MLPClassifier Scores:\n",
      "\n",
      "Accuracy of data already seen: 1.0000\n",
      "Accuracy of data not seen: 0.9153\n",
      "F1 score: 0.9007\n",
      "Recall score: 0.883117\n",
      "False Negatives: 9\n"
     ]
    }
   ],
   "source": [
    "from sklearn.neural_network import MLPClassifier\n",
    "t0 = time()\n",
    "nn_clf = MLPClassifier(max_iter=800)\n",
    "nn_clf.fit(train_feats, train_labels)\n",
    "print(\"done in %0.3fs\" % (time() - t0))\n",
    "score_dict = scoring(score_dict,train_feats,train_labels,test_feats,test_labels,nn_clf)"
   ]
  },
  {
   "cell_type": "markdown",
   "metadata": {},
   "source": [
    "#### Naive Bayes"
   ]
  },
  {
   "cell_type": "code",
   "execution_count": 46,
   "metadata": {},
   "outputs": [
    {
     "name": "stdout",
     "output_type": "stream",
     "text": [
      "done in 0.031s\n",
      "MultinomialNB Scores:\n",
      "\n",
      "Accuracy of data already seen: 0.9587\n",
      "Accuracy of data not seen: 0.8983\n",
      "F1 score: 0.8861\n",
      "Recall score: 0.909091\n",
      "False Negatives: 7\n"
     ]
    }
   ],
   "source": [
    "from sklearn.naive_bayes import MultinomialNB\n",
    "t0 = time()\n",
    "nb_clf = MultinomialNB(alpha=.001)\n",
    "nb_clf.fit(train_feats, train_labels)\n",
    "print(\"done in %0.3fs\" % (time() - t0))\n",
    "score_dict = scoring(score_dict,train_feats,train_labels,test_feats,test_labels,nb_clf)"
   ]
  },
  {
   "cell_type": "code",
   "execution_count": 47,
   "metadata": {},
   "outputs": [
    {
     "name": "stdout",
     "output_type": "stream",
     "text": [
      "done in 0.206s\n",
      "GaussianNB Scores:\n",
      "\n",
      "Accuracy of data already seen: 0.9975\n",
      "Accuracy of data not seen: 0.8531\n",
      "F1 score: 0.8143\n",
      "Recall score: 0.740260\n",
      "False Negatives: 20\n"
     ]
    }
   ],
   "source": [
    "from sklearn.naive_bayes import GaussianNB\n",
    "t0 = time()\n",
    "gnb_clf = GaussianNB()\n",
    "gnb_clf.fit(train_feats, train_labels)\n",
    "print(\"done in %0.3fs\" % (time() - t0))\n",
    "score_dict = scoring(score_dict,train_feats,train_labels,test_feats,test_labels,gnb_clf)"
   ]
  },
  {
   "cell_type": "markdown",
   "metadata": {},
   "source": [
    "#### Random Forest"
   ]
  },
  {
   "cell_type": "code",
   "execution_count": 48,
   "metadata": {},
   "outputs": [
    {
     "name": "stdout",
     "output_type": "stream",
     "text": [
      "done in 0.725s\n",
      "RandomForestClassifier Scores:\n",
      "\n",
      "Accuracy of data already seen: 1.0000\n",
      "Accuracy of data not seen: 0.9096\n",
      "F1 score: 0.8987\n",
      "Recall score: 0.922078\n",
      "False Negatives: 6\n"
     ]
    }
   ],
   "source": [
    "from sklearn.ensemble import RandomForestClassifier\n",
    "t0 = time()\n",
    "rf_clf = RandomForestClassifier(n_jobs=-1,n_estimators=100,random_state=7350)\n",
    "rf_clf.fit(train_feats, train_labels)\n",
    "print(\"done in %0.3fs\" % (time() - t0))\n",
    "score_dict = scoring(score_dict,train_feats,train_labels,test_feats,test_labels,rf_clf)"
   ]
  },
  {
   "cell_type": "code",
   "execution_count": 49,
   "metadata": {},
   "outputs": [
    {
     "name": "stdout",
     "output_type": "stream",
     "text": [
      "Feature ranking:\n",
      "1. num_uniq_link (0.047987)\n",
      "2. num_url_(-0.001, 1.0] (0.035045)\n",
      "3. LSA_unsubscribe (0.024307)\n",
      "4. num_link_(-0.001, 1.0] (0.023313)\n",
      "5. num_uniq_url_(-0.001, 1.0] (0.022374)\n",
      "6. Content-type_Multipart/alternative (0.013409)\n",
      "7. return_path_match_from (0.012888)\n",
      "8. has_unsubscribe_link (0.009884)\n",
      "9. LSA_email (0.009700)\n",
      "10. LSA_invoice (0.009528)\n",
      "11. LSA_not (0.008662)\n",
      "12. SPF_PASS (0.008575)\n",
      "13. LSA_like (0.008435)\n",
      "14. LSA_thank (0.008098)\n",
      "15. LSA_time (0.006643)\n",
      "16. from_tld_com (0.006501)\n",
      "17. LSA_payment (0.006278)\n",
      "18. LSA_th (0.006131)\n",
      "19. LSA_today (0.005819)\n",
      "20. num_url_repeats_(-0.001, 1.0] (0.005715)\n",
      "21. LSA_document (0.005185)\n",
      "22. LSA_start (0.005002)\n",
      "23. LSA_view (0.004923)\n",
      "24. LSA_change (0.004671)\n",
      "25. has_html_content (0.004561)\n"
     ]
    }
   ],
   "source": [
    "importances = rf_clf.feature_importances_\n",
    "std = np.std([tree.feature_importances_ for tree in rf_clf.estimators_],\n",
    "             axis=0)\n",
    "indices = np.argsort(importances)[::-1]\n",
    "features = test_feats.columns\n",
    "print(\"Feature ranking:\")\n",
    "for f in range(25):\n",
    "    print(\"%d. %s (%f)\" % (f + 1, features[indices[f]], importances[indices[f]]))"
   ]
  },
  {
   "cell_type": "code",
   "execution_count": 50,
   "metadata": {},
   "outputs": [
    {
     "data": {
      "image/png": "[encoded data removed]",
      "text/plain": [
       "<matplotlib.figure.Figure at 0x10f7f7f28>"
      ]
     },
     "metadata": {},
     "output_type": "display_data"
    }
   ],
   "source": [
    "top_indices = indices[:25]\n",
    "top_features = [features[i] for i in indices[:25]]\n",
    "plt.figure(figsize=(18, 16))\n",
    "plt.title(\"Feature importances\")\n",
    "plt.bar(range(25), importances[top_indices],color=\"red\", yerr=std[top_indices], align=\"center\",)\n",
    "plt.xticks(range(25), top_features, rotation=75)\n",
    "plt.xlim([-1, 25])\n",
    "plt.show()"
   ]
  },
  {
   "cell_type": "markdown",
   "metadata": {},
   "source": [
    "#### Nearest Neighbors"
   ]
  },
  {
   "cell_type": "code",
   "execution_count": 51,
   "metadata": {},
   "outputs": [
    {
     "name": "stdout",
     "output_type": "stream",
     "text": [
      "done in 0.219s\n",
      "KNeighborsClassifier Scores:\n",
      "\n",
      "Accuracy of data already seen: 0.9300\n",
      "Accuracy of data not seen: 0.8192\n",
      "F1 score: 0.8025\n",
      "Recall score: 0.844156\n",
      "False Negatives: 12\n"
     ]
    }
   ],
   "source": [
    "from sklearn.neighbors import KNeighborsClassifier\n",
    "t0 = time()\n",
    "knn_clf = KNeighborsClassifier(n_jobs=-1,leaf_size=100)\n",
    "knn_clf.fit(train_feats, train_labels)\n",
    "print(\"done in %0.3fs\" % (time() - t0))\n",
    "score_dict = scoring(score_dict,train_feats,train_labels,test_feats,test_labels,knn_clf)"
   ]
  },
  {
   "cell_type": "markdown",
   "metadata": {},
   "source": [
    "#### NearestCentroid"
   ]
  },
  {
   "cell_type": "code",
   "execution_count": 52,
   "metadata": {},
   "outputs": [
    {
     "name": "stdout",
     "output_type": "stream",
     "text": [
      "done in 0.064s\n",
      "NearestCentroid Scores:\n",
      "\n",
      "Accuracy of data already seen: 0.7475\n",
      "Accuracy of data not seen: 0.6610\n",
      "F1 score: 0.7115\n",
      "Recall score: 0.961039\n",
      "False Negatives: 3\n"
     ]
    }
   ],
   "source": [
    "from sklearn.neighbors import NearestCentroid\n",
    "t0 = time()\n",
    "nc_clf = NearestCentroid()\n",
    "nc_clf.fit(train_feats, train_labels)\n",
    "print(\"done in %0.3fs\" % (time() - t0))\n",
    "score_dict = scoring(score_dict,train_feats,train_labels,test_feats,test_labels,nc_clf)"
   ]
  },
  {
   "cell_type": "markdown",
   "metadata": {},
   "source": [
    "#### AdaBoost"
   ]
  },
  {
   "cell_type": "code",
   "execution_count": 53,
   "metadata": {},
   "outputs": [
    {
     "name": "stdout",
     "output_type": "stream",
     "text": [
      "done in 15.159s\n",
      "AdaBoostClassifier Scores:\n",
      "\n",
      "Accuracy of data already seen: 1.0000\n",
      "Accuracy of data not seen: 0.8588\n",
      "F1 score: 0.8408\n",
      "Recall score: 0.857143\n",
      "False Negatives: 11\n"
     ]
    }
   ],
   "source": [
    "from sklearn.ensemble import AdaBoostClassifier\n",
    "t0 = time()\n",
    "ab_clf = AdaBoostClassifier(n_estimators=100,random_state=7350)\n",
    "ab_clf.fit(train_feats, train_labels)\n",
    "print(\"done in %0.3fs\" % (time() - t0))\n",
    "score_dict = scoring(score_dict,train_feats,train_labels,test_feats,test_labels,ab_clf)"
   ]
  },
  {
   "cell_type": "markdown",
   "metadata": {},
   "source": [
    "#### QuadraticDiscriminantAnalysis"
   ]
  },
  {
   "cell_type": "code",
   "execution_count": 54,
   "metadata": {},
   "outputs": [
    {
     "name": "stderr",
     "output_type": "stream",
     "text": [
      "/usr/local/anaconda3/lib/python3.6/site-packages/sklearn/discriminant_analysis.py:682: UserWarning: Variables are collinear\n",
      "  warnings.warn(\"Variables are collinear\")\n"
     ]
    },
    {
     "name": "stdout",
     "output_type": "stream",
     "text": [
      "done in 1.578s\n",
      "QuadraticDiscriminantAnalysis Scores:\n",
      "\n",
      "Accuracy of data already seen: 1.0000\n",
      "Accuracy of data not seen: 0.5763\n",
      "F1 score: 0.0506\n",
      "Recall score: 0.025974\n",
      "False Negatives: 75\n"
     ]
    }
   ],
   "source": [
    "from sklearn.discriminant_analysis import QuadraticDiscriminantAnalysis\n",
    "t0 = time()\n",
    "qda_clf = QuadraticDiscriminantAnalysis()\n",
    "qda_clf.fit(train_feats, train_labels)\n",
    "print(\"done in %0.3fs\" % (time() - t0))\n",
    "score_dict = scoring(score_dict,train_feats,train_labels,test_feats,test_labels,qda_clf)"
   ]
  },
  {
   "cell_type": "markdown",
   "metadata": {},
   "source": [
    "#### GaussianProcessClassifier"
   ]
  },
  {
   "cell_type": "code",
   "execution_count": 55,
   "metadata": {},
   "outputs": [
    {
     "name": "stdout",
     "output_type": "stream",
     "text": [
      "done in 13.056s\n",
      "GaussianProcessClassifier Scores:\n",
      "\n",
      "Accuracy of data already seen: 1.0000\n",
      "Accuracy of data not seen: 0.7966\n",
      "F1 score: 0.7882\n",
      "Recall score: 0.870130\n",
      "False Negatives: 10\n"
     ]
    }
   ],
   "source": [
    "from sklearn.gaussian_process import GaussianProcessClassifier\n",
    "t0 = time()\n",
    "gp_clf = GaussianProcessClassifier(random_state=7350)\n",
    "gp_clf.fit(train_feats, train_labels)\n",
    "#gp_pred = gp_clf.predict(test_feats)\n",
    "print(\"done in %0.3fs\" % (time() - t0))\n",
    "score_dict = scoring(score_dict,train_feats,train_labels,test_feats,test_labels,gp_clf)"
   ]
  },
  {
   "cell_type": "markdown",
   "metadata": {},
   "source": [
    "#### Decision Tree"
   ]
  },
  {
   "cell_type": "code",
   "execution_count": 56,
   "metadata": {},
   "outputs": [
    {
     "name": "stdout",
     "output_type": "stream",
     "text": [
      "done in 1.267s\n",
      "DecisionTreeClassifier Scores:\n",
      "\n",
      "Accuracy of data already seen: 1.0000\n",
      "Accuracy of data not seen: 0.8249\n",
      "F1 score: 0.8098\n",
      "Recall score: 0.857143\n",
      "False Negatives: 11\n"
     ]
    }
   ],
   "source": [
    "from sklearn.tree import DecisionTreeClassifier\n",
    "t0 = time()\n",
    "dt_clf = DecisionTreeClassifier(random_state=7350)\n",
    "dt_clf.fit(train_feats, train_labels)\n",
    "print(\"done in %0.3fs\" % (time() - t0))\n",
    "score_dict = scoring(score_dict,train_feats,train_labels,test_feats,test_labels,dt_clf)"
   ]
  },
  {
   "cell_type": "markdown",
   "metadata": {},
   "source": [
    "#### LogisticRegression"
   ]
  },
  {
   "cell_type": "code",
   "execution_count": 57,
   "metadata": {},
   "outputs": [
    {
     "name": "stdout",
     "output_type": "stream",
     "text": [
      "done in 0.082s\n",
      "LogisticRegression Scores:\n",
      "\n",
      "Accuracy of data already seen: 0.9775\n",
      "Accuracy of data not seen: 0.8588\n",
      "F1 score: 0.8387\n",
      "Recall score: 0.844156\n",
      "False Negatives: 12\n"
     ]
    }
   ],
   "source": [
    "from sklearn.linear_model import LogisticRegression\n",
    "t0 = time()\n",
    "lr_clf = LogisticRegression(random_state=7350)\n",
    "lr_clf.fit(train_feats, train_labels)\n",
    "print(\"done in %0.3fs\" % (time() - t0))\n",
    "score_dict = scoring(score_dict,train_feats,train_labels,test_feats,test_labels,lr_clf)"
   ]
  },
  {
   "cell_type": "markdown",
   "metadata": {},
   "source": [
    "#### PassiveAggressiveClassifier"
   ]
  },
  {
   "cell_type": "code",
   "execution_count": 58,
   "metadata": {
    "scrolled": true
   },
   "outputs": [
    {
     "name": "stderr",
     "output_type": "stream",
     "text": [
      "/usr/local/anaconda3/lib/python3.6/site-packages/sklearn/linear_model/stochastic_gradient.py:128: FutureWarning: max_iter and tol parameters have been added in <class 'sklearn.linear_model.passive_aggressive.PassiveAggressiveClassifier'> in 0.19. If both are left unset, they default to max_iter=5 and tol=None. If tol is not None, max_iter defaults to max_iter=1000. From 0.21, default max_iter will be 1000, and default tol will be 1e-3.\n",
      "  \"and default tol will be 1e-3.\" % type(self), FutureWarning)\n"
     ]
    },
    {
     "name": "stdout",
     "output_type": "stream",
     "text": [
      "done in 0.232s\n",
      "PassiveAggressiveClassifier Scores:\n",
      "\n",
      "Accuracy of data already seen: 0.9425\n",
      "Accuracy of data not seen: 0.8701\n",
      "F1 score: 0.8392\n",
      "Recall score: 0.779221\n",
      "False Negatives: 17\n"
     ]
    }
   ],
   "source": [
    "from sklearn.linear_model import PassiveAggressiveClassifier\n",
    "t0 = time()\n",
    "pa_clf = PassiveAggressiveClassifier(n_jobs=-1,random_state=7350)\n",
    "pa_clf.fit(train_feats, train_labels)\n",
    "print(\"done in %0.3fs\" % (time() - t0))\n",
    "score_dict = scoring(score_dict,train_feats,train_labels,test_feats,test_labels,pa_clf)"
   ]
  },
  {
   "cell_type": "markdown",
   "metadata": {},
   "source": [
    "#### RidgeClassifier"
   ]
  },
  {
   "cell_type": "code",
   "execution_count": 59,
   "metadata": {},
   "outputs": [
    {
     "name": "stdout",
     "output_type": "stream",
     "text": [
      "done in 0.319s\n",
      "RandomForestClassifier Scores:\n",
      "\n",
      "Accuracy of data already seen: 1.0000\n",
      "Accuracy of data not seen: 0.9096\n",
      "F1 score: 0.8987\n",
      "Recall score: 0.922078\n",
      "False Negatives: 6\n"
     ]
    }
   ],
   "source": [
    "from sklearn.linear_model import RidgeClassifier\n",
    "t0 = time()\n",
    "rd_clf = RidgeClassifier(random_state=7350)\n",
    "rd_clf.fit(train_feats, train_labels)\n",
    "print(\"done in %0.3fs\" % (time() - t0))\n",
    "score_dict = scoring(score_dict,train_feats,train_labels,test_feats,test_labels,rd_clf)"
   ]
  },
  {
   "cell_type": "markdown",
   "metadata": {},
   "source": [
    "#### SGDClassifier"
   ]
  },
  {
   "cell_type": "code",
   "execution_count": 60,
   "metadata": {},
   "outputs": [
    {
     "name": "stdout",
     "output_type": "stream",
     "text": [
      "done in 0.135s\n",
      "SGDClassifier Scores:\n",
      "\n",
      "Accuracy of data already seen: 0.9062\n",
      "Accuracy of data not seen: 0.8362\n",
      "F1 score: 0.7883\n",
      "Recall score: 0.701299\n",
      "False Negatives: 23\n"
     ]
    },
    {
     "name": "stderr",
     "output_type": "stream",
     "text": [
      "/usr/local/anaconda3/lib/python3.6/site-packages/sklearn/linear_model/stochastic_gradient.py:128: FutureWarning: max_iter and tol parameters have been added in <class 'sklearn.linear_model.stochastic_gradient.SGDClassifier'> in 0.19. If both are left unset, they default to max_iter=5 and tol=None. If tol is not None, max_iter defaults to max_iter=1000. From 0.21, default max_iter will be 1000, and default tol will be 1e-3.\n",
      "  \"and default tol will be 1e-3.\" % type(self), FutureWarning)\n"
     ]
    }
   ],
   "source": [
    "from sklearn.linear_model import SGDClassifier\n",
    "t0 = time()\n",
    "sgd_clf = SGDClassifier(random_state=7350)\n",
    "sgd_clf.fit(train_feats, train_labels)\n",
    "print(\"done in %0.3fs\" % (time() - t0))\n",
    "score_dict = scoring(score_dict,train_feats,train_labels,test_feats,test_labels,sgd_clf)"
   ]
  },
  {
   "cell_type": "markdown",
   "metadata": {},
   "source": [
    "#### CalibratedClassifierCV"
   ]
  },
  {
   "cell_type": "code",
   "execution_count": 61,
   "metadata": {},
   "outputs": [
    {
     "name": "stdout",
     "output_type": "stream",
     "text": [
      "done in 0.405s\n",
      "CalibratedClassifierCV Scores:\n",
      "\n",
      "Accuracy of data already seen: 1.0000\n",
      "Accuracy of data not seen: 0.8870\n",
      "F1 score: 0.8701\n",
      "Recall score: 0.870130\n",
      "False Negatives: 10\n"
     ]
    }
   ],
   "source": [
    "from sklearn.calibration import CalibratedClassifierCV\n",
    "t0 = time()\n",
    "cc_clf = CalibratedClassifierCV()\n",
    "cc_clf.fit(train_feats, train_labels)\n",
    "print(\"done in %0.3fs\" % (time() - t0))\n",
    "score_dict = scoring(score_dict,train_feats,train_labels,test_feats,test_labels,cc_clf)"
   ]
  },
  {
   "cell_type": "markdown",
   "metadata": {},
   "source": [
    "#### BaggingClassifier"
   ]
  },
  {
   "cell_type": "code",
   "execution_count": 62,
   "metadata": {},
   "outputs": [
    {
     "name": "stdout",
     "output_type": "stream",
     "text": [
      "done in 18.676s\n",
      "BaggingClassifier Scores:\n",
      "\n",
      "Accuracy of data already seen: 1.0000\n",
      "Accuracy of data not seen: 0.8701\n",
      "F1 score: 0.8553\n",
      "Recall score: 0.883117\n",
      "False Negatives: 9\n"
     ]
    }
   ],
   "source": [
    "from sklearn.ensemble import BaggingClassifier\n",
    "t0 = time()\n",
    "bg_clf = BaggingClassifier(n_jobs=-1,n_estimators=100,random_state=7350)\n",
    "bg_clf.fit(train_feats, train_labels)\n",
    "print(\"done in %0.3fs\" % (time() - t0))\n",
    "score_dict = scoring(score_dict,train_feats,train_labels,test_feats,test_labels,bg_clf)"
   ]
  },
  {
   "cell_type": "markdown",
   "metadata": {},
   "source": [
    "#### VotingClassifier"
   ]
  },
  {
   "cell_type": "code",
   "execution_count": 73,
   "metadata": {},
   "outputs": [
    {
     "name": "stdout",
     "output_type": "stream",
     "text": [
      "done in 18.693s\n"
     ]
    }
   ],
   "source": [
    "from sklearn.ensemble import VotingClassifier\n",
    "t0 = time()\n",
    "vt_clf = VotingClassifier(estimators=[\n",
    "    #('knn',knn_clf),\n",
    "    ('nn',nn_clf),\n",
    "#     ('et',et_clf),\n",
    "    ('rf',rf_clf),\n",
    "    ('rd',rd_clf),\n",
    "#     ('gb',gb_clf),\n",
    "#     ('cc',cc_clf),\n",
    "#     ('svm',svm_clf),\n",
    "    #('gp',gp_clf),\n",
    "    #('lr',lr_clf),\n",
    "#     ('gnb',gnb_clf),\n",
    "#     ('nb',nb_clf),\n",
    "],voting='hard',weights=[2,1,1])\n",
    "vt_clf.fit(train_feats, train_labels)\n",
    "print(\"done in %0.3fs\" % (time() - t0))"
   ]
  },
  {
   "cell_type": "code",
   "execution_count": 74,
   "metadata": {},
   "outputs": [
    {
     "name": "stderr",
     "output_type": "stream",
     "text": [
      "/usr/local/anaconda3/lib/python3.6/site-packages/sklearn/preprocessing/label.py:151: DeprecationWarning: The truth value of an empty array is ambiguous. Returning False, but in future this will result in an error. Use `array.size > 0` to check that an array is not empty.\n",
      "  if diff:\n",
      "/usr/local/anaconda3/lib/python3.6/site-packages/sklearn/preprocessing/label.py:151: DeprecationWarning: The truth value of an empty array is ambiguous. Returning False, but in future this will result in an error. Use `array.size > 0` to check that an array is not empty.\n",
      "  if diff:\n"
     ]
    },
    {
     "name": "stdout",
     "output_type": "stream",
     "text": [
      "VotingClassifier Scores:\n",
      "\n",
      "Accuracy of data already seen: 1.0000\n",
      "Accuracy of data not seen: 0.9153\n",
      "F1 score: 0.8993\n",
      "Recall score: 0.8701\n",
      "False Negatives: 10\n"
     ]
    },
    {
     "name": "stderr",
     "output_type": "stream",
     "text": [
      "/usr/local/anaconda3/lib/python3.6/site-packages/sklearn/preprocessing/label.py:151: DeprecationWarning: The truth value of an empty array is ambiguous. Returning False, but in future this will result in an error. Use `array.size > 0` to check that an array is not empty.\n",
      "  if diff:\n"
     ]
    }
   ],
   "source": [
    "already_seen = vt_clf.score(train_feats, train_labels)\n",
    "accuracy = vt_clf.score(test_feats, test_labels)\n",
    "vt_pred = vt_clf.predict(test_feats)\n",
    "f1 = f1_score(test_labels, vt_pred, pos_label='investigate')\n",
    "recall = recall_score(test_labels, vt_pred, pos_label='investigate')\n",
    "cnf_matrix = confusion_matrix(test_labels, vt_pred)\n",
    "FN = cnf_matrix[1][0]\n",
    "false_negative = cnf_matrix[1][0]\n",
    "print('VotingClassifier Scores:\\n')\n",
    "print('Accuracy of data already seen: %0.4f' % already_seen)\n",
    "print('Accuracy of data not seen: %0.4f' % accuracy)\n",
    "print('F1 score: %0.4f' % f1)\n",
    "print('Recall score: %0.4f' % recall)\n",
    "print('False Negatives: %0d' % FN)"
   ]
  },
  {
   "cell_type": "markdown",
   "metadata": {},
   "source": [
    "#### Best Classifier Scores"
   ]
  },
  {
   "cell_type": "code",
   "execution_count": 65,
   "metadata": {},
   "outputs": [
    {
     "name": "stdout",
     "output_type": "stream",
     "text": [
      "Best Accuracy:\n",
      "\n",
      "MLPClassifier: 0.9153\n",
      "RandomForestClassifier: 0.9096\n",
      "RandomForestClassifier: 0.9096\n",
      "\n",
      "\n",
      "Best F1 Score:\n",
      "\n",
      "MLPClassifier: 0.9007\n",
      "RandomForestClassifier: 0.8987\n",
      "RandomForestClassifier: 0.8987\n",
      "\n",
      "\n",
      "Best Recall Score:\n",
      "\n",
      "SVC: 0.9610\n",
      "NearestCentroid: 0.9610\n",
      "RandomForestClassifier: 0.9221\n",
      "\n",
      "\n",
      "Best False Negative Classifier:\n",
      "\n",
      "SVC: 3\n",
      "NearestCentroid: 3\n",
      "RandomForestClassifier: 6\n"
     ]
    }
   ],
   "source": [
    "print('Best Accuracy:\\n')\n",
    "for i in [\n",
    "    '%s: %0.4f' % (k,v)\n",
    "    for k,v in sorted(score_dict['accuracy'], key=lambda tup: tup[1], reverse=True)\n",
    "    ][:3]:\n",
    "    print(i)\n",
    "print('\\n\\nBest F1 Score:\\n')\n",
    "for i in [\n",
    "    '%s: %0.4f' % (k,v)\n",
    "    for k,v in sorted(score_dict['f1'], key=lambda tup: tup[1], reverse=True)\n",
    "    ][:3]:\n",
    "    print(i)\n",
    "print('\\n\\nBest Recall Score:\\n')\n",
    "for i in [\n",
    "    '%s: %0.4f' % (k,v)\n",
    "    for k,v in sorted(score_dict['recall'], key=lambda tup: tup[1], reverse=True)\n",
    "    ][:3]:\n",
    "    print(i)    \n",
    "print('\\n\\nBest False Negative Classifier:\\n')\n",
    "for i in [\n",
    "    '%s: %i' % (k,v)\n",
    "    for k,v in sorted(score_dict['FN'], key=lambda tup: tup[1])\n",
    "    ][:3]:\n",
    "    print(i)"
   ]
  },
  {
   "cell_type": "markdown",
   "metadata": {},
   "source": [
    "#### Confusion Matrix and ROC curves of Top Algos"
   ]
  },
  {
   "cell_type": "code",
   "execution_count": 66,
   "metadata": {},
   "outputs": [],
   "source": [
    "#http://scikit-learn.org/stable/auto_examples/model_selection/plot_confusion_matrix.html\n",
    "def plot_confusion_matrix(cm, classes,\n",
    "                          normalize=False,\n",
    "                          title='Confusion matrix',\n",
    "                          cmap=plt.cm.Blues):\n",
    "    \"\"\"\n",
    "    This function prints and plots the confusion matrix.\n",
    "    Normalization can be applied by setting `normalize=True`.\n",
    "    \"\"\"\n",
    "    plt.imshow(cm, interpolation='nearest', cmap=cmap)\n",
    "    plt.title(title)\n",
    "    plt.colorbar()\n",
    "    tick_marks = np.arange(len(classes))\n",
    "    plt.xticks(tick_marks, classes, rotation=45)\n",
    "    plt.yticks(tick_marks, classes)\n",
    "\n",
    "    #fmt = '.2f' if normalize else 'd'\n",
    "    thresh = cm.max() / 2.\n",
    "    for i, j in product(range(cm.shape[0]), range(cm.shape[1])):\n",
    "        plt.text(j, i, format(cm[i, j], 'd'),\n",
    "                 horizontalalignment=\"center\",\n",
    "                 color=\"white\" if cm[i, j] > thresh else \"black\")\n",
    "\n",
    "    plt.tight_layout()\n",
    "    plt.ylabel('True label')\n",
    "    plt.xlabel('Predicted label')"
   ]
  },
  {
   "cell_type": "code",
   "execution_count": 67,
   "metadata": {},
   "outputs": [],
   "source": [
    "def display_conf_mat(clf,test_feats,test_labels):\n",
    "    clf_name = re.findall('(^[^\\(]+)\\(',str(clf))[0]\n",
    "    pred = clf.predict(test_feats)\n",
    "    cnf_matrix = confusion_matrix(test_labels, pred)\n",
    "    np.set_printoptions(precision=2)\n",
    "    plt.figure(figsize=(5, 4))\n",
    "    plot_confusion_matrix(cnf_matrix, classes=['ignore','investigate'],\n",
    "                          title=clf_name + ' Confusion matrix')\n",
    "    plt.show()   "
   ]
  },
  {
   "cell_type": "code",
   "execution_count": 68,
   "metadata": {},
   "outputs": [],
   "source": [
    "#https://datamize.wordpress.com/2015/01/24/how-to-plot-a-roc-curve-in-scikit-learn/\n",
    "#https://plot.ly/scikit-learn/plot-roc/\n",
    "def plot_roc_curve(clf,test_feats,test_labels):\n",
    "    clf_name = re.findall('(^[^\\(]+)\\(',str(clf))[0]\n",
    "    # Binarize the output\n",
    "    pred = clf.predict(test_feats)\n",
    "    test_labels_bin = label_binarize(test_labels, classes=['ignore','investigate'])\n",
    "    pred_bin = label_binarize(pred, classes=['ignore','investigate'])\n",
    "    false_positive_rate, true_positive_rate, thresholds = roc_curve(test_labels_bin, pred_bin)\n",
    "    roc_auc = auc(false_positive_rate, true_positive_rate)\n",
    "    plt.title(clf_name + ' Receiver Operating Characteristic')\n",
    "    plt.plot(false_positive_rate, true_positive_rate, 'b',\n",
    "        label='AUC = %0.2f'% roc_auc)\n",
    "    plt.legend(loc='lower right')\n",
    "    plt.plot([0,1],[0,1],'r--')\n",
    "    plt.ylabel('True Positive Rate')\n",
    "    plt.xlabel('False Positive Rate')\n",
    "    plt.show()"
   ]
  },
  {
   "cell_type": "code",
   "execution_count": 69,
   "metadata": {},
   "outputs": [
    {
     "data": {
      "image/png": "[encoded data removed]",
      "text/plain": [
       "<matplotlib.figure.Figure at 0x1a1cb44f98>"
      ]
     },
     "metadata": {},
     "output_type": "display_data"
    },
    {
     "data": {
      "image/png": "[encoded data removed]",
      "text/plain": [
       "<matplotlib.figure.Figure at 0x1a2b751a90>"
      ]
     },
     "metadata": {},
     "output_type": "display_data"
    }
   ],
   "source": [
    "display_conf_mat(nn_clf,test_feats,test_labels)\n",
    "plot_roc_curve(nn_clf,test_feats,test_labels)"
   ]
  },
  {
   "cell_type": "code",
   "execution_count": 70,
   "metadata": {},
   "outputs": [
    {
     "data": {
      "image/png": "[encoded data removed]",
      "text/plain": [
       "<matplotlib.figure.Figure at 0x1155b4da0>"
      ]
     },
     "metadata": {},
     "output_type": "display_data"
    },
    {
     "data": {
      "image/png": "[encoded data removed]",
      "text/plain": [
       "<matplotlib.figure.Figure at 0x1a1bff45f8>"
      ]
     },
     "metadata": {},
     "output_type": "display_data"
    }
   ],
   "source": [
    "display_conf_mat(et_clf,test_feats,test_labels)\n",
    "plot_roc_curve(et_clf,test_feats,test_labels)"
   ]
  },
  {
   "cell_type": "code",
   "execution_count": 71,
   "metadata": {},
   "outputs": [
    {
     "data": {
      "image/png": "[encoded data removed]",
      "text/plain": [
       "<matplotlib.figure.Figure at 0x1a2b751518>"
      ]
     },
     "metadata": {},
     "output_type": "display_data"
    },
    {
     "data": {
      "image/png": "[encoded data removed]",
      "text/plain": [
       "<matplotlib.figure.Figure at 0x1a1b602cf8>"
      ]
     },
     "metadata": {},
     "output_type": "display_data"
    }
   ],
   "source": [
    "display_conf_mat(svm_clf,test_feats,test_labels)\n",
    "plot_roc_curve(svm_clf,test_feats,test_labels)"
   ]
  },
  {
   "cell_type": "code",
   "execution_count": 72,
   "metadata": {},
   "outputs": [
    {
     "name": "stderr",
     "output_type": "stream",
     "text": [
      "/usr/local/anaconda3/lib/python3.6/site-packages/sklearn/preprocessing/label.py:151: DeprecationWarning: The truth value of an empty array is ambiguous. Returning False, but in future this will result in an error. Use `array.size > 0` to check that an array is not empty.\n",
      "  if diff:\n"
     ]
    },
    {
     "data": {
      "image/png": "[encoded data removed]",
      "text/plain": [
       "<matplotlib.figure.Figure at 0x1a1b803128>"
      ]
     },
     "metadata": {},
     "output_type": "display_data"
    },
    {
     "name": "stderr",
     "output_type": "stream",
     "text": [
      "/usr/local/anaconda3/lib/python3.6/site-packages/sklearn/preprocessing/label.py:151: DeprecationWarning: The truth value of an empty array is ambiguous. Returning False, but in future this will result in an error. Use `array.size > 0` to check that an array is not empty.\n",
      "  if diff:\n"
     ]
    },
    {
     "data": {
      "image/png": "[encoded data removed]",
      "text/plain": [
       "<matplotlib.figure.Figure at 0x1a1b602a58>"
      ]
     },
     "metadata": {},
     "output_type": "display_data"
    }
   ],
   "source": [
    "display_conf_mat(vt_clf,test_feats,test_labels)\n",
    "plot_roc_curve(vt_clf,test_feats,test_labels)"
   ]
  }
 ],
 "metadata": {
  "kernelspec": {
   "display_name": "Python 3",
   "language": "python",
   "name": "python3"
  },
  "language_info": {
   "codemirror_mode": {
    "name": "ipython",
    "version": 3
   },
   "file_extension": ".py",
   "mimetype": "text/x-python",
   "name": "python",
   "nbconvert_exporter": "python",
   "pygments_lexer": "ipython3",
   "version": "3.6.4"
  }
 },
 "nbformat": 4,
 "nbformat_minor": 2
}
