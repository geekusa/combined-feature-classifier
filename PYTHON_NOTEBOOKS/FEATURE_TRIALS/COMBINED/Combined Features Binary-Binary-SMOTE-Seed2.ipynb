{
 "cells": [
  {
   "cell_type": "code",
   "execution_count": 1,
   "metadata": {},
   "outputs": [],
   "source": [
    "import os\n",
    "import email\n",
    "import re\n",
    "import mailparser\n",
    "import random\n",
    "import spacy\n",
    "import string\n",
    "import numpy as np\n",
    "import pandas as pd\n",
    "import matplotlib.pyplot as plt\n",
    "from bs4 import BeautifulSoup\n",
    "from tld import get_tld\n",
    "from time import strftime, strptime, time\n",
    "from sklearn.model_selection import train_test_split\n",
    "from sklearn.metrics import f1_score, confusion_matrix, roc_curve, auc, recall_score\n",
    "from itertools import product\n",
    "from sklearn.preprocessing import label_binarize\n",
    "from imblearn.over_sampling import SMOTE "
   ]
  },
  {
   "cell_type": "markdown",
   "metadata": {},
   "source": [
    "Set constants for directories, take a random sampling of the \"ignore\" email since there are so many (under sample)"
   ]
  },
  {
   "cell_type": "code",
   "execution_count": 2,
   "metadata": {},
   "outputs": [],
   "source": [
    "IGNORE_DIR = '/Users/worshamn/Documents/emailProject/IgnoreFix'\n",
    "INVESTIGATE_DIR = '/Users/worshamn/Documents/emailProject/InvestigateFix'\n",
    "#https://stackoverflow.com/a/6482922\n",
    "random.seed(4928)\n",
    "ignore_sample_index = [ i for i in sorted(random.sample(range(len(os.listdir(IGNORE_DIR))), 500)) ]\n",
    "ignore_sample = []\n",
    "for i in ignore_sample_index:\n",
    "    ignore_sample.append(os.listdir(IGNORE_DIR)[i])\n",
    "input_dirs = {}\n",
    "input_dirs[INVESTIGATE_DIR] = os.listdir(INVESTIGATE_DIR) \n",
    "input_dirs[IGNORE_DIR] = ignore_sample"
   ]
  },
  {
   "cell_type": "code",
   "execution_count": 3,
   "metadata": {
    "scrolled": true
   },
   "outputs": [
    {
     "data": {
      "text/plain": [
       "2"
      ]
     },
     "execution_count": 3,
     "metadata": {},
     "output_type": "execute_result"
    }
   ],
   "source": [
    "len(input_dirs)"
   ]
  },
  {
   "cell_type": "code",
   "execution_count": 4,
   "metadata": {},
   "outputs": [
    {
     "data": {
      "text/plain": [
       "384"
      ]
     },
     "execution_count": 4,
     "metadata": {},
     "output_type": "execute_result"
    }
   ],
   "source": [
    "len(input_dirs[INVESTIGATE_DIR])"
   ]
  },
  {
   "cell_type": "code",
   "execution_count": 5,
   "metadata": {},
   "outputs": [
    {
     "data": {
      "text/plain": [
       "500"
      ]
     },
     "execution_count": 5,
     "metadata": {},
     "output_type": "execute_result"
    }
   ],
   "source": [
    "len(input_dirs[IGNORE_DIR])"
   ]
  },
  {
   "cell_type": "markdown",
   "metadata": {},
   "source": [
    "Build function to extract text and features"
   ]
  },
  {
   "cell_type": "code",
   "execution_count": 6,
   "metadata": {},
   "outputs": [],
   "source": [
    "def get_email_text(file):\n",
    "    d = {}\n",
    "    raw_message = email.message_from_file(file)\n",
    "    mail = mailparser.parse_from_string(raw_message.as_string())\n",
    "    d['subject'] = mail.subject\n",
    "    d['subject_len'] = len(d['subject'])\n",
    "    if raw_message.is_multipart():\n",
    "        d['is_mulitpart'] = 1\n",
    "    else:\n",
    "        d['is_multipart'] = 0\n",
    "    d['body'] = mail.text_plain\n",
    "    if len(d['body']) > 0:\n",
    "        d['mail_text'] = d['subject'] + ' ' + d['body'][0]\n",
    "        d['body_len'] = len(d['body'][0])\n",
    "        if len(d['body']) > 1:\n",
    "            soup_html = BeautifulSoup(d['body'][1],'lxml')\n",
    "            d['links'] = soup_html.find_all('a')\n",
    "            d['num_link'] = len(d['links'])\n",
    "            links = []\n",
    "            d['masq_link'] = []\n",
    "            d['masq_link_tld'] = []\n",
    "            d['num_email_link'] = 0\n",
    "            for link in d['links']:\n",
    "                link_text = link.get_text().rstrip('\\n')\n",
    "                a_link = link.get('href')\n",
    "                links.append(a_link)\n",
    "                if 'unsubscribe' in link_text.lower():\n",
    "                    d['has_unsubscribe_link'] = 1\n",
    "                if a_link:    \n",
    "                    if re.search('mailto:',a_link):\n",
    "                        d['num_email_link'] += 1\n",
    "                if a_link != link_text and \\\n",
    "                    'http' in link_text.lower() and \\\n",
    "                    not 'alt=\"http' in link_text.lower():\n",
    "                        d['masq_link'].append(link)\n",
    "                        d['masq_link_tld'].append(\n",
    "                            get_tld(\n",
    "                                a_link,\n",
    "                                fix_protocol=True, \n",
    "                                fail_silently=True\n",
    "                            )\n",
    "                        )\n",
    "            d['num_uniq_link'] = len(set(links))\n",
    "            if d['num_link'] > d['num_uniq_link']:\n",
    "                d['has_repeatlink'] = 1\n",
    "            else:\n",
    "                d['has_repeatlink'] = 0\n",
    "            if len(d['masq_link']) == 0:\n",
    "                d['masq_link'] = ''\n",
    "                d['masq_link_tld'] = ''\n",
    "                d['has_masq_link'] = 0\n",
    "            else:    \n",
    "                d['has_masq_link'] = 1\n",
    "                d['num_masq_link'] = len(d['masq_link'])\n",
    "    else:\n",
    "        d['mail_text'] = d['subject']\n",
    "        d['body_len'] = len(d['body'])\n",
    "    url_query = '((?:https?|ftp)://[^\\s/$.?#]+\\.[^\\s>]+)'\n",
    "    d['url'] = re.findall(url_query,d['mail_text'])\n",
    "    email_query = '([\\w.]+@[\\w.]+\\.[\\w.]{2,5})'\n",
    "    d['email'] = re.findall(email_query,d['mail_text'])\n",
    "    if d['url']:\n",
    "        d['has_url'] = 1\n",
    "        d['num_url'] = len(d['url'])\n",
    "        d['num_uniq_url'] = len(set(d['url']))\n",
    "        d['num_url_repeats'] = d['num_url'] - d['num_uniq_url']\n",
    "        d['url_len'] = []\n",
    "        d['url_tld'] = []\n",
    "        for i in d['url']:\n",
    "            d['url_len'].append(len(i))\n",
    "            d['url_tld'].append(\n",
    "                get_tld(i, fix_protocol=True, fail_silently=True)\n",
    "            )\n",
    "            d['uniq_url_tld'] = set(d['url_tld'])\n",
    "    else:\n",
    "        d['url'] = ''\n",
    "        d['has_url'] = 0\n",
    "        d['num_url'] = 0\n",
    "        d['num_uniq_url'] = 0\n",
    "        d['url_len'] = 0\n",
    "        d['url_tld'] = 0\n",
    "        d['uniq_url_tld'] = 0\n",
    "        d['num_url_repeats'] = 0\n",
    "    if d['email']:\n",
    "        d['has_email'] = 1\n",
    "        d['num_email_addr'] = len(d['email'])\n",
    "        d['num_uniq_email'] = len(set(d['email']))\n",
    "    else:\n",
    "        d['email'] = ''\n",
    "        d['has_email'] = 0\n",
    "        d['num_email_addr'] = 0\n",
    "        d['num_uniq_email'] = 0\n",
    "    soup = BeautifulSoup(d['mail_text'],'lxml')\n",
    "    try:\n",
    "        d['mail_text'] = soup.get_text().encode(\n",
    "            'utf-8',\n",
    "            'ignore'\n",
    "        ).decode('unicode_escape').replace('\\n',' ').replace('\\t',' ')\n",
    "    except:\n",
    "        d['mail_text'] = soup.get_text().replace('\\n',' ').replace('\\t',' ')\n",
    "    d['reply_to'] = mail.reply_to\n",
    "    for k,v in mail.headers.items():\n",
    "        d[k] = v\n",
    "    d['body'] = mail.body\n",
    "    d['text_plain'] = mail.text_plain\n",
    "    if mail.attachments:\n",
    "        d['has_attachments'] = 1\n",
    "        d['num_attachments'] = len(mail.attachments)\n",
    "        for i in mail.attachments:\n",
    "            try:\n",
    "                d['attachment_filename'].append(i['filename'])\n",
    "            except:\n",
    "                d['attachment_filename'] = []\n",
    "                d['attachment_filename'].append(i['filename'])\n",
    "            try:\n",
    "                d['attachment_content_type'].append(i['mail_content_type'])\n",
    "            except:\n",
    "                d['attachment_content_type'] = []\n",
    "                d['attachment_content_type'].append(i['mail_content_type'])\n",
    "    else:\n",
    "        d['has_attachments'] = 0\n",
    "    try:\n",
    "        if re.search(tryGetKeyValue(d, 'Return-Path'),tryGetKeyValue(d, 'From')):\n",
    "            d['return_path_match_from'] = 1\n",
    "        else:\n",
    "            d['return_path_match_from'] = 0\n",
    "    except:\n",
    "        d['return_path_match_from'] = 0\n",
    "    tld_match = re.match(\n",
    "            '[^@]+@([^>]+)>',\n",
    "            tryGetKeyValue(d, 'From')\n",
    "        )\n",
    "    if tld_match:\n",
    "        d['from_tld'] = get_tld(\n",
    "            tld_match.group(1),\n",
    "            fix_protocol=True, \n",
    "            fail_silently=True\n",
    "        )\n",
    "    if 'content=\"text/html' in d['body'].lower():\n",
    "        d['has_html_content'] = 1\n",
    "    else:\n",
    "        d['has_html_content'] = 0\n",
    "    if 'script type=\"text/javascript' in d['body'].lower():\n",
    "        d['has_javascript'] = 1\n",
    "    else:\n",
    "        d['has_javascript'] = 0\n",
    "    if 'img src=\"cid:' in d['body'].lower():\n",
    "        d['has_inline_img'] = 1\n",
    "    else:\n",
    "        d['has_inline_img'] = 0\n",
    "    if 'Content-type' in d:\n",
    "        d['Content-type'] = re.match('([^;]+);',d['Content-type']).group(1)\n",
    "    else:\n",
    "        d['Content-type'] = None\n",
    "    if 'Date' in d:\n",
    "        #d['DOTW'] = strftime('%a',strptime(d['Date'],'%a, %d %b %Y %H:%M:%S %z'))\n",
    "        d['DOTW'] = strftime('%w',strptime(d['Date'],'%a, %d %b %Y %H:%M:%S %z'))\n",
    "        d['HOTD'] = strftime('%H',strptime(d['Date'],'%a, %d %b %Y %H:%M:%S %z'))\n",
    "    if mail.has_defects:\n",
    "        d['has_defects'] = 1\n",
    "    else:\n",
    "        d['has_defects'] = 0\n",
    "    return d"
   ]
  },
  {
   "cell_type": "markdown",
   "metadata": {},
   "source": [
    "Build function to set the target value based on the directory"
   ]
  },
  {
   "cell_type": "code",
   "execution_count": 7,
   "metadata": {},
   "outputs": [],
   "source": [
    "def get_target(d):\n",
    "    if d == IGNORE_DIR:\n",
    "        return 'ignore'\n",
    "    elif d == INVESTIGATE_DIR:\n",
    "        return 'investigate'"
   ]
  },
  {
   "cell_type": "markdown",
   "metadata": {},
   "source": [
    "Build function to extract value only if the key exists"
   ]
  },
  {
   "cell_type": "code",
   "execution_count": 8,
   "metadata": {},
   "outputs": [],
   "source": [
    "def tryGetKeyValue(d, key, return_value=''):\n",
    "  \"\"\"Attempts to return value of key from dictionary\n",
    "  \"\"\"\n",
    "  try:\n",
    "    return d[key]\n",
    "  except:\n",
    "    return return_value"
   ]
  },
  {
   "cell_type": "markdown",
   "metadata": {},
   "source": [
    "Create dataframe, iterate through directories and add email features"
   ]
  },
  {
   "cell_type": "code",
   "execution_count": 9,
   "metadata": {},
   "outputs": [
    {
     "name": "stdout",
     "output_type": "stream",
     "text": [
      "/Users/worshamn/Documents/emailProject/InvestigateFix [Phish Alert] FW- Goodchem Document.eml\n",
      "/Users/worshamn/Documents/emailProject/InvestigateFix [Phish Alert] FW- Validate your Office 365 account.eml\n",
      "/Users/worshamn/Documents/emailProject/InvestigateFix [Phish Alert] FW- INVOICE YAX-80-97157 Tom Jensen.eml\n",
      "/Users/worshamn/Documents/emailProject/InvestigateFix [Phish Alert] FW- Invoice Problem 3.eml\n",
      "/Users/worshamn/Documents/emailProject/InvestigateFix [Phish Alert] FW- Invoice from Karen Laman.eml\n",
      "/Users/worshamn/Documents/emailProject/InvestigateFix [Phish Alert] FW- Case-637290015585-228.eml\n",
      "/Users/worshamn/Documents/emailProject/InvestigateFix [Phish Alert] FW- 7 Past Due Invoices.eml\n",
      "/Users/worshamn/Documents/emailProject/InvestigateFix [Phish Alert] FW- lmportant Message.eml\n",
      "/Users/worshamn/Documents/emailProject/InvestigateFix [Phish Alert] FW- [Spam] Erinnerung an die Rechnungszahlung.eml\n",
      "/Users/worshamn/Documents/emailProject/InvestigateFix [Phish Alert] FW- Re-[1].eml\n",
      "/Users/worshamn/Documents/emailProject/InvestigateFix [Phish Alert] FW- Invoice # 94898 Problem.eml\n",
      "/Users/worshamn/Documents/emailProject/InvestigateFix [Phish Alert] FW- See Attachment.eml\n",
      "/Users/worshamn/Documents/emailProject/InvestigateFix [Phish Alert] FW- Invoice 07.03.18.eml\n",
      "/Users/worshamn/Documents/emailProject/InvestigateFix [Phish Alert] FW- Past Due Invoices.eml\n",
      "/Users/worshamn/Documents/emailProject/InvestigateFix [Phish Alert] FW- [Spam] UPS Delivery Notification, Tracking Number 2MA48028859835621.eml\n",
      "/Users/worshamn/Documents/emailProject/InvestigateFix [Phish Alert] FW- Attached Document.eml\n",
      "/Users/worshamn/Documents/emailProject/InvestigateFix [Phish Alert] FW- [Spam] Tracking Number 8P97353188522018.eml\n",
      "/Users/worshamn/Documents/emailProject/InvestigateFix [Phish Alert] FW- Your UPS Package is Ready.eml\n",
      "/Users/worshamn/Documents/emailProject/InvestigateFix [Phish Alert] FW- Invoice #3776 Message.eml\n",
      "/Users/worshamn/Documents/emailProject/InvestigateFix [Phish Alert] FW- Lastschrift.eml\n",
      "/Users/worshamn/Documents/emailProject/InvestigateFix [Phish Alert] FW- Invoice Problem 2.eml\n",
      "/Users/worshamn/Documents/emailProject/InvestigateFix [Phish Alert] FW- This information will cost much for you.eml\n",
      "/Users/worshamn/Documents/emailProject/InvestigateFix [Phish Alert] FW- Your new Chase payment notice to Daysi Bloethner.eml\n",
      "/Users/worshamn/Documents/emailProject/InvestigateFix [Phish Alert] FW- Happy Coming Year!.eml\n",
      "/Users/worshamn/Documents/emailProject/InvestigateFix [Phish Alert] FW- REVIEW.eml\n",
      "/Users/worshamn/Documents/emailProject/InvestigateFix [Phish Alert] FW- Documeͷt Received - rεf new project. #723916.eml\n",
      "/Users/worshamn/Documents/emailProject/InvestigateFix [Phish Alert] FW- Notification de facture .eml\n",
      "/Users/worshamn/Documents/emailProject/InvestigateFix [Phish Alert] FW- gescanntes Dokument.eml\n",
      "/Users/worshamn/Documents/emailProject/InvestigateFix [Phish Alert] FW- UPS Delivery Notification, Tracking Number 0QR03268961076694.eml\n",
      "/Users/worshamn/Documents/emailProject/InvestigateFix [Phish Alert] FW- Rechnung 10-2017 1065755.eml\n",
      "/Users/worshamn/Documents/emailProject/InvestigateFix [Phish Alert] FW- Case-523537775069-585.eml\n",
      "/Users/worshamn/Documents/emailProject/InvestigateFix [Phish Alert] FW- Past due Invoice 2176478.eml\n",
      "/Users/worshamn/Documents/emailProject/InvestigateFix [Phish Alert] FW- Urgent update the Voucher , to 24-11 , Trip ID 16121868373.eml\n",
      "/Users/worshamn/Documents/emailProject/InvestigateFix [Phish Alert] FW- ACH form.eml\n",
      "/Users/worshamn/Documents/emailProject/InvestigateFix [Phish Alert] FW- Invoice due number 0         .eml\n",
      "/Users/worshamn/Documents/emailProject/InvestigateFix [Phish Alert] FW- NEW QUOTATION.eml\n",
      "/Users/worshamn/Documents/emailProject/InvestigateFix [Phish Alert] FW- Invoice 7350724 reminder.eml\n",
      "/Users/worshamn/Documents/emailProject/InvestigateFix [Phish Alert] FW- Invoice Issue[1].eml\n",
      "/Users/worshamn/Documents/emailProject/InvestigateFix [Phish Alert] FW- Question[1].eml\n",
      "/Users/worshamn/Documents/emailProject/InvestigateFix [Phish Alert] FW- Office  365 Security Upgrade (Do not Ignore).eml\n",
      "/Users/worshamn/Documents/emailProject/InvestigateFix [Phish Alert] FW- Invoice number 403426145 issue Message.eml\n",
      "/Users/worshamn/Documents/emailProject/InvestigateFix [Phish Alert] FW- Your DHL Shipment Parcel Notification.eml\n",
      "/Users/worshamn/Documents/emailProject/InvestigateFix [Phish Alert] FW- Intake Invoice & Contract - FinancialAgreement.pdf.eml\n",
      "/Users/worshamn/Documents/emailProject/InvestigateFix [Phish Alert] FW- Important Notice.eml\n",
      "/Users/worshamn/Documents/emailProject/InvestigateFix [Phish Alert] FW- Tracking Number 0QV56710814707164.eml\n",
      "/Users/worshamn/Documents/emailProject/InvestigateFix [Phish Alert] FW- Voice message from Wireless Caller (360)-474-9405.eml\n",
      "/Users/worshamn/Documents/emailProject/InvestigateFix [Phish Alert] FW- Signed Agreement From- Cindy Rubino, CPA.eml\n",
      "/Users/worshamn/Documents/emailProject/InvestigateFix [Phish Alert] FW- Incoming call from 949-795-1577.eml\n",
      "/Users/worshamn/Documents/emailProject/InvestigateFix [Phish Alert] FW- UPS Express Domestic 2.eml\n",
      "/Users/worshamn/Documents/emailProject/InvestigateFix [Phish Alert] FW- May all your wishes come true this Christmas.eml\n",
      "/Users/worshamn/Documents/emailProject/InvestigateFix [Phish Alert] FW- Your recent payment notification to Oti Herrera.eml\n",
      "/Users/worshamn/Documents/emailProject/InvestigateFix [Phish Alert] FW- Payment with a new   address.eml\n",
      "/Users/worshamn/Documents/emailProject/InvestigateFix [Phish Alert] FW- Your document Receipt 36276 for jennifer.loucks is ready for signature!.eml\n",
      "/Users/worshamn/Documents/emailProject/InvestigateFix [Phish Alert] FW- Su estado de cuenta mensual ya está disponible para su revisión.eml\n",
      "/Users/worshamn/Documents/emailProject/InvestigateFix [Phish Alert] FW- Invoice due, number 3661471-XSIW#RLXB-2017 (15 Nov 17).eml\n",
      "/Users/worshamn/Documents/emailProject/InvestigateFix [Phish Alert] FW- Past Due Invoices 2.eml\n",
      "/Users/worshamn/Documents/emailProject/InvestigateFix [Phish Alert] FW- [Spam] Email Account Closure Alert!!  2018-04-05  07-53-11.eml\n",
      "/Users/worshamn/Documents/emailProject/InvestigateFix [Phish Alert] FW- Statement from  jeff@wiainsurance.com.eml\n",
      "/Users/worshamn/Documents/emailProject/InvestigateFix [Phish Alert] FW- UPS Ship Notification, Tracking Number 6MS71996919975781.eml\n",
      "/Users/worshamn/Documents/emailProject/InvestigateFix [Phish Alert] FW- New Documents Survey For Your Review.eml\n",
      "/Users/worshamn/Documents/emailProject/InvestigateFix [Phish Alert] FW- FWD rhonda.isham.eml\n",
      "/Users/worshamn/Documents/emailProject/InvestigateFix [Phish Alert] FW- Payment email from Sighted.eml\n",
      "/Users/worshamn/Documents/emailProject/InvestigateFix [Phish Alert] FW- iPhone X pre-order.eml\n",
      "/Users/worshamn/Documents/emailProject/InvestigateFix [Phish Alert] FW- Hi,.eml\n",
      "/Users/worshamn/Documents/emailProject/InvestigateFix [Phish Alert] FW- [Spam] Agreement document for david.wilbanks@pinnacol.com.eml\n",
      "/Users/worshamn/Documents/emailProject/InvestigateFix [Phish Alert] FW- Verification Notice.eml\n",
      "/Users/worshamn/Documents/emailProject/InvestigateFix [Phish Alert] FW- Invoice notification from Sighted Invoices.eml\n",
      "/Users/worshamn/Documents/emailProject/InvestigateFix [Phish Alert] FW- #9947976789 Invoice secondary Notice.eml\n",
      "/Users/worshamn/Documents/emailProject/InvestigateFix [Phish Alert] FW- SPECIAL NOTICE.eml\n",
      "/Users/worshamn/Documents/emailProject/InvestigateFix [Phish Alert] FW- Client- 44, Oct 2017 Invoice.eml\n",
      "/Users/worshamn/Documents/emailProject/InvestigateFix [Phish Alert] FW- Re - [ Update Subscription Payment ] Your subscription payment is indicative of fraud [ Status Paid] 30 May 2018.eml\n",
      "/Users/worshamn/Documents/emailProject/InvestigateFix [Phish Alert] FW- Urgent Doc[1].eml\n",
      "/Users/worshamn/Documents/emailProject/InvestigateFix [Phish Alert] FW- Re-FYI.eml\n",
      "/Users/worshamn/Documents/emailProject/InvestigateFix [Phish Alert] FW- UPS Ship Notification, Tracking Number 9OM11956415932320.eml\n",
      "/Users/worshamn/Documents/emailProject/InvestigateFix [Phish Alert] FW- Your сolleсtion is very interesting.eml\n",
      "/Users/worshamn/Documents/emailProject/InvestigateFix [Phish Alert] FW- [Spam] Your recent Bankofamerica payment notification to Jennifer Loucks.eml\n",
      "/Users/worshamn/Documents/emailProject/InvestigateFix [Phish Alert] FW- RE-Request.eml\n"
     ]
    },
    {
     "name": "stdout",
     "output_type": "stream",
     "text": [
      "/Users/worshamn/Documents/emailProject/InvestigateFix [Phish Alert] FW- Wire Transfer.eml\n",
      "/Users/worshamn/Documents/emailProject/InvestigateFix [Phish Alert] FW- Invoice for l-a 02-22-2018.eml\n",
      "/Users/worshamn/Documents/emailProject/InvestigateFix [Phish Alert] FW- Wish you a Merry Christmas!.eml\n",
      "/Users/worshamn/Documents/emailProject/InvestigateFix [Phish Alert] FW- Have a wonderful Christmas and a joyous New Year!.eml\n",
      "/Users/worshamn/Documents/emailProject/InvestigateFix [Phish Alert] FW- CUST. OBD-66-41275 Rodney Cole.eml\n",
      "/Users/worshamn/Documents/emailProject/InvestigateFix [Phish Alert] FW- Pat due invoice notification.eml\n",
      "/Users/worshamn/Documents/emailProject/InvestigateFix [Phish Alert] FW- Completed- Please DocuSign these documents.eml\n",
      "/Users/worshamn/Documents/emailProject/InvestigateFix [Phish Alert] FW- Invoice number 22028027-LFYJ#WDBB-2017 (27 Nov 17) Notification.eml\n",
      "/Users/worshamn/Documents/emailProject/InvestigateFix [Phish Alert] FW- Inbound- 5 new.eml\n",
      "/Users/worshamn/Documents/emailProject/InvestigateFix [Phish Alert] FW- Past due invoice .eml\n",
      "/Users/worshamn/Documents/emailProject/InvestigateFix [Phish Alert] FW- Invoice # 530522431 Problem.eml\n",
      "/Users/worshamn/Documents/emailProject/InvestigateFix [Phish Alert] FW- UPS Ship Notification, Tracking Number 2U51525393363758.eml\n",
      "/Users/worshamn/Documents/emailProject/InvestigateFix [Phish Alert] FW- Newly signed Project invitation - please view proposal-.eml\n",
      "/Users/worshamn/Documents/emailProject/InvestigateFix [Phish Alert] FW- Your document is signed.eml\n",
      "/Users/worshamn/Documents/emailProject/InvestigateFix [Phish Alert] FW- Fax Received- CSID- K7V 6B3 1910 CID- 90643249844.eml\n",
      "/Users/worshamn/Documents/emailProject/InvestigateFix [Phish Alert] FW- Preview Secured Message!.eml\n",
      "/Users/worshamn/Documents/emailProject/InvestigateFix [Phish Alert] FW- Syncing Error - (4) Incoming failed mails..eml\n",
      "/Users/worshamn/Documents/emailProject/InvestigateFix [Phish Alert] FW- _INV#00044901.eml\n",
      "/Users/worshamn/Documents/emailProject/InvestigateFix [Phish Alert] FW- Delivery complete for parcel # 30726375.eml\n",
      "/Users/worshamn/Documents/emailProject/InvestigateFix [Phish Alert] FW- Hope all your Christmas dreams come true!.eml\n",
      "/Users/worshamn/Documents/emailProject/InvestigateFix [Phish Alert] FW- Payment issue 2.eml\n",
      "/Users/worshamn/Documents/emailProject/InvestigateFix [Phish Alert] FW- UPS Ship Notification, Tracking Number 0RRN19486604712021.eml\n",
      "/Users/worshamn/Documents/emailProject/InvestigateFix [Phish Alert] FW- Voice message from WIRELESS CALLER +1 718-963-4062).eml\n",
      "/Users/worshamn/Documents/emailProject/InvestigateFix [Phish Alert] FW- Ren Hart used Dropbox to share a folder with you.eml\n",
      "/Users/worshamn/Documents/emailProject/InvestigateFix [Phish Alert] FW- Paypal Receipt.eml\n",
      "/Users/worshamn/Documents/emailProject/InvestigateFix [Phish Alert] FW- kantonena@mediastrom.gr has shared a document on SharePoint Online..eml\n",
      "/Users/worshamn/Documents/emailProject/InvestigateFix [Phish Alert] FW- Proposal - Kuhn Construction .eml\n",
      "/Users/worshamn/Documents/emailProject/InvestigateFix [Phish Alert] FW- My Email.eml\n",
      "/Users/worshamn/Documents/emailProject/InvestigateFix [Phish Alert] FW- ACCOUNT#54423751-Linda Grivich.eml\n",
      "/Users/worshamn/Documents/emailProject/InvestigateFix [Phish Alert] FW- Prisicla Flores Virus at your device ID qTq6G.eml\n",
      "/Users/worshamn/Documents/emailProject/InvestigateFix [Phish Alert] FW- Invoice[3].eml\n",
      "/Users/worshamn/Documents/emailProject/InvestigateFix [Phish Alert] FW- Re-[1] 2.eml\n",
      "/Users/worshamn/Documents/emailProject/InvestigateFix [Phish Alert] FW- secure- Attached Image.eml\n",
      "/Users/worshamn/Documents/emailProject/InvestigateFix [Phish Alert] FW- Management Update.eml\n",
      "/Users/worshamn/Documents/emailProject/InvestigateFix [Phish Alert] FW- Incriminating content ID FCi2YElU....eml\n",
      "/Users/worshamn/Documents/emailProject/InvestigateFix [Phish Alert] FW- Front Range Telecom, LLC IMG_ PO 12042017.eml\n",
      "/Users/worshamn/Documents/emailProject/InvestigateFix [Phish Alert] FW- -𝐈𝐦𝐩𝐨𝐫𝐭𝐚𝐧𝐭 𝐒̇𝐞𝐜𝐮𝐫𝐢𝐭𝐲 𝐭𝐨 𝐲𝐨𝐮𝐫 𝐀̉𝐜𝐜𝐨𝐮𝐧𝐭❗.eml\n",
      "/Users/worshamn/Documents/emailProject/InvestigateFix [Phish Alert] FW- PR.eml\n",
      "/Users/worshamn/Documents/emailProject/InvestigateFix [Phish Alert] FW- C2c-443655.eml\n",
      "/Users/worshamn/Documents/emailProject/InvestigateFix [Phish Alert] FW- Invoice Number 235864.eml\n",
      "/Users/worshamn/Documents/emailProject/InvestigateFix [Phish Alert] FW- Signed Agreement From- The Leyden Group.eml\n",
      "/Users/worshamn/Documents/emailProject/InvestigateFix [Phish Alert] FW- Do you need to generate more engagement on social media.eml\n",
      "/Users/worshamn/Documents/emailProject/InvestigateFix [Phish Alert] FW- Radianlightingservices Review..eml\n",
      "/Users/worshamn/Documents/emailProject/InvestigateFix [Phish Alert] FW- Proposal.eml\n",
      "/Users/worshamn/Documents/emailProject/InvestigateFix [Phish Alert] FW- Payment and address..eml\n",
      "/Users/worshamn/Documents/emailProject/InvestigateFix [Phish Alert] FW- Invoice# 5410331.eml\n",
      "/Users/worshamn/Documents/emailProject/InvestigateFix [Phish Alert] FW- FYI.eml\n",
      "/Users/worshamn/Documents/emailProject/InvestigateFix [Phish Alert] FW- Re-[7].eml\n",
      "/Users/worshamn/Documents/emailProject/InvestigateFix [Phish Alert] FW- The document.eml\n",
      "/Users/worshamn/Documents/emailProject/InvestigateFix [Phish Alert] FW- UPS Ship Notification, Tracking Number 8L98420888229798.eml\n",
      "/Users/worshamn/Documents/emailProject/InvestigateFix [Phish Alert] FW- Fay.eml\n",
      "/Users/worshamn/Documents/emailProject/InvestigateFix [Phish Alert] FW- A New DocuSign Message From Stephanie Murphy..eml\n",
      "/Users/worshamn/Documents/emailProject/InvestigateFix [Phish Alert] FW- You have a new Encrypted Document.eml\n",
      "/Users/worshamn/Documents/emailProject/InvestigateFix [Phish Alert] FW- PAC Invoice CD99133732.eml\n",
      "/Users/worshamn/Documents/emailProject/InvestigateFix [Phish Alert] FW- invoices 66044 & 4252.eml\n",
      "/Users/worshamn/Documents/emailProject/InvestigateFix [Phish Alert] FW- New payment notification.eml\n",
      "/Users/worshamn/Documents/emailProject/InvestigateFix [Phish Alert] FW- FinWise Bank-4-06-2018.eml\n",
      "/Users/worshamn/Documents/emailProject/InvestigateFix [Phish Alert] FW- Latest invoice with a new address to update.eml\n",
      "/Users/worshamn/Documents/emailProject/InvestigateFix [Phish Alert] FW- Please send copy invoice.eml\n",
      "/Users/worshamn/Documents/emailProject/InvestigateFix [Phish Alert] FW- UPS Ship Notification, Tracking Number 8PEO80268803644920.eml\n",
      "/Users/worshamn/Documents/emailProject/InvestigateFix [Phish Alert] FW- Invoice 265720 from Don Losasso.eml\n",
      "/Users/worshamn/Documents/emailProject/InvestigateFix [Phish Alert] FW- A New DocuSign Message From David D. Robinson..eml\n",
      "/Users/worshamn/Documents/emailProject/InvestigateFix [Phish Alert] FW- new message.eml\n",
      "/Users/worshamn/Documents/emailProject/InvestigateFix [Phish Alert] FW- Hansen Construction,Inc-02-20-2018.eml\n",
      "/Users/worshamn/Documents/emailProject/InvestigateFix [Phish Alert] FW- Latest payment.eml\n",
      "/Users/worshamn/Documents/emailProject/InvestigateFix [Phish Alert] FW- You have new Google Doc message.eml\n",
      "/Users/worshamn/Documents/emailProject/InvestigateFix [Phish Alert] FW- Nanci Sweet shared Dropbox file with you.eml\n",
      "/Users/worshamn/Documents/emailProject/InvestigateFix [Phish Alert] FW- AccuSystems LLC Report.eml\n",
      "/Users/worshamn/Documents/emailProject/InvestigateFix [Phish Alert] FW- Confidential- FYI.eml\n",
      "/Users/worshamn/Documents/emailProject/InvestigateFix [Phish Alert] FW- Remittance #49170.eml\n",
      "/Users/worshamn/Documents/emailProject/InvestigateFix [Phish Alert] FW- FWD tom.peters.eml\n",
      "/Users/worshamn/Documents/emailProject/InvestigateFix [Phish Alert] FW- Acknowledgement KNF-82-02981 Linda Grivich.eml\n",
      "/Users/worshamn/Documents/emailProject/InvestigateFix [Phish Alert] FW- Payment Remittance Advice.eml\n",
      "/Users/worshamn/Documents/emailProject/InvestigateFix [Phish Alert] FW- Address Update.eml\n",
      "/Users/worshamn/Documents/emailProject/InvestigateFix [Phish Alert] FW- Re-[6].eml\n",
      "/Users/worshamn/Documents/emailProject/InvestigateFix [Phish Alert] FW- Invoice number 46824477441 second Notification.eml\n",
      "/Users/worshamn/Documents/emailProject/InvestigateFix [Phish Alert] FW- Your files were sent successfully to dgassaway@johnson.motosnap.com and 97 others.eml\n",
      "/Users/worshamn/Documents/emailProject/InvestigateFix [Phish Alert] FW- Case-079964727249-439.eml\n",
      "/Users/worshamn/Documents/emailProject/InvestigateFix [Phish Alert] FW- .eml\n",
      "/Users/worshamn/Documents/emailProject/InvestigateFix [Phish Alert] FW- Re-.eml\n",
      "/Users/worshamn/Documents/emailProject/InvestigateFix [Phish Alert] FW- IMPORTANT document [1].eml\n",
      "/Users/worshamn/Documents/emailProject/InvestigateFix [Phish Alert] FW- Payment[1].eml\n",
      "/Users/worshamn/Documents/emailProject/InvestigateFix [Phish Alert] FW- Sales Receipt from Graciela Nevarez .eml\n",
      "/Users/worshamn/Documents/emailProject/InvestigateFix [Phish Alert] FW- Kristi Hada INV #246792 FOR PO #1954738885.eml\n",
      "/Users/worshamn/Documents/emailProject/InvestigateFix [Phish Alert] FW- Transfer Done.eml\n",
      "/Users/worshamn/Documents/emailProject/InvestigateFix [Phish Alert] FW- I shared INVOICE OVERDUE.docx with you in OneDrive.eml\n",
      "/Users/worshamn/Documents/emailProject/InvestigateFix [Phish Alert] FW- [EXT] Payment status.eml\n",
      "/Users/worshamn/Documents/emailProject/InvestigateFix [Phish Alert] FW- Payment to .eml\n",
      "/Users/worshamn/Documents/emailProject/InvestigateFix [Phish Alert] FW- Invoice- 0955202-QXI#KPI-2017 (28 Nov 17).eml\n",
      "/Users/worshamn/Documents/emailProject/InvestigateFix [Phish Alert] FW- IMPORTANT - William Olberding  Invitation to view..eml\n"
     ]
    },
    {
     "name": "stdout",
     "output_type": "stream",
     "text": [
      "/Users/worshamn/Documents/emailProject/InvestigateFix [Phish Alert] FW- Payment.eml\n",
      "/Users/worshamn/Documents/emailProject/InvestigateFix [Phish Alert] FW- Scanned document received from Dropbox User.eml\n",
      "/Users/worshamn/Documents/emailProject/InvestigateFix [Phish Alert] FW- Rechnung IIS - 637-LMK2956  .eml\n",
      "/Users/worshamn/Documents/emailProject/InvestigateFix [Phish Alert] FW- Invoice[2].eml\n",
      "/Users/worshamn/Documents/emailProject/InvestigateFix [Phish Alert] FW- thy.nguyen@pinnacol.com Be careful! malicious software ID a5iQmYe1e.eml\n",
      "/Users/worshamn/Documents/emailProject/InvestigateFix [Phish Alert] FW- Your new Chase payment notice.eml\n",
      "/Users/worshamn/Documents/emailProject/InvestigateFix [Phish Alert] FW- PAYMENT EAA-90-22623  .eml\n",
      "/Users/worshamn/Documents/emailProject/InvestigateFix [Phish Alert] FW- ICBC Payment Remittance.eml\n",
      "/Users/worshamn/Documents/emailProject/InvestigateFix [Phish Alert] FW- File shared 11-21-2017 on behalf of Kim Willoughby.eml\n",
      "/Users/worshamn/Documents/emailProject/InvestigateFix [Phish Alert] FW- Wrong Invoice   Address.eml\n",
      "/Users/worshamn/Documents/emailProject/InvestigateFix [Phish Alert] FW- Scanned Document - (Past due Invoice-083821.Pdf & Contract_Agreements.PDF).eml\n",
      "/Users/worshamn/Documents/emailProject/InvestigateFix [Phish Alert] FW- [SPAM] New payment notification.eml\n",
      "/Users/worshamn/Documents/emailProject/InvestigateFix [Phish Alert] FW- UPS Shipment Notification[2].eml\n",
      "/Users/worshamn/Documents/emailProject/InvestigateFix [Phish Alert] FW- Division6.4 LLC share a document Via DOCUSIGN.eml\n",
      "/Users/worshamn/Documents/emailProject/InvestigateFix [Phish Alert] FW- Office 365 Suspension.eml\n",
      "/Users/worshamn/Documents/emailProject/InvestigateFix [Phish Alert] FW- Past due Invoice 694630161.eml\n",
      "/Users/worshamn/Documents/emailProject/InvestigateFix [Phish Alert] FW- Rechnung 11-2017 913773856.eml\n",
      "/Users/worshamn/Documents/emailProject/InvestigateFix [Phish Alert] FW- WeI have a footage of you milking your dog, you will be excited.eml\n",
      "/Users/worshamn/Documents/emailProject/InvestigateFix [Phish Alert] FW- Recognition Concepts Contract.eml\n",
      "/Users/worshamn/Documents/emailProject/InvestigateFix [Phish Alert] FW- You Have Received New Invoice Document.eml\n",
      "/Users/worshamn/Documents/emailProject/InvestigateFix [Phish Alert] FW- Office-365 Team.eml\n",
      "/Users/worshamn/Documents/emailProject/InvestigateFix [Phish Alert] FW- Invoice reminder.eml\n",
      "/Users/worshamn/Documents/emailProject/InvestigateFix [Phish Alert] FW- DHL-Delivery-Order Order Total 67868.45$ G#34769 Sub-Confirmation #February 26, 2018, .eml\n",
      "/Users/worshamn/Documents/emailProject/InvestigateFix [Phish Alert] FW- Rechnungs-Details.eml\n",
      "/Users/worshamn/Documents/emailProject/InvestigateFix [Phish Alert] FW- pinnacol.com accounting statements.eml\n",
      "/Users/worshamn/Documents/emailProject/InvestigateFix [Phish Alert] FW- Request.eml\n",
      "/Users/worshamn/Documents/emailProject/InvestigateFix [Phish Alert] FW- Urgent Review.eml\n",
      "/Users/worshamn/Documents/emailProject/InvestigateFix [Phish Alert] FW- Hada, Kristi invoice is available.eml\n",
      "/Users/worshamn/Documents/emailProject/InvestigateFix [Phish Alert] FW- HDaero - Review File For Our New Project.eml\n",
      "/Users/worshamn/Documents/emailProject/InvestigateFix [Phish Alert] FW- (Thread-1740264).eml\n",
      "/Users/worshamn/Documents/emailProject/InvestigateFix [Phish Alert] FW- UPS Ship Notification, Tracking Number 5WQ11330612397664.eml\n",
      "/Users/worshamn/Documents/emailProject/InvestigateFix [Phish Alert] FW- 28-09HSBC Confirmation slip.eml\n",
      "/Users/worshamn/Documents/emailProject/InvestigateFix [Phish Alert] FW- Andy Jessen Paypal Receipt.eml\n",
      "/Users/worshamn/Documents/emailProject/InvestigateFix [Phish Alert] FW- INVOICE STATUS.eml\n",
      "/Users/worshamn/Documents/emailProject/InvestigateFix [Phish Alert] FW- Scan 62894016185 Loni Bennett.eml\n",
      "/Users/worshamn/Documents/emailProject/InvestigateFix [Phish Alert] FW- Statement from  andy.j@pateconcreteinc.com.eml\n",
      "/Users/worshamn/Documents/emailProject/InvestigateFix [Phish Alert] FW- Please Review Listing.eml\n",
      "/Users/worshamn/Documents/emailProject/InvestigateFix [Phish Alert] FW- All the best in Coming Year!.eml\n",
      "/Users/worshamn/Documents/emailProject/InvestigateFix [Phish Alert] FW- Validate Your LinkedIn Account.eml\n",
      "/Users/worshamn/Documents/emailProject/InvestigateFix [Phish Alert] FW- Payment problem.eml\n",
      "/Users/worshamn/Documents/emailProject/InvestigateFix [Phish Alert] FW- Address and payment info.eml\n",
      "/Users/worshamn/Documents/emailProject/InvestigateFix [Phish Alert] FW- Invoice[1].eml\n",
      "/Users/worshamn/Documents/emailProject/InvestigateFix [Phish Alert] FW- Payment on Invoices CI-02-65736 .eml\n",
      "/Users/worshamn/Documents/emailProject/InvestigateFix [Phish Alert] FW- Wire transfer info.eml\n",
      "/Users/worshamn/Documents/emailProject/InvestigateFix [Phish Alert] FW- UPS Shipment Notification[1].eml\n",
      "/Users/worshamn/Documents/emailProject/InvestigateFix [Phish Alert] FW- Jim sent you an Important message.eml\n",
      "/Users/worshamn/Documents/emailProject/InvestigateFix [Phish Alert] FW- Payment issue.eml\n",
      "/Users/worshamn/Documents/emailProject/InvestigateFix [Phish Alert] FW- INVOICE # YH-0808896175601.eml\n",
      "/Users/worshamn/Documents/emailProject/InvestigateFix [Phish Alert] FW- Email.eml\n",
      "/Users/worshamn/Documents/emailProject/InvestigateFix [Phish Alert] FW- Kami Thompson Receipt.eml\n",
      "/Users/worshamn/Documents/emailProject/InvestigateFix [Phish Alert] FW- Pending Invoice.eml\n",
      "/Users/worshamn/Documents/emailProject/InvestigateFix [Phish Alert] FW- Ihre Rechnung von .eml\n",
      "/Users/worshamn/Documents/emailProject/InvestigateFix [Phish Alert] FW- FW- bill for september.eml\n",
      "/Users/worshamn/Documents/emailProject/InvestigateFix [Phish Alert] FW- ORDER. NX-20-05020 Linda Grivich.eml\n",
      "/Users/worshamn/Documents/emailProject/InvestigateFix [Phish Alert] FW- Customer Invoice NK 11156054.eml\n",
      "/Users/worshamn/Documents/emailProject/InvestigateFix [Phish Alert] FW- DHL Express Domestic. Monday, 11-00-19-00 EST..eml\n",
      "/Users/worshamn/Documents/emailProject/InvestigateFix [Phish Alert] FW- Outstanding INVOICE NZMRE-267470-146 .eml\n",
      "/Users/worshamn/Documents/emailProject/InvestigateFix [Phish Alert] FW- Silambarasan A Paypal Receipt Notification.eml\n",
      "/Users/worshamn/Documents/emailProject/InvestigateFix [Phish Alert] FW- Invoice.eml\n",
      "/Users/worshamn/Documents/emailProject/InvestigateFix [Phish Alert] FW- UPS Invoice Notification.eml\n",
      "/Users/worshamn/Documents/emailProject/InvestigateFix [Phish Alert] FW- Tracking Number 5LI41205953805527.eml\n",
      "/Users/worshamn/Documents/emailProject/InvestigateFix [Phish Alert] FW- Invoice #06887914181.eml\n",
      "/Users/worshamn/Documents/emailProject/InvestigateFix [Phish Alert] FW- Email Account Closure Alert!!  2018-04-05  07-54-25.eml\n",
      "/Users/worshamn/Documents/emailProject/InvestigateFix [Phish Alert] FW- Invoice Confirmation 8154967.eml\n",
      "/Users/worshamn/Documents/emailProject/InvestigateFix [Phish Alert] FW- Hi.eml\n",
      "/Users/worshamn/Documents/emailProject/InvestigateFix [Phish Alert] FW- Hector Vance.eml\n",
      "/Users/worshamn/Documents/emailProject/InvestigateFix [Phish Alert] FW- REMITTANCE ADVICE.eml\n",
      "/Users/worshamn/Documents/emailProject/InvestigateFix [Phish Alert] FW- Auditor of State - Notification of EFT Deposit.eml\n",
      "/Users/worshamn/Documents/emailProject/InvestigateFix [Phish Alert] FW- Re-[5].eml\n",
      "/Users/worshamn/Documents/emailProject/InvestigateFix [Phish Alert] FW- Great Holidays!.eml\n",
      "/Users/worshamn/Documents/emailProject/InvestigateFix [Phish Alert] FW- lsauer@legacyhc.com Sent you files via WeTransfer.eml\n",
      "/Users/worshamn/Documents/emailProject/InvestigateFix [Phish Alert] FW- Re amy.newton.eml\n",
      "/Users/worshamn/Documents/emailProject/InvestigateFix [Phish Alert] FW- RE- subpoena.eml\n",
      "/Users/worshamn/Documents/emailProject/InvestigateFix [Phish Alert] FW- Failed invoice notice.eml\n",
      "/Users/worshamn/Documents/emailProject/InvestigateFix [Phish Alert] FW- Outstanding INVOICE HXUSF-758522-9750.eml\n",
      "/Users/worshamn/Documents/emailProject/InvestigateFix [Phish Alert] FW- Invoice Corrections for #93-56.eml\n",
      "/Users/worshamn/Documents/emailProject/InvestigateFix [Phish Alert] FW- [Spam] UPS Delivery Notification, Tracking Number 1Z9R140W0358552191.eml\n",
      "/Users/worshamn/Documents/emailProject/InvestigateFix [Phish Alert] FW- ACTION REQUIRED.eml\n",
      "/Users/worshamn/Documents/emailProject/InvestigateFix [Phish Alert] FW- UPS Invoice Notification[1].eml\n",
      "/Users/worshamn/Documents/emailProject/InvestigateFix [Phish Alert] FW- Review Document.eml\n"
     ]
    },
    {
     "name": "stdout",
     "output_type": "stream",
     "text": [
      "/Users/worshamn/Documents/emailProject/InvestigateFix [Phish Alert] FW- loni.bennett.eml\n",
      "/Users/worshamn/Documents/emailProject/InvestigateFix [Phish Alert] FW- Important document notice..eml\n",
      "/Users/worshamn/Documents/emailProject/InvestigateFix [Phish Alert] FW- Molly Lockhart shared a file with you.eml\n",
      "/Users/worshamn/Documents/emailProject/InvestigateFix [Phish Alert] FW- Invoices Overdue.eml\n",
      "/Users/worshamn/Documents/emailProject/InvestigateFix [Phish Alert] FW- Autumn Hernandez.eml\n",
      "/Users/worshamn/Documents/emailProject/InvestigateFix [Phish Alert] FW- Unable to process disbursement due to missing bank account information.eml\n",
      "/Users/worshamn/Documents/emailProject/InvestigateFix [Phish Alert] FW- Re-[4].eml\n",
      "/Users/worshamn/Documents/emailProject/InvestigateFix [Phish Alert] FW- Contract Agreement-Investment Forecast.eml\n",
      "/Users/worshamn/Documents/emailProject/InvestigateFix [Phish Alert] FW- Information.eml\n",
      "/Users/worshamn/Documents/emailProject/InvestigateFix [Phish Alert] FW- PayPal Reminder.eml\n",
      "/Users/worshamn/Documents/emailProject/InvestigateFix [Phish Alert] FW- Tracking Number 5OX66928867835423.eml\n",
      "/Users/worshamn/Documents/emailProject/InvestigateFix [Phish Alert] FW- INVOICE STATUS[1].eml\n",
      "/Users/worshamn/Documents/emailProject/InvestigateFix [Phish Alert] FW- Explicit Content- For men over 30 ONLY!.eml\n",
      "/Users/worshamn/Documents/emailProject/InvestigateFix [Phish Alert] FW- The amount of your's fee for confirmation.eml\n",
      "/Users/worshamn/Documents/emailProject/InvestigateFix [Phish Alert] FW- Invoice Problem.eml\n",
      "/Users/worshamn/Documents/emailProject/InvestigateFix [Phish Alert] FW- Business Opportunity.eml\n",
      "/Users/worshamn/Documents/emailProject/InvestigateFix [Phish Alert] FW- Case-46199316665-157.eml\n",
      "/Users/worshamn/Documents/emailProject/InvestigateFix [Phish Alert] FW- New Document.eml\n",
      "/Users/worshamn/Documents/emailProject/InvestigateFix [Phish Alert] FW- Payment notice for invoice #1647302.eml\n",
      "/Users/worshamn/Documents/emailProject/InvestigateFix [Phish Alert] FW- Recent payment notification to Carol Rusten.eml\n",
      "/Users/worshamn/Documents/emailProject/InvestigateFix [Phish Alert] FW- UPS Express Domestic.eml\n",
      "/Users/worshamn/Documents/emailProject/InvestigateFix [Phish Alert] FW- Yоu hаvе thе tаlеnt tо роsе fоr thе саmеrа, dоn't bе nеrvоus..eml\n",
      "/Users/worshamn/Documents/emailProject/InvestigateFix [Phish Alert] FW- Coseco Invoice IR1-52583.eml\n",
      "/Users/worshamn/Documents/emailProject/InvestigateFix [Phish Alert] FW- IMPORTANT MAIL.eml\n",
      "/Users/worshamn/Documents/emailProject/InvestigateFix [Phish Alert] FW- Pay Invoice.eml\n",
      "/Users/worshamn/Documents/emailProject/InvestigateFix [Phish Alert] FW- Invoice #9066829 from Lori Whitesides.eml\n",
      "/Users/worshamn/Documents/emailProject/InvestigateFix [Phish Alert] FW- [Spam] IMPORTANT - William Olberding  Invitation to view..eml\n",
      "/Users/worshamn/Documents/emailProject/InvestigateFix [Phish Alert] FW- Ref Confidential- РDF-#Invoice-501151354-0001..eml\n",
      "/Users/worshamn/Documents/emailProject/InvestigateFix [Phish Alert] FW- Emailing2018-04-17-4dfb-4c20-8d32-cw58eb31eda6.eml\n",
      "/Users/worshamn/Documents/emailProject/InvestigateFix [Phish Alert] FW- May Service and Support Invoice.eml\n",
      "/Users/worshamn/Documents/emailProject/InvestigateFix [Phish Alert] FW- Problem with an invoice.eml\n",
      "/Users/worshamn/Documents/emailProject/InvestigateFix [Phish Alert] FW- Invoice #33283473-IJD#ALONQ-2017 (14 Nov 17).eml\n",
      "/Users/worshamn/Documents/emailProject/InvestigateFix [Phish Alert] FW- [Spam] 907-64-653485-982-907-64-653485-891.eml\n",
      "/Users/worshamn/Documents/emailProject/InvestigateFix [Phish Alert] FW- Updated Invitation 2018.eml\n",
      "/Users/worshamn/Documents/emailProject/InvestigateFix [Phish Alert] FW- Invoice #46816850.eml\n",
      "/Users/worshamn/Documents/emailProject/InvestigateFix [Phish Alert] FW- [Spam] Seperate Remittance Advice Layout - paper document A4.eml\n",
      "/Users/worshamn/Documents/emailProject/InvestigateFix [Phish Alert] FW- Direct Deposit Notice.eml\n",
      "/Users/worshamn/Documents/emailProject/InvestigateFix [Phish Alert] FW- Emailing- P657781GU 92719, Y467682AU 549856, N05928QT 926645, N44728DR 92572, R761865ER 288999.eml\n",
      "/Users/worshamn/Documents/emailProject/InvestigateFix [Phish Alert] FW- Invoice #156870-FUO#NRKCZ-2017 (DATE-21 Sep 17) Message.eml\n",
      "/Users/worshamn/Documents/emailProject/InvestigateFix [Phish Alert] FW- Your mailbox kathy.kranz@pinnacol.com.eml\n",
      "/Users/worshamn/Documents/emailProject/InvestigateFix [Phish Alert] FW- Zunge abgeschnitten hatte durch den furchtbaren Schreck den sie nie.eml\n",
      "/Users/worshamn/Documents/emailProject/InvestigateFix [Phish Alert] FW- UPS Ship Notification, Tracking Number 1TN11665379600151.eml\n",
      "/Users/worshamn/Documents/emailProject/InvestigateFix [Phish Alert] FW- Terrible.eml\n",
      "/Users/worshamn/Documents/emailProject/InvestigateFix [Phish Alert] FW- Clementine Gray.eml\n",
      "/Users/worshamn/Documents/emailProject/InvestigateFix [Phish Alert] FW- Jenny Kagarise  - Inv. 5599323445.eml\n",
      "/Users/worshamn/Documents/emailProject/InvestigateFix [Phish Alert] FW- Invoice- 998458487-DWQX#QYQ-2017 (17 Nov 17).eml\n",
      "/Users/worshamn/Documents/emailProject/InvestigateFix [Phish Alert] FW- 615835563.eml\n",
      "/Users/worshamn/Documents/emailProject/InvestigateFix [Phish Alert] FW- CMCA- Please Review.eml\n",
      "/Users/worshamn/Documents/emailProject/InvestigateFix [Phish Alert] FW- Новости магазина.eml\n",
      "/Users/worshamn/Documents/emailProject/InvestigateFix [Phish Alert] FW- Settlement Statement.eml\n",
      "/Users/worshamn/Documents/emailProject/InvestigateFix [Phish Alert] FW- Reconstructcolorado-01-19-2018.eml\n",
      "/Users/worshamn/Documents/emailProject/InvestigateFix [Phish Alert] FW- New Address.eml\n",
      "/Users/worshamn/Documents/emailProject/InvestigateFix [Phish Alert] FW- Re-[3].eml\n",
      "/Users/worshamn/Documents/emailProject/InvestigateFix [Phish Alert] FW- Invoice issue.eml\n",
      "/Users/worshamn/Documents/emailProject/InvestigateFix [Phish Alert] FW- Invoice #082304164-EO#RMZ-2017 (Mar 15) Message.eml\n",
      "/Users/worshamn/Documents/emailProject/InvestigateFix [Phish Alert] FW- Signed offer letter.eml\n",
      "/Users/worshamn/Documents/emailProject/InvestigateFix [Phish Alert] FW- UPS Ship Notification, Tracking Number 0FPN86916144456728.eml\n",
      "/Users/worshamn/Documents/emailProject/InvestigateFix [Phish Alert] FW- Problem with the invoice # 86487.eml\n",
      "/Users/worshamn/Documents/emailProject/InvestigateFix [Phish Alert] FW- Due balance paid.eml\n",
      "/Users/worshamn/Documents/emailProject/InvestigateFix [Phish Alert] FW- Payment Request.eml\n",
      "/Users/worshamn/Documents/emailProject/InvestigateFix [Phish Alert] FW- Invoice number 97987393 second Notification.eml\n",
      "/Users/worshamn/Documents/emailProject/InvestigateFix [Phish Alert] FW- INVOICE DQA-78-28985  .eml\n",
      "/Users/worshamn/Documents/emailProject/InvestigateFix [Phish Alert] FW- cschultz@ironwomancon.com sent you files via WeTransfer.eml\n",
      "/Users/worshamn/Documents/emailProject/InvestigateFix [Phish Alert] FW- Paypal Receipt Reminder.eml\n",
      "/Users/worshamn/Documents/emailProject/InvestigateFix [Phish Alert] FW- Executed Confidential Review..eml\n",
      "/Users/worshamn/Documents/emailProject/InvestigateFix [Phish Alert] FW- You have a UPS Letter scheduled for delivery from IRS.GOV.eml\n",
      "/Users/worshamn/Documents/emailProject/InvestigateFix [Phish Alert] FW- IMPORTANT.eml\n",
      "/Users/worshamn/Documents/emailProject/InvestigateFix [Phish Alert] FW- Your new payment notice.eml\n",
      "/Users/worshamn/Documents/emailProject/InvestigateFix [Phish Alert] FW- Important document[1].eml\n",
      "/Users/worshamn/Documents/emailProject/InvestigateFix [Phish Alert] FW- Payment #655198672 issue.eml\n",
      "/Users/worshamn/Documents/emailProject/InvestigateFix [Phish Alert] FW- PDF-20180326171008.PDF.eml\n",
      "/Users/worshamn/Documents/emailProject/InvestigateFix [Phish Alert] FW- Alert.eml\n",
      "/Users/worshamn/Documents/emailProject/InvestigateFix [Phish Alert] FW- Your new Chase payment notice to Joselyn R. Varghese.eml\n",
      "/Users/worshamn/Documents/emailProject/InvestigateFix [Phish Alert] FW- Invoice # 94898 Problem 2.eml\n",
      "/Users/worshamn/Documents/emailProject/InvestigateFix [Phish Alert] FW- Due Invoice - ACH payment  remittance .eml\n",
      "/Users/worshamn/Documents/emailProject/InvestigateFix [Phish Alert] FW- Invoice number 4200374741 issue.eml\n",
      "/Users/worshamn/Documents/emailProject/InvestigateFix [Phish Alert] FW- Document.eml\n",
      "/Users/worshamn/Documents/emailProject/InvestigateFix [Phish Alert] FW- [Spam] Invoices.eml\n",
      "/Users/worshamn/Documents/emailProject/InvestigateFix [Phish Alert] FW- Invoice #8844 Message.eml\n",
      "/Users/worshamn/Documents/emailProject/InvestigateFix [Phish Alert] FW- E-fax received- JPMorgan Chase 2 page(s).eml\n",
      "/Users/worshamn/Documents/emailProject/InvestigateFix [Phish Alert] FW- Please confirm your Office365 account.eml\n",
      "/Users/worshamn/Documents/emailProject/InvestigateFix [Phish Alert] FW- Your mailbox is almost full..eml\n",
      "/Users/worshamn/Documents/emailProject/InvestigateFix [Phish Alert] FW- Sales Invoice.eml\n",
      "/Users/worshamn/Documents/emailProject/InvestigateFix [Phish Alert] FW- CURRENT STOCK LIST.eml\n",
      "/Users/worshamn/Documents/emailProject/InvestigateFix [Phish Alert] FW- FWD james.mcmillen.eml\n",
      "/Users/worshamn/Documents/emailProject/InvestigateFix [Phish Alert] FW- [Spam] You have 16 new quarantined messages!.eml\n",
      "/Users/worshamn/Documents/emailProject/InvestigateFix [Phish Alert] FW- Jesse shared 24-010.pdf with you.eml\n",
      "/Users/worshamn/Documents/emailProject/InvestigateFix [Phish Alert] FW- Please pull invoice 51211.eml\n"
     ]
    },
    {
     "name": "stdout",
     "output_type": "stream",
     "text": [
      "/Users/worshamn/Documents/emailProject/InvestigateFix [Phish Alert] FW- Scan data from MFP7298 HP ePrint user.eml\n",
      "/Users/worshamn/Documents/emailProject/InvestigateFix [Phish Alert] FW- Important Document   .eml\n",
      "/Users/worshamn/Documents/emailProject/InvestigateFix [Phish Alert] FW- Versandbestätigung und Rechnung - Bestellung 496632974.eml\n",
      "/Users/worshamn/Documents/emailProject/InvestigateFix [Phish Alert] FW- [Spam] UPS Invoice.eml\n",
      "/Users/worshamn/Documents/emailProject/InvestigateFix [Phish Alert] FW- Overdue payment.eml\n",
      "/Users/worshamn/Documents/emailProject/InvestigateFix [Phish Alert] FW- .eml\n",
      "/Users/worshamn/Documents/emailProject/InvestigateFix [Phish Alert] FW- Possible Spam - [EXT] Payment status.eml\n",
      "/Users/worshamn/Documents/emailProject/InvestigateFix [Phish Alert] FW- Invoice # 7338953249 Problem.eml\n",
      "/Users/worshamn/Documents/emailProject/InvestigateFix [Phish Alert] FW- C Fisher.eml\n",
      "/Users/worshamn/Documents/emailProject/InvestigateFix [Phish Alert] FW- Your Legally Binding Contract document is ready for signature!.eml\n",
      "/Users/worshamn/Documents/emailProject/InvestigateFix [Phish Alert] FW- [Spam] Invoice #00990339554.eml\n",
      "/Users/worshamn/Documents/emailProject/InvestigateFix [Phish Alert] FW- Cheryl Dyer.eml\n",
      "/Users/worshamn/Documents/emailProject/InvestigateFix [Phish Alert] FW- Incoming wireless message from +17323205192.eml\n",
      "/Users/worshamn/Documents/emailProject/InvestigateFix [Phish Alert] FW- Coloradohandandarm ( Teusday 27, 2018).eml\n",
      "/Users/worshamn/Documents/emailProject/InvestigateFix [Phish Alert] FW- Dylan Grant.eml\n",
      "/Users/worshamn/Documents/emailProject/InvestigateFix [Phish Alert] FW- Delivery Status Notification.eml\n",
      "/Users/worshamn/Documents/emailProject/InvestigateFix [Phish Alert] FW- Invoice PUJ #73722-AUL#YSML-2017 (21 Sep 17).eml\n",
      "/Users/worshamn/Documents/emailProject/InvestigateFix [Phish Alert] FW- 66925_whitepaperfivemusthavesinacloudfinancialmanagementsystemus.eml\n",
      "/Users/worshamn/Documents/emailProject/InvestigateFix [Phish Alert] FW- Question.eml\n",
      "/Users/worshamn/Documents/emailProject/InvestigateFix [Phish Alert] FW- Important Document 2.eml\n",
      "/Users/worshamn/Documents/emailProject/InvestigateFix [Phish Alert] FW- Email Verification.eml\n",
      "/Users/worshamn/Documents/emailProject/InvestigateFix [Phish Alert] FW- Your Invoice Is Attached - 0000125794.eml\n",
      "/Users/worshamn/Documents/emailProject/InvestigateFix [Phish Alert] FW- UPS Ship Notification, Tracking Number 7M01917345053585.eml\n",
      "/Users/worshamn/Documents/emailProject/InvestigateFix [Phish Alert] FW- Elaine Tracey Software virus on your gadget ID et8zt7Zbz3.eml\n",
      "/Users/worshamn/Documents/emailProject/InvestigateFix [Phish Alert] FW- Payroll Update.eml\n",
      "/Users/worshamn/Documents/emailProject/InvestigateFix [Phish Alert] FW- Record of Account Transcript from June 13, 2018.eml\n",
      "/Users/worshamn/Documents/emailProject/InvestigateFix [Phish Alert] FW- UPS Shipment Notification.eml\n",
      "/Users/worshamn/Documents/emailProject/InvestigateFix [Phish Alert] FW- Pay Invoice[1].eml\n",
      "/Users/worshamn/Documents/emailProject/InvestigateFix [Phish Alert] FW- Awaiting for your confirmation.eml\n",
      "/Users/worshamn/Documents/emailProject/InvestigateFix [Phish Alert] FW- Please pull invoice 969295.eml\n",
      "/Users/worshamn/Documents/emailProject/InvestigateFix [Phish Alert] FW- Investment...eml\n",
      "/Users/worshamn/Documents/emailProject/InvestigateFix [Phish Alert] FW- Your Walmart Order Confirmation - Order #57707.eml\n",
      "/Users/worshamn/Documents/emailProject/InvestigateFix [Phish Alert] FW- ACTION REQUIRED- Payment Approval.eml\n",
      "/Users/worshamn/Documents/emailProject/InvestigateFix [Phish Alert] FW- Re-[2].eml\n",
      "/Users/worshamn/Documents/emailProject/InvestigateFix [Phish Alert] FW- Wells Fargo Debit Card Deactivated.eml\n",
      "/Users/worshamn/Documents/emailProject/InvestigateFix [Phish Alert] FW- Incident-021500053435-26.eml\n",
      "/Users/worshamn/Documents/emailProject/InvestigateFix [Phish Alert] FW- Invoice for you.eml\n",
      "/Users/worshamn/Documents/emailProject/InvestigateFix [Phish Alert] FW- New Document available for your Commentary.eml\n",
      "/Users/worshamn/Documents/emailProject/InvestigateFix [Phish Alert] FW- Proposal[1].eml\n",
      "/Users/worshamn/Documents/emailProject/InvestigateFix [Phish Alert] FW- Invoice number 67895848033 issue.eml\n",
      "/Users/worshamn/Documents/emailProject/InvestigateFix [Phish Alert] FW- Invoice Due.eml\n",
      "/Users/worshamn/Documents/emailProject/InvestigateFix [Phish Alert] FW- Payment issue[1].eml\n",
      "/Users/worshamn/Documents/emailProject/InvestigateFix [Phish Alert] FW- Recent money transfer details.eml\n",
      "/Users/worshamn/Documents/emailProject/InvestigateFix [Phish Alert] FW- ShareFile Message From- Scott Houge.eml\n",
      "/Users/worshamn/Documents/emailProject/InvestigateFix [Phish Alert] FW- Invoice 31003023 Invoice date 061818 Order no. 85887475845.eml\n",
      "/Users/worshamn/Documents/emailProject/InvestigateFix [Phish Alert] FW- Ians Roofing sent a document to you.eml\n",
      "/Users/worshamn/Documents/emailProject/InvestigateFix [Phish Alert] FW- Purchases 2018.eml\n",
      "/Users/worshamn/Documents/emailProject/InvestigateFix [Phish Alert] FW- HRI Monthly Invoice.eml\n",
      "/Users/worshamn/Documents/emailProject/InvestigateFix [Phish Alert] FW- Invoice 13329 from Transpro.eml\n",
      "/Users/worshamn/Documents/emailProject/IgnoreFix [Phish Alert] FW- You appeared in 1 search this week.eml\n",
      "/Users/worshamn/Documents/emailProject/IgnoreFix [Phish Alert] FW- [Last Chance] See How Citco Delivers Modern Data Analytics.eml\n",
      "/Users/worshamn/Documents/emailProject/IgnoreFix [Phish Alert] FW- BBB News-Events-Scam Warnings.eml\n",
      "/Users/worshamn/Documents/emailProject/IgnoreFix [Phish Alert] FW- Pinnacol Assurance Online Reviews - See Them Now.eml\n",
      "/Users/worshamn/Documents/emailProject/IgnoreFix [Phish Alert] FW- Using Data Literacy to Build an Insights-Driven Culture.eml\n",
      "/Users/worshamn/Documents/emailProject/IgnoreFix [Phish Alert] FW- Cherwell Virtual Lunch & Learn –catered to your office.eml\n",
      "/Users/worshamn/Documents/emailProject/IgnoreFix [Phish Alert] FW- Your Complimentary Report - NEW 2017 Gartner Magic Quadrant for Data Center Backup and Recovery.eml\n",
      "/Users/worshamn/Documents/emailProject/IgnoreFix [Phish Alert] FW- Jim and RDX DBA Meeting.eml\n",
      "/Users/worshamn/Documents/emailProject/IgnoreFix [Phish Alert] FW- WEBINAR - Meeting Increased Worker’s Compensation Challenges Using NAVRISK VISION .eml\n",
      "/Users/worshamn/Documents/emailProject/IgnoreFix [Phish Alert] FW- October Squad Ghouls.eml\n",
      "/Users/worshamn/Documents/emailProject/IgnoreFix [Phish Alert] FW- You have no clue what your home is really worth.eml\n",
      "/Users/worshamn/Documents/emailProject/IgnoreFix [Phish Alert] FW- Free Trial Beauty Samples.eml\n",
      "/Users/worshamn/Documents/emailProject/IgnoreFix [Phish Alert] FW- President of Mortgage Operations - National Residential Builder, Major U.S. City.eml\n",
      "/Users/worshamn/Documents/emailProject/IgnoreFix [Phish Alert] FW- Received Fax From- 8622121038.eml\n",
      "/Users/worshamn/Documents/emailProject/IgnoreFix [Phish Alert] FW- Two sisters want you to try what they discovered for nothing.eml\n",
      "/Users/worshamn/Documents/emailProject/IgnoreFix [Phish Alert] FW- [Video] Roche cuts 5,500 printers and redeploys key staff.eml\n",
      "/Users/worshamn/Documents/emailProject/IgnoreFix [Phish Alert] FW- Refer your friends, Sonia.eml\n",
      "/Users/worshamn/Documents/emailProject/IgnoreFix [Phish Alert] FW- What Kind of Office Chair Works Best for You.eml\n",
      "/Users/worshamn/Documents/emailProject/IgnoreFix [Phish Alert] FW- New Report- Common Spear Phishing Mistakes And How to Avoid Them.eml\n",
      "/Users/worshamn/Documents/emailProject/IgnoreFix [Phish Alert] FW- Get the most out of your lectures.eml\n",
      "/Users/worshamn/Documents/emailProject/IgnoreFix [Phish Alert] FW- Unlock your Amazon pre-loaded card..eml\n",
      "/Users/worshamn/Documents/emailProject/IgnoreFix [Phish Alert] FW- [Spam] Everything you need to succeed with QlikView.eml\n",
      "/Users/worshamn/Documents/emailProject/IgnoreFix [Phish Alert] FW- Imagine Speaking a New Language in Just 30 Days - Free Trial.eml\n",
      "/Users/worshamn/Documents/emailProject/IgnoreFix [Phish Alert] FW- Join Us Live From .conf2017!.eml\n",
      "/Users/worshamn/Documents/emailProject/IgnoreFix [Phish Alert] FW- Its simple to unlock your Amazon Prime Preloaded Card.eml\n",
      "/Users/worshamn/Documents/emailProject/IgnoreFix [Phish Alert] FW- What’s your biggest business driver.eml\n",
      "/Users/worshamn/Documents/emailProject/IgnoreFix [Phish Alert] FW- Your Cape Town delegate pass.eml\n",
      "/Users/worshamn/Documents/emailProject/IgnoreFix [Phish Alert] FW- Consuro - December '17 The Download.eml\n"
     ]
    },
    {
     "name": "stdout",
     "output_type": "stream",
     "text": [
      "/Users/worshamn/Documents/emailProject/IgnoreFix [Phish Alert] FW- NOVAtime In Town Tomorrow and Wednesday.eml\n",
      "/Users/worshamn/Documents/emailProject/IgnoreFix [Phish Alert] FW- It's official! 🎉.eml\n",
      "/Users/worshamn/Documents/emailProject/IgnoreFix [Phish Alert] FW- Vanessa Join my campaign.eml\n",
      "/Users/worshamn/Documents/emailProject/IgnoreFix [Phish Alert] FW- Includes- Pitfalls of Personal Devices at Work.eml\n",
      "/Users/worshamn/Documents/emailProject/IgnoreFix [Phish Alert] FW- Meeting request from Diskriter Inc..eml\n",
      "/Users/worshamn/Documents/emailProject/IgnoreFix [Phish Alert] FW- SUSE Expert Days 2018.eml\n",
      "/Users/worshamn/Documents/emailProject/IgnoreFix [Phish Alert] FW- How Easy is Your EDI.eml\n",
      "/Users/worshamn/Documents/emailProject/IgnoreFix [Phish Alert] FW- Availability  Okta SSO-MFA.eml\n",
      "/Users/worshamn/Documents/emailProject/IgnoreFix [Phish Alert] FW- MEGA JACKPOT AMANDA's Free Chance.eml\n",
      "/Users/worshamn/Documents/emailProject/IgnoreFix [Phish Alert] FW- CO ADR.eml\n",
      "/Users/worshamn/Documents/emailProject/IgnoreFix [Phish Alert] FW- Brenda.lane please two woman at one time in bed easily.eml\n",
      "/Users/worshamn/Documents/emailProject/IgnoreFix [Phish Alert] FW- Purchasing surplus phones.eml\n",
      "/Users/worshamn/Documents/emailProject/IgnoreFix [Phish Alert] FW- Substitute for Adderall but legal.eml\n",
      "/Users/worshamn/Documents/emailProject/IgnoreFix [Phish Alert] FW- Jeffrey, becoming a leader starts here..eml\n",
      "/Users/worshamn/Documents/emailProject/IgnoreFix [Phish Alert] FW- Open enrollment is from Nov 1 - Dec 15.eml\n",
      "/Users/worshamn/Documents/emailProject/IgnoreFix [Phish Alert] FW- Statement.eml\n",
      "/Users/worshamn/Documents/emailProject/IgnoreFix [Phish Alert] FW- CEO Mobile biometrics — a new way to sign on.eml\n",
      "/Users/worshamn/Documents/emailProject/IgnoreFix [Phish Alert] FW- A personal invite to learn about Performance UX from IBM.eml\n",
      "/Users/worshamn/Documents/emailProject/IgnoreFix [Phish Alert] FW- Untitled.eml\n",
      "/Users/worshamn/Documents/emailProject/IgnoreFix [Phish Alert] FW- for Jose Loredo.eml\n",
      "/Users/worshamn/Documents/emailProject/IgnoreFix [Phish Alert] FW- Verify your email.eml\n",
      "/Users/worshamn/Documents/emailProject/IgnoreFix [Phish Alert] FW- Top IT trends to watch in 2018- digital business.eml\n",
      "/Users/worshamn/Documents/emailProject/IgnoreFix [Phish Alert] FW- Local Cyber Security.eml\n",
      "/Users/worshamn/Documents/emailProject/IgnoreFix [Phish Alert] FW- Paul Kay Shared a File With on Sharepoint.eml\n",
      "/Users/worshamn/Documents/emailProject/IgnoreFix [Phish Alert] FW- Megyn Kelly causes full panic live on Fox morning show.eml\n",
      "/Users/worshamn/Documents/emailProject/IgnoreFix [Phish Alert] FW- AI killed MDM – Witness how it happened.eml\n",
      "/Users/worshamn/Documents/emailProject/IgnoreFix [Phish Alert] FW- Fifty pounds in fifty days Yes please..eml\n",
      "/Users/worshamn/Documents/emailProject/IgnoreFix [Phish Alert] FW- Eva Longoria looks stunning, Omega-3, and increasing your energy..eml\n",
      "/Users/worshamn/Documents/emailProject/IgnoreFix [Phish Alert] FW- Does Your Workplace Wellness Work An Interview with Laura Putnam.eml\n",
      "/Users/worshamn/Documents/emailProject/IgnoreFix [Phish Alert] FW- Reduce your risks from old technology.eml\n",
      "/Users/worshamn/Documents/emailProject/IgnoreFix [Phish Alert] FW- Datacenter modernized for PaaS model.eml\n",
      "/Users/worshamn/Documents/emailProject/IgnoreFix [Phish Alert] FW- Why You Should Care About Ransomware- Exclusive White Paper Inside!.eml\n",
      "/Users/worshamn/Documents/emailProject/IgnoreFix [Phish Alert] FW- Exclusive Invitation- BladeRunner 2049 Movie Premiere.eml\n",
      "/Users/worshamn/Documents/emailProject/IgnoreFix [Phish Alert] FW- Janet, we need your feedback!.eml\n",
      "/Users/worshamn/Documents/emailProject/IgnoreFix [Phish Alert] FW- Workers Compensation Professionals List.eml\n",
      "/Users/worshamn/Documents/emailProject/IgnoreFix [Phish Alert] FW- Elway's Steak Lunch Event Nov 14th- Eliminating Hybrid Cloud complexity with Dell EMC Azure Stack .eml\n",
      "/Users/worshamn/Documents/emailProject/IgnoreFix [Phish Alert] FW- Key Box Resources Await You.eml\n",
      "/Users/worshamn/Documents/emailProject/IgnoreFix [Phish Alert] FW- Your home's value shouldn't be a secret..eml\n",
      "/Users/worshamn/Documents/emailProject/IgnoreFix [Phish Alert] FW- Think your BP is fine Think again....eml\n",
      "/Users/worshamn/Documents/emailProject/IgnoreFix [Phish Alert] FW- Friendly Reminder- America's Claims Event 2018 - Exclusive Limited Offer ends Friday.eml\n",
      "/Users/worshamn/Documents/emailProject/IgnoreFix [Phish Alert] FW- [Security Guide] If your printers could talk…(oh…they can)….eml\n",
      "/Users/worshamn/Documents/emailProject/IgnoreFix [Phish Alert] FW- The Best Spring Diet on the Market!.eml\n",
      "/Users/worshamn/Documents/emailProject/IgnoreFix [Phish Alert] FW- First time ever Shark Tank judges do this....eml\n",
      "/Users/worshamn/Documents/emailProject/IgnoreFix [Phish Alert] FW- Chris sent you an invitation on LinkedIn.eml\n",
      "/Users/worshamn/Documents/emailProject/IgnoreFix [Phish Alert] FW- Webinar- How to prepare for Colombia's 2019 e-Invoicing mandate.eml\n",
      "/Users/worshamn/Documents/emailProject/IgnoreFix [Phish Alert] FW- Coupa Inspire’18- Pre-Registration is Now Open!.eml\n",
      "/Users/worshamn/Documents/emailProject/IgnoreFix [Phish Alert] FW- Tech spotlight- Mini spy camera.eml\n",
      "/Users/worshamn/Documents/emailProject/IgnoreFix [Phish Alert] FW- Quality golf abounds in Austin; Behind the gates at The Ford Plantation; and more.eml\n",
      "/Users/worshamn/Documents/emailProject/IgnoreFix [Phish Alert] FW- Please support my fundraiser Rock Canyon High School Cheer.eml\n",
      "/Users/worshamn/Documents/emailProject/IgnoreFix [Phish Alert] FW- The ambitious little company printing the first human heart..eml\n",
      "/Users/worshamn/Documents/emailProject/IgnoreFix [Phish Alert] FW- November Hyperion Cloud Webinar Series.eml\n",
      "/Users/worshamn/Documents/emailProject/IgnoreFix [Phish Alert] FW- Interested in attending Star Wars on 12-15.eml\n",
      "/Users/worshamn/Documents/emailProject/IgnoreFix [Phish Alert] FW- There is a way to get rid of it.eml\n",
      "/Users/worshamn/Documents/emailProject/IgnoreFix [Phish Alert] FW- Don’t Let Customers’ Dollars Trickle Down the Drain.eml\n",
      "/Users/worshamn/Documents/emailProject/IgnoreFix [Phish Alert] FW- How to Flip a Switch for 55% Web Performance Gains.eml\n",
      "/Users/worshamn/Documents/emailProject/IgnoreFix [Phish Alert] FW- Connect with your new NetApp Account Rep .eml\n",
      "/Users/worshamn/Documents/emailProject/IgnoreFix [Phish Alert] FW- Real-Time Personalization, now for Email.eml\n",
      "/Users/worshamn/Documents/emailProject/IgnoreFix [Phish Alert] FW- → 6 Jobs for Underwriter - Denver.eml\n",
      "/Users/worshamn/Documents/emailProject/IgnoreFix [Phish Alert] FW- Add a start date, avoid the scramble.eml\n",
      "/Users/worshamn/Documents/emailProject/IgnoreFix [Phish Alert] FW- You’re invited- Micro Focus Digital Universe.eml\n",
      "/Users/worshamn/Documents/emailProject/IgnoreFix [Phish Alert] FW- Introducing Oracle Infrastructure Cloud Services Training.eml\n",
      "/Users/worshamn/Documents/emailProject/IgnoreFix [Phish Alert] FW- Incomplete spam report      RE- [Phish Alert] FW- GMK Rep Needed (Thread-1773286).eml\n",
      "/Users/worshamn/Documents/emailProject/IgnoreFix [Phish Alert] FW- Do you invest in cybersecurity Join this CEO-led Webcast on Dec. 7.eml\n",
      "/Users/worshamn/Documents/emailProject/IgnoreFix [Phish Alert] FW- IT Learning Resources - Salary Edition.eml\n",
      "/Users/worshamn/Documents/emailProject/IgnoreFix [Phish Alert] FW- Final Day For Sitewide Savings!.eml\n",
      "/Users/worshamn/Documents/emailProject/IgnoreFix [Phish Alert] FW- Movie with a friend, popcorn, and drinks, all on us.eml\n",
      "/Users/worshamn/Documents/emailProject/IgnoreFix [Phish Alert] FW- Twinmotion Community News  January 2018  Full speed ahead!.eml\n",
      "/Users/worshamn/Documents/emailProject/IgnoreFix [Phish Alert] FW- Daily on Healthcare- HHS details proposal to loosen insurance regs...Azar talks state flexibility, Obamacare, and abortion.eml\n",
      "/Users/worshamn/Documents/emailProject/IgnoreFix [Phish Alert] FW- Mikr, Your ScoreCard Reward is on Its Way!.eml\n",
      "/Users/worshamn/Documents/emailProject/IgnoreFix [Phish Alert] FW- Tips to Feel Confident Speaking in Public. .eml\n",
      "/Users/worshamn/Documents/emailProject/IgnoreFix [Phish Alert] FW- Are You Protected Against Insider Threats❗❓.eml\n",
      "/Users/worshamn/Documents/emailProject/IgnoreFix [Phish Alert] FW- Hi Sarah, Call Appointment With You.eml\n",
      "/Users/worshamn/Documents/emailProject/IgnoreFix [Phish Alert] FW- Not feeling like yourself This is probably why.eml\n",
      "/Users/worshamn/Documents/emailProject/IgnoreFix [Phish Alert] FW- ☺️ (Approved) We’d like to thank you with a limited-time deal.eml\n",
      "/Users/worshamn/Documents/emailProject/IgnoreFix [Phish Alert] FW- Check Out Our New Digs! Statera Open House.eml\n",
      "/Users/worshamn/Documents/emailProject/IgnoreFix [Phish Alert] FW- EMA Report Summary- Security Awareness Training.eml\n",
      "/Users/worshamn/Documents/emailProject/IgnoreFix [Phish Alert] FW- Feedback.eml\n",
      "/Users/worshamn/Documents/emailProject/IgnoreFix [Phish Alert] FW- 2 sisters take over Shark Tank and they want you try this.eml\n",
      "/Users/worshamn/Documents/emailProject/IgnoreFix [Phish Alert] FW- Want to share a new find with you - SimpliSafe's security system.eml\n",
      "/Users/worshamn/Documents/emailProject/IgnoreFix [Phish Alert] FW- Don't miss our webinar - Scaling Agile with Cornerstone OnDemand.eml\n"
     ]
    },
    {
     "name": "stdout",
     "output_type": "stream",
     "text": [
      "/Users/worshamn/Documents/emailProject/IgnoreFix [Phish Alert] FW- FICO World 2018 Registration Is Open!.eml\n",
      "/Users/worshamn/Documents/emailProject/IgnoreFix [Phish Alert] FW- Test Drive Hive-IO SW Defined Datacenter.eml\n",
      "/Users/worshamn/Documents/emailProject/IgnoreFix [Phish Alert] FW- [Spam] Moving From An Operational Manager to A Strategic Leader.eml\n",
      "/Users/worshamn/Documents/emailProject/IgnoreFix [Phish Alert] FW- Refer your friends, Linda.eml\n",
      "/Users/worshamn/Documents/emailProject/IgnoreFix [Phish Alert] FW- How to protect yourself against Equifax data-breach..eml\n",
      "/Users/worshamn/Documents/emailProject/IgnoreFix [Phish Alert] FW- → 6 Jobs for Safety Consultant - Denver.eml\n",
      "/Users/worshamn/Documents/emailProject/IgnoreFix [Phish Alert] FW- Register now for Webinar Email 101- Everything you need to know in one workshop.eml\n",
      "/Users/worshamn/Documents/emailProject/IgnoreFix [Phish Alert] FW- Kalow 1.eml\n",
      "/Users/worshamn/Documents/emailProject/IgnoreFix [Phish Alert] FW- Pinnacol Stakeholder Interview .eml\n",
      "/Users/worshamn/Documents/emailProject/IgnoreFix [Phish Alert] FW- EUC risk is real right now. Why should you care.eml\n",
      "/Users/worshamn/Documents/emailProject/IgnoreFix [Phish Alert] FW- FEMA Region 8 Flood Webinar Notification.eml\n",
      "/Users/worshamn/Documents/emailProject/IgnoreFix [Phish Alert] FW- Don't let those stairs stop you.eml\n",
      "/Users/worshamn/Documents/emailProject/IgnoreFix [Phish Alert] FW- Please claim your hundred dollar Amazon Reward..eml\n",
      "/Users/worshamn/Documents/emailProject/IgnoreFix [Phish Alert] FW- TreePod Fully Funded on Kickstarter!.eml\n",
      "/Users/worshamn/Documents/emailProject/IgnoreFix [Phish Alert] FW- Keeping up with security trends.eml\n",
      "/Users/worshamn/Documents/emailProject/IgnoreFix [Phish Alert] FW- Tell Us How You Feel About Khols and Get Rewarded With $50 Prize..eml\n",
      "/Users/worshamn/Documents/emailProject/IgnoreFix [Phish Alert] FW- Shark Tank judges finally agree.eml\n",
      "/Users/worshamn/Documents/emailProject/IgnoreFix [Phish Alert] FW- A New Dye Dawns at Nemacolin.eml\n",
      "/Users/worshamn/Documents/emailProject/IgnoreFix [Phish Alert] FW- Complimentary Lunch Seminar on Securing and Managing Privileged and Administrative Passwords.eml\n",
      "/Users/worshamn/Documents/emailProject/IgnoreFix [Phish Alert] FW- How to Conduct an Internal Harassment and Bullying Investigation.eml\n",
      "/Users/worshamn/Documents/emailProject/IgnoreFix [Phish Alert] FW- Mountain View Marketing, Inc needs a Field Inventory Control Auditor.eml\n",
      "/Users/worshamn/Documents/emailProject/IgnoreFix [Phish Alert] FW- Notice- Insurance Policy Expiring for WILLIAM G BAILEY DBA BAILEY HOUSE MOVERS.eml\n",
      "/Users/worshamn/Documents/emailProject/IgnoreFix [Phish Alert] FW- Check out my new website Education in Pursuit LLC Kay Ward, CPCU, AIS, ACS, AAI  .eml\n",
      "/Users/worshamn/Documents/emailProject/IgnoreFix [Phish Alert] FW- [Spam] Save 15% on Snow Books In November.eml\n",
      "/Users/worshamn/Documents/emailProject/IgnoreFix [Phish Alert] FW- Tomorrow's webinar- Future Proof Your Cloud Security.eml\n",
      "/Users/worshamn/Documents/emailProject/IgnoreFix [Phish Alert] FW- Take A Look At New Career Challenges In 2018.eml\n",
      "/Users/worshamn/Documents/emailProject/IgnoreFix [Phish Alert] FW- Scheduling Appointments and Interviews.eml\n",
      "/Users/worshamn/Documents/emailProject/IgnoreFix [Phish Alert] FW- Concerned Person.eml\n",
      "/Users/worshamn/Documents/emailProject/IgnoreFix [Phish Alert] FW- THANK YOU to all volunteers & supporters.eml\n",
      "/Users/worshamn/Documents/emailProject/IgnoreFix [Phish Alert] FW- Megyn Kelly is heartbroken.eml\n",
      "/Users/worshamn/Documents/emailProject/IgnoreFix [Phish Alert] FW- Have a nice day this is the fourth annual of your activity for you..eml\n",
      "/Users/worshamn/Documents/emailProject/IgnoreFix [Phish Alert] FW- WATCH- Ensure Business Continuity During Disasters.eml\n",
      "/Users/worshamn/Documents/emailProject/IgnoreFix [Phish Alert] FW- New blood pressure guidlines.eml\n",
      "/Users/worshamn/Documents/emailProject/IgnoreFix [Phish Alert] FW- [2-day Workshop] Detecting & Preventing Fraud.eml\n",
      "/Users/worshamn/Documents/emailProject/IgnoreFix [Phish Alert] FW- Every thing Fine.eml\n",
      "/Users/worshamn/Documents/emailProject/IgnoreFix [Phish Alert] FW- How to Keep Online Assets Secure.eml\n",
      "/Users/worshamn/Documents/emailProject/IgnoreFix [Phish Alert] FW- Presentación sin título - Invitation to edit.eml\n",
      "/Users/worshamn/Documents/emailProject/IgnoreFix [Phish Alert] FW- Come Join us in demystifying HR analytics.eml\n",
      "/Users/worshamn/Documents/emailProject/IgnoreFix [Phish Alert] FW- LogMeIn - request for call.eml\n",
      "/Users/worshamn/Documents/emailProject/IgnoreFix [Phish Alert] FW- [Spam] TRANSCEIVER_TUESDAY___30%_Off_With_Coupon_Code-_FirstOrder.eml\n",
      "/Users/worshamn/Documents/emailProject/IgnoreFix [Phish Alert] FW- How to Replace Your Aging & Overpriced Document Management System.eml\n",
      "/Users/worshamn/Documents/emailProject/IgnoreFix [Phish Alert] FW- Body Pump 104 Launch!.eml\n",
      "/Users/worshamn/Documents/emailProject/IgnoreFix [Phish Alert] FW- This is how Eva Longoria looks so good at 42.eml\n",
      "/Users/worshamn/Documents/emailProject/IgnoreFix [Phish Alert] FW- 4-27 4-30 Yard House Then Avengers.eml\n",
      "/Users/worshamn/Documents/emailProject/IgnoreFix [Phish Alert] FW- Not yet on the attendees’ list.eml\n",
      "/Users/worshamn/Documents/emailProject/IgnoreFix [Phish Alert] FW- [Spam] Back by popular demand- Creating Dashboards in Excel.eml\n",
      "/Users/worshamn/Documents/emailProject/IgnoreFix [Phish Alert] FW- Get a preloaded gift card.eml\n",
      "/Users/worshamn/Documents/emailProject/IgnoreFix [Phish Alert] FW- 🚨 Last Chance for Our Biggest Deal of the Year.eml\n",
      "/Users/worshamn/Documents/emailProject/IgnoreFix [Phish Alert] FW- Hi my name is Elizabeth.eml\n",
      "/Users/worshamn/Documents/emailProject/IgnoreFix [Phish Alert] FW- New BP guidlines are a wakeup call for us.eml\n",
      "/Users/worshamn/Documents/emailProject/IgnoreFix [Phish Alert] FW- PdfCompressor – End of Year Upgrade Discount.eml\n",
      "/Users/worshamn/Documents/emailProject/IgnoreFix [Phish Alert] FW- Do you need to generate more engagement on social media.eml\n",
      "/Users/worshamn/Documents/emailProject/IgnoreFix [Phish Alert] FW- Please confirm your career bio.eml\n",
      "/Users/worshamn/Documents/emailProject/IgnoreFix [Phish Alert] FW- Your pre-loaded Kohl's card is ready for unlocking..eml\n",
      "/Users/worshamn/Documents/emailProject/IgnoreFix [Phish Alert] FW- You don't have to live with thin hair.eml\n",
      "/Users/worshamn/Documents/emailProject/IgnoreFix [Phish Alert] FW- From I to We.eml\n",
      "/Users/worshamn/Documents/emailProject/IgnoreFix [Phish Alert] FW- More to Love From Belk.eml\n",
      "/Users/worshamn/Documents/emailProject/IgnoreFix [Phish Alert] FW- 25 Days of HR and Compliance Webinars! Register Now!.eml\n",
      "/Users/worshamn/Documents/emailProject/IgnoreFix [Phish Alert] FW- Hi Vi! 20% OFF Packing Materials.eml\n",
      "/Users/worshamn/Documents/emailProject/IgnoreFix [Phish Alert] FW- Request from Careerwise- share your positive stories about the apprenticeship experience.eml\n",
      "/Users/worshamn/Documents/emailProject/IgnoreFix [Phish Alert] FW- 8th Circ. Won't Revive UnitedHealth's $350M Insurance Feud.eml\n",
      "/Users/worshamn/Documents/emailProject/IgnoreFix [Phish Alert] FW- Denver Health Foundation December Newsletter.eml\n",
      "/Users/worshamn/Documents/emailProject/IgnoreFix [Phish Alert] FW- Missed our webinars - watch the recorded versions online.eml\n",
      "/Users/worshamn/Documents/emailProject/IgnoreFix [Phish Alert] FW- If you can use cash quickly....eml\n",
      "/Users/worshamn/Documents/emailProject/IgnoreFix [Phish Alert] FW- [Spam] We can optimize your brain.eml\n",
      "/Users/worshamn/Documents/emailProject/IgnoreFix [Phish Alert] FW- Create content your customers will love.eml\n",
      "/Users/worshamn/Documents/emailProject/IgnoreFix [Phish Alert] FW- Agenda Revealed- Advancing Construction Claims 2018.eml\n",
      "/Users/worshamn/Documents/emailProject/IgnoreFix [Phish Alert] FW- Can you hear me now.eml\n",
      "/Users/worshamn/Documents/emailProject/IgnoreFix [Phish Alert] FW- End the year with a plan.eml\n",
      "/Users/worshamn/Documents/emailProject/IgnoreFix [Phish Alert] FW- 🌛Last chance to register for the Moonlight Masquerade!.eml\n",
      "/Users/worshamn/Documents/emailProject/IgnoreFix [Phish Alert] FW- This Is Not Security..eml\n",
      "/Users/worshamn/Documents/emailProject/IgnoreFix [Phish Alert] FW- How would you like to work at Computershare Inc.eml\n",
      "/Users/worshamn/Documents/emailProject/IgnoreFix [Phish Alert] FW- Fw- to Sally Parkinson.eml\n",
      "/Users/worshamn/Documents/emailProject/IgnoreFix [Phish Alert] FW- Don't wallow in alcohol.eml\n",
      "/Users/worshamn/Documents/emailProject/IgnoreFix [Phish Alert] FW- Come See the Star Wars Premier with Fuze, Nasuni, and-or Pure Storage  Softchoice.eml\n",
      "/Users/worshamn/Documents/emailProject/IgnoreFix [Phish Alert] FW- Internet of Things- Move Beyond the Hype.eml\n",
      "/Users/worshamn/Documents/emailProject/IgnoreFix [Phish Alert] FW- How to get your finances thriving.eml\n"
     ]
    },
    {
     "name": "stdout",
     "output_type": "stream",
     "text": [
      "/Users/worshamn/Documents/emailProject/IgnoreFix [Phish Alert] FW- [Spam] Top 10 things Millennials want from work.eml\n",
      "/Users/worshamn/Documents/emailProject/IgnoreFix [Phish Alert] FW- Annual NYE Bash this Sunday.eml\n",
      "/Users/worshamn/Documents/emailProject/IgnoreFix [Phish Alert] FW- Action Required- Confirm Your Email Now.eml\n",
      "/Users/worshamn/Documents/emailProject/IgnoreFix [Phish Alert] FW- [Spam] Train in two months - Medical coding.eml\n",
      "/Users/worshamn/Documents/emailProject/IgnoreFix [Phish Alert] FW- [Spam] Fw- to Jill French.eml\n",
      "/Users/worshamn/Documents/emailProject/IgnoreFix [Phish Alert] FW- RE-hey.eml\n",
      "/Users/worshamn/Documents/emailProject/IgnoreFix [Phish Alert] FW- Can we talk.eml\n",
      "/Users/worshamn/Documents/emailProject/IgnoreFix [Phish Alert] FW- How to Keep Active Directory Healthy.eml\n",
      "/Users/worshamn/Documents/emailProject/IgnoreFix [Phish Alert] FW- Pre-Order TaylorMade’s 2018 M Family Today.eml\n",
      "/Users/worshamn/Documents/emailProject/IgnoreFix [Phish Alert] FW- Talent Management Excellence  Get the emPerform Newsletter.eml\n",
      "/Users/worshamn/Documents/emailProject/IgnoreFix [Phish Alert] FW- Retarus Cloud Fax.eml\n",
      "/Users/worshamn/Documents/emailProject/IgnoreFix [Phish Alert] FW- Biggest deal in Shark Tank history, and you can use it.eml\n",
      "/Users/worshamn/Documents/emailProject/IgnoreFix [Phish Alert] FW- Insurers Needn't Pay In Tainted Whey Cases, 7th Circ. Says.eml\n",
      "/Users/worshamn/Documents/emailProject/IgnoreFix [Phish Alert] FW- → 1 Jobs for Senior Underwriter - Denver.eml\n",
      "/Users/worshamn/Documents/emailProject/IgnoreFix [Phish Alert] FW- Unexpected shipment for YOU 👉.eml\n",
      "/Users/worshamn/Documents/emailProject/IgnoreFix [Phish Alert] FW- Free Consultation.eml\n",
      "/Users/worshamn/Documents/emailProject/IgnoreFix [Phish Alert] FW- Make Changes With Lightning Speed In Salesforce.eml\n",
      "/Users/worshamn/Documents/emailProject/IgnoreFix [Phish Alert] FW- F5 Colorado - News and Updates - Fall 2017.eml\n",
      "/Users/worshamn/Documents/emailProject/IgnoreFix [Phish Alert] FW- Have you had enough.eml\n",
      "/Users/worshamn/Documents/emailProject/IgnoreFix [Phish Alert] FW- Ending Soon! Special Holiday Offer from Golfballs.com- Titleist Pro V1 $39.99 + Free Personalization.eml\n"
     ]
    },
    {
     "name": "stderr",
     "output_type": "stream",
     "text": [
      "/usr/local/anaconda3/lib/python3.6/site-packages/ipykernel_launcher.py:96: DeprecationWarning: invalid escape sequence '\\ '\n"
     ]
    },
    {
     "name": "stdout",
     "output_type": "stream",
     "text": [
      "/Users/worshamn/Documents/emailProject/IgnoreFix [Phish Alert] FW- This is what fifty pounds looks like.eml\n",
      "/Users/worshamn/Documents/emailProject/IgnoreFix [Phish Alert] FW- 5 More New Recommended Business Analyst Jobs near Denver.eml\n",
      "/Users/worshamn/Documents/emailProject/IgnoreFix [Phish Alert] FW- Protect your SharePoint-O365 Content with improved management.eml\n",
      "/Users/worshamn/Documents/emailProject/IgnoreFix [Phish Alert] FW- September LINKSdigital- The New Equipment for Fall!.eml\n",
      "/Users/worshamn/Documents/emailProject/IgnoreFix [Phish Alert] FW- Webinar - Adopting Data Analytics- Using Change as a Force for Good.eml\n",
      "/Users/worshamn/Documents/emailProject/IgnoreFix [Phish Alert] FW- 2018 is Around the Corner, Are You Prepared.eml\n",
      "/Users/worshamn/Documents/emailProject/IgnoreFix [Phish Alert] FW- Follow up - Strategic IT Partner.eml\n",
      "/Users/worshamn/Documents/emailProject/IgnoreFix [Phish Alert] FW- Beauty products on us..eml\n",
      "/Users/worshamn/Documents/emailProject/IgnoreFix [Phish Alert] FW- No more turkeys. 🦃 Get the best candidates. .eml\n",
      "/Users/worshamn/Documents/emailProject/IgnoreFix [Phish Alert] FW- Happy Holidays from Project C.U.R.E..eml\n",
      "/Users/worshamn/Documents/emailProject/IgnoreFix [Phish Alert] FW- You think you're balding. You're wrong..eml\n",
      "/Users/worshamn/Documents/emailProject/IgnoreFix [Phish Alert] FW- You're Invited to the 2018 CliftonStrengths Summit.eml\n",
      "/Users/worshamn/Documents/emailProject/IgnoreFix [Phish Alert] FW- Discuss while in the area next week.eml\n",
      "/Users/worshamn/Documents/emailProject/IgnoreFix [Phish Alert] FW- eBook  Best practices for putting your data to work.eml\n",
      "/Users/worshamn/Documents/emailProject/IgnoreFix [Phish Alert] FW- Your best golf swing starts beneath your feet!.eml\n",
      "/Users/worshamn/Documents/emailProject/IgnoreFix [Phish Alert] FW- Tell me more about your company.eml\n",
      "/Users/worshamn/Documents/emailProject/IgnoreFix [Phish Alert] FW- Know this about leveraging Advanced Analytics with Qlik.eml\n",
      "/Users/worshamn/Documents/emailProject/IgnoreFix [Phish Alert] FW- [Spam] Multistate Payroll Taxation 2018.eml\n",
      "/Users/worshamn/Documents/emailProject/IgnoreFix [Phish Alert] FW- A 10-sec trick could save your life.eml\n",
      "/Users/worshamn/Documents/emailProject/IgnoreFix [Phish Alert] FW- Talend Data Prep.eml\n",
      "/Users/worshamn/Documents/emailProject/IgnoreFix [Phish Alert] FW- Colorado CPCU Society Chapter - January Luncheon & Meeting.eml\n",
      "/Users/worshamn/Documents/emailProject/IgnoreFix [Phish Alert] FW- Financial Innovation & Payments Summit-July 18th - 20th.eml\n",
      "/Users/worshamn/Documents/emailProject/IgnoreFix [Phish Alert] FW- [Spam] Starbucks Meeting in DTC or Broomfield.eml\n",
      "/Users/worshamn/Documents/emailProject/IgnoreFix [Phish Alert] FW- Update Regarding Your Oracle Resource Team.eml\n",
      "/Users/worshamn/Documents/emailProject/IgnoreFix [Phish Alert] FW- Approyo October Newsletter.eml\n",
      "/Users/worshamn/Documents/emailProject/IgnoreFix [Phish Alert] FW- Contract Instructional Designer Saves the Day.eml\n",
      "/Users/worshamn/Documents/emailProject/IgnoreFix [Phish Alert] FW- Learn the truth about CBD oil.eml\n",
      "/Users/worshamn/Documents/emailProject/IgnoreFix [Phish Alert] FW- [Spam] Keep Your Private Information Safe.eml\n",
      "/Users/worshamn/Documents/emailProject/IgnoreFix [Phish Alert] FW- [Spam] NEW Exclusive DIVOT Golf Deals.eml\n",
      "/Users/worshamn/Documents/emailProject/IgnoreFix [Phish Alert] FW- Audra, some free PowerPoint slides to save you hours of work.eml\n",
      "/Users/worshamn/Documents/emailProject/IgnoreFix [Phish Alert] FW- Deploy Cisco Umbrella with Expert Guidance  Live Webcast.eml\n",
      "/Users/worshamn/Documents/emailProject/IgnoreFix [Phish Alert] FW- Windows 10 – A Complete Guide.eml\n",
      "/Users/worshamn/Documents/emailProject/IgnoreFix [Phish Alert] FW- a few minutes.eml\n",
      "/Users/worshamn/Documents/emailProject/IgnoreFix [Phish Alert] FW- See Why Rewarding Is the Best Strategy.eml\n",
      "/Users/worshamn/Documents/emailProject/IgnoreFix [Phish Alert] FW- Step Denver Gives Back to the Ballpark Community! Read More in the November Newsletter.eml\n",
      "/Users/worshamn/Documents/emailProject/IgnoreFix [Phish Alert] FW- Time is running out to claim your preloaded Amazon card..eml\n",
      "/Users/worshamn/Documents/emailProject/IgnoreFix [Phish Alert] FW- A free sneak peak!.eml\n",
      "/Users/worshamn/Documents/emailProject/IgnoreFix [Phish Alert] FW- hey there.eml\n",
      "/Users/worshamn/Documents/emailProject/IgnoreFix [Phish Alert] FW- Erinnerung wegen eBook-Verdienst.eml\n",
      "/Users/worshamn/Documents/emailProject/IgnoreFix [Phish Alert] FW- Harness the power of Self-Service Data Analytics.eml\n",
      "/Users/worshamn/Documents/emailProject/IgnoreFix [Phish Alert] FW- You've been selected. Take Surveys and Get Paid..eml\n",
      "/Users/worshamn/Documents/emailProject/IgnoreFix [Phish Alert] FW- Economic Capital Modeling in the Insurance Industry  - New York.eml\n",
      "/Users/worshamn/Documents/emailProject/IgnoreFix [Phish Alert] FW- fragen ob er bloß möglich oder auch wirklich oder wenn er das.eml\n",
      "/Users/worshamn/Documents/emailProject/IgnoreFix [Phish Alert] FW- Impact Empowerment Group- You are now unsubscribed.eml\n",
      "/Users/worshamn/Documents/emailProject/IgnoreFix [Phish Alert] FW- Ixia - Follow Up Request.eml\n",
      "/Users/worshamn/Documents/emailProject/IgnoreFix [Phish Alert] FW- Please join our group Mile High United Way.eml\n",
      "/Users/worshamn/Documents/emailProject/IgnoreFix [Phish Alert] FW- Carly.wolfe shrink your belly, 1lb day.eml\n",
      "/Users/worshamn/Documents/emailProject/IgnoreFix [Phish Alert] FW- Introducing the Park Hill Mobile App 2.0!.eml\n",
      "/Users/worshamn/Documents/emailProject/IgnoreFix [Phish Alert] FW- Symantec Updated List.eml\n",
      "/Users/worshamn/Documents/emailProject/IgnoreFix [Phish Alert] FW- New issue of strategy+business — log-in credentials below.eml\n",
      "/Users/worshamn/Documents/emailProject/IgnoreFix [Phish Alert] FW- Future-Proof Your Ransomware Defenses.eml\n",
      "/Users/worshamn/Documents/emailProject/IgnoreFix [Phish Alert] FW- Now Hiring- Case Manager at AllHealth Network, Developmental Disabilities Resource Center, and more.eml\n",
      "/Users/worshamn/Documents/emailProject/IgnoreFix [Phish Alert] FW- Network Learning Resources Edition.eml\n",
      "/Users/worshamn/Documents/emailProject/IgnoreFix [Phish Alert] FW- [Spam] 10 million Licensed Professionals are waiting to hear from you.eml\n",
      "/Users/worshamn/Documents/emailProject/IgnoreFix [Phish Alert] FW- Jaclyn - Equifax Focused Q&A Call - Did you see this.eml\n",
      "/Users/worshamn/Documents/emailProject/IgnoreFix [Phish Alert] FW- Forms.eml\n",
      "/Users/worshamn/Documents/emailProject/IgnoreFix [Phish Alert] FW- Family Office Meeting - Texas.eml\n",
      "/Users/worshamn/Documents/emailProject/IgnoreFix [Phish Alert] FW- Thank you for your participation. Unlock your preloaded Walgreens card..eml\n",
      "/Users/worshamn/Documents/emailProject/IgnoreFix [Phish Alert] FW- Read- Contact List for Insurance Industry.eml\n",
      "/Users/worshamn/Documents/emailProject/IgnoreFix [Phish Alert] FW- Our company will 3D print a human heart - Investments needed.eml\n",
      "/Users/worshamn/Documents/emailProject/IgnoreFix [Phish Alert] FW- SharePoint- Inform and engage your employees.eml\n",
      "/Users/worshamn/Documents/emailProject/IgnoreFix [Phish Alert] FW- A new Fibromyalgia cure.eml\n",
      "/Users/worshamn/Documents/emailProject/IgnoreFix [Phish Alert] FW- A movie night on us.eml\n",
      "/Users/worshamn/Documents/emailProject/IgnoreFix [Phish Alert] FW- pinnacol.com accounting statements.eml\n",
      "/Users/worshamn/Documents/emailProject/IgnoreFix [Phish Alert] FW- The new supplement that is making America smarter.eml\n",
      "/Users/worshamn/Documents/emailProject/IgnoreFix [Phish Alert] FW- HexaCorp - SharePoint Pains..eml\n",
      "/Users/worshamn/Documents/emailProject/IgnoreFix [Phish Alert] FW- Does Your Onboarding Wow Applicants Don’t Miss Live Webinar!.eml\n",
      "/Users/worshamn/Documents/emailProject/IgnoreFix [Phish Alert] FW- PM Training sessions - Nov 27 - 30.eml\n",
      "/Users/worshamn/Documents/emailProject/IgnoreFix [Phish Alert] FW- Don't let legacy IT tools sabotage your success..eml\n",
      "/Users/worshamn/Documents/emailProject/IgnoreFix [Phish Alert] FW- Never Miss Another Webinar.eml\n",
      "/Users/worshamn/Documents/emailProject/IgnoreFix [Phish Alert] FW- Identifying IT Talent in a Demanding Market.eml\n",
      "/Users/worshamn/Documents/emailProject/IgnoreFix [Phish Alert] FW- Every Shark Tank judge backed a 4.95 product.eml\n",
      "/Users/worshamn/Documents/emailProject/IgnoreFix [Phish Alert] FW- Gov. CuomoEnacts First-in-the-Nation Cyber Regulations.eml\n",
      "/Users/worshamn/Documents/emailProject/IgnoreFix [Phish Alert] FW- Learn what to consider when picking a data center provider.eml\n",
      "/Users/worshamn/Documents/emailProject/IgnoreFix [Phish Alert] FW- Hi Debra.curfman, view items while they last.eml\n",
      "/Users/worshamn/Documents/emailProject/IgnoreFix [Phish Alert] FW- Can you point me in the right direction.eml\n",
      "/Users/worshamn/Documents/emailProject/IgnoreFix [Phish Alert] FW- IT Professionals 2017 Salary Report.eml\n",
      "/Users/worshamn/Documents/emailProject/IgnoreFix [Phish Alert] FW- to Amanda Gould.eml\n"
     ]
    },
    {
     "name": "stderr",
     "output_type": "stream",
     "text": [
      "/usr/local/anaconda3/lib/python3.6/site-packages/ipykernel_launcher.py:96: DeprecationWarning: invalid escape sequence '\\H'\n"
     ]
    },
    {
     "name": "stdout",
     "output_type": "stream",
     "text": [
      "/Users/worshamn/Documents/emailProject/IgnoreFix [Phish Alert] FW- Certificate Program In FMLA & ADA Compliance  (Three days multiple dates and locations).eml\n",
      "/Users/worshamn/Documents/emailProject/IgnoreFix [Phish Alert] FW- RE RE-.eml\n",
      "/Users/worshamn/Documents/emailProject/IgnoreFix [Phish Alert] FW- Introducing Stories- Get to the good stuff..eml\n",
      "/Users/worshamn/Documents/emailProject/IgnoreFix [Phish Alert] FW- Analyst Report for Third-Party Risk Management Solutions.eml\n",
      "/Users/worshamn/Documents/emailProject/IgnoreFix [Phish Alert] FW- Quote of the day.eml\n",
      "/Users/worshamn/Documents/emailProject/IgnoreFix [Phish Alert] FW- Hazel, Attention- Changes have been posted to your credit report.eml\n",
      "/Users/worshamn/Documents/emailProject/IgnoreFix [Phish Alert] FW- Free, Live Webinar- Employee Records- What to Keep and What to Destroy.eml\n",
      "/Users/worshamn/Documents/emailProject/IgnoreFix [Phish Alert] FW- Oracle Maintenance Cloud Executive Overview Course.eml\n",
      "/Users/worshamn/Documents/emailProject/IgnoreFix [Phish Alert] FW- Are you getting distracted by communications management.eml\n",
      "/Users/worshamn/Documents/emailProject/IgnoreFix [Phish Alert] FW- The IT Salary & Skills Report 2018 (100 Page Full eBook).eml\n",
      "/Users/worshamn/Documents/emailProject/IgnoreFix [Phish Alert] FW- Megyn Kelly's shocking admission on Fox.eml\n",
      "/Users/worshamn/Documents/emailProject/IgnoreFix [Phish Alert] FW- Gartner Magic Quadrant for P&C Core Platforms in North America.eml\n",
      "/Users/worshamn/Documents/emailProject/IgnoreFix [Phish Alert] FW- Eggshell Audits- Protecting Your Client in a Criminal Examination - OnDemand Webinar.eml\n",
      "/Users/worshamn/Documents/emailProject/IgnoreFix [Phish Alert] FW- Daniel, don't miss out - sign into Box!.eml\n",
      "/Users/worshamn/Documents/emailProject/IgnoreFix [Phish Alert] FW- Not Happy with Your Current CRM System.eml\n",
      "/Users/worshamn/Documents/emailProject/IgnoreFix [Phish Alert] FW- First time ever all Shark Tank judges agree.eml\n",
      "/Users/worshamn/Documents/emailProject/IgnoreFix [Phish Alert] FW- Thoughts on Drushup.eml\n",
      "/Users/worshamn/Documents/emailProject/IgnoreFix [Phish Alert] FW- Virtual Reality in Rehabilitation.eml\n",
      "/Users/worshamn/Documents/emailProject/IgnoreFix [Phish Alert] FW- ILP Conf Agenda_111617WO names.docx.eml\n",
      "/Users/worshamn/Documents/emailProject/IgnoreFix [Phish Alert] FW- 20% off UNTUCKit, the Shirts GQ Called Perfection.eml\n",
      "/Users/worshamn/Documents/emailProject/IgnoreFix [Phish Alert] FW- Golf news- Pat Perez stands out among PGA Tour's gilded class at Tour Championship; and more.eml\n",
      "/Users/worshamn/Documents/emailProject/IgnoreFix [Phish Alert] FW- [Spam] IBM Cloud Video Discussion.eml\n",
      "/Users/worshamn/Documents/emailProject/IgnoreFix [Phish Alert] FW- Just Published- IRR's Q3 2017 Interest Rate Survey Results.eml\n",
      "/Users/worshamn/Documents/emailProject/IgnoreFix [Phish Alert] FW- Commercial.eml\n",
      "/Users/worshamn/Documents/emailProject/IgnoreFix [Phish Alert] FW- Get into the rapidly growing medical field.eml\n",
      "/Users/worshamn/Documents/emailProject/IgnoreFix [Phish Alert] FW- It's Colorado Gives Day! Let's Build Homes and Hope.eml\n",
      "/Users/worshamn/Documents/emailProject/IgnoreFix [Phish Alert] FW- Seek the help you need if you were in an accident.eml\n",
      "/Users/worshamn/Documents/emailProject/IgnoreFix [Phish Alert] FW- 🍎 A+ Savings for Our Employees.eml\n",
      "/Users/worshamn/Documents/emailProject/IgnoreFix [Phish Alert] FW- How Big 5 Saved Big.eml\n",
      "/Users/worshamn/Documents/emailProject/IgnoreFix [Phish Alert] FW- ECF Common Inquiry.eml\n",
      "/Users/worshamn/Documents/emailProject/IgnoreFix [Phish Alert] FW- 1 Spice That KILLS High Blood Pressure.eml\n",
      "/Users/worshamn/Documents/emailProject/IgnoreFix [Phish Alert] FW- Webinar recording available  Ethics and resilience- Balancing heart and mind for a better practice and better you.eml\n",
      "/Users/worshamn/Documents/emailProject/IgnoreFix [Phish Alert] FW- A one hundred dollar bonus is yours on Amazon..eml\n",
      "/Users/worshamn/Documents/emailProject/IgnoreFix [Phish Alert] FW- Now Hiring- Auditor candidates at White Lodging.eml\n",
      "/Users/worshamn/Documents/emailProject/IgnoreFix [Phish Alert] FW- Jim, your free admission to the Rocky Mountain Technology Summit next Wed!.eml\n",
      "/Users/worshamn/Documents/emailProject/IgnoreFix [Phish Alert] FW- Lean Six Sigma Green Belt training program.eml\n",
      "/Users/worshamn/Documents/emailProject/IgnoreFix [Phish Alert] FW- Managing Higher Risk Business Customers – Risk Based Approach to KYC & KYCC.eml\n",
      "/Users/worshamn/Documents/emailProject/IgnoreFix [Phish Alert] FW- Test these beauty products and you can have them on us..eml\n",
      "/Users/worshamn/Documents/emailProject/IgnoreFix [Phish Alert] FW- Cannabidiol oil now legal in all 50 states.eml\n",
      "/Users/worshamn/Documents/emailProject/IgnoreFix [Phish Alert] FW- ASS.eml\n",
      "/Users/worshamn/Documents/emailProject/IgnoreFix [Phish Alert] FW- [Spam] Register NOW to attend one of our TLIs.eml\n",
      "/Users/worshamn/Documents/emailProject/IgnoreFix [Phish Alert] FW- There is still time to make an impact..eml\n",
      "/Users/worshamn/Documents/emailProject/IgnoreFix [Phish Alert] FW- Dropbox Email that was sent.eml\n",
      "/Users/worshamn/Documents/emailProject/IgnoreFix [Phish Alert] FW- IR Filing Alert - Quarterly report with a continuing view of a company's financial position - Form 10-Q.eml\n",
      "/Users/worshamn/Documents/emailProject/IgnoreFix [Phish Alert] FW- CHRISTINE, Microsoft® OneNote® Tips Tricks & Best Practices.eml\n",
      "/Users/worshamn/Documents/emailProject/IgnoreFix [Phish Alert] FW- New Book -Get Better available in stores today.eml\n",
      "/Users/worshamn/Documents/emailProject/IgnoreFix [Phish Alert] FW- Hi Jaclyn, Call Appointment With You.eml\n",
      "/Users/worshamn/Documents/emailProject/IgnoreFix [Phish Alert] FW- May I call you today or tomorrow.eml\n",
      "/Users/worshamn/Documents/emailProject/IgnoreFix [Phish Alert] FW- Barbara.jones shed 1LB a day this Fall.eml\n",
      "/Users/worshamn/Documents/emailProject/IgnoreFix [Phish Alert] FW- App Developer Magazine December 2017.eml\n",
      "/Users/worshamn/Documents/emailProject/IgnoreFix [Phish Alert] FW- Restore Crystal Clear 20-20 Eyesight.eml\n",
      "/Users/worshamn/Documents/emailProject/IgnoreFix [Phish Alert] FW- You're Invited! Happy Hour - Win the Talent War- No Need to 'Wine' About It..eml\n",
      "/Users/worshamn/Documents/emailProject/IgnoreFix [Phish Alert] FW- Watch the live stream of BMC Exchange NYC.eml\n",
      "/Users/worshamn/Documents/emailProject/IgnoreFix [Phish Alert] FW- 2017 Employee Engagement & Retention Statistics.eml\n",
      "/Users/worshamn/Documents/emailProject/IgnoreFix [Phish Alert] FW- Golf Special Offer.eml\n",
      "/Users/worshamn/Documents/emailProject/IgnoreFix [Phish Alert] FW- Chris, people in your network just supported this campaign.eml\n",
      "/Users/worshamn/Documents/emailProject/IgnoreFix [Phish Alert] FW- THe biggest deal ever on shark tank for these moms.eml\n",
      "/Users/worshamn/Documents/emailProject/IgnoreFix [Phish Alert] FW- Seduce any woman any time with this incredible secret..eml\n",
      "/Users/worshamn/Documents/emailProject/IgnoreFix [Phish Alert] FW- 9 Key Elements in the Process of Learning.eml\n",
      "/Users/worshamn/Documents/emailProject/IgnoreFix [Phish Alert] FW- See the future of Workload Automation in four minutes.eml\n",
      "/Users/worshamn/Documents/emailProject/IgnoreFix [Phish Alert] FW- Your Amazon hundred dollar preloaded gift card expires on 12-28..eml\n",
      "/Users/worshamn/Documents/emailProject/IgnoreFix [Phish Alert] FW- Software Advice Alternatives - Top 5 Asana Competitors.eml\n",
      "/Users/worshamn/Documents/emailProject/IgnoreFix [Phish Alert] FW- Invitation Avengers April 27.eml\n",
      "/Users/worshamn/Documents/emailProject/IgnoreFix [Phish Alert] FW- Final Days of Toyotathon.eml\n",
      "/Users/worshamn/Documents/emailProject/IgnoreFix [Phish Alert] FW- How Well Protected is Your Business from Disasters.eml\n",
      "/Users/worshamn/Documents/emailProject/IgnoreFix [Phish Alert] FW- JIM, Lighten Your Workload to Reduce Stress in 2018.eml\n",
      "/Users/worshamn/Documents/emailProject/IgnoreFix [Phish Alert] FW- Let this paddle boarding pug save the day!.eml\n",
      "/Users/worshamn/Documents/emailProject/IgnoreFix [Phish Alert] FW- Spending too much on Simple Meetings We can help!.eml\n",
      "/Users/worshamn/Documents/emailProject/IgnoreFix [Phish Alert] FW- Discover An Award Winning Claims Solution for Workers' Compensation.eml\n",
      "/Users/worshamn/Documents/emailProject/IgnoreFix [Phish Alert] FW- Did you know April is National Social Security Month.eml\n"
     ]
    },
    {
     "name": "stdout",
     "output_type": "stream",
     "text": [
      "/Users/worshamn/Documents/emailProject/IgnoreFix [Phish Alert] FW- User Profiling Follows a 7 Step Process.eml\n",
      "/Users/worshamn/Documents/emailProject/IgnoreFix [Phish Alert] FW- My withdrawal as your customer!.eml\n",
      "/Users/worshamn/Documents/emailProject/IgnoreFix [Phish Alert] FW- Time to connect.eml\n",
      "/Users/worshamn/Documents/emailProject/IgnoreFix [Phish Alert] FW- Put those scissors down. Never clip skin-tags.eml\n",
      "/Users/worshamn/Documents/emailProject/IgnoreFix [Phish Alert] FW- Transfer file from Epson Connect Scan to Cloud.eml\n",
      "/Users/worshamn/Documents/emailProject/IgnoreFix [Phish Alert] FW- Special Deals for SCL Fans!!!.eml\n",
      "/Users/worshamn/Documents/emailProject/IgnoreFix [Phish Alert] FW- Thanks for your interest—a few helpful resources to get you started.eml\n",
      "/Users/worshamn/Documents/emailProject/IgnoreFix [Phish Alert] FW- Last chance to RSVP! Star Wars- The Last Jedi Private Screening.eml\n",
      "/Users/worshamn/Documents/emailProject/IgnoreFix [Phish Alert] FW- Revisa las fotos de Paulino en Facebook..eml\n",
      "/Users/worshamn/Documents/emailProject/IgnoreFix [Phish Alert] FW- [Spam] The Missing Links to LinkedIn.eml\n",
      "/Users/worshamn/Documents/emailProject/IgnoreFix [Phish Alert] FW- Watch the Top Rated IT Operations Breakout Sessions at .conf2017.eml\n",
      "/Users/worshamn/Documents/emailProject/IgnoreFix [Phish Alert] FW- Play a Ball Better Than the ProV1.  The OnCore ELIXR is 30% Off..eml\n",
      "/Users/worshamn/Documents/emailProject/IgnoreFix [Phish Alert] FW- Whisky for you, barrel for your dog.eml\n",
      "/Users/worshamn/Documents/emailProject/IgnoreFix [Phish Alert] FW- Oprisk ERM 2017 - Last chance to save $400.eml\n",
      "/Users/worshamn/Documents/emailProject/IgnoreFix [Phish Alert] FW- RSVP BY MONDAY FOR 50% OFF HABIT DESIGN ONLINE TRAINER CERTIFICATION, PLUS AN ADDITIONAL $500 DISCOUNT.eml\n",
      "/Users/worshamn/Documents/emailProject/IgnoreFix [Phish Alert] FW- ComputingEdge- Special Subscription Offer.eml\n",
      "/Users/worshamn/Documents/emailProject/IgnoreFix [Phish Alert] FW- Your Organization's Culture- If you Don't Get It Right, Nothing Else Matters.eml\n",
      "/Users/worshamn/Documents/emailProject/IgnoreFix [Phish Alert] FW- Top 3 Reasons To Love Belk Email.eml\n",
      "/Users/worshamn/Documents/emailProject/IgnoreFix [Phish Alert] FW- Call this week.eml\n",
      "/Users/worshamn/Documents/emailProject/IgnoreFix [Phish Alert] FW- Pinnacol Assurance.eml\n",
      "/Users/worshamn/Documents/emailProject/IgnoreFix [Phish Alert] FW- Reminder- Schlesinger v. Ticketmaster Settlement.eml\n",
      "/Users/worshamn/Documents/emailProject/IgnoreFix [Phish Alert] FW- Splashtacular Winter SOAK & STAY at Hotel Colorado.eml\n",
      "/Users/worshamn/Documents/emailProject/IgnoreFix [Phish Alert] FW- DENVER - DevOps and Hops (Jun 13, 2018).eml\n",
      "/Users/worshamn/Documents/emailProject/IgnoreFix [Phish Alert] FW- Remove Hair Without Nicks or Irritation.eml\n",
      "/Users/worshamn/Documents/emailProject/IgnoreFix [Phish Alert] FW- Just Curious.eml\n",
      "/Users/worshamn/Documents/emailProject/IgnoreFix [Phish Alert] FW- Permission to meet  Cohesity.eml\n",
      "/Users/worshamn/Documents/emailProject/IgnoreFix [Phish Alert] FW- LAST CHANCE-   $35 Survey – Claims Adjuster Survey[1] copy.eml\n",
      "/Users/worshamn/Documents/emailProject/IgnoreFix [Phish Alert] FW- .eml\n",
      "/Users/worshamn/Documents/emailProject/IgnoreFix [Phish Alert] FW- Cybersecurity Policy and Controls Management with Root Cause Analysis (RCA).eml\n",
      "/Users/worshamn/Documents/emailProject/IgnoreFix [Phish Alert] FW- Quick! Register Now for Accelerate..eml\n",
      "/Users/worshamn/Documents/emailProject/IgnoreFix [Phish Alert] FW- February Hyperion Cloud Webinar Series.eml\n",
      "/Users/worshamn/Documents/emailProject/IgnoreFix [Phish Alert] FW- Includes- Apple's Great Marketing Trick Roman Numerals.eml\n",
      "/Users/worshamn/Documents/emailProject/IgnoreFix [Phish Alert] FW- The Secret to Collecting More Data from Your Inbound Leads.eml\n",
      "/Users/worshamn/Documents/emailProject/IgnoreFix [Phish Alert] FW- Learn How to Effectively Move Your Faxing Operations to the Cloud.eml\n",
      "/Users/worshamn/Documents/emailProject/IgnoreFix [Phish Alert] FW- Is Governance Your Glue or Your Red Tape.eml\n",
      "/Users/worshamn/Documents/emailProject/IgnoreFix [Phish Alert] FW- Excel - Business Intelligence with Dashboards  Webinar.eml\n",
      "/Users/worshamn/Documents/emailProject/IgnoreFix [Phish Alert] FW- [Secure] PAR CANCELLATION .eml\n",
      "/Users/worshamn/Documents/emailProject/IgnoreFix [Phish Alert] FW- Just for You- Low Fares on Denver - Los Angeles Flights.eml\n",
      "/Users/worshamn/Documents/emailProject/IgnoreFix [Phish Alert] FW- Your documents just got superpowers thanks to the new Quip.eml\n",
      "/Users/worshamn/Documents/emailProject/IgnoreFix [Phish Alert] FW- Great News Levi.hunold, you can unlock your preloaded Kohl's card today.eml\n",
      "/Users/worshamn/Documents/emailProject/IgnoreFix [Phish Alert] FW- Give us 5 minutes and coffee's on us.eml\n",
      "/Users/worshamn/Documents/emailProject/IgnoreFix [Phish Alert] FW- CBD oil and weed. Here's the difference.eml\n",
      "/Users/worshamn/Documents/emailProject/IgnoreFix [Phish Alert] FW- Redis Open Source Users - Conversation Request.eml\n",
      "/Users/worshamn/Documents/emailProject/IgnoreFix [Phish Alert] FW- You're invited to Beers with Peers Denver; an Executive Contact Center... (Apr 26, 2018).eml\n",
      "/Users/worshamn/Documents/emailProject/IgnoreFix [Phish Alert] FW- FullStory News ⚡ The Guide to Session Replay  Optimizely Integration  From Rage Clicks to User-Desired Product Features.eml\n",
      "/Users/worshamn/Documents/emailProject/IgnoreFix [Phish Alert] FW- Get a salary and work from home.eml\n",
      "/Users/worshamn/Documents/emailProject/IgnoreFix [Phish Alert] FW- Calif. Justices Grapple With Sexual Abuse Coverage Quandary.eml\n",
      "/Users/worshamn/Documents/emailProject/IgnoreFix [Phish Alert] FW- HIPAA Notice- Patient Information Violation.eml\n",
      "/Users/worshamn/Documents/emailProject/IgnoreFix [Phish Alert] FW- Permission to meet.eml\n",
      "/Users/worshamn/Documents/emailProject/IgnoreFix [Phish Alert] FW- Orbea Road Bikes and Frames BLOWOUT!.eml\n",
      "/Users/worshamn/Documents/emailProject/IgnoreFix [Phish Alert] FW- Your Weekly Cup of Calm - How (and Why) to Fix a Short Fuse.eml\n",
      "/Users/worshamn/Documents/emailProject/IgnoreFix [Phish Alert] FW- Your pre-loaded Amazon card can be activated.eml\n",
      "/Users/worshamn/Documents/emailProject/IgnoreFix [Phish Alert] FW- Datavant Acquires Universal Patient Key and Closes $40M Financing Round.eml\n",
      "/Users/worshamn/Documents/emailProject/IgnoreFix [Phish Alert] FW- Paypal Receipt Notice.eml\n",
      "/Users/worshamn/Documents/emailProject/IgnoreFix [Phish Alert] FW- Certificate of Insurance.eml\n",
      "/Users/worshamn/Documents/emailProject/IgnoreFix [Phish Alert] FW- [Spam] Fill out a survey - get an early Christmas gift.eml\n",
      "/Users/worshamn/Documents/emailProject/IgnoreFix [Phish Alert] FW- Bellco's New Digital Banking Experience.eml\n",
      "/Users/worshamn/Documents/emailProject/IgnoreFix [Phish Alert] FW- Fall Renewals.eml\n",
      "/Users/worshamn/Documents/emailProject/IgnoreFix [Phish Alert] FW- Could We Grab 2 Minutes.eml\n",
      "/Users/worshamn/Documents/emailProject/IgnoreFix [Phish Alert] FW- The Number 32.eml\n",
      "/Users/worshamn/Documents/emailProject/IgnoreFix [Phish Alert] FW- Threat Intelligence Demo.eml\n",
      "/Users/worshamn/Documents/emailProject/IgnoreFix [Phish Alert] FW- Peg, get back on Facebook with one click.eml\n",
      "/Users/worshamn/Documents/emailProject/IgnoreFix [Phish Alert] FW- Register For Our Upcoming Webinar- What This Year's Catastrophes Revealed About Real-World Claims Handling.eml\n",
      "/Users/worshamn/Documents/emailProject/IgnoreFix [Phish Alert] FW- [Spam] Fwd- for Paula Fleming.eml\n",
      "/Users/worshamn/Documents/emailProject/IgnoreFix [Phish Alert] FW- [What’s Next for IT] – Join us for Whiskey & Donuts – feat. Sr. HDI Writer-Analyst Roy Atkinson.eml\n",
      "/Users/worshamn/Documents/emailProject/IgnoreFix [Phish Alert] FW- Emailing- Scan.pdf  sandy steffen  hardship 970-270-1130.pdf.eml\n",
      "/Users/worshamn/Documents/emailProject/IgnoreFix [Phish Alert] FW- Requesting Your Approval.eml\n",
      "/Users/worshamn/Documents/emailProject/IgnoreFix [Phish Alert] FW- Previous email sent was compromised.eml\n",
      "/Users/worshamn/Documents/emailProject/IgnoreFix [Phish Alert] FW- SAFETY 2017  American Society of Safety Engineers (ASSE) Attendees – $3500 contacts at 450.eml\n",
      "/Users/worshamn/Documents/emailProject/IgnoreFix [Phish Alert] FW- Prepare for the Next Wave of Software-Driven Transition.eml\n",
      "/Users/worshamn/Documents/emailProject/IgnoreFix [Phish Alert] FW- All Shark Tank judges back these 2 sisters.eml\n",
      "/Users/worshamn/Documents/emailProject/IgnoreFix [Phish Alert] FW- Engineer T-ShirtsHalloween T-ShirtsDo you have hight vbration.eml\n",
      "/Users/worshamn/Documents/emailProject/IgnoreFix [Phish Alert] FW- There is finally a Limitless pill..eml\n",
      "/Users/worshamn/Documents/emailProject/IgnoreFix [Phish Alert] FW- Understanding Your P&L Statement - 90 Mins Webinar.eml\n",
      "/Users/worshamn/Documents/emailProject/IgnoreFix [Phish Alert] FW- Sandbox- Error Occurred During Flow LG_Case_Security- The flow failed to access the value for myVariable_current.....eml\n",
      "/Users/worshamn/Documents/emailProject/IgnoreFix [Phish Alert] FW- See you at AFP 2017 in San Diego.eml\n",
      "/Users/worshamn/Documents/emailProject/IgnoreFix [Phish Alert] FW- The Yeard.eml\n"
     ]
    },
    {
     "name": "stdout",
     "output_type": "stream",
     "text": [
      "/Users/worshamn/Documents/emailProject/IgnoreFix [Phish Alert] FW- Insurance Industry finds success with SMS.eml\n",
      "/Users/worshamn/Documents/emailProject/IgnoreFix [Phish Alert] FW- Work-from-home positions and openings.eml\n",
      "/Users/worshamn/Documents/emailProject/IgnoreFix [Phish Alert] FW- Save up to 90% on NoSQL Storage Costs.eml\n",
      "/Users/worshamn/Documents/emailProject/IgnoreFix [Phish Alert] FW- Bundle-ful Holiday Savings!.eml\n",
      "/Users/worshamn/Documents/emailProject/IgnoreFix [Phish Alert] FW- AWS Boot Camp Hyatt DTC  Microsoft in AWS  Softchoice.eml\n",
      "/Users/worshamn/Documents/emailProject/IgnoreFix [Phish Alert] FW- My name is Jon, and I'm addicted to Wi-Fi.eml\n",
      "/Users/worshamn/Documents/emailProject/IgnoreFix [Phish Alert] FW- Weekend Football Golf Special.eml\n",
      "/Users/worshamn/Documents/emailProject/IgnoreFix [Phish Alert] FW- Your Weekly Concert Lineup.eml\n",
      "/Users/worshamn/Documents/emailProject/IgnoreFix [Phish Alert] FW- Sherri, You Have Been Selected - Complimentary CNET Magazine Subscription..eml\n",
      "/Users/worshamn/Documents/emailProject/IgnoreFix [Phish Alert] FW- Think twice before trying the #1 Shark Tank item of 2017.eml\n",
      "/Users/worshamn/Documents/emailProject/IgnoreFix [Phish Alert] FW- → 12 Jobs for Return To Work Consultant - Denver.eml\n",
      "/Users/worshamn/Documents/emailProject/IgnoreFix [Phish Alert] FW- We know why she got fired.eml\n",
      "/Users/worshamn/Documents/emailProject/IgnoreFix [Phish Alert] FW- Sexual Harassment Prevention and Intervention   March 21.eml\n",
      "/Users/worshamn/Documents/emailProject/IgnoreFix [Phish Alert] FW- Movie tickets, popcorn, and drinks, on us.eml\n",
      "/Users/worshamn/Documents/emailProject/IgnoreFix [Phish Alert] FW- Happy Holiddays.eml\n",
      "/Users/worshamn/Documents/emailProject/IgnoreFix [Phish Alert] FW- Quick IT Survey and an eGift Card (ID 7130903).eml\n",
      "/Users/worshamn/Documents/emailProject/IgnoreFix [Phish Alert] FW- Building human organs in the lab..eml\n",
      "/Users/worshamn/Documents/emailProject/IgnoreFix [Phish Alert] FW- 5 Steps to Cloud Service Provider Success.eml\n",
      "/Users/worshamn/Documents/emailProject/IgnoreFix [Phish Alert] FW- Try Our Hybrid Clubs - SPECIAL OFFER!!.eml\n",
      "/Users/worshamn/Documents/emailProject/IgnoreFix [Phish Alert] FW- Boost Your Career with Six Sigma Certification.eml\n",
      "/Users/worshamn/Documents/emailProject/IgnoreFix [Phish Alert] FW- FatPipe Newsletter- FatPipe Hybrid WAN for VoIP Solves the Pesky VoIP Quality Issues.eml\n",
      "/Users/worshamn/Documents/emailProject/IgnoreFix [Phish Alert] FW- [free webinar] Voluntary Benefits- Your secret to customer satisfaction.eml\n",
      "/Users/worshamn/Documents/emailProject/IgnoreFix [Phish Alert] FW- Software Advice Alternatives - Top 5 ADP Competitors.eml\n",
      "/Users/worshamn/Documents/emailProject/IgnoreFix [Phish Alert] FW- Can you help.eml\n",
      "/Users/worshamn/Documents/emailProject/IgnoreFix [Phish Alert] FW- Remaining Ad Availability in May and June – Only a Few Spots Left!.eml\n",
      "/Users/worshamn/Documents/emailProject/IgnoreFix [Phish Alert] FW- RACHEL, Lighten Your Workload to Reduce Stress in 2018.eml\n",
      "/Users/worshamn/Documents/emailProject/IgnoreFix [Phish Alert] FW- [Spam] 2018 Telemedicine- Coding, Billing and Compliance.eml\n",
      "/Users/worshamn/Documents/emailProject/IgnoreFix [Phish Alert] FW- See you at AWS re-Invent!.eml\n",
      "/Users/worshamn/Documents/emailProject/IgnoreFix [Phish Alert] FW- Master Subscription Special‌​​​‎​​‌​​‌​​‎‌​‌​​​​​‌​‎‎​​‌‌‎‎‌‌‎‌‎​‎‌‎​​​‎‌‌​​‎‎​​​‌‌​​‌‌​​​‌​.eml\n",
      "/Users/worshamn/Documents/emailProject/IgnoreFix [Phish Alert] FW- Greg, some free PowerPoint slides to save you hours of work.eml\n",
      "/Users/worshamn/Documents/emailProject/IgnoreFix [Phish Alert] FW- [Demo Day] Solve your biggest recruiting and reporting pain points.eml\n",
      "/Users/worshamn/Documents/emailProject/IgnoreFix [Phish Alert] FW- Stop settling. Collaborate instead of cooperate..eml\n",
      "/Users/worshamn/Documents/emailProject/IgnoreFix [Phish Alert] FW- Stop Wasting Your Time on IT Maintenance.eml\n",
      "/Users/worshamn/Documents/emailProject/IgnoreFix [Phish Alert] FW- → 7 Jobs for Claims Representative - Denver.eml\n",
      "/Users/worshamn/Documents/emailProject/IgnoreFix [Phish Alert] FW- for Craig Roberts.eml\n",
      "/Users/worshamn/Documents/emailProject/IgnoreFix [Phish Alert] FW- 🚗 Pop the latest hoods at the Denver Auto Show.eml\n",
      "/Users/worshamn/Documents/emailProject/IgnoreFix [Phish Alert] FW- Hello!.eml\n",
      "/Users/worshamn/Documents/emailProject/IgnoreFix [Phish Alert] FW- 5 Reasons Why the SaaS Revolution Needs a Unified Content Strategy.eml\n",
      "/Users/worshamn/Documents/emailProject/IgnoreFix [Phish Alert] FW- How Accurate Can an Adjusting Firm Be (Plus, a Tuesday Laugh).eml\n",
      "/Users/worshamn/Documents/emailProject/IgnoreFix [Phish Alert] FW- [Spam] The Definitive Guide to Retirement Income.eml\n",
      "/Users/worshamn/Documents/emailProject/IgnoreFix [Phish Alert] FW- Accelerating Continuous Improvement- Using IIoT Technology to Get the Most From Lean 6σ.eml\n",
      "/Users/worshamn/Documents/emailProject/IgnoreFix [Phish Alert] FW- [Spam] Lorayne sent you an invitation on LinkedIn.eml\n",
      "/Users/worshamn/Documents/emailProject/IgnoreFix [Phish Alert] FW- Discover the freedom and savings of Unlocked business phones.eml\n",
      "/Users/worshamn/Documents/emailProject/IgnoreFix [Phish Alert] FW- Vacant Interiors, Inc. D.eml\n",
      "/Users/worshamn/Documents/emailProject/IgnoreFix [Phish Alert] FW- You're Invited.eml\n",
      "/Users/worshamn/Documents/emailProject/IgnoreFix [Phish Alert] FW- VLink -- Simplifying global delivery for insurance.eml\n",
      "/Users/worshamn/Documents/emailProject/IgnoreFix [Phish Alert] FW- Tell us about your Home Depot experience, get a gift card..eml\n",
      "/Users/worshamn/Documents/emailProject/IgnoreFix [Phish Alert] FW- Passage Technology Product Updates- You are now unsubscribed.eml\n",
      "/Users/worshamn/Documents/emailProject/IgnoreFix [Phish Alert] FW- Updated Lead List of PI-SSD-WC Attorneys.eml\n",
      "/Users/worshamn/Documents/emailProject/IgnoreFix [Phish Alert] FW- Collateral management panel in Cape Town.eml\n",
      "/Users/worshamn/Documents/emailProject/IgnoreFix [Phish Alert] FW- Are cyber attacks disrupting your company's productivity.eml\n",
      "/Users/worshamn/Documents/emailProject/IgnoreFix [Phish Alert] FW- New Service Leverages Data to Improve Star Ratings & Quality Improvement.eml\n",
      "/Users/worshamn/Documents/emailProject/IgnoreFix [Phish Alert] FW- Exclusive DIVOT Golf Deals.eml\n",
      "/Users/worshamn/Documents/emailProject/IgnoreFix [Phish Alert] FW- New findings about BP are shocking.eml\n",
      "/Users/worshamn/Documents/emailProject/IgnoreFix [Phish Alert] FW- Come Back to FSAstore.com for $10 Off on $50+ orders.eml\n",
      "/Users/worshamn/Documents/emailProject/IgnoreFix [Phish Alert] FW- 💬 Update your preferences & profile with Solimar Systems.eml\n",
      "/Users/worshamn/Documents/emailProject/IgnoreFix [Phish Alert] FW- New Property Information Service.eml\n",
      "/Users/worshamn/Documents/emailProject/IgnoreFix [Phish Alert] FW- Relax like a royal with The Queen's Routine.eml\n",
      "/Users/worshamn/Documents/emailProject/IgnoreFix [Phish Alert] FW- Action Required- Update your BestBuy.com account with your My Best Buy Credit Card.eml\n",
      "/Users/worshamn/Documents/emailProject/IgnoreFix [Phish Alert] FW- VIJ_WK0228.eml\n",
      "/Users/worshamn/Documents/emailProject/IgnoreFix [Phish Alert] FW- Prime Santa Fe Value-Add Anchored Retail Asset With Substantial Upside.eml\n",
      "/Users/worshamn/Documents/emailProject/IgnoreFix [Phish Alert] FW- UPDATED MOBILE WRENCH CONTACT INFORMATION.eml\n",
      "/Users/worshamn/Documents/emailProject/IgnoreFix [Phish Alert] FW- MICROSOFT UPGRADE -.eml\n",
      "/Users/worshamn/Documents/emailProject/IgnoreFix [Phish Alert] FW- How to Build a Security Operations Center (SOC) on a Budget.eml\n",
      "/Users/worshamn/Documents/emailProject/IgnoreFix [Phish Alert] FW- Colorado talent for Pinnacol Assurance.eml\n",
      "/Users/worshamn/Documents/emailProject/IgnoreFix [Phish Alert] FW- Professional Web Design  Services...eml\n",
      "/Users/worshamn/Documents/emailProject/IgnoreFix [Phish Alert] FW- Resume Tip- Include a Professional Summary.eml\n",
      "/Users/worshamn/Documents/emailProject/IgnoreFix [Phish Alert] FW- Multiple Platforms- An Essential Guide.eml\n",
      "/Users/worshamn/Documents/emailProject/IgnoreFix [Phish Alert] FW- You don't know the value of your home.eml\n",
      "/Users/worshamn/Documents/emailProject/IgnoreFix [Phish Alert] FW- Jose Hernandez Sifuentes PPI.eml\n"
     ]
    }
   ],
   "source": [
    "df = pd.DataFrame()\n",
    "for d,v in input_dirs.items():\n",
    "    for f in input_dirs[d]:\n",
    "        print(d, f)\n",
    "        with open(os.path.join(d,f),'r',encoding='utf-8', errors='ignore') as raw_mail:\n",
    "            mail_dict = get_email_text(raw_mail)\n",
    "            df = df.append(\n",
    "                {\n",
    "                    #'filename': f,\n",
    "                    'text': mail_dict['mail_text'],\n",
    "                    'target': get_target(d),\n",
    "                    'subject_len': mail_dict['subject_len'],\n",
    "                    'body_len': mail_dict['body_len'],\n",
    "                    'has_attachments': tryGetKeyValue(mail_dict, 'has_attachments',0),\n",
    "                    'num_attachments': tryGetKeyValue(mail_dict, 'num_attachments',0),\n",
    "                    #'attachment_filename': tryGetKeyValue(mail_dict, 'attachment_filename'),\n",
    "                    #'attachment_content_type': tryGetKeyValue(mail_dict, 'attachment_content_type'),\n",
    "                    'DKIM': tryGetKeyValue(mail_dict, 'X-BAEAI-DKIM'),\n",
    "                    'DMARC': tryGetKeyValue(mail_dict, 'X-BAEAI-DMARC'),\n",
    "                    'SPF': tryGetKeyValue(mail_dict, 'X-BAEAI-SPF'),\n",
    "                    'return_path_match_from': mail_dict['return_path_match_from'],\n",
    "                    'from_tld': tryGetKeyValue(mail_dict, 'from_tld'),\n",
    "                    'Content-type': mail_dict['Content-type'],\n",
    "                    'DOTW': tryGetKeyValue(mail_dict, 'DOTW'),\n",
    "                    'HOTD': tryGetKeyValue(mail_dict, 'HOTD'),\n",
    "                    #'url': mail_dict['url'],\n",
    "                    'has_url': tryGetKeyValue(mail_dict, 'has_url',0),\n",
    "                    'num_url': tryGetKeyValue(mail_dict, 'num_url',0),\n",
    "                    'num_uniq_url': tryGetKeyValue(mail_dict, 'num_uniq_url',0),\n",
    "                    #'email': tryGetKeyValue(mail_dict, 'email'),\n",
    "                    'has_email': tryGetKeyValue(mail_dict, 'has_email',0),\n",
    "                    'num_email_addr': tryGetKeyValue(mail_dict, 'num_email_addr',0),\n",
    "                    'num_uniq_email': tryGetKeyValue(mail_dict, 'num_uniq_email',0),\n",
    "                    'num_url_repeats': tryGetKeyValue(mail_dict, 'num_url_repeats',0),\n",
    "                    #'url_len': mail_dict['url_len'],\n",
    "                    #'url_tld': mail_dict['url_tld'],\n",
    "                    #'uniq_url_tld': mail_dict['uniq_url_tld'],\n",
    "                    'has_html_content': tryGetKeyValue(mail_dict, 'has_html_content',0),\n",
    "                    'has_javascript': tryGetKeyValue(mail_dict, 'has_javascript',0),\n",
    "                    'has_inline_img': tryGetKeyValue(mail_dict, 'has_inline_img',0),\n",
    "                    'TAP-Score': tryGetKeyValue(mail_dict, 'X-USANET-TAP-Score',-1),\n",
    "                    #'links': tryGetKeyValue(mail_dict, 'links'),\n",
    "                    'num_link': tryGetKeyValue(mail_dict, 'num_link',0),\n",
    "                    'num_uniq_link': tryGetKeyValue(mail_dict, 'num_uniq_link',0),\n",
    "                    'has_repeat_link': tryGetKeyValue(mail_dict, 'has_repeat_link',0),\n",
    "                    #'masq_link': tryGetKeyValue(mail_dict, 'masq_link'),\n",
    "                    'has_masq_link': tryGetKeyValue(mail_dict, 'has_masq_link',0),\n",
    "                    'num_masq_link': tryGetKeyValue(mail_dict, 'num_masq_link',0),\n",
    "                    #'masq_link_tld': tryGetKeyValue(mail_dict, 'masq_link_tld'),\n",
    "                    'is_multipart': tryGetKeyValue(mail_dict, 'is_mulitpart', 0),\n",
    "                    'has_defects': mail_dict['has_defects'],\n",
    "                    'num_email_link': tryGetKeyValue(mail_dict, 'num_email_link',0),\n",
    "                    'has_unsubscribe_link': tryGetKeyValue(mail_dict, 'has_unsubscribe_link', 0),\n",
    "                }, \n",
    "                ignore_index=True\n",
    "            )"
   ]
  },
  {
   "cell_type": "code",
   "execution_count": 10,
   "metadata": {},
   "outputs": [
    {
     "name": "stdout",
     "output_type": "stream",
     "text": [
      "<class 'pandas.core.frame.DataFrame'>\n",
      "RangeIndex: 884 entries, 0 to 883\n",
      "Data columns (total 34 columns):\n",
      "Content-type              871 non-null object\n",
      "DKIM                      884 non-null object\n",
      "DMARC                     884 non-null object\n",
      "DOTW                      884 non-null object\n",
      "HOTD                      884 non-null object\n",
      "SPF                       884 non-null object\n",
      "TAP-Score                 884 non-null object\n",
      "body_len                  884 non-null float64\n",
      "from_tld                  884 non-null object\n",
      "has_attachments           884 non-null float64\n",
      "has_defects               884 non-null float64\n",
      "has_email                 884 non-null float64\n",
      "has_html_content          884 non-null float64\n",
      "has_inline_img            884 non-null float64\n",
      "has_javascript            884 non-null float64\n",
      "has_masq_link             884 non-null float64\n",
      "has_repeat_link           884 non-null float64\n",
      "has_unsubscribe_link      884 non-null float64\n",
      "has_url                   884 non-null float64\n",
      "is_multipart              884 non-null float64\n",
      "num_attachments           884 non-null float64\n",
      "num_email_addr            884 non-null float64\n",
      "num_email_link            884 non-null float64\n",
      "num_link                  884 non-null float64\n",
      "num_masq_link             884 non-null float64\n",
      "num_uniq_email            884 non-null float64\n",
      "num_uniq_link             884 non-null float64\n",
      "num_uniq_url              884 non-null float64\n",
      "num_url                   884 non-null float64\n",
      "num_url_repeats           884 non-null float64\n",
      "return_path_match_from    884 non-null float64\n",
      "subject_len               884 non-null float64\n",
      "target                    884 non-null object\n",
      "text                      884 non-null object\n",
      "dtypes: float64(24), object(10)\n",
      "memory usage: 234.9+ KB\n"
     ]
    }
   ],
   "source": [
    "df.info()"
   ]
  },
  {
   "cell_type": "markdown",
   "metadata": {},
   "source": [
    "Create a function to clean the text"
   ]
  },
  {
   "cell_type": "code",
   "execution_count": 11,
   "metadata": {},
   "outputs": [],
   "source": [
    "def clean_text(\n",
    "    docs, \n",
    "    remove_urls=True,\n",
    "    remove_emails=True,\n",
    "    lemmatize=True,\n",
    "    remove_stopwords=True, \n",
    "    custom_stopwords=None,\n",
    "#     term_min_len=0,\n",
    "):\n",
    "    #only use parts of spaCy needed\n",
    "    nlp = spacy.load('en', disable=['parser','ner','textcat'])\n",
    "    #remove urls\n",
    "    if remove_urls:\n",
    "        print('remove URLS')\n",
    "        docs = [\n",
    "            re.sub('(?i)(?:www|https?)(?:://)?[^\\s]+','',text)\n",
    "            for text in docs\n",
    "        ]\n",
    "    #remove emails\n",
    "    if remove_emails:\n",
    "        print('remove email addresses')\n",
    "        docs = [\n",
    "            re.sub('(?i)[\\w.]+@[\\w.]+\\.[\\w.]{2,5}','',text)\n",
    "            for text in docs\n",
    "        ]\n",
    "    #remove punct and digits\n",
    "    print('removing punctuation and digits and change to lowercase')\n",
    "    table = str.maketrans({key: None for key in string.punctuation + string.digits})\n",
    "    clean_docs = [\n",
    "#         str(d).lower().translate(table).replace('\\n',' ')\n",
    "        str(d).lower().translate(table)\n",
    "        for d in docs\n",
    "    ]\n",
    "        \n",
    "    #tokenize in spacy\n",
    "    if lemmatize:\n",
    "        print('spacy tokenization')\n",
    "        nlp_docs = [nlp(d) for d in clean_docs]\n",
    "        #lemmatization, words like I get changed into -PRON- so leave them alone\n",
    "        if remove_stopwords:\n",
    "            print('lemmatization and remove stopwords')\n",
    "    #         stopwords_nltk = sorted(nltk.corpus.stopwords.words('english'))\n",
    "            if custom_stopwords:\n",
    "                custom_stopwords = set(custom_stopwords)\n",
    "            else:\n",
    "                custom_stopwords = []\n",
    "            lemmatized_docs = [\n",
    "                [\n",
    "                    w.lemma_ \n",
    "                    for w in d\n",
    "                    if (w.lemma_ != '-PRON-' and not w.is_stop and w.lemma_ not in custom_stopwords) \n",
    "                ]\n",
    "                for d in nlp_docs\n",
    "            ]\n",
    "        else:\n",
    "            print('lemmatization')\n",
    "            lemmatized_docs = [\n",
    "            [\n",
    "                w.lemma_\n",
    "                if w.lemma_ != '-PRON-'\n",
    "                else w.lower_\n",
    "                for w in d\n",
    "                #if (w.lemma_ != '-PRON-' and len(w.lemma_)>term_min_len)\n",
    "            ]\n",
    "            for d in nlp_docs\n",
    "        ]\n",
    "    if lemmatized_docs:\n",
    "        clean_docs = lemmatized_docs\n",
    "    \n",
    "    # join tokens back into doc\n",
    "    clean_docs = [\n",
    "        ' '.join(l) \n",
    "        for l in clean_docs\n",
    "    ]\n",
    "\n",
    "    return clean_docs"
   ]
  },
  {
   "cell_type": "markdown",
   "metadata": {},
   "source": [
    "Clean the text and add to the dataframe"
   ]
  },
  {
   "cell_type": "code",
   "execution_count": 12,
   "metadata": {},
   "outputs": [
    {
     "name": "stdout",
     "output_type": "stream",
     "text": [
      "remove URLS\n",
      "remove email addresses\n",
      "removing punctuation and digits and change to lowercase\n",
      "spacy tokenization\n",
      "lemmatization and remove stopwords\n",
      "done in 11.103s\n"
     ]
    }
   ],
   "source": [
    "from time import time\n",
    "t0 = time()\n",
    "corpus = clean_text(\n",
    "    df['text'], \n",
    ")\n",
    "print(\"done in %0.3fs\" % (time() - t0))"
   ]
  },
  {
   "cell_type": "code",
   "execution_count": 13,
   "metadata": {},
   "outputs": [],
   "source": [
    "df['cleaned_text'] = pd.Series(corpus).values"
   ]
  },
  {
   "cell_type": "markdown",
   "metadata": {},
   "source": [
    "Convert cells that are not recognized as a number or just to get rid of float"
   ]
  },
  {
   "cell_type": "code",
   "execution_count": 14,
   "metadata": {},
   "outputs": [],
   "source": [
    "#https://stackoverflow.com/a/28910914\n",
    "for col in [\n",
    "    'body_len',\n",
    "    'has_attachments',\n",
    "    'has_defects',\n",
    "    'has_email',\n",
    "    'has_html_content',\n",
    "    'has_inline_img',\n",
    "    'has_javascript',\n",
    "    'has_masq_link',\n",
    "    'has_repeat_link',\n",
    "    'has_unsubscribe_link',\n",
    "    'has_url',\n",
    "    'is_multipart',\n",
    "    'num_attachments',\n",
    "    'num_email_addr',\n",
    "    'num_email_link',\n",
    "    'num_link',\n",
    "    'num_masq_link',\n",
    "    'num_uniq_email',\n",
    "    'num_uniq_link',\n",
    "    'num_uniq_url',\n",
    "    'num_url',\n",
    "    'num_url_repeats',\n",
    "    'return_path_match_from',\n",
    "    'subject_len',\n",
    "    #'TAP-Score',\n",
    "]:\n",
    "    df[col] = df[col].astype(int)\n",
    "    "
   ]
  },
  {
   "cell_type": "code",
   "execution_count": 15,
   "metadata": {},
   "outputs": [
    {
     "name": "stdout",
     "output_type": "stream",
     "text": [
      "<class 'pandas.core.frame.DataFrame'>\n",
      "RangeIndex: 884 entries, 0 to 883\n",
      "Data columns (total 35 columns):\n",
      "Content-type              871 non-null object\n",
      "DKIM                      884 non-null object\n",
      "DMARC                     884 non-null object\n",
      "DOTW                      884 non-null object\n",
      "HOTD                      884 non-null object\n",
      "SPF                       884 non-null object\n",
      "TAP-Score                 884 non-null object\n",
      "body_len                  884 non-null int64\n",
      "from_tld                  884 non-null object\n",
      "has_attachments           884 non-null int64\n",
      "has_defects               884 non-null int64\n",
      "has_email                 884 non-null int64\n",
      "has_html_content          884 non-null int64\n",
      "has_inline_img            884 non-null int64\n",
      "has_javascript            884 non-null int64\n",
      "has_masq_link             884 non-null int64\n",
      "has_repeat_link           884 non-null int64\n",
      "has_unsubscribe_link      884 non-null int64\n",
      "has_url                   884 non-null int64\n",
      "is_multipart              884 non-null int64\n",
      "num_attachments           884 non-null int64\n",
      "num_email_addr            884 non-null int64\n",
      "num_email_link            884 non-null int64\n",
      "num_link                  884 non-null int64\n",
      "num_masq_link             884 non-null int64\n",
      "num_uniq_email            884 non-null int64\n",
      "num_uniq_link             884 non-null int64\n",
      "num_uniq_url              884 non-null int64\n",
      "num_url                   884 non-null int64\n",
      "num_url_repeats           884 non-null int64\n",
      "return_path_match_from    884 non-null int64\n",
      "subject_len               884 non-null int64\n",
      "target                    884 non-null object\n",
      "text                      884 non-null object\n",
      "cleaned_text              884 non-null object\n",
      "dtypes: int64(24), object(11)\n",
      "memory usage: 241.8+ KB\n"
     ]
    }
   ],
   "source": [
    "df.info()"
   ]
  },
  {
   "cell_type": "markdown",
   "metadata": {},
   "source": [
    "Break the continous data into ranges for binary conversion"
   ]
  },
  {
   "cell_type": "code",
   "execution_count": 16,
   "metadata": {},
   "outputs": [],
   "source": [
    "#https://stackoverflow.com/a/40548606\n",
    "df['body_len'] = pd.qcut(df['body_len'],20,duplicates='drop')\n",
    "df['subject_len'] = pd.qcut(df['subject_len'],10,duplicates='drop')\n",
    "df['num_attachments'] = pd.cut(df['num_attachments'],5)\n",
    "df['num_email_addr'] = pd.cut(df['num_email_addr'],5)\n",
    "df['num_email_link'] = pd.cut(df['num_email_link'],5)\n",
    "df['num_link'] = pd.qcut(df['num_link'],10,duplicates='drop')\n",
    "df['num_masq_link'] = pd.cut(df['num_masq_link'],3)\n",
    "df['num_uniq_email'] = pd.qcut(df['num_uniq_email'],10,duplicates='drop')\n",
    "df['num_uniq_url'] = pd.qcut(df['num_uniq_url'],10,duplicates='drop')\n",
    "df['num_url'] = pd.qcut(df['num_url'],10,duplicates='drop')\n",
    "df['num_url_repeats'] = pd.qcut(df['num_url_repeats'],10,duplicates='drop')"
   ]
  },
  {
   "cell_type": "markdown",
   "metadata": {},
   "source": [
    "Change the continuous and categorical data into one-hot encoding (binary data)"
   ]
  },
  {
   "cell_type": "code",
   "execution_count": 17,
   "metadata": {},
   "outputs": [],
   "source": [
    "categorical_cols = [\n",
    "    'DKIM',\n",
    "    'DMARC',\n",
    "    'SPF',\n",
    "    'from_tld',\n",
    "    'Content-type',\n",
    "    'DOTW',\n",
    "    'HOTD',\n",
    "    'TAP-Score',\n",
    "    'body_len',\n",
    "    'subject_len',\n",
    "    'num_attachments',\n",
    "    'num_email_addr',\n",
    "    'num_email_link',\n",
    "    'num_link',\n",
    "    'num_masq_link',\n",
    "    'num_uniq_email',\n",
    "    'num_uniq_url',\n",
    "    'num_url',\n",
    "    'num_url_repeats',\n",
    "]"
   ]
  },
  {
   "cell_type": "code",
   "execution_count": 18,
   "metadata": {},
   "outputs": [],
   "source": [
    "df_categorical = pd.get_dummies(df[categorical_cols])"
   ]
  },
  {
   "cell_type": "code",
   "execution_count": 19,
   "metadata": {},
   "outputs": [],
   "source": [
    "df.drop(categorical_cols, axis=1, inplace=True)"
   ]
  },
  {
   "cell_type": "code",
   "execution_count": 20,
   "metadata": {},
   "outputs": [],
   "source": [
    "df = pd.concat([df,df_categorical], axis=1)"
   ]
  },
  {
   "cell_type": "code",
   "execution_count": 21,
   "metadata": {},
   "outputs": [],
   "source": [
    "pd.set_option('display.max_colwidth', 40)"
   ]
  },
  {
   "cell_type": "code",
   "execution_count": 22,
   "metadata": {
    "scrolled": true
   },
   "outputs": [
    {
     "data": {
      "text/html": [
       "<div>\n",
       "<style scoped>\n",
       "    .dataframe tbody tr th:only-of-type {\n",
       "        vertical-align: middle;\n",
       "    }\n",
       "\n",
       "    .dataframe tbody tr th {\n",
       "        vertical-align: top;\n",
       "    }\n",
       "\n",
       "    .dataframe thead th {\n",
       "        text-align: right;\n",
       "    }\n",
       "</style>\n",
       "<table border=\"1\" class=\"dataframe\">\n",
       "  <thead>\n",
       "    <tr style=\"text-align: right;\">\n",
       "      <th></th>\n",
       "      <th>has_attachments</th>\n",
       "      <th>has_defects</th>\n",
       "      <th>has_email</th>\n",
       "      <th>has_html_content</th>\n",
       "      <th>has_inline_img</th>\n",
       "      <th>has_javascript</th>\n",
       "      <th>has_masq_link</th>\n",
       "      <th>has_repeat_link</th>\n",
       "      <th>has_unsubscribe_link</th>\n",
       "      <th>has_url</th>\n",
       "      <th>...</th>\n",
       "      <th>num_url_(1.0, 2.0]</th>\n",
       "      <th>num_url_(2.0, 3.0]</th>\n",
       "      <th>num_url_(3.0, 5.0]</th>\n",
       "      <th>num_url_(5.0, 8.0]</th>\n",
       "      <th>num_url_(8.0, 12.0]</th>\n",
       "      <th>num_url_(12.0, 20.0]</th>\n",
       "      <th>num_url_(20.0, 248.0]</th>\n",
       "      <th>num_url_repeats_(-0.001, 1.0]</th>\n",
       "      <th>num_url_repeats_(1.0, 3.0]</th>\n",
       "      <th>num_url_repeats_(3.0, 103.0]</th>\n",
       "    </tr>\n",
       "  </thead>\n",
       "  <tbody>\n",
       "    <tr>\n",
       "      <th>0</th>\n",
       "      <td>1</td>\n",
       "      <td>0</td>\n",
       "      <td>1</td>\n",
       "      <td>0</td>\n",
       "      <td>0</td>\n",
       "      <td>0</td>\n",
       "      <td>0</td>\n",
       "      <td>0</td>\n",
       "      <td>0</td>\n",
       "      <td>1</td>\n",
       "      <td>...</td>\n",
       "      <td>0</td>\n",
       "      <td>0</td>\n",
       "      <td>0</td>\n",
       "      <td>1</td>\n",
       "      <td>0</td>\n",
       "      <td>0</td>\n",
       "      <td>0</td>\n",
       "      <td>1</td>\n",
       "      <td>0</td>\n",
       "      <td>0</td>\n",
       "    </tr>\n",
       "    <tr>\n",
       "      <th>1</th>\n",
       "      <td>0</td>\n",
       "      <td>0</td>\n",
       "      <td>0</td>\n",
       "      <td>1</td>\n",
       "      <td>0</td>\n",
       "      <td>0</td>\n",
       "      <td>0</td>\n",
       "      <td>0</td>\n",
       "      <td>0</td>\n",
       "      <td>1</td>\n",
       "      <td>...</td>\n",
       "      <td>1</td>\n",
       "      <td>0</td>\n",
       "      <td>0</td>\n",
       "      <td>0</td>\n",
       "      <td>0</td>\n",
       "      <td>0</td>\n",
       "      <td>0</td>\n",
       "      <td>1</td>\n",
       "      <td>0</td>\n",
       "      <td>0</td>\n",
       "    </tr>\n",
       "    <tr>\n",
       "      <th>2</th>\n",
       "      <td>0</td>\n",
       "      <td>0</td>\n",
       "      <td>0</td>\n",
       "      <td>1</td>\n",
       "      <td>0</td>\n",
       "      <td>0</td>\n",
       "      <td>1</td>\n",
       "      <td>0</td>\n",
       "      <td>0</td>\n",
       "      <td>1</td>\n",
       "      <td>...</td>\n",
       "      <td>1</td>\n",
       "      <td>0</td>\n",
       "      <td>0</td>\n",
       "      <td>0</td>\n",
       "      <td>0</td>\n",
       "      <td>0</td>\n",
       "      <td>0</td>\n",
       "      <td>1</td>\n",
       "      <td>0</td>\n",
       "      <td>0</td>\n",
       "    </tr>\n",
       "    <tr>\n",
       "      <th>3</th>\n",
       "      <td>0</td>\n",
       "      <td>0</td>\n",
       "      <td>0</td>\n",
       "      <td>0</td>\n",
       "      <td>0</td>\n",
       "      <td>0</td>\n",
       "      <td>0</td>\n",
       "      <td>0</td>\n",
       "      <td>0</td>\n",
       "      <td>1</td>\n",
       "      <td>...</td>\n",
       "      <td>0</td>\n",
       "      <td>0</td>\n",
       "      <td>0</td>\n",
       "      <td>0</td>\n",
       "      <td>0</td>\n",
       "      <td>0</td>\n",
       "      <td>0</td>\n",
       "      <td>1</td>\n",
       "      <td>0</td>\n",
       "      <td>0</td>\n",
       "    </tr>\n",
       "    <tr>\n",
       "      <th>4</th>\n",
       "      <td>0</td>\n",
       "      <td>0</td>\n",
       "      <td>0</td>\n",
       "      <td>0</td>\n",
       "      <td>0</td>\n",
       "      <td>0</td>\n",
       "      <td>0</td>\n",
       "      <td>0</td>\n",
       "      <td>0</td>\n",
       "      <td>1</td>\n",
       "      <td>...</td>\n",
       "      <td>0</td>\n",
       "      <td>0</td>\n",
       "      <td>0</td>\n",
       "      <td>0</td>\n",
       "      <td>0</td>\n",
       "      <td>0</td>\n",
       "      <td>0</td>\n",
       "      <td>1</td>\n",
       "      <td>0</td>\n",
       "      <td>0</td>\n",
       "    </tr>\n",
       "  </tbody>\n",
       "</table>\n",
       "<p>5 rows × 208 columns</p>\n",
       "</div>"
      ],
      "text/plain": [
       "   has_attachments  has_defects  has_email  has_html_content  has_inline_img  \\\n",
       "0                1            0          1                 0               0   \n",
       "1                0            0          0                 1               0   \n",
       "2                0            0          0                 1               0   \n",
       "3                0            0          0                 0               0   \n",
       "4                0            0          0                 0               0   \n",
       "\n",
       "   has_javascript  has_masq_link  has_repeat_link  has_unsubscribe_link  \\\n",
       "0               0              0                0                     0   \n",
       "1               0              0                0                     0   \n",
       "2               0              1                0                     0   \n",
       "3               0              0                0                     0   \n",
       "4               0              0                0                     0   \n",
       "\n",
       "   has_url              ...               num_url_(1.0, 2.0]  \\\n",
       "0        1              ...                                0   \n",
       "1        1              ...                                1   \n",
       "2        1              ...                                1   \n",
       "3        1              ...                                0   \n",
       "4        1              ...                                0   \n",
       "\n",
       "   num_url_(2.0, 3.0]  num_url_(3.0, 5.0] num_url_(5.0, 8.0]  \\\n",
       "0                   0                   0                  1   \n",
       "1                   0                   0                  0   \n",
       "2                   0                   0                  0   \n",
       "3                   0                   0                  0   \n",
       "4                   0                   0                  0   \n",
       "\n",
       "  num_url_(8.0, 12.0] num_url_(12.0, 20.0]  num_url_(20.0, 248.0]  \\\n",
       "0                   0                    0                      0   \n",
       "1                   0                    0                      0   \n",
       "2                   0                    0                      0   \n",
       "3                   0                    0                      0   \n",
       "4                   0                    0                      0   \n",
       "\n",
       "   num_url_repeats_(-0.001, 1.0]  num_url_repeats_(1.0, 3.0]  \\\n",
       "0                              1                           0   \n",
       "1                              1                           0   \n",
       "2                              1                           0   \n",
       "3                              1                           0   \n",
       "4                              1                           0   \n",
       "\n",
       "   num_url_repeats_(3.0, 103.0]  \n",
       "0                             0  \n",
       "1                             0  \n",
       "2                             0  \n",
       "3                             0  \n",
       "4                             0  \n",
       "\n",
       "[5 rows x 208 columns]"
      ]
     },
     "execution_count": 22,
     "metadata": {},
     "output_type": "execute_result"
    }
   ],
   "source": [
    "df.head()"
   ]
  },
  {
   "cell_type": "code",
   "execution_count": 23,
   "metadata": {
    "scrolled": true
   },
   "outputs": [
    {
     "name": "stdout",
     "output_type": "stream",
     "text": [
      "has_attachments\n",
      "has_defects\n",
      "has_email\n",
      "has_html_content\n",
      "has_inline_img\n",
      "has_javascript\n",
      "has_masq_link\n",
      "has_repeat_link\n",
      "has_unsubscribe_link\n",
      "has_url\n",
      "is_multipart\n",
      "num_uniq_link\n",
      "return_path_match_from\n",
      "target\n",
      "text\n",
      "cleaned_text\n",
      "DKIM_\n",
      "DKIM_FAIL\n",
      "DKIM_NONE\n",
      "DKIM_PASS\n",
      "DMARC_\n",
      "DMARC_absent\n",
      "DMARC_none\n",
      "DMARC_pass\n",
      "DMARC_quarantine\n",
      "DMARC_reject\n",
      "SPF_\n",
      "SPF_ERROR\n",
      "SPF_NEUTRAL\n",
      "SPF_NONE\n",
      "SPF_PASS\n",
      "SPF_SOFTFAIL\n",
      "from_tld_\n",
      "from_tld_ai\n",
      "from_tld_bg\n",
      "from_tld_bid\n",
      "from_tld_biz\n",
      "from_tld_ca\n",
      "from_tld_ch\n",
      "from_tld_co\n",
      "from_tld_co.jp\n",
      "from_tld_co.uk\n",
      "from_tld_co.za\n",
      "from_tld_com\n",
      "from_tld_com.ar\n",
      "from_tld_com.br\n",
      "from_tld_com.do\n",
      "from_tld_com.ec\n",
      "from_tld_com.mx\n",
      "from_tld_com.my\n",
      "from_tld_com.ph\n",
      "from_tld_com.pk\n",
      "from_tld_de\n",
      "from_tld_edu\n",
      "from_tld_edu.pk\n",
      "from_tld_email\n",
      "from_tld_es\n",
      "from_tld_eu\n",
      "from_tld_fi\n",
      "from_tld_fr\n",
      "from_tld_global\n",
      "from_tld_gob.cl\n",
      "from_tld_gob.ec\n",
      "from_tld_gov\n",
      "from_tld_gr\n",
      "from_tld_hu\n",
      "from_tld_ie\n",
      "from_tld_info\n",
      "from_tld_io\n",
      "from_tld_it\n",
      "from_tld_k12.in.us\n",
      "from_tld_k12.wi.us\n",
      "from_tld_media\n",
      "from_tld_mx\n",
      "from_tld_ne.jp\n",
      "from_tld_net\n",
      "from_tld_net.pl\n",
      "from_tld_net.tw\n",
      "from_tld_nm.us\n",
      "from_tld_org\n",
      "from_tld_org.gt\n",
      "from_tld_ph\n",
      "from_tld_pl\n",
      "from_tld_ro\n",
      "from_tld_ru\n",
      "from_tld_sk\n",
      "from_tld_travel\n",
      "from_tld_tv\n",
      "from_tld_uk\n",
      "from_tld_us\n",
      "from_tld_website\n",
      "Content-type_Multipart/alternative\n",
      "Content-type_Multipart/mixed\n",
      "Content-type_Multipart/related\n",
      "Content-type_text/plain\n",
      "DOTW_\n",
      "DOTW_0\n",
      "DOTW_1\n",
      "DOTW_2\n",
      "DOTW_3\n",
      "DOTW_4\n",
      "DOTW_5\n",
      "DOTW_6\n",
      "HOTD_\n",
      "HOTD_01\n",
      "HOTD_02\n",
      "HOTD_03\n",
      "HOTD_04\n",
      "HOTD_05\n",
      "HOTD_06\n",
      "HOTD_07\n",
      "HOTD_08\n",
      "HOTD_09\n",
      "HOTD_10\n",
      "HOTD_11\n",
      "HOTD_12\n",
      "HOTD_13\n",
      "HOTD_14\n",
      "HOTD_15\n",
      "HOTD_16\n",
      "HOTD_17\n",
      "HOTD_18\n",
      "HOTD_19\n",
      "HOTD_20\n",
      "HOTD_21\n",
      "HOTD_22\n",
      "HOTD_23\n",
      "TAP-Score_-1\n",
      "TAP-Score_0\n",
      "TAP-Score_1\n",
      "TAP-Score_2\n",
      "TAP-Score_3\n",
      "body_len_(15.999, 126.0]\n",
      "body_len_(126.0, 173.0]\n",
      "body_len_(173.0, 214.45]\n",
      "body_len_(214.45, 249.6]\n",
      "body_len_(249.6, 298.75]\n",
      "body_len_(298.75, 383.9]\n",
      "body_len_(383.9, 497.05]\n",
      "body_len_(497.05, 600.2]\n",
      "body_len_(600.2, 916.0]\n",
      "body_len_(916.0, 1182.0]\n",
      "body_len_(1182.0, 1385.0]\n",
      "body_len_(1385.0, 1622.6]\n",
      "body_len_(1622.6, 1941.75]\n",
      "body_len_(1941.75, 2335.1]\n",
      "body_len_(2335.1, 2816.0]\n",
      "body_len_(2816.0, 3354.4]\n",
      "body_len_(3354.4, 4000.4]\n",
      "body_len_(4000.4, 5604.8]\n",
      "body_len_(5604.8, 8629.05]\n",
      "body_len_(8629.05, 52708.0]\n",
      "subject_len_(-0.001, 13.0]\n",
      "subject_len_(13.0, 19.6]\n",
      "subject_len_(19.6, 25.0]\n",
      "subject_len_(25.0, 31.0]\n",
      "subject_len_(31.0, 37.0]\n",
      "subject_len_(37.0, 41.0]\n",
      "subject_len_(41.0, 46.1]\n",
      "subject_len_(46.1, 55.0]\n",
      "subject_len_(55.0, 63.0]\n",
      "subject_len_(63.0, 246.0]\n",
      "num_attachments_(-0.01, 2.0]\n",
      "num_attachments_(2.0, 4.0]\n",
      "num_attachments_(4.0, 6.0]\n",
      "num_attachments_(6.0, 8.0]\n",
      "num_attachments_(8.0, 10.0]\n",
      "num_email_addr_(-0.193, 38.6]\n",
      "num_email_addr_(38.6, 77.2]\n",
      "num_email_addr_(77.2, 115.8]\n",
      "num_email_addr_(115.8, 154.4]\n",
      "num_email_addr_(154.4, 193.0]\n",
      "num_email_link_(-0.103, 20.6]\n",
      "num_email_link_(20.6, 41.2]\n",
      "num_email_link_(41.2, 61.8]\n",
      "num_email_link_(61.8, 82.4]\n",
      "num_email_link_(82.4, 103.0]\n",
      "num_link_(-0.001, 1.0]\n",
      "num_link_(1.0, 2.0]\n",
      "num_link_(2.0, 4.0]\n",
      "num_link_(4.0, 6.0]\n",
      "num_link_(6.0, 9.4]\n",
      "num_link_(9.4, 15.0]\n",
      "num_link_(15.0, 246.0]\n",
      "num_masq_link_(-0.009, 3.0]\n",
      "num_masq_link_(3.0, 6.0]\n",
      "num_masq_link_(6.0, 9.0]\n",
      "num_uniq_email_(-0.001, 1.0]\n",
      "num_uniq_email_(1.0, 2.0]\n",
      "num_uniq_email_(2.0, 94.0]\n",
      "num_uniq_url_(-0.001, 1.0]\n",
      "num_uniq_url_(1.0, 2.0]\n",
      "num_uniq_url_(2.0, 4.0]\n",
      "num_uniq_url_(4.0, 6.0]\n",
      "num_uniq_url_(6.0, 11.0]\n",
      "num_uniq_url_(11.0, 17.0]\n",
      "num_uniq_url_(17.0, 145.0]\n",
      "num_url_(-0.001, 1.0]\n",
      "num_url_(1.0, 2.0]\n",
      "num_url_(2.0, 3.0]\n",
      "num_url_(3.0, 5.0]\n",
      "num_url_(5.0, 8.0]\n",
      "num_url_(8.0, 12.0]\n",
      "num_url_(12.0, 20.0]\n",
      "num_url_(20.0, 248.0]\n",
      "num_url_repeats_(-0.001, 1.0]\n",
      "num_url_repeats_(1.0, 3.0]\n",
      "num_url_repeats_(3.0, 103.0]\n"
     ]
    }
   ],
   "source": [
    "for i in df.columns:\n",
    "    print(i)"
   ]
  },
  {
   "cell_type": "markdown",
   "metadata": {},
   "source": [
    "Split the sample set into test and training sets"
   ]
  },
  {
   "cell_type": "code",
   "execution_count": 24,
   "metadata": {},
   "outputs": [],
   "source": [
    "df_target = df['target']\n",
    "df_feats = df.drop(['target','text'],axis=1)\n",
    "train_feats, test_feats, train_labels, test_labels = train_test_split(\n",
    "    df_feats, \n",
    "    df_target, \n",
    "    test_size=0.20, \n",
    "    random_state=7350,\n",
    "    stratify=df_target\n",
    ")"
   ]
  },
  {
   "cell_type": "code",
   "execution_count": 25,
   "metadata": {},
   "outputs": [
    {
     "data": {
      "text/plain": [
       "(707, 206)"
      ]
     },
     "execution_count": 25,
     "metadata": {},
     "output_type": "execute_result"
    }
   ],
   "source": [
    "train_feats.shape"
   ]
  },
  {
   "cell_type": "code",
   "execution_count": 26,
   "metadata": {},
   "outputs": [
    {
     "data": {
      "text/plain": [
       "(177, 206)"
      ]
     },
     "execution_count": 26,
     "metadata": {},
     "output_type": "execute_result"
    }
   ],
   "source": [
    "test_feats.shape"
   ]
  },
  {
   "cell_type": "code",
   "execution_count": 27,
   "metadata": {},
   "outputs": [
    {
     "data": {
      "text/plain": [
       "ignore         400\n",
       "investigate    307\n",
       "Name: target, dtype: int64"
      ]
     },
     "execution_count": 27,
     "metadata": {},
     "output_type": "execute_result"
    }
   ],
   "source": [
    "train_labels.value_counts()"
   ]
  },
  {
   "cell_type": "code",
   "execution_count": 28,
   "metadata": {},
   "outputs": [
    {
     "data": {
      "text/plain": [
       "ignore         100\n",
       "investigate     77\n",
       "Name: target, dtype: int64"
      ]
     },
     "execution_count": 28,
     "metadata": {},
     "output_type": "execute_result"
    }
   ],
   "source": [
    "test_labels.value_counts()"
   ]
  },
  {
   "cell_type": "markdown",
   "metadata": {},
   "source": [
    "#### TFIDF Creation"
   ]
  },
  {
   "cell_type": "code",
   "execution_count": 29,
   "metadata": {},
   "outputs": [
    {
     "name": "stdout",
     "output_type": "stream",
     "text": [
      "done in 0.654s\n"
     ]
    }
   ],
   "source": [
    "from sklearn.feature_extraction.text import TfidfVectorizer\n",
    "t0 = time()\n",
    "vectorizer = TfidfVectorizer(\n",
    "    ngram_range=(1,3),\n",
    "    #max_df=0.9, \n",
    "    min_df=2,\n",
    "    use_idf=False,\n",
    "    binary=True,\n",
    ")\n",
    "train_feats_text = vectorizer.fit_transform(train_feats['cleaned_text'].values.tolist())\n",
    "test_feats_text = vectorizer.transform(test_feats['cleaned_text'].values.tolist()) \n",
    "print(\"done in %0.3fs\" % (time() - t0))"
   ]
  },
  {
   "cell_type": "code",
   "execution_count": 30,
   "metadata": {},
   "outputs": [
    {
     "data": {
      "text/plain": [
       "(707, 12639)"
      ]
     },
     "execution_count": 30,
     "metadata": {},
     "output_type": "execute_result"
    }
   ],
   "source": [
    "train_feats_text.shape"
   ]
  },
  {
   "cell_type": "code",
   "execution_count": 31,
   "metadata": {},
   "outputs": [
    {
     "data": {
      "text/plain": [
       "(177, 12639)"
      ]
     },
     "execution_count": 31,
     "metadata": {},
     "output_type": "execute_result"
    }
   ],
   "source": [
    "test_feats_text.shape"
   ]
  },
  {
   "cell_type": "markdown",
   "metadata": {},
   "source": [
    "Change TFIDF back to a dataframe so it can be combined with other features"
   ]
  },
  {
   "cell_type": "code",
   "execution_count": 32,
   "metadata": {},
   "outputs": [],
   "source": [
    "#https://stackoverflow.com/a/50624143\n",
    "train_feats_text_df = pd.DataFrame(train_feats_text.toarray(), columns=vectorizer.get_feature_names())"
   ]
  },
  {
   "cell_type": "code",
   "execution_count": 33,
   "metadata": {},
   "outputs": [
    {
     "data": {
      "text/html": [
       "<div>\n",
       "<style scoped>\n",
       "    .dataframe tbody tr th:only-of-type {\n",
       "        vertical-align: middle;\n",
       "    }\n",
       "\n",
       "    .dataframe tbody tr th {\n",
       "        vertical-align: top;\n",
       "    }\n",
       "\n",
       "    .dataframe thead th {\n",
       "        text-align: right;\n",
       "    }\n",
       "</style>\n",
       "<table border=\"1\" class=\"dataframe\">\n",
       "  <thead>\n",
       "    <tr style=\"text-align: right;\">\n",
       "      <th></th>\n",
       "      <th>aapc</th>\n",
       "      <th>ab</th>\n",
       "      <th>aba</th>\n",
       "      <th>abbuchung</th>\n",
       "      <th>abend</th>\n",
       "      <th>ability</th>\n",
       "      <th>ability level</th>\n",
       "      <th>ability level heated</th>\n",
       "      <th>able</th>\n",
       "      <th>able access</th>\n",
       "      <th>...</th>\n",
       "      <th>youtube instagram</th>\n",
       "      <th>youâ</th>\n",
       "      <th>yt</th>\n",
       "      <th>yu</th>\n",
       "      <th>yð¾u</th>\n",
       "      <th>zach</th>\n",
       "      <th>zone</th>\n",
       "      <th>zoom</th>\n",
       "      <th>zukunft</th>\n",
       "      <th>zur</th>\n",
       "    </tr>\n",
       "  </thead>\n",
       "  <tbody>\n",
       "    <tr>\n",
       "      <th>0</th>\n",
       "      <td>0.0</td>\n",
       "      <td>0.0</td>\n",
       "      <td>0.0</td>\n",
       "      <td>0.0</td>\n",
       "      <td>0.0</td>\n",
       "      <td>0.0</td>\n",
       "      <td>0.0</td>\n",
       "      <td>0.0</td>\n",
       "      <td>0.000000</td>\n",
       "      <td>0.0</td>\n",
       "      <td>...</td>\n",
       "      <td>0.0</td>\n",
       "      <td>0.0</td>\n",
       "      <td>0.0</td>\n",
       "      <td>0.0</td>\n",
       "      <td>0.0</td>\n",
       "      <td>0.0</td>\n",
       "      <td>0.0</td>\n",
       "      <td>0.0</td>\n",
       "      <td>0.0</td>\n",
       "      <td>0.0</td>\n",
       "    </tr>\n",
       "    <tr>\n",
       "      <th>1</th>\n",
       "      <td>0.0</td>\n",
       "      <td>0.0</td>\n",
       "      <td>0.0</td>\n",
       "      <td>0.0</td>\n",
       "      <td>0.0</td>\n",
       "      <td>0.0</td>\n",
       "      <td>0.0</td>\n",
       "      <td>0.0</td>\n",
       "      <td>0.162221</td>\n",
       "      <td>0.0</td>\n",
       "      <td>...</td>\n",
       "      <td>0.0</td>\n",
       "      <td>0.0</td>\n",
       "      <td>0.0</td>\n",
       "      <td>0.0</td>\n",
       "      <td>0.0</td>\n",
       "      <td>0.0</td>\n",
       "      <td>0.0</td>\n",
       "      <td>0.0</td>\n",
       "      <td>0.0</td>\n",
       "      <td>0.0</td>\n",
       "    </tr>\n",
       "    <tr>\n",
       "      <th>2</th>\n",
       "      <td>0.0</td>\n",
       "      <td>0.0</td>\n",
       "      <td>0.0</td>\n",
       "      <td>0.0</td>\n",
       "      <td>0.0</td>\n",
       "      <td>0.0</td>\n",
       "      <td>0.0</td>\n",
       "      <td>0.0</td>\n",
       "      <td>0.086387</td>\n",
       "      <td>0.0</td>\n",
       "      <td>...</td>\n",
       "      <td>0.0</td>\n",
       "      <td>0.0</td>\n",
       "      <td>0.0</td>\n",
       "      <td>0.0</td>\n",
       "      <td>0.0</td>\n",
       "      <td>0.0</td>\n",
       "      <td>0.0</td>\n",
       "      <td>0.0</td>\n",
       "      <td>0.0</td>\n",
       "      <td>0.0</td>\n",
       "    </tr>\n",
       "    <tr>\n",
       "      <th>3</th>\n",
       "      <td>0.0</td>\n",
       "      <td>0.0</td>\n",
       "      <td>0.0</td>\n",
       "      <td>0.0</td>\n",
       "      <td>0.0</td>\n",
       "      <td>0.0</td>\n",
       "      <td>0.0</td>\n",
       "      <td>0.0</td>\n",
       "      <td>0.000000</td>\n",
       "      <td>0.0</td>\n",
       "      <td>...</td>\n",
       "      <td>0.0</td>\n",
       "      <td>0.0</td>\n",
       "      <td>0.0</td>\n",
       "      <td>0.0</td>\n",
       "      <td>0.0</td>\n",
       "      <td>0.0</td>\n",
       "      <td>0.0</td>\n",
       "      <td>0.0</td>\n",
       "      <td>0.0</td>\n",
       "      <td>0.0</td>\n",
       "    </tr>\n",
       "    <tr>\n",
       "      <th>4</th>\n",
       "      <td>0.0</td>\n",
       "      <td>0.0</td>\n",
       "      <td>0.0</td>\n",
       "      <td>0.0</td>\n",
       "      <td>0.0</td>\n",
       "      <td>0.0</td>\n",
       "      <td>0.0</td>\n",
       "      <td>0.0</td>\n",
       "      <td>0.000000</td>\n",
       "      <td>0.0</td>\n",
       "      <td>...</td>\n",
       "      <td>0.0</td>\n",
       "      <td>0.0</td>\n",
       "      <td>0.0</td>\n",
       "      <td>0.0</td>\n",
       "      <td>0.0</td>\n",
       "      <td>0.0</td>\n",
       "      <td>0.0</td>\n",
       "      <td>0.0</td>\n",
       "      <td>0.0</td>\n",
       "      <td>0.0</td>\n",
       "    </tr>\n",
       "  </tbody>\n",
       "</table>\n",
       "<p>5 rows × 12639 columns</p>\n",
       "</div>"
      ],
      "text/plain": [
       "   aapc   ab  aba  abbuchung  abend  ability  ability level  \\\n",
       "0   0.0  0.0  0.0        0.0    0.0      0.0            0.0   \n",
       "1   0.0  0.0  0.0        0.0    0.0      0.0            0.0   \n",
       "2   0.0  0.0  0.0        0.0    0.0      0.0            0.0   \n",
       "3   0.0  0.0  0.0        0.0    0.0      0.0            0.0   \n",
       "4   0.0  0.0  0.0        0.0    0.0      0.0            0.0   \n",
       "\n",
       "   ability level heated      able  able access ...   youtube instagram  youâ  \\\n",
       "0                   0.0  0.000000          0.0 ...                 0.0   0.0   \n",
       "1                   0.0  0.162221          0.0 ...                 0.0   0.0   \n",
       "2                   0.0  0.086387          0.0 ...                 0.0   0.0   \n",
       "3                   0.0  0.000000          0.0 ...                 0.0   0.0   \n",
       "4                   0.0  0.000000          0.0 ...                 0.0   0.0   \n",
       "\n",
       "    yt   yu  yð¾u  zach  zone  zoom  zukunft  zur  \n",
       "0  0.0  0.0   0.0   0.0   0.0   0.0      0.0  0.0  \n",
       "1  0.0  0.0   0.0   0.0   0.0   0.0      0.0  0.0  \n",
       "2  0.0  0.0   0.0   0.0   0.0   0.0      0.0  0.0  \n",
       "3  0.0  0.0   0.0   0.0   0.0   0.0      0.0  0.0  \n",
       "4  0.0  0.0   0.0   0.0   0.0   0.0      0.0  0.0  \n",
       "\n",
       "[5 rows x 12639 columns]"
      ]
     },
     "execution_count": 33,
     "metadata": {},
     "output_type": "execute_result"
    }
   ],
   "source": [
    "train_feats_text_df.head()"
   ]
  },
  {
   "cell_type": "code",
   "execution_count": 34,
   "metadata": {},
   "outputs": [
    {
     "data": {
      "text/plain": [
       "(707, 12844)"
      ]
     },
     "execution_count": 34,
     "metadata": {},
     "output_type": "execute_result"
    }
   ],
   "source": [
    "train_feats = pd.concat([\n",
    "    train_feats.reset_index(drop=True),\n",
    "    train_feats_text_df.reset_index(drop=True)\n",
    "],axis=1)\n",
    "train_feats.drop('cleaned_text',axis=1,inplace=True)\n",
    "train_feats.shape"
   ]
  },
  {
   "cell_type": "markdown",
   "metadata": {},
   "source": [
    "Do the same for the test features"
   ]
  },
  {
   "cell_type": "code",
   "execution_count": 35,
   "metadata": {},
   "outputs": [
    {
     "data": {
      "text/plain": [
       "(177, 12844)"
      ]
     },
     "execution_count": 35,
     "metadata": {},
     "output_type": "execute_result"
    }
   ],
   "source": [
    "test_feats_text_df = pd.DataFrame(test_feats_text.toarray(), columns=vectorizer.get_feature_names())\n",
    "test_feats_text_df = test_feats_text_df.add_prefix('LSA_')\n",
    "test_feats = pd.concat([\n",
    "    test_feats.reset_index(drop=True),\n",
    "    test_feats_text_df.reset_index(drop=True)\n",
    "],axis=1)\n",
    "test_feats.drop('cleaned_text',axis=1,inplace=True)\n",
    "test_feats.shape"
   ]
  },
  {
   "cell_type": "markdown",
   "metadata": {},
   "source": [
    "#### SMOTE"
   ]
  },
  {
   "cell_type": "code",
   "execution_count": 36,
   "metadata": {},
   "outputs": [
    {
     "name": "stdout",
     "output_type": "stream",
     "text": [
      "Before SMOTE\n",
      "(707, 12844)\n",
      "(707,)\n",
      "\n",
      "After SMOTE\n",
      "(800, 12844)\n",
      "(800,)\n"
     ]
    }
   ],
   "source": [
    "print('Before SMOTE')\n",
    "print(train_feats.shape)\n",
    "print(train_labels.shape)\n",
    "sm = SMOTE(random_state=42)\n",
    "train_feats, train_labels = sm.fit_sample(train_feats, train_labels)\n",
    "print('\\nAfter SMOTE')\n",
    "print(train_feats.shape)\n",
    "print(train_labels.shape)"
   ]
  },
  {
   "cell_type": "markdown",
   "metadata": {},
   "source": [
    "Function to keep track of scoring and for printing results out"
   ]
  },
  {
   "cell_type": "code",
   "execution_count": 37,
   "metadata": {},
   "outputs": [],
   "source": [
    "score_dict = {}\n",
    "def scoring(score_dict,train_feats,train_labels,test_feats,test_labels,clf):\n",
    "    if 'accuracy' not in score_dict:\n",
    "        score_dict['accuracy'] = []\n",
    "    if 'f1' not in score_dict:\n",
    "        score_dict['f1'] = []\n",
    "    if 'recall' not in score_dict:\n",
    "        score_dict['recall'] = []    \n",
    "    if 'FN' not in score_dict:\n",
    "        score_dict['FN'] = []\n",
    "    clf_name = re.findall('(^[^\\(]+)\\(',str(clf))[0]\n",
    "    already_seen = clf.score(train_feats, train_labels)\n",
    "    accuracy = clf.score(test_feats, test_labels)\n",
    "    pred = clf.predict(test_feats)\n",
    "    f1 = f1_score(test_labels, pred, pos_label='investigate')\n",
    "    recall = recall_score(test_labels, pred, pos_label='investigate')\n",
    "    cnf_matrix = confusion_matrix(test_labels, pred)\n",
    "    FN = cnf_matrix[1][0]\n",
    "    false_negative = cnf_matrix[1][0]\n",
    "    score_dict['accuracy'].append((clf_name,accuracy))\n",
    "    score_dict['f1'].append((clf_name,f1))\n",
    "    score_dict['recall'].append((clf_name,recall))\n",
    "    score_dict['FN'].append((clf_name,false_negative))\n",
    "    print(clf_name + ' Scores:\\n')\n",
    "    print('Accuracy of data already seen: %0.4f' % already_seen)\n",
    "    print('Accuracy of data not seen: %0.4f' % accuracy)\n",
    "    print('F1 score: %0.4f' % f1)\n",
    "    print('Recall score: %0f' % recall)\n",
    "    print('False Negatives: %0d' % FN)\n",
    "    return score_dict"
   ]
  },
  {
   "cell_type": "markdown",
   "metadata": {},
   "source": [
    "#### SVM"
   ]
  },
  {
   "cell_type": "code",
   "execution_count": 38,
   "metadata": {},
   "outputs": [
    {
     "name": "stdout",
     "output_type": "stream",
     "text": [
      "done in 0.104s\n",
      "LinearSVC Scores:\n",
      "\n",
      "Accuracy of data already seen: 1.0000\n",
      "Accuracy of data not seen: 0.8870\n",
      "F1 score: 0.8701\n",
      "Recall score: 0.870130\n",
      "False Negatives: 10\n"
     ]
    }
   ],
   "source": [
    "from sklearn.svm import LinearSVC \n",
    "t0 = time()\n",
    "svm_clf = LinearSVC(random_state=7350)\n",
    "svm_clf.fit(train_feats, train_labels)\n",
    "print(\"done in %0.3fs\" % (time() - t0))\n",
    "score_dict = scoring(score_dict,train_feats,train_labels,test_feats,test_labels,svm_clf)"
   ]
  },
  {
   "cell_type": "code",
   "execution_count": 39,
   "metadata": {},
   "outputs": [
    {
     "name": "stdout",
     "output_type": "stream",
     "text": [
      "done in 8.980s\n",
      "SVC Scores:\n",
      "\n",
      "Accuracy of data already seen: 0.7288\n",
      "Accuracy of data not seen: 0.6780\n",
      "F1 score: 0.7220\n",
      "Recall score: 0.961039\n",
      "False Negatives: 3\n"
     ]
    }
   ],
   "source": [
    "from sklearn.svm import SVC \n",
    "t0 = time()\n",
    "svmr_clf = SVC(random_state=7350)\n",
    "svmr_clf.fit(train_feats, train_labels)\n",
    "print(\"done in %0.3fs\" % (time() - t0))\n",
    "score_dict = scoring(score_dict,train_feats,train_labels,test_feats,test_labels,svmr_clf)"
   ]
  },
  {
   "cell_type": "markdown",
   "metadata": {},
   "source": [
    "#### Extra Trees Classifier"
   ]
  },
  {
   "cell_type": "code",
   "execution_count": 40,
   "metadata": {},
   "outputs": [
    {
     "name": "stdout",
     "output_type": "stream",
     "text": [
      "done in 2.006s\n",
      "ExtraTreesClassifier Scores:\n",
      "\n",
      "Accuracy of data already seen: 1.0000\n",
      "Accuracy of data not seen: 0.9209\n",
      "F1 score: 0.9091\n",
      "Recall score: 0.909091\n",
      "False Negatives: 7\n"
     ]
    }
   ],
   "source": [
    "from sklearn.ensemble import ExtraTreesClassifier\n",
    "t0 = time()\n",
    "et_clf = ExtraTreesClassifier(n_jobs=-1,n_estimators=100,random_state=7350)\n",
    "et_clf.fit(train_feats, train_labels)\n",
    "print(\"done in %0.3fs\" % (time() - t0))\n",
    "score_dict = scoring(score_dict,train_feats,train_labels,test_feats,test_labels,et_clf)"
   ]
  },
  {
   "cell_type": "markdown",
   "metadata": {},
   "source": [
    "Get Feature Importances"
   ]
  },
  {
   "cell_type": "code",
   "execution_count": 41,
   "metadata": {
    "scrolled": false
   },
   "outputs": [
    {
     "name": "stdout",
     "output_type": "stream",
     "text": [
      "Feature ranking:\n",
      "1. num_link_(-0.001, 1.0] (0.040122)\n",
      "2. num_uniq_url_(-0.001, 1.0] (0.028469)\n",
      "3. num_url_(-0.001, 1.0] (0.025742)\n",
      "4. Content-type_Multipart/alternative (0.024907)\n",
      "5. return_path_match_from (0.019329)\n",
      "6. is_multipart (0.013124)\n",
      "7. LSA_unsubscribe (0.012005)\n",
      "8. SPF_NONE (0.011461)\n",
      "9. LSA_invoice (0.010835)\n",
      "10. SPF_PASS (0.010159)\n",
      "11. num_url_repeats_(-0.001, 1.0] (0.008996)\n",
      "12. LSA_time (0.007226)\n",
      "13. num_uniq_url_(6.0, 11.0] (0.007175)\n",
      "14. has_unsubscribe_link (0.006520)\n",
      "15. body_len_(214.45, 249.6] (0.006451)\n",
      "16. from_tld_com (0.006168)\n",
      "17. LSA_future (0.005883)\n",
      "18. LSA_work (0.005587)\n",
      "19. LSA_learn (0.005444)\n",
      "20. Content-type_text/plain (0.005344)\n",
      "21. num_link_(6.0, 9.4] (0.005294)\n",
      "22. num_link_(15.0, 246.0] (0.005235)\n",
      "23. num_link_(9.4, 15.0] (0.005007)\n",
      "24. num_url_(3.0, 5.0] (0.004417)\n",
      "25. num_url_(12.0, 20.0] (0.004373)\n"
     ]
    }
   ],
   "source": [
    "#http://scikit-learn.org/stable/auto_examples/ensemble/plot_forest_importances.html\n",
    "#https://stackoverflow.com/a/42429989\n",
    "#https://stackoverflow.com/a/25219535\n",
    "importances = et_clf.feature_importances_\n",
    "std = np.std([tree.feature_importances_ for tree in et_clf.estimators_],\n",
    "             axis=0)\n",
    "indices = np.argsort(importances)[::-1]\n",
    "features = test_feats.columns\n",
    "print(\"Feature ranking:\")\n",
    "for f in range(25):\n",
    "    print(\"%d. %s (%f)\" % (f + 1, features[indices[f]], importances[indices[f]]))"
   ]
  },
  {
   "cell_type": "code",
   "execution_count": 42,
   "metadata": {
    "scrolled": false
   },
   "outputs": [
    {
     "data": {
      "image/png": "[encoded data removed]",
      "text/plain": [
       "<matplotlib.figure.Figure at 0x1a1b5430f0>"
      ]
     },
     "metadata": {},
     "output_type": "display_data"
    }
   ],
   "source": [
    "top_indices = indices[:25]\n",
    "top_features = [features[i] for i in indices[:25]]\n",
    "plt.figure(figsize=(18, 16))\n",
    "plt.title(\"Feature importances\")\n",
    "plt.bar(range(25), importances[top_indices],color=\"orange\", yerr=std[top_indices], align=\"center\",)\n",
    "plt.xticks(range(25), top_features, rotation=75)\n",
    "plt.xlim([-1, 25])\n",
    "plt.show()"
   ]
  },
  {
   "cell_type": "markdown",
   "metadata": {},
   "source": [
    "#### Gradient Boost"
   ]
  },
  {
   "cell_type": "code",
   "execution_count": 43,
   "metadata": {},
   "outputs": [
    {
     "name": "stdout",
     "output_type": "stream",
     "text": [
      "done in 51.026s\n",
      "GradientBoostingClassifier Scores:\n",
      "\n",
      "Accuracy of data already seen: 0.9975\n",
      "Accuracy of data not seen: 0.8927\n",
      "F1 score: 0.8758\n",
      "Recall score: 0.870130\n",
      "False Negatives: 10\n"
     ]
    }
   ],
   "source": [
    "from sklearn.ensemble import GradientBoostingClassifier\n",
    "t0 = time()\n",
    "gb_clf = GradientBoostingClassifier(n_estimators=100,random_state=7350)\n",
    "gb_clf.fit(train_feats, train_labels)\n",
    "print(\"done in %0.3fs\" % (time() - t0))\n",
    "score_dict = scoring(score_dict,train_feats,train_labels,test_feats,test_labels,gb_clf)"
   ]
  },
  {
   "cell_type": "markdown",
   "metadata": {},
   "source": [
    "#### XGBoost"
   ]
  },
  {
   "cell_type": "code",
   "execution_count": 44,
   "metadata": {},
   "outputs": [],
   "source": [
    "# from xgboost import XGBClassifier\n",
    "# t0 = time()\n",
    "# xgb_clf = XGBClassifier(max_depth=5,random_state=7350,n_estimators=100,n_jobs=-1)\n",
    "# xgb_clf.fit(train_feats, train_labels)\n",
    "# print(\"done in %0.3fs\" % (time() - t0))\n",
    "# score_dict = scoring(score_dict,train_feats,train_labels,test_feats,test_labels,xgb_clf)"
   ]
  },
  {
   "cell_type": "markdown",
   "metadata": {},
   "source": [
    "#### Neural Net"
   ]
  },
  {
   "cell_type": "code",
   "execution_count": 45,
   "metadata": {},
   "outputs": [
    {
     "name": "stdout",
     "output_type": "stream",
     "text": [
      "done in 21.603s\n",
      "MLPClassifier Scores:\n",
      "\n",
      "Accuracy of data already seen: 1.0000\n",
      "Accuracy of data not seen: 0.9040\n",
      "F1 score: 0.8874\n",
      "Recall score: 0.870130\n",
      "False Negatives: 10\n"
     ]
    }
   ],
   "source": [
    "from sklearn.neural_network import MLPClassifier\n",
    "t0 = time()\n",
    "nn_clf = MLPClassifier(max_iter=800)\n",
    "nn_clf.fit(train_feats, train_labels)\n",
    "print(\"done in %0.3fs\" % (time() - t0))\n",
    "score_dict = scoring(score_dict,train_feats,train_labels,test_feats,test_labels,nn_clf)"
   ]
  },
  {
   "cell_type": "markdown",
   "metadata": {},
   "source": [
    "#### Naive Bayes"
   ]
  },
  {
   "cell_type": "code",
   "execution_count": 46,
   "metadata": {},
   "outputs": [
    {
     "name": "stdout",
     "output_type": "stream",
     "text": [
      "done in 0.031s\n",
      "MultinomialNB Scores:\n",
      "\n",
      "Accuracy of data already seen: 0.9513\n",
      "Accuracy of data not seen: 0.9153\n",
      "F1 score: 0.9045\n",
      "Recall score: 0.922078\n",
      "False Negatives: 6\n"
     ]
    }
   ],
   "source": [
    "from sklearn.naive_bayes import MultinomialNB\n",
    "t0 = time()\n",
    "nb_clf = MultinomialNB(alpha=.001)\n",
    "nb_clf.fit(train_feats, train_labels)\n",
    "print(\"done in %0.3fs\" % (time() - t0))\n",
    "score_dict = scoring(score_dict,train_feats,train_labels,test_feats,test_labels,nb_clf)"
   ]
  },
  {
   "cell_type": "code",
   "execution_count": 47,
   "metadata": {},
   "outputs": [
    {
     "name": "stdout",
     "output_type": "stream",
     "text": [
      "done in 0.209s\n",
      "GaussianNB Scores:\n",
      "\n",
      "Accuracy of data already seen: 0.9962\n",
      "Accuracy of data not seen: 0.8305\n",
      "F1 score: 0.7857\n",
      "Recall score: 0.714286\n",
      "False Negatives: 22\n"
     ]
    }
   ],
   "source": [
    "from sklearn.naive_bayes import GaussianNB\n",
    "t0 = time()\n",
    "gnb_clf = GaussianNB()\n",
    "gnb_clf.fit(train_feats, train_labels)\n",
    "print(\"done in %0.3fs\" % (time() - t0))\n",
    "score_dict = scoring(score_dict,train_feats,train_labels,test_feats,test_labels,gnb_clf)"
   ]
  },
  {
   "cell_type": "markdown",
   "metadata": {},
   "source": [
    "#### Random Forest"
   ]
  },
  {
   "cell_type": "code",
   "execution_count": 48,
   "metadata": {},
   "outputs": [
    {
     "name": "stdout",
     "output_type": "stream",
     "text": [
      "done in 1.029s\n",
      "RandomForestClassifier Scores:\n",
      "\n",
      "Accuracy of data already seen: 1.0000\n",
      "Accuracy of data not seen: 0.9153\n",
      "F1 score: 0.9020\n",
      "Recall score: 0.896104\n",
      "False Negatives: 8\n"
     ]
    }
   ],
   "source": [
    "from sklearn.ensemble import RandomForestClassifier\n",
    "t0 = time()\n",
    "rf_clf = RandomForestClassifier(n_jobs=-1,n_estimators=100,random_state=7350)\n",
    "rf_clf.fit(train_feats, train_labels)\n",
    "print(\"done in %0.3fs\" % (time() - t0))\n",
    "score_dict = scoring(score_dict,train_feats,train_labels,test_feats,test_labels,rf_clf)"
   ]
  },
  {
   "cell_type": "code",
   "execution_count": 49,
   "metadata": {},
   "outputs": [
    {
     "name": "stdout",
     "output_type": "stream",
     "text": [
      "Feature ranking:\n",
      "1. num_url_(-0.001, 1.0] (0.027021)\n",
      "2. num_uniq_url_(-0.001, 1.0] (0.026278)\n",
      "3. num_link_(-0.001, 1.0] (0.025697)\n",
      "4. num_uniq_link (0.019497)\n",
      "5. has_unsubscribe_link (0.015224)\n",
      "6. return_path_match_from (0.014897)\n",
      "7. LSA_time (0.014563)\n",
      "8. LSA_unsubscribe (0.012491)\n",
      "9. SPF_PASS (0.011892)\n",
      "10. is_multipart (0.011629)\n",
      "11. LSA_work (0.010665)\n",
      "12. LSA_invoice (0.009924)\n",
      "13. LSA_want (0.009327)\n",
      "14. has_html_content (0.008999)\n",
      "15. Content-type_Multipart/alternative (0.008387)\n",
      "16. LSA_learn (0.007371)\n",
      "17. SPF_NONE (0.007271)\n",
      "18. LSA_thank (0.006863)\n",
      "19. LSA_not (0.006860)\n",
      "20. LSA_future (0.006783)\n",
      "21. LSA_email (0.006646)\n",
      "22. from_tld_com (0.005607)\n",
      "23. num_url_repeats_(-0.001, 1.0] (0.005529)\n",
      "24. LSA_need (0.005209)\n",
      "25. LSA_like (0.005197)\n"
     ]
    }
   ],
   "source": [
    "importances = rf_clf.feature_importances_\n",
    "std = np.std([tree.feature_importances_ for tree in rf_clf.estimators_],\n",
    "             axis=0)\n",
    "indices = np.argsort(importances)[::-1]\n",
    "features = test_feats.columns\n",
    "print(\"Feature ranking:\")\n",
    "for f in range(25):\n",
    "    print(\"%d. %s (%f)\" % (f + 1, features[indices[f]], importances[indices[f]]))"
   ]
  },
  {
   "cell_type": "code",
   "execution_count": 50,
   "metadata": {},
   "outputs": [
    {
     "data": {
      "image/png": "[encoded data removed]",
      "text/plain": [
       "<matplotlib.figure.Figure at 0x1a1b4ce6a0>"
      ]
     },
     "metadata": {},
     "output_type": "display_data"
    }
   ],
   "source": [
    "top_indices = indices[:25]\n",
    "top_features = [features[i] for i in indices[:25]]\n",
    "plt.figure(figsize=(18, 16))\n",
    "plt.title(\"Feature importances\")\n",
    "plt.bar(range(25), importances[top_indices],color=\"red\", yerr=std[top_indices], align=\"center\",)\n",
    "plt.xticks(range(25), top_features, rotation=75)\n",
    "plt.xlim([-1, 25])\n",
    "plt.show()"
   ]
  },
  {
   "cell_type": "markdown",
   "metadata": {},
   "source": [
    "#### Nearest Neighbors"
   ]
  },
  {
   "cell_type": "code",
   "execution_count": 51,
   "metadata": {},
   "outputs": [
    {
     "name": "stdout",
     "output_type": "stream",
     "text": [
      "done in 0.121s\n",
      "KNeighborsClassifier Scores:\n",
      "\n",
      "Accuracy of data already seen: 0.9163\n",
      "Accuracy of data not seen: 0.8870\n",
      "F1 score: 0.8734\n",
      "Recall score: 0.896104\n",
      "False Negatives: 8\n"
     ]
    }
   ],
   "source": [
    "from sklearn.neighbors import KNeighborsClassifier\n",
    "t0 = time()\n",
    "knn_clf = KNeighborsClassifier(n_jobs=-1,leaf_size=100)\n",
    "knn_clf.fit(train_feats, train_labels)\n",
    "print(\"done in %0.3fs\" % (time() - t0))\n",
    "score_dict = scoring(score_dict,train_feats,train_labels,test_feats,test_labels,knn_clf)"
   ]
  },
  {
   "cell_type": "markdown",
   "metadata": {},
   "source": [
    "#### NearestCentroid"
   ]
  },
  {
   "cell_type": "code",
   "execution_count": 52,
   "metadata": {},
   "outputs": [
    {
     "name": "stdout",
     "output_type": "stream",
     "text": [
      "done in 0.059s\n",
      "NearestCentroid Scores:\n",
      "\n",
      "Accuracy of data already seen: 0.7562\n",
      "Accuracy of data not seen: 0.7006\n",
      "F1 score: 0.7310\n",
      "Recall score: 0.935065\n",
      "False Negatives: 5\n"
     ]
    }
   ],
   "source": [
    "from sklearn.neighbors import NearestCentroid\n",
    "t0 = time()\n",
    "nc_clf = NearestCentroid()\n",
    "nc_clf.fit(train_feats, train_labels)\n",
    "print(\"done in %0.3fs\" % (time() - t0))\n",
    "score_dict = scoring(score_dict,train_feats,train_labels,test_feats,test_labels,nc_clf)"
   ]
  },
  {
   "cell_type": "markdown",
   "metadata": {},
   "source": [
    "#### AdaBoost"
   ]
  },
  {
   "cell_type": "code",
   "execution_count": 53,
   "metadata": {},
   "outputs": [
    {
     "name": "stdout",
     "output_type": "stream",
     "text": [
      "done in 18.267s\n",
      "AdaBoostClassifier Scores:\n",
      "\n",
      "Accuracy of data already seen: 1.0000\n",
      "Accuracy of data not seen: 0.8927\n",
      "F1 score: 0.8758\n",
      "Recall score: 0.870130\n",
      "False Negatives: 10\n"
     ]
    }
   ],
   "source": [
    "from sklearn.ensemble import AdaBoostClassifier\n",
    "t0 = time()\n",
    "ab_clf = AdaBoostClassifier(n_estimators=100,random_state=7350)\n",
    "ab_clf.fit(train_feats, train_labels)\n",
    "print(\"done in %0.3fs\" % (time() - t0))\n",
    "score_dict = scoring(score_dict,train_feats,train_labels,test_feats,test_labels,ab_clf)"
   ]
  },
  {
   "cell_type": "markdown",
   "metadata": {},
   "source": [
    "#### QuadraticDiscriminantAnalysis"
   ]
  },
  {
   "cell_type": "code",
   "execution_count": 54,
   "metadata": {},
   "outputs": [
    {
     "name": "stderr",
     "output_type": "stream",
     "text": [
      "/usr/local/anaconda3/lib/python3.6/site-packages/sklearn/discriminant_analysis.py:682: UserWarning: Variables are collinear\n",
      "  warnings.warn(\"Variables are collinear\")\n"
     ]
    },
    {
     "name": "stdout",
     "output_type": "stream",
     "text": [
      "done in 1.232s\n",
      "QuadraticDiscriminantAnalysis Scores:\n",
      "\n",
      "Accuracy of data already seen: 1.0000\n",
      "Accuracy of data not seen: 0.5763\n",
      "F1 score: 0.0506\n",
      "Recall score: 0.025974\n",
      "False Negatives: 75\n"
     ]
    }
   ],
   "source": [
    "from sklearn.discriminant_analysis import QuadraticDiscriminantAnalysis\n",
    "t0 = time()\n",
    "qda_clf = QuadraticDiscriminantAnalysis()\n",
    "qda_clf.fit(train_feats, train_labels)\n",
    "print(\"done in %0.3fs\" % (time() - t0))\n",
    "score_dict = scoring(score_dict,train_feats,train_labels,test_feats,test_labels,qda_clf)"
   ]
  },
  {
   "cell_type": "markdown",
   "metadata": {},
   "source": [
    "#### GaussianProcessClassifier"
   ]
  },
  {
   "cell_type": "code",
   "execution_count": 55,
   "metadata": {},
   "outputs": [
    {
     "name": "stdout",
     "output_type": "stream",
     "text": [
      "done in 11.533s\n",
      "GaussianProcessClassifier Scores:\n",
      "\n",
      "Accuracy of data already seen: 1.0000\n",
      "Accuracy of data not seen: 0.8870\n",
      "F1 score: 0.8734\n",
      "Recall score: 0.896104\n",
      "False Negatives: 8\n"
     ]
    }
   ],
   "source": [
    "from sklearn.gaussian_process import GaussianProcessClassifier\n",
    "t0 = time()\n",
    "gp_clf = GaussianProcessClassifier(random_state=7350)\n",
    "gp_clf.fit(train_feats, train_labels)\n",
    "#gp_pred = gp_clf.predict(test_feats)\n",
    "print(\"done in %0.3fs\" % (time() - t0))\n",
    "score_dict = scoring(score_dict,train_feats,train_labels,test_feats,test_labels,gp_clf)"
   ]
  },
  {
   "cell_type": "markdown",
   "metadata": {},
   "source": [
    "#### Decision Tree"
   ]
  },
  {
   "cell_type": "code",
   "execution_count": 56,
   "metadata": {},
   "outputs": [
    {
     "name": "stdout",
     "output_type": "stream",
     "text": [
      "done in 0.800s\n",
      "DecisionTreeClassifier Scores:\n",
      "\n",
      "Accuracy of data already seen: 1.0000\n",
      "Accuracy of data not seen: 0.8418\n",
      "F1 score: 0.8250\n",
      "Recall score: 0.857143\n",
      "False Negatives: 11\n"
     ]
    }
   ],
   "source": [
    "from sklearn.tree import DecisionTreeClassifier\n",
    "t0 = time()\n",
    "dt_clf = DecisionTreeClassifier(random_state=7350)\n",
    "dt_clf.fit(train_feats, train_labels)\n",
    "print(\"done in %0.3fs\" % (time() - t0))\n",
    "score_dict = scoring(score_dict,train_feats,train_labels,test_feats,test_labels,dt_clf)"
   ]
  },
  {
   "cell_type": "markdown",
   "metadata": {},
   "source": [
    "#### LogisticRegression"
   ]
  },
  {
   "cell_type": "code",
   "execution_count": 57,
   "metadata": {},
   "outputs": [
    {
     "name": "stdout",
     "output_type": "stream",
     "text": [
      "done in 0.076s\n",
      "LogisticRegression Scores:\n",
      "\n",
      "Accuracy of data already seen: 0.9712\n",
      "Accuracy of data not seen: 0.8927\n",
      "F1 score: 0.8790\n",
      "Recall score: 0.896104\n",
      "False Negatives: 8\n"
     ]
    }
   ],
   "source": [
    "from sklearn.linear_model import LogisticRegression\n",
    "t0 = time()\n",
    "lr_clf = LogisticRegression(random_state=7350)\n",
    "lr_clf.fit(train_feats, train_labels)\n",
    "print(\"done in %0.3fs\" % (time() - t0))\n",
    "score_dict = scoring(score_dict,train_feats,train_labels,test_feats,test_labels,lr_clf)"
   ]
  },
  {
   "cell_type": "markdown",
   "metadata": {},
   "source": [
    "#### PassiveAggressiveClassifier"
   ]
  },
  {
   "cell_type": "code",
   "execution_count": 58,
   "metadata": {
    "scrolled": true
   },
   "outputs": [
    {
     "name": "stderr",
     "output_type": "stream",
     "text": [
      "/usr/local/anaconda3/lib/python3.6/site-packages/sklearn/linear_model/stochastic_gradient.py:128: FutureWarning: max_iter and tol parameters have been added in <class 'sklearn.linear_model.passive_aggressive.PassiveAggressiveClassifier'> in 0.19. If both are left unset, they default to max_iter=5 and tol=None. If tol is not None, max_iter defaults to max_iter=1000. From 0.21, default max_iter will be 1000, and default tol will be 1e-3.\n",
      "  \"and default tol will be 1e-3.\" % type(self), FutureWarning)\n"
     ]
    },
    {
     "name": "stdout",
     "output_type": "stream",
     "text": [
      "done in 0.250s\n",
      "PassiveAggressiveClassifier Scores:\n",
      "\n",
      "Accuracy of data already seen: 0.9637\n",
      "Accuracy of data not seen: 0.8757\n",
      "F1 score: 0.8533\n",
      "Recall score: 0.831169\n",
      "False Negatives: 13\n"
     ]
    }
   ],
   "source": [
    "from sklearn.linear_model import PassiveAggressiveClassifier\n",
    "t0 = time()\n",
    "pa_clf = PassiveAggressiveClassifier(n_jobs=-1,random_state=7350)\n",
    "pa_clf.fit(train_feats, train_labels)\n",
    "print(\"done in %0.3fs\" % (time() - t0))\n",
    "score_dict = scoring(score_dict,train_feats,train_labels,test_feats,test_labels,pa_clf)"
   ]
  },
  {
   "cell_type": "markdown",
   "metadata": {},
   "source": [
    "#### RidgeClassifier"
   ]
  },
  {
   "cell_type": "code",
   "execution_count": 59,
   "metadata": {},
   "outputs": [
    {
     "name": "stdout",
     "output_type": "stream",
     "text": [
      "done in 0.294s\n",
      "RidgeClassifier Scores:\n",
      "\n",
      "Accuracy of data already seen: 1.0000\n",
      "Accuracy of data not seen: 0.9096\n",
      "F1 score: 0.8961\n",
      "Recall score: 0.896104\n",
      "False Negatives: 8\n"
     ]
    }
   ],
   "source": [
    "from sklearn.linear_model import RidgeClassifier\n",
    "t0 = time()\n",
    "rd_clf = RidgeClassifier(random_state=7350)\n",
    "rd_clf.fit(train_feats, train_labels)\n",
    "print(\"done in %0.3fs\" % (time() - t0))\n",
    "score_dict = scoring(score_dict,train_feats,train_labels,test_feats,test_labels,rd_clf)"
   ]
  },
  {
   "cell_type": "markdown",
   "metadata": {},
   "source": [
    "#### SGDClassifier"
   ]
  },
  {
   "cell_type": "code",
   "execution_count": 60,
   "metadata": {},
   "outputs": [
    {
     "name": "stdout",
     "output_type": "stream",
     "text": [
      "done in 0.122s\n",
      "SGDClassifier Scores:\n",
      "\n",
      "Accuracy of data already seen: 0.8750\n",
      "Accuracy of data not seen: 0.8249\n",
      "F1 score: 0.7634\n",
      "Recall score: 0.649351\n",
      "False Negatives: 27\n"
     ]
    },
    {
     "name": "stderr",
     "output_type": "stream",
     "text": [
      "/usr/local/anaconda3/lib/python3.6/site-packages/sklearn/linear_model/stochastic_gradient.py:128: FutureWarning: max_iter and tol parameters have been added in <class 'sklearn.linear_model.stochastic_gradient.SGDClassifier'> in 0.19. If both are left unset, they default to max_iter=5 and tol=None. If tol is not None, max_iter defaults to max_iter=1000. From 0.21, default max_iter will be 1000, and default tol will be 1e-3.\n",
      "  \"and default tol will be 1e-3.\" % type(self), FutureWarning)\n"
     ]
    }
   ],
   "source": [
    "from sklearn.linear_model import SGDClassifier\n",
    "t0 = time()\n",
    "sgd_clf = SGDClassifier(random_state=7350)\n",
    "sgd_clf.fit(train_feats, train_labels)\n",
    "print(\"done in %0.3fs\" % (time() - t0))\n",
    "score_dict = scoring(score_dict,train_feats,train_labels,test_feats,test_labels,sgd_clf)"
   ]
  },
  {
   "cell_type": "markdown",
   "metadata": {},
   "source": [
    "#### CalibratedClassifierCV"
   ]
  },
  {
   "cell_type": "code",
   "execution_count": 61,
   "metadata": {},
   "outputs": [
    {
     "name": "stdout",
     "output_type": "stream",
     "text": [
      "done in 0.419s\n",
      "CalibratedClassifierCV Scores:\n",
      "\n",
      "Accuracy of data already seen: 1.0000\n",
      "Accuracy of data not seen: 0.8757\n",
      "F1 score: 0.8571\n",
      "Recall score: 0.857143\n",
      "False Negatives: 11\n"
     ]
    }
   ],
   "source": [
    "from sklearn.calibration import CalibratedClassifierCV\n",
    "t0 = time()\n",
    "cc_clf = CalibratedClassifierCV()\n",
    "cc_clf.fit(train_feats, train_labels)\n",
    "print(\"done in %0.3fs\" % (time() - t0))\n",
    "score_dict = scoring(score_dict,train_feats,train_labels,test_feats,test_labels,cc_clf)"
   ]
  },
  {
   "cell_type": "markdown",
   "metadata": {},
   "source": [
    "#### BaggingClassifier"
   ]
  },
  {
   "cell_type": "code",
   "execution_count": 62,
   "metadata": {},
   "outputs": [
    {
     "name": "stdout",
     "output_type": "stream",
     "text": [
      "done in 19.633s\n",
      "BaggingClassifier Scores:\n",
      "\n",
      "Accuracy of data already seen: 1.0000\n",
      "Accuracy of data not seen: 0.8870\n",
      "F1 score: 0.8701\n",
      "Recall score: 0.870130\n",
      "False Negatives: 10\n"
     ]
    }
   ],
   "source": [
    "from sklearn.ensemble import BaggingClassifier\n",
    "t0 = time()\n",
    "bg_clf = BaggingClassifier(n_jobs=-1,n_estimators=100,random_state=7350)\n",
    "bg_clf.fit(train_feats, train_labels)\n",
    "print(\"done in %0.3fs\" % (time() - t0))\n",
    "score_dict = scoring(score_dict,train_feats,train_labels,test_feats,test_labels,bg_clf)"
   ]
  },
  {
   "cell_type": "markdown",
   "metadata": {},
   "source": [
    "#### VotingClassifier"
   ]
  },
  {
   "cell_type": "code",
   "execution_count": 63,
   "metadata": {},
   "outputs": [
    {
     "name": "stdout",
     "output_type": "stream",
     "text": [
      "done in 23.568s\n"
     ]
    }
   ],
   "source": [
    "from sklearn.ensemble import VotingClassifier\n",
    "t0 = time()\n",
    "vt_clf = VotingClassifier(estimators=[\n",
    "    #('knn',knn_clf),\n",
    "    ('nn',nn_clf),\n",
    "#     ('et',et_clf),\n",
    "    ('rf',rf_clf),\n",
    "    ('rd',rd_clf),\n",
    "#     ('gb',gb_clf),\n",
    "#     ('cc',cc_clf),\n",
    "#     ('svm',svm_clf),\n",
    "    #('gp',gp_clf),\n",
    "    #('lr',lr_clf),\n",
    "#     ('gnb',gnb_clf),\n",
    "#     ('nb',nb_clf),\n",
    "],voting='hard',weights=[2,1,1])\n",
    "vt_clf.fit(train_feats, train_labels)\n",
    "print(\"done in %0.3fs\" % (time() - t0))"
   ]
  },
  {
   "cell_type": "code",
   "execution_count": 64,
   "metadata": {},
   "outputs": [
    {
     "name": "stderr",
     "output_type": "stream",
     "text": [
      "/usr/local/anaconda3/lib/python3.6/site-packages/sklearn/preprocessing/label.py:151: DeprecationWarning: The truth value of an empty array is ambiguous. Returning False, but in future this will result in an error. Use `array.size > 0` to check that an array is not empty.\n",
      "  if diff:\n",
      "/usr/local/anaconda3/lib/python3.6/site-packages/sklearn/preprocessing/label.py:151: DeprecationWarning: The truth value of an empty array is ambiguous. Returning False, but in future this will result in an error. Use `array.size > 0` to check that an array is not empty.\n",
      "  if diff:\n"
     ]
    },
    {
     "name": "stdout",
     "output_type": "stream",
     "text": [
      "VotingClassifier Scores:\n",
      "\n",
      "Accuracy of data already seen: 1.0000\n",
      "Accuracy of data not seen: 0.9096\n",
      "F1 score: 0.8933\n",
      "Recall score: 0.8701\n",
      "False Negatives: 10\n"
     ]
    },
    {
     "name": "stderr",
     "output_type": "stream",
     "text": [
      "/usr/local/anaconda3/lib/python3.6/site-packages/sklearn/preprocessing/label.py:151: DeprecationWarning: The truth value of an empty array is ambiguous. Returning False, but in future this will result in an error. Use `array.size > 0` to check that an array is not empty.\n",
      "  if diff:\n"
     ]
    }
   ],
   "source": [
    "already_seen = vt_clf.score(train_feats, train_labels)\n",
    "accuracy = vt_clf.score(test_feats, test_labels)\n",
    "vt_pred = vt_clf.predict(test_feats)\n",
    "f1 = f1_score(test_labels, vt_pred, pos_label='investigate')\n",
    "recall = recall_score(test_labels, vt_pred, pos_label='investigate')\n",
    "cnf_matrix = confusion_matrix(test_labels, vt_pred)\n",
    "FN = cnf_matrix[1][0]\n",
    "false_negative = cnf_matrix[1][0]\n",
    "print('VotingClassifier Scores:\\n')\n",
    "print('Accuracy of data already seen: %0.4f' % already_seen)\n",
    "print('Accuracy of data not seen: %0.4f' % accuracy)\n",
    "print('F1 score: %0.4f' % f1)\n",
    "print('Recall score: %0.4f' % recall)\n",
    "print('False Negatives: %0d' % FN)"
   ]
  },
  {
   "cell_type": "markdown",
   "metadata": {},
   "source": [
    "#### Best Classifier Scores"
   ]
  },
  {
   "cell_type": "code",
   "execution_count": 65,
   "metadata": {},
   "outputs": [
    {
     "name": "stdout",
     "output_type": "stream",
     "text": [
      "Best Accuracy:\n",
      "\n",
      "ExtraTreesClassifier: 0.9209\n",
      "MultinomialNB: 0.9153\n",
      "RandomForestClassifier: 0.9153\n",
      "\n",
      "\n",
      "Best F1 Score:\n",
      "\n",
      "ExtraTreesClassifier: 0.9091\n",
      "MultinomialNB: 0.9045\n",
      "RandomForestClassifier: 0.9020\n",
      "\n",
      "\n",
      "Best Recall Score:\n",
      "\n",
      "SVC: 0.9610\n",
      "NearestCentroid: 0.9351\n",
      "MultinomialNB: 0.9221\n",
      "\n",
      "\n",
      "Best False Negative Classifier:\n",
      "\n",
      "SVC: 3\n",
      "NearestCentroid: 5\n",
      "MultinomialNB: 6\n"
     ]
    }
   ],
   "source": [
    "print('Best Accuracy:\\n')\n",
    "for i in [\n",
    "    '%s: %0.4f' % (k,v)\n",
    "    for k,v in sorted(score_dict['accuracy'], key=lambda tup: tup[1], reverse=True)\n",
    "    ][:3]:\n",
    "    print(i)\n",
    "print('\\n\\nBest F1 Score:\\n')\n",
    "for i in [\n",
    "    '%s: %0.4f' % (k,v)\n",
    "    for k,v in sorted(score_dict['f1'], key=lambda tup: tup[1], reverse=True)\n",
    "    ][:3]:\n",
    "    print(i)\n",
    "print('\\n\\nBest Recall Score:\\n')\n",
    "for i in [\n",
    "    '%s: %0.4f' % (k,v)\n",
    "    for k,v in sorted(score_dict['recall'], key=lambda tup: tup[1], reverse=True)\n",
    "    ][:3]:\n",
    "    print(i)    \n",
    "print('\\n\\nBest False Negative Classifier:\\n')\n",
    "for i in [\n",
    "    '%s: %i' % (k,v)\n",
    "    for k,v in sorted(score_dict['FN'], key=lambda tup: tup[1])\n",
    "    ][:3]:\n",
    "    print(i)"
   ]
  },
  {
   "cell_type": "markdown",
   "metadata": {},
   "source": [
    "#### Confusion Matrix and ROC curves of Top Algos"
   ]
  },
  {
   "cell_type": "code",
   "execution_count": 66,
   "metadata": {},
   "outputs": [],
   "source": [
    "#http://scikit-learn.org/stable/auto_examples/model_selection/plot_confusion_matrix.html\n",
    "def plot_confusion_matrix(cm, classes,\n",
    "                          normalize=False,\n",
    "                          title='Confusion matrix',\n",
    "                          cmap=plt.cm.Blues):\n",
    "    \"\"\"\n",
    "    This function prints and plots the confusion matrix.\n",
    "    Normalization can be applied by setting `normalize=True`.\n",
    "    \"\"\"\n",
    "    plt.imshow(cm, interpolation='nearest', cmap=cmap)\n",
    "    plt.title(title)\n",
    "    plt.colorbar()\n",
    "    tick_marks = np.arange(len(classes))\n",
    "    plt.xticks(tick_marks, classes, rotation=45)\n",
    "    plt.yticks(tick_marks, classes)\n",
    "\n",
    "    #fmt = '.2f' if normalize else 'd'\n",
    "    thresh = cm.max() / 2.\n",
    "    for i, j in product(range(cm.shape[0]), range(cm.shape[1])):\n",
    "        plt.text(j, i, format(cm[i, j], 'd'),\n",
    "                 horizontalalignment=\"center\",\n",
    "                 color=\"white\" if cm[i, j] > thresh else \"black\")\n",
    "\n",
    "    plt.tight_layout()\n",
    "    plt.ylabel('True label')\n",
    "    plt.xlabel('Predicted label')"
   ]
  },
  {
   "cell_type": "code",
   "execution_count": 67,
   "metadata": {},
   "outputs": [],
   "source": [
    "def display_conf_mat(clf,test_feats,test_labels):\n",
    "    clf_name = re.findall('(^[^\\(]+)\\(',str(clf))[0]\n",
    "    pred = clf.predict(test_feats)\n",
    "    cnf_matrix = confusion_matrix(test_labels, pred)\n",
    "    np.set_printoptions(precision=2)\n",
    "    plt.figure(figsize=(5, 4))\n",
    "    plot_confusion_matrix(cnf_matrix, classes=['ignore','investigate'],\n",
    "                          title=clf_name + ' Confusion matrix')\n",
    "    plt.show()   "
   ]
  },
  {
   "cell_type": "code",
   "execution_count": 68,
   "metadata": {},
   "outputs": [],
   "source": [
    "#https://datamize.wordpress.com/2015/01/24/how-to-plot-a-roc-curve-in-scikit-learn/\n",
    "#https://plot.ly/scikit-learn/plot-roc/\n",
    "def plot_roc_curve(clf,test_feats,test_labels):\n",
    "    clf_name = re.findall('(^[^\\(]+)\\(',str(clf))[0]\n",
    "    # Binarize the output\n",
    "    pred = clf.predict(test_feats)\n",
    "    test_labels_bin = label_binarize(test_labels, classes=['ignore','investigate'])\n",
    "    pred_bin = label_binarize(pred, classes=['ignore','investigate'])\n",
    "    false_positive_rate, true_positive_rate, thresholds = roc_curve(test_labels_bin, pred_bin)\n",
    "    roc_auc = auc(false_positive_rate, true_positive_rate)\n",
    "    plt.title(clf_name + ' Receiver Operating Characteristic')\n",
    "    plt.plot(false_positive_rate, true_positive_rate, 'b',\n",
    "        label='AUC = %0.2f'% roc_auc)\n",
    "    plt.legend(loc='lower right')\n",
    "    plt.plot([0,1],[0,1],'r--')\n",
    "    plt.ylabel('True Positive Rate')\n",
    "    plt.xlabel('False Positive Rate')\n",
    "    plt.show()"
   ]
  },
  {
   "cell_type": "code",
   "execution_count": 69,
   "metadata": {},
   "outputs": [
    {
     "data": {
      "image/png": "[encoded data removed]",
      "text/plain": [
       "<matplotlib.figure.Figure at 0x111298f28>"
      ]
     },
     "metadata": {},
     "output_type": "display_data"
    },
    {
     "data": {
      "image/png": "[encoded data removed]",
      "text/plain": [
       "<matplotlib.figure.Figure at 0x1a1aecb668>"
      ]
     },
     "metadata": {},
     "output_type": "display_data"
    }
   ],
   "source": [
    "display_conf_mat(nn_clf,test_feats,test_labels)\n",
    "plot_roc_curve(nn_clf,test_feats,test_labels)"
   ]
  },
  {
   "cell_type": "code",
   "execution_count": 70,
   "metadata": {},
   "outputs": [
    {
     "data": {
      "image/png": "[encoded data removed]",
      "text/plain": [
       "<matplotlib.figure.Figure at 0x1a1b6e8a20>"
      ]
     },
     "metadata": {},
     "output_type": "display_data"
    },
    {
     "data": {
      "image/png": "[encoded data removed]",
      "text/plain": [
       "<matplotlib.figure.Figure at 0x1a1b6172e8>"
      ]
     },
     "metadata": {},
     "output_type": "display_data"
    }
   ],
   "source": [
    "display_conf_mat(et_clf,test_feats,test_labels)\n",
    "plot_roc_curve(et_clf,test_feats,test_labels)"
   ]
  },
  {
   "cell_type": "code",
   "execution_count": 71,
   "metadata": {},
   "outputs": [
    {
     "data": {
      "image/png": "[encoded data removed]",
      "text/plain": [
       "<matplotlib.figure.Figure at 0x1a1ae49cc0>"
      ]
     },
     "metadata": {},
     "output_type": "display_data"
    },
    {
     "data": {
      "image/png": "[encoded data removed]",
      "text/plain": [
       "<matplotlib.figure.Figure at 0x1a1b52e5f8>"
      ]
     },
     "metadata": {},
     "output_type": "display_data"
    }
   ],
   "source": [
    "display_conf_mat(svm_clf,test_feats,test_labels)\n",
    "plot_roc_curve(svm_clf,test_feats,test_labels)"
   ]
  },
  {
   "cell_type": "code",
   "execution_count": 72,
   "metadata": {},
   "outputs": [
    {
     "name": "stderr",
     "output_type": "stream",
     "text": [
      "/usr/local/anaconda3/lib/python3.6/site-packages/sklearn/preprocessing/label.py:151: DeprecationWarning: The truth value of an empty array is ambiguous. Returning False, but in future this will result in an error. Use `array.size > 0` to check that an array is not empty.\n",
      "  if diff:\n"
     ]
    },
    {
     "data": {
      "image/png": "[encoded data removed]",
      "text/plain": [
       "<matplotlib.figure.Figure at 0x1a2b380668>"
      ]
     },
     "metadata": {},
     "output_type": "display_data"
    },
    {
     "name": "stderr",
     "output_type": "stream",
     "text": [
      "/usr/local/anaconda3/lib/python3.6/site-packages/sklearn/preprocessing/label.py:151: DeprecationWarning: The truth value of an empty array is ambiguous. Returning False, but in future this will result in an error. Use `array.size > 0` to check that an array is not empty.\n",
      "  if diff:\n"
     ]
    },
    {
     "data": {
      "image/png": "[encoded data removed]",
      "text/plain": [
       "<matplotlib.figure.Figure at 0x1a2b380630>"
      ]
     },
     "metadata": {},
     "output_type": "display_data"
    }
   ],
   "source": [
    "display_conf_mat(vt_clf,test_feats,test_labels)\n",
    "plot_roc_curve(vt_clf,test_feats,test_labels)"
   ]
  }
 ],
 "metadata": {
  "kernelspec": {
   "display_name": "Python 3",
   "language": "python",
   "name": "python3"
  },
  "language_info": {
   "codemirror_mode": {
    "name": "ipython",
    "version": 3
   },
   "file_extension": ".py",
   "mimetype": "text/x-python",
   "name": "python",
   "nbconvert_exporter": "python",
   "pygments_lexer": "ipython3",
   "version": "3.6.4"
  }
 },
 "nbformat": 4,
 "nbformat_minor": 2
}
