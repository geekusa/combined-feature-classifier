{
 "cells": [
  {
   "cell_type": "code",
   "execution_count": 1,
   "metadata": {},
   "outputs": [],
   "source": [
    "import os\n",
    "import email\n",
    "import re\n",
    "import mailparser\n",
    "import random\n",
    "import spacy\n",
    "import string\n",
    "import numpy as np\n",
    "import pandas as pd\n",
    "import matplotlib.pyplot as plt\n",
    "from bs4 import BeautifulSoup, Comment\n",
    "from tld import get_tld\n",
    "from time import strftime, strptime, time\n",
    "from sklearn.model_selection import train_test_split"
   ]
  },
  {
   "cell_type": "markdown",
   "metadata": {},
   "source": [
    "Set constants for directories, take a random sampling of the \"ignore\" email since there are so many (under sample)"
   ]
  },
  {
   "cell_type": "code",
   "execution_count": 2,
   "metadata": {},
   "outputs": [],
   "source": [
    "IGNORE_DIR = '/Users/worshamn/Documents/emailProject/IgnoreFix'\n",
    "INVESTIGATE_DIR = '/Users/worshamn/Documents/emailProject/InvestigateFix'\n",
    "#https://stackoverflow.com/a/6482922\n",
    "random.seed(8559)\n",
    "ignore_sample_index = [ i for i in sorted(random.sample(range(len(os.listdir(IGNORE_DIR))), 500)) ]\n",
    "ignore_sample = []\n",
    "for i in ignore_sample_index:\n",
    "    ignore_sample.append(os.listdir(IGNORE_DIR)[i])\n",
    "input_dirs = {}\n",
    "input_dirs[INVESTIGATE_DIR] = os.listdir(INVESTIGATE_DIR) \n",
    "input_dirs[IGNORE_DIR] = ignore_sample"
   ]
  },
  {
   "cell_type": "code",
   "execution_count": 3,
   "metadata": {
    "scrolled": true
   },
   "outputs": [
    {
     "data": {
      "text/plain": [
       "2"
      ]
     },
     "execution_count": 3,
     "metadata": {},
     "output_type": "execute_result"
    }
   ],
   "source": [
    "len(input_dirs)"
   ]
  },
  {
   "cell_type": "code",
   "execution_count": 4,
   "metadata": {},
   "outputs": [
    {
     "data": {
      "text/plain": [
       "475"
      ]
     },
     "execution_count": 4,
     "metadata": {},
     "output_type": "execute_result"
    }
   ],
   "source": [
    "len(input_dirs[INVESTIGATE_DIR])"
   ]
  },
  {
   "cell_type": "code",
   "execution_count": 5,
   "metadata": {},
   "outputs": [
    {
     "data": {
      "text/plain": [
       "500"
      ]
     },
     "execution_count": 5,
     "metadata": {},
     "output_type": "execute_result"
    }
   ],
   "source": [
    "len(input_dirs[IGNORE_DIR])"
   ]
  },
  {
   "cell_type": "markdown",
   "metadata": {},
   "source": [
    "Build function to extract text and features"
   ]
  },
  {
   "cell_type": "code",
   "execution_count": 6,
   "metadata": {},
   "outputs": [],
   "source": [
    "def get_email_text(file):\n",
    "    d = {}\n",
    "    raw_message = email.message_from_file(file)\n",
    "    mail = mailparser.parse_from_string(raw_message.as_string())\n",
    "    d['subject'] = mail.subject\n",
    "    d['subject_len'] = len(d['subject'])\n",
    "    if raw_message.is_multipart():\n",
    "        d['is_mulitpart'] = 1\n",
    "    else:\n",
    "        d['is_multipart'] = 0\n",
    "    d['body'] = mail.text_plain\n",
    "    if len(d['body']) > 0:\n",
    "        d['mail_text'] = d['subject'] + ' ' + d['body'][0]\n",
    "        d['body_len'] = len(d['body'][0])\n",
    "        if len(d['body']) > 1:\n",
    "            soup_html = BeautifulSoup(d['body'][1],'lxml')\n",
    "            d['links'] = soup_html.find_all('a')\n",
    "            d['num_link'] = len(d['links'])\n",
    "            links = []\n",
    "            d['masq_link'] = []\n",
    "            d['masq_link_tld'] = []\n",
    "            d['num_email_link'] = 0\n",
    "            for link in d['links']:\n",
    "                link_text = link.get_text().rstrip('\\n')\n",
    "                a_link = link.get('href')\n",
    "                links.append(a_link)\n",
    "                if 'unsubscribe' in link_text.lower():\n",
    "                    d['has_unsubscribe_link'] = 1\n",
    "                if a_link:    \n",
    "                    if re.search('mailto:',a_link):\n",
    "                        d['num_email_link'] += 1\n",
    "                if a_link != link_text and \\\n",
    "                    'http' in link_text.lower() and \\\n",
    "                    not 'alt=\"http' in link_text.lower():\n",
    "                        d['masq_link'].append(link)\n",
    "                        d['masq_link_tld'].append(\n",
    "                            get_tld(\n",
    "                                a_link,\n",
    "                                fix_protocol=True, \n",
    "                                fail_silently=True\n",
    "                            )\n",
    "                        )\n",
    "            d['num_uniq_link'] = len(set(links))\n",
    "            if d['num_link'] > d['num_uniq_link']:\n",
    "                d['has_repeatlink'] = 1\n",
    "            else:\n",
    "                d['has_repeatlink'] = 0\n",
    "            if len(d['masq_link']) == 0:\n",
    "                d['masq_link'] = ''\n",
    "                d['masq_link_tld'] = ''\n",
    "                d['has_masq_link'] = 0\n",
    "            else:    \n",
    "                d['has_masq_link'] = 1\n",
    "                d['num_masq_link'] = len(d['masq_link'])\n",
    "    else:\n",
    "        d['mail_text'] = d['subject']\n",
    "        d['body_len'] = len(d['body'])\n",
    "    url_query = '((?:https?|ftp)://[^\\s/$.?#]+\\.[^\\s>]+)'\n",
    "    d['url'] = re.findall(url_query,d['mail_text'])\n",
    "    email_query = '([\\w.]+@[\\w.]+\\.[\\w.]{2,5})'\n",
    "    d['email'] = re.findall(email_query,d['mail_text'])\n",
    "    if d['url']:\n",
    "        d['has_url'] = 1\n",
    "        d['num_url'] = len(d['url'])\n",
    "        d['num_uniq_url'] = len(set(d['url']))\n",
    "        d['num_url_repeats'] = d['num_url'] - d['num_uniq_url']\n",
    "        d['url_len'] = []\n",
    "        d['url_tld'] = []\n",
    "        for i in d['url']:\n",
    "            d['url_len'].append(len(i))\n",
    "            d['url_tld'].append(\n",
    "                get_tld(i, fix_protocol=True, fail_silently=True)\n",
    "            )\n",
    "            d['uniq_url_tld'] = set(d['url_tld'])\n",
    "    else:\n",
    "        d['url'] = ''\n",
    "        d['has_url'] = 0\n",
    "        d['num_url'] = 0\n",
    "        d['num_uniq_url'] = 0\n",
    "        d['url_len'] = 0\n",
    "        d['url_tld'] = 0\n",
    "        d['uniq_url_tld'] = 0\n",
    "        d['num_url_repeats'] = 0\n",
    "    if d['email']:\n",
    "        d['has_email'] = 1\n",
    "        d['num_email_addr'] = len(d['email'])\n",
    "        d['num_uniq_email'] = len(set(d['email']))\n",
    "    else:\n",
    "        d['email'] = ''\n",
    "        d['has_email'] = 0\n",
    "        d['num_email_addr'] = 0\n",
    "        d['num_uniq_email'] = 0\n",
    "    soup = BeautifulSoup(d['mail_text'],'lxml')\n",
    "    try:\n",
    "        d['mail_text'] = soup.get_text().encode(\n",
    "            'utf-8',\n",
    "            'ignore'\n",
    "        ).decode('unicode_escape').replace('\\n',' ').replace('\\t',' ')\n",
    "    except:\n",
    "        d['mail_text'] = soup.get_text().replace('\\n',' ').replace('\\t',' ')\n",
    "    d['reply_to'] = mail.reply_to\n",
    "    for k,v in mail.headers.items():\n",
    "        d[k] = v\n",
    "    d['body'] = mail.body\n",
    "    d['text_plain'] = mail.text_plain\n",
    "    if mail.attachments:\n",
    "        d['has_attachments'] = 1\n",
    "        d['num_attachments'] = len(mail.attachments)\n",
    "        for i in mail.attachments:\n",
    "            try:\n",
    "                d['attachment_filename'].append(i['filename'])\n",
    "            except:\n",
    "                d['attachment_filename'] = []\n",
    "                d['attachment_filename'].append(i['filename'])\n",
    "            try:\n",
    "                d['attachment_content_type'].append(i['mail_content_type'])\n",
    "            except:\n",
    "                d['attachment_content_type'] = []\n",
    "                d['attachment_content_type'].append(i['mail_content_type'])\n",
    "    else:\n",
    "        d['has_attachments'] = 0\n",
    "    if re.search(tryGetKeyValue(d, 'Return-Path'),tryGetKeyValue(d, 'From')):\n",
    "        d['return_path_match_from'] = 1\n",
    "    else:\n",
    "        d['return_path_match_from'] = 0\n",
    "    tld_match = re.match(\n",
    "            '[^@]+@([^>]+)>',\n",
    "            tryGetKeyValue(d, 'From')\n",
    "        )\n",
    "    if tld_match:\n",
    "        d['from_tld'] = get_tld(\n",
    "            tld_match.group(1),\n",
    "            fix_protocol=True, \n",
    "            fail_silently=True\n",
    "        )\n",
    "    if 'content=\"text/html' in d['body'].lower():\n",
    "        d['has_html_content'] = 1\n",
    "    else:\n",
    "        d['has_html_content'] = 0\n",
    "    if 'script type=\"text/javascript' in d['body'].lower():\n",
    "        d['has_javascript'] = 1\n",
    "    else:\n",
    "        d['has_javascript'] = 0\n",
    "    if 'img src=\"cid:' in d['body'].lower():\n",
    "        d['has_inline_img'] = 1\n",
    "    else:\n",
    "        d['has_inline_img'] = 0\n",
    "    if 'Content-type' in d:\n",
    "        d['Content-type'] = re.match('([^;]+);',d['Content-type']).group(1)\n",
    "    else:\n",
    "        d['Content-type'] = None\n",
    "    if 'Date' in d:\n",
    "        #d['DOTW'] = strftime('%a',strptime(d['Date'],'%a, %d %b %Y %H:%M:%S %z'))\n",
    "        d['DOTW'] = strftime('%w',strptime(d['Date'],'%a, %d %b %Y %H:%M:%S %z'))\n",
    "        d['HOTD'] = strftime('%H',strptime(d['Date'],'%a, %d %b %Y %H:%M:%S %z'))\n",
    "    if mail.has_defects:\n",
    "        d['has_defects'] = 1\n",
    "    else:\n",
    "        d['has_defects'] = 0\n",
    "    return d"
   ]
  },
  {
   "cell_type": "markdown",
   "metadata": {},
   "source": [
    "Build function to set the target value based on the directory"
   ]
  },
  {
   "cell_type": "code",
   "execution_count": 7,
   "metadata": {},
   "outputs": [],
   "source": [
    "def get_target(d):\n",
    "    if d == IGNORE_DIR:\n",
    "        return 'ignore'\n",
    "    elif d == INVESTIGATE_DIR:\n",
    "        return 'investigate'"
   ]
  },
  {
   "cell_type": "markdown",
   "metadata": {},
   "source": [
    "Build function to extract value only if the key exists"
   ]
  },
  {
   "cell_type": "code",
   "execution_count": 8,
   "metadata": {},
   "outputs": [],
   "source": [
    "def tryGetKeyValue(d, key, return_value=''):\n",
    "  \"\"\"Attempts to return value of key from dictionary\n",
    "  \"\"\"\n",
    "  try:\n",
    "    return d[key]\n",
    "  except:\n",
    "    return return_value"
   ]
  },
  {
   "cell_type": "markdown",
   "metadata": {},
   "source": [
    "Create dataframe, iterate through directories and add email features"
   ]
  },
  {
   "cell_type": "code",
   "execution_count": 9,
   "metadata": {
    "scrolled": true
   },
   "outputs": [
    {
     "name": "stdout",
     "output_type": "stream",
     "text": [
      "/Users/worshamn/Documents/emailProject/InvestigateFix [Phish Alert] FW- Goodchem Document.eml\n",
      "/Users/worshamn/Documents/emailProject/InvestigateFix [Phish Alert] FW- Validate your Office 365 account.eml\n",
      "/Users/worshamn/Documents/emailProject/InvestigateFix [Phish Alert] FW- Invoice Problem 3.eml\n",
      "/Users/worshamn/Documents/emailProject/InvestigateFix [Phish Alert] FW- New Documents Survey For Your Review[10].eml\n",
      "/Users/worshamn/Documents/emailProject/InvestigateFix [Phish Alert] FW- Invoice from Karen Laman.eml\n",
      "/Users/worshamn/Documents/emailProject/InvestigateFix [Phish Alert] FW- Your files were sent successfully to dgassaway@johnson.motosnap.com and 97 others[1].eml\n",
      "/Users/worshamn/Documents/emailProject/InvestigateFix [Phish Alert] FW- Case-637290015585-228.eml\n",
      "/Users/worshamn/Documents/emailProject/InvestigateFix [Phish Alert] FW- 7 Past Due Invoices.eml\n",
      "/Users/worshamn/Documents/emailProject/InvestigateFix [Phish Alert] FW- [Spam] Erinnerung an die Rechnungszahlung.eml\n",
      "/Users/worshamn/Documents/emailProject/InvestigateFix [Phish Alert] FW- CMCA- Please Review[3].eml\n",
      "/Users/worshamn/Documents/emailProject/InvestigateFix [Phish Alert] FW- Re-[1].eml\n",
      "/Users/worshamn/Documents/emailProject/InvestigateFix [Phish Alert] FW- Invoice # 94898 Problem.eml\n",
      "/Users/worshamn/Documents/emailProject/InvestigateFix [Phish Alert] FW- Terrible[1].eml\n",
      "/Users/worshamn/Documents/emailProject/InvestigateFix [Phish Alert] FW- See Attachment.eml\n",
      "/Users/worshamn/Documents/emailProject/InvestigateFix [Phish Alert] FW- Ians Roofing sent a document to you[5].eml\n",
      "/Users/worshamn/Documents/emailProject/InvestigateFix [Phish Alert] FW- Invoice 07.03.18.eml\n",
      "/Users/worshamn/Documents/emailProject/InvestigateFix [Phish Alert] FW- Past Due Invoices.eml\n",
      "/Users/worshamn/Documents/emailProject/InvestigateFix [Phish Alert] FW- [Spam] UPS Delivery Notification, Tracking Number 2MA48028859835621.eml\n",
      "/Users/worshamn/Documents/emailProject/InvestigateFix [Phish Alert] FW- Proposal[2].eml\n",
      "/Users/worshamn/Documents/emailProject/InvestigateFix [Phish Alert] FW- Attached Document.eml\n",
      "/Users/worshamn/Documents/emailProject/InvestigateFix [Phish Alert] FW- [Spam] Tracking Number 8P97353188522018.eml\n",
      "/Users/worshamn/Documents/emailProject/InvestigateFix [Phish Alert] FW- Jim sent you an Important message[2].eml\n",
      "/Users/worshamn/Documents/emailProject/InvestigateFix [Phish Alert] FW- Your UPS Package is Ready.eml\n",
      "/Users/worshamn/Documents/emailProject/InvestigateFix [Phish Alert] FW- Invoice #3776 Message.eml\n",
      "/Users/worshamn/Documents/emailProject/InvestigateFix [Phish Alert] FW- Lastschrift.eml\n",
      "/Users/worshamn/Documents/emailProject/InvestigateFix [Phish Alert] FW- Invoice Problem 2.eml\n",
      "/Users/worshamn/Documents/emailProject/InvestigateFix [Phish Alert] FW- This information will cost much for you.eml\n",
      "/Users/worshamn/Documents/emailProject/InvestigateFix [Phish Alert] FW- Your new Chase payment notice to Daysi Bloethner.eml\n",
      "/Users/worshamn/Documents/emailProject/InvestigateFix [Phish Alert] FW- Happy Coming Year!.eml\n",
      "/Users/worshamn/Documents/emailProject/InvestigateFix [Phish Alert] FW- REVIEW.eml\n",
      "/Users/worshamn/Documents/emailProject/InvestigateFix [Phish Alert] FW- Documeͷt Received - rεf new project. #723916.eml\n",
      "/Users/worshamn/Documents/emailProject/InvestigateFix [Phish Alert] FW- Notification de facture .eml\n",
      "/Users/worshamn/Documents/emailProject/InvestigateFix [Phish Alert] FW- gescanntes Dokument.eml\n",
      "/Users/worshamn/Documents/emailProject/InvestigateFix [Phish Alert] FW- Rechnung 10-2017 1065755.eml\n",
      "/Users/worshamn/Documents/emailProject/InvestigateFix [Phish Alert] FW- Case-523537775069-585.eml\n",
      "/Users/worshamn/Documents/emailProject/InvestigateFix [Phish Alert] FW- Past due Invoice 2176478.eml\n",
      "/Users/worshamn/Documents/emailProject/InvestigateFix [Phish Alert] FW- [Spam] New payment notification[3].eml\n",
      "/Users/worshamn/Documents/emailProject/InvestigateFix [Phish Alert] FW- Urgent update the Voucher , to 24-11 , Trip ID 16121868373.eml\n",
      "/Users/worshamn/Documents/emailProject/InvestigateFix [Phish Alert] FW- ACH form.eml\n",
      "/Users/worshamn/Documents/emailProject/InvestigateFix [Phish Alert] FW- Invoice due number 0         .eml\n",
      "/Users/worshamn/Documents/emailProject/InvestigateFix [Phish Alert] FW- NEW QUOTATION.eml\n",
      "/Users/worshamn/Documents/emailProject/InvestigateFix [Phish Alert] FW- Invoice 7350724 reminder.eml\n",
      "/Users/worshamn/Documents/emailProject/InvestigateFix [Phish Alert] FW- Invoice Issue[1].eml\n",
      "/Users/worshamn/Documents/emailProject/InvestigateFix [Phish Alert] FW- Question[1].eml\n",
      "/Users/worshamn/Documents/emailProject/InvestigateFix [Phish Alert] FW- Office  365 Security Upgrade (Do not Ignore).eml\n",
      "/Users/worshamn/Documents/emailProject/InvestigateFix [Phish Alert] FW- New Documents Survey For Your Review[2].eml\n",
      "/Users/worshamn/Documents/emailProject/InvestigateFix [Phish Alert] FW- Invoice number 403426145 issue Message.eml\n",
      "/Users/worshamn/Documents/emailProject/InvestigateFix [Phish Alert] FW- Your DHL Shipment Parcel Notification.eml\n",
      "/Users/worshamn/Documents/emailProject/InvestigateFix [Phish Alert] FW- Important Notice.eml\n",
      "/Users/worshamn/Documents/emailProject/InvestigateFix [Phish Alert] FW- Tracking Number 0QV56710814707164.eml\n",
      "/Users/worshamn/Documents/emailProject/InvestigateFix [Phish Alert] FW- cschultz@ironwomancon.com sent you files via WeTransfer[1].eml\n",
      "/Users/worshamn/Documents/emailProject/InvestigateFix [Phish Alert] FW- Signed Agreement From- Cindy Rubino, CPA.eml\n",
      "/Users/worshamn/Documents/emailProject/InvestigateFix [Phish Alert] FW- Your Legally Binding Contract document is ready for signature![2].eml\n",
      "/Users/worshamn/Documents/emailProject/InvestigateFix [Phish Alert] FW- Incoming call from 949-795-1577.eml\n",
      "/Users/worshamn/Documents/emailProject/InvestigateFix [Phish Alert] FW- Recognition Concepts Contract[3].eml\n",
      "/Users/worshamn/Documents/emailProject/InvestigateFix [Phish Alert] FW- UPS Express Domestic 2.eml\n",
      "/Users/worshamn/Documents/emailProject/InvestigateFix [Phish Alert] FW- May all your wishes come true this Christmas.eml\n",
      "/Users/worshamn/Documents/emailProject/InvestigateFix [Phish Alert] FW- Your recent payment notification to Oti Herrera.eml\n",
      "/Users/worshamn/Documents/emailProject/InvestigateFix [Phish Alert] FW- Payment with a new   address.eml\n",
      "/Users/worshamn/Documents/emailProject/InvestigateFix [Phish Alert] FW- Your document Receipt 36276 for jennifer.loucks is ready for signature!.eml\n",
      "/Users/worshamn/Documents/emailProject/InvestigateFix [Phish Alert] FW- Su estado de cuenta mensual ya está disponible para su revisión.eml\n",
      "/Users/worshamn/Documents/emailProject/InvestigateFix [Phish Alert] FW- FYI[1].eml\n",
      "/Users/worshamn/Documents/emailProject/InvestigateFix [Phish Alert] FW- Signed offer letter[1].eml\n",
      "/Users/worshamn/Documents/emailProject/InvestigateFix [Phish Alert] FW- Invoice due, number 3661471-XSIW#RLXB-2017 (15 Nov 17).eml\n",
      "/Users/worshamn/Documents/emailProject/InvestigateFix [Phish Alert] FW- Past Due Invoices 2.eml\n",
      "/Users/worshamn/Documents/emailProject/InvestigateFix [Phish Alert] FW- [Spam] Email Account Closure Alert!!  2018-04-05  07-53-11.eml\n",
      "/Users/worshamn/Documents/emailProject/InvestigateFix [Phish Alert] FW- Statement from  jeff@wiainsurance.com.eml\n",
      "/Users/worshamn/Documents/emailProject/InvestigateFix [Phish Alert] FW- UPS Ship Notification, Tracking Number 6MS71996919975781.eml\n",
      "/Users/worshamn/Documents/emailProject/InvestigateFix [Phish Alert] FW- New Documents Survey For Your Review.eml\n",
      "/Users/worshamn/Documents/emailProject/InvestigateFix [Phish Alert] FW- Recognition Concepts Contract[2].eml\n",
      "/Users/worshamn/Documents/emailProject/InvestigateFix [Phish Alert] FW- FWD rhonda.isham.eml\n",
      "/Users/worshamn/Documents/emailProject/InvestigateFix [Phish Alert] FW- Ians Roofing sent a document to you[8].eml\n",
      "/Users/worshamn/Documents/emailProject/InvestigateFix [Phish Alert] FW- Payment email from Sighted.eml\n",
      "/Users/worshamn/Documents/emailProject/InvestigateFix [Phish Alert] FW- iPhone X pre-order.eml\n",
      "/Users/worshamn/Documents/emailProject/InvestigateFix [Phish Alert] FW- Hi,.eml\n",
      "/Users/worshamn/Documents/emailProject/InvestigateFix [Phish Alert] FW- [Spam] Agreement document for david.wilbanks@pinnacol.com.eml\n",
      "/Users/worshamn/Documents/emailProject/InvestigateFix [Phish Alert] FW- Verification Notice.eml\n",
      "/Users/worshamn/Documents/emailProject/InvestigateFix [Phish Alert] FW- Invoice notification from Sighted Invoices.eml\n",
      "/Users/worshamn/Documents/emailProject/InvestigateFix [Phish Alert] FW- New Documents Survey For Your Review[3].eml\n",
      "/Users/worshamn/Documents/emailProject/InvestigateFix [Phish Alert] FW- Molly Lockhart shared a file with you[1].eml\n",
      "/Users/worshamn/Documents/emailProject/InvestigateFix [Phish Alert] FW- #9947976789 Invoice secondary Notice.eml\n",
      "/Users/worshamn/Documents/emailProject/InvestigateFix [Phish Alert] FW- SPECIAL NOTICE.eml\n",
      "/Users/worshamn/Documents/emailProject/InvestigateFix [Phish Alert] FW- A New DocuSign Message From Stephanie Murphy.[1].eml\n",
      "/Users/worshamn/Documents/emailProject/InvestigateFix [Phish Alert] FW- Client- 44, Oct 2017 Invoice.eml\n",
      "/Users/worshamn/Documents/emailProject/InvestigateFix [Phish Alert] FW- Emailing2018-04-17-4dfb-4c20-8d32-cw58eb31eda6[1].eml\n",
      "/Users/worshamn/Documents/emailProject/InvestigateFix [Phish Alert] FW- [Spam] New payment notification[2].eml\n",
      "/Users/worshamn/Documents/emailProject/InvestigateFix [Phish Alert] FW- Re - [ Update Subscription Payment ] Your subscription payment is indicative of fraud [ Status Paid] 30 May 2018.eml\n",
      "/Users/worshamn/Documents/emailProject/InvestigateFix [Phish Alert] FW- Past due invoice [1].eml\n",
      "/Users/worshamn/Documents/emailProject/InvestigateFix [Phish Alert] FW- Urgent Doc[1].eml\n",
      "/Users/worshamn/Documents/emailProject/InvestigateFix [Phish Alert] FW- Re-FYI.eml\n",
      "/Users/worshamn/Documents/emailProject/InvestigateFix [Phish Alert] FW- Your сolleсtion is very interesting.eml\n",
      "/Users/worshamn/Documents/emailProject/InvestigateFix [Phish Alert] FW- [Spam] Your recent Bankofamerica payment notification to Jennifer Loucks.eml\n"
     ]
    },
    {
     "name": "stdout",
     "output_type": "stream",
     "text": [
      "/Users/worshamn/Documents/emailProject/InvestigateFix [Phish Alert] FW- Invoice 13329 from Transpro[1].eml\n",
      "/Users/worshamn/Documents/emailProject/InvestigateFix [Phish Alert] FW- RE-Request.eml\n",
      "/Users/worshamn/Documents/emailProject/InvestigateFix [Phish Alert] FW- Invoice for l-a 02-22-2018.eml\n",
      "/Users/worshamn/Documents/emailProject/InvestigateFix [Phish Alert] FW- kblack@wylaco.com sent you files via WeTransfer.eml\n",
      "/Users/worshamn/Documents/emailProject/InvestigateFix [Phish Alert] FW- Wish you a Merry Christmas!.eml\n",
      "/Users/worshamn/Documents/emailProject/InvestigateFix [Phish Alert] FW- Have a wonderful Christmas and a joyous New Year!.eml\n",
      "/Users/worshamn/Documents/emailProject/InvestigateFix [Phish Alert] FW- Pat due invoice notification.eml\n",
      "/Users/worshamn/Documents/emailProject/InvestigateFix [Phish Alert] FW- Completed- Please DocuSign these documents.eml\n",
      "/Users/worshamn/Documents/emailProject/InvestigateFix [Phish Alert] FW- Invoice number 22028027-LFYJ#WDBB-2017 (27 Nov 17) Notification.eml\n",
      "/Users/worshamn/Documents/emailProject/InvestigateFix [Phish Alert] FW- Ians Roofing sent a document to you[4].eml\n",
      "/Users/worshamn/Documents/emailProject/InvestigateFix [Phish Alert] FW- Inbound- 5 new.eml\n",
      "/Users/worshamn/Documents/emailProject/InvestigateFix [Phish Alert] FW- Past due invoice .eml\n",
      "/Users/worshamn/Documents/emailProject/InvestigateFix [Phish Alert] FW- Auditor of State - Notification of EFT Deposit[1].eml\n",
      "/Users/worshamn/Documents/emailProject/InvestigateFix [Phish Alert] FW- FW- bill for september[2].eml\n",
      "/Users/worshamn/Documents/emailProject/InvestigateFix [Phish Alert] FW- Invoice # 530522431 Problem.eml\n",
      "/Users/worshamn/Documents/emailProject/InvestigateFix [Phish Alert] FW- UPS Ship Notification, Tracking Number 2U51525393363758.eml\n",
      "/Users/worshamn/Documents/emailProject/InvestigateFix [Phish Alert] FW- Newly signed Project invitation - please view proposal-.eml\n",
      "/Users/worshamn/Documents/emailProject/InvestigateFix [Phish Alert] FW- Your document is signed.eml\n",
      "/Users/worshamn/Documents/emailProject/InvestigateFix [Phish Alert] FW- CMCA- Please Review[2].eml\n",
      "/Users/worshamn/Documents/emailProject/InvestigateFix [Phish Alert] FW- Fax Received- CSID- K7V 6B3 1910 CID- 90643249844.eml\n",
      "/Users/worshamn/Documents/emailProject/InvestigateFix [Phish Alert] FW- pinnacol.com accounting statements[1].eml\n",
      "/Users/worshamn/Documents/emailProject/InvestigateFix [Phish Alert] FW- Paypal Receipt[1].eml\n",
      "/Users/worshamn/Documents/emailProject/InvestigateFix [Phish Alert] FW- Paypal Receipt Reminder[1].eml\n",
      "/Users/worshamn/Documents/emailProject/InvestigateFix [Phish Alert] FW- New Documents Survey For Your Review[11].eml\n",
      "/Users/worshamn/Documents/emailProject/InvestigateFix [Phish Alert] FW- Email Verification[1].eml\n",
      "/Users/worshamn/Documents/emailProject/InvestigateFix [Phish Alert] FW- Preview Secured Message!.eml\n",
      "/Users/worshamn/Documents/emailProject/InvestigateFix [Phish Alert] FW- _INV#00044901.eml\n",
      "/Users/worshamn/Documents/emailProject/InvestigateFix [Phish Alert] FW- Delivery complete for parcel # 30726375.eml\n",
      "/Users/worshamn/Documents/emailProject/InvestigateFix [Phish Alert] FW- Hope all your Christmas dreams come true!.eml\n",
      "/Users/worshamn/Documents/emailProject/InvestigateFix [Phish Alert] FW- Payment issue 2.eml\n",
      "/Users/worshamn/Documents/emailProject/InvestigateFix [Phish Alert] FW- UPS Ship Notification, Tracking Number 0RRN19486604712021.eml\n",
      "/Users/worshamn/Documents/emailProject/InvestigateFix [Phish Alert] FW- Ren Hart used Dropbox to share a folder with you.eml\n",
      "/Users/worshamn/Documents/emailProject/InvestigateFix [Phish Alert] FW- [Spam] New payment notification[5].eml\n",
      "/Users/worshamn/Documents/emailProject/InvestigateFix [Phish Alert] FW- Paypal Receipt.eml\n",
      "/Users/worshamn/Documents/emailProject/InvestigateFix [Phish Alert] FW- kantonena@mediastrom.gr has shared a document on SharePoint Online..eml\n",
      "/Users/worshamn/Documents/emailProject/InvestigateFix [Phish Alert] FW- Confidential- FYI[1].eml\n",
      "/Users/worshamn/Documents/emailProject/InvestigateFix [Phish Alert] FW- Please Review Listing[1].eml\n",
      "/Users/worshamn/Documents/emailProject/InvestigateFix [Phish Alert] FW- Proposal - Kuhn Construction .eml\n",
      "/Users/worshamn/Documents/emailProject/InvestigateFix [Phish Alert] FW- My Email.eml\n",
      "/Users/worshamn/Documents/emailProject/InvestigateFix [Phish Alert] FW- ACCOUNT#54423751-Linda Grivich.eml\n",
      "/Users/worshamn/Documents/emailProject/InvestigateFix [Phish Alert] FW- New Documents Survey For Your Review[4].eml\n",
      "/Users/worshamn/Documents/emailProject/InvestigateFix [Phish Alert] FW- Prisicla Flores Virus at your device ID qTq6G.eml\n",
      "/Users/worshamn/Documents/emailProject/InvestigateFix [Phish Alert] FW- Invoice[3].eml\n",
      "/Users/worshamn/Documents/emailProject/InvestigateFix [Phish Alert] FW- Re-[1] 2.eml\n",
      "/Users/worshamn/Documents/emailProject/InvestigateFix [Phish Alert] FW- secure- Attached Image.eml\n",
      "/Users/worshamn/Documents/emailProject/InvestigateFix [Phish Alert] FW- Front Range Telecom, LLC IMG_ PO 12042017.eml\n",
      "/Users/worshamn/Documents/emailProject/InvestigateFix [Phish Alert] FW- -𝐈𝐦𝐩𝐨𝐫𝐭𝐚𝐧𝐭 𝐒̇𝐞𝐜𝐮𝐫𝐢𝐭𝐲 𝐭𝐨 𝐲𝐨𝐮𝐫 𝐀̉𝐜𝐜𝐨𝐮𝐧𝐭❗.eml\n",
      "/Users/worshamn/Documents/emailProject/InvestigateFix [Phish Alert] FW- PDF-20180328172018.PDF.eml\n",
      "/Users/worshamn/Documents/emailProject/InvestigateFix [Phish Alert] FW- PR.eml\n",
      "/Users/worshamn/Documents/emailProject/InvestigateFix [Phish Alert] FW- C2c-443655.eml\n",
      "/Users/worshamn/Documents/emailProject/InvestigateFix [Phish Alert] FW- Invoice Number 235864.eml\n",
      "/Users/worshamn/Documents/emailProject/InvestigateFix [Phish Alert] FW- (Thread-1740266).eml\n",
      "/Users/worshamn/Documents/emailProject/InvestigateFix [Phish Alert] FW- Signed Agreement From- The Leyden Group.eml\n",
      "/Users/worshamn/Documents/emailProject/InvestigateFix [Phish Alert] FW- Document[1].eml\n",
      "/Users/worshamn/Documents/emailProject/InvestigateFix [Phish Alert] FW- Signed Agreement From- Cindy Rubino, CPA[1].eml\n",
      "/Users/worshamn/Documents/emailProject/InvestigateFix [Phish Alert] FW- Do you need to generate more engagement on social media.eml\n",
      "/Users/worshamn/Documents/emailProject/InvestigateFix [Phish Alert] FW- Radianlightingservices Review..eml\n",
      "/Users/worshamn/Documents/emailProject/InvestigateFix [Phish Alert] FW- [SPAM] New payment notification[9].eml\n",
      "/Users/worshamn/Documents/emailProject/InvestigateFix [Phish Alert] FW- Proposal.eml\n",
      "/Users/worshamn/Documents/emailProject/InvestigateFix [Phish Alert] FW- Reconstructcolorado-01-19-2018[2].eml\n",
      "/Users/worshamn/Documents/emailProject/InvestigateFix [Phish Alert] FW- Sales Invoice[1].eml\n",
      "/Users/worshamn/Documents/emailProject/InvestigateFix [Phish Alert] FW- Payment and address..eml\n",
      "/Users/worshamn/Documents/emailProject/InvestigateFix [Phish Alert] FW- Invoice# 5410331.eml\n",
      "/Users/worshamn/Documents/emailProject/InvestigateFix [Phish Alert] FW- FYI.eml\n",
      "/Users/worshamn/Documents/emailProject/InvestigateFix [Phish Alert] FW- Re-[7].eml\n",
      "/Users/worshamn/Documents/emailProject/InvestigateFix [Phish Alert] FW- Your Invoice Is Attached - 0000125794[1].eml\n",
      "/Users/worshamn/Documents/emailProject/InvestigateFix [Phish Alert] FW- Remittance #49170[1].eml\n",
      "/Users/worshamn/Documents/emailProject/InvestigateFix [Phish Alert] FW- The document.eml\n",
      "/Users/worshamn/Documents/emailProject/InvestigateFix [Phish Alert] FW- UPS Ship Notification, Tracking Number 8L98420888229798.eml\n",
      "/Users/worshamn/Documents/emailProject/InvestigateFix [Phish Alert] FW- 28-09HSBC Confirmation slip[1].eml\n",
      "/Users/worshamn/Documents/emailProject/InvestigateFix [Phish Alert] FW- Scan data from MFP7298 HP ePrint user[2].eml\n",
      "/Users/worshamn/Documents/emailProject/InvestigateFix [Phish Alert] FW- New Documents Survey For Your Review[8].eml\n",
      "/Users/worshamn/Documents/emailProject/InvestigateFix [Phish Alert] FW- PDF-20180327072018.PDF[1].eml\n",
      "/Users/worshamn/Documents/emailProject/InvestigateFix [Phish Alert] FW- Ians Roofing sent a document to you[3].eml\n",
      "/Users/worshamn/Documents/emailProject/InvestigateFix [Phish Alert] FW- Fay.eml\n",
      "/Users/worshamn/Documents/emailProject/InvestigateFix [Phish Alert] FW- IMPORTANT MAIL[1].eml\n",
      "/Users/worshamn/Documents/emailProject/InvestigateFix [Phish Alert] FW- Re-FYI[1].eml\n",
      "/Users/worshamn/Documents/emailProject/InvestigateFix [Phish Alert] FW- A New DocuSign Message From Stephanie Murphy..eml\n",
      "/Users/worshamn/Documents/emailProject/InvestigateFix [Phish Alert] FW- You have a new Encrypted Document.eml\n"
     ]
    },
    {
     "name": "stdout",
     "output_type": "stream",
     "text": [
      "/Users/worshamn/Documents/emailProject/InvestigateFix [Phish Alert] FW- PAC Invoice CD99133732.eml\n",
      "/Users/worshamn/Documents/emailProject/InvestigateFix [Phish Alert] FW- NEW QUOTATION[1].eml\n",
      "/Users/worshamn/Documents/emailProject/InvestigateFix [Phish Alert] FW- New payment notification.eml\n",
      "/Users/worshamn/Documents/emailProject/InvestigateFix [Phish Alert] FW- FinWise Bank-4-06-2018.eml\n",
      "/Users/worshamn/Documents/emailProject/InvestigateFix [Phish Alert] FW- [Spam] UPS Delivery Notification, Tracking Number 1Z9R140W0358552191[1].eml\n",
      "/Users/worshamn/Documents/emailProject/InvestigateFix [Phish Alert] FW- Please send copy invoice.eml\n",
      "/Users/worshamn/Documents/emailProject/InvestigateFix [Phish Alert] FW- UPS Ship Notification, Tracking Number 8PEO80268803644920.eml\n",
      "/Users/worshamn/Documents/emailProject/InvestigateFix [Phish Alert] FW- Invoice 265720 from Don Losasso.eml\n",
      "/Users/worshamn/Documents/emailProject/InvestigateFix [Phish Alert] FW- Wish you a Merry Christmas![1].eml\n",
      "/Users/worshamn/Documents/emailProject/InvestigateFix [Phish Alert] FW- A New DocuSign Message From David D. Robinson..eml\n",
      "/Users/worshamn/Documents/emailProject/InvestigateFix [Phish Alert] FW- new message.eml\n",
      "/Users/worshamn/Documents/emailProject/InvestigateFix [Phish Alert] FW- Hansen Construction,Inc-02-20-2018.eml\n",
      "/Users/worshamn/Documents/emailProject/InvestigateFix [Phish Alert] FW- [Spam] IMPORTANT - William Olberding  Invitation to view.[1].eml\n",
      "/Users/worshamn/Documents/emailProject/InvestigateFix [Phish Alert] FW- Latest payment.eml\n",
      "/Users/worshamn/Documents/emailProject/InvestigateFix [Phish Alert] FW- You have new Google Doc message.eml\n",
      "/Users/worshamn/Documents/emailProject/InvestigateFix [Phish Alert] FW- Nanci Sweet shared Dropbox file with you.eml\n",
      "/Users/worshamn/Documents/emailProject/InvestigateFix [Phish Alert] FW- AccuSystems LLC Report.eml\n",
      "/Users/worshamn/Documents/emailProject/InvestigateFix [Phish Alert] FW- Confidential- FYI.eml\n",
      "/Users/worshamn/Documents/emailProject/InvestigateFix [Phish Alert] FW- Remittance #49170.eml\n",
      "/Users/worshamn/Documents/emailProject/InvestigateFix [Phish Alert] FW- Ians Roofing sent a document to you[2].eml\n",
      "/Users/worshamn/Documents/emailProject/InvestigateFix [Phish Alert] FW- FWD tom.peters.eml\n",
      "/Users/worshamn/Documents/emailProject/InvestigateFix [Phish Alert] FW- Awaiting for your confirmation[1].eml\n",
      "/Users/worshamn/Documents/emailProject/InvestigateFix [Phish Alert] FW- Scan data from MFP7298 HP ePrint user[3].eml\n",
      "/Users/worshamn/Documents/emailProject/InvestigateFix [Phish Alert] FW- New Documents Survey For Your Review[9].eml\n",
      "/Users/worshamn/Documents/emailProject/InvestigateFix [Phish Alert] FW- Address Update.eml\n",
      "/Users/worshamn/Documents/emailProject/InvestigateFix [Phish Alert] FW- Re-[6].eml\n",
      "/Users/worshamn/Documents/emailProject/InvestigateFix [Phish Alert] FW- Invoice number 46824477441 second Notification.eml\n",
      "/Users/worshamn/Documents/emailProject/InvestigateFix [Phish Alert] FW- Your files were sent successfully to dgassaway@johnson.motosnap.com and 97 others.eml\n",
      "/Users/worshamn/Documents/emailProject/InvestigateFix [Phish Alert] FW- Case-079964727249-439.eml\n",
      "/Users/worshamn/Documents/emailProject/InvestigateFix [Phish Alert] FW- iPhone X pre-order[1].eml\n",
      "/Users/worshamn/Documents/emailProject/InvestigateFix [Phish Alert] FW- .eml\n",
      "/Users/worshamn/Documents/emailProject/InvestigateFix [Phish Alert] FW- Re-.eml\n",
      "/Users/worshamn/Documents/emailProject/InvestigateFix [Phish Alert] FW- IMPORTANT document [1].eml\n",
      "/Users/worshamn/Documents/emailProject/InvestigateFix [Phish Alert] FW- [SPAM] New payment notification[8].eml\n",
      "/Users/worshamn/Documents/emailProject/InvestigateFix [Phish Alert] FW- Payment[1].eml\n",
      "/Users/worshamn/Documents/emailProject/InvestigateFix [Phish Alert] FW- Sales Receipt from Graciela Nevarez .eml\n",
      "/Users/worshamn/Documents/emailProject/InvestigateFix [Phish Alert] FW- Overdue payment[1].eml\n",
      "/Users/worshamn/Documents/emailProject/InvestigateFix [Phish Alert] FW- Kristi Hada INV #246792 FOR PO #1954738885.eml\n",
      "/Users/worshamn/Documents/emailProject/InvestigateFix [Phish Alert] FW- CURRENT STOCK LIST[1].eml\n",
      "/Users/worshamn/Documents/emailProject/InvestigateFix [Phish Alert] FW- Transfer Done.eml\n",
      "/Users/worshamn/Documents/emailProject/InvestigateFix [Phish Alert] FW- I shared INVOICE OVERDUE.docx with you in OneDrive.eml\n",
      "/Users/worshamn/Documents/emailProject/InvestigateFix [Phish Alert] FW- [EXT] Payment status.eml\n",
      "/Users/worshamn/Documents/emailProject/InvestigateFix [Phish Alert] FW- Payment to .eml\n",
      "/Users/worshamn/Documents/emailProject/InvestigateFix [Phish Alert] FW- Invoice- 0955202-QXI#KPI-2017 (28 Nov 17).eml\n",
      "/Users/worshamn/Documents/emailProject/InvestigateFix [Phish Alert] FW- IMPORTANT - William Olberding  Invitation to view..eml\n",
      "/Users/worshamn/Documents/emailProject/InvestigateFix [Phish Alert] FW- May Service and Support Invoice[1].eml\n",
      "/Users/worshamn/Documents/emailProject/InvestigateFix [Phish Alert] FW- Payment.eml\n",
      "/Users/worshamn/Documents/emailProject/InvestigateFix [Phish Alert] FW- Scanned document received from Dropbox User.eml\n",
      "/Users/worshamn/Documents/emailProject/InvestigateFix [Phish Alert] FW- Recognition Concepts Contract[4].eml\n",
      "/Users/worshamn/Documents/emailProject/InvestigateFix [Phish Alert] FW- Rechnung IIS - 637-LMK2956  .eml\n",
      "/Users/worshamn/Documents/emailProject/InvestigateFix [Phish Alert] FW- Invoice[2].eml\n",
      "/Users/worshamn/Documents/emailProject/InvestigateFix [Phish Alert] FW- thy.nguyen@pinnacol.com Be careful! malicious software ID a5iQmYe1e.eml\n",
      "/Users/worshamn/Documents/emailProject/InvestigateFix [Phish Alert] FW- Your new Chase payment notice.eml\n",
      "/Users/worshamn/Documents/emailProject/InvestigateFix [Phish Alert] FW- ICBC Payment Remittance.eml\n",
      "/Users/worshamn/Documents/emailProject/InvestigateFix [Phish Alert] FW- New Documents Survey For Your Review[5].eml\n",
      "/Users/worshamn/Documents/emailProject/InvestigateFix [Phish Alert] FW- File shared 11-21-2017 on behalf of Kim Willoughby.eml\n",
      "/Users/worshamn/Documents/emailProject/InvestigateFix [Phish Alert] FW- Wrong Invoice   Address.eml\n",
      "/Users/worshamn/Documents/emailProject/InvestigateFix [Phish Alert] FW- [SPAM] New payment notification.eml\n",
      "/Users/worshamn/Documents/emailProject/InvestigateFix [Phish Alert] FW- UPS Shipment Notification[2].eml\n",
      "/Users/worshamn/Documents/emailProject/InvestigateFix [Phish Alert] FW- Office 365 Suspension.eml\n",
      "/Users/worshamn/Documents/emailProject/InvestigateFix [Phish Alert] FW- Past due Invoice 694630161.eml\n",
      "/Users/worshamn/Documents/emailProject/InvestigateFix [Phish Alert] FW- Rechnung 11-2017 913773856.eml\n",
      "/Users/worshamn/Documents/emailProject/InvestigateFix [Phish Alert] FW- WeI have a footage of you milking your dog, you will be excited.eml\n",
      "/Users/worshamn/Documents/emailProject/InvestigateFix [Phish Alert] FW- Recognition Concepts Contract.eml\n",
      "/Users/worshamn/Documents/emailProject/InvestigateFix [Phish Alert] FW- Office-365 Team.eml\n",
      "/Users/worshamn/Documents/emailProject/InvestigateFix [Phish Alert] FW- [Spam] New payment notification[4].eml\n",
      "/Users/worshamn/Documents/emailProject/InvestigateFix [Phish Alert] FW- [1].eml\n",
      "/Users/worshamn/Documents/emailProject/InvestigateFix [Phish Alert] FW- Invoice reminder.eml\n",
      "/Users/worshamn/Documents/emailProject/InvestigateFix [Phish Alert] FW- DHL-Delivery-Order Order Total 67868.45$ G#34769 Sub-Confirmation #February 26, 2018, .eml\n",
      "/Users/worshamn/Documents/emailProject/InvestigateFix [Phish Alert] FW- Rechnungs-Details.eml\n",
      "/Users/worshamn/Documents/emailProject/InvestigateFix [Phish Alert] FW- Document[3].eml\n",
      "/Users/worshamn/Documents/emailProject/InvestigateFix [Phish Alert] FW- pinnacol.com accounting statements.eml\n",
      "/Users/worshamn/Documents/emailProject/InvestigateFix [Phish Alert] FW- Request.eml\n",
      "/Users/worshamn/Documents/emailProject/InvestigateFix [Phish Alert] FW- Urgent Review.eml\n",
      "/Users/worshamn/Documents/emailProject/InvestigateFix [Phish Alert] FW- Hada, Kristi invoice is available.eml\n",
      "/Users/worshamn/Documents/emailProject/InvestigateFix [Phish Alert] FW- (Thread-1740264).eml\n",
      "/Users/worshamn/Documents/emailProject/InvestigateFix [Phish Alert] FW- Payment notice for invoice #6310225.eml\n",
      "/Users/worshamn/Documents/emailProject/InvestigateFix [Phish Alert] FW- UPS Ship Notification, Tracking Number 5WQ11330612397664.eml\n"
     ]
    },
    {
     "name": "stdout",
     "output_type": "stream",
     "text": [
      "/Users/worshamn/Documents/emailProject/InvestigateFix [Phish Alert] FW- 28-09HSBC Confirmation slip.eml\n",
      "/Users/worshamn/Documents/emailProject/InvestigateFix [Phish Alert] FW- Andy Jessen Paypal Receipt.eml\n",
      "/Users/worshamn/Documents/emailProject/InvestigateFix [Phish Alert] FW- INVOICE STATUS.eml\n",
      "/Users/worshamn/Documents/emailProject/InvestigateFix [Phish Alert] FW- Scan 62894016185 Loni Bennett.eml\n",
      "/Users/worshamn/Documents/emailProject/InvestigateFix [Phish Alert] FW- Statement from  andy.j@pateconcreteinc.com.eml\n",
      "/Users/worshamn/Documents/emailProject/InvestigateFix [Phish Alert] FW- Please Review Listing.eml\n",
      "/Users/worshamn/Documents/emailProject/InvestigateFix [Phish Alert] FW- All the best in Coming Year!.eml\n",
      "/Users/worshamn/Documents/emailProject/InvestigateFix [Phish Alert] FW- Validate Your LinkedIn Account.eml\n",
      "/Users/worshamn/Documents/emailProject/InvestigateFix [Phish Alert] FW- Payment problem.eml\n",
      "/Users/worshamn/Documents/emailProject/InvestigateFix [Phish Alert] FW- Address and payment info.eml\n",
      "/Users/worshamn/Documents/emailProject/InvestigateFix [Phish Alert] FW- Invoice[1].eml\n",
      "/Users/worshamn/Documents/emailProject/InvestigateFix [Phish Alert] FW- New Documents Survey For Your Review[6].eml\n",
      "/Users/worshamn/Documents/emailProject/InvestigateFix [Phish Alert] FW- PDF ATTACHED[1].eml\n",
      "/Users/worshamn/Documents/emailProject/InvestigateFix [Phish Alert] FW- Wire transfer info.eml\n",
      "/Users/worshamn/Documents/emailProject/InvestigateFix [Phish Alert] FW- UPS Shipment Notification[1].eml\n",
      "/Users/worshamn/Documents/emailProject/InvestigateFix [Phish Alert] FW- Jim sent you an Important message.eml\n",
      "/Users/worshamn/Documents/emailProject/InvestigateFix [Phish Alert] FW- [Spam] New payment notification[7].eml\n",
      "/Users/worshamn/Documents/emailProject/InvestigateFix [Phish Alert] FW- Payment issue.eml\n",
      "/Users/worshamn/Documents/emailProject/InvestigateFix [Phish Alert] FW- [2].eml\n",
      "/Users/worshamn/Documents/emailProject/InvestigateFix [Phish Alert] FW- Email.eml\n",
      "/Users/worshamn/Documents/emailProject/InvestigateFix [Phish Alert] FW- Kami Thompson Receipt.eml\n",
      "/Users/worshamn/Documents/emailProject/InvestigateFix [Phish Alert] FW- Pending Invoice.eml\n",
      "/Users/worshamn/Documents/emailProject/InvestigateFix [Phish Alert] FW- Wish you a Merry Christmas![3].eml\n",
      "/Users/worshamn/Documents/emailProject/InvestigateFix [Phish Alert] FW- Ihre Rechnung von .eml\n",
      "/Users/worshamn/Documents/emailProject/InvestigateFix [Phish Alert] FW- FW- bill for september.eml\n",
      "/Users/worshamn/Documents/emailProject/InvestigateFix [Phish Alert] FW- Customer Invoice NK 11156054.eml\n",
      "/Users/worshamn/Documents/emailProject/InvestigateFix [Phish Alert] FW- Outstanding INVOICE NZMRE-267470-146 .eml\n",
      "/Users/worshamn/Documents/emailProject/InvestigateFix [Phish Alert] FW- Silambarasan A Paypal Receipt Notification.eml\n",
      "/Users/worshamn/Documents/emailProject/InvestigateFix [Phish Alert] FW- Invoice.eml\n",
      "/Users/worshamn/Documents/emailProject/InvestigateFix [Phish Alert] FW- UPS Invoice Notification.eml\n",
      "/Users/worshamn/Documents/emailProject/InvestigateFix [Phish Alert] FW- Tracking Number 5LI41205953805527.eml\n",
      "/Users/worshamn/Documents/emailProject/InvestigateFix [Phish Alert] FW- Invoice #06887914181.eml\n",
      "/Users/worshamn/Documents/emailProject/InvestigateFix [Phish Alert] FW- PDF-20180327072018.PDF[3].eml\n",
      "/Users/worshamn/Documents/emailProject/InvestigateFix [Phish Alert] FW- Ians Roofing sent a document to you[1].eml\n",
      "/Users/worshamn/Documents/emailProject/InvestigateFix [Phish Alert] FW- Email Account Closure Alert!!  2018-04-05  07-54-25.eml\n",
      "/Users/worshamn/Documents/emailProject/InvestigateFix [Phish Alert] FW- Hi.eml\n",
      "/Users/worshamn/Documents/emailProject/InvestigateFix [Phish Alert] FW- Hector Vance.eml\n",
      "/Users/worshamn/Documents/emailProject/InvestigateFix [Phish Alert] FW- REMITTANCE ADVICE.eml\n",
      "/Users/worshamn/Documents/emailProject/InvestigateFix [Phish Alert] FW- Auditor of State - Notification of EFT Deposit.eml\n",
      "/Users/worshamn/Documents/emailProject/InvestigateFix [Phish Alert] FW- Remittance #49170[3].eml\n",
      "/Users/worshamn/Documents/emailProject/InvestigateFix [Phish Alert] FW- Re-[5].eml\n",
      "/Users/worshamn/Documents/emailProject/InvestigateFix [Phish Alert] FW- Great Holidays!.eml\n",
      "/Users/worshamn/Documents/emailProject/InvestigateFix [Phish Alert] FW- lsauer@legacyhc.com Sent you files via WeTransfer.eml\n",
      "/Users/worshamn/Documents/emailProject/InvestigateFix [Phish Alert] FW- Re amy.newton.eml\n",
      "/Users/worshamn/Documents/emailProject/InvestigateFix [Phish Alert] FW- iPhone X pre-order[2].eml\n",
      "/Users/worshamn/Documents/emailProject/InvestigateFix [Phish Alert] FW- RE- subpoena.eml\n",
      "/Users/worshamn/Documents/emailProject/InvestigateFix [Phish Alert] FW- Newly signed Project invitation - please view proposal-[1].eml\n",
      "/Users/worshamn/Documents/emailProject/InvestigateFix [Phish Alert] FW- Failed invoice notice.eml\n",
      "/Users/worshamn/Documents/emailProject/InvestigateFix [Phish Alert] FW- Outstanding INVOICE HXUSF-758522-9750.eml\n",
      "/Users/worshamn/Documents/emailProject/InvestigateFix [Phish Alert] FW- Invoice Corrections for #93-56.eml\n",
      "/Users/worshamn/Documents/emailProject/InvestigateFix [Phish Alert] FW- [Spam] UPS Delivery Notification, Tracking Number 1Z9R140W0358552191.eml\n",
      "/Users/worshamn/Documents/emailProject/InvestigateFix [Phish Alert] FW- ACTION REQUIRED.eml\n",
      "/Users/worshamn/Documents/emailProject/InvestigateFix [Phish Alert] FW- UPS Invoice Notification[1].eml\n",
      "/Users/worshamn/Documents/emailProject/InvestigateFix [Phish Alert] FW- Review Document.eml\n",
      "/Users/worshamn/Documents/emailProject/InvestigateFix [Phish Alert] FW- loni.bennett.eml\n",
      "/Users/worshamn/Documents/emailProject/InvestigateFix [Phish Alert] FW- Important document notice..eml\n",
      "/Users/worshamn/Documents/emailProject/InvestigateFix [Phish Alert] FW- Molly Lockhart shared a file with you.eml\n",
      "/Users/worshamn/Documents/emailProject/InvestigateFix [Phish Alert] FW- Invoices Overdue.eml\n",
      "/Users/worshamn/Documents/emailProject/InvestigateFix [Phish Alert] FW- Reconstructcolorado-01-19-2018[1].eml\n",
      "/Users/worshamn/Documents/emailProject/InvestigateFix [Phish Alert] FW- iPhone X pre-order[3].eml\n",
      "/Users/worshamn/Documents/emailProject/InvestigateFix [Phish Alert] FW- Autumn Hernandez.eml\n",
      "/Users/worshamn/Documents/emailProject/InvestigateFix [Phish Alert] FW- Your Invoice Is Attached - 0000125794[2].eml\n",
      "/Users/worshamn/Documents/emailProject/InvestigateFix [Phish Alert] FW- Remittance #49170[2].eml\n",
      "/Users/worshamn/Documents/emailProject/InvestigateFix [Phish Alert] FW- Re-[4].eml\n",
      "/Users/worshamn/Documents/emailProject/InvestigateFix [Phish Alert] FW- Scan data from MFP7298 HP ePrint user[1].eml\n",
      "/Users/worshamn/Documents/emailProject/InvestigateFix [Phish Alert] FW- Contract Agreement-Investment Forecast.eml\n",
      "/Users/worshamn/Documents/emailProject/InvestigateFix [Phish Alert] FW- Information.eml\n",
      "/Users/worshamn/Documents/emailProject/InvestigateFix [Phish Alert] FW- PayPal Reminder.eml\n",
      "/Users/worshamn/Documents/emailProject/InvestigateFix [Phish Alert] FW- PDF-20180327072018.PDF[2].eml\n",
      "/Users/worshamn/Documents/emailProject/InvestigateFix [Phish Alert] FW- Tracking Number 5OX66928867835423.eml\n",
      "/Users/worshamn/Documents/emailProject/InvestigateFix [Phish Alert] FW- INVOICE STATUS[1].eml\n",
      "/Users/worshamn/Documents/emailProject/InvestigateFix [Phish Alert] FW- Explicit Content- For men over 30 ONLY!.eml\n",
      "/Users/worshamn/Documents/emailProject/InvestigateFix [Phish Alert] FW- Invoice Problem.eml\n",
      "/Users/worshamn/Documents/emailProject/InvestigateFix [Phish Alert] FW- Business Opportunity.eml\n",
      "/Users/worshamn/Documents/emailProject/InvestigateFix [Phish Alert] FW- Case-46199316665-157.eml\n",
      "/Users/worshamn/Documents/emailProject/InvestigateFix [Phish Alert] FW- New Document.eml\n",
      "/Users/worshamn/Documents/emailProject/InvestigateFix [Phish Alert] FW- Wish you a Merry Christmas![2].eml\n",
      "/Users/worshamn/Documents/emailProject/InvestigateFix [Phish Alert] FW- Payment notice for invoice #1647302.eml\n",
      "/Users/worshamn/Documents/emailProject/InvestigateFix [Phish Alert] FW- Recent payment notification to Carol Rusten.eml\n",
      "/Users/worshamn/Documents/emailProject/InvestigateFix [Phish Alert] FW- UPS Express Domestic.eml\n",
      "/Users/worshamn/Documents/emailProject/InvestigateFix [Phish Alert] FW- Yоu hаvе thе tаlеnt tо роsе fоr thе саmеrа, dоn't bе nеrvоus..eml\n",
      "/Users/worshamn/Documents/emailProject/InvestigateFix [Phish Alert] FW- Coseco Invoice IR1-52583.eml\n",
      "/Users/worshamn/Documents/emailProject/InvestigateFix [Phish Alert] FW- IMPORTANT MAIL.eml\n",
      "/Users/worshamn/Documents/emailProject/InvestigateFix [Phish Alert] FW- [SPAM] New payment notification[6].eml\n",
      "/Users/worshamn/Documents/emailProject/InvestigateFix [Phish Alert] FW- Pay Invoice.eml\n",
      "/Users/worshamn/Documents/emailProject/InvestigateFix [Phish Alert] FW- Invoice #9066829 from Lori Whitesides.eml\n",
      "/Users/worshamn/Documents/emailProject/InvestigateFix [Phish Alert] FW- [Spam] IMPORTANT - William Olberding  Invitation to view..eml\n"
     ]
    },
    {
     "name": "stdout",
     "output_type": "stream",
     "text": [
      "/Users/worshamn/Documents/emailProject/InvestigateFix [Phish Alert] FW- Confidential- FYI[2].eml\n",
      "/Users/worshamn/Documents/emailProject/InvestigateFix [Phish Alert] FW- Please Review Listing[2].eml\n",
      "/Users/worshamn/Documents/emailProject/InvestigateFix [Phish Alert] FW- Emailing2018-04-17-4dfb-4c20-8d32-cw58eb31eda6.eml\n",
      "/Users/worshamn/Documents/emailProject/InvestigateFix [Phish Alert] FW- New Documents Survey For Your Review[7].eml\n",
      "/Users/worshamn/Documents/emailProject/InvestigateFix [Phish Alert] FW- May Service and Support Invoice.eml\n",
      "/Users/worshamn/Documents/emailProject/InvestigateFix [Phish Alert] FW- Problem with an invoice.eml\n",
      "/Users/worshamn/Documents/emailProject/InvestigateFix [Phish Alert] FW- Invoice #33283473-IJD#ALONQ-2017 (14 Nov 17).eml\n",
      "/Users/worshamn/Documents/emailProject/InvestigateFix [Phish Alert] FW- [Spam] 907-64-653485-982-907-64-653485-891.eml\n",
      "/Users/worshamn/Documents/emailProject/InvestigateFix [Phish Alert] FW- Updated Invitation 2018.eml\n",
      "/Users/worshamn/Documents/emailProject/InvestigateFix [Phish Alert] FW- Invoice #46816850.eml\n",
      "/Users/worshamn/Documents/emailProject/InvestigateFix [Phish Alert] FW- [Spam] Seperate Remittance Advice Layout - paper document A4.eml\n",
      "/Users/worshamn/Documents/emailProject/InvestigateFix [Phish Alert] FW- Direct Deposit Notice.eml\n",
      "/Users/worshamn/Documents/emailProject/InvestigateFix [Phish Alert] FW- Emailing- P657781GU 92719, Y467682AU 549856, N05928QT 926645, N44728DR 92572, R761865ER 288999.eml\n",
      "/Users/worshamn/Documents/emailProject/InvestigateFix [Phish Alert] FW- Invoice #156870-FUO#NRKCZ-2017 (DATE-21 Sep 17) Message.eml\n",
      "/Users/worshamn/Documents/emailProject/InvestigateFix [Phish Alert] FW- (Thread-1740265).eml\n",
      "/Users/worshamn/Documents/emailProject/InvestigateFix [Phish Alert] FW- Your mailbox kathy.kranz@pinnacol.com.eml\n",
      "/Users/worshamn/Documents/emailProject/InvestigateFix [Phish Alert] FW- Zunge abgeschnitten hatte durch den furchtbaren Schreck den sie nie.eml\n",
      "/Users/worshamn/Documents/emailProject/InvestigateFix [Phish Alert] FW- Document[2].eml\n",
      "/Users/worshamn/Documents/emailProject/InvestigateFix [Phish Alert] FW- FYI[4].eml\n",
      "/Users/worshamn/Documents/emailProject/InvestigateFix [Phish Alert] FW- UPS Ship Notification, Tracking Number 1TN11665379600151.eml\n",
      "/Users/worshamn/Documents/emailProject/InvestigateFix [Phish Alert] FW- Terrible.eml\n",
      "/Users/worshamn/Documents/emailProject/InvestigateFix [Phish Alert] FW- Clementine Gray.eml\n",
      "/Users/worshamn/Documents/emailProject/InvestigateFix [Phish Alert] FW- Invoice- 998458487-DWQX#QYQ-2017 (17 Nov 17).eml\n",
      "/Users/worshamn/Documents/emailProject/InvestigateFix [Phish Alert] FW- 615835563.eml\n",
      "/Users/worshamn/Documents/emailProject/InvestigateFix [Phish Alert] FW- CMCA- Please Review.eml\n",
      "/Users/worshamn/Documents/emailProject/InvestigateFix [Phish Alert] FW- Новости магазина.eml\n",
      "/Users/worshamn/Documents/emailProject/InvestigateFix [Phish Alert] FW- Settlement Statement.eml\n",
      "/Users/worshamn/Documents/emailProject/InvestigateFix [Phish Alert] FW- Ians Roofing sent a document to you[7].eml\n",
      "/Users/worshamn/Documents/emailProject/InvestigateFix [Phish Alert] FW- Reconstructcolorado-01-19-2018.eml\n",
      "/Users/worshamn/Documents/emailProject/InvestigateFix [Phish Alert] FW- Auditor of State - Notification of EFT Deposit[2].eml\n",
      "/Users/worshamn/Documents/emailProject/InvestigateFix [Phish Alert] FW- New Address.eml\n",
      "/Users/worshamn/Documents/emailProject/InvestigateFix [Phish Alert] FW- Re-[3].eml\n",
      "/Users/worshamn/Documents/emailProject/InvestigateFix [Phish Alert] FW- FW- bill for september[1].eml\n",
      "/Users/worshamn/Documents/emailProject/InvestigateFix [Phish Alert] FW- CMCA- Please Review[1].eml\n",
      "/Users/worshamn/Documents/emailProject/InvestigateFix [Phish Alert] FW- Invoice issue.eml\n",
      "/Users/worshamn/Documents/emailProject/InvestigateFix [Phish Alert] FW- Paypal Receipt[2].eml\n",
      "/Users/worshamn/Documents/emailProject/InvestigateFix [Phish Alert] FW- pinnacol.com accounting statements[2].eml\n",
      "/Users/worshamn/Documents/emailProject/InvestigateFix [Phish Alert] FW- Invoice #082304164-EO#RMZ-2017 (Mar 15) Message.eml\n",
      "/Users/worshamn/Documents/emailProject/InvestigateFix [Phish Alert] FW- Signed offer letter.eml\n",
      "/Users/worshamn/Documents/emailProject/InvestigateFix [Phish Alert] FW- New Documents Survey For Your Review[12].eml\n",
      "/Users/worshamn/Documents/emailProject/InvestigateFix [Phish Alert] FW- UPS Ship Notification, Tracking Number 0FPN86916144456728.eml\n",
      "/Users/worshamn/Documents/emailProject/InvestigateFix [Phish Alert] FW- Problem with the invoice # 86487.eml\n",
      "/Users/worshamn/Documents/emailProject/InvestigateFix [Phish Alert] FW- Due balance paid.eml\n",
      "/Users/worshamn/Documents/emailProject/InvestigateFix [Phish Alert] FW- Payment Request.eml\n",
      "/Users/worshamn/Documents/emailProject/InvestigateFix [Phish Alert] FW- Invoice number 97987393 second Notification.eml\n",
      "/Users/worshamn/Documents/emailProject/InvestigateFix [Phish Alert] FW- FYI[3].eml\n",
      "/Users/worshamn/Documents/emailProject/InvestigateFix [Phish Alert] FW- cschultz@ironwomancon.com sent you files via WeTransfer.eml\n",
      "/Users/worshamn/Documents/emailProject/InvestigateFix [Phish Alert] FW- Paypal Receipt Reminder.eml\n",
      "/Users/worshamn/Documents/emailProject/InvestigateFix [Phish Alert] FW- You have a UPS Letter scheduled for delivery from IRS.GOV.eml\n",
      "/Users/worshamn/Documents/emailProject/InvestigateFix [Phish Alert] FW- ACTION REQUIRED- Payment Approval[1].eml\n",
      "/Users/worshamn/Documents/emailProject/InvestigateFix [Phish Alert] FW- IMPORTANT.eml\n",
      "/Users/worshamn/Documents/emailProject/InvestigateFix [Phish Alert] FW- Your new payment notice.eml\n",
      "/Users/worshamn/Documents/emailProject/InvestigateFix [Phish Alert] FW- PDF-20180327172018.PDF.eml\n",
      "/Users/worshamn/Documents/emailProject/InvestigateFix [Phish Alert] FW- Important document[1].eml\n",
      "/Users/worshamn/Documents/emailProject/InvestigateFix [Phish Alert] FW- Recognition Concepts Contract[1].eml\n",
      "/Users/worshamn/Documents/emailProject/InvestigateFix [Phish Alert] FW- Payment notice for invoice #2138125.eml\n",
      "/Users/worshamn/Documents/emailProject/InvestigateFix [Phish Alert] FW- Payment #655198672 issue.eml\n",
      "/Users/worshamn/Documents/emailProject/InvestigateFix [Phish Alert] FW- PDF-20180326171008.PDF.eml\n",
      "/Users/worshamn/Documents/emailProject/InvestigateFix [Phish Alert] FW- Alert.eml\n",
      "/Users/worshamn/Documents/emailProject/InvestigateFix [Phish Alert] FW- Your new Chase payment notice to Joselyn R. Varghese.eml\n",
      "/Users/worshamn/Documents/emailProject/InvestigateFix [Phish Alert] FW- Molly Lockhart shared a file with you[2].eml\n",
      "/Users/worshamn/Documents/emailProject/InvestigateFix [Phish Alert] FW- Invoice # 94898 Problem 2.eml\n",
      "/Users/worshamn/Documents/emailProject/InvestigateFix [Phish Alert] FW- Due Invoice - ACH payment  remittance .eml\n",
      "/Users/worshamn/Documents/emailProject/InvestigateFix [Phish Alert] FW- Invoice number 4200374741 issue.eml\n",
      "/Users/worshamn/Documents/emailProject/InvestigateFix [Phish Alert] FW- Document.eml\n",
      "/Users/worshamn/Documents/emailProject/InvestigateFix [Phish Alert] FW- Emailing2018-04-17-4dfb-4c20-8d32-cw58eb31eda6[2].eml\n",
      "/Users/worshamn/Documents/emailProject/InvestigateFix [Phish Alert] FW- Invoice #8844 Message.eml\n",
      "/Users/worshamn/Documents/emailProject/InvestigateFix [Phish Alert] FW- E-fax received- JPMorgan Chase 2 page(s).eml\n",
      "/Users/worshamn/Documents/emailProject/InvestigateFix [Phish Alert] FW- Please confirm your Office365 account.eml\n",
      "/Users/worshamn/Documents/emailProject/InvestigateFix [Phish Alert] FW- Your mailbox is almost full..eml\n",
      "/Users/worshamn/Documents/emailProject/InvestigateFix [Phish Alert] FW- [SPAM] New payment notification[1].eml\n",
      "/Users/worshamn/Documents/emailProject/InvestigateFix [Phish Alert] FW- Sales Invoice.eml\n",
      "/Users/worshamn/Documents/emailProject/InvestigateFix [Phish Alert] FW- CURRENT STOCK LIST.eml\n",
      "/Users/worshamn/Documents/emailProject/InvestigateFix [Phish Alert] FW- Invoice 13329 from Transpro[2].eml\n",
      "/Users/worshamn/Documents/emailProject/InvestigateFix [Phish Alert] FW- FWD james.mcmillen.eml\n",
      "/Users/worshamn/Documents/emailProject/InvestigateFix [Phish Alert] FW- [Spam] You have 16 new quarantined messages!.eml\n",
      "/Users/worshamn/Documents/emailProject/InvestigateFix [Phish Alert] FW- AccuSystems  Proposal.eml\n",
      "/Users/worshamn/Documents/emailProject/InvestigateFix [Phish Alert] FW- Jesse shared 24-010.pdf with you.eml\n",
      "/Users/worshamn/Documents/emailProject/InvestigateFix [Phish Alert] FW- Please pull invoice 51211.eml\n",
      "/Users/worshamn/Documents/emailProject/InvestigateFix [Phish Alert] FW- Urgent Doc[3].eml\n",
      "/Users/worshamn/Documents/emailProject/InvestigateFix [Phish Alert] FW- Scan data from MFP7298 HP ePrint user.eml\n",
      "/Users/worshamn/Documents/emailProject/InvestigateFix [Phish Alert] FW- Important Document   .eml\n"
     ]
    },
    {
     "name": "stdout",
     "output_type": "stream",
     "text": [
      "/Users/worshamn/Documents/emailProject/InvestigateFix [Phish Alert] FW- Versandbestätigung und Rechnung - Bestellung 496632974.eml\n",
      "/Users/worshamn/Documents/emailProject/InvestigateFix [Phish Alert] FW- New Documents Survey For Your Review[1].eml\n",
      "/Users/worshamn/Documents/emailProject/InvestigateFix [Phish Alert] FW- [Spam] UPS Invoice.eml\n",
      "/Users/worshamn/Documents/emailProject/InvestigateFix [Phish Alert] FW- Overdue payment.eml\n",
      "/Users/worshamn/Documents/emailProject/InvestigateFix [Phish Alert] FW- .eml\n",
      "/Users/worshamn/Documents/emailProject/InvestigateFix [Phish Alert] FW- Invoice # 7338953249 Problem.eml\n",
      "/Users/worshamn/Documents/emailProject/InvestigateFix [Phish Alert] FW- C Fisher.eml\n",
      "/Users/worshamn/Documents/emailProject/InvestigateFix [Phish Alert] FW- Your Legally Binding Contract document is ready for signature![1].eml\n",
      "/Users/worshamn/Documents/emailProject/InvestigateFix [Phish Alert] FW- Your Legally Binding Contract document is ready for signature!.eml\n",
      "/Users/worshamn/Documents/emailProject/InvestigateFix [Phish Alert] FW- [Spam] Invoice #00990339554.eml\n",
      "/Users/worshamn/Documents/emailProject/InvestigateFix [Phish Alert] FW- Cheryl Dyer.eml\n",
      "/Users/worshamn/Documents/emailProject/InvestigateFix [Phish Alert] FW- Incoming wireless message from +17323205192.eml\n",
      "/Users/worshamn/Documents/emailProject/InvestigateFix [Phish Alert] FW- Coloradohandandarm ( Teusday 27, 2018).eml\n",
      "/Users/worshamn/Documents/emailProject/InvestigateFix [Phish Alert] FW- Dylan Grant.eml\n",
      "/Users/worshamn/Documents/emailProject/InvestigateFix [Phish Alert] FW- Delivery Status Notification.eml\n",
      "/Users/worshamn/Documents/emailProject/InvestigateFix [Phish Alert] FW- Invoice PUJ #73722-AUL#YSML-2017 (21 Sep 17).eml\n",
      "/Users/worshamn/Documents/emailProject/InvestigateFix [Phish Alert] FW- 66925_whitepaperfivemusthavesinacloudfinancialmanagementsystemus.eml\n",
      "/Users/worshamn/Documents/emailProject/InvestigateFix [Phish Alert] FW- Question.eml\n",
      "/Users/worshamn/Documents/emailProject/InvestigateFix [Phish Alert] FW- Email Verification.eml\n",
      "/Users/worshamn/Documents/emailProject/InvestigateFix [Phish Alert] FW- FYI[2].eml\n",
      "/Users/worshamn/Documents/emailProject/InvestigateFix [Phish Alert] FW- Document[4].eml\n",
      "/Users/worshamn/Documents/emailProject/InvestigateFix [Phish Alert] FW- Your Invoice Is Attached - 0000125794.eml\n",
      "/Users/worshamn/Documents/emailProject/InvestigateFix [Phish Alert] FW- UPS Ship Notification, Tracking Number 7M01917345053585.eml\n",
      "/Users/worshamn/Documents/emailProject/InvestigateFix [Phish Alert] FW- Elaine Tracey Software virus on your gadget ID et8zt7Zbz3.eml\n",
      "/Users/worshamn/Documents/emailProject/InvestigateFix [Phish Alert] FW- Payroll Update.eml\n",
      "/Users/worshamn/Documents/emailProject/InvestigateFix [Phish Alert] FW- Important document notice.[1].eml\n",
      "/Users/worshamn/Documents/emailProject/InvestigateFix [Phish Alert] FW- Record of Account Transcript from June 13, 2018.eml\n",
      "/Users/worshamn/Documents/emailProject/InvestigateFix [Phish Alert] FW- UPS Shipment Notification.eml\n",
      "/Users/worshamn/Documents/emailProject/InvestigateFix [Phish Alert] FW- Pay Invoice[1].eml\n",
      "/Users/worshamn/Documents/emailProject/InvestigateFix [Phish Alert] FW- Awaiting for your confirmation.eml\n",
      "/Users/worshamn/Documents/emailProject/InvestigateFix [Phish Alert] FW- Please pull invoice 969295.eml\n",
      "/Users/worshamn/Documents/emailProject/InvestigateFix [Phish Alert] FW- pinnacol.com accounting statements[3].eml\n",
      "/Users/worshamn/Documents/emailProject/InvestigateFix [Phish Alert] FW- Investment...eml\n",
      "/Users/worshamn/Documents/emailProject/InvestigateFix [Phish Alert] FW- Your Walmart Order Confirmation - Order #57707.eml\n",
      "/Users/worshamn/Documents/emailProject/InvestigateFix [Phish Alert] FW- ACTION REQUIRED- Payment Approval.eml\n",
      "/Users/worshamn/Documents/emailProject/InvestigateFix [Phish Alert] FW- Re-[2].eml\n",
      "/Users/worshamn/Documents/emailProject/InvestigateFix [Phish Alert] FW- Wells Fargo Debit Card Deactivated.eml\n",
      "/Users/worshamn/Documents/emailProject/InvestigateFix [Phish Alert] FW- Incident-021500053435-26.eml\n",
      "/Users/worshamn/Documents/emailProject/InvestigateFix [Phish Alert] FW- kblack@wylaco.com sent you files via WeTransfer[1].eml\n",
      "/Users/worshamn/Documents/emailProject/InvestigateFix [Phish Alert] FW- Invoice for you.eml\n",
      "/Users/worshamn/Documents/emailProject/InvestigateFix [Phish Alert] FW- Ians Roofing sent a document to you[6].eml\n",
      "/Users/worshamn/Documents/emailProject/InvestigateFix [Phish Alert] FW- Proposal[1].eml\n",
      "/Users/worshamn/Documents/emailProject/InvestigateFix [Phish Alert] FW- Invoice number 67895848033 issue.eml\n",
      "/Users/worshamn/Documents/emailProject/InvestigateFix [Phish Alert] FW- PDF-20180326171008.PDF[1].eml\n",
      "/Users/worshamn/Documents/emailProject/InvestigateFix [Phish Alert] FW- Payment issue[1].eml\n",
      "/Users/worshamn/Documents/emailProject/InvestigateFix [Phish Alert] FW- Recent money transfer details.eml\n",
      "/Users/worshamn/Documents/emailProject/InvestigateFix [Phish Alert] FW- Jim sent you an Important message[1].eml\n",
      "/Users/worshamn/Documents/emailProject/InvestigateFix [Phish Alert] FW- ShareFile Message From- Scott Houge.eml\n",
      "/Users/worshamn/Documents/emailProject/InvestigateFix [Phish Alert] FW- Invoice 31003023 Invoice date 061818 Order no. 85887475845.eml\n",
      "/Users/worshamn/Documents/emailProject/InvestigateFix [Phish Alert] FW- Attached Document[1].eml\n",
      "/Users/worshamn/Documents/emailProject/InvestigateFix [Phish Alert] FW- Ians Roofing sent a document to you.eml\n",
      "/Users/worshamn/Documents/emailProject/InvestigateFix [Phish Alert] FW- Wish you a Merry Christmas![4].eml\n",
      "/Users/worshamn/Documents/emailProject/InvestigateFix [Phish Alert] FW- Purchases 2018.eml\n",
      "/Users/worshamn/Documents/emailProject/InvestigateFix [Phish Alert] FW- Invoice # 94898 Problem[1].eml\n",
      "/Users/worshamn/Documents/emailProject/InvestigateFix [Phish Alert] FW- HRI Monthly Invoice.eml\n",
      "/Users/worshamn/Documents/emailProject/InvestigateFix [Phish Alert] FW- Invoice 13329 from Transpro.eml\n",
      "/Users/worshamn/Documents/emailProject/InvestigateFix [Phish Alert] FW- PDF-20180327072018.PDF.eml\n",
      "/Users/worshamn/Documents/emailProject/IgnoreFix [Phish Alert] FW- Pinnacol Assurance vs Allstate- Employees and Key Hires[2].eml\n",
      "/Users/worshamn/Documents/emailProject/IgnoreFix [Phish Alert] FW- REMINDER- $35 Survey – Claims Adjuster Survey[2].eml\n",
      "/Users/worshamn/Documents/emailProject/IgnoreFix [Phish Alert] FW- BBB News-Events-Scam Warnings.eml\n",
      "/Users/worshamn/Documents/emailProject/IgnoreFix [Phish Alert] FW- Hyper-V Availability eBook.eml\n",
      "/Users/worshamn/Documents/emailProject/IgnoreFix [Phish Alert] FW- Monarch Casino & Resort Inc Payment Change Notification.eml\n",
      "/Users/worshamn/Documents/emailProject/IgnoreFix [Phish Alert] FW- FullStory News ⚡ The Guide to Session Replay  Optimizely Integration  From Rage Clicks to User-Desired Product Features[2].eml\n",
      "/Users/worshamn/Documents/emailProject/IgnoreFix [Phish Alert] FW- I found you 2 ways to earn from your couch.eml\n",
      "/Users/worshamn/Documents/emailProject/IgnoreFix [Phish Alert] FW- Why You Should Consider a Career in Project Management.eml\n",
      "/Users/worshamn/Documents/emailProject/IgnoreFix [Phish Alert] FW- October Squad Ghouls.eml\n",
      "/Users/worshamn/Documents/emailProject/IgnoreFix [Phish Alert] FW- Here's how catalogs drive sales.eml\n",
      "/Users/worshamn/Documents/emailProject/IgnoreFix [Phish Alert] FW- $7,500 Microsoft Office 365 Voucher.eml\n",
      "/Users/worshamn/Documents/emailProject/IgnoreFix [Phish Alert] FW- Pinnacol Assurance Company Newsletter and Blog[8].eml\n",
      "/Users/worshamn/Documents/emailProject/IgnoreFix [Phish Alert] FW- This pill can maximize your focus[1].eml\n",
      "/Users/worshamn/Documents/emailProject/IgnoreFix [Phish Alert] FW- [Spam] Get ahead in your career with our Project Management course.eml\n",
      "/Users/worshamn/Documents/emailProject/IgnoreFix [Phish Alert] FW- How to get your finances thriving[3].eml\n",
      "/Users/worshamn/Documents/emailProject/IgnoreFix [Phish Alert] FW- [Spam] 60,000 Business Owners[3].eml\n",
      "/Users/worshamn/Documents/emailProject/IgnoreFix [Phish Alert] FW- Lane sent you an invitation on LinkedIn.eml\n",
      "/Users/worshamn/Documents/emailProject/IgnoreFix [Phish Alert] FW- Refer your friends, Sonia.eml\n",
      "/Users/worshamn/Documents/emailProject/IgnoreFix [Phish Alert] FW- Incident Management - Pinnacol Assurance.eml\n",
      "/Users/worshamn/Documents/emailProject/IgnoreFix [Phish Alert] FW- UPDATED- The Definitive Guide to Latin American Compliance.eml\n",
      "/Users/worshamn/Documents/emailProject/IgnoreFix [Phish Alert] FW- Gartner Magic Quadrant for P&C Core Platforms in North America[14].eml\n"
     ]
    },
    {
     "name": "stderr",
     "output_type": "stream",
     "text": [
      "/usr/local/anaconda3/lib/python3.6/site-packages/ipykernel_launcher.py:96: DeprecationWarning: invalid escape sequence '\\ '\n"
     ]
    },
    {
     "name": "stdout",
     "output_type": "stream",
     "text": [
      "/Users/worshamn/Documents/emailProject/IgnoreFix [Phish Alert] FW- Limited Quantities- Free AMC Movie Tickets[1].eml\n",
      "/Users/worshamn/Documents/emailProject/IgnoreFix [Phish Alert] FW- [Spam] 2018 Small Business Tour[9].eml\n",
      "/Users/worshamn/Documents/emailProject/IgnoreFix [Phish Alert] FW- Sonia, review us on Google.eml\n",
      "/Users/worshamn/Documents/emailProject/IgnoreFix [Phish Alert] FW- Hi Nicole!  Kids Ninja Warrior Competition.eml\n",
      "/Users/worshamn/Documents/emailProject/IgnoreFix [Phish Alert] FW- Managing Machine Data (Logs)[1].eml\n",
      "/Users/worshamn/Documents/emailProject/IgnoreFix [Phish Alert] FW- My dear you a romantic person.eml\n",
      "/Users/worshamn/Documents/emailProject/IgnoreFix [Phish Alert] FW- We Do More Than You Think We Do.eml\n",
      "/Users/worshamn/Documents/emailProject/IgnoreFix [Phish Alert] FW- Tomorrow- Your Data Center's Speed & Resiliency. Amazon card..eml\n",
      "/Users/worshamn/Documents/emailProject/IgnoreFix [Phish Alert] FW- Real estate is changing. Are you affected.eml\n",
      "/Users/worshamn/Documents/emailProject/IgnoreFix [Phish Alert] FW- Includes- Pitfalls of Personal Devices at Work.eml\n",
      "/Users/worshamn/Documents/emailProject/IgnoreFix [Phish Alert] FW- Injured because of negligence Seek the help you need.eml\n",
      "/Users/worshamn/Documents/emailProject/IgnoreFix [Phish Alert] FW- New pain reliever nets biggest deal in Shark Tank history.eml\n",
      "/Users/worshamn/Documents/emailProject/IgnoreFix [Phish Alert] FW- Lisa, Over 150 Attending - Claim Your Spot Today.eml\n",
      "/Users/worshamn/Documents/emailProject/IgnoreFix [Phish Alert] FW- CO ADR.eml\n",
      "/Users/worshamn/Documents/emailProject/IgnoreFix [Phish Alert] FW- This product got investments from everyone on shark tank.eml\n",
      "/Users/worshamn/Documents/emailProject/IgnoreFix [Phish Alert] FW- Livestock Association Database [1].eml\n",
      "/Users/worshamn/Documents/emailProject/IgnoreFix [Phish Alert] FW- You're Invited- Lunch at Fogo de Chao, Thursday, September 14th.eml\n",
      "/Users/worshamn/Documents/emailProject/IgnoreFix [Phish Alert] FW- It's time to unlock your pre-loaded Amazon card.eml\n",
      "/Users/worshamn/Documents/emailProject/IgnoreFix [Phish Alert] FW- Gartner Magic Quadrant for P&C Core Platforms in North America[22].eml\n",
      "/Users/worshamn/Documents/emailProject/IgnoreFix [Phish Alert] FW- Virtual Reality in Rehabilitation[3].eml\n",
      "/Users/worshamn/Documents/emailProject/IgnoreFix [Phish Alert] FW- Get Inspired by the Best and Brightest at Oracle OpenWorld.eml\n",
      "/Users/worshamn/Documents/emailProject/IgnoreFix [Phish Alert] FW- CEH certification training - interested[3].eml\n",
      "/Users/worshamn/Documents/emailProject/IgnoreFix [Phish Alert] FW- Hit the movies with a friend.eml\n",
      "/Users/worshamn/Documents/emailProject/IgnoreFix [Phish Alert] FW- FullStory News ⚡ You Can Now fs-ignore Rage Clicks  Wistia on Video for Support  Solve Bugs Faster → Save 500+ Hours Work.eml\n",
      "/Users/worshamn/Documents/emailProject/IgnoreFix [Phish Alert] FW- Good news, bad news.eml\n",
      "/Users/worshamn/Documents/emailProject/IgnoreFix [Phish Alert] FW- Your Mail harvey.flewelling@pinnacol.com account will expire within the next 2 days ..eml\n",
      "/Users/worshamn/Documents/emailProject/IgnoreFix [Phish Alert] FW- Julie Wilmes invited you to Housewarming Party--Open House[1].eml\n",
      "/Users/worshamn/Documents/emailProject/IgnoreFix [Phish Alert] FW- Verify your email[1].eml\n",
      "/Users/worshamn/Documents/emailProject/IgnoreFix [Phish Alert] FW- Special Holiday Offer from Golfballs.com- Titleist Pro V1 $39.99 with Free Personalization.eml\n",
      "/Users/worshamn/Documents/emailProject/IgnoreFix [Phish Alert] FW- Exclusive Invitation- BladeRunner 2049 Movie Premiere.eml\n",
      "/Users/worshamn/Documents/emailProject/IgnoreFix [Phish Alert] FW- Have a Great Holiday & Happy New Year!.eml\n",
      "/Users/worshamn/Documents/emailProject/IgnoreFix [Phish Alert] FW- Thank you, Veterans - Enjoy a Free Pint 🍺.eml\n",
      "/Users/worshamn/Documents/emailProject/IgnoreFix [Phish Alert] FW- Elway's Steak Lunch Event Nov 14th- Eliminating Hybrid Cloud complexity with Dell EMC Azure Stack .eml\n",
      "/Users/worshamn/Documents/emailProject/IgnoreFix [Phish Alert] FW- Key Box Resources Await You.eml\n",
      "/Users/worshamn/Documents/emailProject/IgnoreFix [Phish Alert] FW- 2 new ways to earn from home.eml\n",
      "/Users/worshamn/Documents/emailProject/IgnoreFix [Phish Alert] FW- Happy Halloween!.eml\n",
      "/Users/worshamn/Documents/emailProject/IgnoreFix [Phish Alert] FW- Participate in this important study about Contact Center Technology Solutions - $50 Amazon Gift Card.eml\n",
      "/Users/worshamn/Documents/emailProject/IgnoreFix [Phish Alert] FW- Remaining Available October Complimentary Oracle Workshops.eml\n",
      "/Users/worshamn/Documents/emailProject/IgnoreFix [Phish Alert] FW- Real-World Stories of Financial Transformation Webcast Series[1].eml\n",
      "/Users/worshamn/Documents/emailProject/IgnoreFix [Phish Alert] FW- NPP services billing- Incident-to and split-shared guidelines.eml\n",
      "/Users/worshamn/Documents/emailProject/IgnoreFix [Phish Alert] FW- Don’t forget to register!.eml\n",
      "/Users/worshamn/Documents/emailProject/IgnoreFix [Phish Alert] FW- Unsubscribed successfully from Campaign.eml\n",
      "/Users/worshamn/Documents/emailProject/IgnoreFix [Phish Alert] FW- Splunksecurity webinar.eml\n",
      "/Users/worshamn/Documents/emailProject/IgnoreFix [Phish Alert] FW- 7 security threats hiding in plain sight.eml\n",
      "/Users/worshamn/Documents/emailProject/IgnoreFix [Phish Alert] FW- Affiniti Network Assure - Network Performance Management - Begin your 90-Day Free Trial Today!.eml\n",
      "/Users/worshamn/Documents/emailProject/IgnoreFix [Phish Alert] FW- Beauty products on us.[1].eml\n",
      "/Users/worshamn/Documents/emailProject/IgnoreFix [Phish Alert] FW- Join us in Chicago at the Connected Car Insurance USA 2017 Conference.eml\n",
      "/Users/worshamn/Documents/emailProject/IgnoreFix [Phish Alert] FW- 60,000 Business Owners[5].eml\n",
      "/Users/worshamn/Documents/emailProject/IgnoreFix [Phish Alert] FW- Don’t delight your customers.eml\n",
      "/Users/worshamn/Documents/emailProject/IgnoreFix [Phish Alert] FW- Coupa Inspire’18- Pre-Registration is Now Open!.eml\n",
      "/Users/worshamn/Documents/emailProject/IgnoreFix [Phish Alert] FW- [44].eml\n",
      "/Users/worshamn/Documents/emailProject/IgnoreFix [Phish Alert] FW- Winter 2018 Online Classes for CPCU, ARM-ERM, AIC, AINS, AU, AAI.eml\n",
      "/Users/worshamn/Documents/emailProject/IgnoreFix [Phish Alert] FW- Is Outsourcing Your Billing the Right Choice.eml\n",
      "/Users/worshamn/Documents/emailProject/IgnoreFix [Phish Alert] FW- Minnesota Legislative Update.eml\n",
      "/Users/worshamn/Documents/emailProject/IgnoreFix [Phish Alert] FW- You haven’t seen anything like Apple TV 4K.[1].eml\n",
      "/Users/worshamn/Documents/emailProject/IgnoreFix [Phish Alert] FW- DCI Seeks Colorado Communities' Economic and Community Development Challenges.eml\n",
      "/Users/worshamn/Documents/emailProject/IgnoreFix [Phish Alert] FW- 11 chapters that will transform your company.eml\n",
      "/Users/worshamn/Documents/emailProject/IgnoreFix [Phish Alert] FW- The $9 Billion Under Golfers' Feet + Saving Municipal Golf in Detroit.eml\n",
      "/Users/worshamn/Documents/emailProject/IgnoreFix [Phish Alert] FW- P&C Commercial Operations Support.eml\n",
      "/Users/worshamn/Documents/emailProject/IgnoreFix [Phish Alert] FW- Take InformationWeek's Annual Confidential IT Salary Survey.eml\n",
      "/Users/worshamn/Documents/emailProject/IgnoreFix [Phish Alert] FW- Did You Know... MicroStrategy Tips and Tricks.eml\n",
      "/Users/worshamn/Documents/emailProject/IgnoreFix [Phish Alert] FW- Unsubscribe Confirmation for melissa.pope@pinnacol.com.eml\n",
      "/Users/worshamn/Documents/emailProject/IgnoreFix [Phish Alert] FW- [Video] Free yourself from paper chains[4].eml\n",
      "/Users/worshamn/Documents/emailProject/IgnoreFix [Phish Alert] FW- Want to speed up your software delivery[1].eml\n",
      "/Users/worshamn/Documents/emailProject/IgnoreFix [Phish Alert] FW- You're Invited- SAN Innovations with MDS.eml\n",
      "/Users/worshamn/Documents/emailProject/IgnoreFix [Phish Alert] FW- Budgeting for 2018[1].eml\n",
      "/Users/worshamn/Documents/emailProject/IgnoreFix [Phish Alert] FW- The Cloud Analytics World Tour is coming to a city near you.eml\n",
      "/Users/worshamn/Documents/emailProject/IgnoreFix [Phish Alert] FW- Uncork Huge Savings with this Black Friday Wine Special.eml\n",
      "/Users/worshamn/Documents/emailProject/IgnoreFix [Phish Alert] FW- to Steve Lindell.eml\n",
      "/Users/worshamn/Documents/emailProject/IgnoreFix [Phish Alert] FW- Interested in becoming a Certified Ethical Hacker[4].eml\n",
      "/Users/worshamn/Documents/emailProject/IgnoreFix [Phish Alert] FW- Amazon has sent you a special gift (up to a $50 value). (Details Inside)[2].eml\n",
      "/Users/worshamn/Documents/emailProject/IgnoreFix [Phish Alert] FW- Insider - Olympic star, pilot shortage, flu season.eml\n",
      "/Users/worshamn/Documents/emailProject/IgnoreFix [Phish Alert] FW- Travel Pay- Handling it Correctly  Webinar .eml\n",
      "/Users/worshamn/Documents/emailProject/IgnoreFix [Phish Alert] FW- Hi Sarah, Call Appointment With You.eml\n",
      "/Users/worshamn/Documents/emailProject/IgnoreFix [Phish Alert] FW- REMINDER- Harvest Share THIS SATURDAY Sept 9 2017.eml\n",
      "/Users/worshamn/Documents/emailProject/IgnoreFix [Phish Alert] FW- All About the PCI Data Security Standard.eml\n",
      "/Users/worshamn/Documents/emailProject/IgnoreFix [Phish Alert] FW- World Travel Flight Alerts - Free Service.eml\n",
      "/Users/worshamn/Documents/emailProject/IgnoreFix [Phish Alert] FW- Two Choices.eml\n",
      "/Users/worshamn/Documents/emailProject/IgnoreFix [Phish Alert] FW- Workers' Comp, Medical Marijuana Claims and More Industry Trends.eml\n",
      "/Users/worshamn/Documents/emailProject/IgnoreFix [Phish Alert] FW- [Spam] Advanced Enterprise Solutions from Microsoft Office 365.eml\n",
      "/Users/worshamn/Documents/emailProject/IgnoreFix [Phish Alert] FW- Sunglasses with Military Technology (Superb Quality).eml\n",
      "/Users/worshamn/Documents/emailProject/IgnoreFix [Phish Alert] FW- Tell us how you feel!.eml\n",
      "/Users/worshamn/Documents/emailProject/IgnoreFix [Phish Alert] FW- Software for your NBA & NHL Tickets.eml\n"
     ]
    },
    {
     "name": "stdout",
     "output_type": "stream",
     "text": [
      "/Users/worshamn/Documents/emailProject/IgnoreFix [Phish Alert] FW- Remaining Oracle Workshops for 2017.eml\n",
      "/Users/worshamn/Documents/emailProject/IgnoreFix [Phish Alert] FW- Local Cyber Security[2].eml\n",
      "/Users/worshamn/Documents/emailProject/IgnoreFix [Phish Alert] FW- Urge your Senators to vote NO on the tax reform bill.eml\n",
      "/Users/worshamn/Documents/emailProject/IgnoreFix [Phish Alert] FW- The most viewed episode this year[2].eml\n",
      "/Users/worshamn/Documents/emailProject/IgnoreFix [Phish Alert] FW- Documenting Misconduct so Your Decisions Stand Up in Court.eml\n",
      "/Users/worshamn/Documents/emailProject/IgnoreFix [Phish Alert] FW- Accurate Emails List  [1].eml\n",
      "/Users/worshamn/Documents/emailProject/IgnoreFix [Phish Alert] FW- Tosha, Reward Yourself with 80,000 Bonus Points.eml\n",
      "/Users/worshamn/Documents/emailProject/IgnoreFix [Phish Alert] FW- Check out my new website Education in Pursuit LLC Kay Ward, CPCU, AIS, ACS, AAI  [2].eml\n",
      "/Users/worshamn/Documents/emailProject/IgnoreFix [Phish Alert] FW- Amazon perks...Claim your 100.00 bonus..eml\n",
      "/Users/worshamn/Documents/emailProject/IgnoreFix [Phish Alert] FW- Qlik Analytics Event  March 15th at Maggiano's- Greater Insights, Better Decisions.eml\n",
      "/Users/worshamn/Documents/emailProject/IgnoreFix [Phish Alert] FW- Tameria Stukes- Will you be in Dubai next week.eml\n",
      "/Users/worshamn/Documents/emailProject/IgnoreFix [Phish Alert] FW- [Spam] hola.eml\n",
      "/Users/worshamn/Documents/emailProject/IgnoreFix [Phish Alert] FW- Free beauty products.[2].eml\n",
      "/Users/worshamn/Documents/emailProject/IgnoreFix [Phish Alert] FW- Reminder and Receive a $5 Starbucks Gift Card and more for your feedback[1].eml\n",
      "/Users/worshamn/Documents/emailProject/IgnoreFix [Phish Alert] FW- Test[5].eml\n",
      "/Users/worshamn/Documents/emailProject/IgnoreFix [Phish Alert] FW- Insurance Classes to start June 2018 - Live webinar for CPCU551 - Classroom for AINS23 and ARM55.eml\n",
      "/Users/worshamn/Documents/emailProject/IgnoreFix [Phish Alert] FW- Happy New Year!  $100 Amazon Gift Card.eml\n",
      "/Users/worshamn/Documents/emailProject/IgnoreFix [Phish Alert] FW- [33].eml\n",
      "/Users/worshamn/Documents/emailProject/IgnoreFix [Phish Alert] FW- Your Feedback About Kohl's Earns You $50.eml\n",
      "/Users/worshamn/Documents/emailProject/IgnoreFix [Phish Alert] FW- Save the Date- AHOU 2018 Annual Conference[2].eml\n",
      "/Users/worshamn/Documents/emailProject/IgnoreFix [Phish Alert] FW- Doxly + DocuSign Legal Webinar  Reimagining your legal workflow process to close deals faster.eml\n",
      "/Users/worshamn/Documents/emailProject/IgnoreFix [Phish Alert] FW- This guy reveals how to get a rock hard boner in less than two weeks[1].eml\n",
      "/Users/worshamn/Documents/emailProject/IgnoreFix [Phish Alert] FW- Win a $100 gift card for giving feedback.eml\n",
      "/Users/worshamn/Documents/emailProject/IgnoreFix [Phish Alert] FW- [Spam] Re- for Jaelea Novotny.eml\n",
      "/Users/worshamn/Documents/emailProject/IgnoreFix [Phish Alert] FW- [80].eml\n",
      "/Users/worshamn/Documents/emailProject/IgnoreFix [Phish Alert] FW- Take A Look At New Career Challenges In 2018.eml\n",
      "/Users/worshamn/Documents/emailProject/IgnoreFix [Phish Alert] FW- Growing heart valves with patient captured stem cells.eml\n",
      "/Users/worshamn/Documents/emailProject/IgnoreFix [Phish Alert] FW- YOUR BOOTH at Small Business Expo[1].eml\n",
      "/Users/worshamn/Documents/emailProject/IgnoreFix [Phish Alert] FW- Sabrina.willis-haywood your brain is a muscle! exercise with some Trivia.eml\n",
      "/Users/worshamn/Documents/emailProject/IgnoreFix [Phish Alert] FW- road warriors and family road trips.eml\n",
      "/Users/worshamn/Documents/emailProject/IgnoreFix [Phish Alert] FW- Live Webinar- Choosing an SD-WAN for Global Enterprise Applications[2].eml\n",
      "/Users/worshamn/Documents/emailProject/IgnoreFix [Phish Alert] FW- [38].eml\n",
      "/Users/worshamn/Documents/emailProject/IgnoreFix [Phish Alert] FW- BP guidlines updates, this is that you should know.eml\n",
      "/Users/worshamn/Documents/emailProject/IgnoreFix [Phish Alert] FW- Secure your Seat at America's Claims Events 2018 - Exclusive Offer - Save $100 - Agenda Now Available.eml\n",
      "/Users/worshamn/Documents/emailProject/IgnoreFix [Phish Alert] FW- PMP Training.eml\n",
      "/Users/worshamn/Documents/emailProject/IgnoreFix [Phish Alert] FW- no-cost benefits.eml\n",
      "/Users/worshamn/Documents/emailProject/IgnoreFix [Phish Alert] FW- Subject- CLOSING PKG - 416 Forest Circle - DLJ LLC Lindsey Murphree.eml\n",
      "/Users/worshamn/Documents/emailProject/IgnoreFix [Phish Alert] FW- Organic Home Delivery Returns to Denver.eml\n",
      "/Users/worshamn/Documents/emailProject/IgnoreFix [Phish Alert] FW- Ice Breaker Champions 2018.eml\n",
      "/Users/worshamn/Documents/emailProject/IgnoreFix [Phish Alert] FW- Re-[16].eml\n",
      "/Users/worshamn/Documents/emailProject/IgnoreFix [Phish Alert] FW- ServiceSource is hiring near you.eml\n",
      "/Users/worshamn/Documents/emailProject/IgnoreFix [Phish Alert] FW- Final Days of Sale- Extra 20% Off[1].eml\n",
      "/Users/worshamn/Documents/emailProject/IgnoreFix [Phish Alert] FW- HexaCorp - Meeting Request..eml\n",
      "/Users/worshamn/Documents/emailProject/IgnoreFix [Phish Alert] FW- Dr(a). Luszcz, você tem a opção de receber novos locais do nosso Edição em Português.eml\n",
      "/Users/worshamn/Documents/emailProject/IgnoreFix [Phish Alert] FW- Do you want to be a genius.eml\n",
      "/Users/worshamn/Documents/emailProject/IgnoreFix [Phish Alert] FW- for Melissa Hayes.eml\n",
      "/Users/worshamn/Documents/emailProject/IgnoreFix [Phish Alert] FW- They've made a legal Adderall[2].eml\n",
      "/Users/worshamn/Documents/emailProject/IgnoreFix [Phish Alert] FW- Breaking- Megyn Kelly has abruptly left FOX.eml\n",
      "/Users/worshamn/Documents/emailProject/IgnoreFix [Phish Alert] FW- You can beat addiction - with help.eml\n",
      "/Users/worshamn/Documents/emailProject/IgnoreFix [Phish Alert] FW- Your maintenance and reliability resource center.eml\n",
      "/Users/worshamn/Documents/emailProject/IgnoreFix [Phish Alert] FW- Hi my name is Elizabeth.eml\n",
      "/Users/worshamn/Documents/emailProject/IgnoreFix [Phish Alert] FW- Terri - feedback.eml\n",
      "/Users/worshamn/Documents/emailProject/IgnoreFix [Phish Alert] FW- Try the perfume you want.eml\n",
      "/Users/worshamn/Documents/emailProject/IgnoreFix [Phish Alert] FW- Your GEICO claim.eml\n",
      "/Users/worshamn/Documents/emailProject/IgnoreFix [Phish Alert] FW- From I to We.eml\n",
      "/Users/worshamn/Documents/emailProject/IgnoreFix [Phish Alert] FW- More to Love From Belk.eml\n",
      "/Users/worshamn/Documents/emailProject/IgnoreFix [Phish Alert] FW- Greg, some free PowerPoint slides to save you hours of work[11].eml\n",
      "/Users/worshamn/Documents/emailProject/IgnoreFix [Phish Alert] FW- $35 Survey – Claims Adjuster Survey.eml\n",
      "/Users/worshamn/Documents/emailProject/IgnoreFix [Phish Alert] FW- Flash Report - Outlook Web Access and Exchange Weaknesses Expose Emails and Networks.eml\n",
      "/Users/worshamn/Documents/emailProject/IgnoreFix [Phish Alert] FW- Geopointe- #1 Rated Mapping Tool on Salesforce[1].eml\n",
      "/Users/worshamn/Documents/emailProject/IgnoreFix [Phish Alert] FW- The only all-natural Adderall subsitute[2].eml\n",
      "/Users/worshamn/Documents/emailProject/IgnoreFix [Phish Alert] FW- Assigned To Course[2].eml\n",
      "/Users/worshamn/Documents/emailProject/IgnoreFix [Phish Alert] FW- 5 Steps for User Security from Kevin Mitnick, the World’s Most Wanted Hacker.eml\n",
      "/Users/worshamn/Documents/emailProject/IgnoreFix [Phish Alert] FW- Quickstart's Training Offerings - October‌​​​‎​​‌​​‌​​‎‌​‌​​​​​‌​‎‎​​‌‌‎‎‌‌‎‌‎​‎‌‎​​​‎‌‌​​‎‎​​​‌‌​​‌‌​​​‌​.eml\n",
      "/Users/worshamn/Documents/emailProject/IgnoreFix [Phish Alert] FW- D & W CRANE & RIGGING Project #RDP321.eml\n",
      "/Users/worshamn/Documents/emailProject/IgnoreFix [Phish Alert] FW- Now, you can add a friend to your instagram live; here’s how it works[3].eml\n",
      "/Users/worshamn/Documents/emailProject/IgnoreFix [Phish Alert] FW- SQLcl.eml\n",
      "/Users/worshamn/Documents/emailProject/IgnoreFix [Phish Alert] FW- Surviving versus Thriving[7].eml\n",
      "/Users/worshamn/Documents/emailProject/IgnoreFix [Phish Alert] FW- QA-Testing Services.eml\n",
      "/Users/worshamn/Documents/emailProject/IgnoreFix [Phish Alert] FW- The truth is out about the 4 most common BP meds[2].eml\n",
      "/Users/worshamn/Documents/emailProject/IgnoreFix [Phish Alert] FW- This Is Not Security..eml\n",
      "/Users/worshamn/Documents/emailProject/IgnoreFix [Phish Alert] FW- Hi[4].eml\n",
      "/Users/worshamn/Documents/emailProject/IgnoreFix [Phish Alert] FW- for Sally Parkinson.eml\n",
      "/Users/worshamn/Documents/emailProject/IgnoreFix [Phish Alert] FW- Unlock your Amazon pre-loaded card.[2].eml\n",
      "/Users/worshamn/Documents/emailProject/IgnoreFix [Phish Alert] FW- Contract Offer.eml\n",
      "/Users/worshamn/Documents/emailProject/IgnoreFix [Phish Alert] FW- Polycom Follow Up .eml\n",
      "/Users/worshamn/Documents/emailProject/IgnoreFix [Phish Alert] FW- Annual NYE Bash this Sunday.eml\n",
      "/Users/worshamn/Documents/emailProject/IgnoreFix [Phish Alert] FW- [121].eml\n",
      "/Users/worshamn/Documents/emailProject/IgnoreFix [Phish Alert] FW- River Canyon Gallery Holiday Party 11-19 - 3-00 p.m. to 6-00 p.m..eml\n",
      "/Users/worshamn/Documents/emailProject/IgnoreFix [Phish Alert] FW- 2018 - Safety-Loss Prevention-Sustainability Executives (Fresh Data).eml\n",
      "/Users/worshamn/Documents/emailProject/IgnoreFix [Phish Alert] FW- How to Keep Active Directory Healthy.eml\n",
      "/Users/worshamn/Documents/emailProject/IgnoreFix [Phish Alert] FW- P&C Commercial Operations Support[5].eml\n"
     ]
    },
    {
     "name": "stderr",
     "output_type": "stream",
     "text": [
      "/usr/local/anaconda3/lib/python3.6/site-packages/ipykernel_launcher.py:96: DeprecationWarning: invalid escape sequence '\\_'\n"
     ]
    },
    {
     "name": "stdout",
     "output_type": "stream",
     "text": [
      "/Users/worshamn/Documents/emailProject/IgnoreFix [Phish Alert] FW- [Webinar]- Insights on Cloud & Managed Print Services with KeyPoint Intelligence and Xerox[2].eml\n",
      "/Users/worshamn/Documents/emailProject/IgnoreFix [Phish Alert] FW- → 7 Jobs for Customer Service Representative - Denver[1].eml\n",
      "/Users/worshamn/Documents/emailProject/IgnoreFix [Phish Alert] FW- Talent Management Excellence  Get the emPerform Newsletter.eml\n",
      "/Users/worshamn/Documents/emailProject/IgnoreFix [Phish Alert] FW- Why You Should Care About Ransomware- Exclusive White Paper Inside![1].eml\n",
      "/Users/worshamn/Documents/emailProject/IgnoreFix [Phish Alert] FW- A safe way to get rid of skin tags.eml\n",
      "/Users/worshamn/Documents/emailProject/IgnoreFix [Phish Alert] FW- Unexpected shipment for YOU 👉.eml\n",
      "/Users/worshamn/Documents/emailProject/IgnoreFix [Phish Alert] FW- Ashley  Security Projects  Crowdstrike.eml\n",
      "/Users/worshamn/Documents/emailProject/IgnoreFix [Phish Alert] FW- Special Invitation[2].eml\n",
      "/Users/worshamn/Documents/emailProject/IgnoreFix [Phish Alert] FW- P&C Commercial Operations Support[4].eml\n",
      "/Users/worshamn/Documents/emailProject/IgnoreFix [Phish Alert] FW- Gartner Magic Quadrant for P&C Core Platforms in North America[4].eml\n",
      "/Users/worshamn/Documents/emailProject/IgnoreFix [Phish Alert] FW- Article Contribution for Your Website[1].eml\n",
      "/Users/worshamn/Documents/emailProject/IgnoreFix [Phish Alert] FW- Ending Soon! Special Holiday Offer from Golfballs.com- Titleist Pro V1 $39.99 + Free Personalization.eml\n",
      "/Users/worshamn/Documents/emailProject/IgnoreFix [Phish Alert] FW- Google and Pinnacol Assurance.eml\n",
      "/Users/worshamn/Documents/emailProject/IgnoreFix [Phish Alert] FW- You can make any woman you want desire you if you know this secret..eml\n",
      "/Users/worshamn/Documents/emailProject/IgnoreFix [Phish Alert] FW- Check out my new website Education in Pursuit LLC Kay Ward, CPCU, AIS, ACS, AAI  [4].eml\n",
      "/Users/worshamn/Documents/emailProject/IgnoreFix [Phish Alert] FW- Trump Admin Need Not Pay ACA Subsidies, Judge Rules.eml\n",
      "/Users/worshamn/Documents/emailProject/IgnoreFix [Phish Alert] FW- [Spam] OSHA Voluntary Protection Program (VPP) Requirements.eml\n",
      "/Users/worshamn/Documents/emailProject/IgnoreFix [Phish Alert] FW- Change Password.eml\n",
      "/Users/worshamn/Documents/emailProject/IgnoreFix [Phish Alert] FW- The Shark Tank bidding war has ended.eml\n",
      "/Users/worshamn/Documents/emailProject/IgnoreFix [Phish Alert] FW- Beauty products on us..eml\n",
      "/Users/worshamn/Documents/emailProject/IgnoreFix [Phish Alert] FW- Unlock your Amazon pre-loaded card.[3].eml\n",
      "/Users/worshamn/Documents/emailProject/IgnoreFix [Phish Alert] FW- a critical Cybersecurity liability initiative run by a local attorney you should be aware of ....eml\n",
      "/Users/worshamn/Documents/emailProject/IgnoreFix [Phish Alert] FW- Discuss while in the area next week.eml\n",
      "/Users/worshamn/Documents/emailProject/IgnoreFix [Phish Alert] FW- Will YOU get a FREE AMC Movie Tickets. Get yours NOW!.eml\n"
     ]
    },
    {
     "name": "stderr",
     "output_type": "stream",
     "text": [
      "/usr/local/anaconda3/lib/python3.6/site-packages/ipykernel_launcher.py:96: DeprecationWarning: invalid escape sequence '\\>'\n"
     ]
    },
    {
     "name": "stdout",
     "output_type": "stream",
     "text": [
      "/Users/worshamn/Documents/emailProject/IgnoreFix [Phish Alert] FW- Now, you can add a friend to your instagram live; here’s how it works[2].eml\n",
      "/Users/worshamn/Documents/emailProject/IgnoreFix [Phish Alert] FW- Assigned To Course.eml\n",
      "/Users/worshamn/Documents/emailProject/IgnoreFix [Phish Alert] FW- Planning Your Migration to the Microsoft Cloud.eml\n",
      "/Users/worshamn/Documents/emailProject/IgnoreFix [Phish Alert] FW- Get a 60k salary with this degree.eml\n",
      "/Users/worshamn/Documents/emailProject/IgnoreFix [Phish Alert] FW- Jim, please update your profile.eml\n",
      "/Users/worshamn/Documents/emailProject/IgnoreFix [Phish Alert] FW- [Spam] Turns out the Shark Tank cast can agree.eml\n",
      "/Users/worshamn/Documents/emailProject/IgnoreFix [Phish Alert] FW- Do you want to be smarter[1].eml\n",
      "/Users/worshamn/Documents/emailProject/IgnoreFix [Phish Alert] FW- Network Outages[1].eml\n",
      "/Users/worshamn/Documents/emailProject/IgnoreFix [Phish Alert] FW- Get ahead with mental focus pills.eml\n",
      "/Users/worshamn/Documents/emailProject/IgnoreFix [Phish Alert] FW- Learn the truth about CBD oil.eml\n",
      "/Users/worshamn/Documents/emailProject/IgnoreFix [Phish Alert] FW- 3 Decision-Making Strategies to Scale Agile at Your Company.eml\n",
      "/Users/worshamn/Documents/emailProject/IgnoreFix [Phish Alert] FW- Am Law 100 Firm Saves 60%, Improves Service.eml\n",
      "/Users/worshamn/Documents/emailProject/IgnoreFix [Phish Alert] FW- [15].eml\n",
      "/Users/worshamn/Documents/emailProject/IgnoreFix [Phish Alert] FW- WEBINAR- Hedvig and Containers.eml\n",
      "/Users/worshamn/Documents/emailProject/IgnoreFix [Phish Alert] FW- Wear red and give...today!.eml\n",
      "/Users/worshamn/Documents/emailProject/IgnoreFix [Phish Alert] FW- Spend New Year's Eve with us at SAMPLES!.eml\n",
      "/Users/worshamn/Documents/emailProject/IgnoreFix [Phish Alert] FW- Next Gen Hybrid Backup, Recovery and DR - Lunch and Learn event at 11-45am on September 27th[1].eml\n",
      "/Users/worshamn/Documents/emailProject/IgnoreFix [Phish Alert] FW- Start your business with an MBA.eml\n",
      "/Users/worshamn/Documents/emailProject/IgnoreFix [Phish Alert] FW- Jolene.russell is your doctor being upfront about your BP medicine.eml\n",
      "/Users/worshamn/Documents/emailProject/IgnoreFix [Phish Alert] FW- The terrifying swelling caused by BP meds.eml\n",
      "/Users/worshamn/Documents/emailProject/IgnoreFix [Phish Alert] FW- Erinnerung wegen eBook-Verdienst.eml\n",
      "/Users/worshamn/Documents/emailProject/IgnoreFix [Phish Alert] FW- The next steps to take from the data breach[3].eml\n",
      "/Users/worshamn/Documents/emailProject/IgnoreFix [Phish Alert] FW- Michelle -  IBM Webinar Invitation  GDPR Personal Data Actions and Accelerators.eml\n",
      "/Users/worshamn/Documents/emailProject/IgnoreFix [Phish Alert] FW- Our Best Articles About Jira.eml\n",
      "/Users/worshamn/Documents/emailProject/IgnoreFix [Phish Alert] FW- Save your seat- All-security, all-demo seminar in Denver.eml\n",
      "/Users/worshamn/Documents/emailProject/IgnoreFix [Phish Alert] FW- Thank you for you use our webiste. this is your coupon..eml\n",
      "/Users/worshamn/Documents/emailProject/IgnoreFix [Phish Alert] FW- Get Your Pre Loaded Amazon Card This Labor Day Weekend![3].eml\n",
      "/Users/worshamn/Documents/emailProject/IgnoreFix [Phish Alert] FW- New Exclusive Tickets- Billy Joel, Backstreet Boys, JetBlue, and more!.eml\n",
      "/Users/worshamn/Documents/emailProject/IgnoreFix [Phish Alert] FW- GDPR consent- Please confirm your subscription with dacadoo[2].eml\n",
      "/Users/worshamn/Documents/emailProject/IgnoreFix [Phish Alert] FW- Is your backflow device in compliance[6].eml\n",
      "/Users/worshamn/Documents/emailProject/IgnoreFix [Phish Alert] FW- Symantec Updated List.eml\n",
      "/Users/worshamn/Documents/emailProject/IgnoreFix [Phish Alert] FW- Greetings from Hyland.eml\n",
      "/Users/worshamn/Documents/emailProject/IgnoreFix [Phish Alert] FW- [Video] Free yourself from paper chains[2].eml\n",
      "/Users/worshamn/Documents/emailProject/IgnoreFix [Phish Alert] FW- Accounts Payable Payment (ACH, Check and Card) Fraud, Risk and Risk Mitigation.eml\n",
      "/Users/worshamn/Documents/emailProject/IgnoreFix [Phish Alert] FW- Not everyone watches TV the same way..eml\n",
      "/Users/worshamn/Documents/emailProject/IgnoreFix [Phish Alert] FW- E.P.I.C. APM- Toward a Better APM Model for the Application Economy.eml\n",
      "/Users/worshamn/Documents/emailProject/IgnoreFix [Phish Alert] FW- Contract Technical Writers, Editors & Copywriters.eml\n",
      "/Users/worshamn/Documents/emailProject/IgnoreFix [Phish Alert] FW- What’s Next for IT – Habit Doughnut Dispensary – w- Sr. HDI Writer-Analyst Roy Atkinson.eml\n",
      "/Users/worshamn/Documents/emailProject/IgnoreFix [Phish Alert] FW- Watch Larry Ellison live- An Oracle Cloud Announcement on Tuesday, September 19[1].eml\n",
      "/Users/worshamn/Documents/emailProject/IgnoreFix [Phish Alert] FW- Meeting Request  RapidValue.eml\n",
      "/Users/worshamn/Documents/emailProject/IgnoreFix [Phish Alert] FW- AKOS Workers' Compensation Solution.eml\n",
      "/Users/worshamn/Documents/emailProject/IgnoreFix [Phish Alert] FW- [81].eml\n",
      "/Users/worshamn/Documents/emailProject/IgnoreFix [Phish Alert] FW- [Spam] Congrats! You've Been Selected for Complimentary AMC Movie Tickets..eml\n",
      "/Users/worshamn/Documents/emailProject/IgnoreFix [Phish Alert] FW- Tim.bernhard, Swipe their $134,522-day insider secret     .eml\n",
      "/Users/worshamn/Documents/emailProject/IgnoreFix [Phish Alert] FW- [Spam] Fwd- New Wind Standards for Metal Construction.eml\n",
      "/Users/worshamn/Documents/emailProject/IgnoreFix [Phish Alert] FW- A movie night on us.eml\n",
      "/Users/worshamn/Documents/emailProject/IgnoreFix [Phish Alert] FW- Fri Call --iCARD Digital Rewards.eml\n",
      "/Users/worshamn/Documents/emailProject/IgnoreFix [Phish Alert] FW- See Why 1 out of 3 Employees Are Disengaged And Why That's A Problem..eml\n",
      "/Users/worshamn/Documents/emailProject/IgnoreFix [Phish Alert] FW-  Don't Miss Thursday's Webinar!.eml\n",
      "/Users/worshamn/Documents/emailProject/IgnoreFix [Phish Alert] FW- [Spam] Congratulations, You've Been Considered for Inclusion[1].eml\n",
      "/Users/worshamn/Documents/emailProject/IgnoreFix [Phish Alert] FW- Now You Can Get Customer Quotes Much Faster with Pinnacol’s Enhanced Agent Quote Application.eml\n",
      "/Users/worshamn/Documents/emailProject/IgnoreFix [Phish Alert] FW- Spam Email Alert - Please Read.eml\n",
      "/Users/worshamn/Documents/emailProject/IgnoreFix [Phish Alert] FW- [115].eml\n",
      "/Users/worshamn/Documents/emailProject/IgnoreFix [Phish Alert] FW- Johawna Robbins - Mitel Phone System Included with Fiber Internet.eml\n",
      "/Users/worshamn/Documents/emailProject/IgnoreFix [Phish Alert] FW- Breaking- Megyn Kelly's Shocking Admission[3].eml\n",
      "/Users/worshamn/Documents/emailProject/IgnoreFix [Phish Alert] FW- Machine Learning Business Benefits for Insurers [white paper].eml\n",
      "/Users/worshamn/Documents/emailProject/IgnoreFix [Phish Alert] FW- Agent Interface.eml\n",
      "/Users/worshamn/Documents/emailProject/IgnoreFix [Phish Alert] FW- HOMELINK Dental – Another Great CEU Offer.eml\n",
      "/Users/worshamn/Documents/emailProject/IgnoreFix [Phish Alert] FW- [Spam] Titleist Holiday Special.eml\n",
      "/Users/worshamn/Documents/emailProject/IgnoreFix [Phish Alert] FW- Virtual Reality in Rehabilitation[7].eml\n",
      "/Users/worshamn/Documents/emailProject/IgnoreFix [Phish Alert] FW- SharePoint Support Call.eml\n",
      "/Users/worshamn/Documents/emailProject/IgnoreFix [Phish Alert] FW- Better to be a little paranoid than dead!!.eml\n",
      "/Users/worshamn/Documents/emailProject/IgnoreFix [Phish Alert] FW- Demo for new Digital Customer Onboarding.eml\n",
      "/Users/worshamn/Documents/emailProject/IgnoreFix [Phish Alert] FW- Last Chance- Labor Day Sale Ends Soon. Only $1 for 8 Weeks. Act Now..eml\n",
      "/Users/worshamn/Documents/emailProject/IgnoreFix [Phish Alert] FW- MICHAEL! You are PRE-APPROVED!.eml\n",
      "/Users/worshamn/Documents/emailProject/IgnoreFix [Phish Alert] FW- [82].eml\n",
      "/Users/worshamn/Documents/emailProject/IgnoreFix [Phish Alert] FW- Pinnacol Assurance vs John Hancock- Employees and Key Hires.eml\n",
      "/Users/worshamn/Documents/emailProject/IgnoreFix [Phish Alert] FW- Please forward to anyone lookng for a job  University of Denver  Noon-3pm -- Open to the Public  FREE to All Jobseekers.eml\n",
      "/Users/worshamn/Documents/emailProject/IgnoreFix [Phish Alert] FW- The IT Salary & Skills Report 2018 (100 Page Full eBook).eml\n",
      "/Users/worshamn/Documents/emailProject/IgnoreFix [Phish Alert] FW- {rp}, you are selected..eml\n",
      "/Users/worshamn/Documents/emailProject/IgnoreFix [Phish Alert] FW- All 5 judges back a face cream for first time ever[1].eml\n",
      "/Users/worshamn/Documents/emailProject/IgnoreFix [Phish Alert] FW- Learn what Atlas can do for you[1].eml\n",
      "/Users/worshamn/Documents/emailProject/IgnoreFix [Phish Alert] FW- SEPTEMBER 2017 N°35 The Scent, Henrietta, Anthenea....eml\n",
      "/Users/worshamn/Documents/emailProject/IgnoreFix [Phish Alert] FW- Thoughts on Drushup.eml\n",
      "/Users/worshamn/Documents/emailProject/IgnoreFix [Phish Alert] FW- Updates to Atlassian's Privacy Policy[2].eml\n"
     ]
    },
    {
     "name": "stdout",
     "output_type": "stream",
     "text": [
      "/Users/worshamn/Documents/emailProject/IgnoreFix [Phish Alert] FW- Office of Civil Rights OCR is Sending Audit Screening Questionnaires to Covered Entities now. Next Steps and how to Comply.eml\n",
      "/Users/worshamn/Documents/emailProject/IgnoreFix [Phish Alert] FW- WageWorks Email Enhancements[2].eml\n",
      "/Users/worshamn/Documents/emailProject/IgnoreFix [Phish Alert] FW- For our employees- Your gift discount directory[2].eml\n",
      "/Users/worshamn/Documents/emailProject/IgnoreFix [Phish Alert] FW- Leapfrog-  Managed IT Services - Security Assessments - Helpdesk Support - Disaster Recovery   CO M1.eml\n",
      "/Users/worshamn/Documents/emailProject/IgnoreFix [Phish Alert] FW- for Amanda Gould.eml\n",
      "/Users/worshamn/Documents/emailProject/IgnoreFix [Phish Alert] FW- The FASB's new revenue recognition guidance.eml\n",
      "/Users/worshamn/Documents/emailProject/IgnoreFix [Phish Alert] FW- Notification of Inactivity.eml\n",
      "/Users/worshamn/Documents/emailProject/IgnoreFix [Phish Alert] FW- Improve Personnel Planning with Prophix.eml\n",
      "/Users/worshamn/Documents/emailProject/IgnoreFix [Phish Alert] FW- [Infinity Park Event Center] Get 40% off your venue rental!.eml\n",
      "/Users/worshamn/Documents/emailProject/IgnoreFix [Phish Alert] FW- [98].eml\n",
      "/Users/worshamn/Documents/emailProject/IgnoreFix [Phish Alert] FW- 25% off Premium! 👍 Upgrade today to save some dough. .eml\n",
      "/Users/worshamn/Documents/emailProject/IgnoreFix [Phish Alert] FW- Pinnacol Assurance info[1].eml\n",
      "/Users/worshamn/Documents/emailProject/IgnoreFix [Phish Alert] FW- Iris's Weekly Event Guide.eml\n",
      "/Users/worshamn/Documents/emailProject/IgnoreFix [Phish Alert] FW- Summer Deighton's invitation is awaiting your response.eml\n",
      "/Users/worshamn/Documents/emailProject/IgnoreFix [Phish Alert] FW- Hi Amanda i have a question for you.eml\n",
      "/Users/worshamn/Documents/emailProject/IgnoreFix [Phish Alert] FW- ASS.eml\n",
      "/Users/worshamn/Documents/emailProject/IgnoreFix [Phish Alert] FW- This product got investments from everyone on shark tank[1].eml\n",
      "/Users/worshamn/Documents/emailProject/IgnoreFix [Phish Alert] FW- 📈 When there is a will, there's a way...[1].eml\n",
      "/Users/worshamn/Documents/emailProject/IgnoreFix [Phish Alert] FW- Harness the power of Self-Service Data Analytics[2].eml\n",
      "/Users/worshamn/Documents/emailProject/IgnoreFix [Phish Alert] FW- Greg, some free PowerPoint slides to save you hours of work[13].eml\n",
      "/Users/worshamn/Documents/emailProject/IgnoreFix [Phish Alert] FW- All Shark Tank judges back these 2 sisters[1].eml\n",
      "/Users/worshamn/Documents/emailProject/IgnoreFix [Phish Alert] FW- Are you still hiring[2].eml\n",
      "/Users/worshamn/Documents/emailProject/IgnoreFix [Phish Alert] FW- Join us at NWC&D Conference in Las Vegas! Visit Orchard's Booth - 2204!.eml\n",
      "/Users/worshamn/Documents/emailProject/IgnoreFix [Phish Alert] FW- [Spam] SMEs for Pinnacol Assurance.eml\n",
      "/Users/worshamn/Documents/emailProject/IgnoreFix [Phish Alert] FW- Amy lost a third of her weight in 30 days.eml\n",
      "/Users/worshamn/Documents/emailProject/IgnoreFix [Phish Alert] FW- Wholesale Jet Club featured in Forbes- discount Code inside..eml\n",
      "/Users/worshamn/Documents/emailProject/IgnoreFix [Phish Alert] FW- Can't afford skin care This is how[1].eml\n",
      "/Users/worshamn/Documents/emailProject/IgnoreFix [Phish Alert] FW- SERVICENOW-HIGHMETRIC.eml\n",
      "/Users/worshamn/Documents/emailProject/IgnoreFix [Phish Alert] FW- Quick Question  Oracle Resource Team.eml\n",
      "/Users/worshamn/Documents/emailProject/IgnoreFix [Phish Alert] FW- Barbara.jones shed 1LB a day this Fall.eml\n",
      "/Users/worshamn/Documents/emailProject/IgnoreFix [Phish Alert] FW- [159].eml\n",
      "/Users/worshamn/Documents/emailProject/IgnoreFix [Phish Alert] FW- Cindy sent you an invitation on LinkedIn.eml\n",
      "/Users/worshamn/Documents/emailProject/IgnoreFix [Phish Alert] FW- The only all-natural Adderall subsitute[1].eml\n",
      "/Users/worshamn/Documents/emailProject/IgnoreFix [Phish Alert] FW- You're Invited! Happy Hour - Win the Talent War- No Need to 'Wine' About It..eml\n",
      "/Users/worshamn/Documents/emailProject/IgnoreFix [Phish Alert] FW- Dear Beloved One,.eml\n"
     ]
    },
    {
     "name": "stderr",
     "output_type": "stream",
     "text": [
      "/usr/local/anaconda3/lib/python3.6/site-packages/ipykernel_launcher.py:96: DeprecationWarning: invalid escape sequence '\\#'\n"
     ]
    },
    {
     "name": "stdout",
     "output_type": "stream",
     "text": [
      "/Users/worshamn/Documents/emailProject/IgnoreFix [Phish Alert] FW- Shark Tank shocks the world again.eml\n",
      "/Users/worshamn/Documents/emailProject/IgnoreFix [Phish Alert] FW- GOLD EXCHANGE[1].eml\n",
      "/Users/worshamn/Documents/emailProject/IgnoreFix [Phish Alert] FW- [99].eml\n",
      "/Users/worshamn/Documents/emailProject/IgnoreFix [Phish Alert] FW- Seduce any woman any time with this incredible secret..eml\n",
      "/Users/worshamn/Documents/emailProject/IgnoreFix [Phish Alert] FW- ENDS TODAY- Free Registration CreatorCon.eml\n",
      "/Users/worshamn/Documents/emailProject/IgnoreFix [Phish Alert] FW- FSA Store For Allergy Season[1].eml\n",
      "/Users/worshamn/Documents/emailProject/IgnoreFix [Phish Alert] FW- Exclusive Customer Appreciation Sale.eml\n",
      "/Users/worshamn/Documents/emailProject/IgnoreFix [Phish Alert] FW- for Rhonda Isham[1].eml\n",
      "/Users/worshamn/Documents/emailProject/IgnoreFix [Phish Alert] FW- This will force your body into ketosis without counting carbs..eml\n",
      "/Users/worshamn/Documents/emailProject/IgnoreFix [Phish Alert] FW- 9 Key Elements in the Process of Learning.eml\n",
      "/Users/worshamn/Documents/emailProject/IgnoreFix [Phish Alert] FW- You need a degree that guarantees work.eml\n",
      "/Users/worshamn/Documents/emailProject/IgnoreFix [Phish Alert] FW- How Well Protected is Your Business from Disasters.eml\n",
      "/Users/worshamn/Documents/emailProject/IgnoreFix [Phish Alert] FW- [Spam] Turns out the Shark Tank cast can agree[1].eml\n",
      "/Users/worshamn/Documents/emailProject/IgnoreFix [Phish Alert] FW- Spending too much on Simple Meetings We can help!.eml\n",
      "/Users/worshamn/Documents/emailProject/IgnoreFix [Phish Alert] FW- Do these challenges exist at Pinnacol Assurance.eml\n",
      "/Users/worshamn/Documents/emailProject/IgnoreFix [Phish Alert] FW- → 18 Jobs for Medical Case Manager Supervisor.eml\n",
      "/Users/worshamn/Documents/emailProject/IgnoreFix [Phish Alert] FW- Too Good To Be True - 60% OFF Plus a $25 Amazon Gift Card.eml\n",
      "/Users/worshamn/Documents/emailProject/IgnoreFix [Phish Alert] FW- My withdrawal as your customer!.eml\n",
      "/Users/worshamn/Documents/emailProject/IgnoreFix [Phish Alert] FW- Time to connect.eml\n",
      "/Users/worshamn/Documents/emailProject/IgnoreFix [Phish Alert] FW- Reminder and Receive a $5 Starbucks Gift Card and more for your feedback.eml\n",
      "/Users/worshamn/Documents/emailProject/IgnoreFix [Phish Alert] FW- Compare the best BI vendors now.eml\n",
      "/Users/worshamn/Documents/emailProject/IgnoreFix [Phish Alert] FW- Gartner Magic Quadrant for P&C Core Platforms in North America[6].eml\n",
      "/Users/worshamn/Documents/emailProject/IgnoreFix [Phish Alert] FW- See what Shark-Tank judges pick as #1 of all time[4].eml\n",
      "/Users/worshamn/Documents/emailProject/IgnoreFix [Phish Alert] FW- Assess security of your AWS account for free with REAN Cloud[1].eml\n",
      "/Users/worshamn/Documents/emailProject/IgnoreFix [Phish Alert] FW- HIPAA Compliance - Clear, Complete, Step-by-Step.eml\n",
      "/Users/worshamn/Documents/emailProject/IgnoreFix [Phish Alert] FW- Put those scissors down. Never clip skin-tags.eml\n",
      "/Users/worshamn/Documents/emailProject/IgnoreFix [Phish Alert] FW- Investment- How States Can Cost-Effectively Address Integration of UAS - View Registered Companies - Register Now.eml\n",
      "/Users/worshamn/Documents/emailProject/IgnoreFix [Phish Alert] FW- REMINDER- Solving your indirect tax challenges is easier than you think.eml\n",
      "/Users/worshamn/Documents/emailProject/IgnoreFix [Phish Alert] FW- Build Highly Available Apps  Amazon Lightsail.eml\n",
      "/Users/worshamn/Documents/emailProject/IgnoreFix [Phish Alert] FW- Ashley, October Meeting.eml\n",
      "/Users/worshamn/Documents/emailProject/IgnoreFix [Phish Alert] FW- Our readers are raving about these earbuds..eml\n",
      "/Users/worshamn/Documents/emailProject/IgnoreFix [Phish Alert] FW- Hi Marie, your thoughts.eml\n",
      "/Users/worshamn/Documents/emailProject/IgnoreFix [Phish Alert] FW- See The Greens Better With SunDog.eml\n",
      "/Users/worshamn/Documents/emailProject/IgnoreFix [Phish Alert] FW- Register Today. CA World '17 Early Bird Discount Ends This Week.[1].eml\n",
      "/Users/worshamn/Documents/emailProject/IgnoreFix [Phish Alert] FW- Get your pre-loaded Amazon gift card valued at fifty dollars or more..eml\n",
      "/Users/worshamn/Documents/emailProject/IgnoreFix [Phish Alert] FW- Customers- You are now unsubscribed.eml\n",
      "/Users/worshamn/Documents/emailProject/IgnoreFix [Phish Alert] FW- → 26 Jobs for Medical Payments Services Manager - Denver[2].eml\n",
      "/Users/worshamn/Documents/emailProject/IgnoreFix [Phish Alert] FW- NFL's Ticket Manager Application[1].eml\n",
      "/Users/worshamn/Documents/emailProject/IgnoreFix [Phish Alert] FW- Breaking- Megyn Kelly has abruptly left FOX[2].eml\n",
      "/Users/worshamn/Documents/emailProject/IgnoreFix [Phish Alert] FW- This camera is the size of your thumb.eml\n",
      "/Users/worshamn/Documents/emailProject/IgnoreFix [Phish Alert] FW- A quick note from us.eml\n",
      "/Users/worshamn/Documents/emailProject/IgnoreFix [Phish Alert] FW- Your Organization's Culture- If you Don't Get It Right, Nothing Else Matters.eml\n",
      "/Users/worshamn/Documents/emailProject/IgnoreFix [Phish Alert] FW- FullStory Updates ⚡️ Get Hip to User Trends  7 Signs of the Ap-UX-alypse  Turn Up the Signal by Removing Noise  On Building with Empathy.eml\n",
      "/Users/worshamn/Documents/emailProject/IgnoreFix [Phish Alert] FW- Top 3 Reasons To Love Belk Email.eml\n",
      "/Users/worshamn/Documents/emailProject/IgnoreFix [Phish Alert] FW- DENVER - DevOps and Hops (Jun 13, 2018).eml\n",
      "/Users/worshamn/Documents/emailProject/IgnoreFix [Phish Alert] FW- NetApp Shelf Upgrades.eml\n",
      "/Users/worshamn/Documents/emailProject/IgnoreFix [Phish Alert] FW- ❄️Schedule your donation today! copy.eml\n",
      "/Users/worshamn/Documents/emailProject/IgnoreFix [Phish Alert] FW- Klein Accounting.com A+ BBB -- Need Any Accounting or Bookkeeping Help.eml\n",
      "/Users/worshamn/Documents/emailProject/IgnoreFix [Phish Alert] FW- Injured because of negligence Seek the help you need[2].eml\n",
      "/Users/worshamn/Documents/emailProject/IgnoreFix [Phish Alert] FW- Daily on Healthcare- Alexander-Murray push for adding Obamacare money to spending deal.eml\n",
      "/Users/worshamn/Documents/emailProject/IgnoreFix [Phish Alert] FW- → 8 Jobs for Medical Payments Services Manager - Denver.eml\n",
      "/Users/worshamn/Documents/emailProject/IgnoreFix [Phish Alert] FW- Profile Confirmation.eml\n",
      "/Users/worshamn/Documents/emailProject/IgnoreFix [Phish Alert] FW- [Spam] Re- for Steve Lindell.eml\n",
      "/Users/worshamn/Documents/emailProject/IgnoreFix [Phish Alert] FW- E-MAIL.eml\n",
      "/Users/worshamn/Documents/emailProject/IgnoreFix [Phish Alert] FW- Megan Kelly says Fan's deserve the truth[1].eml\n",
      "/Users/worshamn/Documents/emailProject/IgnoreFix [Phish Alert] FW- Test Mail[1].eml\n",
      "/Users/worshamn/Documents/emailProject/IgnoreFix [Phish Alert] FW- Yale University and University of Virginia Representatives.eml\n",
      "/Users/worshamn/Documents/emailProject/IgnoreFix [Phish Alert] FW- CBD oil and weed. Here's the difference.eml\n",
      "/Users/worshamn/Documents/emailProject/IgnoreFix [Phish Alert] FW- why every judge on Shark Tank got behind this item....eml\n",
      "/Users/worshamn/Documents/emailProject/IgnoreFix [Phish Alert] FW- Your network password is about to expire ![1].eml\n",
      "/Users/worshamn/Documents/emailProject/IgnoreFix [Phish Alert] FW- 7 security threats hiding in plain sight[1].eml\n",
      "/Users/worshamn/Documents/emailProject/IgnoreFix [Phish Alert] FW- The New Experian Web Access Control System is Launching Soon!.eml\n",
      "/Users/worshamn/Documents/emailProject/IgnoreFix [Phish Alert] FW- [Spam] Open positions - Medical Coding.eml\n",
      "/Users/worshamn/Documents/emailProject/IgnoreFix [Phish Alert] FW- Gartner Magic Quadrant for P&C Core Platforms in North America[16].eml\n",
      "/Users/worshamn/Documents/emailProject/IgnoreFix [Phish Alert] FW- Новини грантів та фандрейзингу від Клубу Сталого Бізнесу за 03-01-2018.eml\n",
      "/Users/worshamn/Documents/emailProject/IgnoreFix [Phish Alert] FW- Member for a Day at Perry Park Country Club Sept 25th.eml\n",
      "/Users/worshamn/Documents/emailProject/IgnoreFix [Phish Alert] FW- Share your thoughts, Linda.eml\n",
      "/Users/worshamn/Documents/emailProject/IgnoreFix [Phish Alert] FW- Big Tobacco's Punishment[1].eml\n",
      "/Users/worshamn/Documents/emailProject/IgnoreFix [Phish Alert] FW- Test[6].eml\n",
      "/Users/worshamn/Documents/emailProject/IgnoreFix [Phish Alert] FW- HIPAA Notice- Patient Information Violation.eml\n",
      "/Users/worshamn/Documents/emailProject/IgnoreFix [Phish Alert] FW- [71].eml\n"
     ]
    },
    {
     "name": "stdout",
     "output_type": "stream",
     "text": [
      "/Users/worshamn/Documents/emailProject/IgnoreFix [Phish Alert] FW- interview about your apprenticeship.eml\n",
      "/Users/worshamn/Documents/emailProject/IgnoreFix [Phish Alert] FW- [Spam] 60,000 Business Owners[18].eml\n",
      "/Users/worshamn/Documents/emailProject/IgnoreFix [Phish Alert] FW- You have new life insurance rates.eml\n",
      "/Users/worshamn/Documents/emailProject/IgnoreFix [Phish Alert] FW- PM Training sessions - Nov 27 - 30[1].eml\n",
      "/Users/worshamn/Documents/emailProject/IgnoreFix [Phish Alert] FW- Look smart in front of your boss[1].eml\n",
      "/Users/worshamn/Documents/emailProject/IgnoreFix [Phish Alert] FW- [8].eml\n",
      "/Users/worshamn/Documents/emailProject/IgnoreFix [Phish Alert] FW- recent content from AIG.eml\n",
      "/Users/worshamn/Documents/emailProject/IgnoreFix [Phish Alert] FW- Support Analyst jobs from Virtual Vocations, Xactly Corp., and more.eml\n",
      "/Users/worshamn/Documents/emailProject/IgnoreFix [Phish Alert] FW- Litigating Claims Against Accountants CLE.eml\n",
      "/Users/worshamn/Documents/emailProject/IgnoreFix [Phish Alert] FW- [30].eml\n",
      "/Users/worshamn/Documents/emailProject/IgnoreFix [Phish Alert] FW- [Webinar] InfoTrends on what’s next in cloud tech and managed print[1].eml\n",
      "/Users/worshamn/Documents/emailProject/IgnoreFix [Phish Alert] FW- Upcoming March Complimentary Workshops.eml\n",
      "/Users/worshamn/Documents/emailProject/IgnoreFix [Phish Alert] FW- for Craig Roberts[2].eml\n",
      "/Users/worshamn/Documents/emailProject/IgnoreFix [Phish Alert] FW- Accelerate Cybersecurity w- Rapid7.eml\n",
      "/Users/worshamn/Documents/emailProject/IgnoreFix [Phish Alert] FW- FREE Cookies - Dessert Is On Us!.eml\n",
      "/Users/worshamn/Documents/emailProject/IgnoreFix [Phish Alert] FW- Your Greatest Security Risk Mobile Users.eml\n",
      "/Users/worshamn/Documents/emailProject/IgnoreFix [Phish Alert] FW- Open enrollment for 2018 has started - plan overview[1].eml\n",
      "/Users/worshamn/Documents/emailProject/IgnoreFix [Phish Alert] FW- Invitation- Introductory Call Pinnacol Assurance - Jobvite.eml\n",
      "/Users/worshamn/Documents/emailProject/IgnoreFix [Phish Alert] FW- Fw(4)- dtmgreeley.eml\n",
      "/Users/worshamn/Documents/emailProject/IgnoreFix [Phish Alert] FW- [Spam] Christmas has come early.eml\n",
      "/Users/worshamn/Documents/emailProject/IgnoreFix [Phish Alert] FW- Fwd-.eml\n",
      "/Users/worshamn/Documents/emailProject/IgnoreFix [Phish Alert] FW- Digital Transformation- CIOs Leading the Way- 3-1[1].eml\n",
      "/Users/worshamn/Documents/emailProject/IgnoreFix [Phish Alert] FW- Could your doctor be lying about your BP.eml\n",
      "/Users/worshamn/Documents/emailProject/IgnoreFix [Phish Alert] FW- a few minutes[2].eml\n",
      "/Users/worshamn/Documents/emailProject/IgnoreFix [Phish Alert] FW- Updates to Atlassian's Privacy Policy[8].eml\n",
      "/Users/worshamn/Documents/emailProject/IgnoreFix [Phish Alert] FW- Could We Grab 2 Minutes.eml\n",
      "/Users/worshamn/Documents/emailProject/IgnoreFix [Phish Alert] FW- Cloud cost discussion.eml\n",
      "/Users/worshamn/Documents/emailProject/IgnoreFix [Phish Alert] FW- Here is the flexibility you need to get back in the classroom.eml\n",
      "/Users/worshamn/Documents/emailProject/IgnoreFix [Phish Alert] FW- Hi Angelina, we'd love to hear your thoughts.eml\n",
      "/Users/worshamn/Documents/emailProject/IgnoreFix [Phish Alert] FW- Register now for Webinar Email 101- Everything you need to know in one workshop[3].eml\n",
      "/Users/worshamn/Documents/emailProject/IgnoreFix [Phish Alert] FW- Doing THIS Each Night Can Help Lower Your Blood Pressure (Experts Agree).eml\n",
      "/Users/worshamn/Documents/emailProject/IgnoreFix [Phish Alert] FW- Greg sent you an invitation on LinkedIn.eml\n",
      "/Users/worshamn/Documents/emailProject/IgnoreFix [Phish Alert] FW- [Spam] 2018 Small Business Tour[7].eml\n",
      "/Users/worshamn/Documents/emailProject/IgnoreFix [Phish Alert] FW- These 5 incredible erection superfoods will keep you hard for HOURS!.eml\n",
      "/Users/worshamn/Documents/emailProject/IgnoreFix [Phish Alert] FW- Are you Cyber Secure[3].eml\n",
      "/Users/worshamn/Documents/emailProject/IgnoreFix [Phish Alert] FW- Hi!.eml\n",
      "/Users/worshamn/Documents/emailProject/IgnoreFix [Phish Alert] FW- Watch the latest recommendations from your network.eml\n",
      "/Users/worshamn/Documents/emailProject/IgnoreFix [Phish Alert] FW- You need to lower your blood pressure[2].eml\n",
      "/Users/worshamn/Documents/emailProject/IgnoreFix [Phish Alert] FW- [Spam] Fwd- for Paula Fleming.eml\n",
      "/Users/worshamn/Documents/emailProject/IgnoreFix [Phish Alert] FW- USAble Life Transforms their Onboarding & Compliance with VUE Software.eml\n",
      "/Users/worshamn/Documents/emailProject/IgnoreFix [Phish Alert] FW- Sharpen your project leadership skills on the Duke University campus.eml\n",
      "/Users/worshamn/Documents/emailProject/IgnoreFix [Phish Alert] FW- Purchasing surplus phones[1].eml\n",
      "/Users/worshamn/Documents/emailProject/IgnoreFix [Phish Alert] FW- Participate in our customer research and receive a $50 gift card.eml\n",
      "/Users/worshamn/Documents/emailProject/IgnoreFix [Phish Alert] FW- Headsets.com - Jeff Stern - FREE 60 Day Trial Test Drive[1].eml\n",
      "/Users/worshamn/Documents/emailProject/IgnoreFix [Phish Alert] FW- Previous email sent was compromised.eml\n",
      "/Users/worshamn/Documents/emailProject/IgnoreFix [Phish Alert] FW- Updates to Atlassian's Privacy Policy[10].eml\n",
      "/Users/worshamn/Documents/emailProject/IgnoreFix [Phish Alert] FW- Megyn Kelly loses FOX job over drugs.eml\n",
      "/Users/worshamn/Documents/emailProject/IgnoreFix [Phish Alert] FW- Virtual Reality in Rehabilitation[1].eml\n",
      "/Users/worshamn/Documents/emailProject/IgnoreFix [Phish Alert] FW- [Spam] How to Manage and Engage A Growing Millenial Workforce[1].eml\n",
      "/Users/worshamn/Documents/emailProject/IgnoreFix [Phish Alert] FW- RSA  Request for Discussion .eml\n",
      "/Users/worshamn/Documents/emailProject/IgnoreFix [Phish Alert] FW- All Shark Tank judges back these 2 sisters.eml\n",
      "/Users/worshamn/Documents/emailProject/IgnoreFix [Phish Alert] FW- Register Today - Quest Lunch & Learn @ Ocean Prime  Nov. 8th, 2017.eml\n",
      "/Users/worshamn/Documents/emailProject/IgnoreFix [Phish Alert] FW- Season's Greetings.eml\n",
      "/Users/worshamn/Documents/emailProject/IgnoreFix [Phish Alert] FW- [84].eml\n",
      "/Users/worshamn/Documents/emailProject/IgnoreFix [Phish Alert] FW- Daily on Healthcare- Say goodbye to Obamacare’s ‘death panel'...and to cost containment.eml\n",
      "/Users/worshamn/Documents/emailProject/IgnoreFix [Phish Alert] FW- [Spam] We can optimize your brain[4].eml\n",
      "/Users/worshamn/Documents/emailProject/IgnoreFix [Phish Alert] FW- Bundle-ful Holiday Savings!.eml\n",
      "/Users/worshamn/Documents/emailProject/IgnoreFix [Phish Alert] FW- Redemption Code from Denver Healthy Vending.eml\n",
      "/Users/worshamn/Documents/emailProject/IgnoreFix [Phish Alert] FW- 2 Days Left! Sale ends April 5th..eml\n",
      "/Users/worshamn/Documents/emailProject/IgnoreFix [Phish Alert] FW- Digital Transformation- CIOs Leading the Way- 3-1.eml\n",
      "/Users/worshamn/Documents/emailProject/IgnoreFix [Phish Alert] FW- Colorado Rapids Event.eml\n",
      "/Users/worshamn/Documents/emailProject/IgnoreFix [Phish Alert] FW- Steady work from your couch.eml\n",
      "/Users/worshamn/Documents/emailProject/IgnoreFix [Phish Alert] FW- AWS Boot Camp Hyatt DTC  Microsoft in AWS  Softchoice.eml\n",
      "/Users/worshamn/Documents/emailProject/IgnoreFix [Phish Alert] FW- for Christine Klene.eml\n",
      "/Users/worshamn/Documents/emailProject/IgnoreFix [Phish Alert] FW- Joel sent you an invitation on LinkedIn.eml\n",
      "/Users/worshamn/Documents/emailProject/IgnoreFix [Phish Alert] FW- 3D Printing transplantable organs.eml\n",
      "/Users/worshamn/Documents/emailProject/IgnoreFix [Phish Alert] FW- Dare to Give up the Script.eml\n",
      "/Users/worshamn/Documents/emailProject/IgnoreFix [Phish Alert] FW- 10-20% Off Sticky Eye Tracking!.eml\n",
      "/Users/worshamn/Documents/emailProject/IgnoreFix [Phish Alert] FW- It's time to unlock your pre-loaded Amazon card[1].eml\n",
      "/Users/worshamn/Documents/emailProject/IgnoreFix [Phish Alert] FW- You Still Have 6 Hours to Make a Difference for Colorado Gives Day!.eml\n",
      "/Users/worshamn/Documents/emailProject/IgnoreFix [Phish Alert] FW- Apple Notice About Your Recent Order.eml\n",
      "/Users/worshamn/Documents/emailProject/IgnoreFix [Phish Alert] FW- [Spam] 2018 Small Business Tour[6].eml\n",
      "/Users/worshamn/Documents/emailProject/IgnoreFix [Phish Alert] FW- 2fer Monday!!![1].eml\n",
      "/Users/worshamn/Documents/emailProject/IgnoreFix [Phish Alert] FW- [Spam] Monitor your home or business with a spy camera.eml\n",
      "/Users/worshamn/Documents/emailProject/IgnoreFix [Phish Alert] FW- Shawn Stratton's Blog- You are now unsubscribed.eml\n",
      "/Users/worshamn/Documents/emailProject/IgnoreFix [Phish Alert] FW- Spook-tacular Savings for Halloween.eml\n",
      "/Users/worshamn/Documents/emailProject/IgnoreFix [Phish Alert] FW- $5,000 Microsoft Office 365 Voucher[3].eml\n",
      "/Users/worshamn/Documents/emailProject/IgnoreFix [Phish Alert] FW- Free online learning session this week.eml\n"
     ]
    },
    {
     "name": "stdout",
     "output_type": "stream",
     "text": [
      "/Users/worshamn/Documents/emailProject/IgnoreFix [Phish Alert] FW- New Custom Grind Wedge, On the House![1].eml\n",
      "/Users/worshamn/Documents/emailProject/IgnoreFix [Phish Alert] FW- Put down that BP medicine[2].eml\n",
      "/Users/worshamn/Documents/emailProject/IgnoreFix [Phish Alert] FW- Intentions are important, but action is essential[1].eml\n",
      "/Users/worshamn/Documents/emailProject/IgnoreFix [Phish Alert] FW- I Wouldn't Want To Be In This Convertible!.eml\n",
      "/Users/worshamn/Documents/emailProject/IgnoreFix [Phish Alert] FW- Join Us at Del Frisco's for an IoT Discussion with IDC.eml\n",
      "/Users/worshamn/Documents/emailProject/IgnoreFix [Phish Alert] FW- Opportunity Engagement[1].eml\n",
      "/Users/worshamn/Documents/emailProject/IgnoreFix [Phish Alert] FW- Project ManagementProfessional certification course.eml\n",
      "/Users/worshamn/Documents/emailProject/IgnoreFix [Phish Alert] FW- Mini spy camera connects to any outlet.eml\n",
      "/Users/worshamn/Documents/emailProject/IgnoreFix [Phish Alert] FW- This week[1].eml\n",
      "/Users/worshamn/Documents/emailProject/IgnoreFix [Phish Alert] FW- for Craig Roberts[3].eml\n",
      "/Users/worshamn/Documents/emailProject/IgnoreFix [Phish Alert] FW- Learn about the right videoconferencing skills.eml\n",
      "/Users/worshamn/Documents/emailProject/IgnoreFix [Phish Alert] FW- [66].eml\n",
      "/Users/worshamn/Documents/emailProject/IgnoreFix [Phish Alert] FW- Is your doctor still giving you bp meds.eml\n",
      "/Users/worshamn/Documents/emailProject/IgnoreFix [Phish Alert] FW- Follow up to my 9-14 email - Do you have time for a short call.eml\n",
      "/Users/worshamn/Documents/emailProject/IgnoreFix [Phish Alert] FW- Re-[25].eml\n",
      "/Users/worshamn/Documents/emailProject/IgnoreFix [Phish Alert] FW- Bankruptcy 101 CLE Monday!.eml\n",
      "/Users/worshamn/Documents/emailProject/IgnoreFix [Phish Alert] FW- Medical Records 101- Responding to Requests for Patient Information- October 26 - 1 pm ET.eml\n",
      "/Users/worshamn/Documents/emailProject/IgnoreFix [Phish Alert] FW- Valentine's Day ecards for your Sweetheart.eml\n",
      "/Users/worshamn/Documents/emailProject/IgnoreFix [Phish Alert] FW- Reserve your spot[1].eml\n",
      "/Users/worshamn/Documents/emailProject/IgnoreFix [Phish Alert] FW- The pill that started a Shark Tank bidding war[1].eml\n",
      "/Users/worshamn/Documents/emailProject/IgnoreFix [Phish Alert] FW- [Spam] Congratulation You Have Been Chosen...[1].eml\n",
      "/Users/worshamn/Documents/emailProject/IgnoreFix [Phish Alert] FW- Pinnacol Assurance Company Newsletter and Blog.eml\n",
      "/Users/worshamn/Documents/emailProject/IgnoreFix [Phish Alert] FW- Train for 2 months and get a new career.eml\n",
      "/Users/worshamn/Documents/emailProject/IgnoreFix [Phish Alert] FW- Thursday @ 2.eml\n",
      "/Users/worshamn/Documents/emailProject/IgnoreFix [Phish Alert] FW- Does Listening Deepen Trust.eml\n",
      "/Users/worshamn/Documents/emailProject/IgnoreFix [Phish Alert] FW- Introducing The Q!.eml\n",
      "/Users/worshamn/Documents/emailProject/IgnoreFix [Phish Alert] FW- Sheila, what the near future holds for you..eml\n",
      "/Users/worshamn/Documents/emailProject/IgnoreFix [Phish Alert] FW- Autumn CE Webinars are Here! NO EXAMS![1].eml\n",
      "/Users/worshamn/Documents/emailProject/IgnoreFix [Phish Alert] FW- Discover the Next-Gen Tech Driving Digital Transformation.eml\n",
      "/Users/worshamn/Documents/emailProject/IgnoreFix [Phish Alert] FW- Don't have a Will Use your service!.eml\n",
      "/Users/worshamn/Documents/emailProject/IgnoreFix [Phish Alert] FW- ACTION NEEDED- October 2017 National Flood Insurance Program Changes Video Series - Available Online!.eml\n"
     ]
    }
   ],
   "source": [
    "df = pd.DataFrame()\n",
    "for d,v in input_dirs.items():\n",
    "    for f in input_dirs[d]:\n",
    "        print(d, f)\n",
    "        with open(os.path.join(d,f),'r',encoding='utf-8', errors='ignore') as raw_mail:\n",
    "            mail_dict = get_email_text(raw_mail)\n",
    "            df = df.append(\n",
    "                {\n",
    "                    #'filename': f,\n",
    "                    'text': mail_dict['mail_text'],\n",
    "                    'target': get_target(d),\n",
    "                    #'subject_len': mail_dict['subject_len'],\n",
    "                    #'body_len': mail_dict['body_len'],\n",
    "                    #'has_attachments': tryGetKeyValue(mail_dict, 'has_attachments',0),\n",
    "                    #'num_attachments': tryGetKeyValue(mail_dict, 'num_attachments',0),\n",
    "                    #'attachment_filename': tryGetKeyValue(mail_dict, 'attachment_filename'),\n",
    "                    #'attachment_content_type': tryGetKeyValue(mail_dict, 'attachment_content_type'),\n",
    "                    #'DKIM': tryGetKeyValue(mail_dict, 'X-BAEAI-DKIM'),\n",
    "                    #'DMARC': tryGetKeyValue(mail_dict, 'X-BAEAI-DMARC'),\n",
    "                    #'SPF': tryGetKeyValue(mail_dict, 'X-BAEAI-SPF'),\n",
    "                    #'return_path_match_from': mail_dict['return_path_match_from'],\n",
    "                    #'from_tld': tryGetKeyValue(mail_dict, 'from_tld'),\n",
    "                    #'Content-type': mail_dict['Content-type'],\n",
    "                    #'DOTW': tryGetKeyValue(mail_dict, 'DOTW'),\n",
    "                    #'HOTD': tryGetKeyValue(mail_dict, 'HOTD'),\n",
    "                    #'url': mail_dict['url'],\n",
    "                    #'has_url': tryGetKeyValue(mail_dict, 'has_url',0),\n",
    "                    #'num_url': tryGetKeyValue(mail_dict, 'num_url',0),\n",
    "                    #'num_uniq_url': tryGetKeyValue(mail_dict, 'num_uniq_url',0),\n",
    "                    #'email': tryGetKeyValue(mail_dict, 'email'),\n",
    "                    #'has_email': tryGetKeyValue(mail_dict, 'has_email',0),\n",
    "                    #'num_email_addr': tryGetKeyValue(mail_dict, 'num_email_addr',0),\n",
    "                    #'num_uniq_email': tryGetKeyValue(mail_dict, 'num_uniq_email',0),\n",
    "                    #'num_url_repeats': tryGetKeyValue(mail_dict, 'num_url_repeats',0),\n",
    "                    #'url_len': mail_dict['url_len'],\n",
    "                    #'url_tld': mail_dict['url_tld'],\n",
    "                    #'uniq_url_tld': mail_dict['uniq_url_tld'],\n",
    "                    #'has_html_content': tryGetKeyValue(mail_dict, 'has_html_content',0),\n",
    "                    #'has_javascript': tryGetKeyValue(mail_dict, 'has_javascript',0),\n",
    "                    #'has_inline_img': tryGetKeyValue(mail_dict, 'has_inline_img',0),\n",
    "                    #'TAP-Score': tryGetKeyValue(mail_dict, 'X-USANET-TAP-Score',-1),\n",
    "                    #'links': tryGetKeyValue(mail_dict, 'links'),\n",
    "                    #'num_link': tryGetKeyValue(mail_dict, 'num_link',0),\n",
    "                    #'num_uniq_link': tryGetKeyValue(mail_dict, 'num_uniq_link',0),\n",
    "                    #'has_repeat_link': tryGetKeyValue(mail_dict, 'has_repeat_link',0),\n",
    "                    #'masq_link': tryGetKeyValue(mail_dict, 'masq_link'),\n",
    "                    #'has_masq_link': tryGetKeyValue(mail_dict, 'has_masq_link',0),\n",
    "                    #'num_masq_link': tryGetKeyValue(mail_dict, 'num_masq_link',0),\n",
    "                    #'masq_link_tld': tryGetKeyValue(mail_dict, 'masq_link_tld'),\n",
    "                    #'is_multipart': tryGetKeyValue(mail_dict, 'is_mulitpart', 0),\n",
    "                    #'has_defects': mail_dict['has_defects'],\n",
    "                    #'num_email_link': tryGetKeyValue(mail_dict, 'num_email_link',0),\n",
    "                    #'has_unsubscribe_link': tryGetKeyValue(mail_dict, 'has_unsubscribe_link', 0),\n",
    "                }, \n",
    "                ignore_index=True\n",
    "            )"
   ]
  },
  {
   "cell_type": "markdown",
   "metadata": {},
   "source": [
    "Convert cells that are not recognized as a number or just to get rid of float"
   ]
  },
  {
   "cell_type": "code",
   "execution_count": 10,
   "metadata": {},
   "outputs": [
    {
     "name": "stdout",
     "output_type": "stream",
     "text": [
      "<class 'pandas.core.frame.DataFrame'>\n",
      "RangeIndex: 975 entries, 0 to 974\n",
      "Data columns (total 2 columns):\n",
      "target    975 non-null object\n",
      "text      975 non-null object\n",
      "dtypes: object(2)\n",
      "memory usage: 15.3+ KB\n"
     ]
    }
   ],
   "source": [
    "df.info()"
   ]
  },
  {
   "cell_type": "code",
   "execution_count": 11,
   "metadata": {
    "scrolled": true
   },
   "outputs": [
    {
     "data": {
      "text/plain": [
       "\"cschultz@ironwomancon.com sent you files via WeTransfer Get your files     Click 'Download images' to view images      cschultz@ironwomancon.com    sent you some files   1 file, 44.9 KB in total   Get your files        Download link  https://wetransfer.com/downloads/afe70c67af1520e3ea919cd4c21e958a20180521173535/b6d72890eb2c97f07608d369eec817a320180521173602/7a1e75    1 file  ironwomancon_invoice.html    To make sure our emails arrive, please add noreply@wetransfer.com   to your contacts  .  About WeTransfer     ・   Help     ・   Legal     ・   Report this transfer as spam  \""
      ]
     },
     "execution_count": 11,
     "metadata": {},
     "output_type": "execute_result"
    }
   ],
   "source": [
    "df.text.iloc[50]"
   ]
  },
  {
   "cell_type": "markdown",
   "metadata": {},
   "source": [
    "Create a function to clean the text"
   ]
  },
  {
   "cell_type": "code",
   "execution_count": 12,
   "metadata": {},
   "outputs": [],
   "source": [
    "def clean_text(\n",
    "    docs, \n",
    "    remove_urls=True,\n",
    "    remove_emails=True,\n",
    "    lemmatize=True,\n",
    "    remove_stopwords=True, \n",
    "    custom_stopwords=None,\n",
    "#     term_min_len=0,\n",
    "):\n",
    "    #only use parts of spaCy needed\n",
    "    nlp = spacy.load('en', disable=['parser','ner','textcat'])\n",
    "    #remove urls\n",
    "    if remove_urls:\n",
    "        print('remove URLS')\n",
    "        docs = [\n",
    "            re.sub('(?i)(?:www|https?)(?:://)?[^\\s]+','',text)\n",
    "            for text in docs\n",
    "        ]\n",
    "    #remove emails\n",
    "    if remove_emails:\n",
    "        print('remove email addresses')\n",
    "        docs = [\n",
    "            re.sub('(?i)[\\w.]+@[\\w.]+\\.[\\w.]{2,5}','',text)\n",
    "            for text in docs\n",
    "        ]\n",
    "    #remove punct and digits\n",
    "    print('removing punctuation and digits and change to lowercase')\n",
    "    table = str.maketrans({key: None for key in string.punctuation + string.digits})\n",
    "    clean_docs = [\n",
    "#         str(d).lower().translate(table).replace('\\n',' ')\n",
    "        str(d).lower().translate(table)\n",
    "        for d in docs\n",
    "    ]\n",
    "        \n",
    "    #tokenize in spacy\n",
    "    if lemmatize:\n",
    "        print('spacy tokenization')\n",
    "        nlp_docs = [nlp(d) for d in clean_docs]\n",
    "        #lemmatization, words like I get changed into -PRON- so leave them alone\n",
    "        if remove_stopwords:\n",
    "            print('lemmatization and remove stopwords')\n",
    "    #         stopwords_nltk = sorted(nltk.corpus.stopwords.words('english'))\n",
    "            if custom_stopwords:\n",
    "                custom_stopwords = set(custom_stopwords)\n",
    "            else:\n",
    "                custom_stopwords = []\n",
    "            lemmatized_docs = [\n",
    "                [\n",
    "                    w.lemma_ \n",
    "                    for w in d\n",
    "                    if (w.lemma_ != '-PRON-' and not w.is_stop and w.lemma_ not in custom_stopwords) \n",
    "                ]\n",
    "                for d in nlp_docs\n",
    "            ]\n",
    "        else:\n",
    "            print('lemmatization')\n",
    "            lemmatized_docs = [\n",
    "            [\n",
    "                w.lemma_\n",
    "                if w.lemma_ != '-PRON-'\n",
    "                else w.lower_\n",
    "                for w in d\n",
    "                #if (w.lemma_ != '-PRON-' and len(w.lemma_)>term_min_len)\n",
    "            ]\n",
    "            for d in nlp_docs\n",
    "        ]\n",
    "    if lemmatized_docs:\n",
    "        clean_docs = lemmatized_docs\n",
    "    \n",
    "#     if not remove_stopwords:\n",
    "#         # remove stopwords\n",
    "#         #stopwords = nltk.corpus.stopwords.words('english')\n",
    "#         print('lemmatization')\n",
    "#         lemmatized_docs = [\n",
    "#             [\n",
    "#                 w.lemma_ \n",
    "#                 if w.lemma_ != '-PRON-'\n",
    "#                 else w.lower_\n",
    "#                 for w in d\n",
    "#             ]\n",
    "#             for d in nlp_docs\n",
    "#         ]\n",
    "        #lemmatized_docs = [\n",
    "        #    [\n",
    "        #        lemma \n",
    "        #        for lemma in doc\n",
    "        #    ] \n",
    "        #    for doc in lemmatized_docs\n",
    "        #]\n",
    "    # join tokens back into doc\n",
    "    clean_docs = [\n",
    "        ' '.join(l) \n",
    "        for l in clean_docs\n",
    "    ]\n",
    "\n",
    "    return clean_docs"
   ]
  },
  {
   "cell_type": "markdown",
   "metadata": {},
   "source": [
    "Text the text cleaning"
   ]
  },
  {
   "cell_type": "code",
   "execution_count": 13,
   "metadata": {},
   "outputs": [
    {
     "name": "stdout",
     "output_type": "stream",
     "text": [
      "remove URLS\n",
      "remove email addresses\n",
      "removing punctuation and digits and change to lowercase\n",
      "spacy tokenization\n",
      "lemmatization\n"
     ]
    },
    {
     "data": {
      "text/plain": [
       "['validate your office   account        you have a new message from the microsoft office team   view message',\n",
       " 'invoice problem hello jessica rael     be not lucky enough to get in touch with your the other day anyways hopefully you can get back to me   about this invoice below   invoice problem      thank shannon hazzard',\n",
       " 'not a law firm',\n",
       " 'test   candy land be my favorite worker comp   game',\n",
       " 'library',\n",
       " '  send you file via wetransfer get your file      click download image to view image           send you some file     file   kb in total    get your file         download link        file   ironwomanconinvoicehtml     to make sure our email arrive please add     to your contact     about wetransfer      ・    help      ・    legal      ・    report this transfer as spam  ']"
      ]
     },
     "execution_count": 13,
     "metadata": {},
     "output_type": "execute_result"
    }
   ],
   "source": [
    "text = [\n",
    "    \"Validate your Office 365 account       You have a new message from the Microsoft Office team.  View Message \",\n",
    "    \"Invoice Problem Hello Jessica Rael,    Wasn’t lucky enough to get in touch with your the other day. Anyways, hopefully you can get back to me  about this invoice below.  Invoice Problem: http://hajnalattila.hu/Document/New-invoice-534677/    Thanks, Shannon Hazzard\",\n",
    "    \"Not A law firms.\",\n",
    "    \"test www.cnn.com. Candy land is my favorite workers comp www.google.com game\",\n",
    "    \"LIBRARY: WWW.CLICWEB.ORG\",\n",
    "    \"cschultz@ironwomancon.com sent you files via WeTransfer Get your files     Click 'Download images' to view images      cschultz@ironwomancon.com    sent you some files   1 file, 44.9 KB in total   Get your files        Download link  https://wetransfer.com/downloads/afe70c67af1520e3ea919cd4c21e958a20180521173535/b6d72890eb2c97f07608d369eec817a320180521173602/7a1e75    1 file  ironwomancon_invoice.html    To make sure our emails arrive, please add noreply@wetransfer.com   to your contacts  .  About WeTransfer     ・   Help     ・   Legal     ・   Report this transfer as spam  \",\n",
    "]\n",
    "clean_text(text, remove_stopwords=False)"
   ]
  },
  {
   "cell_type": "code",
   "execution_count": 14,
   "metadata": {
    "scrolled": true
   },
   "outputs": [
    {
     "name": "stdout",
     "output_type": "stream",
     "text": [
      "remove URLS\n",
      "remove email addresses\n",
      "removing punctuation and digits and change to lowercase\n",
      "spacy tokenization\n",
      "lemmatization\n",
      "done in 10.664s\n"
     ]
    }
   ],
   "source": [
    "from time import time\n",
    "t0 = time()\n",
    "corpus = clean_text(\n",
    "    df['text'],\n",
    "    remove_stopwords = False,\n",
    ")\n",
    "print(\"done in %0.3fs\" % (time() - t0))\n",
    "score_dict = scoring(score_dict,train_feats,train_labels,test_feats,test_labels,_clf)"
   ]
  },
  {
   "cell_type": "code",
   "execution_count": 15,
   "metadata": {},
   "outputs": [],
   "source": [
    "df['cleaned_text'] = pd.Series(corpus).values"
   ]
  },
  {
   "cell_type": "code",
   "execution_count": 16,
   "metadata": {},
   "outputs": [
    {
     "data": {
      "text/html": [
       "<div>\n",
       "<style scoped>\n",
       "    .dataframe tbody tr th:only-of-type {\n",
       "        vertical-align: middle;\n",
       "    }\n",
       "\n",
       "    .dataframe tbody tr th {\n",
       "        vertical-align: top;\n",
       "    }\n",
       "\n",
       "    .dataframe thead th {\n",
       "        text-align: right;\n",
       "    }\n",
       "</style>\n",
       "<table border=\"1\" class=\"dataframe\">\n",
       "  <thead>\n",
       "    <tr style=\"text-align: right;\">\n",
       "      <th></th>\n",
       "      <th>target</th>\n",
       "      <th>text</th>\n",
       "      <th>cleaned_text</th>\n",
       "    </tr>\n",
       "  </thead>\n",
       "  <tbody>\n",
       "    <tr>\n",
       "      <th>877</th>\n",
       "      <td>ignore</td>\n",
       "      <td>Upcoming March Complimentary Workshops Hello J...</td>\n",
       "      <td>upcoming march complimentary workshop hello ji...</td>\n",
       "    </tr>\n",
       "    <tr>\n",
       "      <th>764</th>\n",
       "      <td>ignore</td>\n",
       "      <td>Fw: for Amanda Gould On Wednesday, October 18,...</td>\n",
       "      <td>fw for amanda gould on wednesday october     b...</td>\n",
       "    </tr>\n",
       "    <tr>\n",
       "      <th>788</th>\n",
       "      <td>ignore</td>\n",
       "      <td>Quick Question | Oracle Resource Team Jim,    ...</td>\n",
       "      <td>quick question   oracle resource team jim     ...</td>\n",
       "    </tr>\n",
       "    <tr>\n",
       "      <th>727</th>\n",
       "      <td>ignore</td>\n",
       "      <td>[Spam] Congrats! You've Been Selected for Comp...</td>\n",
       "      <td>spam congrat you have be select for compliment...</td>\n",
       "    </tr>\n",
       "    <tr>\n",
       "      <th>898</th>\n",
       "      <td>ignore</td>\n",
       "      <td>[Spam] 2018 Small Business Tour The 2018 Small...</td>\n",
       "      <td>spam   small business tour the   small busines...</td>\n",
       "    </tr>\n",
       "    <tr>\n",
       "      <th>894</th>\n",
       "      <td>ignore</td>\n",
       "      <td>Hi Angelina, we'd love to hear your thoughts H...</td>\n",
       "      <td>hi angelina we would love to hear your thought...</td>\n",
       "    </tr>\n",
       "    <tr>\n",
       "      <th>317</th>\n",
       "      <td>investigate</td>\n",
       "      <td>PDF-20180327072018.PDF Please refer to the Att...</td>\n",
       "      <td>pdfpdf please refer to the attach and get back...</td>\n",
       "    </tr>\n",
       "    <tr>\n",
       "      <th>138</th>\n",
       "      <td>investigate</td>\n",
       "      <td>-ðð¦ð©ð¨ð«ð­ðð§ð­ ðÌð...</td>\n",
       "      <td>ðð ¦ ð © ð¨ð«ð­ðð§ð­ ðì...</td>\n",
       "    </tr>\n",
       "    <tr>\n",
       "      <th>915</th>\n",
       "      <td>ignore</td>\n",
       "      <td>RSA | Request for Discussion Good Morning Jim,...</td>\n",
       "      <td>rsa   request for discussion good morning jim ...</td>\n",
       "    </tr>\n",
       "    <tr>\n",
       "      <th>498</th>\n",
       "      <td>ignore</td>\n",
       "      <td>Sonia, review us on Google Hi Sonia. Add your ...</td>\n",
       "      <td>sonia review us on google hi sonia add your re...</td>\n",
       "    </tr>\n",
       "  </tbody>\n",
       "</table>\n",
       "</div>"
      ],
      "text/plain": [
       "          target                                               text  \\\n",
       "877       ignore  Upcoming March Complimentary Workshops Hello J...   \n",
       "764       ignore  Fw: for Amanda Gould On Wednesday, October 18,...   \n",
       "788       ignore  Quick Question | Oracle Resource Team Jim,    ...   \n",
       "727       ignore  [Spam] Congrats! You've Been Selected for Comp...   \n",
       "898       ignore  [Spam] 2018 Small Business Tour The 2018 Small...   \n",
       "894       ignore  Hi Angelina, we'd love to hear your thoughts H...   \n",
       "317  investigate  PDF-20180327072018.PDF Please refer to the Att...   \n",
       "138  investigate  -ðð¦ð©ð¨ð«ð­ðð§ð­ ðÌð...   \n",
       "915       ignore  RSA | Request for Discussion Good Morning Jim,...   \n",
       "498       ignore  Sonia, review us on Google Hi Sonia. Add your ...   \n",
       "\n",
       "                                          cleaned_text  \n",
       "877  upcoming march complimentary workshop hello ji...  \n",
       "764  fw for amanda gould on wednesday october     b...  \n",
       "788  quick question   oracle resource team jim     ...  \n",
       "727  spam congrat you have be select for compliment...  \n",
       "898  spam   small business tour the   small busines...  \n",
       "894  hi angelina we would love to hear your thought...  \n",
       "317  pdfpdf please refer to the attach and get back...  \n",
       "138  ðð ¦ ð © ð¨ð«ð­ðð§ð­ ðì...  \n",
       "915  rsa   request for discussion good morning jim ...  \n",
       "498  sonia review us on google hi sonia add your re...  "
      ]
     },
     "execution_count": 16,
     "metadata": {},
     "output_type": "execute_result"
    }
   ],
   "source": [
    "df.sample(10,random_state=123)"
   ]
  },
  {
   "cell_type": "markdown",
   "metadata": {},
   "source": [
    "Drop any rows that have cleaned themselves to nothing (or had nothing to begin with)"
   ]
  },
  {
   "cell_type": "code",
   "execution_count": 17,
   "metadata": {},
   "outputs": [
    {
     "name": "stdout",
     "output_type": "stream",
     "text": [
      "<class 'pandas.core.frame.DataFrame'>\n",
      "Int64Index: 974 entries, 0 to 974\n",
      "Data columns (total 3 columns):\n",
      "target          974 non-null object\n",
      "text            974 non-null object\n",
      "cleaned_text    974 non-null object\n",
      "dtypes: object(3)\n",
      "memory usage: 30.4+ KB\n"
     ]
    }
   ],
   "source": [
    "df['cleaned_text'].replace(r'',np.nan,regex=True, inplace=True)\n",
    "df.dropna(inplace=True,subset=['cleaned_text'])\n",
    "df.info()"
   ]
  },
  {
   "cell_type": "code",
   "execution_count": 18,
   "metadata": {},
   "outputs": [
    {
     "data": {
      "text/html": [
       "<div>\n",
       "<style scoped>\n",
       "    .dataframe tbody tr th:only-of-type {\n",
       "        vertical-align: middle;\n",
       "    }\n",
       "\n",
       "    .dataframe tbody tr th {\n",
       "        vertical-align: top;\n",
       "    }\n",
       "\n",
       "    .dataframe thead th {\n",
       "        text-align: right;\n",
       "    }\n",
       "</style>\n",
       "<table border=\"1\" class=\"dataframe\">\n",
       "  <thead>\n",
       "    <tr style=\"text-align: right;\">\n",
       "      <th></th>\n",
       "      <th>target</th>\n",
       "      <th>text</th>\n",
       "      <th>cleaned_text</th>\n",
       "    </tr>\n",
       "  </thead>\n",
       "  <tbody>\n",
       "  </tbody>\n",
       "</table>\n",
       "</div>"
      ],
      "text/plain": [
       "Empty DataFrame\n",
       "Columns: [target, text, cleaned_text]\n",
       "Index: []"
      ]
     },
     "execution_count": 18,
     "metadata": {},
     "output_type": "execute_result"
    }
   ],
   "source": [
    "df[df['cleaned_text']=='']"
   ]
  },
  {
   "cell_type": "markdown",
   "metadata": {},
   "source": [
    "Split the sample set into test and training sets"
   ]
  },
  {
   "cell_type": "code",
   "execution_count": 19,
   "metadata": {},
   "outputs": [],
   "source": [
    "df_target = df['target']\n",
    "df_feats = df['cleaned_text']\n",
    "train_feats, test_feats, train_labels, test_labels = train_test_split(\n",
    "    df_feats, \n",
    "    df_target, \n",
    "    test_size=0.20, \n",
    "    random_state=7350\n",
    ")"
   ]
  },
  {
   "cell_type": "code",
   "execution_count": 20,
   "metadata": {},
   "outputs": [
    {
     "data": {
      "text/plain": [
       "0    goodchem document review attach document and v...\n",
       "1    validate your office   account        you have...\n",
       "2    invoice problem hello jessica rael     be not ...\n",
       "3    new document survey for your review document r...\n",
       "4    invoice from karen laman please see attached i...\n",
       "Name: cleaned_text, dtype: object"
      ]
     },
     "execution_count": 20,
     "metadata": {},
     "output_type": "execute_result"
    }
   ],
   "source": [
    "df_feats.head()"
   ]
  },
  {
   "cell_type": "markdown",
   "metadata": {},
   "source": [
    "TFIDF Creation"
   ]
  },
  {
   "cell_type": "code",
   "execution_count": 21,
   "metadata": {},
   "outputs": [
    {
     "name": "stdout",
     "output_type": "stream",
     "text": [
      "done in 0.752s\n"
     ]
    }
   ],
   "source": [
    "from sklearn.feature_extraction.text import TfidfVectorizer\n",
    "t0 = time()\n",
    "vectorizer = TfidfVectorizer(\n",
    "    ngram_range=(1,3),\n",
    "    #max_df=0.9, \n",
    "    min_df=2,\n",
    "    use_idf=False,\n",
    "    binary=True,\n",
    ")\n",
    "train_feats = vectorizer.fit_transform(train_feats.values.tolist())\n",
    "test_feats = vectorizer.transform(test_feats.values.tolist()) \n",
    "# train_feats = vectorizer.fit_transform([' '.join(i) for i in train_feats.values.tolist()])\n",
    "# test_feats = vectorizer.transform([' '.join(i) for i in test_feats.values.tolist()]) \n",
    "print(\"done in %0.3fs\" % (time() - t0))\n",
    "score_dict = scoring(score_dict,train_feats,train_labels,test_feats,test_labels,_clf)"
   ]
  },
  {
   "cell_type": "code",
   "execution_count": 22,
   "metadata": {},
   "outputs": [
    {
     "data": {
      "text/plain": [
       "(779, 26003)"
      ]
     },
     "execution_count": 22,
     "metadata": {},
     "output_type": "execute_result"
    }
   ],
   "source": [
    "train_feats.shape"
   ]
  },
  {
   "cell_type": "code",
   "execution_count": 23,
   "metadata": {},
   "outputs": [
    {
     "data": {
      "text/plain": [
       "(195, 26003)"
      ]
     },
     "execution_count": 23,
     "metadata": {},
     "output_type": "execute_result"
    }
   ],
   "source": [
    "test_feats.shape"
   ]
  },
  {
   "cell_type": "markdown",
   "metadata": {},
   "source": [
    "#### SVM"
   ]
  },
  {
   "cell_type": "code",
   "execution_count": 24,
   "metadata": {},
   "outputs": [
    {
     "name": "stdout",
     "output_type": "stream",
     "text": [
      "done in 0.018s\n"
     ]
    }
   ],
   "source": [
    "from sklearn.svm import LinearSVC \n",
    "t0 = time()\n",
    "svm_clf = LinearSVC(random_state=7350)\n",
    "svm_clf.fit(train_feats, train_labels)\n",
    "#svm_pred = svm_clf.predict(test_feats)\n",
    "print(\"done in %0.3fs\" % (time() - t0))\n",
    "score_dict = scoring(score_dict,train_feats,train_labels,test_feats,test_labels,_clf)"
   ]
  },
  {
   "cell_type": "markdown",
   "metadata": {},
   "source": [
    "Start by seeing how it scores on the data it has already seen"
   ]
  },
  {
   "cell_type": "code",
   "execution_count": 25,
   "metadata": {},
   "outputs": [
    {
     "data": {
      "text/plain": [
       "0.9961489088575096"
      ]
     },
     "execution_count": 25,
     "metadata": {},
     "output_type": "execute_result"
    }
   ],
   "source": [
    "svm_clf.score(train_feats, train_labels)"
   ]
  },
  {
   "cell_type": "markdown",
   "metadata": {},
   "source": [
    "Then score it on data it has not seen"
   ]
  },
  {
   "cell_type": "code",
   "execution_count": 26,
   "metadata": {},
   "outputs": [
    {
     "data": {
      "text/plain": [
       "0.9435897435897436"
      ]
     },
     "execution_count": 26,
     "metadata": {},
     "output_type": "execute_result"
    }
   ],
   "source": [
    "svm_clf.score(test_feats, test_labels)"
   ]
  },
  {
   "cell_type": "code",
   "execution_count": 27,
   "metadata": {},
   "outputs": [
    {
     "name": "stdout",
     "output_type": "stream",
     "text": [
      "done in 0.506s\n"
     ]
    }
   ],
   "source": [
    "from sklearn.svm import SVC \n",
    "t0 = time()\n",
    "svmr_clf = SVC(random_state=7350)\n",
    "svmr_clf.fit(train_feats, train_labels)\n",
    "#svmr_pred = svmr_clf.predict(test_feats)\n",
    "print(\"done in %0.3fs\" % (time() - t0))\n",
    "score_dict = scoring(score_dict,train_feats,train_labels,test_feats,test_labels,_clf)"
   ]
  },
  {
   "cell_type": "code",
   "execution_count": 28,
   "metadata": {},
   "outputs": [
    {
     "data": {
      "text/plain": [
       "0.5019255455712451"
      ]
     },
     "execution_count": 28,
     "metadata": {},
     "output_type": "execute_result"
    }
   ],
   "source": [
    "svmr_clf.score(train_feats, train_labels)"
   ]
  },
  {
   "cell_type": "code",
   "execution_count": 29,
   "metadata": {},
   "outputs": [
    {
     "data": {
      "text/plain": [
       "0.5538461538461539"
      ]
     },
     "execution_count": 29,
     "metadata": {},
     "output_type": "execute_result"
    }
   ],
   "source": [
    "svmr_clf.score(test_feats, test_labels)"
   ]
  },
  {
   "cell_type": "markdown",
   "metadata": {},
   "source": [
    "#### Extra Trees Classifier"
   ]
  },
  {
   "cell_type": "code",
   "execution_count": 30,
   "metadata": {},
   "outputs": [
    {
     "name": "stdout",
     "output_type": "stream",
     "text": [
      "done in 0.370s\n"
     ]
    }
   ],
   "source": [
    "from sklearn.ensemble import ExtraTreesClassifier\n",
    "t0 = time()\n",
    "et_clf = ExtraTreesClassifier(n_jobs=-1,n_estimators=100,random_state=7350)\n",
    "et_clf.fit(train_feats, train_labels)\n",
    "#et_pred = et_clf.predict(test_feats)\n",
    "print(\"done in %0.3fs\" % (time() - t0))\n",
    "score_dict = scoring(score_dict,train_feats,train_labels,test_feats,test_labels,_clf)"
   ]
  },
  {
   "cell_type": "code",
   "execution_count": 31,
   "metadata": {
    "scrolled": true
   },
   "outputs": [
    {
     "data": {
      "text/plain": [
       "1.0"
      ]
     },
     "execution_count": 31,
     "metadata": {},
     "output_type": "execute_result"
    }
   ],
   "source": [
    "et_clf.score(train_feats, train_labels)"
   ]
  },
  {
   "cell_type": "code",
   "execution_count": 32,
   "metadata": {
    "scrolled": true
   },
   "outputs": [
    {
     "data": {
      "text/plain": [
       "0.9384615384615385"
      ]
     },
     "execution_count": 32,
     "metadata": {},
     "output_type": "execute_result"
    }
   ],
   "source": [
    "et_clf.score(test_feats, test_labels)"
   ]
  },
  {
   "cell_type": "markdown",
   "metadata": {},
   "source": [
    "Get Feature Importances"
   ]
  },
  {
   "cell_type": "code",
   "execution_count": 33,
   "metadata": {
    "scrolled": false
   },
   "outputs": [
    {
     "name": "stdout",
     "output_type": "stream",
     "text": [
      "Feature ranking:\n",
      "1. unsubscribe (0.013966)\n",
      "2. invoice (0.013209)\n",
      "3. with (0.006215)\n",
      "4. on (0.006103)\n",
      "5. to (0.004965)\n",
      "6. how (0.004921)\n",
      "7. re (0.004750)\n",
      "8. of (0.004651)\n",
      "9. please (0.004207)\n",
      "10. thank (0.004007)\n",
      "11. about (0.003987)\n",
      "12. what (0.003899)\n",
      "13. more (0.003872)\n",
      "14. solution (0.003851)\n",
      "15. event (0.003446)\n",
      "16. off (0.003342)\n",
      "17. the (0.003337)\n",
      "18. like (0.003269)\n",
      "19. hi (0.003263)\n",
      "20. to receive (0.003218)\n",
      "21. these (0.003214)\n",
      "22. our (0.003168)\n",
      "23. first (0.003152)\n",
      "24. learn (0.003126)\n",
      "25. product (0.003045)\n"
     ]
    }
   ],
   "source": [
    "#http://scikit-learn.org/stable/auto_examples/ensemble/plot_forest_importances.html\n",
    "#https://stackoverflow.com/a/42429989\n",
    "#https://stackoverflow.com/a/25219535\n",
    "importances = et_clf.feature_importances_\n",
    "std = np.std([tree.feature_importances_ for tree in et_clf.estimators_],\n",
    "             axis=0)\n",
    "indices = np.argsort(importances)[::-1]\n",
    "features = vectorizer.get_feature_names()\n",
    "print(\"Feature ranking:\")\n",
    "for f in range(25):\n",
    "    print(\"%d. %s (%f)\" % (f + 1, features[indices[f]], importances[indices[f]]))"
   ]
  },
  {
   "cell_type": "code",
   "execution_count": 34,
   "metadata": {
    "scrolled": false
   },
   "outputs": [
    {
     "data": {
      "image/png": "[encoded data removed]",
      "text/plain": [
       "<matplotlib.figure.Figure at 0x1a1e846198>"
      ]
     },
     "metadata": {},
     "output_type": "display_data"
    }
   ],
   "source": [
    "top_indices = indices[:25]\n",
    "top_features = [features[i] for i in indices[:25]]\n",
    "plt.figure(figsize=(18, 16))\n",
    "plt.title(\"Feature importances\")\n",
    "plt.bar(range(25), importances[top_indices],color=\"orange\", yerr=std[top_indices], align=\"center\",)\n",
    "plt.xticks(range(25), top_features, rotation=75)\n",
    "plt.xlim([-1, 25])\n",
    "plt.show()"
   ]
  },
  {
   "cell_type": "markdown",
   "metadata": {},
   "source": [
    "#### Gradient Boost"
   ]
  },
  {
   "cell_type": "code",
   "execution_count": 35,
   "metadata": {},
   "outputs": [
    {
     "name": "stdout",
     "output_type": "stream",
     "text": [
      "done in 3.147s\n"
     ]
    }
   ],
   "source": [
    "from sklearn.ensemble import GradientBoostingClassifier\n",
    "t0 = time()\n",
    "gb_clf = GradientBoostingClassifier(n_estimators=100,random_state=7350)\n",
    "gb_clf.fit(train_feats, train_labels)\n",
    "#gb_pred = gb_clf.predict(test_feats)\n",
    "print(\"done in %0.3fs\" % (time() - t0))\n",
    "score_dict = scoring(score_dict,train_feats,train_labels,test_feats,test_labels,_clf)"
   ]
  },
  {
   "cell_type": "code",
   "execution_count": 36,
   "metadata": {},
   "outputs": [
    {
     "data": {
      "text/plain": [
       "0.9961489088575096"
      ]
     },
     "execution_count": 36,
     "metadata": {},
     "output_type": "execute_result"
    }
   ],
   "source": [
    "gb_clf.score(train_feats, train_labels)"
   ]
  },
  {
   "cell_type": "code",
   "execution_count": 37,
   "metadata": {},
   "outputs": [
    {
     "data": {
      "text/plain": [
       "0.9128205128205128"
      ]
     },
     "execution_count": 37,
     "metadata": {},
     "output_type": "execute_result"
    }
   ],
   "source": [
    "gb_clf.score(test_feats, test_labels)"
   ]
  },
  {
   "cell_type": "markdown",
   "metadata": {},
   "source": [
    "#### XGBoost"
   ]
  },
  {
   "cell_type": "code",
   "execution_count": 38,
   "metadata": {},
   "outputs": [
    {
     "name": "stdout",
     "output_type": "stream",
     "text": [
      "done in 2.699s\n"
     ]
    }
   ],
   "source": [
    "from xgboost import XGBClassifier\n",
    "t0 = time()\n",
    "xgb_clf = XGBClassifier(max_depth=5,random_state=7350,n_estimators=100,n_jobs=-1)\n",
    "xgb_clf.fit(train_feats, train_labels)\n",
    "#xgb_pred = xgb_clf.predict(test_feats)\n",
    "print(\"done in %0.3fs\" % (time() - t0))\n",
    "score_dict = scoring(score_dict,train_feats,train_labels,test_feats,test_labels,_clf)"
   ]
  },
  {
   "cell_type": "code",
   "execution_count": 39,
   "metadata": {},
   "outputs": [
    {
     "name": "stderr",
     "output_type": "stream",
     "text": [
      "/usr/local/anaconda3/lib/python3.6/site-packages/sklearn/preprocessing/label.py:151: DeprecationWarning: The truth value of an empty array is ambiguous. Returning False, but in future this will result in an error. Use `array.size > 0` to check that an array is not empty.\n",
      "  if diff:\n"
     ]
    },
    {
     "data": {
      "text/plain": [
       "0.9794608472400513"
      ]
     },
     "execution_count": 39,
     "metadata": {},
     "output_type": "execute_result"
    }
   ],
   "source": [
    "xgb_clf.score(train_feats, train_labels)"
   ]
  },
  {
   "cell_type": "code",
   "execution_count": 40,
   "metadata": {
    "scrolled": true
   },
   "outputs": [
    {
     "name": "stderr",
     "output_type": "stream",
     "text": [
      "/usr/local/anaconda3/lib/python3.6/site-packages/sklearn/preprocessing/label.py:151: DeprecationWarning: The truth value of an empty array is ambiguous. Returning False, but in future this will result in an error. Use `array.size > 0` to check that an array is not empty.\n",
      "  if diff:\n"
     ]
    },
    {
     "data": {
      "text/plain": [
       "0.8974358974358975"
      ]
     },
     "execution_count": 40,
     "metadata": {},
     "output_type": "execute_result"
    }
   ],
   "source": [
    "xgb_clf.score(test_feats, test_labels)"
   ]
  },
  {
   "cell_type": "markdown",
   "metadata": {},
   "source": [
    "#### Neural Net"
   ]
  },
  {
   "cell_type": "code",
   "execution_count": 41,
   "metadata": {},
   "outputs": [
    {
     "name": "stdout",
     "output_type": "stream",
     "text": [
      "done in 37.510s\n"
     ]
    }
   ],
   "source": [
    "from sklearn.neural_network import MLPClassifier\n",
    "t0 = time()\n",
    "nn_clf = MLPClassifier(max_iter=800)\n",
    "nn_clf.fit(train_feats, train_labels)\n",
    "#nn_pred = nn_clf.predict(test_feats)\n",
    "print(\"done in %0.3fs\" % (time() - t0))\n",
    "score_dict = scoring(score_dict,train_feats,train_labels,test_feats,test_labels,_clf)"
   ]
  },
  {
   "cell_type": "code",
   "execution_count": 42,
   "metadata": {},
   "outputs": [
    {
     "data": {
      "text/plain": [
       "1.0"
      ]
     },
     "execution_count": 42,
     "metadata": {},
     "output_type": "execute_result"
    }
   ],
   "source": [
    "nn_clf.score(train_feats, train_labels)"
   ]
  },
  {
   "cell_type": "code",
   "execution_count": 43,
   "metadata": {},
   "outputs": [
    {
     "data": {
      "text/plain": [
       "0.9538461538461539"
      ]
     },
     "execution_count": 43,
     "metadata": {},
     "output_type": "execute_result"
    }
   ],
   "source": [
    "nn_clf.score(test_feats, test_labels)"
   ]
  },
  {
   "cell_type": "markdown",
   "metadata": {},
   "source": [
    "#### Naive Bayes"
   ]
  },
  {
   "cell_type": "code",
   "execution_count": 44,
   "metadata": {},
   "outputs": [
    {
     "name": "stdout",
     "output_type": "stream",
     "text": [
      "done in 0.007s\n"
     ]
    }
   ],
   "source": [
    "from sklearn.naive_bayes import MultinomialNB\n",
    "t0 = time()\n",
    "nb_clf = MultinomialNB(alpha=.001)\n",
    "nb_clf.fit(train_feats, train_labels)\n",
    "#nb_pred = nb_clf.predict(test_feats.drop('TAP-Score',axis=1))\n",
    "print(\"done in %0.3fs\" % (time() - t0))\n",
    "score_dict = scoring(score_dict,train_feats,train_labels,test_feats,test_labels,_clf)"
   ]
  },
  {
   "cell_type": "code",
   "execution_count": 45,
   "metadata": {},
   "outputs": [
    {
     "data": {
      "text/plain": [
       "0.9858793324775353"
      ]
     },
     "execution_count": 45,
     "metadata": {},
     "output_type": "execute_result"
    }
   ],
   "source": [
    "nb_clf.score(train_feats, train_labels)"
   ]
  },
  {
   "cell_type": "code",
   "execution_count": 46,
   "metadata": {},
   "outputs": [
    {
     "data": {
      "text/plain": [
       "0.958974358974359"
      ]
     },
     "execution_count": 46,
     "metadata": {},
     "output_type": "execute_result"
    }
   ],
   "source": [
    "nb_clf.score(test_feats, test_labels)"
   ]
  },
  {
   "cell_type": "code",
   "execution_count": 47,
   "metadata": {},
   "outputs": [],
   "source": [
    "# from sklearn.naive_bayes import GaussianNB\n",
    "# t0 = time()\n",
    "# gnb_clf = GaussianNB()\n",
    "# gnb_clf.fit(train_feats, train_labels)\n",
    "# #gnb_pred = gnb_clf.predict(test_feats.drop('TAP-Score',axis=1))\n",
    "# print(\"done in %0.3fs\" % (time() - t0))\n",
    "score_dict = scoring(score_dict,train_feats,train_labels,test_feats,test_labels,_clf)"
   ]
  },
  {
   "cell_type": "code",
   "execution_count": 48,
   "metadata": {},
   "outputs": [],
   "source": [
    "# gnb_clf.score(train_feats.drop('TAP-Score',axis=1), train_labels)"
   ]
  },
  {
   "cell_type": "code",
   "execution_count": 49,
   "metadata": {},
   "outputs": [],
   "source": [
    "# gnb_clf.score(test_feats.drop('TAP-Score',axis=1), test_labels)"
   ]
  },
  {
   "cell_type": "markdown",
   "metadata": {},
   "source": [
    "#### Random Forest"
   ]
  },
  {
   "cell_type": "code",
   "execution_count": 50,
   "metadata": {},
   "outputs": [
    {
     "name": "stdout",
     "output_type": "stream",
     "text": [
      "done in 0.403s\n"
     ]
    }
   ],
   "source": [
    "from sklearn.ensemble import RandomForestClassifier\n",
    "t0 = time()\n",
    "rf_clf = RandomForestClassifier(n_jobs=-1,n_estimators=100,random_state=7350)\n",
    "rf_clf.fit(train_feats, train_labels)\n",
    "#rf_pred = rf_clf.predict(test_feats)\n",
    "print(\"done in %0.3fs\" % (time() - t0))\n",
    "score_dict = scoring(score_dict,train_feats,train_labels,test_feats,test_labels,_clf)"
   ]
  },
  {
   "cell_type": "code",
   "execution_count": 51,
   "metadata": {
    "scrolled": false
   },
   "outputs": [
    {
     "data": {
      "text/plain": [
       "1.0"
      ]
     },
     "execution_count": 51,
     "metadata": {},
     "output_type": "execute_result"
    }
   ],
   "source": [
    "rf_clf.score(train_feats, train_labels)"
   ]
  },
  {
   "cell_type": "code",
   "execution_count": 52,
   "metadata": {
    "scrolled": true
   },
   "outputs": [
    {
     "data": {
      "text/plain": [
       "0.9076923076923077"
      ]
     },
     "execution_count": 52,
     "metadata": {},
     "output_type": "execute_result"
    }
   ],
   "source": [
    "rf_clf.score(test_feats, test_labels)"
   ]
  },
  {
   "cell_type": "code",
   "execution_count": 53,
   "metadata": {},
   "outputs": [
    {
     "name": "stdout",
     "output_type": "stream",
     "text": [
      "Feature ranking:\n",
      "1. unsubscribe (0.013966)\n",
      "2. invoice (0.013209)\n",
      "3. with (0.006215)\n",
      "4. on (0.006103)\n",
      "5. to (0.004965)\n",
      "6. how (0.004921)\n",
      "7. re (0.004750)\n",
      "8. of (0.004651)\n",
      "9. please (0.004207)\n",
      "10. thank (0.004007)\n",
      "11. about (0.003987)\n",
      "12. what (0.003899)\n",
      "13. more (0.003872)\n",
      "14. solution (0.003851)\n",
      "15. event (0.003446)\n",
      "16. off (0.003342)\n",
      "17. the (0.003337)\n",
      "18. like (0.003269)\n",
      "19. hi (0.003263)\n",
      "20. to receive (0.003218)\n",
      "21. these (0.003214)\n",
      "22. our (0.003168)\n",
      "23. first (0.003152)\n",
      "24. learn (0.003126)\n",
      "25. product (0.003045)\n"
     ]
    }
   ],
   "source": [
    "importances = et_clf.feature_importances_\n",
    "std = np.std([tree.feature_importances_ for tree in et_clf.estimators_],\n",
    "             axis=0)\n",
    "indices = np.argsort(importances)[::-1]\n",
    "features = vectorizer.get_feature_names()\n",
    "print(\"Feature ranking:\")\n",
    "for f in range(25):\n",
    "    print(\"%d. %s (%f)\" % (f + 1, features[indices[f]], importances[indices[f]]))"
   ]
  },
  {
   "cell_type": "code",
   "execution_count": 54,
   "metadata": {},
   "outputs": [
    {
     "data": {
      "image/png": "[encoded data removed]",
      "text/plain": [
       "<matplotlib.figure.Figure at 0x1a1022f978>"
      ]
     },
     "metadata": {},
     "output_type": "display_data"
    }
   ],
   "source": [
    "top_indices = indices[:25]\n",
    "top_features = [features[i] for i in indices[:25]]\n",
    "plt.figure(figsize=(18, 16))\n",
    "plt.title(\"Feature importances\")\n",
    "plt.bar(range(25), importances[top_indices],color=\"red\", yerr=std[top_indices], align=\"center\",)\n",
    "plt.xticks(range(25), top_features, rotation=75)\n",
    "plt.xlim([-1, 25])\n",
    "plt.show()"
   ]
  },
  {
   "cell_type": "markdown",
   "metadata": {},
   "source": [
    "#### Nearest Neighbors"
   ]
  },
  {
   "cell_type": "code",
   "execution_count": 55,
   "metadata": {},
   "outputs": [
    {
     "name": "stdout",
     "output_type": "stream",
     "text": [
      "done in 0.005s\n"
     ]
    }
   ],
   "source": [
    "from sklearn.neighbors import KNeighborsClassifier\n",
    "t0 = time()\n",
    "knn_clf = KNeighborsClassifier(n_jobs=-1,leaf_size=100)\n",
    "knn_clf.fit(train_feats, train_labels)\n",
    "#knn_pred = rf_clf.predict(test_feats)\n",
    "print(\"done in %0.3fs\" % (time() - t0))\n",
    "score_dict = scoring(score_dict,train_feats,train_labels,test_feats,test_labels,_clf)"
   ]
  },
  {
   "cell_type": "code",
   "execution_count": 56,
   "metadata": {
    "scrolled": false
   },
   "outputs": [
    {
     "data": {
      "text/plain": [
       "0.6983311938382541"
      ]
     },
     "execution_count": 56,
     "metadata": {},
     "output_type": "execute_result"
    }
   ],
   "source": [
    "knn_clf.score(train_feats, train_labels)"
   ]
  },
  {
   "cell_type": "code",
   "execution_count": 57,
   "metadata": {
    "scrolled": false
   },
   "outputs": [
    {
     "data": {
      "text/plain": [
       "0.676923076923077"
      ]
     },
     "execution_count": 57,
     "metadata": {},
     "output_type": "execute_result"
    }
   ],
   "source": [
    "knn_clf.score(test_feats, test_labels)"
   ]
  },
  {
   "cell_type": "code",
   "execution_count": 58,
   "metadata": {},
   "outputs": [
    {
     "name": "stdout",
     "output_type": "stream",
     "text": [
      "done in 0.014s\n"
     ]
    }
   ],
   "source": [
    "from sklearn.neighbors import NearestCentroid\n",
    "t0 = time()\n",
    "nc_clf = NearestCentroid()\n",
    "nc_clf.fit(train_feats, train_labels)\n",
    "#nc_pred = rf_clf.predict(test_feats)\n",
    "print(\"done in %0.3fs\" % (time() - t0))\n",
    "score_dict = scoring(score_dict,train_feats,train_labels,test_feats,test_labels,_clf)"
   ]
  },
  {
   "cell_type": "code",
   "execution_count": 59,
   "metadata": {
    "scrolled": false
   },
   "outputs": [
    {
     "data": {
      "text/plain": [
       "0.9306803594351734"
      ]
     },
     "execution_count": 59,
     "metadata": {},
     "output_type": "execute_result"
    }
   ],
   "source": [
    "nc_clf.score(train_feats, train_labels)"
   ]
  },
  {
   "cell_type": "code",
   "execution_count": 60,
   "metadata": {
    "scrolled": false
   },
   "outputs": [
    {
     "data": {
      "text/plain": [
       "0.9128205128205128"
      ]
     },
     "execution_count": 60,
     "metadata": {},
     "output_type": "execute_result"
    }
   ],
   "source": [
    "nc_clf.score(test_feats, test_labels)"
   ]
  },
  {
   "cell_type": "markdown",
   "metadata": {},
   "source": [
    "#### AdaBoost"
   ]
  },
  {
   "cell_type": "code",
   "execution_count": 61,
   "metadata": {},
   "outputs": [
    {
     "name": "stdout",
     "output_type": "stream",
     "text": [
      "done in 1.476s\n"
     ]
    }
   ],
   "source": [
    "from sklearn.ensemble import AdaBoostClassifier\n",
    "t0 = time()\n",
    "ab_clf = AdaBoostClassifier(n_estimators=100,random_state=7350)\n",
    "ab_clf.fit(train_feats, train_labels)\n",
    "#ab_pred = ab_clf.predict(test_feats)\n",
    "print(\"done in %0.3fs\" % (time() - t0))\n",
    "score_dict = scoring(score_dict,train_feats,train_labels,test_feats,test_labels,_clf)"
   ]
  },
  {
   "cell_type": "code",
   "execution_count": 62,
   "metadata": {
    "scrolled": true
   },
   "outputs": [
    {
     "data": {
      "text/plain": [
       "1.0"
      ]
     },
     "execution_count": 62,
     "metadata": {},
     "output_type": "execute_result"
    }
   ],
   "source": [
    "ab_clf.score(train_feats, train_labels)"
   ]
  },
  {
   "cell_type": "code",
   "execution_count": 63,
   "metadata": {
    "scrolled": true
   },
   "outputs": [
    {
     "data": {
      "text/plain": [
       "0.882051282051282"
      ]
     },
     "execution_count": 63,
     "metadata": {},
     "output_type": "execute_result"
    }
   ],
   "source": [
    "ab_clf.score(test_feats, test_labels)"
   ]
  },
  {
   "cell_type": "markdown",
   "metadata": {},
   "source": [
    "#### QuadraticDiscriminantAnalysis"
   ]
  },
  {
   "cell_type": "code",
   "execution_count": 64,
   "metadata": {},
   "outputs": [],
   "source": [
    "# from sklearn.discriminant_analysis import QuadraticDiscriminantAnalysis\n",
    "# t0 = time()\n",
    "# qda_clf = QuadraticDiscriminantAnalysis()\n",
    "# qda_clf.fit(train_feats, train_labels)\n",
    "# #qda_pred = qda_clf.predict(test_feats)\n",
    "# print(\"done in %0.3fs\" % (time() - t0))\n",
    "score_dict = scoring(score_dict,train_feats,train_labels,test_feats,test_labels,_clf)"
   ]
  },
  {
   "cell_type": "code",
   "execution_count": 65,
   "metadata": {
    "scrolled": true
   },
   "outputs": [],
   "source": [
    "# qda_clf.score(train_feats, train_labels)"
   ]
  },
  {
   "cell_type": "code",
   "execution_count": 66,
   "metadata": {
    "scrolled": true
   },
   "outputs": [],
   "source": [
    "# qda_clf.score(test_feats, test_labels)"
   ]
  },
  {
   "cell_type": "markdown",
   "metadata": {},
   "source": [
    "#### GaussianProcessClassifier"
   ]
  },
  {
   "cell_type": "code",
   "execution_count": 67,
   "metadata": {},
   "outputs": [],
   "source": [
    "# from sklearn.gaussian_process import GaussianProcessClassifier\n",
    "# t0 = time()\n",
    "# gp_clf = GaussianProcessClassifier(random_state=7350)\n",
    "# gp_clf.fit(train_feats, train_labels)\n",
    "# #gp_pred = gp_clf.predict(test_feats)\n",
    "# print(\"done in %0.3fs\" % (time() - t0))\n",
    "score_dict = scoring(score_dict,train_feats,train_labels,test_feats,test_labels,_clf)"
   ]
  },
  {
   "cell_type": "code",
   "execution_count": 68,
   "metadata": {
    "scrolled": false
   },
   "outputs": [],
   "source": [
    "# gp_clf.score(train_feats, train_labels)"
   ]
  },
  {
   "cell_type": "code",
   "execution_count": 69,
   "metadata": {
    "scrolled": false
   },
   "outputs": [],
   "source": [
    "# gp_clf.score(test_feats, test_labels)"
   ]
  },
  {
   "cell_type": "markdown",
   "metadata": {},
   "source": [
    "#### Decision Tree"
   ]
  },
  {
   "cell_type": "code",
   "execution_count": 70,
   "metadata": {},
   "outputs": [
    {
     "name": "stdout",
     "output_type": "stream",
     "text": [
      "done in 0.186s\n"
     ]
    }
   ],
   "source": [
    "from sklearn.tree import DecisionTreeClassifier\n",
    "t0 = time()\n",
    "dt_clf = DecisionTreeClassifier(random_state=7350)\n",
    "dt_clf.fit(train_feats, train_labels)\n",
    "#dt_pred = dt_clf.predict(test_feats)\n",
    "print(\"done in %0.3fs\" % (time() - t0))\n",
    "score_dict = scoring(score_dict,train_feats,train_labels,test_feats,test_labels,_clf)"
   ]
  },
  {
   "cell_type": "code",
   "execution_count": 71,
   "metadata": {
    "scrolled": false
   },
   "outputs": [
    {
     "data": {
      "text/plain": [
       "1.0"
      ]
     },
     "execution_count": 71,
     "metadata": {},
     "output_type": "execute_result"
    }
   ],
   "source": [
    "dt_clf.score(train_feats, train_labels)"
   ]
  },
  {
   "cell_type": "code",
   "execution_count": 72,
   "metadata": {
    "scrolled": true
   },
   "outputs": [
    {
     "data": {
      "text/plain": [
       "0.8717948717948718"
      ]
     },
     "execution_count": 72,
     "metadata": {},
     "output_type": "execute_result"
    }
   ],
   "source": [
    "dt_clf.score(test_feats, test_labels)"
   ]
  },
  {
   "cell_type": "markdown",
   "metadata": {},
   "source": [
    "#### LogisticRegression"
   ]
  },
  {
   "cell_type": "code",
   "execution_count": 73,
   "metadata": {},
   "outputs": [
    {
     "name": "stdout",
     "output_type": "stream",
     "text": [
      "done in 0.023s\n"
     ]
    }
   ],
   "source": [
    "from sklearn.linear_model import LogisticRegression\n",
    "t0 = time()\n",
    "lr_clf = LogisticRegression(random_state=7350)\n",
    "lr_clf.fit(train_feats, train_labels)\n",
    "#lr_pred = lr_clf.predict(test_feats)\n",
    "print(\"done in %0.3fs\" % (time() - t0))\n",
    "score_dict = scoring(score_dict,train_feats,train_labels,test_feats,test_labels,_clf)"
   ]
  },
  {
   "cell_type": "code",
   "execution_count": 74,
   "metadata": {
    "scrolled": false
   },
   "outputs": [
    {
     "data": {
      "text/plain": [
       "0.9653401797175867"
      ]
     },
     "execution_count": 74,
     "metadata": {},
     "output_type": "execute_result"
    }
   ],
   "source": [
    "lr_clf.score(train_feats, train_labels)"
   ]
  },
  {
   "cell_type": "code",
   "execution_count": 75,
   "metadata": {
    "scrolled": false
   },
   "outputs": [
    {
     "data": {
      "text/plain": [
       "0.9384615384615385"
      ]
     },
     "execution_count": 75,
     "metadata": {},
     "output_type": "execute_result"
    }
   ],
   "source": [
    "lr_clf.score(test_feats, test_labels)"
   ]
  },
  {
   "cell_type": "markdown",
   "metadata": {},
   "source": [
    "#### PassiveAggressiveClassifier"
   ]
  },
  {
   "cell_type": "code",
   "execution_count": 76,
   "metadata": {
    "scrolled": true
   },
   "outputs": [
    {
     "name": "stdout",
     "output_type": "stream",
     "text": [
      "done in 0.015s\n"
     ]
    },
    {
     "name": "stderr",
     "output_type": "stream",
     "text": [
      "/usr/local/anaconda3/lib/python3.6/site-packages/sklearn/linear_model/stochastic_gradient.py:128: FutureWarning: max_iter and tol parameters have been added in <class 'sklearn.linear_model.passive_aggressive.PassiveAggressiveClassifier'> in 0.19. If both are left unset, they default to max_iter=5 and tol=None. If tol is not None, max_iter defaults to max_iter=1000. From 0.21, default max_iter will be 1000, and default tol will be 1e-3.\n",
      "  \"and default tol will be 1e-3.\" % type(self), FutureWarning)\n"
     ]
    }
   ],
   "source": [
    "from sklearn.linear_model import PassiveAggressiveClassifier\n",
    "t0 = time()\n",
    "pa_clf = PassiveAggressiveClassifier(n_jobs=-1,random_state=7350)\n",
    "pa_clf.fit(train_feats, train_labels)\n",
    "#pa_pred = pa_clf.predict(test_feats)\n",
    "print(\"done in %0.3fs\" % (time() - t0))\n",
    "score_dict = scoring(score_dict,train_feats,train_labels,test_feats,test_labels,_clf)"
   ]
  },
  {
   "cell_type": "code",
   "execution_count": 77,
   "metadata": {
    "scrolled": false
   },
   "outputs": [
    {
     "data": {
      "text/plain": [
       "0.9961489088575096"
      ]
     },
     "execution_count": 77,
     "metadata": {},
     "output_type": "execute_result"
    }
   ],
   "source": [
    "pa_clf.score(train_feats, train_labels)"
   ]
  },
  {
   "cell_type": "code",
   "execution_count": 78,
   "metadata": {
    "scrolled": true
   },
   "outputs": [
    {
     "data": {
      "text/plain": [
       "0.9435897435897436"
      ]
     },
     "execution_count": 78,
     "metadata": {},
     "output_type": "execute_result"
    }
   ],
   "source": [
    "pa_clf.score(test_feats, test_labels)"
   ]
  },
  {
   "cell_type": "markdown",
   "metadata": {},
   "source": [
    "#### RidgeClassifier"
   ]
  },
  {
   "cell_type": "code",
   "execution_count": 79,
   "metadata": {},
   "outputs": [
    {
     "name": "stdout",
     "output_type": "stream",
     "text": [
      "done in 0.081s\n"
     ]
    }
   ],
   "source": [
    "from sklearn.linear_model import RidgeClassifier\n",
    "t0 = time()\n",
    "rd_clf = RidgeClassifier(random_state=7350)\n",
    "rd_clf.fit(train_feats, train_labels)\n",
    "#rd_pred = rd_clf.predict(test_feats)\n",
    "print(\"done in %0.3fs\" % (time() - t0))\n",
    "score_dict = scoring(score_dict,train_feats,train_labels,test_feats,test_labels,_clf)"
   ]
  },
  {
   "cell_type": "code",
   "execution_count": 80,
   "metadata": {
    "scrolled": false
   },
   "outputs": [
    {
     "data": {
      "text/plain": [
       "0.9910141206675225"
      ]
     },
     "execution_count": 80,
     "metadata": {},
     "output_type": "execute_result"
    }
   ],
   "source": [
    "rd_clf.score(train_feats, train_labels)"
   ]
  },
  {
   "cell_type": "code",
   "execution_count": 81,
   "metadata": {
    "scrolled": false
   },
   "outputs": [
    {
     "data": {
      "text/plain": [
       "0.9435897435897436"
      ]
     },
     "execution_count": 81,
     "metadata": {},
     "output_type": "execute_result"
    }
   ],
   "source": [
    "rd_clf.score(test_feats, test_labels)"
   ]
  },
  {
   "cell_type": "markdown",
   "metadata": {},
   "source": [
    "#### SGDClassifier"
   ]
  },
  {
   "cell_type": "code",
   "execution_count": 82,
   "metadata": {},
   "outputs": [
    {
     "name": "stdout",
     "output_type": "stream",
     "text": [
      "done in 0.004s\n"
     ]
    },
    {
     "name": "stderr",
     "output_type": "stream",
     "text": [
      "/usr/local/anaconda3/lib/python3.6/site-packages/sklearn/linear_model/stochastic_gradient.py:128: FutureWarning: max_iter and tol parameters have been added in <class 'sklearn.linear_model.stochastic_gradient.SGDClassifier'> in 0.19. If both are left unset, they default to max_iter=5 and tol=None. If tol is not None, max_iter defaults to max_iter=1000. From 0.21, default max_iter will be 1000, and default tol will be 1e-3.\n",
      "  \"and default tol will be 1e-3.\" % type(self), FutureWarning)\n"
     ]
    }
   ],
   "source": [
    "from sklearn.linear_model import SGDClassifier\n",
    "t0 = time()\n",
    "sgd_clf = SGDClassifier(random_state=7350)\n",
    "sgd_clf.fit(train_feats, train_labels)\n",
    "#sgd_pred = sgd_clf.predict(test_feats)\n",
    "print(\"done in %0.3fs\" % (time() - t0))\n",
    "score_dict = scoring(score_dict,train_feats,train_labels,test_feats,test_labels,_clf)"
   ]
  },
  {
   "cell_type": "code",
   "execution_count": 83,
   "metadata": {
    "scrolled": false
   },
   "outputs": [
    {
     "data": {
      "text/plain": [
       "1.0"
      ]
     },
     "execution_count": 83,
     "metadata": {},
     "output_type": "execute_result"
    }
   ],
   "source": [
    "sgd_clf.score(train_feats, train_labels)"
   ]
  },
  {
   "cell_type": "code",
   "execution_count": 84,
   "metadata": {
    "scrolled": true
   },
   "outputs": [
    {
     "data": {
      "text/plain": [
       "0.9487179487179487"
      ]
     },
     "execution_count": 84,
     "metadata": {},
     "output_type": "execute_result"
    }
   ],
   "source": [
    "sgd_clf.score(test_feats, test_labels)"
   ]
  },
  {
   "cell_type": "markdown",
   "metadata": {},
   "source": [
    "#### CalibratedClassifierCV"
   ]
  },
  {
   "cell_type": "code",
   "execution_count": 85,
   "metadata": {},
   "outputs": [
    {
     "name": "stdout",
     "output_type": "stream",
     "text": [
      "done in 0.069s\n"
     ]
    }
   ],
   "source": [
    "from sklearn.calibration import CalibratedClassifierCV\n",
    "t0 = time()\n",
    "cc_clf = CalibratedClassifierCV()\n",
    "cc_clf.fit(train_feats, train_labels)\n",
    "#cc_pred = cc_clf.predict(test_feats)\n",
    "print(\"done in %0.3fs\" % (time() - t0))\n",
    "score_dict = scoring(score_dict,train_feats,train_labels,test_feats,test_labels,_clf)"
   ]
  },
  {
   "cell_type": "code",
   "execution_count": 86,
   "metadata": {
    "scrolled": false
   },
   "outputs": [
    {
     "data": {
      "text/plain": [
       "0.9948652118100129"
      ]
     },
     "execution_count": 86,
     "metadata": {},
     "output_type": "execute_result"
    }
   ],
   "source": [
    "cc_clf.score(train_feats, train_labels)"
   ]
  },
  {
   "cell_type": "code",
   "execution_count": 87,
   "metadata": {
    "scrolled": false
   },
   "outputs": [
    {
     "data": {
      "text/plain": [
       "0.9435897435897436"
      ]
     },
     "execution_count": 87,
     "metadata": {},
     "output_type": "execute_result"
    }
   ],
   "source": [
    "cc_clf.score(test_feats, test_labels)"
   ]
  },
  {
   "cell_type": "markdown",
   "metadata": {},
   "source": [
    "#### BaggingClassifier"
   ]
  },
  {
   "cell_type": "code",
   "execution_count": 88,
   "metadata": {},
   "outputs": [
    {
     "name": "stdout",
     "output_type": "stream",
     "text": [
      "done in 6.511s\n"
     ]
    }
   ],
   "source": [
    "from sklearn.ensemble import BaggingClassifier\n",
    "t0 = time()\n",
    "bg_clf = BaggingClassifier(n_jobs=-1,n_estimators=100,random_state=7350)\n",
    "bg_clf.fit(train_feats, train_labels)\n",
    "#bg_pred = bg_clf.predict(test_feats)\n",
    "print(\"done in %0.3fs\" % (time() - t0))\n",
    "score_dict = scoring(score_dict,train_feats,train_labels,test_feats,test_labels,_clf)"
   ]
  },
  {
   "cell_type": "code",
   "execution_count": 89,
   "metadata": {
    "scrolled": false
   },
   "outputs": [
    {
     "data": {
      "text/plain": [
       "1.0"
      ]
     },
     "execution_count": 89,
     "metadata": {},
     "output_type": "execute_result"
    }
   ],
   "source": [
    "bg_clf.score(train_feats, train_labels)"
   ]
  },
  {
   "cell_type": "code",
   "execution_count": 90,
   "metadata": {
    "scrolled": true
   },
   "outputs": [
    {
     "data": {
      "text/plain": [
       "0.8871794871794871"
      ]
     },
     "execution_count": 90,
     "metadata": {},
     "output_type": "execute_result"
    }
   ],
   "source": [
    "bg_clf.score(test_feats, test_labels)"
   ]
  },
  {
   "cell_type": "markdown",
   "metadata": {},
   "source": [
    "#### VotingClassifier"
   ]
  },
  {
   "cell_type": "code",
   "execution_count": 115,
   "metadata": {},
   "outputs": [
    {
     "name": "stdout",
     "output_type": "stream",
     "text": [
      "done in 0.100s\n"
     ]
    },
    {
     "name": "stderr",
     "output_type": "stream",
     "text": [
      "/usr/local/anaconda3/lib/python3.6/site-packages/sklearn/linear_model/stochastic_gradient.py:128: FutureWarning: max_iter and tol parameters have been added in <class 'sklearn.linear_model.stochastic_gradient.SGDClassifier'> in 0.19. If both are left unset, they default to max_iter=5 and tol=None. If tol is not None, max_iter defaults to max_iter=1000. From 0.21, default max_iter will be 1000, and default tol will be 1e-3.\n",
      "  \"and default tol will be 1e-3.\" % type(self), FutureWarning)\n"
     ]
    }
   ],
   "source": [
    "from sklearn.ensemble import VotingClassifier\n",
    "t0 = time()\n",
    "vt_clf = VotingClassifier(estimators=[\n",
    "#     ('nn',nn_clf),\n",
    "    ('nb',nb_clf),\n",
    "#     ('et',et_clf),\n",
    "    ('sgd',sgd_clf),\n",
    "#     ('svm',svm_clf),\n",
    "#     ('pa',pa_clf),\n",
    "#     ('nc',nc_clf),\n",
    "#     ('lr',lr_clf),\n",
    "#     ('cc',cc_clf),\n",
    "    ('rd',rd_clf),\n",
    "#     ('rf',rf_clf),\n",
    "])\n",
    "vt_clf.fit(train_feats, train_labels)\n",
    "#vt_pred = vt_clf.predict(test_feats)\n",
    "print(\"done in %0.3fs\" % (time() - t0))"
   ]
  },
  {
   "cell_type": "code",
   "execution_count": 116,
   "metadata": {
    "scrolled": false
   },
   "outputs": [
    {
     "name": "stderr",
     "output_type": "stream",
     "text": [
      "/usr/local/anaconda3/lib/python3.6/site-packages/sklearn/preprocessing/label.py:151: DeprecationWarning: The truth value of an empty array is ambiguous. Returning False, but in future this will result in an error. Use `array.size > 0` to check that an array is not empty.\n",
      "  if diff:\n"
     ]
    },
    {
     "data": {
      "text/plain": [
       "0.9948652118100129"
      ]
     },
     "execution_count": 116,
     "metadata": {},
     "output_type": "execute_result"
    }
   ],
   "source": [
    "vt_clf.score(train_feats, train_labels)"
   ]
  },
  {
   "cell_type": "code",
   "execution_count": 117,
   "metadata": {
    "scrolled": true
   },
   "outputs": [
    {
     "name": "stderr",
     "output_type": "stream",
     "text": [
      "/usr/local/anaconda3/lib/python3.6/site-packages/sklearn/preprocessing/label.py:151: DeprecationWarning: The truth value of an empty array is ambiguous. Returning False, but in future this will result in an error. Use `array.size > 0` to check that an array is not empty.\n",
      "  if diff:\n"
     ]
    },
    {
     "data": {
      "text/plain": [
       "0.9538461538461539"
      ]
     },
     "execution_count": 117,
     "metadata": {},
     "output_type": "execute_result"
    }
   ],
   "source": [
    "vt_clf.score(test_feats, test_labels)"
   ]
  },
  {
   "cell_type": "code",
   "execution_count": null,
   "metadata": {},
   "outputs": [],
   "source": []
  },
  {
   "cell_type": "code",
   "execution_count": null,
   "metadata": {},
   "outputs": [],
   "source": []
  }
 ],
 "metadata": {
  "kernelspec": {
   "display_name": "Python 3",
   "language": "python",
   "name": "python3"
  },
  "language_info": {
   "codemirror_mode": {
    "name": "ipython",
    "version": 3
   },
   "file_extension": ".py",
   "mimetype": "text/x-python",
   "name": "python",
   "nbconvert_exporter": "python",
   "pygments_lexer": "ipython3",
   "version": "3.6.4"
  }
 },
 "nbformat": 4,
 "nbformat_minor": 2
}
