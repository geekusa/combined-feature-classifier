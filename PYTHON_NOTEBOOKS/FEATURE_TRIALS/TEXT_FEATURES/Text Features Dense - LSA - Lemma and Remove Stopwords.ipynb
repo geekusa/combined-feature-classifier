{
 "cells": [
  {
   "cell_type": "code",
   "execution_count": 1,
   "metadata": {},
   "outputs": [],
   "source": [
    "import os\n",
    "import email\n",
    "import re\n",
    "import mailparser\n",
    "import random\n",
    "import spacy\n",
    "import string\n",
    "import numpy as np\n",
    "import pandas as pd\n",
    "import matplotlib.pyplot as plt\n",
    "from bs4 import BeautifulSoup\n",
    "from tld import get_tld\n",
    "from time import strftime, strptime, time\n",
    "from sklearn.model_selection import train_test_split\n",
    "from sklearn.decomposition import TruncatedSVD\n",
    "from sklearn.metrics import f1_score, confusion_matrix, roc_curve, auc\n",
    "from itertools import product\n",
    "from sklearn.preprocessing import label_binarize"
   ]
  },
  {
   "cell_type": "markdown",
   "metadata": {},
   "source": [
    "Set constants for directories, take a random sampling of the \"ignore\" email since there are so many (under sample)"
   ]
  },
  {
   "cell_type": "code",
   "execution_count": 2,
   "metadata": {},
   "outputs": [],
   "source": [
    "IGNORE_DIR = '/Users/worshamn/Documents/emailProject/IgnoreFix'\n",
    "INVESTIGATE_DIR = '/Users/worshamn/Documents/emailProject/InvestigateFix'\n",
    "#https://stackoverflow.com/a/6482922\n",
    "random.seed(2482)\n",
    "ignore_sample_index = [ i for i in sorted(random.sample(range(len(os.listdir(IGNORE_DIR))), 400)) ]\n",
    "ignore_sample = []\n",
    "for i in ignore_sample_index:\n",
    "    ignore_sample.append(os.listdir(IGNORE_DIR)[i])\n",
    "input_dirs = {}\n",
    "input_dirs[INVESTIGATE_DIR] = os.listdir(INVESTIGATE_DIR) \n",
    "input_dirs[IGNORE_DIR] = ignore_sample"
   ]
  },
  {
   "cell_type": "code",
   "execution_count": 3,
   "metadata": {
    "scrolled": true
   },
   "outputs": [
    {
     "data": {
      "text/plain": [
       "2"
      ]
     },
     "execution_count": 3,
     "metadata": {},
     "output_type": "execute_result"
    }
   ],
   "source": [
    "len(input_dirs)"
   ]
  },
  {
   "cell_type": "code",
   "execution_count": 4,
   "metadata": {},
   "outputs": [
    {
     "data": {
      "text/plain": [
       "384"
      ]
     },
     "execution_count": 4,
     "metadata": {},
     "output_type": "execute_result"
    }
   ],
   "source": [
    "len(input_dirs[INVESTIGATE_DIR])"
   ]
  },
  {
   "cell_type": "code",
   "execution_count": 5,
   "metadata": {},
   "outputs": [
    {
     "data": {
      "text/plain": [
       "400"
      ]
     },
     "execution_count": 5,
     "metadata": {},
     "output_type": "execute_result"
    }
   ],
   "source": [
    "len(input_dirs[IGNORE_DIR])"
   ]
  },
  {
   "cell_type": "markdown",
   "metadata": {},
   "source": [
    "Build function to extract text and features"
   ]
  },
  {
   "cell_type": "code",
   "execution_count": 6,
   "metadata": {},
   "outputs": [],
   "source": [
    "def get_email_text(file):\n",
    "    d = {}\n",
    "    raw_message = email.message_from_file(file)\n",
    "    mail = mailparser.parse_from_string(raw_message.as_string())\n",
    "    d['subject'] = mail.subject\n",
    "    d['subject_len'] = len(d['subject'])\n",
    "    if raw_message.is_multipart():\n",
    "        d['is_mulitpart'] = 1\n",
    "    else:\n",
    "        d['is_multipart'] = 0\n",
    "    d['body'] = mail.text_plain\n",
    "    if len(d['body']) > 0:\n",
    "        d['mail_text'] = d['subject'] + ' ' + d['body'][0]\n",
    "        d['body_len'] = len(d['body'][0])\n",
    "        if len(d['body']) > 1:\n",
    "            soup_html = BeautifulSoup(d['body'][1],'lxml')\n",
    "            d['links'] = soup_html.find_all('a')\n",
    "            d['num_link'] = len(d['links'])\n",
    "            links = []\n",
    "            d['masq_link'] = []\n",
    "            d['masq_link_tld'] = []\n",
    "            d['num_email_link'] = 0\n",
    "            for link in d['links']:\n",
    "                link_text = link.get_text().rstrip('\\n')\n",
    "                a_link = link.get('href')\n",
    "                links.append(a_link)\n",
    "                if 'unsubscribe' in link_text.lower():\n",
    "                    d['has_unsubscribe_link'] = 1\n",
    "                if a_link:    \n",
    "                    if re.search('mailto:',a_link):\n",
    "                        d['num_email_link'] += 1\n",
    "                if a_link != link_text and \\\n",
    "                    'http' in link_text.lower() and \\\n",
    "                    not 'alt=\"http' in link_text.lower():\n",
    "                        d['masq_link'].append(link)\n",
    "                        d['masq_link_tld'].append(\n",
    "                            get_tld(\n",
    "                                a_link,\n",
    "                                fix_protocol=True, \n",
    "                                fail_silently=True\n",
    "                            )\n",
    "                        )\n",
    "            d['num_uniq_link'] = len(set(links))\n",
    "            if d['num_link'] > d['num_uniq_link']:\n",
    "                d['has_repeatlink'] = 1\n",
    "            else:\n",
    "                d['has_repeatlink'] = 0\n",
    "            if len(d['masq_link']) == 0:\n",
    "                d['masq_link'] = ''\n",
    "                d['masq_link_tld'] = ''\n",
    "                d['has_masq_link'] = 0\n",
    "            else:    \n",
    "                d['has_masq_link'] = 1\n",
    "                d['num_masq_link'] = len(d['masq_link'])\n",
    "    else:\n",
    "        d['mail_text'] = d['subject']\n",
    "        d['body_len'] = len(d['body'])\n",
    "    url_query = '((?:https?|ftp)://[^\\s/$.?#]+\\.[^\\s>]+)'\n",
    "    d['url'] = re.findall(url_query,d['mail_text'])\n",
    "    email_query = '([\\w.]+@[\\w.]+\\.[\\w.]{2,5})'\n",
    "    d['email'] = re.findall(email_query,d['mail_text'])\n",
    "    if d['url']:\n",
    "        d['has_url'] = 1\n",
    "        d['num_url'] = len(d['url'])\n",
    "        d['num_uniq_url'] = len(set(d['url']))\n",
    "        d['num_url_repeats'] = d['num_url'] - d['num_uniq_url']\n",
    "        d['url_len'] = []\n",
    "        d['url_tld'] = []\n",
    "        for i in d['url']:\n",
    "            d['url_len'].append(len(i))\n",
    "            d['url_tld'].append(\n",
    "                get_tld(i, fix_protocol=True, fail_silently=True)\n",
    "            )\n",
    "            d['uniq_url_tld'] = set(d['url_tld'])\n",
    "    else:\n",
    "        d['url'] = ''\n",
    "        d['has_url'] = 0\n",
    "        d['num_url'] = 0\n",
    "        d['num_uniq_url'] = 0\n",
    "        d['url_len'] = 0\n",
    "        d['url_tld'] = 0\n",
    "        d['uniq_url_tld'] = 0\n",
    "        d['num_url_repeats'] = 0\n",
    "    if d['email']:\n",
    "        d['has_email'] = 1\n",
    "        d['num_email_addr'] = len(d['email'])\n",
    "        d['num_uniq_email'] = len(set(d['email']))\n",
    "    else:\n",
    "        d['email'] = ''\n",
    "        d['has_email'] = 0\n",
    "        d['num_email_addr'] = 0\n",
    "        d['num_uniq_email'] = 0\n",
    "    soup = BeautifulSoup(d['mail_text'],'lxml')\n",
    "    try:\n",
    "        d['mail_text'] = soup.get_text().encode(\n",
    "            'utf-8',\n",
    "            'ignore'\n",
    "        ).decode('unicode_escape').replace('\\n',' ').replace('\\t',' ')\n",
    "    except:\n",
    "        d['mail_text'] = soup.get_text().replace('\\n',' ').replace('\\t',' ')\n",
    "    d['reply_to'] = mail.reply_to\n",
    "    for k,v in mail.headers.items():\n",
    "        d[k] = v\n",
    "    d['body'] = mail.body\n",
    "    d['text_plain'] = mail.text_plain\n",
    "    if mail.attachments:\n",
    "        d['has_attachments'] = 1\n",
    "        d['num_attachments'] = len(mail.attachments)\n",
    "        for i in mail.attachments:\n",
    "            try:\n",
    "                d['attachment_filename'].append(i['filename'])\n",
    "            except:\n",
    "                d['attachment_filename'] = []\n",
    "                d['attachment_filename'].append(i['filename'])\n",
    "            try:\n",
    "                d['attachment_content_type'].append(i['mail_content_type'])\n",
    "            except:\n",
    "                d['attachment_content_type'] = []\n",
    "                d['attachment_content_type'].append(i['mail_content_type'])\n",
    "    else:\n",
    "        d['has_attachments'] = 0\n",
    "    if re.search(tryGetKeyValue(d, 'Return-Path'),tryGetKeyValue(d, 'From')):\n",
    "        d['return_path_match_from'] = 1\n",
    "    else:\n",
    "        d['return_path_match_from'] = 0\n",
    "    tld_match = re.match(\n",
    "            '[^@]+@([^>]+)>',\n",
    "            tryGetKeyValue(d, 'From')\n",
    "        )\n",
    "    if tld_match:\n",
    "        d['from_tld'] = get_tld(\n",
    "            tld_match.group(1),\n",
    "            fix_protocol=True, \n",
    "            fail_silently=True\n",
    "        )\n",
    "    if 'content=\"text/html' in d['body'].lower():\n",
    "        d['has_html_content'] = 1\n",
    "    else:\n",
    "        d['has_html_content'] = 0\n",
    "    if 'script type=\"text/javascript' in d['body'].lower():\n",
    "        d['has_javascript'] = 1\n",
    "    else:\n",
    "        d['has_javascript'] = 0\n",
    "    if 'img src=\"cid:' in d['body'].lower():\n",
    "        d['has_inline_img'] = 1\n",
    "    else:\n",
    "        d['has_inline_img'] = 0\n",
    "    if 'Content-type' in d:\n",
    "        d['Content-type'] = re.match('([^;]+);',d['Content-type']).group(1)\n",
    "    else:\n",
    "        d['Content-type'] = None\n",
    "    if 'Date' in d:\n",
    "        #d['DOTW'] = strftime('%a',strptime(d['Date'],'%a, %d %b %Y %H:%M:%S %z'))\n",
    "        d['DOTW'] = strftime('%w',strptime(d['Date'],'%a, %d %b %Y %H:%M:%S %z'))\n",
    "        d['HOTD'] = strftime('%H',strptime(d['Date'],'%a, %d %b %Y %H:%M:%S %z'))\n",
    "    if mail.has_defects:\n",
    "        d['has_defects'] = 1\n",
    "    else:\n",
    "        d['has_defects'] = 0\n",
    "    return d"
   ]
  },
  {
   "cell_type": "markdown",
   "metadata": {},
   "source": [
    "Build function to set the target value based on the directory"
   ]
  },
  {
   "cell_type": "code",
   "execution_count": 7,
   "metadata": {},
   "outputs": [],
   "source": [
    "def get_target(d):\n",
    "    if d == IGNORE_DIR:\n",
    "        return 'ignore'\n",
    "    elif d == INVESTIGATE_DIR:\n",
    "        return 'investigate'"
   ]
  },
  {
   "cell_type": "markdown",
   "metadata": {},
   "source": [
    "Build function to extract value only if the key exists"
   ]
  },
  {
   "cell_type": "code",
   "execution_count": 8,
   "metadata": {},
   "outputs": [],
   "source": [
    "def tryGetKeyValue(d, key, return_value=''):\n",
    "  \"\"\"Attempts to return value of key from dictionary\n",
    "  \"\"\"\n",
    "  try:\n",
    "    return d[key]\n",
    "  except:\n",
    "    return return_value"
   ]
  },
  {
   "cell_type": "markdown",
   "metadata": {},
   "source": [
    "Create dataframe, iterate through directories and add email features"
   ]
  },
  {
   "cell_type": "code",
   "execution_count": 9,
   "metadata": {
    "scrolled": true
   },
   "outputs": [
    {
     "name": "stdout",
     "output_type": "stream",
     "text": [
      "/Users/worshamn/Documents/emailProject/InvestigateFix [Phish Alert] FW- Goodchem Document.eml\n",
      "/Users/worshamn/Documents/emailProject/InvestigateFix [Phish Alert] FW- Validate your Office 365 account.eml\n",
      "/Users/worshamn/Documents/emailProject/InvestigateFix [Phish Alert] FW- INVOICE YAX-80-97157 Tom Jensen.eml\n",
      "/Users/worshamn/Documents/emailProject/InvestigateFix [Phish Alert] FW- Invoice Problem 3.eml\n",
      "/Users/worshamn/Documents/emailProject/InvestigateFix [Phish Alert] FW- Invoice from Karen Laman.eml\n",
      "/Users/worshamn/Documents/emailProject/InvestigateFix [Phish Alert] FW- Case-637290015585-228.eml\n",
      "/Users/worshamn/Documents/emailProject/InvestigateFix [Phish Alert] FW- 7 Past Due Invoices.eml\n",
      "/Users/worshamn/Documents/emailProject/InvestigateFix [Phish Alert] FW- lmportant Message.eml\n",
      "/Users/worshamn/Documents/emailProject/InvestigateFix [Phish Alert] FW- [Spam] Erinnerung an die Rechnungszahlung.eml\n",
      "/Users/worshamn/Documents/emailProject/InvestigateFix [Phish Alert] FW- Re-[1].eml\n",
      "/Users/worshamn/Documents/emailProject/InvestigateFix [Phish Alert] FW- Invoice # 94898 Problem.eml\n",
      "/Users/worshamn/Documents/emailProject/InvestigateFix [Phish Alert] FW- See Attachment.eml\n",
      "/Users/worshamn/Documents/emailProject/InvestigateFix [Phish Alert] FW- Invoice 07.03.18.eml\n",
      "/Users/worshamn/Documents/emailProject/InvestigateFix [Phish Alert] FW- Past Due Invoices.eml\n",
      "/Users/worshamn/Documents/emailProject/InvestigateFix [Phish Alert] FW- [Spam] UPS Delivery Notification, Tracking Number 2MA48028859835621.eml\n",
      "/Users/worshamn/Documents/emailProject/InvestigateFix [Phish Alert] FW- Attached Document.eml\n",
      "/Users/worshamn/Documents/emailProject/InvestigateFix [Phish Alert] FW- [Spam] Tracking Number 8P97353188522018.eml\n",
      "/Users/worshamn/Documents/emailProject/InvestigateFix [Phish Alert] FW- Your UPS Package is Ready.eml\n",
      "/Users/worshamn/Documents/emailProject/InvestigateFix [Phish Alert] FW- Invoice #3776 Message.eml\n",
      "/Users/worshamn/Documents/emailProject/InvestigateFix [Phish Alert] FW- Lastschrift.eml\n",
      "/Users/worshamn/Documents/emailProject/InvestigateFix [Phish Alert] FW- Invoice Problem 2.eml\n",
      "/Users/worshamn/Documents/emailProject/InvestigateFix [Phish Alert] FW- This information will cost much for you.eml\n",
      "/Users/worshamn/Documents/emailProject/InvestigateFix [Phish Alert] FW- Your new Chase payment notice to Daysi Bloethner.eml\n",
      "/Users/worshamn/Documents/emailProject/InvestigateFix [Phish Alert] FW- Happy Coming Year!.eml\n",
      "/Users/worshamn/Documents/emailProject/InvestigateFix [Phish Alert] FW- REVIEW.eml\n",
      "/Users/worshamn/Documents/emailProject/InvestigateFix [Phish Alert] FW- Documeͷt Received - rεf new project. #723916.eml\n",
      "/Users/worshamn/Documents/emailProject/InvestigateFix [Phish Alert] FW- Notification de facture .eml\n",
      "/Users/worshamn/Documents/emailProject/InvestigateFix [Phish Alert] FW- gescanntes Dokument.eml\n",
      "/Users/worshamn/Documents/emailProject/InvestigateFix [Phish Alert] FW- UPS Delivery Notification, Tracking Number 0QR03268961076694.eml\n",
      "/Users/worshamn/Documents/emailProject/InvestigateFix [Phish Alert] FW- Rechnung 10-2017 1065755.eml\n",
      "/Users/worshamn/Documents/emailProject/InvestigateFix [Phish Alert] FW- Case-523537775069-585.eml\n",
      "/Users/worshamn/Documents/emailProject/InvestigateFix [Phish Alert] FW- Past due Invoice 2176478.eml\n",
      "/Users/worshamn/Documents/emailProject/InvestigateFix [Phish Alert] FW- Urgent update the Voucher , to 24-11 , Trip ID 16121868373.eml\n",
      "/Users/worshamn/Documents/emailProject/InvestigateFix [Phish Alert] FW- ACH form.eml\n",
      "/Users/worshamn/Documents/emailProject/InvestigateFix [Phish Alert] FW- Invoice due number 0         .eml\n",
      "/Users/worshamn/Documents/emailProject/InvestigateFix [Phish Alert] FW- NEW QUOTATION.eml\n",
      "/Users/worshamn/Documents/emailProject/InvestigateFix [Phish Alert] FW- Invoice 7350724 reminder.eml\n",
      "/Users/worshamn/Documents/emailProject/InvestigateFix [Phish Alert] FW- Invoice Issue[1].eml\n",
      "/Users/worshamn/Documents/emailProject/InvestigateFix [Phish Alert] FW- Question[1].eml\n",
      "/Users/worshamn/Documents/emailProject/InvestigateFix [Phish Alert] FW- Office  365 Security Upgrade (Do not Ignore).eml\n",
      "/Users/worshamn/Documents/emailProject/InvestigateFix [Phish Alert] FW- Invoice number 403426145 issue Message.eml\n",
      "/Users/worshamn/Documents/emailProject/InvestigateFix [Phish Alert] FW- Your DHL Shipment Parcel Notification.eml\n",
      "/Users/worshamn/Documents/emailProject/InvestigateFix [Phish Alert] FW- Intake Invoice & Contract - FinancialAgreement.pdf.eml\n",
      "/Users/worshamn/Documents/emailProject/InvestigateFix [Phish Alert] FW- Important Notice.eml\n",
      "/Users/worshamn/Documents/emailProject/InvestigateFix [Phish Alert] FW- Tracking Number 0QV56710814707164.eml\n",
      "/Users/worshamn/Documents/emailProject/InvestigateFix [Phish Alert] FW- Voice message from Wireless Caller (360)-474-9405.eml\n",
      "/Users/worshamn/Documents/emailProject/InvestigateFix [Phish Alert] FW- Signed Agreement From- Cindy Rubino, CPA.eml\n",
      "/Users/worshamn/Documents/emailProject/InvestigateFix [Phish Alert] FW- Incoming call from 949-795-1577.eml\n",
      "/Users/worshamn/Documents/emailProject/InvestigateFix [Phish Alert] FW- UPS Express Domestic 2.eml\n",
      "/Users/worshamn/Documents/emailProject/InvestigateFix [Phish Alert] FW- May all your wishes come true this Christmas.eml\n",
      "/Users/worshamn/Documents/emailProject/InvestigateFix [Phish Alert] FW- Your recent payment notification to Oti Herrera.eml\n",
      "/Users/worshamn/Documents/emailProject/InvestigateFix [Phish Alert] FW- Payment with a new   address.eml\n",
      "/Users/worshamn/Documents/emailProject/InvestigateFix [Phish Alert] FW- Your document Receipt 36276 for jennifer.loucks is ready for signature!.eml\n",
      "/Users/worshamn/Documents/emailProject/InvestigateFix [Phish Alert] FW- Su estado de cuenta mensual ya está disponible para su revisión.eml\n",
      "/Users/worshamn/Documents/emailProject/InvestigateFix [Phish Alert] FW- Invoice due, number 3661471-XSIW#RLXB-2017 (15 Nov 17).eml\n",
      "/Users/worshamn/Documents/emailProject/InvestigateFix [Phish Alert] FW- Past Due Invoices 2.eml\n",
      "/Users/worshamn/Documents/emailProject/InvestigateFix [Phish Alert] FW- [Spam] Email Account Closure Alert!!  2018-04-05  07-53-11.eml\n",
      "/Users/worshamn/Documents/emailProject/InvestigateFix [Phish Alert] FW- Statement from  jeff@wiainsurance.com.eml\n",
      "/Users/worshamn/Documents/emailProject/InvestigateFix [Phish Alert] FW- UPS Ship Notification, Tracking Number 6MS71996919975781.eml\n",
      "/Users/worshamn/Documents/emailProject/InvestigateFix [Phish Alert] FW- New Documents Survey For Your Review.eml\n",
      "/Users/worshamn/Documents/emailProject/InvestigateFix [Phish Alert] FW- FWD rhonda.isham.eml\n",
      "/Users/worshamn/Documents/emailProject/InvestigateFix [Phish Alert] FW- Payment email from Sighted.eml\n",
      "/Users/worshamn/Documents/emailProject/InvestigateFix [Phish Alert] FW- iPhone X pre-order.eml\n",
      "/Users/worshamn/Documents/emailProject/InvestigateFix [Phish Alert] FW- Hi,.eml\n",
      "/Users/worshamn/Documents/emailProject/InvestigateFix [Phish Alert] FW- [Spam] Agreement document for david.wilbanks@pinnacol.com.eml\n",
      "/Users/worshamn/Documents/emailProject/InvestigateFix [Phish Alert] FW- Verification Notice.eml\n",
      "/Users/worshamn/Documents/emailProject/InvestigateFix [Phish Alert] FW- Invoice notification from Sighted Invoices.eml\n",
      "/Users/worshamn/Documents/emailProject/InvestigateFix [Phish Alert] FW- #9947976789 Invoice secondary Notice.eml\n",
      "/Users/worshamn/Documents/emailProject/InvestigateFix [Phish Alert] FW- SPECIAL NOTICE.eml\n",
      "/Users/worshamn/Documents/emailProject/InvestigateFix [Phish Alert] FW- Client- 44, Oct 2017 Invoice.eml\n",
      "/Users/worshamn/Documents/emailProject/InvestigateFix [Phish Alert] FW- Re - [ Update Subscription Payment ] Your subscription payment is indicative of fraud [ Status Paid] 30 May 2018.eml\n",
      "/Users/worshamn/Documents/emailProject/InvestigateFix [Phish Alert] FW- Urgent Doc[1].eml\n",
      "/Users/worshamn/Documents/emailProject/InvestigateFix [Phish Alert] FW- Re-FYI.eml\n",
      "/Users/worshamn/Documents/emailProject/InvestigateFix [Phish Alert] FW- UPS Ship Notification, Tracking Number 9OM11956415932320.eml\n",
      "/Users/worshamn/Documents/emailProject/InvestigateFix [Phish Alert] FW- Your сolleсtion is very interesting.eml\n",
      "/Users/worshamn/Documents/emailProject/InvestigateFix [Phish Alert] FW- [Spam] Your recent Bankofamerica payment notification to Jennifer Loucks.eml\n",
      "/Users/worshamn/Documents/emailProject/InvestigateFix [Phish Alert] FW- RE-Request.eml\n",
      "/Users/worshamn/Documents/emailProject/InvestigateFix [Phish Alert] FW- Wire Transfer.eml\n",
      "/Users/worshamn/Documents/emailProject/InvestigateFix [Phish Alert] FW- Invoice for l-a 02-22-2018.eml\n",
      "/Users/worshamn/Documents/emailProject/InvestigateFix [Phish Alert] FW- Wish you a Merry Christmas!.eml\n",
      "/Users/worshamn/Documents/emailProject/InvestigateFix [Phish Alert] FW- Have a wonderful Christmas and a joyous New Year!.eml\n",
      "/Users/worshamn/Documents/emailProject/InvestigateFix [Phish Alert] FW- CUST. OBD-66-41275 Rodney Cole.eml\n",
      "/Users/worshamn/Documents/emailProject/InvestigateFix [Phish Alert] FW- Pat due invoice notification.eml\n",
      "/Users/worshamn/Documents/emailProject/InvestigateFix [Phish Alert] FW- Completed- Please DocuSign these documents.eml\n",
      "/Users/worshamn/Documents/emailProject/InvestigateFix [Phish Alert] FW- Invoice number 22028027-LFYJ#WDBB-2017 (27 Nov 17) Notification.eml\n",
      "/Users/worshamn/Documents/emailProject/InvestigateFix [Phish Alert] FW- Inbound- 5 new.eml\n",
      "/Users/worshamn/Documents/emailProject/InvestigateFix [Phish Alert] FW- Past due invoice .eml\n",
      "/Users/worshamn/Documents/emailProject/InvestigateFix [Phish Alert] FW- Invoice # 530522431 Problem.eml\n",
      "/Users/worshamn/Documents/emailProject/InvestigateFix [Phish Alert] FW- UPS Ship Notification, Tracking Number 2U51525393363758.eml\n",
      "/Users/worshamn/Documents/emailProject/InvestigateFix [Phish Alert] FW- Newly signed Project invitation - please view proposal-.eml\n",
      "/Users/worshamn/Documents/emailProject/InvestigateFix [Phish Alert] FW- Your document is signed.eml\n",
      "/Users/worshamn/Documents/emailProject/InvestigateFix [Phish Alert] FW- Fax Received- CSID- K7V 6B3 1910 CID- 90643249844.eml\n",
      "/Users/worshamn/Documents/emailProject/InvestigateFix [Phish Alert] FW- Preview Secured Message!.eml\n",
      "/Users/worshamn/Documents/emailProject/InvestigateFix [Phish Alert] FW- Syncing Error - (4) Incoming failed mails..eml\n",
      "/Users/worshamn/Documents/emailProject/InvestigateFix [Phish Alert] FW- _INV#00044901.eml\n",
      "/Users/worshamn/Documents/emailProject/InvestigateFix [Phish Alert] FW- Delivery complete for parcel # 30726375.eml\n"
     ]
    },
    {
     "name": "stdout",
     "output_type": "stream",
     "text": [
      "/Users/worshamn/Documents/emailProject/InvestigateFix [Phish Alert] FW- Hope all your Christmas dreams come true!.eml\n",
      "/Users/worshamn/Documents/emailProject/InvestigateFix [Phish Alert] FW- Payment issue 2.eml\n",
      "/Users/worshamn/Documents/emailProject/InvestigateFix [Phish Alert] FW- UPS Ship Notification, Tracking Number 0RRN19486604712021.eml\n",
      "/Users/worshamn/Documents/emailProject/InvestigateFix [Phish Alert] FW- Voice message from WIRELESS CALLER +1 718-963-4062).eml\n",
      "/Users/worshamn/Documents/emailProject/InvestigateFix [Phish Alert] FW- Ren Hart used Dropbox to share a folder with you.eml\n",
      "/Users/worshamn/Documents/emailProject/InvestigateFix [Phish Alert] FW- Paypal Receipt.eml\n",
      "/Users/worshamn/Documents/emailProject/InvestigateFix [Phish Alert] FW- kantonena@mediastrom.gr has shared a document on SharePoint Online..eml\n",
      "/Users/worshamn/Documents/emailProject/InvestigateFix [Phish Alert] FW- Proposal - Kuhn Construction .eml\n",
      "/Users/worshamn/Documents/emailProject/InvestigateFix [Phish Alert] FW- My Email.eml\n",
      "/Users/worshamn/Documents/emailProject/InvestigateFix [Phish Alert] FW- ACCOUNT#54423751-Linda Grivich.eml\n",
      "/Users/worshamn/Documents/emailProject/InvestigateFix [Phish Alert] FW- Prisicla Flores Virus at your device ID qTq6G.eml\n",
      "/Users/worshamn/Documents/emailProject/InvestigateFix [Phish Alert] FW- Invoice[3].eml\n",
      "/Users/worshamn/Documents/emailProject/InvestigateFix [Phish Alert] FW- Re-[1] 2.eml\n",
      "/Users/worshamn/Documents/emailProject/InvestigateFix [Phish Alert] FW- secure- Attached Image.eml\n",
      "/Users/worshamn/Documents/emailProject/InvestigateFix [Phish Alert] FW- Management Update.eml\n",
      "/Users/worshamn/Documents/emailProject/InvestigateFix [Phish Alert] FW- Incriminating content ID FCi2YElU....eml\n",
      "/Users/worshamn/Documents/emailProject/InvestigateFix [Phish Alert] FW- Front Range Telecom, LLC IMG_ PO 12042017.eml\n",
      "/Users/worshamn/Documents/emailProject/InvestigateFix [Phish Alert] FW- -𝐈𝐦𝐩𝐨𝐫𝐭𝐚𝐧𝐭 𝐒̇𝐞𝐜𝐮𝐫𝐢𝐭𝐲 𝐭𝐨 𝐲𝐨𝐮𝐫 𝐀̉𝐜𝐜𝐨𝐮𝐧𝐭❗.eml\n",
      "/Users/worshamn/Documents/emailProject/InvestigateFix [Phish Alert] FW- PR.eml\n",
      "/Users/worshamn/Documents/emailProject/InvestigateFix [Phish Alert] FW- C2c-443655.eml\n",
      "/Users/worshamn/Documents/emailProject/InvestigateFix [Phish Alert] FW- Invoice Number 235864.eml\n",
      "/Users/worshamn/Documents/emailProject/InvestigateFix [Phish Alert] FW- Signed Agreement From- The Leyden Group.eml\n",
      "/Users/worshamn/Documents/emailProject/InvestigateFix [Phish Alert] FW- Do you need to generate more engagement on social media.eml\n",
      "/Users/worshamn/Documents/emailProject/InvestigateFix [Phish Alert] FW- Radianlightingservices Review..eml\n",
      "/Users/worshamn/Documents/emailProject/InvestigateFix [Phish Alert] FW- Proposal.eml\n",
      "/Users/worshamn/Documents/emailProject/InvestigateFix [Phish Alert] FW- Payment and address..eml\n",
      "/Users/worshamn/Documents/emailProject/InvestigateFix [Phish Alert] FW- Invoice# 5410331.eml\n",
      "/Users/worshamn/Documents/emailProject/InvestigateFix [Phish Alert] FW- FYI.eml\n",
      "/Users/worshamn/Documents/emailProject/InvestigateFix [Phish Alert] FW- Re-[7].eml\n",
      "/Users/worshamn/Documents/emailProject/InvestigateFix [Phish Alert] FW- The document.eml\n",
      "/Users/worshamn/Documents/emailProject/InvestigateFix [Phish Alert] FW- UPS Ship Notification, Tracking Number 8L98420888229798.eml\n",
      "/Users/worshamn/Documents/emailProject/InvestigateFix [Phish Alert] FW- Fay.eml\n",
      "/Users/worshamn/Documents/emailProject/InvestigateFix [Phish Alert] FW- A New DocuSign Message From Stephanie Murphy..eml\n",
      "/Users/worshamn/Documents/emailProject/InvestigateFix [Phish Alert] FW- You have a new Encrypted Document.eml\n",
      "/Users/worshamn/Documents/emailProject/InvestigateFix [Phish Alert] FW- PAC Invoice CD99133732.eml\n",
      "/Users/worshamn/Documents/emailProject/InvestigateFix [Phish Alert] FW- invoices 66044 & 4252.eml\n",
      "/Users/worshamn/Documents/emailProject/InvestigateFix [Phish Alert] FW- New payment notification.eml\n",
      "/Users/worshamn/Documents/emailProject/InvestigateFix [Phish Alert] FW- FinWise Bank-4-06-2018.eml\n",
      "/Users/worshamn/Documents/emailProject/InvestigateFix [Phish Alert] FW- Latest invoice with a new address to update.eml\n",
      "/Users/worshamn/Documents/emailProject/InvestigateFix [Phish Alert] FW- Please send copy invoice.eml\n",
      "/Users/worshamn/Documents/emailProject/InvestigateFix [Phish Alert] FW- UPS Ship Notification, Tracking Number 8PEO80268803644920.eml\n",
      "/Users/worshamn/Documents/emailProject/InvestigateFix [Phish Alert] FW- Invoice 265720 from Don Losasso.eml\n",
      "/Users/worshamn/Documents/emailProject/InvestigateFix [Phish Alert] FW- A New DocuSign Message From David D. Robinson..eml\n",
      "/Users/worshamn/Documents/emailProject/InvestigateFix [Phish Alert] FW- new message.eml\n",
      "/Users/worshamn/Documents/emailProject/InvestigateFix [Phish Alert] FW- Hansen Construction,Inc-02-20-2018.eml\n",
      "/Users/worshamn/Documents/emailProject/InvestigateFix [Phish Alert] FW- Latest payment.eml\n",
      "/Users/worshamn/Documents/emailProject/InvestigateFix [Phish Alert] FW- You have new Google Doc message.eml\n",
      "/Users/worshamn/Documents/emailProject/InvestigateFix [Phish Alert] FW- Nanci Sweet shared Dropbox file with you.eml\n",
      "/Users/worshamn/Documents/emailProject/InvestigateFix [Phish Alert] FW- AccuSystems LLC Report.eml\n",
      "/Users/worshamn/Documents/emailProject/InvestigateFix [Phish Alert] FW- Confidential- FYI.eml\n",
      "/Users/worshamn/Documents/emailProject/InvestigateFix [Phish Alert] FW- Remittance #49170.eml\n",
      "/Users/worshamn/Documents/emailProject/InvestigateFix [Phish Alert] FW- FWD tom.peters.eml\n",
      "/Users/worshamn/Documents/emailProject/InvestigateFix [Phish Alert] FW- Acknowledgement KNF-82-02981 Linda Grivich.eml\n",
      "/Users/worshamn/Documents/emailProject/InvestigateFix [Phish Alert] FW- Payment Remittance Advice.eml\n",
      "/Users/worshamn/Documents/emailProject/InvestigateFix [Phish Alert] FW- Address Update.eml\n",
      "/Users/worshamn/Documents/emailProject/InvestigateFix [Phish Alert] FW- Re-[6].eml\n",
      "/Users/worshamn/Documents/emailProject/InvestigateFix [Phish Alert] FW- Invoice number 46824477441 second Notification.eml\n",
      "/Users/worshamn/Documents/emailProject/InvestigateFix [Phish Alert] FW- Your files were sent successfully to dgassaway@johnson.motosnap.com and 97 others.eml\n",
      "/Users/worshamn/Documents/emailProject/InvestigateFix [Phish Alert] FW- Case-079964727249-439.eml\n",
      "/Users/worshamn/Documents/emailProject/InvestigateFix [Phish Alert] FW- .eml\n",
      "/Users/worshamn/Documents/emailProject/InvestigateFix [Phish Alert] FW- Re-.eml\n",
      "/Users/worshamn/Documents/emailProject/InvestigateFix [Phish Alert] FW- IMPORTANT document [1].eml\n",
      "/Users/worshamn/Documents/emailProject/InvestigateFix [Phish Alert] FW- Payment[1].eml\n",
      "/Users/worshamn/Documents/emailProject/InvestigateFix [Phish Alert] FW- Sales Receipt from Graciela Nevarez .eml\n",
      "/Users/worshamn/Documents/emailProject/InvestigateFix [Phish Alert] FW- Kristi Hada INV #246792 FOR PO #1954738885.eml\n",
      "/Users/worshamn/Documents/emailProject/InvestigateFix [Phish Alert] FW- Transfer Done.eml\n",
      "/Users/worshamn/Documents/emailProject/InvestigateFix [Phish Alert] FW- I shared INVOICE OVERDUE.docx with you in OneDrive.eml\n",
      "/Users/worshamn/Documents/emailProject/InvestigateFix [Phish Alert] FW- [EXT] Payment status.eml\n",
      "/Users/worshamn/Documents/emailProject/InvestigateFix [Phish Alert] FW- Payment to .eml\n",
      "/Users/worshamn/Documents/emailProject/InvestigateFix [Phish Alert] FW- Invoice- 0955202-QXI#KPI-2017 (28 Nov 17).eml\n",
      "/Users/worshamn/Documents/emailProject/InvestigateFix [Phish Alert] FW- IMPORTANT - William Olberding  Invitation to view..eml\n",
      "/Users/worshamn/Documents/emailProject/InvestigateFix [Phish Alert] FW- Payment.eml\n",
      "/Users/worshamn/Documents/emailProject/InvestigateFix [Phish Alert] FW- Scanned document received from Dropbox User.eml\n",
      "/Users/worshamn/Documents/emailProject/InvestigateFix [Phish Alert] FW- Rechnung IIS - 637-LMK2956  .eml\n",
      "/Users/worshamn/Documents/emailProject/InvestigateFix [Phish Alert] FW- Invoice[2].eml\n",
      "/Users/worshamn/Documents/emailProject/InvestigateFix [Phish Alert] FW- thy.nguyen@pinnacol.com Be careful! malicious software ID a5iQmYe1e.eml\n",
      "/Users/worshamn/Documents/emailProject/InvestigateFix [Phish Alert] FW- Your new Chase payment notice.eml\n",
      "/Users/worshamn/Documents/emailProject/InvestigateFix [Phish Alert] FW- PAYMENT EAA-90-22623  .eml\n",
      "/Users/worshamn/Documents/emailProject/InvestigateFix [Phish Alert] FW- ICBC Payment Remittance.eml\n",
      "/Users/worshamn/Documents/emailProject/InvestigateFix [Phish Alert] FW- File shared 11-21-2017 on behalf of Kim Willoughby.eml\n",
      "/Users/worshamn/Documents/emailProject/InvestigateFix [Phish Alert] FW- Wrong Invoice   Address.eml\n",
      "/Users/worshamn/Documents/emailProject/InvestigateFix [Phish Alert] FW- Scanned Document - (Past due Invoice-083821.Pdf & Contract_Agreements.PDF).eml\n"
     ]
    },
    {
     "name": "stdout",
     "output_type": "stream",
     "text": [
      "/Users/worshamn/Documents/emailProject/InvestigateFix [Phish Alert] FW- [SPAM] New payment notification.eml\n",
      "/Users/worshamn/Documents/emailProject/InvestigateFix [Phish Alert] FW- UPS Shipment Notification[2].eml\n",
      "/Users/worshamn/Documents/emailProject/InvestigateFix [Phish Alert] FW- Division6.4 LLC share a document Via DOCUSIGN.eml\n",
      "/Users/worshamn/Documents/emailProject/InvestigateFix [Phish Alert] FW- Office 365 Suspension.eml\n",
      "/Users/worshamn/Documents/emailProject/InvestigateFix [Phish Alert] FW- Past due Invoice 694630161.eml\n",
      "/Users/worshamn/Documents/emailProject/InvestigateFix [Phish Alert] FW- Rechnung 11-2017 913773856.eml\n",
      "/Users/worshamn/Documents/emailProject/InvestigateFix [Phish Alert] FW- WeI have a footage of you milking your dog, you will be excited.eml\n",
      "/Users/worshamn/Documents/emailProject/InvestigateFix [Phish Alert] FW- Recognition Concepts Contract.eml\n",
      "/Users/worshamn/Documents/emailProject/InvestigateFix [Phish Alert] FW- You Have Received New Invoice Document.eml\n",
      "/Users/worshamn/Documents/emailProject/InvestigateFix [Phish Alert] FW- Office-365 Team.eml\n",
      "/Users/worshamn/Documents/emailProject/InvestigateFix [Phish Alert] FW- Invoice reminder.eml\n",
      "/Users/worshamn/Documents/emailProject/InvestigateFix [Phish Alert] FW- DHL-Delivery-Order Order Total 67868.45$ G#34769 Sub-Confirmation #February 26, 2018, .eml\n",
      "/Users/worshamn/Documents/emailProject/InvestigateFix [Phish Alert] FW- Rechnungs-Details.eml\n",
      "/Users/worshamn/Documents/emailProject/InvestigateFix [Phish Alert] FW- pinnacol.com accounting statements.eml\n",
      "/Users/worshamn/Documents/emailProject/InvestigateFix [Phish Alert] FW- Request.eml\n",
      "/Users/worshamn/Documents/emailProject/InvestigateFix [Phish Alert] FW- Urgent Review.eml\n",
      "/Users/worshamn/Documents/emailProject/InvestigateFix [Phish Alert] FW- Hada, Kristi invoice is available.eml\n",
      "/Users/worshamn/Documents/emailProject/InvestigateFix [Phish Alert] FW- HDaero - Review File For Our New Project.eml\n",
      "/Users/worshamn/Documents/emailProject/InvestigateFix [Phish Alert] FW- (Thread-1740264).eml\n",
      "/Users/worshamn/Documents/emailProject/InvestigateFix [Phish Alert] FW- UPS Ship Notification, Tracking Number 5WQ11330612397664.eml\n",
      "/Users/worshamn/Documents/emailProject/InvestigateFix [Phish Alert] FW- 28-09HSBC Confirmation slip.eml\n",
      "/Users/worshamn/Documents/emailProject/InvestigateFix [Phish Alert] FW- Andy Jessen Paypal Receipt.eml\n",
      "/Users/worshamn/Documents/emailProject/InvestigateFix [Phish Alert] FW- INVOICE STATUS.eml\n",
      "/Users/worshamn/Documents/emailProject/InvestigateFix [Phish Alert] FW- Scan 62894016185 Loni Bennett.eml\n",
      "/Users/worshamn/Documents/emailProject/InvestigateFix [Phish Alert] FW- Statement from  andy.j@pateconcreteinc.com.eml\n",
      "/Users/worshamn/Documents/emailProject/InvestigateFix [Phish Alert] FW- Please Review Listing.eml\n",
      "/Users/worshamn/Documents/emailProject/InvestigateFix [Phish Alert] FW- All the best in Coming Year!.eml\n",
      "/Users/worshamn/Documents/emailProject/InvestigateFix [Phish Alert] FW- Validate Your LinkedIn Account.eml\n",
      "/Users/worshamn/Documents/emailProject/InvestigateFix [Phish Alert] FW- Payment problem.eml\n",
      "/Users/worshamn/Documents/emailProject/InvestigateFix [Phish Alert] FW- Address and payment info.eml\n",
      "/Users/worshamn/Documents/emailProject/InvestigateFix [Phish Alert] FW- Invoice[1].eml\n",
      "/Users/worshamn/Documents/emailProject/InvestigateFix [Phish Alert] FW- Payment on Invoices CI-02-65736 .eml\n",
      "/Users/worshamn/Documents/emailProject/InvestigateFix [Phish Alert] FW- Wire transfer info.eml\n",
      "/Users/worshamn/Documents/emailProject/InvestigateFix [Phish Alert] FW- UPS Shipment Notification[1].eml\n",
      "/Users/worshamn/Documents/emailProject/InvestigateFix [Phish Alert] FW- Jim sent you an Important message.eml\n",
      "/Users/worshamn/Documents/emailProject/InvestigateFix [Phish Alert] FW- Payment issue.eml\n",
      "/Users/worshamn/Documents/emailProject/InvestigateFix [Phish Alert] FW- INVOICE # YH-0808896175601.eml\n",
      "/Users/worshamn/Documents/emailProject/InvestigateFix [Phish Alert] FW- Email.eml\n",
      "/Users/worshamn/Documents/emailProject/InvestigateFix [Phish Alert] FW- Kami Thompson Receipt.eml\n",
      "/Users/worshamn/Documents/emailProject/InvestigateFix [Phish Alert] FW- Pending Invoice.eml\n",
      "/Users/worshamn/Documents/emailProject/InvestigateFix [Phish Alert] FW- Ihre Rechnung von .eml\n",
      "/Users/worshamn/Documents/emailProject/InvestigateFix [Phish Alert] FW- FW- bill for september.eml\n",
      "/Users/worshamn/Documents/emailProject/InvestigateFix [Phish Alert] FW- ORDER. NX-20-05020 Linda Grivich.eml\n",
      "/Users/worshamn/Documents/emailProject/InvestigateFix [Phish Alert] FW- Customer Invoice NK 11156054.eml\n",
      "/Users/worshamn/Documents/emailProject/InvestigateFix [Phish Alert] FW- DHL Express Domestic. Monday, 11-00-19-00 EST..eml\n",
      "/Users/worshamn/Documents/emailProject/InvestigateFix [Phish Alert] FW- Outstanding INVOICE NZMRE-267470-146 .eml\n",
      "/Users/worshamn/Documents/emailProject/InvestigateFix [Phish Alert] FW- Silambarasan A Paypal Receipt Notification.eml\n",
      "/Users/worshamn/Documents/emailProject/InvestigateFix [Phish Alert] FW- Invoice.eml\n",
      "/Users/worshamn/Documents/emailProject/InvestigateFix [Phish Alert] FW- UPS Invoice Notification.eml\n",
      "/Users/worshamn/Documents/emailProject/InvestigateFix [Phish Alert] FW- Tracking Number 5LI41205953805527.eml\n",
      "/Users/worshamn/Documents/emailProject/InvestigateFix [Phish Alert] FW- Invoice #06887914181.eml\n",
      "/Users/worshamn/Documents/emailProject/InvestigateFix [Phish Alert] FW- Email Account Closure Alert!!  2018-04-05  07-54-25.eml\n",
      "/Users/worshamn/Documents/emailProject/InvestigateFix [Phish Alert] FW- Invoice Confirmation 8154967.eml\n",
      "/Users/worshamn/Documents/emailProject/InvestigateFix [Phish Alert] FW- Hi.eml\n",
      "/Users/worshamn/Documents/emailProject/InvestigateFix [Phish Alert] FW- Hector Vance.eml\n",
      "/Users/worshamn/Documents/emailProject/InvestigateFix [Phish Alert] FW- REMITTANCE ADVICE.eml\n",
      "/Users/worshamn/Documents/emailProject/InvestigateFix [Phish Alert] FW- Auditor of State - Notification of EFT Deposit.eml\n",
      "/Users/worshamn/Documents/emailProject/InvestigateFix [Phish Alert] FW- Re-[5].eml\n",
      "/Users/worshamn/Documents/emailProject/InvestigateFix [Phish Alert] FW- Great Holidays!.eml\n",
      "/Users/worshamn/Documents/emailProject/InvestigateFix [Phish Alert] FW- lsauer@legacyhc.com Sent you files via WeTransfer.eml\n",
      "/Users/worshamn/Documents/emailProject/InvestigateFix [Phish Alert] FW- Re amy.newton.eml\n",
      "/Users/worshamn/Documents/emailProject/InvestigateFix [Phish Alert] FW- RE- subpoena.eml\n",
      "/Users/worshamn/Documents/emailProject/InvestigateFix [Phish Alert] FW- Failed invoice notice.eml\n",
      "/Users/worshamn/Documents/emailProject/InvestigateFix [Phish Alert] FW- Outstanding INVOICE HXUSF-758522-9750.eml\n",
      "/Users/worshamn/Documents/emailProject/InvestigateFix [Phish Alert] FW- Invoice Corrections for #93-56.eml\n",
      "/Users/worshamn/Documents/emailProject/InvestigateFix [Phish Alert] FW- [Spam] UPS Delivery Notification, Tracking Number 1Z9R140W0358552191.eml\n",
      "/Users/worshamn/Documents/emailProject/InvestigateFix [Phish Alert] FW- ACTION REQUIRED.eml\n",
      "/Users/worshamn/Documents/emailProject/InvestigateFix [Phish Alert] FW- UPS Invoice Notification[1].eml\n",
      "/Users/worshamn/Documents/emailProject/InvestigateFix [Phish Alert] FW- Review Document.eml\n",
      "/Users/worshamn/Documents/emailProject/InvestigateFix [Phish Alert] FW- loni.bennett.eml\n",
      "/Users/worshamn/Documents/emailProject/InvestigateFix [Phish Alert] FW- Important document notice..eml\n",
      "/Users/worshamn/Documents/emailProject/InvestigateFix [Phish Alert] FW- Molly Lockhart shared a file with you.eml\n",
      "/Users/worshamn/Documents/emailProject/InvestigateFix [Phish Alert] FW- Invoices Overdue.eml\n",
      "/Users/worshamn/Documents/emailProject/InvestigateFix [Phish Alert] FW- Autumn Hernandez.eml\n",
      "/Users/worshamn/Documents/emailProject/InvestigateFix [Phish Alert] FW- Unable to process disbursement due to missing bank account information.eml\n",
      "/Users/worshamn/Documents/emailProject/InvestigateFix [Phish Alert] FW- Re-[4].eml\n",
      "/Users/worshamn/Documents/emailProject/InvestigateFix [Phish Alert] FW- Contract Agreement-Investment Forecast.eml\n",
      "/Users/worshamn/Documents/emailProject/InvestigateFix [Phish Alert] FW- Information.eml\n",
      "/Users/worshamn/Documents/emailProject/InvestigateFix [Phish Alert] FW- PayPal Reminder.eml\n",
      "/Users/worshamn/Documents/emailProject/InvestigateFix [Phish Alert] FW- Tracking Number 5OX66928867835423.eml\n",
      "/Users/worshamn/Documents/emailProject/InvestigateFix [Phish Alert] FW- INVOICE STATUS[1].eml\n",
      "/Users/worshamn/Documents/emailProject/InvestigateFix [Phish Alert] FW- Explicit Content- For men over 30 ONLY!.eml\n",
      "/Users/worshamn/Documents/emailProject/InvestigateFix [Phish Alert] FW- The amount of your's fee for confirmation.eml\n",
      "/Users/worshamn/Documents/emailProject/InvestigateFix [Phish Alert] FW- Invoice Problem.eml\n",
      "/Users/worshamn/Documents/emailProject/InvestigateFix [Phish Alert] FW- Business Opportunity.eml\n",
      "/Users/worshamn/Documents/emailProject/InvestigateFix [Phish Alert] FW- Case-46199316665-157.eml\n",
      "/Users/worshamn/Documents/emailProject/InvestigateFix [Phish Alert] FW- New Document.eml\n"
     ]
    },
    {
     "name": "stdout",
     "output_type": "stream",
     "text": [
      "/Users/worshamn/Documents/emailProject/InvestigateFix [Phish Alert] FW- Payment notice for invoice #1647302.eml\n",
      "/Users/worshamn/Documents/emailProject/InvestigateFix [Phish Alert] FW- Recent payment notification to Carol Rusten.eml\n",
      "/Users/worshamn/Documents/emailProject/InvestigateFix [Phish Alert] FW- UPS Express Domestic.eml\n",
      "/Users/worshamn/Documents/emailProject/InvestigateFix [Phish Alert] FW- Yоu hаvе thе tаlеnt tо роsе fоr thе саmеrа, dоn't bе nеrvоus..eml\n",
      "/Users/worshamn/Documents/emailProject/InvestigateFix [Phish Alert] FW- Coseco Invoice IR1-52583.eml\n",
      "/Users/worshamn/Documents/emailProject/InvestigateFix [Phish Alert] FW- IMPORTANT MAIL.eml\n",
      "/Users/worshamn/Documents/emailProject/InvestigateFix [Phish Alert] FW- Pay Invoice.eml\n",
      "/Users/worshamn/Documents/emailProject/InvestigateFix [Phish Alert] FW- Invoice #9066829 from Lori Whitesides.eml\n",
      "/Users/worshamn/Documents/emailProject/InvestigateFix [Phish Alert] FW- [Spam] IMPORTANT - William Olberding  Invitation to view..eml\n",
      "/Users/worshamn/Documents/emailProject/InvestigateFix [Phish Alert] FW- Ref Confidential- РDF-#Invoice-501151354-0001..eml\n",
      "/Users/worshamn/Documents/emailProject/InvestigateFix [Phish Alert] FW- Emailing2018-04-17-4dfb-4c20-8d32-cw58eb31eda6.eml\n",
      "/Users/worshamn/Documents/emailProject/InvestigateFix [Phish Alert] FW- May Service and Support Invoice.eml\n",
      "/Users/worshamn/Documents/emailProject/InvestigateFix [Phish Alert] FW- Problem with an invoice.eml\n",
      "/Users/worshamn/Documents/emailProject/InvestigateFix [Phish Alert] FW- Invoice #33283473-IJD#ALONQ-2017 (14 Nov 17).eml\n",
      "/Users/worshamn/Documents/emailProject/InvestigateFix [Phish Alert] FW- [Spam] 907-64-653485-982-907-64-653485-891.eml\n",
      "/Users/worshamn/Documents/emailProject/InvestigateFix [Phish Alert] FW- Updated Invitation 2018.eml\n",
      "/Users/worshamn/Documents/emailProject/InvestigateFix [Phish Alert] FW- Invoice #46816850.eml\n",
      "/Users/worshamn/Documents/emailProject/InvestigateFix [Phish Alert] FW- [Spam] Seperate Remittance Advice Layout - paper document A4.eml\n",
      "/Users/worshamn/Documents/emailProject/InvestigateFix [Phish Alert] FW- Direct Deposit Notice.eml\n",
      "/Users/worshamn/Documents/emailProject/InvestigateFix [Phish Alert] FW- Emailing- P657781GU 92719, Y467682AU 549856, N05928QT 926645, N44728DR 92572, R761865ER 288999.eml\n",
      "/Users/worshamn/Documents/emailProject/InvestigateFix [Phish Alert] FW- Invoice #156870-FUO#NRKCZ-2017 (DATE-21 Sep 17) Message.eml\n",
      "/Users/worshamn/Documents/emailProject/InvestigateFix [Phish Alert] FW- Your mailbox kathy.kranz@pinnacol.com.eml\n",
      "/Users/worshamn/Documents/emailProject/InvestigateFix [Phish Alert] FW- Zunge abgeschnitten hatte durch den furchtbaren Schreck den sie nie.eml\n",
      "/Users/worshamn/Documents/emailProject/InvestigateFix [Phish Alert] FW- UPS Ship Notification, Tracking Number 1TN11665379600151.eml\n",
      "/Users/worshamn/Documents/emailProject/InvestigateFix [Phish Alert] FW- Terrible.eml\n",
      "/Users/worshamn/Documents/emailProject/InvestigateFix [Phish Alert] FW- Clementine Gray.eml\n",
      "/Users/worshamn/Documents/emailProject/InvestigateFix [Phish Alert] FW- Jenny Kagarise  - Inv. 5599323445.eml\n",
      "/Users/worshamn/Documents/emailProject/InvestigateFix [Phish Alert] FW- Invoice- 998458487-DWQX#QYQ-2017 (17 Nov 17).eml\n",
      "/Users/worshamn/Documents/emailProject/InvestigateFix [Phish Alert] FW- 615835563.eml\n",
      "/Users/worshamn/Documents/emailProject/InvestigateFix [Phish Alert] FW- CMCA- Please Review.eml\n",
      "/Users/worshamn/Documents/emailProject/InvestigateFix [Phish Alert] FW- Новости магазина.eml\n",
      "/Users/worshamn/Documents/emailProject/InvestigateFix [Phish Alert] FW- Settlement Statement.eml\n",
      "/Users/worshamn/Documents/emailProject/InvestigateFix [Phish Alert] FW- Reconstructcolorado-01-19-2018.eml\n",
      "/Users/worshamn/Documents/emailProject/InvestigateFix [Phish Alert] FW- New Address.eml\n",
      "/Users/worshamn/Documents/emailProject/InvestigateFix [Phish Alert] FW- Re-[3].eml\n",
      "/Users/worshamn/Documents/emailProject/InvestigateFix [Phish Alert] FW- Invoice issue.eml\n",
      "/Users/worshamn/Documents/emailProject/InvestigateFix [Phish Alert] FW- Invoice #082304164-EO#RMZ-2017 (Mar 15) Message.eml\n",
      "/Users/worshamn/Documents/emailProject/InvestigateFix [Phish Alert] FW- Signed offer letter.eml\n",
      "/Users/worshamn/Documents/emailProject/InvestigateFix [Phish Alert] FW- UPS Ship Notification, Tracking Number 0FPN86916144456728.eml\n",
      "/Users/worshamn/Documents/emailProject/InvestigateFix [Phish Alert] FW- Problem with the invoice # 86487.eml\n",
      "/Users/worshamn/Documents/emailProject/InvestigateFix [Phish Alert] FW- Due balance paid.eml\n",
      "/Users/worshamn/Documents/emailProject/InvestigateFix [Phish Alert] FW- Payment Request.eml\n",
      "/Users/worshamn/Documents/emailProject/InvestigateFix [Phish Alert] FW- Invoice number 97987393 second Notification.eml\n",
      "/Users/worshamn/Documents/emailProject/InvestigateFix [Phish Alert] FW- INVOICE DQA-78-28985  .eml\n",
      "/Users/worshamn/Documents/emailProject/InvestigateFix [Phish Alert] FW- cschultz@ironwomancon.com sent you files via WeTransfer.eml\n",
      "/Users/worshamn/Documents/emailProject/InvestigateFix [Phish Alert] FW- Paypal Receipt Reminder.eml\n",
      "/Users/worshamn/Documents/emailProject/InvestigateFix [Phish Alert] FW- Executed Confidential Review..eml\n",
      "/Users/worshamn/Documents/emailProject/InvestigateFix [Phish Alert] FW- You have a UPS Letter scheduled for delivery from IRS.GOV.eml\n",
      "/Users/worshamn/Documents/emailProject/InvestigateFix [Phish Alert] FW- IMPORTANT.eml\n",
      "/Users/worshamn/Documents/emailProject/InvestigateFix [Phish Alert] FW- Your new payment notice.eml\n",
      "/Users/worshamn/Documents/emailProject/InvestigateFix [Phish Alert] FW- Important document[1].eml\n",
      "/Users/worshamn/Documents/emailProject/InvestigateFix [Phish Alert] FW- Payment #655198672 issue.eml\n",
      "/Users/worshamn/Documents/emailProject/InvestigateFix [Phish Alert] FW- PDF-20180326171008.PDF.eml\n",
      "/Users/worshamn/Documents/emailProject/InvestigateFix [Phish Alert] FW- Alert.eml\n",
      "/Users/worshamn/Documents/emailProject/InvestigateFix [Phish Alert] FW- Your new Chase payment notice to Joselyn R. Varghese.eml\n",
      "/Users/worshamn/Documents/emailProject/InvestigateFix [Phish Alert] FW- Invoice # 94898 Problem 2.eml\n",
      "/Users/worshamn/Documents/emailProject/InvestigateFix [Phish Alert] FW- Due Invoice - ACH payment  remittance .eml\n",
      "/Users/worshamn/Documents/emailProject/InvestigateFix [Phish Alert] FW- Invoice number 4200374741 issue.eml\n",
      "/Users/worshamn/Documents/emailProject/InvestigateFix [Phish Alert] FW- Document.eml\n",
      "/Users/worshamn/Documents/emailProject/InvestigateFix [Phish Alert] FW- [Spam] Invoices.eml\n",
      "/Users/worshamn/Documents/emailProject/InvestigateFix [Phish Alert] FW- Invoice #8844 Message.eml\n",
      "/Users/worshamn/Documents/emailProject/InvestigateFix [Phish Alert] FW- E-fax received- JPMorgan Chase 2 page(s).eml\n",
      "/Users/worshamn/Documents/emailProject/InvestigateFix [Phish Alert] FW- Please confirm your Office365 account.eml\n",
      "/Users/worshamn/Documents/emailProject/InvestigateFix [Phish Alert] FW- Your mailbox is almost full..eml\n",
      "/Users/worshamn/Documents/emailProject/InvestigateFix [Phish Alert] FW- Sales Invoice.eml\n",
      "/Users/worshamn/Documents/emailProject/InvestigateFix [Phish Alert] FW- CURRENT STOCK LIST.eml\n",
      "/Users/worshamn/Documents/emailProject/InvestigateFix [Phish Alert] FW- FWD james.mcmillen.eml\n",
      "/Users/worshamn/Documents/emailProject/InvestigateFix [Phish Alert] FW- [Spam] You have 16 new quarantined messages!.eml\n",
      "/Users/worshamn/Documents/emailProject/InvestigateFix [Phish Alert] FW- Jesse shared 24-010.pdf with you.eml\n",
      "/Users/worshamn/Documents/emailProject/InvestigateFix [Phish Alert] FW- Please pull invoice 51211.eml\n",
      "/Users/worshamn/Documents/emailProject/InvestigateFix [Phish Alert] FW- Scan data from MFP7298 HP ePrint user.eml\n",
      "/Users/worshamn/Documents/emailProject/InvestigateFix [Phish Alert] FW- Important Document   .eml\n",
      "/Users/worshamn/Documents/emailProject/InvestigateFix [Phish Alert] FW- Versandbestätigung und Rechnung - Bestellung 496632974.eml\n",
      "/Users/worshamn/Documents/emailProject/InvestigateFix [Phish Alert] FW- [Spam] UPS Invoice.eml\n",
      "/Users/worshamn/Documents/emailProject/InvestigateFix [Phish Alert] FW- Overdue payment.eml\n",
      "/Users/worshamn/Documents/emailProject/InvestigateFix [Phish Alert] FW- .eml\n",
      "/Users/worshamn/Documents/emailProject/InvestigateFix [Phish Alert] FW- Possible Spam - [EXT] Payment status.eml\n",
      "/Users/worshamn/Documents/emailProject/InvestigateFix [Phish Alert] FW- Invoice # 7338953249 Problem.eml\n",
      "/Users/worshamn/Documents/emailProject/InvestigateFix [Phish Alert] FW- C Fisher.eml\n",
      "/Users/worshamn/Documents/emailProject/InvestigateFix [Phish Alert] FW- Your Legally Binding Contract document is ready for signature!.eml\n",
      "/Users/worshamn/Documents/emailProject/InvestigateFix [Phish Alert] FW- [Spam] Invoice #00990339554.eml\n",
      "/Users/worshamn/Documents/emailProject/InvestigateFix [Phish Alert] FW- Cheryl Dyer.eml\n",
      "/Users/worshamn/Documents/emailProject/InvestigateFix [Phish Alert] FW- Incoming wireless message from +17323205192.eml\n",
      "/Users/worshamn/Documents/emailProject/InvestigateFix [Phish Alert] FW- Coloradohandandarm ( Teusday 27, 2018).eml\n",
      "/Users/worshamn/Documents/emailProject/InvestigateFix [Phish Alert] FW- Dylan Grant.eml\n",
      "/Users/worshamn/Documents/emailProject/InvestigateFix [Phish Alert] FW- Delivery Status Notification.eml\n",
      "/Users/worshamn/Documents/emailProject/InvestigateFix [Phish Alert] FW- Invoice PUJ #73722-AUL#YSML-2017 (21 Sep 17).eml\n",
      "/Users/worshamn/Documents/emailProject/InvestigateFix [Phish Alert] FW- 66925_whitepaperfivemusthavesinacloudfinancialmanagementsystemus.eml\n",
      "/Users/worshamn/Documents/emailProject/InvestigateFix [Phish Alert] FW- Question.eml\n",
      "/Users/worshamn/Documents/emailProject/InvestigateFix [Phish Alert] FW- Important Document 2.eml\n",
      "/Users/worshamn/Documents/emailProject/InvestigateFix [Phish Alert] FW- Email Verification.eml\n",
      "/Users/worshamn/Documents/emailProject/InvestigateFix [Phish Alert] FW- Your Invoice Is Attached - 0000125794.eml\n"
     ]
    },
    {
     "name": "stdout",
     "output_type": "stream",
     "text": [
      "/Users/worshamn/Documents/emailProject/InvestigateFix [Phish Alert] FW- UPS Ship Notification, Tracking Number 7M01917345053585.eml\n",
      "/Users/worshamn/Documents/emailProject/InvestigateFix [Phish Alert] FW- Elaine Tracey Software virus on your gadget ID et8zt7Zbz3.eml\n",
      "/Users/worshamn/Documents/emailProject/InvestigateFix [Phish Alert] FW- Payroll Update.eml\n",
      "/Users/worshamn/Documents/emailProject/InvestigateFix [Phish Alert] FW- Record of Account Transcript from June 13, 2018.eml\n",
      "/Users/worshamn/Documents/emailProject/InvestigateFix [Phish Alert] FW- UPS Shipment Notification.eml\n",
      "/Users/worshamn/Documents/emailProject/InvestigateFix [Phish Alert] FW- Pay Invoice[1].eml\n",
      "/Users/worshamn/Documents/emailProject/InvestigateFix [Phish Alert] FW- Awaiting for your confirmation.eml\n",
      "/Users/worshamn/Documents/emailProject/InvestigateFix [Phish Alert] FW- Please pull invoice 969295.eml\n",
      "/Users/worshamn/Documents/emailProject/InvestigateFix [Phish Alert] FW- Investment...eml\n",
      "/Users/worshamn/Documents/emailProject/InvestigateFix [Phish Alert] FW- Your Walmart Order Confirmation - Order #57707.eml\n",
      "/Users/worshamn/Documents/emailProject/InvestigateFix [Phish Alert] FW- ACTION REQUIRED- Payment Approval.eml\n",
      "/Users/worshamn/Documents/emailProject/InvestigateFix [Phish Alert] FW- Re-[2].eml\n",
      "/Users/worshamn/Documents/emailProject/InvestigateFix [Phish Alert] FW- Wells Fargo Debit Card Deactivated.eml\n",
      "/Users/worshamn/Documents/emailProject/InvestigateFix [Phish Alert] FW- Incident-021500053435-26.eml\n",
      "/Users/worshamn/Documents/emailProject/InvestigateFix [Phish Alert] FW- Invoice for you.eml\n",
      "/Users/worshamn/Documents/emailProject/InvestigateFix [Phish Alert] FW- New Document available for your Commentary.eml\n",
      "/Users/worshamn/Documents/emailProject/InvestigateFix [Phish Alert] FW- Proposal[1].eml\n",
      "/Users/worshamn/Documents/emailProject/InvestigateFix [Phish Alert] FW- Invoice number 67895848033 issue.eml\n",
      "/Users/worshamn/Documents/emailProject/InvestigateFix [Phish Alert] FW- Invoice Due.eml\n",
      "/Users/worshamn/Documents/emailProject/InvestigateFix [Phish Alert] FW- Payment issue[1].eml\n",
      "/Users/worshamn/Documents/emailProject/InvestigateFix [Phish Alert] FW- Recent money transfer details.eml\n",
      "/Users/worshamn/Documents/emailProject/InvestigateFix [Phish Alert] FW- ShareFile Message From- Scott Houge.eml\n",
      "/Users/worshamn/Documents/emailProject/InvestigateFix [Phish Alert] FW- Invoice 31003023 Invoice date 061818 Order no. 85887475845.eml\n",
      "/Users/worshamn/Documents/emailProject/InvestigateFix [Phish Alert] FW- Ians Roofing sent a document to you.eml\n",
      "/Users/worshamn/Documents/emailProject/InvestigateFix [Phish Alert] FW- Purchases 2018.eml\n",
      "/Users/worshamn/Documents/emailProject/InvestigateFix [Phish Alert] FW- HRI Monthly Invoice.eml\n",
      "/Users/worshamn/Documents/emailProject/InvestigateFix [Phish Alert] FW- Invoice 13329 from Transpro.eml\n",
      "/Users/worshamn/Documents/emailProject/IgnoreFix [Phish Alert] FW- Get the most out of your studies.eml\n",
      "/Users/worshamn/Documents/emailProject/IgnoreFix [Phish Alert] FW- Sending cheer your way.eml\n",
      "/Users/worshamn/Documents/emailProject/IgnoreFix [Phish Alert] FW- Your symptoms can be cured with CBD oil.eml\n",
      "/Users/worshamn/Documents/emailProject/IgnoreFix [Phish Alert] FW- Hi Jim, Come to the Avengers- Infinity War Private Screening.eml\n",
      "/Users/worshamn/Documents/emailProject/IgnoreFix [Phish Alert] FW- setting up a call this week.eml\n",
      "/Users/worshamn/Documents/emailProject/IgnoreFix [Phish Alert] FW- Why Wait For Black Friday‌​​​‎​​‌​​‌​​‎‌​‌​​​​​‌​‎‎​​‌‌‎‎‌‌‎‌‎​‎‌‎​​​‎‌‌​​‎‎​​​‌‌​​‌‌​​​‌​.eml\n",
      "/Users/worshamn/Documents/emailProject/IgnoreFix [Phish Alert] FW- On-Demand Database Support.eml\n",
      "/Users/worshamn/Documents/emailProject/IgnoreFix [Phish Alert] FW- Long Term Disk Storage.eml\n",
      "/Users/worshamn/Documents/emailProject/IgnoreFix [Phish Alert] FW- Two sisters want you to try what they discovered for nothing.eml\n",
      "/Users/worshamn/Documents/emailProject/IgnoreFix [Phish Alert] FW- Access Your $50 Home Depot Card.eml\n",
      "/Users/worshamn/Documents/emailProject/IgnoreFix [Phish Alert] FW- Get the most out of your lectures.eml\n",
      "/Users/worshamn/Documents/emailProject/IgnoreFix [Phish Alert] FW- Be Honest - Was it Something We Said.eml\n",
      "/Users/worshamn/Documents/emailProject/IgnoreFix [Phish Alert] FW- [Spam] Everything you need to succeed with QlikView.eml\n",
      "/Users/worshamn/Documents/emailProject/IgnoreFix [Phish Alert] FW- ACTION REQUIRED- StatusPage.io component deleted.eml\n",
      "/Users/worshamn/Documents/emailProject/IgnoreFix [Phish Alert] FW- Establishing effective performance management.eml\n",
      "/Users/worshamn/Documents/emailProject/IgnoreFix [Phish Alert] FW- HR Management Discussion.eml\n",
      "/Users/worshamn/Documents/emailProject/IgnoreFix [Phish Alert] FW- Kate Edwards with Box attending to your interest (59389662).eml\n",
      "/Users/worshamn/Documents/emailProject/IgnoreFix [Phish Alert] FW- This pill can give you real focus.eml\n",
      "/Users/worshamn/Documents/emailProject/IgnoreFix [Phish Alert] FW- 7 Must Haves for Monitoring Your Modern Cloud.eml\n",
      "/Users/worshamn/Documents/emailProject/IgnoreFix [Phish Alert] FW- Availability  Okta SSO-MFA.eml\n",
      "/Users/worshamn/Documents/emailProject/IgnoreFix [Phish Alert] FW- 2nd Attempt- Can we talk.eml\n",
      "/Users/worshamn/Documents/emailProject/IgnoreFix [Phish Alert] FW- Transformation is happening now, are you ready.eml\n",
      "/Users/worshamn/Documents/emailProject/IgnoreFix [Phish Alert] FW- (Pending) We are holding your ticket Carmella.eml\n",
      "/Users/worshamn/Documents/emailProject/IgnoreFix [Phish Alert] FW- U Street Bid Results.eml\n",
      "/Users/worshamn/Documents/emailProject/IgnoreFix [Phish Alert] FW- Statement.eml\n",
      "/Users/worshamn/Documents/emailProject/IgnoreFix [Phish Alert] FW- BUSINESS SUPPORT Notification - BS-6303 FB903 - Abort - PRD (CONCUR_DOWNLOAD) -  High Priority.eml\n",
      "/Users/worshamn/Documents/emailProject/IgnoreFix [Phish Alert] FW- Oracle Cost Reduction and Risk Mitigation.eml\n",
      "/Users/worshamn/Documents/emailProject/IgnoreFix [Phish Alert] FW- Ty, You Have Been Selected - Complimentary CNET Magazine Subscription..eml\n",
      "/Users/worshamn/Documents/emailProject/IgnoreFix [Phish Alert] FW- Did I fall thru the cracks Morris.eml\n",
      "/Users/worshamn/Documents/emailProject/IgnoreFix [Phish Alert] FW- Untitled.eml\n",
      "/Users/worshamn/Documents/emailProject/IgnoreFix [Phish Alert] FW- NetApp all-flash review.eml\n",
      "/Users/worshamn/Documents/emailProject/IgnoreFix [Phish Alert] FW- You have new Customer Service Representative job matches - Friday, April 13.eml\n",
      "/Users/worshamn/Documents/emailProject/IgnoreFix [Phish Alert] FW- Top IT trends to watch in 2018- digital business.eml\n",
      "/Users/worshamn/Documents/emailProject/IgnoreFix [Phish Alert] FW- Get back the hair your missing. Even if your old or young..eml\n",
      "/Users/worshamn/Documents/emailProject/IgnoreFix [Phish Alert] FW- Hit the movies with a friend.eml\n",
      "/Users/worshamn/Documents/emailProject/IgnoreFix [Phish Alert] FW- Amanda, You're hired - Response Needed.eml\n",
      "/Users/worshamn/Documents/emailProject/IgnoreFix [Phish Alert] FW- Great question.eml\n",
      "/Users/worshamn/Documents/emailProject/IgnoreFix [Phish Alert] FW- Megyn Kelly causes full panic live on Fox morning show.eml\n",
      "/Users/worshamn/Documents/emailProject/IgnoreFix [Phish Alert] FW- AI killed MDM – Witness how it happened.eml\n",
      "/Users/worshamn/Documents/emailProject/IgnoreFix [Phish Alert] FW- Test- Event Invite.eml\n",
      "/Users/worshamn/Documents/emailProject/IgnoreFix [Phish Alert] FW- See what’s new in Loggly 3.0.eml\n",
      "/Users/worshamn/Documents/emailProject/IgnoreFix [Phish Alert] FW- You need video evidence.eml\n",
      "/Users/worshamn/Documents/emailProject/IgnoreFix [Phish Alert] FW- Does Your Workplace Wellness Work An Interview with Laura Putnam.eml\n",
      "/Users/worshamn/Documents/emailProject/IgnoreFix [Phish Alert] FW- Regulation Panel in Cape Town.eml\n",
      "/Users/worshamn/Documents/emailProject/IgnoreFix [Phish Alert] FW- Paul.finamore your home could have doubled in vale this year.eml\n",
      "/Users/worshamn/Documents/emailProject/IgnoreFix [Phish Alert] FW- Kohl's wants to give you $50.00 for your feedback..eml\n",
      "/Users/worshamn/Documents/emailProject/IgnoreFix [Phish Alert] FW- Complimentary Gun Holder (Ends Tonight!).eml\n",
      "/Users/worshamn/Documents/emailProject/IgnoreFix [Phish Alert] FW- Elway's Steak Lunch Event Nov 14th- Eliminating Hybrid Cloud complexity with Dell EMC Azure Stack .eml\n",
      "/Users/worshamn/Documents/emailProject/IgnoreFix [Phish Alert] FW- Säkra din plats på Byggforum 2018! Nu till specialpris!.eml\n"
     ]
    },
    {
     "name": "stdout",
     "output_type": "stream",
     "text": [
      "/Users/worshamn/Documents/emailProject/IgnoreFix [Phish Alert] FW- iPhone 8. Apple Watch Series 3. Pre-order now..eml\n",
      "/Users/worshamn/Documents/emailProject/IgnoreFix [Phish Alert] FW- This is the secret to Eva Longoria's ageless beauty.eml\n",
      "/Users/worshamn/Documents/emailProject/IgnoreFix [Phish Alert] FW- View Tanya Spiridon's Contact Info and Background Report Now.eml\n",
      "/Users/worshamn/Documents/emailProject/IgnoreFix [Phish Alert] FW- [Spam] Cyber Week Special on Christmas Wristbands.eml\n",
      "/Users/worshamn/Documents/emailProject/IgnoreFix [Phish Alert] FW- Happy Halloween!.eml\n",
      "/Users/worshamn/Documents/emailProject/IgnoreFix [Phish Alert] FW- Save the Date- AHOU 2018 Annual Conference.eml\n",
      "/Users/worshamn/Documents/emailProject/IgnoreFix [Phish Alert] FW- The ultimate resource for GDPR readiness.eml\n",
      "/Users/worshamn/Documents/emailProject/IgnoreFix [Phish Alert] FW- Final Days of Sale- Extra 20% Off.eml\n",
      "/Users/worshamn/Documents/emailProject/IgnoreFix [Phish Alert] FW- Friendly Reminder- America's Claims Event 2018 - Exclusive Limited Offer ends Friday.eml\n",
      "/Users/worshamn/Documents/emailProject/IgnoreFix [Phish Alert] FW- This flashlight is 25X brighter than yours.eml\n",
      "/Users/worshamn/Documents/emailProject/IgnoreFix [Phish Alert] FW- Download Our Spring Conference Brochure NOW!.eml\n",
      "/Users/worshamn/Documents/emailProject/IgnoreFix [Phish Alert] FW- Splunksecurity webinar.eml\n",
      "/Users/worshamn/Documents/emailProject/IgnoreFix [Phish Alert] FW- Pleasuring two girls.eml\n",
      "/Users/worshamn/Documents/emailProject/IgnoreFix [Phish Alert] FW- Affiniti Network Assure - Network Performance Management - Begin your 90-Day Free Trial Today!.eml\n",
      "/Users/worshamn/Documents/emailProject/IgnoreFix [Phish Alert] FW- Join Riva at Dreamforce 2017!.eml\n",
      "/Users/worshamn/Documents/emailProject/IgnoreFix [Phish Alert] FW- GHG News- Key Dates in the 2019 Application.eml\n",
      "/Users/worshamn/Documents/emailProject/IgnoreFix [Phish Alert] FW- Maximize Your Hyperion Investment .eml\n",
      "/Users/worshamn/Documents/emailProject/IgnoreFix [Phish Alert] FW- Best Wishes for Your Holiday Season!.eml\n",
      "/Users/worshamn/Documents/emailProject/IgnoreFix [Phish Alert] FW- Webinar- How to prepare for Colombia's 2019 e-Invoicing mandate.eml\n",
      "/Users/worshamn/Documents/emailProject/IgnoreFix [Phish Alert] FW- Your data struggle with IT ends now.eml\n",
      "/Users/worshamn/Documents/emailProject/IgnoreFix [Phish Alert] FW- November Hyperion Cloud Webinar Series.eml\n",
      "/Users/worshamn/Documents/emailProject/IgnoreFix [Phish Alert] FW- Presidio  March Madness Event at Dave & Buster’s  REGISTER NOW.eml\n",
      "/Users/worshamn/Documents/emailProject/IgnoreFix [Phish Alert] FW- Your Amazon Hundred dollar preloaded gift card expires on 12-20..eml\n",
      "/Users/worshamn/Documents/emailProject/IgnoreFix [Phish Alert] FW- Michael Bond  you are considered approved to borrow up to $5420.eml\n",
      "/Users/worshamn/Documents/emailProject/IgnoreFix [Phish Alert] FW- Minnesota Legislative Update.eml\n",
      "/Users/worshamn/Documents/emailProject/IgnoreFix [Phish Alert] FW- Recommended Business Analyst Positions at Compri Consulting, Infinite Computing Systems and more...eml\n",
      "/Users/worshamn/Documents/emailProject/IgnoreFix [Phish Alert] FW- CACI Capitol Report-  CACI Hosts Colorado Chamber of Commerce Executives Advocacy Training.eml\n",
      "/Users/worshamn/Documents/emailProject/IgnoreFix [Phish Alert] FW- QuickStart Master Subscription Price Change‌​​​‎​​‌​​‌​​‎‌​‌​​​​​‌​‎‎​​‌‌‎‎‌‌‎‌‎​‎‌‎​​​‎‌‌​​‎‎​​​‌‌​​‌‌​​​‌​.eml\n",
      "/Users/worshamn/Documents/emailProject/IgnoreFix [Phish Alert] FW- Add a start date, avoid the scramble.eml\n",
      "/Users/worshamn/Documents/emailProject/IgnoreFix [Phish Alert] FW- What's your experience as an Accredited Business.eml\n",
      "/Users/worshamn/Documents/emailProject/IgnoreFix [Phish Alert] FW- Analytic Data Preparation.eml\n",
      "/Users/worshamn/Documents/emailProject/IgnoreFix [Phish Alert] FW- 10 Steps to Success with Public Cloud Adoption.eml\n",
      "/Users/worshamn/Documents/emailProject/IgnoreFix [Phish Alert] FW- You have new Manager job matches - Wednesday, April 04.eml\n",
      "/Users/worshamn/Documents/emailProject/IgnoreFix [Phish Alert] FW- Jim, see what Cisco HyperFlex can do for Pinnacol Assurance.eml\n",
      "/Users/worshamn/Documents/emailProject/IgnoreFix [Phish Alert] FW- Delight insurance customers with a better experience.eml\n",
      "/Users/worshamn/Documents/emailProject/IgnoreFix [Phish Alert] FW- Twinmotion Community News  January 2018  Full speed ahead!.eml\n",
      "/Users/worshamn/Documents/emailProject/IgnoreFix [Phish Alert] FW- New Meal Planning and Healthy Cooking Ideas for Healthy Employees.eml\n",
      "/Users/worshamn/Documents/emailProject/IgnoreFix [Phish Alert] FW- Webcast tomorrow- Legal Financing -  How to Reduce Litigation Costs & Risk.eml\n",
      "/Users/worshamn/Documents/emailProject/IgnoreFix [Phish Alert] FW- Daily on Healthcare- HHS details proposal to loosen insurance regs...Azar talks state flexibility, Obamacare, and abortion.eml\n",
      "/Users/worshamn/Documents/emailProject/IgnoreFix [Phish Alert] FW- This Shark Tank contestant got millions.eml\n",
      "/Users/worshamn/Documents/emailProject/IgnoreFix [Phish Alert] FW- GOLD EXCHANGE.eml\n",
      "/Users/worshamn/Documents/emailProject/IgnoreFix [Phish Alert] FW- Mobile App-website redesign and maintenance service..eml\n",
      "/Users/worshamn/Documents/emailProject/IgnoreFix [Phish Alert] FW- Is the skills gap a threat to Pinnacol Assurance.eml\n",
      "/Users/worshamn/Documents/emailProject/IgnoreFix [Phish Alert] FW- Share Your Feedback – Win an Instant Pot.eml\n",
      "/Users/worshamn/Documents/emailProject/IgnoreFix [Phish Alert] FW- Workers' Comp, Medical Marijuana Claims and More Industry Trends.eml\n",
      "/Users/worshamn/Documents/emailProject/IgnoreFix [Phish Alert] FW- Use Non-Traditional Info To Better Evaluate Risk.eml\n",
      "/Users/worshamn/Documents/emailProject/IgnoreFix [Phish Alert] FW- Special Discount for House Cleaning Services!.eml\n",
      "/Users/worshamn/Documents/emailProject/IgnoreFix [Phish Alert] FW- Potential Pinnacol Assurance Sales Appointments.eml\n",
      "/Users/worshamn/Documents/emailProject/IgnoreFix [Phish Alert] FW- Requesting Your Permission.eml\n",
      "/Users/worshamn/Documents/emailProject/IgnoreFix [Phish Alert] FW- Miracle House Giving Option #2.eml\n",
      "/Users/worshamn/Documents/emailProject/IgnoreFix [Phish Alert] FW- Jim - quick question.eml\n",
      "/Users/worshamn/Documents/emailProject/IgnoreFix [Phish Alert] FW- Special Invitation.eml\n",
      "/Users/worshamn/Documents/emailProject/IgnoreFix [Phish Alert] FW- Pinnacol Stakeholder Interview .eml\n",
      "/Users/worshamn/Documents/emailProject/IgnoreFix [Phish Alert] FW- Credibility- A Reason Your Clients Will Love wealthpath!™.eml\n",
      "/Users/worshamn/Documents/emailProject/IgnoreFix [Phish Alert] FW- Public training event - Project ManagementProfessional at Denver, CO..eml\n",
      "/Users/worshamn/Documents/emailProject/IgnoreFix [Phish Alert] FW- Hey, See my new Naughty photos..eml\n",
      "/Users/worshamn/Documents/emailProject/IgnoreFix [Phish Alert] FW- Your Feedback About Kohl's Earns You $50.eml\n",
      "/Users/worshamn/Documents/emailProject/IgnoreFix [Phish Alert] FW- Tell Us How You Feel About Khols and Get Rewarded With $50 Prize..eml\n",
      "/Users/worshamn/Documents/emailProject/IgnoreFix [Phish Alert] FW- 2 Part Fraud Prevention Manual + Checklist.eml\n",
      "/Users/worshamn/Documents/emailProject/IgnoreFix [Phish Alert] FW- Follow Up - Hiring  Needs.eml\n",
      "/Users/worshamn/Documents/emailProject/IgnoreFix [Phish Alert] FW- Denver Event Expo, Specials, Prizes, Samples.eml\n",
      "/Users/worshamn/Documents/emailProject/IgnoreFix [Phish Alert] FW- [Spam] Re- for Jaelea Novotny.eml\n",
      "/Users/worshamn/Documents/emailProject/IgnoreFix [Phish Alert] FW- [Spam] Integrate AMS360 and Catalyst QQ with your phones.eml\n",
      "/Users/worshamn/Documents/emailProject/IgnoreFix [Phish Alert] FW- Your home could go for double in today's market.eml\n",
      "/Users/worshamn/Documents/emailProject/IgnoreFix [Phish Alert] FW- 9 Wearable Travel Accessories That Will Make Your Trip Easier.eml\n",
      "/Users/worshamn/Documents/emailProject/IgnoreFix [Phish Alert] FW- [Spam] Is Cloud Faxing Right for your Company.eml\n",
      "/Users/worshamn/Documents/emailProject/IgnoreFix [Phish Alert] FW- REMINDER- $35 Survey – Claims Adjuster Survey.eml\n",
      "/Users/worshamn/Documents/emailProject/IgnoreFix [Phish Alert] FW- How to Keep Online Assets Secure.eml\n",
      "/Users/worshamn/Documents/emailProject/IgnoreFix [Phish Alert] FW- PMP Training.eml\n",
      "/Users/worshamn/Documents/emailProject/IgnoreFix [Phish Alert] FW- Presentación sin título - Invitation to edit.eml\n",
      "/Users/worshamn/Documents/emailProject/IgnoreFix [Phish Alert] FW- no-cost benefits.eml\n",
      "/Users/worshamn/Documents/emailProject/IgnoreFix [Phish Alert] FW- Golf Tech Cures Golf Swing Flaws Quickly.eml\n",
      "/Users/worshamn/Documents/emailProject/IgnoreFix [Phish Alert] FW- Daily Rates - 02.15.18.eml\n",
      "/Users/worshamn/Documents/emailProject/IgnoreFix [Phish Alert] FW- Sharepoint and Office 365 follow-up.eml\n",
      "/Users/worshamn/Documents/emailProject/IgnoreFix [Phish Alert] FW- Michael - client reviews and your profile.eml\n",
      "/Users/worshamn/Documents/emailProject/IgnoreFix [Phish Alert] FW- ServiceSource is hiring near you.eml\n"
     ]
    },
    {
     "name": "stdout",
     "output_type": "stream",
     "text": [
      "/Users/worshamn/Documents/emailProject/IgnoreFix [Phish Alert] FW- [Spam] Facebook to Keynote; Register Now.eml\n",
      "/Users/worshamn/Documents/emailProject/IgnoreFix [Phish Alert] FW- your annual bc-dr planning goal.eml\n",
      "/Users/worshamn/Documents/emailProject/IgnoreFix [Phish Alert] FW- The Perfect Cup Of Coffee!.eml\n",
      "/Users/worshamn/Documents/emailProject/IgnoreFix [Phish Alert] FW- AMANDA, $267.17 Bank Deposit....eml\n",
      "/Users/worshamn/Documents/emailProject/IgnoreFix [Phish Alert] FW- Guaranteed employment and a 50k salary.eml\n",
      "/Users/worshamn/Documents/emailProject/IgnoreFix [Phish Alert] FW- $200M Lost for A.P. Moller-Maersk from Ransomware • Confirmed Speakers for Cyber Risk NY •  Connect & Learn at Upcoming Conferences, Webinars & More....eml\n",
      "/Users/worshamn/Documents/emailProject/IgnoreFix [Phish Alert] FW- Gartner announces agenda for Data & Analytics Summit.eml\n",
      "/Users/worshamn/Documents/emailProject/IgnoreFix [Phish Alert] FW- You can beat addiction - with help.eml\n",
      "/Users/worshamn/Documents/emailProject/IgnoreFix [Phish Alert] FW- PdfCompressor – End of Year Upgrade Discount.eml\n",
      "/Users/worshamn/Documents/emailProject/IgnoreFix [Phish Alert] FW- Discounts for Netflix etc.eml\n",
      "/Users/worshamn/Documents/emailProject/IgnoreFix [Phish Alert] FW- IT Security Salary Report Released  $127K Median Salary.eml\n",
      "/Users/worshamn/Documents/emailProject/IgnoreFix [Phish Alert] FW- You don't have to live with thin hair.eml\n",
      "/Users/worshamn/Documents/emailProject/IgnoreFix [Phish Alert] FW- Yard Signs Are Here!.eml\n",
      "/Users/worshamn/Documents/emailProject/IgnoreFix [Phish Alert] FW- More to Love From Belk.eml\n",
      "/Users/worshamn/Documents/emailProject/IgnoreFix [Phish Alert] FW- $35 Survey – Claims Adjuster Survey.eml\n",
      "/Users/worshamn/Documents/emailProject/IgnoreFix [Phish Alert] FW- How to Decide Your Identity Management Strategy for Office 365.eml\n",
      "/Users/worshamn/Documents/emailProject/IgnoreFix [Phish Alert] FW- Hi Vi! 20% OFF Packing Materials.eml\n",
      "/Users/worshamn/Documents/emailProject/IgnoreFix [Phish Alert] FW- Come Golf with AWN & Link Technologies!.eml\n",
      "/Users/worshamn/Documents/emailProject/IgnoreFix [Phish Alert] FW- Invoice #4059123.eml\n",
      "/Users/worshamn/Documents/emailProject/IgnoreFix [Phish Alert] FW- [Spam] SAP and Pinnacol Assurance.eml\n",
      "/Users/worshamn/Documents/emailProject/IgnoreFix [Phish Alert] FW- Monthly Resource- The Payroll Checklist.eml\n",
      "/Users/worshamn/Documents/emailProject/IgnoreFix [Phish Alert] FW- Agenda Revealed- Advancing Construction Claims 2018.eml\n",
      "/Users/worshamn/Documents/emailProject/IgnoreFix [Phish Alert] FW- Centralize and Simplify Approvals.eml\n",
      "/Users/worshamn/Documents/emailProject/IgnoreFix [Phish Alert] FW- [Spam] Following Up.eml\n",
      "/Users/worshamn/Documents/emailProject/IgnoreFix [Phish Alert] FW- New Tees & Head Covers from LINKSOUL.eml\n",
      "/Users/worshamn/Documents/emailProject/IgnoreFix [Phish Alert] FW- This Is Not Security..eml\n",
      "/Users/worshamn/Documents/emailProject/IgnoreFix [Phish Alert] FW- Fw- to Sally Parkinson.eml\n",
      "/Users/worshamn/Documents/emailProject/IgnoreFix [Phish Alert] FW- Thank you for attending the TACHC Conference!.eml\n",
      "/Users/worshamn/Documents/emailProject/IgnoreFix [Phish Alert] FW- Be My Guest at INsecurity.eml\n",
      "/Users/worshamn/Documents/emailProject/IgnoreFix [Phish Alert] FW- 5a830bb362ecb. Meet the KTS crew (pt. 2-5).eml\n",
      "/Users/worshamn/Documents/emailProject/IgnoreFix [Phish Alert] FW- Shrink 1lb a day for the new year.eml\n",
      "/Users/worshamn/Documents/emailProject/IgnoreFix [Phish Alert] FW- Annual NYE Bash this Sunday.eml\n",
      "/Users/worshamn/Documents/emailProject/IgnoreFix [Phish Alert] FW- to Kim Singer.eml\n",
      "/Users/worshamn/Documents/emailProject/IgnoreFix [Phish Alert] FW- Industry Research  Are You Sitting on a Data Goldmine.eml\n",
      "/Users/worshamn/Documents/emailProject/IgnoreFix [Phish Alert] FW- You've Been Upgraded to Advanced Pay from YapStone.eml\n",
      "/Users/worshamn/Documents/emailProject/IgnoreFix [Phish Alert] FW- How to Keep Active Directory Healthy.eml\n",
      "/Users/worshamn/Documents/emailProject/IgnoreFix [Phish Alert] FW- Does online comparison rating yield 💩 for retention.eml\n",
      "/Users/worshamn/Documents/emailProject/IgnoreFix [Phish Alert] FW- Exclusive offer for you Lisa.eml\n",
      "/Users/worshamn/Documents/emailProject/IgnoreFix [Phish Alert] FW- Bonus Gift.eml\n",
      "/Users/worshamn/Documents/emailProject/IgnoreFix [Phish Alert] FW- Hey Paul.finamore. Your survey invite is inside..eml\n",
      "/Users/worshamn/Documents/emailProject/IgnoreFix [Phish Alert] FW- [Webinar] Cloud and MPS—what organization leaders need to know.eml\n",
      "/Users/worshamn/Documents/emailProject/IgnoreFix [Phish Alert] FW- Look Inside for Special Offers at Schomp MINI.eml\n",
      "/Users/worshamn/Documents/emailProject/IgnoreFix [Phish Alert] FW- Google and Pinnacol Assurance.eml\n",
      "/Users/worshamn/Documents/emailProject/IgnoreFix [Phish Alert] FW- Congratulations on retirement Ray Kelley!.eml\n",
      "/Users/worshamn/Documents/emailProject/IgnoreFix [Phish Alert] FW- [Spam] OSHA Voluntary Protection Program (VPP) Requirements.eml\n",
      "/Users/worshamn/Documents/emailProject/IgnoreFix [Phish Alert] FW- → 5 Jobs for Field Auditor - Denver.eml\n",
      "/Users/worshamn/Documents/emailProject/IgnoreFix [Phish Alert] FW- 2018 is Around the Corner, Are You Prepared.eml\n",
      "/Users/worshamn/Documents/emailProject/IgnoreFix [Phish Alert] FW- Does your phone system crash.eml\n",
      "/Users/worshamn/Documents/emailProject/IgnoreFix [Phish Alert] FW- a critical Cybersecurity liability initiative run by a local attorney you should be aware of ....eml\n",
      "/Users/worshamn/Documents/emailProject/IgnoreFix [Phish Alert] FW- Wake up with coffee on us.eml\n",
      "/Users/worshamn/Documents/emailProject/IgnoreFix [Phish Alert] FW- How Amazon Uses Influencer Holiday Marketing.eml\n",
      "/Users/worshamn/Documents/emailProject/IgnoreFix [Phish Alert] FW- You're Invited to the 2018 CliftonStrengths Summit.eml\n",
      "/Users/worshamn/Documents/emailProject/IgnoreFix [Phish Alert] FW- Today Only. Unlock your pre-loaded Amazon card.eml\n",
      "/Users/worshamn/Documents/emailProject/IgnoreFix [Phish Alert] FW- Search Rent to Own Homes.eml\n",
      "/Users/worshamn/Documents/emailProject/IgnoreFix [Phish Alert] FW- [Spam] Re- to Paula Fleming.eml\n",
      "/Users/worshamn/Documents/emailProject/IgnoreFix [Phish Alert] FW- Kelly, See Gartner's 10 Business Benefits for BI & Analytics Tools.eml\n",
      "/Users/worshamn/Documents/emailProject/IgnoreFix [Phish Alert] FW- Big announcements from our September event..eml\n",
      "/Users/worshamn/Documents/emailProject/IgnoreFix [Phish Alert] FW- Colorado CPCU Society Chapter - January Luncheon & Meeting.eml\n",
      "/Users/worshamn/Documents/emailProject/IgnoreFix [Phish Alert] FW- Financial Innovation & Payments Summit-July 18th - 20th.eml\n",
      "/Users/worshamn/Documents/emailProject/IgnoreFix [Phish Alert] FW- Buy 3 Dozen Personalized TP5-TP5x Golf Balls, Get 1 Dozen Free.eml\n",
      "/Users/worshamn/Documents/emailProject/IgnoreFix [Phish Alert] FW- Action Required- New Contract Offer Letter sent via Docu Sign From Walking Mountains Science Center.eml\n",
      "/Users/worshamn/Documents/emailProject/IgnoreFix [Phish Alert] FW- [Spam] Technology Review.eml\n",
      "/Users/worshamn/Documents/emailProject/IgnoreFix [Phish Alert] FW- Free AMC Movie Tickets. Until They Run Out.eml\n",
      "/Users/worshamn/Documents/emailProject/IgnoreFix [Phish Alert] FW- 3 Decision-Making Strategies to Scale Agile at Your Company.eml\n",
      "/Users/worshamn/Documents/emailProject/IgnoreFix [Phish Alert] FW- Todd Faubion, Your Reputation Score Has Changed - See What it is Now.eml\n",
      "/Users/worshamn/Documents/emailProject/IgnoreFix [Phish Alert] FW- Deploy Cisco Umbrella with Expert Guidance  Live Webcast.eml\n",
      "/Users/worshamn/Documents/emailProject/IgnoreFix [Phish Alert] FW- Wear red and give...today!.eml\n",
      "/Users/worshamn/Documents/emailProject/IgnoreFix [Phish Alert] FW- Daily on Healthcare- HHS's Azar says he will enforce Obamacare if Idaho violates law.eml\n",
      "/Users/worshamn/Documents/emailProject/IgnoreFix [Phish Alert] FW- Step Denver Gives Back to the Ballpark Community! Read More in the November Newsletter.eml\n",
      "/Users/worshamn/Documents/emailProject/IgnoreFix [Phish Alert] FW- 6 killer applications for AI in contact center customer service for 2017 (including real-world examples).eml\n",
      "/Users/worshamn/Documents/emailProject/IgnoreFix [Phish Alert] FW- $10 Survey - HR Professional Survey.eml\n",
      "/Users/worshamn/Documents/emailProject/IgnoreFix [Phish Alert] FW- Geopointe- #1 Rated Mapping Tool on Salesforce.eml\n",
      "/Users/worshamn/Documents/emailProject/IgnoreFix [Phish Alert] FW- Erinnerung wegen eBook-Verdienst.eml\n",
      "/Users/worshamn/Documents/emailProject/IgnoreFix [Phish Alert] FW- Shark Tank judges can't contain themselves.eml\n"
     ]
    },
    {
     "name": "stdout",
     "output_type": "stream",
     "text": [
      "/Users/worshamn/Documents/emailProject/IgnoreFix [Phish Alert] FW- Your binge drinking is destroying you.eml\n",
      "/Users/worshamn/Documents/emailProject/IgnoreFix [Phish Alert] FW- Important- Your Attention is Needed Today.eml\n",
      "/Users/worshamn/Documents/emailProject/IgnoreFix [Phish Alert] FW- You'll never believed the real reason she was fired.eml\n",
      "/Users/worshamn/Documents/emailProject/IgnoreFix [Phish Alert] FW- IMPORTANT- Updated Privacy Policy, Action Required.eml\n",
      "/Users/worshamn/Documents/emailProject/IgnoreFix [Phish Alert] FW- MS Excel- Advanced Reporting with Power Pivot and Power Query.eml\n",
      "/Users/worshamn/Documents/emailProject/IgnoreFix [Phish Alert] FW- Knock Out Some CE with Our NO-EXAM Webinars!.eml\n",
      "/Users/worshamn/Documents/emailProject/IgnoreFix [Phish Alert] FW- [Spam] Work From Home Programs Do's and Don'ts - Register Today.eml\n",
      "/Users/worshamn/Documents/emailProject/IgnoreFix [Phish Alert] FW- Hi .eml\n",
      "/Users/worshamn/Documents/emailProject/IgnoreFix [Phish Alert] FW- CBD oil is now legal everywhere.eml\n",
      "/Users/worshamn/Documents/emailProject/IgnoreFix [Phish Alert] FW- Brain enhancing nootropics are sweeing the nation..eml\n",
      "/Users/worshamn/Documents/emailProject/IgnoreFix [Phish Alert] FW- Not everyone watches TV the same way..eml\n",
      "/Users/worshamn/Documents/emailProject/IgnoreFix [Phish Alert] FW- E.P.I.C. APM- Toward a Better APM Model for the Application Economy.eml\n",
      "/Users/worshamn/Documents/emailProject/IgnoreFix [Phish Alert] FW- What’s Next for IT – Habit Doughnut Dispensary – w- Sr. HDI Writer-Analyst Roy Atkinson.eml\n",
      "/Users/worshamn/Documents/emailProject/IgnoreFix [Phish Alert] FW- Reminder- Follow up.eml\n",
      "/Users/worshamn/Documents/emailProject/IgnoreFix [Phish Alert] FW- Pre-Sales Network Engineer.eml\n",
      "/Users/worshamn/Documents/emailProject/IgnoreFix [Phish Alert] FW- vulnerability disclosure guidance.eml\n",
      "/Users/worshamn/Documents/emailProject/IgnoreFix [Phish Alert] FW- Read- Contact List for Insurance Industry.eml\n",
      "/Users/worshamn/Documents/emailProject/IgnoreFix [Phish Alert] FW- The pill that started a Shark Tank bidding war.eml\n",
      "/Users/worshamn/Documents/emailProject/IgnoreFix [Phish Alert] FW- Enterprise Software App Development - Meeting Request.eml\n",
      "/Users/worshamn/Documents/emailProject/IgnoreFix [Phish Alert] FW- Navigating the Complexity of Big Data Transformation.eml\n",
      "/Users/worshamn/Documents/emailProject/IgnoreFix [Phish Alert] FW- quick question about your Salesforce.eml\n",
      "/Users/worshamn/Documents/emailProject/IgnoreFix [Phish Alert] FW- Free Webinar- Real-Time Health Scoring as a Digital Engagement Strategy for Insurers.eml\n",
      "/Users/worshamn/Documents/emailProject/IgnoreFix [Phish Alert] FW- March LINKSdigital- The 2018 Equipment Guide is Here!.eml\n",
      "/Users/worshamn/Documents/emailProject/IgnoreFix [Phish Alert] FW- The future of golf training.eml\n",
      "/Users/worshamn/Documents/emailProject/IgnoreFix [Phish Alert] FW- You can unlock your Amazon Prime preloaded card.eml\n",
      "/Users/worshamn/Documents/emailProject/IgnoreFix [Phish Alert] FW- Working together.eml\n",
      "/Users/worshamn/Documents/emailProject/IgnoreFix [Phish Alert] FW- Happy Holiday Discount.eml\n",
      "/Users/worshamn/Documents/emailProject/IgnoreFix [Phish Alert] FW- PM Training sessions - Nov 27 - 30.eml\n",
      "/Users/worshamn/Documents/emailProject/IgnoreFix [Phish Alert] FW- Don't let legacy IT tools sabotage your success..eml\n",
      "/Users/worshamn/Documents/emailProject/IgnoreFix [Phish Alert] FW- Get Ready for Cold & Flu Season with an FSA.eml\n",
      "/Users/worshamn/Documents/emailProject/IgnoreFix [Phish Alert] FW- [Spam] This September, grab the opportunity to meet World's finest Tailor in USA.eml\n",
      "/Users/worshamn/Documents/emailProject/IgnoreFix [Phish Alert] FW- AT&T- Mailing address change notification.eml\n",
      "/Users/worshamn/Documents/emailProject/IgnoreFix [Phish Alert] FW- Reminder- Don’t miss the 2017 year-end deadline for FATCA and CRS.eml\n",
      "/Users/worshamn/Documents/emailProject/IgnoreFix [Phish Alert] FW- Eager Job Seekers Await- Exhibit at the Denver Job Fair- May 15th.eml\n",
      "/Users/worshamn/Documents/emailProject/IgnoreFix [Phish Alert] FW- Multi-cloud Storage services- Avoid Public cloud Lock-in When Shifting Data to the Cloud.eml\n",
      "/Users/worshamn/Documents/emailProject/IgnoreFix [Phish Alert] FW- Can you point me in the right direction.eml\n",
      "/Users/worshamn/Documents/emailProject/IgnoreFix [Phish Alert] FW- Set yourself apart with an MBA.eml\n",
      "/Users/worshamn/Documents/emailProject/IgnoreFix [Phish Alert] FW- You have been selected to recieve a $50 Amazon card..eml\n",
      "/Users/worshamn/Documents/emailProject/IgnoreFix [Phish Alert] FW- [Spam] Titleist Holiday Special.eml\n"
     ]
    },
    {
     "name": "stderr",
     "output_type": "stream",
     "text": [
      "/usr/local/anaconda3/lib/python3.6/site-packages/ipykernel_launcher.py:96: DeprecationWarning: invalid escape sequence '\\]'\n"
     ]
    },
    {
     "name": "stdout",
     "output_type": "stream",
     "text": [
      "/Users/worshamn/Documents/emailProject/IgnoreFix [Phish Alert] FW- [Spam] Best marketing solution for Pinnacol Assurance.eml\n",
      "/Users/worshamn/Documents/emailProject/IgnoreFix [Phish Alert] FW- [Spam] hiring Colorado talent.eml\n",
      "/Users/worshamn/Documents/emailProject/IgnoreFix [Phish Alert] FW- Save $1,100 thru Friday  Get In-Depth Knowledge.eml\n",
      "/Users/worshamn/Documents/emailProject/IgnoreFix [Phish Alert] FW- Email Account Hacked.eml\n",
      "/Users/worshamn/Documents/emailProject/IgnoreFix [Phish Alert] FW- You need to lower your blood pressure.eml\n",
      "/Users/worshamn/Documents/emailProject/IgnoreFix [Phish Alert] FW- Demo for new Digital Customer Onboarding.eml\n",
      "/Users/worshamn/Documents/emailProject/IgnoreFix [Phish Alert] FW- MICHAEL! You are PRE-APPROVED!.eml\n",
      "/Users/worshamn/Documents/emailProject/IgnoreFix [Phish Alert] FW- Confront Industry Transitions  Save $1,000.eml\n",
      "/Users/worshamn/Documents/emailProject/IgnoreFix [Phish Alert] FW- Email.eml\n",
      "/Users/worshamn/Documents/emailProject/IgnoreFix [Phish Alert] FW- Are you getting distracted by communications management.eml\n",
      "/Users/worshamn/Documents/emailProject/IgnoreFix [Phish Alert] FW- Opportunity Engagement.eml\n",
      "/Users/worshamn/Documents/emailProject/IgnoreFix [Phish Alert] FW- SEPTEMBER 2017 N°35 The Scent, Henrietta, Anthenea....eml\n",
      "/Users/worshamn/Documents/emailProject/IgnoreFix [Phish Alert] FW- First time ever all Shark Tank judges agree.eml\n",
      "/Users/worshamn/Documents/emailProject/IgnoreFix [Phish Alert] FW- C.B.D. oils now legal in US, this is what you need ot know.eml\n",
      "/Users/worshamn/Documents/emailProject/IgnoreFix [Phish Alert] FW- 4 common BP meds starting to cause bad side effects.eml\n",
      "/Users/worshamn/Documents/emailProject/IgnoreFix [Phish Alert] FW- 20% off UNTUCKit, the Shirts GQ Called Perfection.eml\n",
      "/Users/worshamn/Documents/emailProject/IgnoreFix [Phish Alert] FW- How to Adopt SAP on AWS Easily.eml\n",
      "/Users/worshamn/Documents/emailProject/IgnoreFix [Phish Alert] FW- 1 Stop Data GDPR Data Compliancy Services.eml\n",
      "/Users/worshamn/Documents/emailProject/IgnoreFix [Phish Alert] FW- Get into the rapidly growing medical field.eml\n",
      "/Users/worshamn/Documents/emailProject/IgnoreFix [Phish Alert] FW- Howto- 3D print a human heart.eml\n",
      "/Users/worshamn/Documents/emailProject/IgnoreFix [Phish Alert] FW- Improve Personnel Planning with Prophix.eml\n",
      "/Users/worshamn/Documents/emailProject/IgnoreFix [Phish Alert] FW- JA Volunteer Survey - We want your input!.eml\n",
      "/Users/worshamn/Documents/emailProject/IgnoreFix [Phish Alert] FW- Managing Higher Risk Business Customers – Risk Based Approach to KYC & KYCC.eml\n",
      "/Users/worshamn/Documents/emailProject/IgnoreFix [Phish Alert] FW- [Spam] Configuring the Windows Time Service.eml\n",
      "/Users/worshamn/Documents/emailProject/IgnoreFix [Phish Alert] FW- Summer Deighton's invitation is awaiting your response.eml\n",
      "/Users/worshamn/Documents/emailProject/IgnoreFix [Phish Alert] FW- $50 Amazon Gift Card For 10 minutes of your time..eml\n",
      "/Users/worshamn/Documents/emailProject/IgnoreFix [Phish Alert] FW- There is still time to make an impact..eml\n",
      "/Users/worshamn/Documents/emailProject/IgnoreFix [Phish Alert] FW- for Jennifer Berguson.eml\n",
      "/Users/worshamn/Documents/emailProject/IgnoreFix [Phish Alert] FW- Contact List for Insurance Industry.eml\n",
      "/Users/worshamn/Documents/emailProject/IgnoreFix [Phish Alert] FW- [Spam] 2018 Small Business Tour.eml\n",
      "/Users/worshamn/Documents/emailProject/IgnoreFix [Phish Alert] FW- For our employees- Movie rental and ticket discounts.eml\n",
      "/Users/worshamn/Documents/emailProject/IgnoreFix [Phish Alert] FW- Quick Question  Oracle Resource Team.eml\n",
      "/Users/worshamn/Documents/emailProject/IgnoreFix [Phish Alert] FW- 89245239597-61.eml\n",
      "/Users/worshamn/Documents/emailProject/IgnoreFix [Phish Alert] FW- The V.I.P. Event Starts TODAY.eml\n",
      "/Users/worshamn/Documents/emailProject/IgnoreFix [Phish Alert] FW- Important document notice..eml\n",
      "/Users/worshamn/Documents/emailProject/IgnoreFix [Phish Alert] FW- Look at these new Customer Service Representative jobs we've found for you.eml\n",
      "/Users/worshamn/Documents/emailProject/IgnoreFix [Phish Alert] FW- Barbara.jones shed 1LB a day this Fall.eml\n",
      "/Users/worshamn/Documents/emailProject/IgnoreFix [Phish Alert] FW- Kare Products has moved.eml\n",
      "/Users/worshamn/Documents/emailProject/IgnoreFix [Phish Alert] FW- IT Learning Resources - Network Edition.eml\n",
      "/Users/worshamn/Documents/emailProject/IgnoreFix [Phish Alert] FW- Hi Billee, just a quick question about VGM Homelink.eml\n",
      "/Users/worshamn/Documents/emailProject/IgnoreFix [Phish Alert] FW- From Your BEST Automotive Broker.eml\n",
      "/Users/worshamn/Documents/emailProject/IgnoreFix [Phish Alert] FW- 2017 Employee Engagement & Retention Statistics.eml\n",
      "/Users/worshamn/Documents/emailProject/IgnoreFix [Phish Alert] FW- Dear Beloved One,.eml\n",
      "/Users/worshamn/Documents/emailProject/IgnoreFix [Phish Alert] FW- Reminder- Opioid Overdose Prevention and Treatment Webinar on 11-8.eml\n",
      "/Users/worshamn/Documents/emailProject/IgnoreFix [Phish Alert] FW- Shark Tank shocks the world again.eml\n",
      "/Users/worshamn/Documents/emailProject/IgnoreFix [Phish Alert] FW- Find Out if Your Business is Ready For the Digital Age.eml\n",
      "/Users/worshamn/Documents/emailProject/IgnoreFix [Phish Alert] FW- You can be your own boss with this.eml\n",
      "/Users/worshamn/Documents/emailProject/IgnoreFix [Phish Alert] FW- Call for participation - PMP Boot Camp in your City.eml\n",
      "/Users/worshamn/Documents/emailProject/IgnoreFix [Phish Alert] FW- This will force your body into ketosis without counting carbs..eml\n",
      "/Users/worshamn/Documents/emailProject/IgnoreFix [Phish Alert] FW- Utilizing Microsoft® Word™ Features and Functions- December 15 - 1 pm ET.eml\n",
      "/Users/worshamn/Documents/emailProject/IgnoreFix [Phish Alert] FW- Question for Sherri 🙋.eml\n",
      "/Users/worshamn/Documents/emailProject/IgnoreFix [Phish Alert] FW- Next Gen Hybrid Backup, Recovery and DR - Lunch and Learn event at 11-45am on September 27th.eml\n",
      "/Users/worshamn/Documents/emailProject/IgnoreFix [Phish Alert] FW- 12,000 Pre-Attendees at USD1200  HX- The Hotel Experience (formerly IHMRS) Trade Show.eml\n",
      "/Users/worshamn/Documents/emailProject/IgnoreFix [Phish Alert] FW- Register for our free webinar and learn how to reduce the risks to your network..eml\n",
      "/Users/worshamn/Documents/emailProject/IgnoreFix [Phish Alert] FW- Managing Stress in the Workplace-Tips and Best Practices - OnDemand Webinar.eml\n",
      "/Users/worshamn/Documents/emailProject/IgnoreFix [Phish Alert] FW- Too Good To Be True - 60% OFF Plus a $25 Amazon Gift Card.eml\n",
      "/Users/worshamn/Documents/emailProject/IgnoreFix [Phish Alert] FW- NOVAtime 2 Minute Technology Survey $15 Amazon Gift Card.eml\n",
      "/Users/worshamn/Documents/emailProject/IgnoreFix [Phish Alert] FW- A toast to the classics.eml\n",
      "/Users/worshamn/Documents/emailProject/IgnoreFix [Phish Alert] FW- Kathy, get back on Facebook with one click.eml\n",
      "/Users/worshamn/Documents/emailProject/IgnoreFix [Phish Alert] FW- Join conservationists from around the country at Nov 29-30 SRSN Annual Meeting -- Science, Policy, & Practice-  Space Limited -- register today.eml\n",
      "/Users/worshamn/Documents/emailProject/IgnoreFix [Phish Alert] FW- The Gronstedt Group Newsletter- You are now unsubscribed.eml\n",
      "/Users/worshamn/Documents/emailProject/IgnoreFix [Phish Alert] FW- Don't ignore skin tags.eml\n",
      "/Users/worshamn/Documents/emailProject/IgnoreFix [Phish Alert] FW- Maintaining Exceptional Customer Service During the Holiday Rush - Register Today.eml\n",
      "/Users/worshamn/Documents/emailProject/IgnoreFix [Phish Alert] FW- What’s Hot in Video-AV for 2018.eml\n",
      "/Users/worshamn/Documents/emailProject/IgnoreFix [Phish Alert] FW- This week.eml\n",
      "/Users/worshamn/Documents/emailProject/IgnoreFix [Phish Alert] FW- Get your desk and comfy chair. This is how you get an office job..eml\n",
      "/Users/worshamn/Documents/emailProject/IgnoreFix [Phish Alert] FW- Have you ever seen a stocking like this.eml\n",
      "/Users/worshamn/Documents/emailProject/IgnoreFix [Phish Alert] FW- A Special Message From MTI.eml\n",
      "/Users/worshamn/Documents/emailProject/IgnoreFix [Phish Alert] FW- Live demo this Thursday- Much more than just a cloud phone system.eml\n",
      "/Users/worshamn/Documents/emailProject/IgnoreFix [Phish Alert] FW- Why half of all Americans now have high BP.eml\n",
      "/Users/worshamn/Documents/emailProject/IgnoreFix [Phish Alert] FW- Complete a quick survey - get a preloaded gift card.eml\n",
      "/Users/worshamn/Documents/emailProject/IgnoreFix [Phish Alert] FW- Carol sent you an invitation on LinkedIn.eml\n",
      "/Users/worshamn/Documents/emailProject/IgnoreFix [Phish Alert] FW- [Spam] Thinking about retirement Start with this guide.eml\n",
      "/Users/worshamn/Documents/emailProject/IgnoreFix [Phish Alert] FW- Transforming Your Corporate Compliance Program.eml\n",
      "/Users/worshamn/Documents/emailProject/IgnoreFix [Phish Alert] FW- Kindfulness Reminder.eml\n",
      "/Users/worshamn/Documents/emailProject/IgnoreFix [Phish Alert] FW- ❄️Schedule your donation today! copy.eml\n",
      "/Users/worshamn/Documents/emailProject/IgnoreFix [Phish Alert] FW- Jim, Does Anyone in Your Office Need Maid Service.eml\n",
      "/Users/worshamn/Documents/emailProject/IgnoreFix [Phish Alert] FW- Card ready! Unlock your pre-loaded card today by midnight.eml\n",
      "/Users/worshamn/Documents/emailProject/IgnoreFix [Phish Alert] FW- Credentials 101- What You Need to Know to Keep Your Business Safe.eml\n"
     ]
    },
    {
     "name": "stdout",
     "output_type": "stream",
     "text": [
      "/Users/worshamn/Documents/emailProject/IgnoreFix [Phish Alert] FW- mPower March Insights- Predictive Analytics in Workers' Comp and Visualizing Claims Data.eml\n",
      "/Users/worshamn/Documents/emailProject/IgnoreFix [Phish Alert] FW- → 8 Jobs for Medical Payments Services Manager - Denver.eml\n",
      "/Users/worshamn/Documents/emailProject/IgnoreFix [Phish Alert] FW- Includes- Apple's Great Marketing Trick Roman Numerals.eml\n",
      "/Users/worshamn/Documents/emailProject/IgnoreFix [Phish Alert] FW- Sign Up Today! Health Headliners pres. Eric Neufeld on Prosthetics.eml\n",
      "/Users/worshamn/Documents/emailProject/IgnoreFix [Phish Alert] FW- Letters of Credit for Importers - Exporters.eml\n",
      "/Users/worshamn/Documents/emailProject/IgnoreFix [Phish Alert] FW- Is Governance Your Glue or Your Red Tape.eml\n",
      "/Users/worshamn/Documents/emailProject/IgnoreFix [Phish Alert] FW- We’re updating our terms of use and privacy policy.eml\n",
      "/Users/worshamn/Documents/emailProject/IgnoreFix [Phish Alert] FW- email verification today.eml\n",
      "/Users/worshamn/Documents/emailProject/IgnoreFix [Phish Alert] FW- Score! You’re a Fanatics NFL Fans!.eml\n",
      "/Users/worshamn/Documents/emailProject/IgnoreFix [Phish Alert] FW- Need a contract reviewed you dont understand Use your Service!.eml\n",
      "/Users/worshamn/Documents/emailProject/IgnoreFix [Phish Alert] FW- 100 Years! Share Your Story!.eml\n",
      "/Users/worshamn/Documents/emailProject/IgnoreFix [Phish Alert] FW- All five Shark-Tank judges back two sisters and make history.eml\n",
      "/Users/worshamn/Documents/emailProject/IgnoreFix [Phish Alert] FW- Marketing Genius- Plastic Card Holders.eml\n",
      "/Users/worshamn/Documents/emailProject/IgnoreFix [Phish Alert] FW- Новини грантів та фандрейзингу від Клубу Сталого Бізнесу за 03-01-2018.eml\n",
      "/Users/worshamn/Documents/emailProject/IgnoreFix [Phish Alert] FW- Here’s The Edge You Need.eml\n",
      "/Users/worshamn/Documents/emailProject/IgnoreFix [Phish Alert] FW- Reach your target audience.eml\n",
      "/Users/worshamn/Documents/emailProject/IgnoreFix [Phish Alert] FW- New Custom Grind Wedge, On the House!.eml\n",
      "/Users/worshamn/Documents/emailProject/IgnoreFix [Phish Alert] FW- Stress buster, broadcaster, bridge speaker.eml\n",
      "/Users/worshamn/Documents/emailProject/IgnoreFix [Phish Alert] FW- Machine Learning Audit - Complimentary - Synaptik - Google, Facebook Partner.eml\n",
      "/Users/worshamn/Documents/emailProject/IgnoreFix [Phish Alert] FW- Future Proof Your Storage Strategy-Lunch and Learn Event Wednesday, December 13th.eml\n",
      "/Users/worshamn/Documents/emailProject/IgnoreFix [Phish Alert] FW- Subscription Change Confirmation.eml\n",
      "/Users/worshamn/Documents/emailProject/IgnoreFix [Phish Alert] FW- [Spam] Fill out a survey - get an early Christmas gift.eml\n",
      "/Users/worshamn/Documents/emailProject/IgnoreFix [Phish Alert] FW- Your Exclusive Weekend Offer for Downtown Manhattan! .eml\n",
      "/Users/worshamn/Documents/emailProject/IgnoreFix [Phish Alert] FW- Tactical Stocking - Get a Surprise $60 Gift.eml\n",
      "/Users/worshamn/Documents/emailProject/IgnoreFix [Phish Alert] FW- New Recommended Healthcare Jobs Near Columbia, SC.eml\n",
      "/Users/worshamn/Documents/emailProject/IgnoreFix [Phish Alert] FW- Trick or Treat Street, Oct 27-29, is the most boo-tiful fall festival in town!.eml\n",
      "/Users/worshamn/Documents/emailProject/IgnoreFix [Phish Alert] FW- Upcoming Commvault® Cloud Data Protection Customer Survey.eml\n",
      "/Users/worshamn/Documents/emailProject/IgnoreFix [Phish Alert] FW- Insurer Must Cover Kickback Scheme Suit, 9th Circ. Affirms.eml\n",
      "/Users/worshamn/Documents/emailProject/IgnoreFix [Phish Alert] FW- You could have a $55k salary.eml\n",
      "/Users/worshamn/Documents/emailProject/IgnoreFix [Phish Alert] FW- Participate in our customer research and receive a $50 gift card.eml\n",
      "/Users/worshamn/Documents/emailProject/IgnoreFix [Phish Alert] FW- Meeting request form ISC .eml\n",
      "/Users/worshamn/Documents/emailProject/IgnoreFix [Phish Alert] FW- 30 Minute Analyst Talk- Securing Team Collaboration.eml\n",
      "/Users/worshamn/Documents/emailProject/IgnoreFix [Phish Alert] FW- Performance-Based Appointment Setting for Pinnacol Assurance.eml\n",
      "/Users/worshamn/Documents/emailProject/IgnoreFix [Phish Alert] FW- Vacant Interiors, Inc. C.eml\n",
      "/Users/worshamn/Documents/emailProject/IgnoreFix [Phish Alert] FW- Season's Greetings.eml\n",
      "/Users/worshamn/Documents/emailProject/IgnoreFix [Phish Alert] FW- Pre-order Samsung Galaxy S9 and pile on the savings.eml\n",
      "/Users/worshamn/Documents/emailProject/IgnoreFix [Phish Alert] FW- Stop Making Equifax Mistakes - Q&A chat with security expert Eric Vandenburg.eml\n",
      "/Users/worshamn/Documents/emailProject/IgnoreFix [Phish Alert] FW- ReviewLink Content Closed for Comments Notification.eml\n",
      "/Users/worshamn/Documents/emailProject/IgnoreFix [Phish Alert] FW- Property value is rising.eml\n",
      "/Users/worshamn/Documents/emailProject/IgnoreFix [Phish Alert] FW- You are actually not balding.eml\n",
      "/Users/worshamn/Documents/emailProject/IgnoreFix [Phish Alert] FW- Unlock your Amazon gift card before midnight.eml\n",
      "/Users/worshamn/Documents/emailProject/IgnoreFix [Phish Alert] FW- Virtual Teams- Managing People Effectively at Multiple Locations.eml\n",
      "/Users/worshamn/Documents/emailProject/IgnoreFix [Phish Alert] FW- We want to stay in touch, but only if you want to!.eml\n",
      "/Users/worshamn/Documents/emailProject/IgnoreFix [Phish Alert] FW- Levi.hunold it's time to unlock your Amazon Prime preloaded card.eml\n",
      "/Users/worshamn/Documents/emailProject/IgnoreFix [Phish Alert] FW- 4-days PMP Boot Camp training.eml\n",
      "/Users/worshamn/Documents/emailProject/IgnoreFix [Phish Alert] FW- serious money stats.eml\n",
      "/Users/worshamn/Documents/emailProject/IgnoreFix [Phish Alert] FW- Change your Atlassian password.eml\n",
      "/Users/worshamn/Documents/emailProject/IgnoreFix [Phish Alert] FW- Final step to unlock your Amazon card #vcuyM.eml\n",
      "/Users/worshamn/Documents/emailProject/IgnoreFix [Phish Alert] FW- Coming Soon- Financial Training in America.eml\n",
      "/Users/worshamn/Documents/emailProject/IgnoreFix [Phish Alert] FW- Last 24 hrs- Making the Most of LinkedIn for HR Professionals.eml\n",
      "/Users/worshamn/Documents/emailProject/IgnoreFix [Phish Alert] FW- Analytics that make sense to the business.eml\n",
      "/Users/worshamn/Documents/emailProject/IgnoreFix [Phish Alert] FW- [Spam] Here’s The Edge You Need.eml\n",
      "/Users/worshamn/Documents/emailProject/IgnoreFix [Phish Alert] FW- This is that shedding 50 lb looks like.eml\n",
      "/Users/worshamn/Documents/emailProject/IgnoreFix [Phish Alert] FW- Software Advice Alternatives - Top 5 ADP Competitors.eml\n",
      "/Users/worshamn/Documents/emailProject/IgnoreFix [Phish Alert] FW- Treat yourself!.eml\n",
      "/Users/worshamn/Documents/emailProject/IgnoreFix [Phish Alert] FW- [Spam] 2018 Telemedicine- Coding, Billing and Compliance.eml\n",
      "/Users/worshamn/Documents/emailProject/IgnoreFix [Phish Alert] FW- Mini spy camera connects to any outlet.eml\n",
      "/Users/worshamn/Documents/emailProject/IgnoreFix [Phish Alert] FW- Pay Without Log In- a fast, simple, secure way to pay.eml\n",
      "/Users/worshamn/Documents/emailProject/IgnoreFix [Phish Alert] FW- [Demo Day] Solve your biggest recruiting and reporting pain points.eml\n",
      "/Users/worshamn/Documents/emailProject/IgnoreFix [Phish Alert] FW- 1 page.eml\n",
      "/Users/worshamn/Documents/emailProject/IgnoreFix [Phish Alert] FW- Learn What’s New on Microsoft vs Cisco and More.eml\n",
      "/Users/worshamn/Documents/emailProject/IgnoreFix [Phish Alert] FW- Alec Bradley cigar happy hour event tonight from 5-8pm with live music.eml\n",
      "/Users/worshamn/Documents/emailProject/IgnoreFix [Phish Alert] FW- Hi Amanda, can we talk.eml\n",
      "/Users/worshamn/Documents/emailProject/IgnoreFix [Phish Alert] FW- You could be paid 52,000+ a year.eml\n",
      "/Users/worshamn/Documents/emailProject/IgnoreFix [Phish Alert] FW- Secure Messaging Password Notification.eml\n",
      "/Users/worshamn/Documents/emailProject/IgnoreFix [Phish Alert] FW- [Spam] Lorayne sent you an invitation on LinkedIn.eml\n",
      "/Users/worshamn/Documents/emailProject/IgnoreFix [Phish Alert] FW- Forge your own path with an MBA.eml\n",
      "/Users/worshamn/Documents/emailProject/IgnoreFix [Phish Alert] FW- Medical Records 101- Responding to Requests for Patient Information- October 26 - 1 pm ET.eml\n",
      "/Users/worshamn/Documents/emailProject/IgnoreFix [Phish Alert] FW- How Persistent Can an Adjuster Really Be (Plus, a Tuesday Laugh).eml\n",
      "/Users/worshamn/Documents/emailProject/IgnoreFix [Phish Alert] FW- Här är hela listan med vårens kurser inom kommunikation och marknadsföring.eml\n",
      "/Users/worshamn/Documents/emailProject/IgnoreFix [Phish Alert] FW- Valentine's Day ecards for your Sweetheart.eml\n",
      "/Users/worshamn/Documents/emailProject/IgnoreFix [Phish Alert] FW- Updated Lead List of PI-SSD-WC Attorneys.eml\n"
     ]
    },
    {
     "name": "stdout",
     "output_type": "stream",
     "text": [
      "/Users/worshamn/Documents/emailProject/IgnoreFix [Phish Alert] FW- Response Requested Am I Being Buried.eml\n",
      "/Users/worshamn/Documents/emailProject/IgnoreFix [Phish Alert] FW- The Golf Wire- Nemacolin Woodlands Resort offers fall specials; C.W. Golf Architecture develops plan for CC of Jackson; and more.eml\n",
      "/Users/worshamn/Documents/emailProject/IgnoreFix [Phish Alert] FW- [Spam] Need some extra Christmas funds.eml\n",
      "/Users/worshamn/Documents/emailProject/IgnoreFix [Phish Alert] FW- Prime Santa Fe Value-Add Anchored Retail Asset With Substantial Upside.eml\n",
      "/Users/worshamn/Documents/emailProject/IgnoreFix [Phish Alert] FW- [Virtual event] See a demo of chatbots in action.eml\n",
      "/Users/worshamn/Documents/emailProject/IgnoreFix [Phish Alert] FW- Health Insurances .eml\n",
      "/Users/worshamn/Documents/emailProject/IgnoreFix [Phish Alert] FW- Evaluating Our Solutions Join Us and Save 50%.eml\n",
      "/Users/worshamn/Documents/emailProject/IgnoreFix [Phish Alert] FW- Interested in becoming a Certified Ethical Hacker.eml\n",
      "/Users/worshamn/Documents/emailProject/IgnoreFix [Phish Alert] FW- Don't have a Will Use your service!.eml\n",
      "/Users/worshamn/Documents/emailProject/IgnoreFix [Phish Alert] FW- You don't know the value of your home.eml\n",
      "/Users/worshamn/Documents/emailProject/IgnoreFix [Phish Alert] FW- We Wheelie Like You!.eml\n"
     ]
    }
   ],
   "source": [
    "df = pd.DataFrame()\n",
    "for d,v in input_dirs.items():\n",
    "    for f in input_dirs[d]:\n",
    "        print(d, f)\n",
    "        with open(os.path.join(d,f),'r',encoding='utf-8', errors='ignore') as raw_mail:\n",
    "            mail_dict = get_email_text(raw_mail)\n",
    "            df = df.append(\n",
    "                {\n",
    "                    #'filename': f,\n",
    "                    'text': mail_dict['mail_text'],\n",
    "                    'target': get_target(d),\n",
    "                    #'subject_len': mail_dict['subject_len'],\n",
    "                    #'body_len': mail_dict['body_len'],\n",
    "                    #'has_attachments': tryGetKeyValue(mail_dict, 'has_attachments',0),\n",
    "                    #'num_attachments': tryGetKeyValue(mail_dict, 'num_attachments',0),\n",
    "                    #'attachment_filename': tryGetKeyValue(mail_dict, 'attachment_filename'),\n",
    "                    #'attachment_content_type': tryGetKeyValue(mail_dict, 'attachment_content_type'),\n",
    "                    #'DKIM': tryGetKeyValue(mail_dict, 'X-BAEAI-DKIM'),\n",
    "                    #'DMARC': tryGetKeyValue(mail_dict, 'X-BAEAI-DMARC'),\n",
    "                    #'SPF': tryGetKeyValue(mail_dict, 'X-BAEAI-SPF'),\n",
    "                    #'return_path_match_from': mail_dict['return_path_match_from'],\n",
    "                    #'from_tld': tryGetKeyValue(mail_dict, 'from_tld'),\n",
    "                    #'Content-type': mail_dict['Content-type'],\n",
    "                    #'DOTW': tryGetKeyValue(mail_dict, 'DOTW'),\n",
    "                    #'HOTD': tryGetKeyValue(mail_dict, 'HOTD'),\n",
    "                    #'url': mail_dict['url'],\n",
    "                    #'has_url': tryGetKeyValue(mail_dict, 'has_url',0),\n",
    "                    #'num_url': tryGetKeyValue(mail_dict, 'num_url',0),\n",
    "                    #'num_uniq_url': tryGetKeyValue(mail_dict, 'num_uniq_url',0),\n",
    "                    #'email': tryGetKeyValue(mail_dict, 'email'),\n",
    "                    #'has_email': tryGetKeyValue(mail_dict, 'has_email',0),\n",
    "                    #'num_email_addr': tryGetKeyValue(mail_dict, 'num_email_addr',0),\n",
    "                    #'num_uniq_email': tryGetKeyValue(mail_dict, 'num_uniq_email',0),\n",
    "                    #'num_url_repeats': tryGetKeyValue(mail_dict, 'num_url_repeats',0),\n",
    "                    #'url_len': mail_dict['url_len'],\n",
    "                    #'url_tld': mail_dict['url_tld'],\n",
    "                    #'uniq_url_tld': mail_dict['uniq_url_tld'],\n",
    "                    #'has_html_content': tryGetKeyValue(mail_dict, 'has_html_content',0),\n",
    "                    #'has_javascript': tryGetKeyValue(mail_dict, 'has_javascript',0),\n",
    "                    #'has_inline_img': tryGetKeyValue(mail_dict, 'has_inline_img',0),\n",
    "                    #'TAP-Score': tryGetKeyValue(mail_dict, 'X-USANET-TAP-Score',-1),\n",
    "                    #'links': tryGetKeyValue(mail_dict, 'links'),\n",
    "                    #'num_link': tryGetKeyValue(mail_dict, 'num_link',0),\n",
    "                    #'num_uniq_link': tryGetKeyValue(mail_dict, 'num_uniq_link',0),\n",
    "                    #'has_repeat_link': tryGetKeyValue(mail_dict, 'has_repeat_link',0),\n",
    "                    #'masq_link': tryGetKeyValue(mail_dict, 'masq_link'),\n",
    "                    #'has_masq_link': tryGetKeyValue(mail_dict, 'has_masq_link',0),\n",
    "                    #'num_masq_link': tryGetKeyValue(mail_dict, 'num_masq_link',0),\n",
    "                    #'masq_link_tld': tryGetKeyValue(mail_dict, 'masq_link_tld'),\n",
    "                    #'is_multipart': tryGetKeyValue(mail_dict, 'is_mulitpart', 0),\n",
    "                    #'has_defects': mail_dict['has_defects'],\n",
    "                    #'num_email_link': tryGetKeyValue(mail_dict, 'num_email_link',0),\n",
    "                    #'has_unsubscribe_link': tryGetKeyValue(mail_dict, 'has_unsubscribe_link', 0),\n",
    "                }, \n",
    "                ignore_index=True\n",
    "            )"
   ]
  },
  {
   "cell_type": "markdown",
   "metadata": {},
   "source": [
    "Convert cells that are not recognized as a number or just to get rid of float"
   ]
  },
  {
   "cell_type": "code",
   "execution_count": 10,
   "metadata": {},
   "outputs": [
    {
     "name": "stdout",
     "output_type": "stream",
     "text": [
      "<class 'pandas.core.frame.DataFrame'>\n",
      "RangeIndex: 784 entries, 0 to 783\n",
      "Data columns (total 2 columns):\n",
      "target    784 non-null object\n",
      "text      784 non-null object\n",
      "dtypes: object(2)\n",
      "memory usage: 12.3+ KB\n"
     ]
    }
   ],
   "source": [
    "df.info()"
   ]
  },
  {
   "cell_type": "markdown",
   "metadata": {},
   "source": [
    "Create a function to clean the text"
   ]
  },
  {
   "cell_type": "code",
   "execution_count": 11,
   "metadata": {},
   "outputs": [],
   "source": [
    "def clean_text(\n",
    "    docs, \n",
    "    remove_urls=True,\n",
    "    remove_emails=True,\n",
    "    lemmatize=True,\n",
    "    remove_stopwords=True, \n",
    "    custom_stopwords=None,\n",
    "#     term_min_len=0,\n",
    "):\n",
    "    #only use parts of spaCy needed\n",
    "    nlp = spacy.load('en', disable=['parser','ner','textcat'])\n",
    "    #remove urls\n",
    "    if remove_urls:\n",
    "        print('remove URLS')\n",
    "        docs = [\n",
    "            re.sub('(?i)(?:www|https?)(?:://)?[^\\s]+','',text)\n",
    "            for text in docs\n",
    "        ]\n",
    "    #remove emails\n",
    "    if remove_emails:\n",
    "        print('remove email addresses')\n",
    "        docs = [\n",
    "            re.sub('(?i)[\\w.]+@[\\w.]+\\.[\\w.]{2,5}','',text)\n",
    "            for text in docs\n",
    "        ]\n",
    "    #remove punct and digits\n",
    "    print('removing punctuation and digits and change to lowercase')\n",
    "    table = str.maketrans({key: None for key in string.punctuation + string.digits})\n",
    "    clean_docs = [\n",
    "        str(d).lower().translate(table)\n",
    "        for d in docs\n",
    "    ]\n",
    "        \n",
    "    #tokenize in spacy\n",
    "    if lemmatize:\n",
    "        print('spacy tokenization')\n",
    "        nlp_docs = [nlp(d) for d in clean_docs]\n",
    "        #lemmatization, words like I get changed into -PRON- so leave them alone\n",
    "        if remove_stopwords:\n",
    "            print('lemmatization and remove stopwords')\n",
    "    #         stopwords_nltk = sorted(nltk.corpus.stopwords.words('english'))\n",
    "            if custom_stopwords:\n",
    "                custom_stopwords = set(custom_stopwords)\n",
    "            else:\n",
    "                custom_stopwords = []\n",
    "            lemmatized_docs = [\n",
    "                [\n",
    "                    w.lemma_ \n",
    "                    for w in d\n",
    "                    if (w.lemma_ != '-PRON-' and not w.is_stop and w.lemma_ not in custom_stopwords) \n",
    "                ]\n",
    "                for d in nlp_docs\n",
    "            ]\n",
    "        else:\n",
    "            print('lemmatization')\n",
    "            lemmatized_docs = [\n",
    "            [\n",
    "                w.lemma_\n",
    "                if w.lemma_ != '-PRON-'\n",
    "                else w.lower_\n",
    "                for w in d\n",
    "            ]\n",
    "            for d in nlp_docs\n",
    "        ]\n",
    "    if lemmatized_docs:\n",
    "        clean_docs = lemmatized_docs\n",
    "    \n",
    "    # join tokens back into doc\n",
    "    clean_docs = [\n",
    "        ' '.join(l) \n",
    "        for l in clean_docs\n",
    "    ]\n",
    "\n",
    "    return clean_docs"
   ]
  },
  {
   "cell_type": "markdown",
   "metadata": {},
   "source": [
    "Clean the text"
   ]
  },
  {
   "cell_type": "code",
   "execution_count": 12,
   "metadata": {
    "scrolled": true
   },
   "outputs": [
    {
     "name": "stdout",
     "output_type": "stream",
     "text": [
      "remove URLS\n",
      "remove email addresses\n",
      "removing punctuation and digits and change to lowercase\n",
      "spacy tokenization\n",
      "lemmatization and remove stopwords\n",
      "done in 10.248s\n"
     ]
    }
   ],
   "source": [
    "from time import time\n",
    "t0 = time()\n",
    "corpus = clean_text(\n",
    "    df['text'], \n",
    ")\n",
    "print(\"done in %0.3fs\" % (time() - t0))"
   ]
  },
  {
   "cell_type": "code",
   "execution_count": 13,
   "metadata": {},
   "outputs": [],
   "source": [
    "df['cleaned_text'] = pd.Series(corpus).values"
   ]
  },
  {
   "cell_type": "code",
   "execution_count": 14,
   "metadata": {},
   "outputs": [
    {
     "data": {
      "text/html": [
       "<div>\n",
       "<style scoped>\n",
       "    .dataframe tbody tr th:only-of-type {\n",
       "        vertical-align: middle;\n",
       "    }\n",
       "\n",
       "    .dataframe tbody tr th {\n",
       "        vertical-align: top;\n",
       "    }\n",
       "\n",
       "    .dataframe thead th {\n",
       "        text-align: right;\n",
       "    }\n",
       "</style>\n",
       "<table border=\"1\" class=\"dataframe\">\n",
       "  <thead>\n",
       "    <tr style=\"text-align: right;\">\n",
       "      <th></th>\n",
       "      <th>target</th>\n",
       "      <th>text</th>\n",
       "      <th>cleaned_text</th>\n",
       "    </tr>\n",
       "  </thead>\n",
       "  <tbody>\n",
       "    <tr>\n",
       "      <th>384</th>\n",
       "      <td>ignore</td>\n",
       "      <td>Get the most out of your studies Hey Sabrina.w...</td>\n",
       "      <td>study hey sabrinawillishaywood mention have tr...</td>\n",
       "    </tr>\n",
       "    <tr>\n",
       "      <th>164</th>\n",
       "      <td>investigate</td>\n",
       "      <td>Payment to Transaction # 68M6WZF3N84J45K      ...</td>\n",
       "      <td>payment transaction   mwzfnjk        hi amanda...</td>\n",
       "    </tr>\n",
       "    <tr>\n",
       "      <th>729</th>\n",
       "      <td>ignore</td>\n",
       "      <td>You could have a $55k salary who lived in engl...</td>\n",
       "      <td>k salary live england serve wwii come boston b...</td>\n",
       "    </tr>\n",
       "    <tr>\n",
       "      <th>689</th>\n",
       "      <td>ignore</td>\n",
       "      <td>A Special Message From MTI CAN’T SEE IMAGE? CL...</td>\n",
       "      <td>special message mti not image click       img ...</td>\n",
       "    </tr>\n",
       "    <tr>\n",
       "      <th>200</th>\n",
       "      <td>investigate</td>\n",
       "      <td>100.net;  s 161025;  h=x-gm-message-state:date...</td>\n",
       "      <td>net   s    hxgmmessagestatedatefromtomessageid...</td>\n",
       "    </tr>\n",
       "    <tr>\n",
       "      <th>776</th>\n",
       "      <td>ignore</td>\n",
       "      <td>Prime Santa Fe Value-Add Anchored Retail Asset...</td>\n",
       "      <td>prime santa fe valueadd anchor retail asset su...</td>\n",
       "    </tr>\n",
       "    <tr>\n",
       "      <th>476</th>\n",
       "      <td>ignore</td>\n",
       "      <td>Share Your Feedback â Win an Instant Pot We’...</td>\n",
       "      <td>share feedback â win instant pot be give awa...</td>\n",
       "    </tr>\n",
       "    <tr>\n",
       "      <th>378</th>\n",
       "      <td>investigate</td>\n",
       "      <td>ShareFile Message From: Scott Houge ShareFile ...</td>\n",
       "      <td>sharefile message scott houge sharefile encryp...</td>\n",
       "    </tr>\n",
       "    <tr>\n",
       "      <th>565</th>\n",
       "      <td>ignore</td>\n",
       "      <td>Big announcements from our September event.   ...</td>\n",
       "      <td>big announcement september event       monumen...</td>\n",
       "    </tr>\n",
       "    <tr>\n",
       "      <th>392</th>\n",
       "      <td>ignore</td>\n",
       "      <td>Two sisters want you to try what they discover...</td>\n",
       "      <td>sister want try discover michellebarne be sorr...</td>\n",
       "    </tr>\n",
       "  </tbody>\n",
       "</table>\n",
       "</div>"
      ],
      "text/plain": [
       "          target                                               text  \\\n",
       "384       ignore  Get the most out of your studies Hey Sabrina.w...   \n",
       "164  investigate  Payment to Transaction # 68M6WZF3N84J45K      ...   \n",
       "729       ignore  You could have a $55k salary who lived in engl...   \n",
       "689       ignore  A Special Message From MTI CAN’T SEE IMAGE? CL...   \n",
       "200  investigate  100.net;  s 161025;  h=x-gm-message-state:date...   \n",
       "776       ignore  Prime Santa Fe Value-Add Anchored Retail Asset...   \n",
       "476       ignore  Share Your Feedback â Win an Instant Pot We’...   \n",
       "378  investigate  ShareFile Message From: Scott Houge ShareFile ...   \n",
       "565       ignore  Big announcements from our September event.   ...   \n",
       "392       ignore  Two sisters want you to try what they discover...   \n",
       "\n",
       "                                          cleaned_text  \n",
       "384  study hey sabrinawillishaywood mention have tr...  \n",
       "164  payment transaction   mwzfnjk        hi amanda...  \n",
       "729  k salary live england serve wwii come boston b...  \n",
       "689  special message mti not image click       img ...  \n",
       "200  net   s    hxgmmessagestatedatefromtomessageid...  \n",
       "776  prime santa fe valueadd anchor retail asset su...  \n",
       "476  share feedback â win instant pot be give awa...  \n",
       "378  sharefile message scott houge sharefile encryp...  \n",
       "565  big announcement september event       monumen...  \n",
       "392  sister want try discover michellebarne be sorr...  "
      ]
     },
     "execution_count": 14,
     "metadata": {},
     "output_type": "execute_result"
    }
   ],
   "source": [
    "df.sample(10,random_state=123)"
   ]
  },
  {
   "cell_type": "markdown",
   "metadata": {},
   "source": [
    "Split the sample set into test and training sets"
   ]
  },
  {
   "cell_type": "code",
   "execution_count": 15,
   "metadata": {},
   "outputs": [],
   "source": [
    "df_target = df['target']\n",
    "df_feats = df['cleaned_text']\n",
    "train_feats, test_feats, train_labels, test_labels = train_test_split(\n",
    "    df_feats, \n",
    "    df_target, \n",
    "    test_size=0.20, \n",
    "    random_state=7350,\n",
    "    stratify=df_target\n",
    ")"
   ]
  },
  {
   "cell_type": "markdown",
   "metadata": {},
   "source": [
    "#### TFIDF Creation"
   ]
  },
  {
   "cell_type": "code",
   "execution_count": 16,
   "metadata": {},
   "outputs": [
    {
     "name": "stdout",
     "output_type": "stream",
     "text": [
      "done in 0.464s\n"
     ]
    }
   ],
   "source": [
    "from sklearn.feature_extraction.text import TfidfVectorizer\n",
    "t0 = time()\n",
    "vectorizer = TfidfVectorizer(\n",
    "    ngram_range=(1,3),\n",
    "    #max_df=0.9, \n",
    "    min_df=2,\n",
    "    use_idf=True\n",
    ")\n",
    "train_feats = vectorizer.fit_transform(train_feats.values.tolist())\n",
    "test_feats = vectorizer.transform(test_feats.values.tolist()) \n",
    "print(\"done in %0.3fs\" % (time() - t0))"
   ]
  },
  {
   "cell_type": "code",
   "execution_count": 17,
   "metadata": {},
   "outputs": [
    {
     "data": {
      "text/plain": [
       "(627, 8983)"
      ]
     },
     "execution_count": 17,
     "metadata": {},
     "output_type": "execute_result"
    }
   ],
   "source": [
    "train_feats.shape"
   ]
  },
  {
   "cell_type": "code",
   "execution_count": 18,
   "metadata": {},
   "outputs": [
    {
     "data": {
      "text/plain": [
       "(157, 8983)"
      ]
     },
     "execution_count": 18,
     "metadata": {},
     "output_type": "execute_result"
    }
   ],
   "source": [
    "test_feats.shape"
   ]
  },
  {
   "cell_type": "code",
   "execution_count": 19,
   "metadata": {},
   "outputs": [
    {
     "data": {
      "text/plain": [
       "ignore         320\n",
       "investigate    307\n",
       "Name: target, dtype: int64"
      ]
     },
     "execution_count": 19,
     "metadata": {},
     "output_type": "execute_result"
    }
   ],
   "source": [
    "train_labels.value_counts()"
   ]
  },
  {
   "cell_type": "code",
   "execution_count": 20,
   "metadata": {},
   "outputs": [
    {
     "data": {
      "text/plain": [
       "ignore         80\n",
       "investigate    77\n",
       "Name: target, dtype: int64"
      ]
     },
     "execution_count": 20,
     "metadata": {},
     "output_type": "execute_result"
    }
   ],
   "source": [
    "test_labels.value_counts()"
   ]
  },
  {
   "cell_type": "markdown",
   "metadata": {},
   "source": [
    "#### LSA"
   ]
  },
  {
   "cell_type": "code",
   "execution_count": 21,
   "metadata": {},
   "outputs": [
    {
     "data": {
      "text/plain": [
       "(627, 100)"
      ]
     },
     "execution_count": 21,
     "metadata": {},
     "output_type": "execute_result"
    }
   ],
   "source": [
    "svd = TruncatedSVD(n_components=100)\n",
    "train_feats = svd.fit_transform(train_feats)\n",
    "train_feats.shape"
   ]
  },
  {
   "cell_type": "code",
   "execution_count": 22,
   "metadata": {},
   "outputs": [
    {
     "data": {
      "text/plain": [
       "(157, 100)"
      ]
     },
     "execution_count": 22,
     "metadata": {},
     "output_type": "execute_result"
    }
   ],
   "source": [
    "test_feats = svd.transform(test_feats)\n",
    "test_feats.shape"
   ]
  },
  {
   "cell_type": "code",
   "execution_count": 23,
   "metadata": {},
   "outputs": [
    {
     "data": {
      "text/plain": [
       "numpy.ndarray"
      ]
     },
     "execution_count": 23,
     "metadata": {},
     "output_type": "execute_result"
    }
   ],
   "source": [
    "type(train_feats)"
   ]
  },
  {
   "cell_type": "code",
   "execution_count": 24,
   "metadata": {},
   "outputs": [
    {
     "data": {
      "text/plain": [
       "array([[ 1.34521727e-01,  6.71178616e-01, -1.52784264e-01, ...,\n",
       "         1.40972453e-02,  4.61845992e-02,  2.95680051e-04],\n",
       "       [ 7.43487860e-02, -2.30704233e-02, -4.46395105e-02, ...,\n",
       "         7.40616447e-02, -1.38176149e-02, -1.22926205e-02],\n",
       "       [ 1.39733307e-01, -3.94752654e-02, -6.14600352e-02, ...,\n",
       "        -7.22241230e-02,  4.56659576e-03, -2.76815174e-02],\n",
       "       ...,\n",
       "       [ 1.83712787e-01, -4.80468774e-02, -7.56533775e-02, ...,\n",
       "        -3.35822800e-02,  1.55452282e-02, -2.80398713e-02],\n",
       "       [ 6.17917509e-02,  1.61936919e-02, -1.37811454e-02, ...,\n",
       "         1.04054530e-02,  2.73694352e-03,  7.00720787e-02],\n",
       "       [ 1.24907414e-01,  1.23676059e-02,  5.27804760e-02, ...,\n",
       "        -7.02276485e-02,  2.93229693e-02, -4.03573137e-02]])"
      ]
     },
     "execution_count": 24,
     "metadata": {},
     "output_type": "execute_result"
    }
   ],
   "source": [
    "train_feats.view()"
   ]
  },
  {
   "cell_type": "markdown",
   "metadata": {},
   "source": [
    "Function to keep track of scoring and for printing results out"
   ]
  },
  {
   "cell_type": "code",
   "execution_count": 25,
   "metadata": {},
   "outputs": [],
   "source": [
    "score_dict = {}\n",
    "def scoring(score_dict,train_feats,train_labels,test_feats,test_labels,clf):\n",
    "    if 'accuracy' not in score_dict:\n",
    "        score_dict['accuracy'] = []\n",
    "    if 'f1' not in score_dict:\n",
    "        score_dict['f1'] = []\n",
    "    if 'FN' not in score_dict:\n",
    "        score_dict['FN'] = []\n",
    "    clf_name = re.findall('(^[^\\(]+)\\(',str(clf))[0]\n",
    "    try:\n",
    "        already_seen = clf.score(train_feats, train_labels)\n",
    "        accuracy = clf.score(test_feats, test_labels)\n",
    "        pred = clf.predict(test_feats)\n",
    "    except:\n",
    "        already_seen = clf.score(train_feats.toarray(), train_labels)\n",
    "        accuracy = clf.score(test_feats.toarray(), test_labels)\n",
    "        pred = clf.predict(test_feats.toarray())\n",
    "    f1 = f1_score(test_labels, pred, pos_label='investigate')\n",
    "    cnf_matrix = confusion_matrix(test_labels, pred)\n",
    "    FN = cnf_matrix[1][0]\n",
    "    false_negative = cnf_matrix[1][0]\n",
    "    score_dict['accuracy'].append((clf_name,accuracy))\n",
    "    score_dict['f1'].append((clf_name,f1))\n",
    "    score_dict['FN'].append((clf_name,false_negative))\n",
    "    print(clf_name + ' Scores:\\n')\n",
    "    print('Accuracy of data already seen: %0.4f' % already_seen)\n",
    "    print('Accuracy of data not seen: %0.4f' % accuracy)\n",
    "    print('F1 score: %0.4f' % f1)\n",
    "    print('False Negatives: %0d' % FN)\n",
    "    return score_dict"
   ]
  },
  {
   "cell_type": "markdown",
   "metadata": {},
   "source": [
    "#### SVM"
   ]
  },
  {
   "cell_type": "code",
   "execution_count": 26,
   "metadata": {},
   "outputs": [
    {
     "name": "stdout",
     "output_type": "stream",
     "text": [
      "done in 0.011s\n",
      "LinearSVC Scores:\n",
      "\n",
      "Accuracy of data already seen: 0.9633\n",
      "Accuracy of data not seen: 0.9490\n",
      "F1 score: 0.9467\n",
      "False Negatives: 6\n"
     ]
    }
   ],
   "source": [
    "from sklearn.svm import LinearSVC \n",
    "t0 = time()\n",
    "svm_clf = LinearSVC(random_state=7350)\n",
    "svm_clf.fit(train_feats, train_labels)\n",
    "print(\"done in %0.3fs\" % (time() - t0))\n",
    "score_dict = scoring(score_dict,train_feats,train_labels,test_feats,test_labels,svm_clf)"
   ]
  },
  {
   "cell_type": "code",
   "execution_count": 27,
   "metadata": {},
   "outputs": [
    {
     "name": "stdout",
     "output_type": "stream",
     "text": [
      "done in 0.065s\n",
      "SVC Scores:\n",
      "\n",
      "Accuracy of data already seen: 0.5104\n",
      "Accuracy of data not seen: 0.5096\n",
      "F1 score: 0.0000\n",
      "False Negatives: 77\n"
     ]
    },
    {
     "name": "stderr",
     "output_type": "stream",
     "text": [
      "/usr/local/anaconda3/lib/python3.6/site-packages/sklearn/metrics/classification.py:1135: UndefinedMetricWarning: F-score is ill-defined and being set to 0.0 due to no predicted samples.\n",
      "  'precision', 'predicted', average, warn_for)\n"
     ]
    }
   ],
   "source": [
    "from sklearn.svm import SVC \n",
    "t0 = time()\n",
    "svmr_clf = SVC(random_state=7350)\n",
    "svmr_clf.fit(train_feats, train_labels)\n",
    "print(\"done in %0.3fs\" % (time() - t0))\n",
    "score_dict = scoring(score_dict,train_feats,train_labels,test_feats,test_labels,svmr_clf)"
   ]
  },
  {
   "cell_type": "markdown",
   "metadata": {},
   "source": [
    "#### Extra Trees Classifier"
   ]
  },
  {
   "cell_type": "code",
   "execution_count": 28,
   "metadata": {},
   "outputs": [
    {
     "name": "stdout",
     "output_type": "stream",
     "text": [
      "done in 0.285s\n",
      "ExtraTreesClassifier Scores:\n",
      "\n",
      "Accuracy of data already seen: 1.0000\n",
      "Accuracy of data not seen: 0.9236\n",
      "F1 score: 0.9189\n",
      "False Negatives: 9\n"
     ]
    }
   ],
   "source": [
    "from sklearn.ensemble import ExtraTreesClassifier\n",
    "t0 = time()\n",
    "et_clf = ExtraTreesClassifier(n_jobs=-1,n_estimators=100,random_state=7350)\n",
    "et_clf.fit(train_feats, train_labels)\n",
    "print(\"done in %0.3fs\" % (time() - t0))\n",
    "score_dict = scoring(score_dict,train_feats,train_labels,test_feats,test_labels,et_clf)"
   ]
  },
  {
   "cell_type": "markdown",
   "metadata": {},
   "source": [
    "Get Feature Importances"
   ]
  },
  {
   "cell_type": "code",
   "execution_count": 29,
   "metadata": {
    "scrolled": false
   },
   "outputs": [
    {
     "name": "stdout",
     "output_type": "stream",
     "text": [
      "Feature ranking:\n",
      "1. 2 (0.160199)\n",
      "2. 1 (0.076531)\n",
      "3. 3 (0.076221)\n",
      "4. 4 (0.037747)\n",
      "5. 0 (0.024917)\n",
      "6. 9 (0.018848)\n",
      "7. 12 (0.016798)\n",
      "8. 14 (0.014203)\n",
      "9. 15 (0.012686)\n",
      "10. 16 (0.012590)\n",
      "11. 19 (0.012545)\n",
      "12. 56 (0.010543)\n",
      "13. 21 (0.010477)\n",
      "14. 28 (0.010360)\n",
      "15. 27 (0.010043)\n",
      "16. 41 (0.009854)\n",
      "17. 11 (0.009565)\n",
      "18. 8 (0.009284)\n",
      "19. 6 (0.009245)\n",
      "20. 7 (0.009193)\n",
      "21. 44 (0.009086)\n",
      "22. 20 (0.009060)\n",
      "23. 65 (0.008927)\n",
      "24. 18 (0.008570)\n",
      "25. 37 (0.008100)\n"
     ]
    }
   ],
   "source": [
    "#http://scikit-learn.org/stable/auto_examples/ensemble/plot_forest_importances.html\n",
    "#https://stackoverflow.com/a/42429989\n",
    "#https://stackoverflow.com/a/25219535\n",
    "importances = et_clf.feature_importances_\n",
    "std = np.std([tree.feature_importances_ for tree in et_clf.estimators_],\n",
    "             axis=0)\n",
    "indices = np.argsort(importances)[::-1]\n",
    "# features = vectorizer.get_feature_names()\n",
    "print(\"Feature ranking:\")\n",
    "for f in range(25):\n",
    "    print(\"%d. %s (%f)\" % (f + 1, indices[f], importances[indices[f]]))"
   ]
  },
  {
   "cell_type": "code",
   "execution_count": 30,
   "metadata": {
    "scrolled": false
   },
   "outputs": [
    {
     "data": {
      "image/png": "[encoded data removed]",
      "text/plain": [
       "<matplotlib.figure.Figure at 0x1a17adbeb8>"
      ]
     },
     "metadata": {},
     "output_type": "display_data"
    }
   ],
   "source": [
    "top_indices = indices[:25]\n",
    "top_features = [i for i in indices[:25]]\n",
    "plt.figure(figsize=(18, 16))\n",
    "plt.title(\"Feature importances\")\n",
    "plt.bar(range(25), importances[top_indices],color=\"orange\", yerr=std[top_indices], align=\"center\",)\n",
    "plt.xticks(range(25), top_features, rotation=75)\n",
    "plt.xlim([-1, 25])\n",
    "plt.show()"
   ]
  },
  {
   "cell_type": "markdown",
   "metadata": {},
   "source": [
    "#### Gradient Boost"
   ]
  },
  {
   "cell_type": "code",
   "execution_count": 31,
   "metadata": {},
   "outputs": [
    {
     "name": "stdout",
     "output_type": "stream",
     "text": [
      "done in 0.698s\n",
      "GradientBoostingClassifier Scores:\n",
      "\n",
      "Accuracy of data already seen: 1.0000\n",
      "Accuracy of data not seen: 0.9172\n",
      "F1 score: 0.9139\n",
      "False Negatives: 8\n"
     ]
    }
   ],
   "source": [
    "from sklearn.ensemble import GradientBoostingClassifier\n",
    "t0 = time()\n",
    "gb_clf = GradientBoostingClassifier(n_estimators=100,random_state=7350)\n",
    "gb_clf.fit(train_feats, train_labels)\n",
    "print(\"done in %0.3fs\" % (time() - t0))\n",
    "score_dict = scoring(score_dict,train_feats,train_labels,test_feats,test_labels,gb_clf)"
   ]
  },
  {
   "cell_type": "markdown",
   "metadata": {},
   "source": [
    "#### XGBoost"
   ]
  },
  {
   "cell_type": "code",
   "execution_count": 32,
   "metadata": {},
   "outputs": [
    {
     "name": "stdout",
     "output_type": "stream",
     "text": [
      "done in 0.522s\n",
      "XGBClassifier Scores:\n",
      "\n",
      "Accuracy of data already seen: 1.0000\n",
      "Accuracy of data not seen: 0.9236\n",
      "F1 score: 0.9231\n",
      "False Negatives: 5\n"
     ]
    },
    {
     "name": "stderr",
     "output_type": "stream",
     "text": [
      "/usr/local/anaconda3/lib/python3.6/site-packages/sklearn/preprocessing/label.py:151: DeprecationWarning: The truth value of an empty array is ambiguous. Returning False, but in future this will result in an error. Use `array.size > 0` to check that an array is not empty.\n",
      "  if diff:\n",
      "/usr/local/anaconda3/lib/python3.6/site-packages/sklearn/preprocessing/label.py:151: DeprecationWarning: The truth value of an empty array is ambiguous. Returning False, but in future this will result in an error. Use `array.size > 0` to check that an array is not empty.\n",
      "  if diff:\n",
      "/usr/local/anaconda3/lib/python3.6/site-packages/sklearn/preprocessing/label.py:151: DeprecationWarning: The truth value of an empty array is ambiguous. Returning False, but in future this will result in an error. Use `array.size > 0` to check that an array is not empty.\n",
      "  if diff:\n"
     ]
    }
   ],
   "source": [
    "from xgboost import XGBClassifier\n",
    "t0 = time()\n",
    "xgb_clf = XGBClassifier(max_depth=5,random_state=7350,n_estimators=100,n_jobs=-1)\n",
    "xgb_clf.fit(train_feats, train_labels)\n",
    "print(\"done in %0.3fs\" % (time() - t0))\n",
    "score_dict = scoring(score_dict,train_feats,train_labels,test_feats,test_labels,xgb_clf)"
   ]
  },
  {
   "cell_type": "markdown",
   "metadata": {},
   "source": [
    "#### Neural Net"
   ]
  },
  {
   "cell_type": "code",
   "execution_count": 33,
   "metadata": {},
   "outputs": [
    {
     "name": "stdout",
     "output_type": "stream",
     "text": [
      "done in 0.764s\n",
      "MLPClassifier Scores:\n",
      "\n",
      "Accuracy of data already seen: 0.9872\n",
      "Accuracy of data not seen: 0.9427\n",
      "F1 score: 0.9404\n",
      "False Negatives: 6\n"
     ]
    }
   ],
   "source": [
    "from sklearn.neural_network import MLPClassifier\n",
    "t0 = time()\n",
    "nn_clf = MLPClassifier(max_iter=800)\n",
    "nn_clf.fit(train_feats, train_labels)\n",
    "print(\"done in %0.3fs\" % (time() - t0))\n",
    "score_dict = scoring(score_dict,train_feats,train_labels,test_feats,test_labels,nn_clf)"
   ]
  },
  {
   "cell_type": "markdown",
   "metadata": {},
   "source": [
    "#### Naive Bayes"
   ]
  },
  {
   "cell_type": "code",
   "execution_count": 34,
   "metadata": {},
   "outputs": [],
   "source": [
    "# from sklearn.naive_bayes import MultinomialNB\n",
    "# t0 = time()\n",
    "# nb_clf = MultinomialNB(alpha=.001)\n",
    "# nb_clf.fit(train_feats, train_labels)\n",
    "# #nb_pred = nb_clf.predict(test_feats.drop('TAP-Score',axis=1))\n",
    "# print(\"done in %0.3fs\" % (time() - t0))\n",
    "# score_dict = scoring(score_dict,train_feats,train_labels,test_feats,test_labels,nb_clf)"
   ]
  },
  {
   "cell_type": "code",
   "execution_count": 35,
   "metadata": {},
   "outputs": [
    {
     "name": "stdout",
     "output_type": "stream",
     "text": [
      "done in 0.003s\n",
      "GaussianNB Scores:\n",
      "\n",
      "Accuracy of data already seen: 0.9043\n",
      "Accuracy of data not seen: 0.8344\n",
      "F1 score: 0.8030\n",
      "False Negatives: 24\n"
     ]
    }
   ],
   "source": [
    "from sklearn.naive_bayes import GaussianNB\n",
    "t0 = time()\n",
    "gnb_clf = GaussianNB()\n",
    "gnb_clf.fit(train_feats, train_labels)\n",
    "print(\"done in %0.3fs\" % (time() - t0))\n",
    "score_dict = scoring(score_dict,train_feats,train_labels,test_feats,test_labels,gnb_clf)"
   ]
  },
  {
   "cell_type": "markdown",
   "metadata": {},
   "source": [
    "#### Random Forest"
   ]
  },
  {
   "cell_type": "code",
   "execution_count": 36,
   "metadata": {},
   "outputs": [
    {
     "name": "stdout",
     "output_type": "stream",
     "text": [
      "done in 0.286s\n",
      "RandomForestClassifier Scores:\n",
      "\n",
      "Accuracy of data already seen: 1.0000\n",
      "Accuracy of data not seen: 0.9172\n",
      "F1 score: 0.9150\n",
      "False Negatives: 7\n"
     ]
    }
   ],
   "source": [
    "from sklearn.ensemble import RandomForestClassifier\n",
    "t0 = time()\n",
    "rf_clf = RandomForestClassifier(n_jobs=-1,n_estimators=100,random_state=7350)\n",
    "rf_clf.fit(train_feats, train_labels)\n",
    "print(\"done in %0.3fs\" % (time() - t0))\n",
    "score_dict = scoring(score_dict,train_feats,train_labels,test_feats,test_labels,rf_clf)"
   ]
  },
  {
   "cell_type": "code",
   "execution_count": 37,
   "metadata": {},
   "outputs": [
    {
     "name": "stdout",
     "output_type": "stream",
     "text": [
      "Feature ranking:\n",
      "1. 2 (0.160199)\n",
      "2. 1 (0.076531)\n",
      "3. 3 (0.076221)\n",
      "4. 4 (0.037747)\n",
      "5. 0 (0.024917)\n",
      "6. 9 (0.018848)\n",
      "7. 12 (0.016798)\n",
      "8. 14 (0.014203)\n",
      "9. 15 (0.012686)\n",
      "10. 16 (0.012590)\n",
      "11. 19 (0.012545)\n",
      "12. 56 (0.010543)\n",
      "13. 21 (0.010477)\n",
      "14. 28 (0.010360)\n",
      "15. 27 (0.010043)\n",
      "16. 41 (0.009854)\n",
      "17. 11 (0.009565)\n",
      "18. 8 (0.009284)\n",
      "19. 6 (0.009245)\n",
      "20. 7 (0.009193)\n",
      "21. 44 (0.009086)\n",
      "22. 20 (0.009060)\n",
      "23. 65 (0.008927)\n",
      "24. 18 (0.008570)\n",
      "25. 37 (0.008100)\n"
     ]
    }
   ],
   "source": [
    "importances = et_clf.feature_importances_\n",
    "std = np.std([tree.feature_importances_ for tree in et_clf.estimators_],\n",
    "             axis=0)\n",
    "indices = np.argsort(importances)[::-1]\n",
    "# features = vectorizer.get_feature_names()\n",
    "print(\"Feature ranking:\")\n",
    "for f in range(25):\n",
    "    print(\"%d. %s (%f)\" % (f + 1, indices[f], importances[indices[f]]))"
   ]
  },
  {
   "cell_type": "code",
   "execution_count": 38,
   "metadata": {},
   "outputs": [
    {
     "data": {
      "image/png": "[encoded data removed]",
      "text/plain": [
       "<matplotlib.figure.Figure at 0x1a16cdb160>"
      ]
     },
     "metadata": {},
     "output_type": "display_data"
    }
   ],
   "source": [
    "top_indices = indices[:25]\n",
    "top_features = [i for i in indices[:25]]\n",
    "plt.figure(figsize=(18, 16))\n",
    "plt.title(\"Feature importances\")\n",
    "plt.bar(range(25), importances[top_indices],color=\"red\", yerr=std[top_indices], align=\"center\",)\n",
    "plt.xticks(range(25), top_features, rotation=75)\n",
    "plt.xlim([-1, 25])\n",
    "plt.show()"
   ]
  },
  {
   "cell_type": "markdown",
   "metadata": {},
   "source": [
    "#### Nearest Neighbors"
   ]
  },
  {
   "cell_type": "code",
   "execution_count": 39,
   "metadata": {},
   "outputs": [
    {
     "name": "stdout",
     "output_type": "stream",
     "text": [
      "done in 0.002s\n",
      "KNeighborsClassifier Scores:\n",
      "\n",
      "Accuracy of data already seen: 0.9298\n",
      "Accuracy of data not seen: 0.8854\n",
      "F1 score: 0.8889\n",
      "False Negatives: 5\n"
     ]
    }
   ],
   "source": [
    "from sklearn.neighbors import KNeighborsClassifier\n",
    "t0 = time()\n",
    "knn_clf = KNeighborsClassifier(n_jobs=-1,leaf_size=100)\n",
    "knn_clf.fit(train_feats, train_labels)\n",
    "print(\"done in %0.3fs\" % (time() - t0))\n",
    "score_dict = scoring(score_dict,train_feats,train_labels,test_feats,test_labels,knn_clf)"
   ]
  },
  {
   "cell_type": "markdown",
   "metadata": {},
   "source": [
    "#### NearestCentroid"
   ]
  },
  {
   "cell_type": "code",
   "execution_count": 40,
   "metadata": {},
   "outputs": [
    {
     "name": "stdout",
     "output_type": "stream",
     "text": [
      "done in 0.002s\n",
      "NearestCentroid Scores:\n",
      "\n",
      "Accuracy of data already seen: 0.9474\n",
      "Accuracy of data not seen: 0.9299\n",
      "F1 score: 0.9262\n",
      "False Negatives: 8\n"
     ]
    }
   ],
   "source": [
    "from sklearn.neighbors import NearestCentroid\n",
    "t0 = time()\n",
    "nc_clf = NearestCentroid()\n",
    "nc_clf.fit(train_feats, train_labels)\n",
    "print(\"done in %0.3fs\" % (time() - t0))\n",
    "score_dict = scoring(score_dict,train_feats,train_labels,test_feats,test_labels,nc_clf)"
   ]
  },
  {
   "cell_type": "markdown",
   "metadata": {},
   "source": [
    "#### AdaBoost"
   ]
  },
  {
   "cell_type": "code",
   "execution_count": 41,
   "metadata": {},
   "outputs": [
    {
     "name": "stdout",
     "output_type": "stream",
     "text": [
      "done in 0.650s\n",
      "AdaBoostClassifier Scores:\n",
      "\n",
      "Accuracy of data already seen: 1.0000\n",
      "Accuracy of data not seen: 0.9172\n",
      "F1 score: 0.9116\n",
      "False Negatives: 10\n"
     ]
    }
   ],
   "source": [
    "from sklearn.ensemble import AdaBoostClassifier\n",
    "t0 = time()\n",
    "ab_clf = AdaBoostClassifier(n_estimators=100,random_state=7350)\n",
    "ab_clf.fit(train_feats, train_labels)\n",
    "print(\"done in %0.3fs\" % (time() - t0))\n",
    "score_dict = scoring(score_dict,train_feats,train_labels,test_feats,test_labels,ab_clf)"
   ]
  },
  {
   "cell_type": "markdown",
   "metadata": {},
   "source": [
    "#### QuadraticDiscriminantAnalysis"
   ]
  },
  {
   "cell_type": "code",
   "execution_count": 42,
   "metadata": {},
   "outputs": [
    {
     "name": "stdout",
     "output_type": "stream",
     "text": [
      "done in 0.010s\n",
      "QuadraticDiscriminantAnalysis Scores:\n",
      "\n",
      "Accuracy of data already seen: 0.9665\n",
      "Accuracy of data not seen: 0.9172\n",
      "F1 score: 0.9091\n",
      "False Negatives: 12\n"
     ]
    }
   ],
   "source": [
    "from sklearn.discriminant_analysis import QuadraticDiscriminantAnalysis\n",
    "t0 = time()\n",
    "qda_clf = QuadraticDiscriminantAnalysis()\n",
    "qda_clf.fit(train_feats, train_labels)\n",
    "print(\"done in %0.3fs\" % (time() - t0))\n",
    "score_dict = scoring(score_dict,train_feats,train_labels,test_feats,test_labels,qda_clf)"
   ]
  },
  {
   "cell_type": "markdown",
   "metadata": {},
   "source": [
    "#### GaussianProcessClassifier"
   ]
  },
  {
   "cell_type": "code",
   "execution_count": 43,
   "metadata": {},
   "outputs": [
    {
     "name": "stdout",
     "output_type": "stream",
     "text": [
      "done in 0.164s\n",
      "GaussianProcessClassifier Scores:\n",
      "\n",
      "Accuracy of data already seen: 0.9601\n",
      "Accuracy of data not seen: 0.9427\n",
      "F1 score: 0.9388\n",
      "False Negatives: 8\n"
     ]
    }
   ],
   "source": [
    "from sklearn.gaussian_process import GaussianProcessClassifier\n",
    "t0 = time()\n",
    "gp_clf = GaussianProcessClassifier(random_state=7350)\n",
    "gp_clf.fit(train_feats, train_labels)\n",
    "print(\"done in %0.3fs\" % (time() - t0))\n",
    "score_dict = scoring(score_dict,train_feats,train_labels,test_feats,test_labels,gp_clf)"
   ]
  },
  {
   "cell_type": "markdown",
   "metadata": {},
   "source": [
    "#### Decision Tree"
   ]
  },
  {
   "cell_type": "code",
   "execution_count": 44,
   "metadata": {},
   "outputs": [
    {
     "name": "stdout",
     "output_type": "stream",
     "text": [
      "done in 0.054s\n",
      "DecisionTreeClassifier Scores:\n",
      "\n",
      "Accuracy of data already seen: 1.0000\n",
      "Accuracy of data not seen: 0.8726\n",
      "F1 score: 0.8718\n",
      "False Negatives: 9\n"
     ]
    }
   ],
   "source": [
    "from sklearn.tree import DecisionTreeClassifier\n",
    "t0 = time()\n",
    "dt_clf = DecisionTreeClassifier(random_state=7350)\n",
    "dt_clf.fit(train_feats, train_labels)\n",
    "print(\"done in %0.3fs\" % (time() - t0))\n",
    "score_dict = scoring(score_dict,train_feats,train_labels,test_feats,test_labels,dt_clf)"
   ]
  },
  {
   "cell_type": "markdown",
   "metadata": {},
   "source": [
    "#### LogisticRegression"
   ]
  },
  {
   "cell_type": "code",
   "execution_count": 45,
   "metadata": {},
   "outputs": [
    {
     "name": "stdout",
     "output_type": "stream",
     "text": [
      "done in 0.007s\n",
      "LogisticRegression Scores:\n",
      "\n",
      "Accuracy of data already seen: 0.9569\n",
      "Accuracy of data not seen: 0.9363\n",
      "F1 score: 0.9324\n",
      "False Negatives: 8\n"
     ]
    }
   ],
   "source": [
    "from sklearn.linear_model import LogisticRegression\n",
    "t0 = time()\n",
    "lr_clf = LogisticRegression(random_state=7350)\n",
    "lr_clf.fit(train_feats, train_labels)\n",
    "print(\"done in %0.3fs\" % (time() - t0))\n",
    "score_dict = scoring(score_dict,train_feats,train_labels,test_feats,test_labels,lr_clf)"
   ]
  },
  {
   "cell_type": "markdown",
   "metadata": {},
   "source": [
    "#### PassiveAggressiveClassifier"
   ]
  },
  {
   "cell_type": "code",
   "execution_count": 46,
   "metadata": {
    "scrolled": true
   },
   "outputs": [
    {
     "name": "stdout",
     "output_type": "stream",
     "text": [
      "done in 0.005s\n",
      "PassiveAggressiveClassifier Scores:\n",
      "\n",
      "Accuracy of data already seen: 0.9585\n",
      "Accuracy of data not seen: 0.9299\n",
      "F1 score: 0.9241\n",
      "False Negatives: 10\n"
     ]
    },
    {
     "name": "stderr",
     "output_type": "stream",
     "text": [
      "/usr/local/anaconda3/lib/python3.6/site-packages/sklearn/linear_model/stochastic_gradient.py:128: FutureWarning: max_iter and tol parameters have been added in <class 'sklearn.linear_model.passive_aggressive.PassiveAggressiveClassifier'> in 0.19. If both are left unset, they default to max_iter=5 and tol=None. If tol is not None, max_iter defaults to max_iter=1000. From 0.21, default max_iter will be 1000, and default tol will be 1e-3.\n",
      "  \"and default tol will be 1e-3.\" % type(self), FutureWarning)\n"
     ]
    }
   ],
   "source": [
    "from sklearn.linear_model import PassiveAggressiveClassifier\n",
    "t0 = time()\n",
    "pa_clf = PassiveAggressiveClassifier(n_jobs=-1,random_state=7350)\n",
    "pa_clf.fit(train_feats, train_labels)\n",
    "print(\"done in %0.3fs\" % (time() - t0))\n",
    "score_dict = scoring(score_dict,train_feats,train_labels,test_feats,test_labels,pa_clf)"
   ]
  },
  {
   "cell_type": "markdown",
   "metadata": {},
   "source": [
    "#### RidgeClassifier"
   ]
  },
  {
   "cell_type": "code",
   "execution_count": 47,
   "metadata": {},
   "outputs": [
    {
     "name": "stdout",
     "output_type": "stream",
     "text": [
      "done in 0.011s\n",
      "RidgeClassifier Scores:\n",
      "\n",
      "Accuracy of data already seen: 0.9569\n",
      "Accuracy of data not seen: 0.9554\n",
      "F1 score: 0.9536\n",
      "False Negatives: 5\n"
     ]
    }
   ],
   "source": [
    "from sklearn.linear_model import RidgeClassifier\n",
    "t0 = time()\n",
    "rd_clf = RidgeClassifier(random_state=7350)\n",
    "rd_clf.fit(train_feats, train_labels)\n",
    "print(\"done in %0.3fs\" % (time() - t0))\n",
    "score_dict = scoring(score_dict,train_feats,train_labels,test_feats,test_labels,rd_clf)"
   ]
  },
  {
   "cell_type": "markdown",
   "metadata": {},
   "source": [
    "#### SGDClassifier"
   ]
  },
  {
   "cell_type": "code",
   "execution_count": 48,
   "metadata": {},
   "outputs": [
    {
     "name": "stdout",
     "output_type": "stream",
     "text": [
      "done in 0.004s\n",
      "SGDClassifier Scores:\n",
      "\n",
      "Accuracy of data already seen: 0.9649\n",
      "Accuracy of data not seen: 0.9363\n",
      "F1 score: 0.9324\n",
      "False Negatives: 8\n"
     ]
    },
    {
     "name": "stderr",
     "output_type": "stream",
     "text": [
      "/usr/local/anaconda3/lib/python3.6/site-packages/sklearn/linear_model/stochastic_gradient.py:128: FutureWarning: max_iter and tol parameters have been added in <class 'sklearn.linear_model.stochastic_gradient.SGDClassifier'> in 0.19. If both are left unset, they default to max_iter=5 and tol=None. If tol is not None, max_iter defaults to max_iter=1000. From 0.21, default max_iter will be 1000, and default tol will be 1e-3.\n",
      "  \"and default tol will be 1e-3.\" % type(self), FutureWarning)\n"
     ]
    }
   ],
   "source": [
    "from sklearn.linear_model import SGDClassifier\n",
    "t0 = time()\n",
    "sgd_clf = SGDClassifier(random_state=7350)\n",
    "sgd_clf.fit(train_feats, train_labels)\n",
    "print(\"done in %0.3fs\" % (time() - t0))\n",
    "score_dict = scoring(score_dict,train_feats,train_labels,test_feats,test_labels,sgd_clf)"
   ]
  },
  {
   "cell_type": "markdown",
   "metadata": {},
   "source": [
    "#### CalibratedClassifierCV"
   ]
  },
  {
   "cell_type": "code",
   "execution_count": 49,
   "metadata": {},
   "outputs": [
    {
     "name": "stdout",
     "output_type": "stream",
     "text": [
      "done in 0.033s\n",
      "CalibratedClassifierCV Scores:\n",
      "\n",
      "Accuracy of data already seen: 0.9617\n",
      "Accuracy of data not seen: 0.9490\n",
      "F1 score: 0.9474\n",
      "False Negatives: 5\n"
     ]
    }
   ],
   "source": [
    "from sklearn.calibration import CalibratedClassifierCV\n",
    "t0 = time()\n",
    "cc_clf = CalibratedClassifierCV()\n",
    "cc_clf.fit(train_feats, train_labels)\n",
    "print(\"done in %0.3fs\" % (time() - t0))\n",
    "score_dict = scoring(score_dict,train_feats,train_labels,test_feats,test_labels,cc_clf)"
   ]
  },
  {
   "cell_type": "markdown",
   "metadata": {},
   "source": [
    "#### BaggingClassifier"
   ]
  },
  {
   "cell_type": "code",
   "execution_count": 50,
   "metadata": {},
   "outputs": [
    {
     "name": "stdout",
     "output_type": "stream",
     "text": [
      "done in 1.048s\n",
      "BaggingClassifier Scores:\n",
      "\n",
      "Accuracy of data already seen: 1.0000\n",
      "Accuracy of data not seen: 0.8854\n",
      "F1 score: 0.8831\n",
      "False Negatives: 9\n"
     ]
    }
   ],
   "source": [
    "from sklearn.ensemble import BaggingClassifier\n",
    "t0 = time()\n",
    "bg_clf = BaggingClassifier(n_jobs=-1,n_estimators=100,random_state=7350)\n",
    "bg_clf.fit(train_feats, train_labels)\n",
    "print(\"done in %0.3fs\" % (time() - t0))\n",
    "score_dict = scoring(score_dict,train_feats,train_labels,test_feats,test_labels,bg_clf)"
   ]
  },
  {
   "cell_type": "markdown",
   "metadata": {},
   "source": [
    "#### VotingClassifier"
   ]
  },
  {
   "cell_type": "code",
   "execution_count": 62,
   "metadata": {},
   "outputs": [
    {
     "name": "stdout",
     "output_type": "stream",
     "text": [
      "done in 0.044s\n"
     ]
    }
   ],
   "source": [
    "from sklearn.ensemble import VotingClassifier\n",
    "t0 = time()\n",
    "vt_clf = VotingClassifier(estimators=[\n",
    "#    ('nn',nn_clf),\n",
    "#     ('nb',nb_clf),\n",
    "#     ('et',et_clf),\n",
    "#     ('sgd',sgd_clf),\n",
    "     ('svm',svm_clf),\n",
    "#     ('lr',lr_clf),\n",
    "#      ('nc',nc_clf),\n",
    "#      ('knn',knn_clf),\n",
    "     ('cc',cc_clf),\n",
    "    ('rd',rd_clf),\n",
    "#      ('qda',qda_clf),\n",
    "#     ('pa',pa_clf),\n",
    "#     ('gb',gb_clf),\n",
    "])\n",
    "vt_clf.fit(train_feats, train_labels)\n",
    "print(\"done in %0.3fs\" % (time() - t0))"
   ]
  },
  {
   "cell_type": "code",
   "execution_count": 63,
   "metadata": {},
   "outputs": [
    {
     "name": "stdout",
     "output_type": "stream",
     "text": [
      "VotingClassifier Scores:\n",
      "\n",
      "Accuracy of data already seen: 0.9617\n",
      "Accuracy of data not seen: 0.9554\n",
      "F1 score: 0.9536\n",
      "False Negatives: 5\n"
     ]
    },
    {
     "name": "stderr",
     "output_type": "stream",
     "text": [
      "/usr/local/anaconda3/lib/python3.6/site-packages/sklearn/preprocessing/label.py:151: DeprecationWarning: The truth value of an empty array is ambiguous. Returning False, but in future this will result in an error. Use `array.size > 0` to check that an array is not empty.\n",
      "  if diff:\n",
      "/usr/local/anaconda3/lib/python3.6/site-packages/sklearn/preprocessing/label.py:151: DeprecationWarning: The truth value of an empty array is ambiguous. Returning False, but in future this will result in an error. Use `array.size > 0` to check that an array is not empty.\n",
      "  if diff:\n",
      "/usr/local/anaconda3/lib/python3.6/site-packages/sklearn/preprocessing/label.py:151: DeprecationWarning: The truth value of an empty array is ambiguous. Returning False, but in future this will result in an error. Use `array.size > 0` to check that an array is not empty.\n",
      "  if diff:\n"
     ]
    }
   ],
   "source": [
    "already_seen = vt_clf.score(train_feats, train_labels)\n",
    "accuracy = vt_clf.score(test_feats, test_labels)\n",
    "vt_pred = vt_clf.predict(test_feats)\n",
    "f1 = f1_score(test_labels, vt_pred, pos_label='investigate')\n",
    "cnf_matrix = confusion_matrix(test_labels, vt_pred)\n",
    "FN = cnf_matrix[1][0]\n",
    "false_negative = cnf_matrix[1][0]\n",
    "print('VotingClassifier Scores:\\n')\n",
    "print('Accuracy of data already seen: %0.4f' % already_seen)\n",
    "print('Accuracy of data not seen: %0.4f' % accuracy)\n",
    "print('F1 score: %0.4f' % f1)\n",
    "print('False Negatives: %0d' % FN)"
   ]
  },
  {
   "cell_type": "markdown",
   "metadata": {},
   "source": [
    "#### Best Classifier Scores"
   ]
  },
  {
   "cell_type": "code",
   "execution_count": 53,
   "metadata": {},
   "outputs": [
    {
     "name": "stdout",
     "output_type": "stream",
     "text": [
      "Best Accuracy:\n",
      "\n",
      "RidgeClassifier: 0.9554\n",
      "LinearSVC: 0.9490\n",
      "CalibratedClassifierCV: 0.9490\n",
      "\n",
      "\n",
      "Best F1 Score:\n",
      "\n",
      "RidgeClassifier: 0.9536\n",
      "CalibratedClassifierCV: 0.9474\n",
      "LinearSVC: 0.9467\n",
      "\n",
      "\n",
      "Best False Negative Classifier:\n",
      "\n",
      "XGBClassifier: 5\n",
      "KNeighborsClassifier: 5\n",
      "RidgeClassifier: 5\n"
     ]
    }
   ],
   "source": [
    "print('Best Accuracy:\\n')\n",
    "for i in [\n",
    "    '%s: %0.4f' % (k,v)\n",
    "    for k,v in sorted(score_dict['accuracy'], key=lambda tup: tup[1], reverse=True)\n",
    "    ][:3]:\n",
    "    print(i)\n",
    "print('\\n\\nBest F1 Score:\\n')\n",
    "for i in [\n",
    "    '%s: %0.4f' % (k,v)\n",
    "    for k,v in sorted(score_dict['f1'], key=lambda tup: tup[1], reverse=True)\n",
    "    ][:3]:\n",
    "    print(i)\n",
    "print('\\n\\nBest False Negative Classifier:\\n')\n",
    "for i in [\n",
    "    '%s: %i' % (k,v)\n",
    "    for k,v in sorted(score_dict['FN'], key=lambda tup: tup[1])\n",
    "    ][:3]:\n",
    "    print(i)"
   ]
  },
  {
   "cell_type": "markdown",
   "metadata": {},
   "source": [
    "#### Confusion Matrix and ROC curves of Top Algos"
   ]
  },
  {
   "cell_type": "code",
   "execution_count": 54,
   "metadata": {},
   "outputs": [],
   "source": [
    "#http://scikit-learn.org/stable/auto_examples/model_selection/plot_confusion_matrix.html\n",
    "def plot_confusion_matrix(cm, classes,\n",
    "                          normalize=False,\n",
    "                          title='Confusion matrix',\n",
    "                          cmap=plt.cm.Blues):\n",
    "    \"\"\"\n",
    "    This function prints and plots the confusion matrix.\n",
    "    Normalization can be applied by setting `normalize=True`.\n",
    "    \"\"\"\n",
    "    plt.imshow(cm, interpolation='nearest', cmap=cmap)\n",
    "    plt.title(title)\n",
    "    plt.colorbar()\n",
    "    tick_marks = np.arange(len(classes))\n",
    "    plt.xticks(tick_marks, classes, rotation=45)\n",
    "    plt.yticks(tick_marks, classes)\n",
    "\n",
    "    #fmt = '.2f' if normalize else 'd'\n",
    "    thresh = cm.max() / 2.\n",
    "    for i, j in product(range(cm.shape[0]), range(cm.shape[1])):\n",
    "        plt.text(j, i, format(cm[i, j], 'd'),\n",
    "                 horizontalalignment=\"center\",\n",
    "                 color=\"white\" if cm[i, j] > thresh else \"black\")\n",
    "\n",
    "    plt.tight_layout()\n",
    "    plt.ylabel('True label')\n",
    "    plt.xlabel('Predicted label')"
   ]
  },
  {
   "cell_type": "code",
   "execution_count": 55,
   "metadata": {},
   "outputs": [],
   "source": [
    "def display_conf_mat(clf,test_feats,test_labels):\n",
    "    clf_name = re.findall('(^[^\\(]+)\\(',str(clf))[0]\n",
    "    pred = clf.predict(test_feats)\n",
    "    cnf_matrix = confusion_matrix(test_labels, pred)\n",
    "    np.set_printoptions(precision=2)\n",
    "    plt.figure(figsize=(5, 4))\n",
    "    plot_confusion_matrix(cnf_matrix, classes=['ignore','investigate'],\n",
    "                          title=clf_name + ' Confusion matrix')\n",
    "    plt.show()"
   ]
  },
  {
   "cell_type": "code",
   "execution_count": 56,
   "metadata": {},
   "outputs": [],
   "source": [
    "#https://datamize.wordpress.com/2015/01/24/how-to-plot-a-roc-curve-in-scikit-learn/\n",
    "#https://plot.ly/scikit-learn/plot-roc/\n",
    "def plot_roc_curve(clf,test_feats,test_labels):\n",
    "    clf_name = re.findall('(^[^\\(]+)\\(',str(clf))[0]\n",
    "    # Binarize the output\n",
    "    pred = clf.predict(test_feats)\n",
    "    test_labels_bin = label_binarize(test_labels, classes=['ignore','investigate'])\n",
    "    pred_bin = label_binarize(pred, classes=['ignore','investigate'])\n",
    "    false_positive_rate, true_positive_rate, thresholds = roc_curve(test_labels_bin, pred_bin)\n",
    "    roc_auc = auc(false_positive_rate, true_positive_rate)\n",
    "    plt.title(clf_name + ' Receiver Operating Characteristic')\n",
    "    plt.plot(false_positive_rate, true_positive_rate, 'b',\n",
    "        label='AUC = %0.2f'% roc_auc)\n",
    "    plt.legend(loc='lower right')\n",
    "    plt.plot([0,1],[0,1],'r--')\n",
    "    plt.ylabel('True Positive Rate')\n",
    "    plt.xlabel('False Positive Rate')\n",
    "    plt.show()"
   ]
  },
  {
   "cell_type": "code",
   "execution_count": 57,
   "metadata": {},
   "outputs": [
    {
     "data": {
      "image/png": "[encoded data removed]",
      "text/plain": [
       "<matplotlib.figure.Figure at 0x10d7f0f60>"
      ]
     },
     "metadata": {},
     "output_type": "display_data"
    },
    {
     "data": {
      "image/png": "[encoded data removed]",
      "text/plain": [
       "<matplotlib.figure.Figure at 0x114370c88>"
      ]
     },
     "metadata": {},
     "output_type": "display_data"
    }
   ],
   "source": [
    "display_conf_mat(rd_clf,test_feats,test_labels)\n",
    "plot_roc_curve(rd_clf,test_feats,test_labels)"
   ]
  },
  {
   "cell_type": "code",
   "execution_count": 64,
   "metadata": {},
   "outputs": [
    {
     "data": {
      "image/png": "[encoded data removed]",
      "text/plain": [
       "<matplotlib.figure.Figure at 0x10d790710>"
      ]
     },
     "metadata": {},
     "output_type": "display_data"
    },
    {
     "data": {
      "image/png": "[encoded data removed]",
      "text/plain": [
       "<matplotlib.figure.Figure at 0x112f423c8>"
      ]
     },
     "metadata": {},
     "output_type": "display_data"
    }
   ],
   "source": [
    "display_conf_mat(svm_clf,test_feats,test_labels)\n",
    "plot_roc_curve(svm_clf,test_feats,test_labels)"
   ]
  },
  {
   "cell_type": "code",
   "execution_count": 65,
   "metadata": {},
   "outputs": [
    {
     "data": {
      "image/png": "[encoded data removed]",
      "text/plain": [
       "<matplotlib.figure.Figure at 0x1120b77b8>"
      ]
     },
     "metadata": {},
     "output_type": "display_data"
    },
    {
     "data": {
      "image/png": "[encoded data removed]",
      "text/plain": [
       "<matplotlib.figure.Figure at 0x11289b4e0>"
      ]
     },
     "metadata": {},
     "output_type": "display_data"
    }
   ],
   "source": [
    "display_conf_mat(cc_clf,test_feats,test_labels)\n",
    "plot_roc_curve(cc_clf,test_feats,test_labels)"
   ]
  },
  {
   "cell_type": "code",
   "execution_count": null,
   "metadata": {},
   "outputs": [],
   "source": []
  }
 ],
 "metadata": {
  "kernelspec": {
   "display_name": "Python 3",
   "language": "python",
   "name": "python3"
  },
  "language_info": {
   "codemirror_mode": {
    "name": "ipython",
    "version": 3
   },
   "file_extension": ".py",
   "mimetype": "text/x-python",
   "name": "python",
   "nbconvert_exporter": "python",
   "pygments_lexer": "ipython3",
   "version": "3.6.4"
  }
 },
 "nbformat": 4,
 "nbformat_minor": 2
}
