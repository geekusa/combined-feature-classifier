{
 "cells": [
  {
   "cell_type": "code",
   "execution_count": 1,
   "metadata": {},
   "outputs": [],
   "source": [
    "import email\n",
    "import os\n",
    "import re\n",
    "import hashlib\n",
    "import quopri"
   ]
  },
  {
   "cell_type": "code",
   "execution_count": 2,
   "metadata": {},
   "outputs": [],
   "source": [
    "INPUT_DIR = '/Users/worshamn/Documents/emailProject/Investigate'\n",
    "OUTPUT_DIR = '/Users/worshamn/Documents/emailProject/InvestigateFix'"
   ]
  },
  {
   "cell_type": "code",
   "execution_count": 3,
   "metadata": {},
   "outputs": [],
   "source": [
    "def find_message_attachment(mail):\n",
    "    if mail.is_multipart():\n",
    "        for i in mail.get_payload():\n",
    "            try:\n",
    "                if i.get_content_maintype() == 'message':\n",
    "                    return i.get_payload()[0]\n",
    "            except:\n",
    "                continue"
   ]
  },
  {
   "cell_type": "code",
   "execution_count": 4,
   "metadata": {},
   "outputs": [],
   "source": [
    "#https://github.com/ActiveState/code/blob/master/recipes/Python/302086_Strip_attachments_email/recipe-302086.py\n",
    "#https://github.com/xme/mime2vt/blob/master/mime2vt.py\n",
    "#https://stackoverflow.com/a/370038\n",
    "def strip_attachments(message):\n",
    "    if not message.is_multipart():\n",
    "        reformatted_message = quopri.decodestring(\n",
    "                                message.as_string().encode('ascii', 'ignore')\n",
    "                            ).decode(\"utf-8\",'ignore')\n",
    "        return reformatted_message\n",
    "    boundary = message.get_boundary()\n",
    "    new_payload = '--' + boundary\n",
    "    for i in message.get_payload():\n",
    "        if i.get_content_maintype() == 'message':\n",
    "            return strip_attachements(i)\n",
    "        elif i.get_content_maintype() == 'text' \\\n",
    "                or i.get_content_maintype() == 'multipart':\n",
    "            text_content = i.as_string().encode('ascii', 'ignore')\n",
    "            text_content = quopri.decodestring(text_content).decode(\"utf-8\",'ignore')\n",
    "            new_payload += '\\n' + text_content\n",
    "        else:\n",
    "            replace = re.sub(r'(?:\\n\\n)[\\s\\S]+',r'\\n\\nREMOVED ATTACHMENT',i.as_string())\n",
    "            content_type = i.get_content_type()\n",
    "            filename = i.get_filename()\n",
    "            charset = i.get_content_charset()\n",
    "            md5 = hashlib.md5(i.get_payload(None,True)).hexdigest()\n",
    "            sha256 = hashlib.sha256(i.get_payload(None,True)).hexdigest()\n",
    "            replace_string = \"\"\"\n",
    "content_type=%(content_type)s\n",
    "filename=%(filename)s\n",
    "charset=%(charset)s\n",
    "md5=%(md5)s\n",
    "sha256=%(sha256)s\n",
    "\"\"\"\n",
    "            metadata = replace_string % dict(\n",
    "                content_type=content_type, \n",
    "                filename=filename, \n",
    "                charset=charset,\n",
    "                md5=md5,\n",
    "                sha256=sha256,\n",
    "            )\n",
    "            new_payload += '\\n' \\\n",
    "                + replace \\\n",
    "                + metadata\n",
    "        new_payload += '\\n--' + boundary\n",
    "    new_payload += '--'\n",
    "    message.set_payload(new_payload)\n",
    "    return message.as_string()"
   ]
  },
  {
   "cell_type": "code",
   "execution_count": 5,
   "metadata": {},
   "outputs": [],
   "source": [
    "def clean_move(input_dir=INPUT_DIR, output_dir=OUTPUT_DIR):\n",
    "    for i in os.listdir(input_dir):\n",
    "            f = os.path.join(input_dir, i)\n",
    "            with open(f,'r',encoding='utf-8', errors='ignore') as raw_mail:\n",
    "                mail = email.message_from_file(raw_mail)\n",
    "                mail = find_message_attachment(mail)\n",
    "                if mail:\n",
    "                    mail = strip_attachments(mail)\n",
    "                    with open(os.path.join(output_dir, i),'w') as out:\n",
    "                        out.write(mail)\n",
    "                else:\n",
    "                    print(i)        "
   ]
  },
  {
   "cell_type": "code",
   "execution_count": 6,
   "metadata": {},
   "outputs": [
    {
     "name": "stdout",
     "output_type": "stream",
     "text": [
      "FW- Remittance #49170.eml\n",
      "[Phish Alert] FW- Compass review.eml\n",
      "[Phish Alert] FW- Thursday[3].eml\n",
      "[Phish Alert] FW- Mark D. Goodman Sent you an important document..[1].eml\n",
      "[Phish Alert] FW- Important document.eml\n",
      "[Phish Alert] FW- Compass review[2].eml\n",
      "[Phish Alert] FW- Mark D. Goodman Sent you an important document...eml\n",
      ".DS_Store\n",
      "[Phish Alert] FW- SystemForward America, Inc..eml\n",
      "[Phish Alert] FW- Capitoline Consulting, LLC.eml\n",
      "[Phish Alert] FW- Transfer Done[1].eml\n",
      "[Phish Alert] FW- Thursday[2].eml\n",
      "[Phish Alert] FW- Report[1].eml\n",
      "[Phish Alert] FW- Thursday[9].eml\n",
      "[Phish Alert] FW- Patty.Satanton shared a document with you via Dropbox.eml\n",
      "[Phish Alert] FW- C2c-443655[1].eml\n",
      "[Phish Alert] FW- PDF DOC.eml\n",
      "[Phish Alert] FW- Thursday.eml\n",
      "[Phish Alert] FW- Thursday[5].eml\n",
      "[Phish Alert] FW- Thursday[4].eml\n",
      "[Phish Alert] FW- YOUR IMMEDIATE ACTION IS REQUIRED.eml\n",
      "[Phish Alert] FW- PO#6776.eml\n",
      "[Phish Alert] FW- See file.eml\n",
      "[Phish Alert] FW- Please Check.eml\n",
      "[Phish Alert] FW- Thursday[8].eml\n",
      "Fwd- pinnacol.com accounting statements.eml\n",
      "[Phish Alert] FW- Please Check[1].eml\n",
      "[Phish Alert] FW- Wishing you a very merry Christmas and a happy New Year!.eml\n",
      "[Phish Alert] FW- re attn-.eml\n",
      "[Phish Alert] FW- Shared File.eml\n",
      "[Phish Alert] FW- Thursday[7].eml\n",
      "[Phish Alert] FW- _(_All-Pro Electric,_proposal_)_.eml\n",
      "[Phish Alert] FW- Thursday[11].eml\n",
      "[Phish Alert] FW- Thursday[10].eml\n",
      "[Phish Alert] FW- Report.eml\n",
      "[Phish Alert] FW- C2c-443655[2].eml\n",
      "[Phish Alert] FW- Radianlightingservices Review.[1].eml\n",
      "[Phish Alert] FW- Urgent Doc.eml\n",
      "[Phish Alert] FW- Thursday[6].eml\n",
      "[Phish Alert] FW- brenda lintzy via Onedrive.eml\n",
      "[Phish Alert] FW- Info.eml\n",
      "[Phish Alert] FW- Thursday[1].eml\n",
      "[Phish Alert] FW- Compass review[1].eml\n",
      "[Phish Alert] FW- Transfer Done[2].eml\n",
      "[Phish Alert] FW- Urgent Doc[2].eml\n",
      "[Phish Alert] FW- Brenda Lantzy shared files.eml\n",
      "[Phish Alert] FW- Transfer Done[3].eml\n",
      "[Phish Alert] FW- Mark D. Goodman Sent you an important document..[2].eml\n",
      "[Phish Alert] FW- You have received a Dropbox.eml\n",
      "[Phish Alert] FW- Important Document .eml\n",
      "[Phish Alert] FW- Info[1].eml\n",
      "[Phish Alert] FW- PDF ATTACHED.eml\n",
      "[Phish Alert] FW- _(_All-Pro Electric,_proposal_)_[1].eml\n",
      "[Phish Alert] FW- Delivery #617, Sorry we missed you!!.eml\n"
     ]
    }
   ],
   "source": [
    "clean_move()"
   ]
  },
  {
   "cell_type": "code",
   "execution_count": 7,
   "metadata": {},
   "outputs": [
    {
     "data": {
      "text/plain": [
       "534"
      ]
     },
     "execution_count": 7,
     "metadata": {},
     "output_type": "execute_result"
    }
   ],
   "source": [
    "len(os.listdir(INPUT_DIR))"
   ]
  },
  {
   "cell_type": "code",
   "execution_count": 8,
   "metadata": {},
   "outputs": [
    {
     "data": {
      "text/plain": [
       "480"
      ]
     },
     "execution_count": 8,
     "metadata": {},
     "output_type": "execute_result"
    }
   ],
   "source": [
    "len(os.listdir(OUTPUT_DIR))"
   ]
  },
  {
   "cell_type": "code",
   "execution_count": null,
   "metadata": {},
   "outputs": [],
   "source": []
  }
 ],
 "metadata": {
  "kernelspec": {
   "display_name": "Python 3",
   "language": "python",
   "name": "python3"
  },
  "language_info": {
   "codemirror_mode": {
    "name": "ipython",
    "version": 3
   },
   "file_extension": ".py",
   "mimetype": "text/x-python",
   "name": "python",
   "nbconvert_exporter": "python",
   "pygments_lexer": "ipython3",
   "version": "3.6.4"
  }
 },
 "nbformat": 4,
 "nbformat_minor": 2
}
